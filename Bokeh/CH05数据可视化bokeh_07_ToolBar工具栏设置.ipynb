{
 "cells": [
  {
   "cell_type": "code",
   "execution_count": 1,
   "metadata": {},
   "outputs": [
    {
     "data": {
      "text/plain": [
       "'\\n【课程5.8】 ToolBar工具栏设置\\n\\n① 位置设置\\n② 移动、放大缩小、存储、刷新\\n③ 选择\\n④ 提示框、十字线\\n\\n'"
      ]
     },
     "execution_count": 1,
     "metadata": {},
     "output_type": "execute_result"
    }
   ],
   "source": [
    "'''\n",
    "【课程5.8】 ToolBar工具栏设置\n",
    "\n",
    "① 位置设置\n",
    "② 移动、放大缩小、存储、刷新\n",
    "③ 选择\n",
    "④ 提示框、十字线\n",
    "\n",
    "'''"
   ]
  },
  {
   "cell_type": "code",
   "execution_count": 2,
   "metadata": {},
   "outputs": [
    {
     "data": {
      "text/html": [
       "\n",
       "    <div class=\"bk-root\">\n",
       "        <a href=\"https://bokeh.pydata.org\" target=\"_blank\" class=\"bk-logo bk-logo-small bk-logo-notebook\"></a>\n",
       "        <span id=\"fba838ed-df95-45f1-a3f7-ea99aafcc8c2\">Loading BokehJS ...</span>\n",
       "    </div>"
      ]
     },
     "metadata": {},
     "output_type": "display_data"
    },
    {
     "data": {
      "application/javascript": [
       "\n",
       "(function(root) {\n",
       "  function now() {\n",
       "    return new Date();\n",
       "  }\n",
       "\n",
       "  var force = true;\n",
       "\n",
       "  if (typeof (root._bokeh_onload_callbacks) === \"undefined\" || force === true) {\n",
       "    root._bokeh_onload_callbacks = [];\n",
       "    root._bokeh_is_loading = undefined;\n",
       "  }\n",
       "\n",
       "  var JS_MIME_TYPE = 'application/javascript';\n",
       "  var HTML_MIME_TYPE = 'text/html';\n",
       "  var EXEC_MIME_TYPE = 'application/vnd.bokehjs_exec.v0+json';\n",
       "  var CLASS_NAME = 'output_bokeh rendered_html';\n",
       "\n",
       "  /**\n",
       "   * Render data to the DOM node\n",
       "   */\n",
       "  function render(props, node) {\n",
       "    var script = document.createElement(\"script\");\n",
       "    node.appendChild(script);\n",
       "  }\n",
       "\n",
       "  /**\n",
       "   * Handle when an output is cleared or removed\n",
       "   */\n",
       "  function handleClearOutput(event, handle) {\n",
       "    var cell = handle.cell;\n",
       "\n",
       "    var id = cell.output_area._bokeh_element_id;\n",
       "    var server_id = cell.output_area._bokeh_server_id;\n",
       "    // Clean up Bokeh references\n",
       "    if (id !== undefined) {\n",
       "      Bokeh.index[id].model.document.clear();\n",
       "      delete Bokeh.index[id];\n",
       "    }\n",
       "\n",
       "    if (server_id !== undefined) {\n",
       "      // Clean up Bokeh references\n",
       "      var cmd = \"from bokeh.io.state import curstate; print(curstate().uuid_to_server['\" + server_id + \"'].get_sessions()[0].document.roots[0]._id)\";\n",
       "      cell.notebook.kernel.execute(cmd, {\n",
       "        iopub: {\n",
       "          output: function(msg) {\n",
       "            var element_id = msg.content.text.trim();\n",
       "            Bokeh.index[element_id].model.document.clear();\n",
       "            delete Bokeh.index[element_id];\n",
       "          }\n",
       "        }\n",
       "      });\n",
       "      // Destroy server and session\n",
       "      var cmd = \"import bokeh.io.notebook as ion; ion.destroy_server('\" + server_id + \"')\";\n",
       "      cell.notebook.kernel.execute(cmd);\n",
       "    }\n",
       "  }\n",
       "\n",
       "  /**\n",
       "   * Handle when a new output is added\n",
       "   */\n",
       "  function handleAddOutput(event, handle) {\n",
       "    var output_area = handle.output_area;\n",
       "    var output = handle.output;\n",
       "\n",
       "    // limit handleAddOutput to display_data with EXEC_MIME_TYPE content only\n",
       "    if ((output.output_type != \"display_data\") || (!output.data.hasOwnProperty(EXEC_MIME_TYPE))) {\n",
       "      return\n",
       "    }\n",
       "\n",
       "    var toinsert = output_area.element.find(`.${CLASS_NAME.split(' ')[0]}`);\n",
       "\n",
       "    if (output.metadata[EXEC_MIME_TYPE][\"id\"] !== undefined) {\n",
       "      toinsert[0].firstChild.textContent = output.data[JS_MIME_TYPE];\n",
       "      // store reference to embed id on output_area\n",
       "      output_area._bokeh_element_id = output.metadata[EXEC_MIME_TYPE][\"id\"];\n",
       "    }\n",
       "    if (output.metadata[EXEC_MIME_TYPE][\"server_id\"] !== undefined) {\n",
       "      var bk_div = document.createElement(\"div\");\n",
       "      bk_div.innerHTML = output.data[HTML_MIME_TYPE];\n",
       "      var script_attrs = bk_div.children[0].attributes;\n",
       "      for (var i = 0; i < script_attrs.length; i++) {\n",
       "        toinsert[0].firstChild.setAttribute(script_attrs[i].name, script_attrs[i].value);\n",
       "      }\n",
       "      // store reference to server id on output_area\n",
       "      output_area._bokeh_server_id = output.metadata[EXEC_MIME_TYPE][\"server_id\"];\n",
       "    }\n",
       "  }\n",
       "\n",
       "  function register_renderer(events, OutputArea) {\n",
       "\n",
       "    function append_mime(data, metadata, element) {\n",
       "      // create a DOM node to render to\n",
       "      var toinsert = this.create_output_subarea(\n",
       "        metadata,\n",
       "        CLASS_NAME,\n",
       "        EXEC_MIME_TYPE\n",
       "      );\n",
       "      this.keyboard_manager.register_events(toinsert);\n",
       "      // Render to node\n",
       "      var props = {data: data, metadata: metadata[EXEC_MIME_TYPE]};\n",
       "      render(props, toinsert[0]);\n",
       "      element.append(toinsert);\n",
       "      return toinsert\n",
       "    }\n",
       "\n",
       "    /* Handle when an output is cleared or removed */\n",
       "    events.on('clear_output.CodeCell', handleClearOutput);\n",
       "    events.on('delete.Cell', handleClearOutput);\n",
       "\n",
       "    /* Handle when a new output is added */\n",
       "    events.on('output_added.OutputArea', handleAddOutput);\n",
       "\n",
       "    /**\n",
       "     * Register the mime type and append_mime function with output_area\n",
       "     */\n",
       "    OutputArea.prototype.register_mime_type(EXEC_MIME_TYPE, append_mime, {\n",
       "      /* Is output safe? */\n",
       "      safe: true,\n",
       "      /* Index of renderer in `output_area.display_order` */\n",
       "      index: 0\n",
       "    });\n",
       "  }\n",
       "\n",
       "  // register the mime type if in Jupyter Notebook environment and previously unregistered\n",
       "  if (root.Jupyter !== undefined) {\n",
       "    var events = require('base/js/events');\n",
       "    var OutputArea = require('notebook/js/outputarea').OutputArea;\n",
       "\n",
       "    if (OutputArea.prototype.mime_types().indexOf(EXEC_MIME_TYPE) == -1) {\n",
       "      register_renderer(events, OutputArea);\n",
       "    }\n",
       "  }\n",
       "\n",
       "  \n",
       "  if (typeof (root._bokeh_timeout) === \"undefined\" || force === true) {\n",
       "    root._bokeh_timeout = Date.now() + 5000;\n",
       "    root._bokeh_failed_load = false;\n",
       "  }\n",
       "\n",
       "  var NB_LOAD_WARNING = {'data': {'text/html':\n",
       "     \"<div style='background-color: #fdd'>\\n\"+\n",
       "     \"<p>\\n\"+\n",
       "     \"BokehJS does not appear to have successfully loaded. If loading BokehJS from CDN, this \\n\"+\n",
       "     \"may be due to a slow or bad network connection. Possible fixes:\\n\"+\n",
       "     \"</p>\\n\"+\n",
       "     \"<ul>\\n\"+\n",
       "     \"<li>re-rerun `output_notebook()` to attempt to load from CDN again, or</li>\\n\"+\n",
       "     \"<li>use INLINE resources instead, as so:</li>\\n\"+\n",
       "     \"</ul>\\n\"+\n",
       "     \"<code>\\n\"+\n",
       "     \"from bokeh.resources import INLINE\\n\"+\n",
       "     \"output_notebook(resources=INLINE)\\n\"+\n",
       "     \"</code>\\n\"+\n",
       "     \"</div>\"}};\n",
       "\n",
       "  function display_loaded() {\n",
       "    var el = document.getElementById(\"fba838ed-df95-45f1-a3f7-ea99aafcc8c2\");\n",
       "    if (el != null) {\n",
       "      el.textContent = \"BokehJS is loading...\";\n",
       "    }\n",
       "    if (root.Bokeh !== undefined) {\n",
       "      if (el != null) {\n",
       "        el.textContent = \"BokehJS \" + root.Bokeh.version + \" successfully loaded.\";\n",
       "      }\n",
       "    } else if (Date.now() < root._bokeh_timeout) {\n",
       "      setTimeout(display_loaded, 100)\n",
       "    }\n",
       "  }\n",
       "\n",
       "\n",
       "  function run_callbacks() {\n",
       "    try {\n",
       "      root._bokeh_onload_callbacks.forEach(function(callback) { callback() });\n",
       "    }\n",
       "    finally {\n",
       "      delete root._bokeh_onload_callbacks\n",
       "    }\n",
       "    console.info(\"Bokeh: all callbacks have finished\");\n",
       "  }\n",
       "\n",
       "  function load_libs(js_urls, callback) {\n",
       "    root._bokeh_onload_callbacks.push(callback);\n",
       "    if (root._bokeh_is_loading > 0) {\n",
       "      console.log(\"Bokeh: BokehJS is being loaded, scheduling callback at\", now());\n",
       "      return null;\n",
       "    }\n",
       "    if (js_urls == null || js_urls.length === 0) {\n",
       "      run_callbacks();\n",
       "      return null;\n",
       "    }\n",
       "    console.log(\"Bokeh: BokehJS not loaded, scheduling load and callback at\", now());\n",
       "    root._bokeh_is_loading = js_urls.length;\n",
       "    for (var i = 0; i < js_urls.length; i++) {\n",
       "      var url = js_urls[i];\n",
       "      var s = document.createElement('script');\n",
       "      s.src = url;\n",
       "      s.async = false;\n",
       "      s.onreadystatechange = s.onload = function() {\n",
       "        root._bokeh_is_loading--;\n",
       "        if (root._bokeh_is_loading === 0) {\n",
       "          console.log(\"Bokeh: all BokehJS libraries loaded\");\n",
       "          run_callbacks()\n",
       "        }\n",
       "      };\n",
       "      s.onerror = function() {\n",
       "        console.warn(\"failed to load library \" + url);\n",
       "      };\n",
       "      console.log(\"Bokeh: injecting script tag for BokehJS library: \", url);\n",
       "      document.getElementsByTagName(\"head\")[0].appendChild(s);\n",
       "    }\n",
       "  };var element = document.getElementById(\"fba838ed-df95-45f1-a3f7-ea99aafcc8c2\");\n",
       "  if (element == null) {\n",
       "    console.log(\"Bokeh: ERROR: autoload.js configured with elementid 'fba838ed-df95-45f1-a3f7-ea99aafcc8c2' but no matching script tag was found. \")\n",
       "    return false;\n",
       "  }\n",
       "\n",
       "  var js_urls = [\"https://cdn.pydata.org/bokeh/release/bokeh-0.12.10.min.js\", \"https://cdn.pydata.org/bokeh/release/bokeh-widgets-0.12.10.min.js\", \"https://cdn.pydata.org/bokeh/release/bokeh-tables-0.12.10.min.js\", \"https://cdn.pydata.org/bokeh/release/bokeh-gl-0.12.10.min.js\"];\n",
       "\n",
       "  var inline_js = [\n",
       "    function(Bokeh) {\n",
       "      Bokeh.set_log_level(\"info\");\n",
       "    },\n",
       "    \n",
       "    function(Bokeh) {\n",
       "      \n",
       "    },\n",
       "    function(Bokeh) {\n",
       "      console.log(\"Bokeh: injecting CSS: https://cdn.pydata.org/bokeh/release/bokeh-0.12.10.min.css\");\n",
       "      Bokeh.embed.inject_css(\"https://cdn.pydata.org/bokeh/release/bokeh-0.12.10.min.css\");\n",
       "      console.log(\"Bokeh: injecting CSS: https://cdn.pydata.org/bokeh/release/bokeh-widgets-0.12.10.min.css\");\n",
       "      Bokeh.embed.inject_css(\"https://cdn.pydata.org/bokeh/release/bokeh-widgets-0.12.10.min.css\");\n",
       "      console.log(\"Bokeh: injecting CSS: https://cdn.pydata.org/bokeh/release/bokeh-tables-0.12.10.min.css\");\n",
       "      Bokeh.embed.inject_css(\"https://cdn.pydata.org/bokeh/release/bokeh-tables-0.12.10.min.css\");\n",
       "    }\n",
       "  ];\n",
       "\n",
       "  function run_inline_js() {\n",
       "    \n",
       "    if ((root.Bokeh !== undefined) || (force === true)) {\n",
       "      for (var i = 0; i < inline_js.length; i++) {\n",
       "        inline_js[i].call(root, root.Bokeh);\n",
       "      }if (force === true) {\n",
       "        display_loaded();\n",
       "      }} else if (Date.now() < root._bokeh_timeout) {\n",
       "      setTimeout(run_inline_js, 100);\n",
       "    } else if (!root._bokeh_failed_load) {\n",
       "      console.log(\"Bokeh: BokehJS failed to load within specified timeout.\");\n",
       "      root._bokeh_failed_load = true;\n",
       "    } else if (force !== true) {\n",
       "      var cell = $(document.getElementById(\"fba838ed-df95-45f1-a3f7-ea99aafcc8c2\")).parents('.cell').data().cell;\n",
       "      cell.output_area.append_execute_result(NB_LOAD_WARNING)\n",
       "    }\n",
       "\n",
       "  }\n",
       "\n",
       "  if (root._bokeh_is_loading === 0) {\n",
       "    console.log(\"Bokeh: BokehJS loaded, going straight to plotting\");\n",
       "    run_inline_js();\n",
       "  } else {\n",
       "    load_libs(js_urls, function() {\n",
       "      console.log(\"Bokeh: BokehJS plotting callback run at\", now());\n",
       "      run_inline_js();\n",
       "    });\n",
       "  }\n",
       "}(window));"
      ],
      "application/vnd.bokehjs_load.v0+json": "\n(function(root) {\n  function now() {\n    return new Date();\n  }\n\n  var force = true;\n\n  if (typeof (root._bokeh_onload_callbacks) === \"undefined\" || force === true) {\n    root._bokeh_onload_callbacks = [];\n    root._bokeh_is_loading = undefined;\n  }\n\n  \n\n  \n  if (typeof (root._bokeh_timeout) === \"undefined\" || force === true) {\n    root._bokeh_timeout = Date.now() + 5000;\n    root._bokeh_failed_load = false;\n  }\n\n  var NB_LOAD_WARNING = {'data': {'text/html':\n     \"<div style='background-color: #fdd'>\\n\"+\n     \"<p>\\n\"+\n     \"BokehJS does not appear to have successfully loaded. If loading BokehJS from CDN, this \\n\"+\n     \"may be due to a slow or bad network connection. Possible fixes:\\n\"+\n     \"</p>\\n\"+\n     \"<ul>\\n\"+\n     \"<li>re-rerun `output_notebook()` to attempt to load from CDN again, or</li>\\n\"+\n     \"<li>use INLINE resources instead, as so:</li>\\n\"+\n     \"</ul>\\n\"+\n     \"<code>\\n\"+\n     \"from bokeh.resources import INLINE\\n\"+\n     \"output_notebook(resources=INLINE)\\n\"+\n     \"</code>\\n\"+\n     \"</div>\"}};\n\n  function display_loaded() {\n    var el = document.getElementById(\"fba838ed-df95-45f1-a3f7-ea99aafcc8c2\");\n    if (el != null) {\n      el.textContent = \"BokehJS is loading...\";\n    }\n    if (root.Bokeh !== undefined) {\n      if (el != null) {\n        el.textContent = \"BokehJS \" + root.Bokeh.version + \" successfully loaded.\";\n      }\n    } else if (Date.now() < root._bokeh_timeout) {\n      setTimeout(display_loaded, 100)\n    }\n  }\n\n\n  function run_callbacks() {\n    try {\n      root._bokeh_onload_callbacks.forEach(function(callback) { callback() });\n    }\n    finally {\n      delete root._bokeh_onload_callbacks\n    }\n    console.info(\"Bokeh: all callbacks have finished\");\n  }\n\n  function load_libs(js_urls, callback) {\n    root._bokeh_onload_callbacks.push(callback);\n    if (root._bokeh_is_loading > 0) {\n      console.log(\"Bokeh: BokehJS is being loaded, scheduling callback at\", now());\n      return null;\n    }\n    if (js_urls == null || js_urls.length === 0) {\n      run_callbacks();\n      return null;\n    }\n    console.log(\"Bokeh: BokehJS not loaded, scheduling load and callback at\", now());\n    root._bokeh_is_loading = js_urls.length;\n    for (var i = 0; i < js_urls.length; i++) {\n      var url = js_urls[i];\n      var s = document.createElement('script');\n      s.src = url;\n      s.async = false;\n      s.onreadystatechange = s.onload = function() {\n        root._bokeh_is_loading--;\n        if (root._bokeh_is_loading === 0) {\n          console.log(\"Bokeh: all BokehJS libraries loaded\");\n          run_callbacks()\n        }\n      };\n      s.onerror = function() {\n        console.warn(\"failed to load library \" + url);\n      };\n      console.log(\"Bokeh: injecting script tag for BokehJS library: \", url);\n      document.getElementsByTagName(\"head\")[0].appendChild(s);\n    }\n  };var element = document.getElementById(\"fba838ed-df95-45f1-a3f7-ea99aafcc8c2\");\n  if (element == null) {\n    console.log(\"Bokeh: ERROR: autoload.js configured with elementid 'fba838ed-df95-45f1-a3f7-ea99aafcc8c2' but no matching script tag was found. \")\n    return false;\n  }\n\n  var js_urls = [\"https://cdn.pydata.org/bokeh/release/bokeh-0.12.10.min.js\", \"https://cdn.pydata.org/bokeh/release/bokeh-widgets-0.12.10.min.js\", \"https://cdn.pydata.org/bokeh/release/bokeh-tables-0.12.10.min.js\", \"https://cdn.pydata.org/bokeh/release/bokeh-gl-0.12.10.min.js\"];\n\n  var inline_js = [\n    function(Bokeh) {\n      Bokeh.set_log_level(\"info\");\n    },\n    \n    function(Bokeh) {\n      \n    },\n    function(Bokeh) {\n      console.log(\"Bokeh: injecting CSS: https://cdn.pydata.org/bokeh/release/bokeh-0.12.10.min.css\");\n      Bokeh.embed.inject_css(\"https://cdn.pydata.org/bokeh/release/bokeh-0.12.10.min.css\");\n      console.log(\"Bokeh: injecting CSS: https://cdn.pydata.org/bokeh/release/bokeh-widgets-0.12.10.min.css\");\n      Bokeh.embed.inject_css(\"https://cdn.pydata.org/bokeh/release/bokeh-widgets-0.12.10.min.css\");\n      console.log(\"Bokeh: injecting CSS: https://cdn.pydata.org/bokeh/release/bokeh-tables-0.12.10.min.css\");\n      Bokeh.embed.inject_css(\"https://cdn.pydata.org/bokeh/release/bokeh-tables-0.12.10.min.css\");\n    }\n  ];\n\n  function run_inline_js() {\n    \n    if ((root.Bokeh !== undefined) || (force === true)) {\n      for (var i = 0; i < inline_js.length; i++) {\n        inline_js[i].call(root, root.Bokeh);\n      }if (force === true) {\n        display_loaded();\n      }} else if (Date.now() < root._bokeh_timeout) {\n      setTimeout(run_inline_js, 100);\n    } else if (!root._bokeh_failed_load) {\n      console.log(\"Bokeh: BokehJS failed to load within specified timeout.\");\n      root._bokeh_failed_load = true;\n    } else if (force !== true) {\n      var cell = $(document.getElementById(\"fba838ed-df95-45f1-a3f7-ea99aafcc8c2\")).parents('.cell').data().cell;\n      cell.output_area.append_execute_result(NB_LOAD_WARNING)\n    }\n\n  }\n\n  if (root._bokeh_is_loading === 0) {\n    console.log(\"Bokeh: BokehJS loaded, going straight to plotting\");\n    run_inline_js();\n  } else {\n    load_libs(js_urls, function() {\n      console.log(\"Bokeh: BokehJS plotting callback run at\", now());\n      run_inline_js();\n    });\n  }\n}(window));"
     },
     "metadata": {},
     "output_type": "display_data"
    }
   ],
   "source": [
    "import numpy as np\n",
    "import pandas as pd\n",
    "import matplotlib.pyplot as plt\n",
    "% matplotlib inline\n",
    "\n",
    "import warnings\n",
    "warnings.filterwarnings('ignore') \n",
    "# 不发出警告\n",
    "\n",
    "from bokeh.io import output_notebook\n",
    "output_notebook()\n",
    "# 导入notebook绘图模块\n",
    "\n",
    "from bokeh.plotting import figure,show\n",
    "from bokeh.models import ColumnDataSource\n",
    "# 导入图表绘制、图标展示模块\n",
    "# 导入ColumnDataSource模块"
   ]
  },
  {
   "cell_type": "code",
   "execution_count": 3,
   "metadata": {},
   "outputs": [
    {
     "data": {
      "text/html": [
       "\n",
       "<div class=\"bk-root\">\n",
       "    <div class=\"bk-plotdiv\" id=\"cd349622-2a29-4142-abf1-286b305d5a89\"></div>\n",
       "</div>"
      ]
     },
     "metadata": {},
     "output_type": "display_data"
    },
    {
     "data": {
      "application/javascript": [
       "(function(root) {\n",
       "  function embed_document(root) {\n",
       "    var docs_json = {\"9d74d66f-2667-427a-8c9d-f4ebb959336a\":{\"roots\":{\"references\":[{\"attributes\":{},\"id\":\"3b279ecc-0675-4d87-b3cc-dc0d1918c0f9\",\"type\":\"LinearScale\"},{\"attributes\":{},\"id\":\"fe6e4bdc-ae0c-4886-9ad4-82cc4c32bba7\",\"type\":\"HelpTool\"},{\"attributes\":{\"bottom_units\":\"screen\",\"fill_alpha\":{\"value\":0.5},\"fill_color\":{\"value\":\"lightgrey\"},\"left_units\":\"screen\",\"level\":\"overlay\",\"line_alpha\":{\"value\":1.0},\"line_color\":{\"value\":\"black\"},\"line_dash\":[4,4],\"line_width\":{\"value\":2},\"plot\":null,\"render_mode\":\"css\",\"right_units\":\"screen\",\"top_units\":\"screen\"},\"id\":\"0731223d-61b3-42cb-9b2f-0e454cb38c8a\",\"type\":\"BoxAnnotation\"},{\"attributes\":{\"plot\":{\"id\":\"8c734274-8d97-4a3c-aad2-fd327bb44b9c\",\"subtype\":\"Figure\",\"type\":\"Plot\"},\"ticker\":{\"id\":\"a1213d15-5ca5-44af-a399-bdad71d8e347\",\"type\":\"BasicTicker\"}},\"id\":\"c36e08e1-c775-4f8f-9d6a-26e313e8dc72\",\"type\":\"Grid\"},{\"attributes\":{\"fill_color\":{\"value\":\"#1f77b4\"},\"line_color\":{\"value\":\"#1f77b4\"},\"x\":{\"field\":\"x\"},\"y\":{\"field\":\"y\"}},\"id\":\"ce254124-69e8-4bdc-99f9-bbd30a81b3fe\",\"type\":\"Circle\"},{\"attributes\":{},\"id\":\"f3f030d0-0075-49e9-bd73-6fdaf0292e35\",\"type\":\"BasicTickFormatter\"},{\"attributes\":{\"formatter\":{\"id\":\"ae8568e4-018c-40c8-9e16-df7a2f624d5c\",\"type\":\"BasicTickFormatter\"},\"plot\":{\"id\":\"8c734274-8d97-4a3c-aad2-fd327bb44b9c\",\"subtype\":\"Figure\",\"type\":\"Plot\"},\"ticker\":{\"id\":\"477d59ca-a831-4bd3-8a1f-53b7186bff43\",\"type\":\"BasicTicker\"}},\"id\":\"efd14eae-0260-4d3a-8801-a32e6fd185f7\",\"type\":\"LinearAxis\"},{\"attributes\":{\"source\":{\"id\":\"ff1197d6-48a6-4067-a58c-f2a397273597\",\"type\":\"ColumnDataSource\"}},\"id\":\"12009621-5fce-4342-9dc9-8b20756e3401\",\"type\":\"CDSView\"},{\"attributes\":{},\"id\":\"ae8568e4-018c-40c8-9e16-df7a2f624d5c\",\"type\":\"BasicTickFormatter\"},{\"attributes\":{\"plot\":null,\"text\":\"\"},\"id\":\"0a14a1b7-e7dd-4c76-9546-cf4a6146d59b\",\"type\":\"Title\"},{\"attributes\":{\"below\":[{\"id\":\"4b05a57e-2e09-4230-b4d6-f4485ed953a3\",\"type\":\"LinearAxis\"}],\"left\":[{\"id\":\"efd14eae-0260-4d3a-8801-a32e6fd185f7\",\"type\":\"LinearAxis\"}],\"plot_height\":300,\"plot_width\":300,\"renderers\":[{\"id\":\"4b05a57e-2e09-4230-b4d6-f4485ed953a3\",\"type\":\"LinearAxis\"},{\"id\":\"c36e08e1-c775-4f8f-9d6a-26e313e8dc72\",\"type\":\"Grid\"},{\"id\":\"efd14eae-0260-4d3a-8801-a32e6fd185f7\",\"type\":\"LinearAxis\"},{\"id\":\"f8449d1a-3648-4f8d-a70c-f2410d0242c8\",\"type\":\"Grid\"},{\"id\":\"0731223d-61b3-42cb-9b2f-0e454cb38c8a\",\"type\":\"BoxAnnotation\"},{\"id\":\"40476dcc-046f-4cb4-82e0-1bbd671a3a59\",\"type\":\"GlyphRenderer\"}],\"title\":{\"id\":\"0a14a1b7-e7dd-4c76-9546-cf4a6146d59b\",\"type\":\"Title\"},\"toolbar\":{\"id\":\"58bdba29-92be-4b2d-9508-6cc8daa65937\",\"type\":\"Toolbar\"},\"toolbar_location\":\"above\",\"x_range\":{\"id\":\"8b8176d3-9975-4eff-b34a-cb53dfc628df\",\"type\":\"DataRange1d\"},\"x_scale\":{\"id\":\"3b279ecc-0675-4d87-b3cc-dc0d1918c0f9\",\"type\":\"LinearScale\"},\"y_range\":{\"id\":\"f79256ab-d685-45c9-ab2c-0ec58c6749b1\",\"type\":\"DataRange1d\"},\"y_scale\":{\"id\":\"b0f48958-e4bb-46a7-8654-7ccd12fb8f41\",\"type\":\"LinearScale\"}},\"id\":\"8c734274-8d97-4a3c-aad2-fd327bb44b9c\",\"subtype\":\"Figure\",\"type\":\"Plot\"},{\"attributes\":{},\"id\":\"477d59ca-a831-4bd3-8a1f-53b7186bff43\",\"type\":\"BasicTicker\"},{\"attributes\":{\"dimension\":1,\"plot\":{\"id\":\"8c734274-8d97-4a3c-aad2-fd327bb44b9c\",\"subtype\":\"Figure\",\"type\":\"Plot\"},\"ticker\":{\"id\":\"477d59ca-a831-4bd3-8a1f-53b7186bff43\",\"type\":\"BasicTicker\"}},\"id\":\"f8449d1a-3648-4f8d-a70c-f2410d0242c8\",\"type\":\"Grid\"},{\"attributes\":{\"fill_alpha\":{\"value\":0.1},\"fill_color\":{\"value\":\"#1f77b4\"},\"line_alpha\":{\"value\":0.1},\"line_color\":{\"value\":\"#1f77b4\"},\"x\":{\"field\":\"x\"},\"y\":{\"field\":\"y\"}},\"id\":\"9c8d8e09-6638-4779-81c6-1628dd8b5d88\",\"type\":\"Circle\"},{\"attributes\":{},\"id\":\"f15c7da9-6ff7-47fe-8880-eb31e7c5d899\",\"type\":\"ResetTool\"},{\"attributes\":{},\"id\":\"a1213d15-5ca5-44af-a399-bdad71d8e347\",\"type\":\"BasicTicker\"},{\"attributes\":{\"callback\":null,\"column_names\":[\"x\",\"y\"],\"data\":{\"x\":{\"__ndarray__\":\"NCvBn4en6L/RSQmTV/H6v0exucE5D8W/LLbWuQwA2r+KxWg7ft33P24+iqKsWMO/ct9RcbAcur/uisb0IogBQD/BpgpaHuA/uVVhMQKGyD8DaZ/Vpszov0wI7U/bPoy/TBWP+R979b+E9nQ26YzEP45RC5c2y8W/J0qgcMQyBcDW9sNtw7TuP88BVI5q+tk/WmPU6Wgj6D+DckeB3Zr8vy6JeXM+mdI/2ibsJKl6ob9Cqlq8DBrgP0rgYvBWQsG/DvslSoYK479L1J9i6hzyP5MWzBc2HvE/6WcXxPvcyj9dETJ6rIzmP4k0MYEpEeC/8vM8Nfhh8j8ypin0aYHGv8QQQZPApeS/8iNsmr3NsL9hFKYjBwPXP3LBmdJ4T/W/K/nOmPHE4r/AgJ43TajzPzZeUIZkCM2/nqgoZvMp57/9bItC45u7v/enbd9ILcm/KT6fKToS4D8jFYM6sN/3P3TW8Wgj+uA//o2lIlPmyD8CVjEfiTbRv9R46ULMoPC/i7IP2+kjwT8uUWEuXmzMv3f042qbAfA/LIBVusH/xL96jbC/montv24pHaDlrdc/ZbLf+XWq178hKBO6CLvXvz2X8w65ytm/PKU5xfkO6j+bJ4KMdf/UvzJdHWgoEeS/ScP2m+5Y3D9klQU9O/X0P+J+8yknYNK/wKNSsjIt5b8XCelmMcbkPyuTEMVVqLO/6VYfAOZtCkBB5aE7eTbSP7dTqw+dtbM/VFGCCHDK8j/Js6xRxl4BQDN5tCbqVZo/c9fERtCtzL+P5dZLL5vgP6QowIeVT+G/d453wCJE5T8U6r3479jkv9n9VQZRb+w/4YOZ33nj9r9Paapla+f0v3g+9AoZ1sU/QYO2aXaW5z9uAbvpRwv0P1Md1s8Hqdm/SOPzKsne3D+04x8q3dj6v59scUPJhds/D7IYQspv+T8m6TWU5yfSPxqgL93mXNc/NNgFpEqnAUD6x8vXHWz3P+r4IlP/Duw/143qJPVj0r/HpBudNz2ov/robWZPofi/GN3qOPH98j+AhE9SedDiv1J0g3dP2tA/QQ49XThsr78=\",\"dtype\":\"float64\",\"shape\":[100]},\"y\":{\"__ndarray__\":\"xPWYh9z95D8SgFLnf7PYv9A9oytCSOW/tXPn8Qub3b/J/safoRHmv7b+LBQmTwXAz0elVSH/8L94gglsXJ7Zv63lU+de+/K/l4iiIwUR8r+Tl1ki/4r+vxPU1erXP8u/KeNUF8o29j8YcW/KDEDuP3dLEL2WPuK/vX6b5uZ59b/a5GfFnD3aP9tIoqiAzek/S1PokEjt5T+Z5e2nqgLsP2GC2FKMvPU/FFqHG6Sv0j8nVCL6ueZRv6l1jQNXtr8/cHtN448npr/eMY1wZ8a6v/TeajPNGN6/s90JRQ1M9z8rs3OxEwX1vwm4iPRYCcg/YEFXwWqy07/X6zI8cErxP4ZEnXfq788/eDlrLjdI7L+NFOIOKP/9vz12bqXdeek/LEQKWaKttT9FNOFgS9rtP4JMdbRwHPO/9x+vSgQ49b+sHgXCrPT2vw39P5uAiO0/KdgRvBA7zj/SHaMmHTS9P7NjVrwj4nO/0NpMf3I12r+8GgWbGzTpP3L/KCW8KvA/w48m6h+08D/1W1Gn4HwGwBJdedFWRNi/vEwWzutu9L/EBa+c9P7uPyf0olvErlc/Btd2zhoF4T+GwQGHhIDTvzWJoBS7h+s//zQEPIlvrT+Yx0Q9ys7gPyPs+qUBr+I/GBo5zM/N+r8k0XX98tzmv7QrEnboVuy/Zx72Flbs0r//nGiIXBnjv0AQtvchHc4/55OXxZ216L9O0t9QIJimv29mvamTBNI/JQ5AXdyaAMBXujRoBuDaP5OXtrC/hOI/aT0YHYuN2T8ZbW308xX8vyEfr6+Esvu/+C3MaPee+r/nL8iiEK4GQPYibiQhGuG/frLdOkJMv7/fvX460Mv5P4AAQzjduu2/khjkuSp05D95ljDWtmb0P2sR1oKuNtQ/A6HA/tyu8z93nf8n850EQC/89skqcu+/Flbi3vSO8b+EEXK7ekPuv4HwNGPWJs6/FkbsIkoXzr+FenCvGGn2v3DwxIlENd0/akobRFxh/j/MCEHH+PbVv2yN7iZISe2/Kgoi8dU+pL8G1ouwVenjP3240Nxk9PC/eXTzEYhI978=\",\"dtype\":\"float64\",\"shape\":[100]}}},\"id\":\"ff1197d6-48a6-4067-a58c-f2a397273597\",\"type\":\"ColumnDataSource\"},{\"attributes\":{},\"id\":\"e1d03443-67c1-41da-a07e-875aa874cc1c\",\"type\":\"PanTool\"},{\"attributes\":{\"active_drag\":\"auto\",\"active_inspect\":\"auto\",\"active_scroll\":\"auto\",\"active_tap\":\"auto\",\"tools\":[{\"id\":\"e1d03443-67c1-41da-a07e-875aa874cc1c\",\"type\":\"PanTool\"},{\"id\":\"7ee6c75e-1d41-4bec-860e-b98973c92de7\",\"type\":\"WheelZoomTool\"},{\"id\":\"469a5b0e-4ee2-41de-8a5d-ad617cdc9819\",\"type\":\"BoxZoomTool\"},{\"id\":\"58de60a2-dfc7-4a46-bb7a-57bcd3a3f4d4\",\"type\":\"SaveTool\"},{\"id\":\"f15c7da9-6ff7-47fe-8880-eb31e7c5d899\",\"type\":\"ResetTool\"},{\"id\":\"fe6e4bdc-ae0c-4886-9ad4-82cc4c32bba7\",\"type\":\"HelpTool\"}]},\"id\":\"58bdba29-92be-4b2d-9508-6cc8daa65937\",\"type\":\"Toolbar\"},{\"attributes\":{\"data_source\":{\"id\":\"ff1197d6-48a6-4067-a58c-f2a397273597\",\"type\":\"ColumnDataSource\"},\"glyph\":{\"id\":\"ce254124-69e8-4bdc-99f9-bbd30a81b3fe\",\"type\":\"Circle\"},\"hover_glyph\":null,\"muted_glyph\":null,\"nonselection_glyph\":{\"id\":\"9c8d8e09-6638-4779-81c6-1628dd8b5d88\",\"type\":\"Circle\"},\"selection_glyph\":null,\"view\":{\"id\":\"12009621-5fce-4342-9dc9-8b20756e3401\",\"type\":\"CDSView\"}},\"id\":\"40476dcc-046f-4cb4-82e0-1bbd671a3a59\",\"type\":\"GlyphRenderer\"},{\"attributes\":{},\"id\":\"58de60a2-dfc7-4a46-bb7a-57bcd3a3f4d4\",\"type\":\"SaveTool\"},{\"attributes\":{\"formatter\":{\"id\":\"f3f030d0-0075-49e9-bd73-6fdaf0292e35\",\"type\":\"BasicTickFormatter\"},\"plot\":{\"id\":\"8c734274-8d97-4a3c-aad2-fd327bb44b9c\",\"subtype\":\"Figure\",\"type\":\"Plot\"},\"ticker\":{\"id\":\"a1213d15-5ca5-44af-a399-bdad71d8e347\",\"type\":\"BasicTicker\"}},\"id\":\"4b05a57e-2e09-4230-b4d6-f4485ed953a3\",\"type\":\"LinearAxis\"},{\"attributes\":{},\"id\":\"7ee6c75e-1d41-4bec-860e-b98973c92de7\",\"type\":\"WheelZoomTool\"},{\"attributes\":{\"callback\":null},\"id\":\"f79256ab-d685-45c9-ab2c-0ec58c6749b1\",\"type\":\"DataRange1d\"},{\"attributes\":{\"callback\":null},\"id\":\"8b8176d3-9975-4eff-b34a-cb53dfc628df\",\"type\":\"DataRange1d\"},{\"attributes\":{\"overlay\":{\"id\":\"0731223d-61b3-42cb-9b2f-0e454cb38c8a\",\"type\":\"BoxAnnotation\"}},\"id\":\"469a5b0e-4ee2-41de-8a5d-ad617cdc9819\",\"type\":\"BoxZoomTool\"},{\"attributes\":{},\"id\":\"b0f48958-e4bb-46a7-8654-7ccd12fb8f41\",\"type\":\"LinearScale\"}],\"root_ids\":[\"8c734274-8d97-4a3c-aad2-fd327bb44b9c\"]},\"title\":\"Bokeh Application\",\"version\":\"0.12.10\"}};\n",
       "    var render_items = [{\"docid\":\"9d74d66f-2667-427a-8c9d-f4ebb959336a\",\"elementid\":\"cd349622-2a29-4142-abf1-286b305d5a89\",\"modelid\":\"8c734274-8d97-4a3c-aad2-fd327bb44b9c\"}];\n",
       "\n",
       "    root.Bokeh.embed.embed_items(docs_json, render_items);\n",
       "  }\n",
       "\n",
       "  if (root.Bokeh !== undefined) {\n",
       "    embed_document(root);\n",
       "  } else {\n",
       "    var attempts = 0;\n",
       "    var timer = setInterval(function(root) {\n",
       "      if (root.Bokeh !== undefined) {\n",
       "        embed_document(root);\n",
       "        clearInterval(timer);\n",
       "      }\n",
       "      attempts++;\n",
       "      if (attempts > 100) {\n",
       "        console.log(\"Bokeh: ERROR: Unable to embed document because BokehJS library is missing\")\n",
       "        clearInterval(timer);\n",
       "      }\n",
       "    }, 10, root)\n",
       "  }\n",
       "})(window);"
      ],
      "application/vnd.bokehjs_exec.v0+json": ""
     },
     "metadata": {
      "application/vnd.bokehjs_exec.v0+json": {
       "id": "8c734274-8d97-4a3c-aad2-fd327bb44b9c"
      }
     },
     "output_type": "display_data"
    }
   ],
   "source": [
    "# 工具栏 tools\n",
    "# （1）设置位置\n",
    "\n",
    "p = figure(plot_width=300, plot_height=300,\n",
    "          toolbar_location=\"above\")\n",
    "# 工具栏位置：\"above\"，\"below\"，\"left\"，\"right\"\n",
    "\n",
    "p.circle(np.random.randn(100),np.random.randn(100))\n",
    "show(p)"
   ]
  },
  {
   "cell_type": "code",
   "execution_count": 4,
   "metadata": {},
   "outputs": [
    {
     "data": {
      "text/html": [
       "\n",
       "<div class=\"bk-root\">\n",
       "    <div class=\"bk-plotdiv\" id=\"a91ff1a7-6c12-49cf-b44c-cc80fab4c001\"></div>\n",
       "</div>"
      ]
     },
     "metadata": {},
     "output_type": "display_data"
    },
    {
     "data": {
      "application/javascript": [
       "(function(root) {\n",
       "  function embed_document(root) {\n",
       "    var docs_json = {\"d03d5030-a353-4c59-b76c-db882c6503a1\":{\"roots\":{\"references\":[{\"attributes\":{},\"id\":\"d2b55b2b-dff7-43f4-98b8-b13ad4097201\",\"type\":\"HelpTool\"},{\"attributes\":{\"callback\":null},\"id\":\"3a24b916-20b7-451d-a970-64f15efeeeb8\",\"type\":\"DataRange1d\"},{\"attributes\":{\"data_source\":{\"id\":\"bb53adad-4cfc-4baa-92c6-ee0dcb682413\",\"type\":\"ColumnDataSource\"},\"glyph\":{\"id\":\"6c144796-6254-4c2d-8892-43eb68d6ecfc\",\"type\":\"Circle\"},\"hover_glyph\":null,\"muted_glyph\":null,\"nonselection_glyph\":{\"id\":\"e3bcea7b-6c4c-45b4-9542-c48cbee3ae6f\",\"type\":\"Circle\"},\"selection_glyph\":null,\"view\":{\"id\":\"fd87280c-e71f-41d4-999a-49a22f0482d5\",\"type\":\"CDSView\"}},\"id\":\"8fe9e72e-6ad5-4aa4-8dff-ad91582e7bae\",\"type\":\"GlyphRenderer\"},{\"attributes\":{\"plot\":null,\"text\":\"\"},\"id\":\"68118531-1faa-4606-954f-5e8310e339df\",\"type\":\"Title\"},{\"attributes\":{\"plot\":{\"id\":\"143f2cbd-8bc3-4c87-a1e9-d200693f97ef\",\"subtype\":\"Figure\",\"type\":\"Plot\"},\"ticker\":{\"id\":\"856d4170-939d-4e12-8a96-0ed920a35adb\",\"type\":\"BasicTicker\"}},\"id\":\"c7d5a21e-2f46-4575-b8b6-5dc2fa49aaf2\",\"type\":\"Grid\"},{\"attributes\":{},\"id\":\"e99d04cc-92f0-4077-9847-245914586b93\",\"type\":\"BasicTickFormatter\"},{\"attributes\":{\"formatter\":{\"id\":\"e522e132-8cec-4658-8f67-622e89ce603b\",\"type\":\"BasicTickFormatter\"},\"plot\":{\"id\":\"143f2cbd-8bc3-4c87-a1e9-d200693f97ef\",\"subtype\":\"Figure\",\"type\":\"Plot\"},\"ticker\":{\"id\":\"856d4170-939d-4e12-8a96-0ed920a35adb\",\"type\":\"BasicTicker\"}},\"id\":\"0bf95959-c51d-487a-ae49-9e125b229e4a\",\"type\":\"LinearAxis\"},{\"attributes\":{\"below\":[{\"id\":\"0bf95959-c51d-487a-ae49-9e125b229e4a\",\"type\":\"LinearAxis\"}],\"left\":[{\"id\":\"aa4a7c57-04d8-4374-a8fa-e2fa073e8470\",\"type\":\"LinearAxis\"}],\"plot_height\":300,\"plot_width\":300,\"renderers\":[{\"id\":\"0bf95959-c51d-487a-ae49-9e125b229e4a\",\"type\":\"LinearAxis\"},{\"id\":\"c7d5a21e-2f46-4575-b8b6-5dc2fa49aaf2\",\"type\":\"Grid\"},{\"id\":\"aa4a7c57-04d8-4374-a8fa-e2fa073e8470\",\"type\":\"LinearAxis\"},{\"id\":\"7bdc5134-18d3-4aeb-aae5-7118fc02496a\",\"type\":\"Grid\"},{\"id\":\"b8cbecc2-efbc-4f0e-b210-ef66f6468423\",\"type\":\"BoxAnnotation\"},{\"id\":\"8fe9e72e-6ad5-4aa4-8dff-ad91582e7bae\",\"type\":\"GlyphRenderer\"}],\"title\":{\"id\":\"68118531-1faa-4606-954f-5e8310e339df\",\"type\":\"Title\"},\"toolbar\":{\"id\":\"3cb9617e-4012-416e-a0da-179fc297c375\",\"type\":\"Toolbar\"},\"toolbar_location\":\"below\",\"toolbar_sticky\":false,\"x_range\":{\"id\":\"3a24b916-20b7-451d-a970-64f15efeeeb8\",\"type\":\"DataRange1d\"},\"x_scale\":{\"id\":\"4edd53c3-37d4-4597-8672-cfe3890867dc\",\"type\":\"LinearScale\"},\"y_range\":{\"id\":\"65208c4e-5b03-4849-9af9-09c4328d6f28\",\"type\":\"DataRange1d\"},\"y_scale\":{\"id\":\"74e09c5b-20e1-47f3-8096-b7f3861c9bbc\",\"type\":\"LinearScale\"}},\"id\":\"143f2cbd-8bc3-4c87-a1e9-d200693f97ef\",\"subtype\":\"Figure\",\"type\":\"Plot\"},{\"attributes\":{},\"id\":\"4edd53c3-37d4-4597-8672-cfe3890867dc\",\"type\":\"LinearScale\"},{\"attributes\":{},\"id\":\"856d4170-939d-4e12-8a96-0ed920a35adb\",\"type\":\"BasicTicker\"},{\"attributes\":{\"callback\":null,\"column_names\":[\"x\",\"y\"],\"data\":{\"x\":{\"__ndarray__\":\"uA5MmIzh879mqZYX2l71v9p0g6T8pvO/t8/TBZ8hu79CAoV2Tedkv9I8qxbl9MC/vsXrwFe0vr+QJw46+Br7vzMQCwAOAdW/DZHWLRdX8L8hAOoM3zD5P3mdbtQzQgJAbl2EjyCd1b+e4Y9mNbbTvy89SQ+Cm/G/5Gl6p4/k7b+1qXqhQLzpP3trNXfWhOU/If76zYGTzT/vWv0pain0v+G62TKhXYM/wvSeKf3/07/nMgq9C0jmP+BBDIaDo+O/AY1Kg5pGxL/j27OZ7d+Gv8dfJE/xKuS/OQU32n/U0j+2r5DxcHuXv9r0wO1BYPm/hP2LKLXY77/haUWEi2z2vzEb0jfbu+Q/hU8yPsZaZD/GF/xR1wHzvwngZNZhM+m/rwL+w9zM5L+q3z0G16f6v+0FtZL1xrq/jrvkxyJH2z9mnlRvir/GP7im7kcJFuA/3kwpNJlm7r8JjLT/Xo4DwLKbh78bcfS/PsvJsO8z8T+GDav9L1Wvv/uINT3IFrc/GpIxCcnRj7+0l+ABNVwAwF5xdlR/KuG/hsyqM2e35r+2TKsXfdb1v7JNTKSQR/C/bv5McszIzb+7jEFuk8nUP//CZruftvQ/HS+qU2cyx785nkUalbnZv7Xtrsvuq92/s2vQGgP21z+EVvz3BI7kv7jW+l+7OtQ/cFGSX/G9578SdiZwL1D6vzFxaLsVR/G/eGoIV0PJ4b/aA36IMQIEwEwdN9sN7d+/0Ax0RYrB7b/Fk8VcrGLav1wMo2MU4/c/9l/DWVwRAEDJgJp07u3kvwDGPTYXsae/WKCmNbxs7r8FgElECcK0P/KqOq0bz/M/3r95orko4b+C73XtNHPZvyMbiCm0Fq0/X1gHxD+1yL+gq14qMALuv4ojQGr9B9C/Px4yxkRf8z+iVXs6dCnzP/ryNJ5r3e2/IDE0x5klAEA6UUkzwX/yPzigN6ZyJ/q/dcLYSwOksr/SyVsTbQ3qP7KDJrngj+o/a2f6/YkF7r/GB+o+Oejwv7CcJ/vsvf8/lMaN7AKt5D+MjBd9M0q2v/bM959jj9C/dtMqFn0b+b8=\",\"dtype\":\"float64\",\"shape\":[100]},\"y\":{\"__ndarray__\":\"/BKyClnF5T82Dfi3wE3GPzmlkYkZFpq/Y/A+pK/z1b84CyMr/53ov8huVgThf9A/HW1JsYTA879YmE7QzMDrPw8FQzeiqNG/M66gCk58pz/nGJrGhZbuP9JbXcbKA5G/xc6lIxoY9r/H8AnyliHVv3cvkyBpJMk/fesgTzjM87+gk80xlKvkP4cGRqw1jvc//MMXhZeLuL9hI+a4CUzbP+8KNDXawtw/Fwq8oauq7T/KAEvrb/PuP9o+BeXMufg/kr7zwH0C5b9oHxYNy8bQPxMav69pdf+/1/Abd7Ec57/FT1VcuZ+nP0U5q/A2KaY/4tpsB7r55j+5ogrUcaXeP4aR1wzJhci/10yFlr5K2j+IyAtYvm2iv3nkzA4hGgFA4FKlLef14T/E6fxLS5rQv7j5fnYwRc4/mO4qyFPS9b8Z9RHrLP/kP2YzDFB2Xts/Lc4yO5C8oD9jSprGa+HivwRmVq2bRPC/42dye+t75T9YTHwygHL6v6iOZVW5G9E/q/RSHJ9k3D9FkhwrXj7VP/4hd8Di0ua/5TXaxsHU0z/h5K6Gy37sv+fp33C37vM/6tTfLQv38r8vITzLruXhv4I1MTpqIO2/2kkLwJGx3794a4aZ76S2P3IdVE8PrNo/31TE2xYO4j8Tms+tG9TzP//cgzBPptE/8AVfiv0Jub/amYxPYiG5v0VmgBIHHOU/TAMBzC4Y7T/OueOVOgjHP/T+8mr1LfA/T6yOAIQWwr9Dfoh02HPyv2VOBIv7A+W/NbtiIFRQAUCmNmbGX3nXv4pe0M39vuU/UCxsg4nZ+T9StN/AaeXwP9aVMrXQg/k/QEt/JOsi6D8HqmiV7p/ovxHN9ct0vdY/i3E3DUpixr/nsoFWS6a+P2s1bjotrNm/QbZKc8At47+HnyzM8p/gv0dbWWre9Oo/dEpG6g8f3D+TquFIWbqWP5rRn6zRse0/tIhw7DO1wD+gdONwYfDdv/vFcdA0Jfq/VKLfa2mL57+87pO0+Mv5Py/G5CtdbPk/QGbSR+DB6j8W2wgeNlXUv6JxnyF3Tu0/eWMPqBp55T8=\",\"dtype\":\"float64\",\"shape\":[100]}}},\"id\":\"bb53adad-4cfc-4baa-92c6-ee0dcb682413\",\"type\":\"ColumnDataSource\"},{\"attributes\":{\"formatter\":{\"id\":\"e99d04cc-92f0-4077-9847-245914586b93\",\"type\":\"BasicTickFormatter\"},\"plot\":{\"id\":\"143f2cbd-8bc3-4c87-a1e9-d200693f97ef\",\"subtype\":\"Figure\",\"type\":\"Plot\"},\"ticker\":{\"id\":\"6f379740-bb45-4725-b218-18b284e5936a\",\"type\":\"BasicTicker\"}},\"id\":\"aa4a7c57-04d8-4374-a8fa-e2fa073e8470\",\"type\":\"LinearAxis\"},{\"attributes\":{},\"id\":\"6f379740-bb45-4725-b218-18b284e5936a\",\"type\":\"BasicTicker\"},{\"attributes\":{\"dimension\":1,\"plot\":{\"id\":\"143f2cbd-8bc3-4c87-a1e9-d200693f97ef\",\"subtype\":\"Figure\",\"type\":\"Plot\"},\"ticker\":{\"id\":\"6f379740-bb45-4725-b218-18b284e5936a\",\"type\":\"BasicTicker\"}},\"id\":\"7bdc5134-18d3-4aeb-aae5-7118fc02496a\",\"type\":\"Grid\"},{\"attributes\":{\"source\":{\"id\":\"bb53adad-4cfc-4baa-92c6-ee0dcb682413\",\"type\":\"ColumnDataSource\"}},\"id\":\"fd87280c-e71f-41d4-999a-49a22f0482d5\",\"type\":\"CDSView\"},{\"attributes\":{\"fill_color\":{\"value\":\"#1f77b4\"},\"line_color\":{\"value\":\"#1f77b4\"},\"x\":{\"field\":\"x\"},\"y\":{\"field\":\"y\"}},\"id\":\"6c144796-6254-4c2d-8892-43eb68d6ecfc\",\"type\":\"Circle\"},{\"attributes\":{\"fill_alpha\":{\"value\":0.1},\"fill_color\":{\"value\":\"#1f77b4\"},\"line_alpha\":{\"value\":0.1},\"line_color\":{\"value\":\"#1f77b4\"},\"x\":{\"field\":\"x\"},\"y\":{\"field\":\"y\"}},\"id\":\"e3bcea7b-6c4c-45b4-9542-c48cbee3ae6f\",\"type\":\"Circle\"},{\"attributes\":{},\"id\":\"74e09c5b-20e1-47f3-8096-b7f3861c9bbc\",\"type\":\"LinearScale\"},{\"attributes\":{\"bottom_units\":\"screen\",\"fill_alpha\":{\"value\":0.5},\"fill_color\":{\"value\":\"lightgrey\"},\"left_units\":\"screen\",\"level\":\"overlay\",\"line_alpha\":{\"value\":1.0},\"line_color\":{\"value\":\"black\"},\"line_dash\":[4,4],\"line_width\":{\"value\":2},\"plot\":null,\"render_mode\":\"css\",\"right_units\":\"screen\",\"top_units\":\"screen\"},\"id\":\"b8cbecc2-efbc-4f0e-b210-ef66f6468423\",\"type\":\"BoxAnnotation\"},{\"attributes\":{},\"id\":\"29744b47-e83b-4b6a-93b2-a8df2e569971\",\"type\":\"PanTool\"},{\"attributes\":{},\"id\":\"e522e132-8cec-4658-8f67-622e89ce603b\",\"type\":\"BasicTickFormatter\"},{\"attributes\":{\"callback\":null},\"id\":\"65208c4e-5b03-4849-9af9-09c4328d6f28\",\"type\":\"DataRange1d\"},{\"attributes\":{},\"id\":\"d3c181af-09ea-4414-a1d3-613df63df0a1\",\"type\":\"WheelZoomTool\"},{\"attributes\":{\"overlay\":{\"id\":\"b8cbecc2-efbc-4f0e-b210-ef66f6468423\",\"type\":\"BoxAnnotation\"}},\"id\":\"e825f16c-00e7-459d-9baa-5a2be71ce450\",\"type\":\"BoxZoomTool\"},{\"attributes\":{},\"id\":\"7e8c03a5-8974-4394-abee-8b103057a162\",\"type\":\"SaveTool\"},{\"attributes\":{\"active_drag\":\"auto\",\"active_inspect\":\"auto\",\"active_scroll\":\"auto\",\"active_tap\":\"auto\",\"tools\":[{\"id\":\"29744b47-e83b-4b6a-93b2-a8df2e569971\",\"type\":\"PanTool\"},{\"id\":\"d3c181af-09ea-4414-a1d3-613df63df0a1\",\"type\":\"WheelZoomTool\"},{\"id\":\"e825f16c-00e7-459d-9baa-5a2be71ce450\",\"type\":\"BoxZoomTool\"},{\"id\":\"7e8c03a5-8974-4394-abee-8b103057a162\",\"type\":\"SaveTool\"},{\"id\":\"4e41370e-36bb-41d2-ac2f-3599a824885f\",\"type\":\"ResetTool\"},{\"id\":\"d2b55b2b-dff7-43f4-98b8-b13ad4097201\",\"type\":\"HelpTool\"}]},\"id\":\"3cb9617e-4012-416e-a0da-179fc297c375\",\"type\":\"Toolbar\"},{\"attributes\":{},\"id\":\"4e41370e-36bb-41d2-ac2f-3599a824885f\",\"type\":\"ResetTool\"}],\"root_ids\":[\"143f2cbd-8bc3-4c87-a1e9-d200693f97ef\"]},\"title\":\"Bokeh Application\",\"version\":\"0.12.10\"}};\n",
       "    var render_items = [{\"docid\":\"d03d5030-a353-4c59-b76c-db882c6503a1\",\"elementid\":\"a91ff1a7-6c12-49cf-b44c-cc80fab4c001\",\"modelid\":\"143f2cbd-8bc3-4c87-a1e9-d200693f97ef\"}];\n",
       "\n",
       "    root.Bokeh.embed.embed_items(docs_json, render_items);\n",
       "  }\n",
       "\n",
       "  if (root.Bokeh !== undefined) {\n",
       "    embed_document(root);\n",
       "  } else {\n",
       "    var attempts = 0;\n",
       "    var timer = setInterval(function(root) {\n",
       "      if (root.Bokeh !== undefined) {\n",
       "        embed_document(root);\n",
       "        clearInterval(timer);\n",
       "      }\n",
       "      attempts++;\n",
       "      if (attempts > 100) {\n",
       "        console.log(\"Bokeh: ERROR: Unable to embed document because BokehJS library is missing\")\n",
       "        clearInterval(timer);\n",
       "      }\n",
       "    }, 10, root)\n",
       "  }\n",
       "})(window);"
      ],
      "application/vnd.bokehjs_exec.v0+json": ""
     },
     "metadata": {
      "application/vnd.bokehjs_exec.v0+json": {
       "id": "143f2cbd-8bc3-4c87-a1e9-d200693f97ef"
      }
     },
     "output_type": "display_data"
    }
   ],
   "source": [
    "# 工具栏 tools\n",
    "# （1）设置位置\n",
    "\n",
    "p = figure(plot_width=300, plot_height=300,\n",
    "           toolbar_location=\"below\",\n",
    "           toolbar_sticky=False)\n",
    "# 工具栏位置设置为\"below\"时，可增加toolbar_sticky参数使得toolsbar不被遮挡\n",
    "p.circle(np.random.randn(100),np.random.randn(100))\n",
    "show(p)"
   ]
  },
  {
   "cell_type": "code",
   "execution_count": 5,
   "metadata": {},
   "outputs": [
    {
     "data": {
      "text/html": [
       "\n",
       "<div class=\"bk-root\">\n",
       "    <div class=\"bk-plotdiv\" id=\"46be56a0-cdfb-4b22-8cbd-e50f83b49e50\"></div>\n",
       "</div>"
      ]
     },
     "metadata": {},
     "output_type": "display_data"
    },
    {
     "data": {
      "application/javascript": [
       "(function(root) {\n",
       "  function embed_document(root) {\n",
       "    var docs_json = {\"9a788d00-377f-482f-be23-d1e4d6f39597\":{\"roots\":{\"references\":[{\"attributes\":{},\"id\":\"c24b4a43-00d0-4e4f-9f0b-5c0fdf2b2fe4\",\"type\":\"LinearScale\"},{\"attributes\":{\"callback\":null},\"id\":\"0455ff82-3d93-4af0-a0ae-e1bc24dafb3e\",\"type\":\"DataRange1d\"},{\"attributes\":{},\"id\":\"e0fc43a2-6011-4302-aa0e-4c73691540bc\",\"type\":\"LinearScale\"},{\"attributes\":{\"formatter\":{\"id\":\"1161037c-865a-4666-8c75-1c67ba359443\",\"type\":\"BasicTickFormatter\"},\"plot\":{\"id\":\"cd807f0a-337f-4863-a954-764590380bcd\",\"subtype\":\"Figure\",\"type\":\"Plot\"},\"ticker\":{\"id\":\"ac502663-4ca1-4050-86c5-6f42a7a6cbb4\",\"type\":\"BasicTicker\"}},\"id\":\"95493dd7-7a72-4ac2-8327-b0a009ecce59\",\"type\":\"LinearAxis\"},{\"attributes\":{},\"id\":\"5a055555-0f88-4612-b956-29bdfb5d51ee\",\"type\":\"BasicTicker\"},{\"attributes\":{\"formatter\":{\"id\":\"2cefb60c-6d24-41e4-8148-7247045f338a\",\"type\":\"BasicTickFormatter\"},\"plot\":{\"id\":\"cd807f0a-337f-4863-a954-764590380bcd\",\"subtype\":\"Figure\",\"type\":\"Plot\"},\"ticker\":{\"id\":\"5a055555-0f88-4612-b956-29bdfb5d51ee\",\"type\":\"BasicTicker\"}},\"id\":\"cc4d2545-5ff2-46fb-a546-88de03a9580e\",\"type\":\"LinearAxis\"},{\"attributes\":{\"plot\":{\"id\":\"cd807f0a-337f-4863-a954-764590380bcd\",\"subtype\":\"Figure\",\"type\":\"Plot\"},\"ticker\":{\"id\":\"5a055555-0f88-4612-b956-29bdfb5d51ee\",\"type\":\"BasicTicker\"}},\"id\":\"c34925d2-71eb-4171-a721-9979d1d643f4\",\"type\":\"Grid\"},{\"attributes\":{\"dimensions\":\"height\"},\"id\":\"660d0d2c-14a6-4084-92ec-21684d4d6a0e\",\"type\":\"PanTool\"},{\"attributes\":{\"dimension\":1,\"plot\":{\"id\":\"cd807f0a-337f-4863-a954-764590380bcd\",\"subtype\":\"Figure\",\"type\":\"Plot\"},\"ticker\":{\"id\":\"ac502663-4ca1-4050-86c5-6f42a7a6cbb4\",\"type\":\"BasicTicker\"}},\"id\":\"710967b8-3b97-4eda-8c28-91cb9051f8cc\",\"type\":\"Grid\"},{\"attributes\":{},\"id\":\"ac502663-4ca1-4050-86c5-6f42a7a6cbb4\",\"type\":\"BasicTicker\"},{\"attributes\":{\"overlay\":{\"id\":\"5881f3c8-82d5-4b63-a871-1402761d4780\",\"type\":\"BoxAnnotation\"}},\"id\":\"eb929ab3-3e7d-41d5-95e8-b604d25dc480\",\"type\":\"BoxZoomTool\"},{\"attributes\":{},\"id\":\"b5ce2687-22ea-4214-9fa4-d20a985d9eb6\",\"type\":\"WheelZoomTool\"},{\"attributes\":{\"source\":{\"id\":\"8f43f740-9c41-4b35-842e-d03be0b463ce\",\"type\":\"ColumnDataSource\"}},\"id\":\"625fc068-736b-48b3-ad7a-2fe242e70f29\",\"type\":\"CDSView\"},{\"attributes\":{\"dimensions\":\"width\"},\"id\":\"bd3e923c-2eda-4ee7-a0cd-093ee8601388\",\"type\":\"PanTool\"},{\"attributes\":{\"data_source\":{\"id\":\"8f43f740-9c41-4b35-842e-d03be0b463ce\",\"type\":\"ColumnDataSource\"},\"glyph\":{\"id\":\"22463bf4-2284-4bb7-a12c-d19d393b6163\",\"type\":\"Circle\"},\"hover_glyph\":null,\"muted_glyph\":null,\"nonselection_glyph\":{\"id\":\"32fd1b69-8c73-4b61-8e01-f14726946b26\",\"type\":\"Circle\"},\"selection_glyph\":null,\"view\":{\"id\":\"625fc068-736b-48b3-ad7a-2fe242e70f29\",\"type\":\"CDSView\"}},\"id\":\"b9e0039d-092a-4ed8-ae71-8174344cea71\",\"type\":\"GlyphRenderer\"},{\"attributes\":{},\"id\":\"3ee5586a-01a3-4661-8a2c-36f710046f76\",\"type\":\"PanTool\"},{\"attributes\":{\"dimensions\":\"width\"},\"id\":\"2c721df1-9ee7-403e-825a-785dae73ebcd\",\"type\":\"ZoomOutTool\"},{\"attributes\":{\"bottom_units\":\"screen\",\"fill_alpha\":{\"value\":0.5},\"fill_color\":{\"value\":\"lightgrey\"},\"left_units\":\"screen\",\"level\":\"overlay\",\"line_alpha\":{\"value\":1.0},\"line_color\":{\"value\":\"black\"},\"line_dash\":[4,4],\"line_width\":{\"value\":2},\"plot\":null,\"render_mode\":\"css\",\"right_units\":\"screen\",\"top_units\":\"screen\"},\"id\":\"5881f3c8-82d5-4b63-a871-1402761d4780\",\"type\":\"BoxAnnotation\"},{\"attributes\":{\"callback\":null,\"column_names\":[\"x\",\"y\"],\"data\":{\"x\":{\"__ndarray__\":\"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\",\"dtype\":\"float64\",\"shape\":[500]},\"y\":{\"__ndarray__\":\"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\",\"dtype\":\"float64\",\"shape\":[500]}}},\"id\":\"8f43f740-9c41-4b35-842e-d03be0b463ce\",\"type\":\"ColumnDataSource\"},{\"attributes\":{\"fill_color\":{\"value\":\"#1f77b4\"},\"line_color\":{\"value\":\"#1f77b4\"},\"x\":{\"field\":\"x\"},\"y\":{\"field\":\"y\"}},\"id\":\"22463bf4-2284-4bb7-a12c-d19d393b6163\",\"type\":\"Circle\"},{\"attributes\":{\"dimensions\":\"height\"},\"id\":\"17466cd3-201c-40f3-8983-a09b707e5617\",\"type\":\"ZoomInTool\"},{\"attributes\":{},\"id\":\"7a00f4b2-917f-4be9-9e41-d02ec68ff146\",\"type\":\"ZoomOutTool\"},{\"attributes\":{},\"id\":\"d8bef745-6514-458d-b1c2-a98d1508db82\",\"type\":\"ZoomInTool\"},{\"attributes\":{\"dimensions\":\"height\"},\"id\":\"c591d139-84a9-43d4-97a9-33981f3b1bed\",\"type\":\"ZoomOutTool\"},{\"attributes\":{\"callback\":null},\"id\":\"8f3bf1f3-6cd2-4254-a867-a5ecb2e37561\",\"type\":\"DataRange1d\"},{\"attributes\":{\"dimensions\":\"width\"},\"id\":\"0a3d5591-3ca0-4a18-b65b-313c52bdfdc7\",\"type\":\"ZoomInTool\"},{\"attributes\":{},\"id\":\"81695f72-3d18-4b31-98e7-06469c63699d\",\"type\":\"SaveTool\"},{\"attributes\":{\"below\":[{\"id\":\"cc4d2545-5ff2-46fb-a546-88de03a9580e\",\"type\":\"LinearAxis\"}],\"left\":[{\"id\":\"95493dd7-7a72-4ac2-8327-b0a009ecce59\",\"type\":\"LinearAxis\"}],\"plot_height\":400,\"plot_width\":800,\"renderers\":[{\"id\":\"cc4d2545-5ff2-46fb-a546-88de03a9580e\",\"type\":\"LinearAxis\"},{\"id\":\"c34925d2-71eb-4171-a721-9979d1d643f4\",\"type\":\"Grid\"},{\"id\":\"95493dd7-7a72-4ac2-8327-b0a009ecce59\",\"type\":\"LinearAxis\"},{\"id\":\"710967b8-3b97-4eda-8c28-91cb9051f8cc\",\"type\":\"Grid\"},{\"id\":\"5881f3c8-82d5-4b63-a871-1402761d4780\",\"type\":\"BoxAnnotation\"},{\"id\":\"b9e0039d-092a-4ed8-ae71-8174344cea71\",\"type\":\"GlyphRenderer\"}],\"title\":{\"id\":\"f50399f7-882c-47f7-9853-9f76d1d28a61\",\"type\":\"Title\"},\"toolbar\":{\"id\":\"2c0fb2c8-4549-4d28-8a2e-dd66c9e3c457\",\"type\":\"Toolbar\"},\"toolbar_location\":\"above\",\"x_range\":{\"id\":\"8f3bf1f3-6cd2-4254-a867-a5ecb2e37561\",\"type\":\"DataRange1d\"},\"x_scale\":{\"id\":\"c24b4a43-00d0-4e4f-9f0b-5c0fdf2b2fe4\",\"type\":\"LinearScale\"},\"y_range\":{\"id\":\"0455ff82-3d93-4af0-a0ae-e1bc24dafb3e\",\"type\":\"DataRange1d\"},\"y_scale\":{\"id\":\"e0fc43a2-6011-4302-aa0e-4c73691540bc\",\"type\":\"LinearScale\"}},\"id\":\"cd807f0a-337f-4863-a954-764590380bcd\",\"subtype\":\"Figure\",\"type\":\"Plot\"},{\"attributes\":{\"plot\":null,\"text\":\"\"},\"id\":\"f50399f7-882c-47f7-9853-9f76d1d28a61\",\"type\":\"Title\"},{\"attributes\":{},\"id\":\"2cefb60c-6d24-41e4-8148-7247045f338a\",\"type\":\"BasicTickFormatter\"},{\"attributes\":{\"active_drag\":\"auto\",\"active_inspect\":\"auto\",\"active_scroll\":\"auto\",\"active_tap\":\"auto\",\"tools\":[{\"id\":\"3ee5586a-01a3-4661-8a2c-36f710046f76\",\"type\":\"PanTool\"},{\"id\":\"bd3e923c-2eda-4ee7-a0cd-093ee8601388\",\"type\":\"PanTool\"},{\"id\":\"660d0d2c-14a6-4084-92ec-21684d4d6a0e\",\"type\":\"PanTool\"},{\"id\":\"eb929ab3-3e7d-41d5-95e8-b604d25dc480\",\"type\":\"BoxZoomTool\"},{\"id\":\"b5ce2687-22ea-4214-9fa4-d20a985d9eb6\",\"type\":\"WheelZoomTool\"},{\"id\":\"c4862ecd-74a8-4780-a007-13a0fbb12b2d\",\"type\":\"WheelZoomTool\"},{\"id\":\"6351c7d9-3854-43c5-ae02-879c2704e97d\",\"type\":\"WheelZoomTool\"},{\"id\":\"d8bef745-6514-458d-b1c2-a98d1508db82\",\"type\":\"ZoomInTool\"},{\"id\":\"0a3d5591-3ca0-4a18-b65b-313c52bdfdc7\",\"type\":\"ZoomInTool\"},{\"id\":\"17466cd3-201c-40f3-8983-a09b707e5617\",\"type\":\"ZoomInTool\"},{\"id\":\"7a00f4b2-917f-4be9-9e41-d02ec68ff146\",\"type\":\"ZoomOutTool\"},{\"id\":\"2c721df1-9ee7-403e-825a-785dae73ebcd\",\"type\":\"ZoomOutTool\"},{\"id\":\"c591d139-84a9-43d4-97a9-33981f3b1bed\",\"type\":\"ZoomOutTool\"},{\"id\":\"81695f72-3d18-4b31-98e7-06469c63699d\",\"type\":\"SaveTool\"},{\"id\":\"dd73411a-6c3b-437f-84a0-7ff9b50b0dac\",\"type\":\"ResetTool\"}]},\"id\":\"2c0fb2c8-4549-4d28-8a2e-dd66c9e3c457\",\"type\":\"Toolbar\"},{\"attributes\":{},\"id\":\"dd73411a-6c3b-437f-84a0-7ff9b50b0dac\",\"type\":\"ResetTool\"},{\"attributes\":{\"dimensions\":\"width\"},\"id\":\"c4862ecd-74a8-4780-a007-13a0fbb12b2d\",\"type\":\"WheelZoomTool\"},{\"attributes\":{\"dimensions\":\"height\"},\"id\":\"6351c7d9-3854-43c5-ae02-879c2704e97d\",\"type\":\"WheelZoomTool\"},{\"attributes\":{},\"id\":\"1161037c-865a-4666-8c75-1c67ba359443\",\"type\":\"BasicTickFormatter\"},{\"attributes\":{\"fill_alpha\":{\"value\":0.1},\"fill_color\":{\"value\":\"#1f77b4\"},\"line_alpha\":{\"value\":0.1},\"line_color\":{\"value\":\"#1f77b4\"},\"x\":{\"field\":\"x\"},\"y\":{\"field\":\"y\"}},\"id\":\"32fd1b69-8c73-4b61-8e01-f14726946b26\",\"type\":\"Circle\"}],\"root_ids\":[\"cd807f0a-337f-4863-a954-764590380bcd\"]},\"title\":\"Bokeh Application\",\"version\":\"0.12.10\"}};\n",
       "    var render_items = [{\"docid\":\"9a788d00-377f-482f-be23-d1e4d6f39597\",\"elementid\":\"46be56a0-cdfb-4b22-8cbd-e50f83b49e50\",\"modelid\":\"cd807f0a-337f-4863-a954-764590380bcd\"}];\n",
       "\n",
       "    root.Bokeh.embed.embed_items(docs_json, render_items);\n",
       "  }\n",
       "\n",
       "  if (root.Bokeh !== undefined) {\n",
       "    embed_document(root);\n",
       "  } else {\n",
       "    var attempts = 0;\n",
       "    var timer = setInterval(function(root) {\n",
       "      if (root.Bokeh !== undefined) {\n",
       "        embed_document(root);\n",
       "        clearInterval(timer);\n",
       "      }\n",
       "      attempts++;\n",
       "      if (attempts > 100) {\n",
       "        console.log(\"Bokeh: ERROR: Unable to embed document because BokehJS library is missing\")\n",
       "        clearInterval(timer);\n",
       "      }\n",
       "    }, 10, root)\n",
       "  }\n",
       "})(window);"
      ],
      "application/vnd.bokehjs_exec.v0+json": ""
     },
     "metadata": {
      "application/vnd.bokehjs_exec.v0+json": {
       "id": "cd807f0a-337f-4863-a954-764590380bcd"
      }
     },
     "output_type": "display_data"
    }
   ],
   "source": [
    "# 工具栏 tools\n",
    "# （2）移动、放大缩小、存储、刷新\n",
    "\n",
    "TOOLS = '''\n",
    "        pan, xpan, ypan,             \n",
    "        box_zoom,\n",
    "        wheel_zoom, xwheel_zoom, ywheel_zoom,   \n",
    "        zoom_in, xzoom_in, yzoom_in,\n",
    "        zoom_out, xzoom_out, yzoom_out,\n",
    "        save,reset\n",
    "        '''\n",
    "\n",
    "p = figure(plot_width=800, plot_height=400,toolbar_location=\"above\",\n",
    "           tools = TOOLS)\n",
    "# 添加toolbar\n",
    "# 这里tools = '' 则不显示toolbar\n",
    "\n",
    "p.circle(np.random.randn(500),np.random.randn(500))\n",
    "show(p)"
   ]
  },
  {
   "cell_type": "code",
   "execution_count": 6,
   "metadata": {},
   "outputs": [
    {
     "data": {
      "text/html": [
       "\n",
       "<div class=\"bk-root\">\n",
       "    <div class=\"bk-plotdiv\" id=\"79a0ef9f-97d1-428e-a1e3-b8672b4cb05c\"></div>\n",
       "</div>"
      ]
     },
     "metadata": {},
     "output_type": "display_data"
    },
    {
     "data": {
      "application/javascript": [
       "(function(root) {\n",
       "  function embed_document(root) {\n",
       "    var docs_json = {\"42884517-a467-42f4-ae80-4cd629adb13e\":{\"roots\":{\"references\":[{\"attributes\":{\"bottom_units\":\"screen\",\"fill_alpha\":{\"value\":0.5},\"fill_color\":{\"value\":\"lightgrey\"},\"left_units\":\"screen\",\"level\":\"overlay\",\"line_alpha\":{\"value\":1.0},\"line_color\":{\"value\":\"black\"},\"line_dash\":[4,4],\"line_width\":{\"value\":2},\"plot\":null,\"render_mode\":\"css\",\"right_units\":\"screen\",\"top_units\":\"screen\"},\"id\":\"0bc7a102-279a-4973-93f8-fb79679f9775\",\"type\":\"BoxAnnotation\"},{\"attributes\":{},\"id\":\"a7042dcc-ce12-49f3-b2a1-72e7d03e06d8\",\"type\":\"BasicTicker\"},{\"attributes\":{},\"id\":\"58eaf0a2-0496-46c8-9aef-1e0c01519cac\",\"type\":\"LinearScale\"},{\"attributes\":{\"formatter\":{\"id\":\"94043b3c-7cf9-4616-9c00-e99db01fe40c\",\"type\":\"BasicTickFormatter\"},\"plot\":{\"id\":\"57bd9fc0-b252-4d7f-be9b-34358a2826c5\",\"subtype\":\"Figure\",\"type\":\"Plot\"},\"ticker\":{\"id\":\"d375fd8a-b79e-419d-b1f2-64aaeaa42de8\",\"type\":\"BasicTicker\"}},\"id\":\"601a5fcc-448f-42be-acd2-a7f54a15819b\",\"type\":\"LinearAxis\"},{\"attributes\":{\"callback\":null},\"id\":\"8771726b-109d-4bea-907d-ee92099fc51c\",\"type\":\"DataRange1d\"},{\"attributes\":{\"callback\":null},\"id\":\"6344aeff-7ce3-4ffd-85e7-09dfdbb02cfc\",\"type\":\"DataRange1d\"},{\"attributes\":{},\"id\":\"d375fd8a-b79e-419d-b1f2-64aaeaa42de8\",\"type\":\"BasicTicker\"},{\"attributes\":{\"plot\":{\"id\":\"57bd9fc0-b252-4d7f-be9b-34358a2826c5\",\"subtype\":\"Figure\",\"type\":\"Plot\"},\"ticker\":{\"id\":\"a7042dcc-ce12-49f3-b2a1-72e7d03e06d8\",\"type\":\"BasicTicker\"}},\"id\":\"9e9a1407-f725-4f89-be10-8b00c3e1eced\",\"type\":\"Grid\"},{\"attributes\":{\"dimension\":1,\"plot\":{\"id\":\"57bd9fc0-b252-4d7f-be9b-34358a2826c5\",\"subtype\":\"Figure\",\"type\":\"Plot\"},\"ticker\":{\"id\":\"d375fd8a-b79e-419d-b1f2-64aaeaa42de8\",\"type\":\"BasicTicker\"}},\"id\":\"5431fe80-a9d8-4191-ba47-0fcc1d2d5b20\",\"type\":\"Grid\"},{\"attributes\":{\"active_drag\":\"auto\",\"active_inspect\":\"auto\",\"active_scroll\":\"auto\",\"active_tap\":\"auto\",\"tools\":[{\"id\":\"891af9b8-a2c6-40ae-8619-3cc378d2d91e\",\"type\":\"BoxSelectTool\"},{\"id\":\"38c4c372-6a38-41ac-8d6f-ce35b316fdc7\",\"type\":\"LassoSelectTool\"},{\"id\":\"e3de8629-c018-48a8-880c-464a0f5fd817\",\"type\":\"ResetTool\"}]},\"id\":\"4eac6625-83ce-47d7-992b-35288bad6990\",\"type\":\"Toolbar\"},{\"attributes\":{\"callback\":null,\"overlay\":{\"id\":\"0bc7a102-279a-4973-93f8-fb79679f9775\",\"type\":\"BoxAnnotation\"},\"renderers\":[{\"id\":\"14b32ad2-6ade-4e17-bb10-c7a73c8f546f\",\"type\":\"GlyphRenderer\"}]},\"id\":\"891af9b8-a2c6-40ae-8619-3cc378d2d91e\",\"type\":\"BoxSelectTool\"},{\"attributes\":{},\"id\":\"600f7abb-ea73-45b8-bc52-6ac2eaf8cf9d\",\"type\":\"LinearScale\"},{\"attributes\":{\"data_source\":{\"id\":\"b7097e8b-0fc9-4741-8514-bd91638bd10a\",\"type\":\"ColumnDataSource\"},\"glyph\":{\"id\":\"2c823a00-4bcc-409f-bbfa-b5623f0bf2a0\",\"type\":\"Circle\"},\"hover_glyph\":null,\"muted_glyph\":null,\"nonselection_glyph\":{\"id\":\"e4d895d4-9a12-4f24-9796-e42f17e97464\",\"type\":\"Circle\"},\"selection_glyph\":null,\"view\":{\"id\":\"2b520683-3a69-4706-a71a-d861ff2012c9\",\"type\":\"CDSView\"}},\"id\":\"14b32ad2-6ade-4e17-bb10-c7a73c8f546f\",\"type\":\"GlyphRenderer\"},{\"attributes\":{\"formatter\":{\"id\":\"06abd306-1f38-43bb-afcd-bf68d17905b8\",\"type\":\"BasicTickFormatter\"},\"plot\":{\"id\":\"57bd9fc0-b252-4d7f-be9b-34358a2826c5\",\"subtype\":\"Figure\",\"type\":\"Plot\"},\"ticker\":{\"id\":\"a7042dcc-ce12-49f3-b2a1-72e7d03e06d8\",\"type\":\"BasicTicker\"}},\"id\":\"baf066ac-f427-4757-be81-d7b1eecbecac\",\"type\":\"LinearAxis\"},{\"attributes\":{\"callback\":null,\"overlay\":{\"id\":\"4fbbafa1-caca-4255-9bdd-306dda511279\",\"type\":\"PolyAnnotation\"}},\"id\":\"38c4c372-6a38-41ac-8d6f-ce35b316fdc7\",\"type\":\"LassoSelectTool\"},{\"attributes\":{},\"id\":\"e3de8629-c018-48a8-880c-464a0f5fd817\",\"type\":\"ResetTool\"},{\"attributes\":{\"fill_alpha\":{\"value\":0.1},\"fill_color\":{\"value\":\"#1f77b4\"},\"line_alpha\":{\"value\":0.1},\"line_color\":{\"value\":\"#1f77b4\"},\"x\":{\"field\":\"x\"},\"y\":{\"field\":\"y\"}},\"id\":\"e4d895d4-9a12-4f24-9796-e42f17e97464\",\"type\":\"Circle\"},{\"attributes\":{\"fill_alpha\":{\"value\":0.5},\"fill_color\":{\"value\":\"lightgrey\"},\"level\":\"overlay\",\"line_alpha\":{\"value\":1.0},\"line_color\":{\"value\":\"black\"},\"line_dash\":[4,4],\"line_width\":{\"value\":2},\"plot\":null,\"xs_units\":\"screen\",\"ys_units\":\"screen\"},\"id\":\"4fbbafa1-caca-4255-9bdd-306dda511279\",\"type\":\"PolyAnnotation\"},{\"attributes\":{\"source\":{\"id\":\"b7097e8b-0fc9-4741-8514-bd91638bd10a\",\"type\":\"ColumnDataSource\"}},\"id\":\"2b520683-3a69-4706-a71a-d861ff2012c9\",\"type\":\"CDSView\"},{\"attributes\":{\"below\":[{\"id\":\"baf066ac-f427-4757-be81-d7b1eecbecac\",\"type\":\"LinearAxis\"}],\"left\":[{\"id\":\"601a5fcc-448f-42be-acd2-a7f54a15819b\",\"type\":\"LinearAxis\"}],\"plot_height\":400,\"plot_width\":800,\"renderers\":[{\"id\":\"baf066ac-f427-4757-be81-d7b1eecbecac\",\"type\":\"LinearAxis\"},{\"id\":\"9e9a1407-f725-4f89-be10-8b00c3e1eced\",\"type\":\"Grid\"},{\"id\":\"601a5fcc-448f-42be-acd2-a7f54a15819b\",\"type\":\"LinearAxis\"},{\"id\":\"5431fe80-a9d8-4191-ba47-0fcc1d2d5b20\",\"type\":\"Grid\"},{\"id\":\"0bc7a102-279a-4973-93f8-fb79679f9775\",\"type\":\"BoxAnnotation\"},{\"id\":\"4fbbafa1-caca-4255-9bdd-306dda511279\",\"type\":\"PolyAnnotation\"},{\"id\":\"14b32ad2-6ade-4e17-bb10-c7a73c8f546f\",\"type\":\"GlyphRenderer\"}],\"title\":{\"id\":\"9a2070be-a029-4d35-a7e9-1652fdf2f8dd\",\"type\":\"Title\"},\"toolbar\":{\"id\":\"4eac6625-83ce-47d7-992b-35288bad6990\",\"type\":\"Toolbar\"},\"toolbar_location\":\"above\",\"x_range\":{\"id\":\"8771726b-109d-4bea-907d-ee92099fc51c\",\"type\":\"DataRange1d\"},\"x_scale\":{\"id\":\"600f7abb-ea73-45b8-bc52-6ac2eaf8cf9d\",\"type\":\"LinearScale\"},\"y_range\":{\"id\":\"6344aeff-7ce3-4ffd-85e7-09dfdbb02cfc\",\"type\":\"DataRange1d\"},\"y_scale\":{\"id\":\"58eaf0a2-0496-46c8-9aef-1e0c01519cac\",\"type\":\"LinearScale\"}},\"id\":\"57bd9fc0-b252-4d7f-be9b-34358a2826c5\",\"subtype\":\"Figure\",\"type\":\"Plot\"},{\"attributes\":{\"plot\":null,\"text\":\"\"},\"id\":\"9a2070be-a029-4d35-a7e9-1652fdf2f8dd\",\"type\":\"Title\"},{\"attributes\":{},\"id\":\"94043b3c-7cf9-4616-9c00-e99db01fe40c\",\"type\":\"BasicTickFormatter\"},{\"attributes\":{\"fill_color\":{\"value\":\"#1f77b4\"},\"line_color\":{\"value\":\"#1f77b4\"},\"x\":{\"field\":\"x\"},\"y\":{\"field\":\"y\"}},\"id\":\"2c823a00-4bcc-409f-bbfa-b5623f0bf2a0\",\"type\":\"Circle\"},{\"attributes\":{\"callback\":null,\"column_names\":[\"x\",\"y\"],\"data\":{\"x\":{\"__ndarray__\":\"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\",\"dtype\":\"float64\",\"shape\":[500]},\"y\":{\"__ndarray__\":\"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\",\"dtype\":\"float64\",\"shape\":[500]}}},\"id\":\"b7097e8b-0fc9-4741-8514-bd91638bd10a\",\"type\":\"ColumnDataSource\"},{\"attributes\":{},\"id\":\"06abd306-1f38-43bb-afcd-bf68d17905b8\",\"type\":\"BasicTickFormatter\"}],\"root_ids\":[\"57bd9fc0-b252-4d7f-be9b-34358a2826c5\"]},\"title\":\"Bokeh Application\",\"version\":\"0.12.10\"}};\n",
       "    var render_items = [{\"docid\":\"42884517-a467-42f4-ae80-4cd629adb13e\",\"elementid\":\"79a0ef9f-97d1-428e-a1e3-b8672b4cb05c\",\"modelid\":\"57bd9fc0-b252-4d7f-be9b-34358a2826c5\"}];\n",
       "\n",
       "    root.Bokeh.embed.embed_items(docs_json, render_items);\n",
       "  }\n",
       "\n",
       "  if (root.Bokeh !== undefined) {\n",
       "    embed_document(root);\n",
       "  } else {\n",
       "    var attempts = 0;\n",
       "    var timer = setInterval(function(root) {\n",
       "      if (root.Bokeh !== undefined) {\n",
       "        embed_document(root);\n",
       "        clearInterval(timer);\n",
       "      }\n",
       "      attempts++;\n",
       "      if (attempts > 100) {\n",
       "        console.log(\"Bokeh: ERROR: Unable to embed document because BokehJS library is missing\")\n",
       "        clearInterval(timer);\n",
       "      }\n",
       "    }, 10, root)\n",
       "  }\n",
       "})(window);"
      ],
      "application/vnd.bokehjs_exec.v0+json": ""
     },
     "metadata": {
      "application/vnd.bokehjs_exec.v0+json": {
       "id": "57bd9fc0-b252-4d7f-be9b-34358a2826c5"
      }
     },
     "output_type": "display_data"
    }
   ],
   "source": [
    "# 工具栏 tools\n",
    "# （3）选择\n",
    "\n",
    "TOOLS = '''\n",
    "        box_select,lasso_select,\n",
    "        reset\n",
    "        '''\n",
    "\n",
    "p = figure(plot_width=800, plot_height=400,toolbar_location=\"above\",\n",
    "           tools = TOOLS)\n",
    "# 添加toolbar\n",
    "\n",
    "p.circle(np.random.randn(500),np.random.randn(500))\n",
    "show(p)"
   ]
  },
  {
   "cell_type": "code",
   "execution_count": 7,
   "metadata": {},
   "outputs": [
    {
     "name": "stdout",
     "output_type": "stream",
     "text": [
      "               A           B  color         type\n",
      "index                                           \n",
      "0     -90.708836  171.423982  green  Christopher\n",
      "1     -57.465616 -131.462036    red  Christopher\n",
      "2      41.161841 -117.320645    red       rabbit\n",
      "3      38.821778  -58.774963  green  Christopher\n",
      "4     -54.816234 -104.427773   blue         pooh\n"
     ]
    },
    {
     "data": {
      "text/html": [
       "\n",
       "<div class=\"bk-root\">\n",
       "    <div class=\"bk-plotdiv\" id=\"47a42828-0506-4183-8d3a-d1e04c966db5\"></div>\n",
       "</div>"
      ]
     },
     "metadata": {},
     "output_type": "display_data"
    },
    {
     "data": {
      "application/javascript": [
       "(function(root) {\n",
       "  function embed_document(root) {\n",
       "    var docs_json = {\"b7e7b4cb-18af-4660-9707-12df5f23d385\":{\"roots\":{\"references\":[{\"attributes\":{\"callback\":null,\"column_names\":[\"A\",\"B\",\"color\",\"type\",\"index\"],\"data\":{\"A\":{\"__ndarray__\":\"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\",\"dtype\":\"float64\",\"shape\":[500]},\"B\":{\"__ndarray__\":\"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\",\"dtype\":\"float64\",\"shape\":[500]},\"color\":[\"green\",\"red\",\"red\",\"green\",\"blue\",\"blue\",\"red\",\"yellow\",\"yellow\",\"red\",\"green\",\"blue\",\"yellow\",\"yellow\",\"green\",\"blue\",\"yellow\",\"blue\",\"blue\",\"blue\",\"blue\",\"green\",\"blue\",\"red\",\"blue\",\"red\",\"green\",\"yellow\",\"green\",\"red\",\"blue\",\"blue\",\"yellow\",\"yellow\",\"yellow\",\"blue\",\"green\",\"blue\",\"red\",\"red\",\"blue\",\"yellow\",\"red\",\"green\",\"yellow\",\"green\",\"red\",\"red\",\"yellow\",\"yellow\",\"green\",\"blue\",\"blue\",\"red\",\"green\",\"red\",\"blue\",\"green\",\"red\",\"red\",\"yellow\",\"yellow\",\"yellow\",\"yellow\",\"blue\",\"yellow\",\"yellow\",\"yellow\",\"yellow\",\"yellow\",\"green\",\"green\",\"blue\",\"green\",\"red\",\"blue\",\"green\",\"green\",\"green\",\"yellow\",\"green\",\"yellow\",\"red\",\"yellow\",\"blue\",\"blue\",\"yellow\",\"yellow\",\"yellow\",\"green\",\"red\",\"red\",\"blue\",\"yellow\",\"blue\",\"yellow\",\"yellow\",\"blue\",\"blue\",\"green\",\"blue\",\"blue\",\"green\",\"yellow\",\"red\",\"blue\",\"blue\",\"yellow\",\"yellow\",\"blue\",\"blue\",\"yellow\",\"green\",\"blue\",\"green\",\"red\",\"blue\",\"yellow\",\"blue\",\"blue\",\"green\",\"blue\",\"yellow\",\"green\",\"blue\",\"green\",\"red\",\"blue\",\"blue\",\"red\",\"green\",\"green\",\"green\",\"yellow\",\"green\",\"yellow\",\"yellow\",\"red\",\"yellow\",\"blue\",\"yellow\",\"red\",\"green\",\"blue\",\"green\",\"blue\",\"blue\",\"red\",\"yellow\",\"red\",\"yellow\",\"yellow\",\"yellow\",\"yellow\",\"green\",\"green\",\"yellow\",\"green\",\"yellow\",\"green\",\"red\",\"blue\",\"blue\",\"yellow\",\"red\",\"green\",\"blue\",\"yellow\",\"green\",\"yellow\",\"red\",\"red\",\"red\",\"red\",\"green\",\"blue\",\"green\",\"blue\",\"blue\",\"yellow\",\"red\",\"yellow\",\"blue\",\"yellow\",\"green\",\"yellow\",\"green\",\"red\",\"green\",\"green\",\"green\",\"yellow\",\"yellow\",\"blue\",\"yellow\",\"green\",\"blue\",\"red\",\"yellow\",\"red\",\"yellow\",\"red\",\"blue\",\"red\",\"green\",\"green\",\"yellow\",\"blue\",\"yellow\",\"blue\",\"yellow\",\"yellow\",\"green\",\"yellow\",\"red\",\"green\",\"yellow\",\"blue\",\"yellow\",\"red\",\"yellow\",\"blue\",\"red\",\"red\",\"red\",\"red\",\"green\",\"green\",\"red\",\"yellow\",\"red\",\"blue\",\"yellow\",\"yellow\",\"green\",\"red\",\"green\",\"blue\",\"yellow\",\"blue\",\"blue\",\"blue\",\"blue\",\"red\",\"red\",\"red\",\"red\",\"red\",\"blue\",\"green\",\"green\",\"blue\",\"green\",\"blue\",\"green\",\"blue\",\"green\",\"blue\",\"green\",\"red\",\"blue\",\"green\",\"yellow\",\"yellow\",\"red\",\"yellow\",\"blue\",\"red\",\"red\",\"blue\",\"green\",\"blue\",\"red\",\"green\",\"blue\",\"yellow\",\"green\",\"blue\",\"green\",\"blue\",\"green\",\"green\",\"green\",\"red\",\"blue\",\"yellow\",\"blue\",\"green\",\"red\",\"blue\",\"red\",\"green\",\"blue\",\"green\",\"red\",\"green\",\"blue\",\"blue\",\"green\",\"red\",\"green\",\"yellow\",\"red\",\"red\",\"green\",\"blue\",\"red\",\"blue\",\"red\",\"green\",\"yellow\",\"red\",\"green\",\"green\",\"red\",\"blue\",\"green\",\"red\",\"green\",\"red\",\"blue\",\"red\",\"yellow\",\"green\",\"blue\",\"yellow\",\"yellow\",\"blue\",\"green\",\"yellow\",\"green\",\"green\",\"yellow\",\"blue\",\"blue\",\"yellow\",\"red\",\"blue\",\"yellow\",\"red\",\"green\",\"yellow\",\"green\",\"yellow\",\"blue\",\"green\",\"yellow\",\"yellow\",\"red\",\"green\",\"green\",\"blue\",\"green\",\"green\",\"blue\",\"green\",\"green\",\"yellow\",\"blue\",\"green\",\"green\",\"red\",\"green\",\"green\",\"blue\",\"green\",\"blue\",\"green\",\"blue\",\"red\",\"red\",\"green\",\"green\",\"yellow\",\"red\",\"red\",\"red\",\"blue\",\"blue\",\"blue\",\"blue\",\"blue\",\"red\",\"green\",\"blue\",\"blue\",\"blue\",\"green\",\"yellow\",\"green\",\"green\",\"yellow\",\"yellow\",\"yellow\",\"green\",\"red\",\"green\",\"green\",\"yellow\",\"blue\",\"green\",\"yellow\",\"blue\",\"red\",\"green\",\"red\",\"red\",\"red\",\"green\",\"green\",\"red\",\"red\",\"yellow\",\"blue\",\"red\",\"red\",\"yellow\",\"blue\",\"yellow\",\"yellow\",\"green\",\"red\",\"red\",\"red\",\"yellow\",\"yellow\",\"red\",\"blue\",\"red\",\"green\",\"blue\",\"green\",\"green\",\"green\",\"blue\",\"green\",\"green\",\"green\",\"red\",\"green\",\"red\",\"yellow\",\"red\",\"blue\",\"red\",\"red\",\"green\",\"red\",\"yellow\",\"red\",\"blue\",\"blue\",\"red\",\"red\",\"red\",\"yellow\",\"yellow\",\"red\",\"green\",\"green\",\"green\",\"blue\",\"green\",\"green\",\"green\",\"red\",\"yellow\",\"blue\",\"blue\",\"blue\",\"green\",\"blue\",\"red\",\"green\",\"blue\",\"red\",\"red\",\"green\",\"green\",\"yellow\",\"blue\",\"blue\",\"green\",\"green\",\"yellow\",\"green\",\"yellow\",\"green\",\"blue\",\"yellow\",\"red\",\"red\",\"yellow\",\"yellow\",\"yellow\",\"green\",\"red\",\"green\",\"green\",\"green\"],\"index\":[0,1,2,3,4,5,6,7,8,9,10,11,12,13,14,15,16,17,18,19,20,21,22,23,24,25,26,27,28,29,30,31,32,33,34,35,36,37,38,39,40,41,42,43,44,45,46,47,48,49,50,51,52,53,54,55,56,57,58,59,60,61,62,63,64,65,66,67,68,69,70,71,72,73,74,75,76,77,78,79,80,81,82,83,84,85,86,87,88,89,90,91,92,93,94,95,96,97,98,99,100,101,102,103,104,105,106,107,108,109,110,111,112,113,114,115,116,117,118,119,120,121,122,123,124,125,126,127,128,129,130,131,132,133,134,135,136,137,138,139,140,141,142,143,144,145,146,147,148,149,150,151,152,153,154,155,156,157,158,159,160,161,162,163,164,165,166,167,168,169,170,171,172,173,174,175,176,177,178,179,180,181,182,183,184,185,186,187,188,189,190,191,192,193,194,195,196,197,198,199,200,201,202,203,204,205,206,207,208,209,210,211,212,213,214,215,216,217,218,219,220,221,222,223,224,225,226,227,228,229,230,231,232,233,234,235,236,237,238,239,240,241,242,243,244,245,246,247,248,249,250,251,252,253,254,255,256,257,258,259,260,261,262,263,264,265,266,267,268,269,270,271,272,273,274,275,276,277,278,279,280,281,282,283,284,285,286,287,288,289,290,291,292,293,294,295,296,297,298,299,300,301,302,303,304,305,306,307,308,309,310,311,312,313,314,315,316,317,318,319,320,321,322,323,324,325,326,327,328,329,330,331,332,333,334,335,336,337,338,339,340,341,342,343,344,345,346,347,348,349,350,351,352,353,354,355,356,357,358,359,360,361,362,363,364,365,366,367,368,369,370,371,372,373,374,375,376,377,378,379,380,381,382,383,384,385,386,387,388,389,390,391,392,393,394,395,396,397,398,399,400,401,402,403,404,405,406,407,408,409,410,411,412,413,414,415,416,417,418,419,420,421,422,423,424,425,426,427,428,429,430,431,432,433,434,435,436,437,438,439,440,441,442,443,444,445,446,447,448,449,450,451,452,453,454,455,456,457,458,459,460,461,462,463,464,465,466,467,468,469,470,471,472,473,474,475,476,477,478,479,480,481,482,483,484,485,486,487,488,489,490,491,492,493,494,495,496,497,498,499],\"type\":[\"Christopher\",\"Christopher\",\"rabbit\",\"Christopher\",\"pooh\",\"piglet\",\"rabbit\",\"piglet\",\"pooh\",\"piglet\",\"Christopher\",\"rabbit\",\"pooh\",\"pooh\",\"Christopher\",\"pooh\",\"Christopher\",\"Christopher\",\"rabbit\",\"rabbit\",\"rabbit\",\"rabbit\",\"Christopher\",\"rabbit\",\"pooh\",\"rabbit\",\"Christopher\",\"piglet\",\"pooh\",\"Christopher\",\"piglet\",\"piglet\",\"Christopher\",\"piglet\",\"pooh\",\"piglet\",\"Christopher\",\"rabbit\",\"Christopher\",\"Christopher\",\"piglet\",\"piglet\",\"pooh\",\"Christopher\",\"pooh\",\"Christopher\",\"Christopher\",\"rabbit\",\"pooh\",\"Christopher\",\"pooh\",\"rabbit\",\"Christopher\",\"Christopher\",\"piglet\",\"piglet\",\"pooh\",\"Christopher\",\"piglet\",\"Christopher\",\"piglet\",\"rabbit\",\"piglet\",\"rabbit\",\"pooh\",\"rabbit\",\"piglet\",\"rabbit\",\"pooh\",\"rabbit\",\"Christopher\",\"Christopher\",\"pooh\",\"pooh\",\"rabbit\",\"pooh\",\"Christopher\",\"rabbit\",\"rabbit\",\"pooh\",\"piglet\",\"rabbit\",\"Christopher\",\"piglet\",\"piglet\",\"Christopher\",\"pooh\",\"rabbit\",\"piglet\",\"rabbit\",\"pooh\",\"pooh\",\"rabbit\",\"pooh\",\"pooh\",\"Christopher\",\"rabbit\",\"piglet\",\"rabbit\",\"rabbit\",\"Christopher\",\"Christopher\",\"Christopher\",\"piglet\",\"Christopher\",\"pooh\",\"Christopher\",\"pooh\",\"Christopher\",\"pooh\",\"Christopher\",\"Christopher\",\"pooh\",\"pooh\",\"pooh\",\"rabbit\",\"pooh\",\"piglet\",\"rabbit\",\"pooh\",\"Christopher\",\"pooh\",\"piglet\",\"piglet\",\"Christopher\",\"rabbit\",\"Christopher\",\"Christopher\",\"rabbit\",\"Christopher\",\"pooh\",\"piglet\",\"rabbit\",\"pooh\",\"pooh\",\"piglet\",\"Christopher\",\"Christopher\",\"pooh\",\"rabbit\",\"Christopher\",\"rabbit\",\"pooh\",\"rabbit\",\"piglet\",\"rabbit\",\"piglet\",\"Christopher\",\"Christopher\",\"pooh\",\"piglet\",\"piglet\",\"piglet\",\"rabbit\",\"Christopher\",\"rabbit\",\"Christopher\",\"pooh\",\"piglet\",\"pooh\",\"Christopher\",\"pooh\",\"Christopher\",\"pooh\",\"rabbit\",\"Christopher\",\"rabbit\",\"piglet\",\"Christopher\",\"piglet\",\"pooh\",\"Christopher\",\"Christopher\",\"rabbit\",\"Christopher\",\"Christopher\",\"piglet\",\"rabbit\",\"rabbit\",\"piglet\",\"piglet\",\"rabbit\",\"pooh\",\"piglet\",\"piglet\",\"pooh\",\"pooh\",\"rabbit\",\"piglet\",\"piglet\",\"rabbit\",\"piglet\",\"Christopher\",\"Christopher\",\"Christopher\",\"Christopher\",\"piglet\",\"piglet\",\"Christopher\",\"pooh\",\"piglet\",\"rabbit\",\"pooh\",\"pooh\",\"rabbit\",\"rabbit\",\"pooh\",\"piglet\",\"pooh\",\"rabbit\",\"pooh\",\"pooh\",\"pooh\",\"piglet\",\"Christopher\",\"rabbit\",\"pooh\",\"piglet\",\"Christopher\",\"Christopher\",\"pooh\",\"piglet\",\"piglet\",\"piglet\",\"piglet\",\"rabbit\",\"pooh\",\"piglet\",\"Christopher\",\"Christopher\",\"pooh\",\"rabbit\",\"Christopher\",\"piglet\",\"rabbit\",\"rabbit\",\"rabbit\",\"rabbit\",\"piglet\",\"pooh\",\"piglet\",\"pooh\",\"Christopher\",\"rabbit\",\"piglet\",\"piglet\",\"rabbit\",\"piglet\",\"piglet\",\"piglet\",\"rabbit\",\"pooh\",\"pooh\",\"Christopher\",\"piglet\",\"Christopher\",\"pooh\",\"Christopher\",\"rabbit\",\"piglet\",\"piglet\",\"pooh\",\"pooh\",\"Christopher\",\"Christopher\",\"piglet\",\"Christopher\",\"pooh\",\"Christopher\",\"pooh\",\"pooh\",\"Christopher\",\"Christopher\",\"piglet\",\"pooh\",\"Christopher\",\"Christopher\",\"Christopher\",\"Christopher\",\"piglet\",\"pooh\",\"pooh\",\"Christopher\",\"piglet\",\"pooh\",\"rabbit\",\"piglet\",\"rabbit\",\"rabbit\",\"rabbit\",\"rabbit\",\"pooh\",\"Christopher\",\"rabbit\",\"pooh\",\"piglet\",\"rabbit\",\"pooh\",\"Christopher\",\"piglet\",\"piglet\",\"pooh\",\"rabbit\",\"Christopher\",\"Christopher\",\"piglet\",\"Christopher\",\"piglet\",\"pooh\",\"Christopher\",\"pooh\",\"piglet\",\"piglet\",\"Christopher\",\"Christopher\",\"pooh\",\"pooh\",\"pooh\",\"rabbit\",\"piglet\",\"piglet\",\"rabbit\",\"rabbit\",\"rabbit\",\"piglet\",\"rabbit\",\"piglet\",\"piglet\",\"piglet\",\"piglet\",\"rabbit\",\"rabbit\",\"rabbit\",\"Christopher\",\"Christopher\",\"piglet\",\"pooh\",\"pooh\",\"pooh\",\"pooh\",\"pooh\",\"piglet\",\"piglet\",\"piglet\",\"Christopher\",\"rabbit\",\"pooh\",\"Christopher\",\"pooh\",\"Christopher\",\"piglet\",\"rabbit\",\"rabbit\",\"rabbit\",\"pooh\",\"piglet\",\"Christopher\",\"Christopher\",\"piglet\",\"pooh\",\"rabbit\",\"Christopher\",\"rabbit\",\"Christopher\",\"piglet\",\"piglet\",\"rabbit\",\"pooh\",\"piglet\",\"piglet\",\"pooh\",\"pooh\",\"Christopher\",\"pooh\",\"pooh\",\"Christopher\",\"rabbit\",\"piglet\",\"rabbit\",\"piglet\",\"Christopher\",\"Christopher\",\"Christopher\",\"pooh\",\"pooh\",\"pooh\",\"piglet\",\"piglet\",\"Christopher\",\"piglet\",\"piglet\",\"Christopher\",\"Christopher\",\"piglet\",\"pooh\",\"pooh\",\"Christopher\",\"piglet\",\"piglet\",\"Christopher\",\"pooh\",\"piglet\",\"rabbit\",\"rabbit\",\"Christopher\",\"piglet\",\"Christopher\",\"pooh\",\"rabbit\",\"rabbit\",\"pooh\",\"piglet\",\"piglet\",\"rabbit\",\"Christopher\",\"piglet\",\"Christopher\",\"rabbit\",\"piglet\",\"piglet\",\"piglet\",\"Christopher\",\"rabbit\",\"piglet\",\"Christopher\",\"Christopher\",\"rabbit\",\"piglet\",\"rabbit\",\"rabbit\",\"rabbit\",\"pooh\",\"Christopher\",\"piglet\",\"piglet\",\"Christopher\",\"Christopher\",\"Christopher\",\"rabbit\",\"piglet\",\"piglet\",\"pooh\",\"rabbit\",\"rabbit\",\"Christopher\",\"pooh\",\"rabbit\",\"rabbit\",\"Christopher\",\"piglet\",\"pooh\",\"piglet\",\"rabbit\",\"pooh\",\"rabbit\",\"piglet\",\"piglet\",\"Christopher\",\"pooh\",\"Christopher\",\"piglet\",\"rabbit\",\"piglet\",\"rabbit\",\"rabbit\",\"Christopher\",\"Christopher\",\"rabbit\",\"Christopher\",\"rabbit\",\"piglet\",\"Christopher\",\"pooh\",\"piglet\",\"piglet\",\"piglet\",\"rabbit\",\"rabbit\",\"rabbit\",\"piglet\",\"Christopher\",\"Christopher\",\"Christopher\",\"pooh\",\"rabbit\",\"rabbit\",\"pooh\",\"rabbit\",\"piglet\",\"rabbit\",\"piglet\",\"piglet\",\"Christopher\",\"piglet\",\"pooh\",\"rabbit\",\"Christopher\",\"pooh\",\"rabbit\",\"pooh\"]}},\"id\":\"7da09be1-ba23-420d-b937-f658e3ebde4d\",\"type\":\"ColumnDataSource\"},{\"attributes\":{},\"id\":\"0c69a16b-21cd-424c-9840-91440bf74878\",\"type\":\"BasicTickFormatter\"},{\"attributes\":{\"callback\":null},\"id\":\"8da7e2ff-f70c-4dc5-ac99-1cf103b51b9e\",\"type\":\"DataRange1d\"},{\"attributes\":{\"below\":[{\"id\":\"2027e668-a625-4a11-bbab-af2bdefde421\",\"type\":\"LinearAxis\"}],\"left\":[{\"id\":\"92f2dc2b-6482-4e42-89ae-b5783e8b0109\",\"type\":\"LinearAxis\"}],\"plot_height\":400,\"plot_width\":800,\"renderers\":[{\"id\":\"2027e668-a625-4a11-bbab-af2bdefde421\",\"type\":\"LinearAxis\"},{\"id\":\"5d9280a8-e233-4006-9066-ca5c4cf917f8\",\"type\":\"Grid\"},{\"id\":\"92f2dc2b-6482-4e42-89ae-b5783e8b0109\",\"type\":\"LinearAxis\"},{\"id\":\"855915aa-4180-4946-bcec-b701351e2cfa\",\"type\":\"Grid\"},{\"id\":\"6a0db5ff-db66-4e6f-9644-f45f8a8dafae\",\"type\":\"BoxAnnotation\"},{\"id\":\"2ee9bf6b-0a58-4c29-af59-07345d842288\",\"type\":\"GlyphRenderer\"}],\"title\":{\"id\":\"b33ccc0e-57a6-4665-8fee-ef2cb5fd7f2c\",\"type\":\"Title\"},\"toolbar\":{\"id\":\"c14f513b-29bf-4790-a796-9039a5df918c\",\"type\":\"Toolbar\"},\"toolbar_location\":\"above\",\"x_range\":{\"id\":\"8da7e2ff-f70c-4dc5-ac99-1cf103b51b9e\",\"type\":\"DataRange1d\"},\"x_scale\":{\"id\":\"7d92381d-cb2c-40c8-83ea-22cfc57a44ce\",\"type\":\"LinearScale\"},\"y_range\":{\"id\":\"d4e21563-3e3b-4261-be6b-5c55083b78e2\",\"type\":\"DataRange1d\"},\"y_scale\":{\"id\":\"2daf8737-4508-4107-a87b-eac217f51fd3\",\"type\":\"LinearScale\"}},\"id\":\"6741762d-2ff6-4285-9595-4af08f134d7c\",\"subtype\":\"Figure\",\"type\":\"Plot\"},{\"attributes\":{\"source\":{\"id\":\"7da09be1-ba23-420d-b937-f658e3ebde4d\",\"type\":\"ColumnDataSource\"}},\"id\":\"92461cdd-884b-43e0-ac20-a999f9e1e6e5\",\"type\":\"CDSView\"},{\"attributes\":{\"callback\":null},\"id\":\"d4e21563-3e3b-4261-be6b-5c55083b78e2\",\"type\":\"DataRange1d\"},{\"attributes\":{\"plot\":null,\"text\":\"\"},\"id\":\"b33ccc0e-57a6-4665-8fee-ef2cb5fd7f2c\",\"type\":\"Title\"},{\"attributes\":{},\"id\":\"2daf8737-4508-4107-a87b-eac217f51fd3\",\"type\":\"LinearScale\"},{\"attributes\":{\"callback\":null,\"overlay\":{\"id\":\"6a0db5ff-db66-4e6f-9644-f45f8a8dafae\",\"type\":\"BoxAnnotation\"},\"renderers\":[{\"id\":\"2ee9bf6b-0a58-4c29-af59-07345d842288\",\"type\":\"GlyphRenderer\"}]},\"id\":\"236afe67-d5dd-441d-ae4c-adf750604577\",\"type\":\"BoxSelectTool\"},{\"attributes\":{\"callback\":null,\"tooltips\":[[\"index\",\"$index\"],[\"(x,y)\",\"($x, $y)\"],[\"A\",\"@A\"],[\"B\",\"@B\"],[\"type\",\"@type\"],[\"color\",\"@color\"]]},\"id\":\"40259879-a857-44f6-834d-87e2c6587b9f\",\"type\":\"HoverTool\"},{\"attributes\":{\"fill_alpha\":{\"value\":0.1},\"fill_color\":{\"value\":\"#1f77b4\"},\"line_alpha\":{\"value\":0.1},\"line_color\":{\"value\":\"#1f77b4\"},\"size\":{\"units\":\"screen\",\"value\":10},\"x\":{\"field\":\"A\"},\"y\":{\"field\":\"B\"}},\"id\":\"8d543b35-ebbc-497e-8008-dedd09ea1282\",\"type\":\"Circle\"},{\"attributes\":{},\"id\":\"9e323e07-50e5-4211-85d1-90fca7288544\",\"type\":\"PanTool\"},{\"attributes\":{},\"id\":\"7d92381d-cb2c-40c8-83ea-22cfc57a44ce\",\"type\":\"LinearScale\"},{\"attributes\":{\"bottom_units\":\"screen\",\"fill_alpha\":{\"value\":0.5},\"fill_color\":{\"value\":\"lightgrey\"},\"left_units\":\"screen\",\"level\":\"overlay\",\"line_alpha\":{\"value\":1.0},\"line_color\":{\"value\":\"black\"},\"line_dash\":[4,4],\"line_width\":{\"value\":2},\"plot\":null,\"render_mode\":\"css\",\"right_units\":\"screen\",\"top_units\":\"screen\"},\"id\":\"6a0db5ff-db66-4e6f-9644-f45f8a8dafae\",\"type\":\"BoxAnnotation\"},{\"attributes\":{},\"id\":\"e95bb7e1-88b6-4142-bd8b-2033f3fc2187\",\"type\":\"WheelZoomTool\"},{\"attributes\":{},\"id\":\"7bf13c58-f6f2-4363-8ae2-65e8559ec74f\",\"type\":\"BasicTicker\"},{\"attributes\":{},\"id\":\"cd943bf7-7c3c-4e30-8c5d-c74c86631463\",\"type\":\"ResetTool\"},{\"attributes\":{},\"id\":\"90c10bbb-4462-445c-b401-53381b95d254\",\"type\":\"BasicTickFormatter\"},{\"attributes\":{},\"id\":\"3f77523c-1496-4682-9c0f-a29c9a8e8a1b\",\"type\":\"CrosshairTool\"},{\"attributes\":{\"formatter\":{\"id\":\"90c10bbb-4462-445c-b401-53381b95d254\",\"type\":\"BasicTickFormatter\"},\"plot\":{\"id\":\"6741762d-2ff6-4285-9595-4af08f134d7c\",\"subtype\":\"Figure\",\"type\":\"Plot\"},\"ticker\":{\"id\":\"7bf13c58-f6f2-4363-8ae2-65e8559ec74f\",\"type\":\"BasicTicker\"}},\"id\":\"92f2dc2b-6482-4e42-89ae-b5783e8b0109\",\"type\":\"LinearAxis\"},{\"attributes\":{\"dimension\":1,\"plot\":{\"id\":\"6741762d-2ff6-4285-9595-4af08f134d7c\",\"subtype\":\"Figure\",\"type\":\"Plot\"},\"ticker\":{\"id\":\"7bf13c58-f6f2-4363-8ae2-65e8559ec74f\",\"type\":\"BasicTicker\"}},\"id\":\"855915aa-4180-4946-bcec-b701351e2cfa\",\"type\":\"Grid\"},{\"attributes\":{},\"id\":\"9860eaa8-6714-47a0-844a-f1f8421910b7\",\"type\":\"BasicTicker\"},{\"attributes\":{\"fill_alpha\":{\"value\":0.3},\"fill_color\":{\"field\":\"color\"},\"line_alpha\":{\"value\":0.3},\"line_color\":{\"field\":\"color\"},\"size\":{\"units\":\"screen\",\"value\":10},\"x\":{\"field\":\"A\"},\"y\":{\"field\":\"B\"}},\"id\":\"ad9aba4c-06df-4341-9dde-d690608033f7\",\"type\":\"Circle\"},{\"attributes\":{\"plot\":{\"id\":\"6741762d-2ff6-4285-9595-4af08f134d7c\",\"subtype\":\"Figure\",\"type\":\"Plot\"},\"ticker\":{\"id\":\"9860eaa8-6714-47a0-844a-f1f8421910b7\",\"type\":\"BasicTicker\"}},\"id\":\"5d9280a8-e233-4006-9066-ca5c4cf917f8\",\"type\":\"Grid\"},{\"attributes\":{\"active_drag\":\"auto\",\"active_inspect\":\"auto\",\"active_scroll\":\"auto\",\"active_tap\":\"auto\",\"tools\":[{\"id\":\"40259879-a857-44f6-834d-87e2c6587b9f\",\"type\":\"HoverTool\"},{\"id\":\"236afe67-d5dd-441d-ae4c-adf750604577\",\"type\":\"BoxSelectTool\"},{\"id\":\"cd943bf7-7c3c-4e30-8c5d-c74c86631463\",\"type\":\"ResetTool\"},{\"id\":\"e95bb7e1-88b6-4142-bd8b-2033f3fc2187\",\"type\":\"WheelZoomTool\"},{\"id\":\"9e323e07-50e5-4211-85d1-90fca7288544\",\"type\":\"PanTool\"},{\"id\":\"3f77523c-1496-4682-9c0f-a29c9a8e8a1b\",\"type\":\"CrosshairTool\"}]},\"id\":\"c14f513b-29bf-4790-a796-9039a5df918c\",\"type\":\"Toolbar\"},{\"attributes\":{\"data_source\":{\"id\":\"7da09be1-ba23-420d-b937-f658e3ebde4d\",\"type\":\"ColumnDataSource\"},\"glyph\":{\"id\":\"ad9aba4c-06df-4341-9dde-d690608033f7\",\"type\":\"Circle\"},\"hover_glyph\":null,\"muted_glyph\":null,\"nonselection_glyph\":{\"id\":\"8d543b35-ebbc-497e-8008-dedd09ea1282\",\"type\":\"Circle\"},\"selection_glyph\":null,\"view\":{\"id\":\"92461cdd-884b-43e0-ac20-a999f9e1e6e5\",\"type\":\"CDSView\"}},\"id\":\"2ee9bf6b-0a58-4c29-af59-07345d842288\",\"type\":\"GlyphRenderer\"},{\"attributes\":{\"formatter\":{\"id\":\"0c69a16b-21cd-424c-9840-91440bf74878\",\"type\":\"BasicTickFormatter\"},\"plot\":{\"id\":\"6741762d-2ff6-4285-9595-4af08f134d7c\",\"subtype\":\"Figure\",\"type\":\"Plot\"},\"ticker\":{\"id\":\"9860eaa8-6714-47a0-844a-f1f8421910b7\",\"type\":\"BasicTicker\"}},\"id\":\"2027e668-a625-4a11-bbab-af2bdefde421\",\"type\":\"LinearAxis\"}],\"root_ids\":[\"6741762d-2ff6-4285-9595-4af08f134d7c\"]},\"title\":\"Bokeh Application\",\"version\":\"0.12.10\"}};\n",
       "    var render_items = [{\"docid\":\"b7e7b4cb-18af-4660-9707-12df5f23d385\",\"elementid\":\"47a42828-0506-4183-8d3a-d1e04c966db5\",\"modelid\":\"6741762d-2ff6-4285-9595-4af08f134d7c\"}];\n",
       "\n",
       "    root.Bokeh.embed.embed_items(docs_json, render_items);\n",
       "  }\n",
       "\n",
       "  if (root.Bokeh !== undefined) {\n",
       "    embed_document(root);\n",
       "  } else {\n",
       "    var attempts = 0;\n",
       "    var timer = setInterval(function(root) {\n",
       "      if (root.Bokeh !== undefined) {\n",
       "        embed_document(root);\n",
       "        clearInterval(timer);\n",
       "      }\n",
       "      attempts++;\n",
       "      if (attempts > 100) {\n",
       "        console.log(\"Bokeh: ERROR: Unable to embed document because BokehJS library is missing\")\n",
       "        clearInterval(timer);\n",
       "      }\n",
       "    }, 10, root)\n",
       "  }\n",
       "})(window);"
      ],
      "application/vnd.bokehjs_exec.v0+json": ""
     },
     "metadata": {
      "application/vnd.bokehjs_exec.v0+json": {
       "id": "6741762d-2ff6-4285-9595-4af08f134d7c"
      }
     },
     "output_type": "display_data"
    },
    {
     "data": {
      "text/html": [
       "\n",
       "<div class=\"bk-root\">\n",
       "    <div class=\"bk-plotdiv\" id=\"2bbadc87-e622-471d-aa4b-4c9c07c8db2b\"></div>\n",
       "</div>"
      ]
     },
     "metadata": {},
     "output_type": "display_data"
    },
    {
     "data": {
      "application/javascript": [
       "(function(root) {\n",
       "  function embed_document(root) {\n",
       "    var docs_json = {\"253621a4-5b97-40aa-8f33-7cd26107e28c\":{\"roots\":{\"references\":[{\"attributes\":{\"below\":[{\"id\":\"531e9e93-103f-4ba1-ac5b-7b63a9c74ed0\",\"type\":\"LinearAxis\"}],\"left\":[{\"id\":\"3c543e90-1b01-4f96-8001-16e9881a679c\",\"type\":\"LinearAxis\"}],\"plot_height\":400,\"plot_width\":800,\"renderers\":[{\"id\":\"531e9e93-103f-4ba1-ac5b-7b63a9c74ed0\",\"type\":\"LinearAxis\"},{\"id\":\"ec9bd9de-f208-4224-90e2-f1f27401223c\",\"type\":\"Grid\"},{\"id\":\"3c543e90-1b01-4f96-8001-16e9881a679c\",\"type\":\"LinearAxis\"},{\"id\":\"50c9044a-5ee8-4bf6-9d72-ff1e12e52583\",\"type\":\"Grid\"},{\"id\":\"2f8a4675-5728-4bbb-9922-126cad4d4529\",\"type\":\"BoxAnnotation\"},{\"id\":\"95c1cbe7-fd08-4aab-9880-3d3d3fd6bf13\",\"type\":\"GlyphRenderer\"}],\"title\":{\"id\":\"077b55d3-ff4d-4a88-b059-d87d993131d5\",\"type\":\"Title\"},\"toolbar\":{\"id\":\"daa57031-6676-4c0d-9961-5c5fa51a35d8\",\"type\":\"Toolbar\"},\"toolbar_location\":\"above\",\"x_range\":{\"id\":\"1d5d7a58-319c-41d1-84e9-8fb040f20e0d\",\"type\":\"DataRange1d\"},\"x_scale\":{\"id\":\"9fb8386a-258f-4a94-81b1-04f26268c402\",\"type\":\"LinearScale\"},\"y_range\":{\"id\":\"dfddb785-da8a-4acd-978c-7b7e65608cee\",\"type\":\"DataRange1d\"},\"y_scale\":{\"id\":\"559f1e0f-9cd5-491e-8a31-9e28cb80bdc6\",\"type\":\"LinearScale\"}},\"id\":\"b4cf97b8-b2ef-4cd9-928c-4a36618b180c\",\"subtype\":\"Figure\",\"type\":\"Plot\"},{\"attributes\":{\"callback\":null,\"overlay\":{\"id\":\"2f8a4675-5728-4bbb-9922-126cad4d4529\",\"type\":\"BoxAnnotation\"},\"renderers\":[{\"id\":\"95c1cbe7-fd08-4aab-9880-3d3d3fd6bf13\",\"type\":\"GlyphRenderer\"}]},\"id\":\"bd764ee4-c9bf-4b3d-85fd-d3cd42866a8d\",\"type\":\"BoxSelectTool\"},{\"attributes\":{\"callback\":null,\"column_names\":[\"A\",\"B\",\"color\",\"type\",\"index\"],\"data\":{\"A\":{\"__ndarray__\":\"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\",\"dtype\":\"float64\",\"shape\":[500]},\"B\":{\"__ndarray__\":\"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\",\"dtype\":\"float64\",\"shape\":[500]},\"color\":[\"green\",\"red\",\"red\",\"green\",\"blue\",\"blue\",\"red\",\"yellow\",\"yellow\",\"red\",\"green\",\"blue\",\"yellow\",\"yellow\",\"green\",\"blue\",\"yellow\",\"blue\",\"blue\",\"blue\",\"blue\",\"green\",\"blue\",\"red\",\"blue\",\"red\",\"green\",\"yellow\",\"green\",\"red\",\"blue\",\"blue\",\"yellow\",\"yellow\",\"yellow\",\"blue\",\"green\",\"blue\",\"red\",\"red\",\"blue\",\"yellow\",\"red\",\"green\",\"yellow\",\"green\",\"red\",\"red\",\"yellow\",\"yellow\",\"green\",\"blue\",\"blue\",\"red\",\"green\",\"red\",\"blue\",\"green\",\"red\",\"red\",\"yellow\",\"yellow\",\"yellow\",\"yellow\",\"blue\",\"yellow\",\"yellow\",\"yellow\",\"yellow\",\"yellow\",\"green\",\"green\",\"blue\",\"green\",\"red\",\"blue\",\"green\",\"green\",\"green\",\"yellow\",\"green\",\"yellow\",\"red\",\"yellow\",\"blue\",\"blue\",\"yellow\",\"yellow\",\"yellow\",\"green\",\"red\",\"red\",\"blue\",\"yellow\",\"blue\",\"yellow\",\"yellow\",\"blue\",\"blue\",\"green\",\"blue\",\"blue\",\"green\",\"yellow\",\"red\",\"blue\",\"blue\",\"yellow\",\"yellow\",\"blue\",\"blue\",\"yellow\",\"green\",\"blue\",\"green\",\"red\",\"blue\",\"yellow\",\"blue\",\"blue\",\"green\",\"blue\",\"yellow\",\"green\",\"blue\",\"green\",\"red\",\"blue\",\"blue\",\"red\",\"green\",\"green\",\"green\",\"yellow\",\"green\",\"yellow\",\"yellow\",\"red\",\"yellow\",\"blue\",\"yellow\",\"red\",\"green\",\"blue\",\"green\",\"blue\",\"blue\",\"red\",\"yellow\",\"red\",\"yellow\",\"yellow\",\"yellow\",\"yellow\",\"green\",\"green\",\"yellow\",\"green\",\"yellow\",\"green\",\"red\",\"blue\",\"blue\",\"yellow\",\"red\",\"green\",\"blue\",\"yellow\",\"green\",\"yellow\",\"red\",\"red\",\"red\",\"red\",\"green\",\"blue\",\"green\",\"blue\",\"blue\",\"yellow\",\"red\",\"yellow\",\"blue\",\"yellow\",\"green\",\"yellow\",\"green\",\"red\",\"green\",\"green\",\"green\",\"yellow\",\"yellow\",\"blue\",\"yellow\",\"green\",\"blue\",\"red\",\"yellow\",\"red\",\"yellow\",\"red\",\"blue\",\"red\",\"green\",\"green\",\"yellow\",\"blue\",\"yellow\",\"blue\",\"yellow\",\"yellow\",\"green\",\"yellow\",\"red\",\"green\",\"yellow\",\"blue\",\"yellow\",\"red\",\"yellow\",\"blue\",\"red\",\"red\",\"red\",\"red\",\"green\",\"green\",\"red\",\"yellow\",\"red\",\"blue\",\"yellow\",\"yellow\",\"green\",\"red\",\"green\",\"blue\",\"yellow\",\"blue\",\"blue\",\"blue\",\"blue\",\"red\",\"red\",\"red\",\"red\",\"red\",\"blue\",\"green\",\"green\",\"blue\",\"green\",\"blue\",\"green\",\"blue\",\"green\",\"blue\",\"green\",\"red\",\"blue\",\"green\",\"yellow\",\"yellow\",\"red\",\"yellow\",\"blue\",\"red\",\"red\",\"blue\",\"green\",\"blue\",\"red\",\"green\",\"blue\",\"yellow\",\"green\",\"blue\",\"green\",\"blue\",\"green\",\"green\",\"green\",\"red\",\"blue\",\"yellow\",\"blue\",\"green\",\"red\",\"blue\",\"red\",\"green\",\"blue\",\"green\",\"red\",\"green\",\"blue\",\"blue\",\"green\",\"red\",\"green\",\"yellow\",\"red\",\"red\",\"green\",\"blue\",\"red\",\"blue\",\"red\",\"green\",\"yellow\",\"red\",\"green\",\"green\",\"red\",\"blue\",\"green\",\"red\",\"green\",\"red\",\"blue\",\"red\",\"yellow\",\"green\",\"blue\",\"yellow\",\"yellow\",\"blue\",\"green\",\"yellow\",\"green\",\"green\",\"yellow\",\"blue\",\"blue\",\"yellow\",\"red\",\"blue\",\"yellow\",\"red\",\"green\",\"yellow\",\"green\",\"yellow\",\"blue\",\"green\",\"yellow\",\"yellow\",\"red\",\"green\",\"green\",\"blue\",\"green\",\"green\",\"blue\",\"green\",\"green\",\"yellow\",\"blue\",\"green\",\"green\",\"red\",\"green\",\"green\",\"blue\",\"green\",\"blue\",\"green\",\"blue\",\"red\",\"red\",\"green\",\"green\",\"yellow\",\"red\",\"red\",\"red\",\"blue\",\"blue\",\"blue\",\"blue\",\"blue\",\"red\",\"green\",\"blue\",\"blue\",\"blue\",\"green\",\"yellow\",\"green\",\"green\",\"yellow\",\"yellow\",\"yellow\",\"green\",\"red\",\"green\",\"green\",\"yellow\",\"blue\",\"green\",\"yellow\",\"blue\",\"red\",\"green\",\"red\",\"red\",\"red\",\"green\",\"green\",\"red\",\"red\",\"yellow\",\"blue\",\"red\",\"red\",\"yellow\",\"blue\",\"yellow\",\"yellow\",\"green\",\"red\",\"red\",\"red\",\"yellow\",\"yellow\",\"red\",\"blue\",\"red\",\"green\",\"blue\",\"green\",\"green\",\"green\",\"blue\",\"green\",\"green\",\"green\",\"red\",\"green\",\"red\",\"yellow\",\"red\",\"blue\",\"red\",\"red\",\"green\",\"red\",\"yellow\",\"red\",\"blue\",\"blue\",\"red\",\"red\",\"red\",\"yellow\",\"yellow\",\"red\",\"green\",\"green\",\"green\",\"blue\",\"green\",\"green\",\"green\",\"red\",\"yellow\",\"blue\",\"blue\",\"blue\",\"green\",\"blue\",\"red\",\"green\",\"blue\",\"red\",\"red\",\"green\",\"green\",\"yellow\",\"blue\",\"blue\",\"green\",\"green\",\"yellow\",\"green\",\"yellow\",\"green\",\"blue\",\"yellow\",\"red\",\"red\",\"yellow\",\"yellow\",\"yellow\",\"green\",\"red\",\"green\",\"green\",\"green\"],\"index\":[0,1,2,3,4,5,6,7,8,9,10,11,12,13,14,15,16,17,18,19,20,21,22,23,24,25,26,27,28,29,30,31,32,33,34,35,36,37,38,39,40,41,42,43,44,45,46,47,48,49,50,51,52,53,54,55,56,57,58,59,60,61,62,63,64,65,66,67,68,69,70,71,72,73,74,75,76,77,78,79,80,81,82,83,84,85,86,87,88,89,90,91,92,93,94,95,96,97,98,99,100,101,102,103,104,105,106,107,108,109,110,111,112,113,114,115,116,117,118,119,120,121,122,123,124,125,126,127,128,129,130,131,132,133,134,135,136,137,138,139,140,141,142,143,144,145,146,147,148,149,150,151,152,153,154,155,156,157,158,159,160,161,162,163,164,165,166,167,168,169,170,171,172,173,174,175,176,177,178,179,180,181,182,183,184,185,186,187,188,189,190,191,192,193,194,195,196,197,198,199,200,201,202,203,204,205,206,207,208,209,210,211,212,213,214,215,216,217,218,219,220,221,222,223,224,225,226,227,228,229,230,231,232,233,234,235,236,237,238,239,240,241,242,243,244,245,246,247,248,249,250,251,252,253,254,255,256,257,258,259,260,261,262,263,264,265,266,267,268,269,270,271,272,273,274,275,276,277,278,279,280,281,282,283,284,285,286,287,288,289,290,291,292,293,294,295,296,297,298,299,300,301,302,303,304,305,306,307,308,309,310,311,312,313,314,315,316,317,318,319,320,321,322,323,324,325,326,327,328,329,330,331,332,333,334,335,336,337,338,339,340,341,342,343,344,345,346,347,348,349,350,351,352,353,354,355,356,357,358,359,360,361,362,363,364,365,366,367,368,369,370,371,372,373,374,375,376,377,378,379,380,381,382,383,384,385,386,387,388,389,390,391,392,393,394,395,396,397,398,399,400,401,402,403,404,405,406,407,408,409,410,411,412,413,414,415,416,417,418,419,420,421,422,423,424,425,426,427,428,429,430,431,432,433,434,435,436,437,438,439,440,441,442,443,444,445,446,447,448,449,450,451,452,453,454,455,456,457,458,459,460,461,462,463,464,465,466,467,468,469,470,471,472,473,474,475,476,477,478,479,480,481,482,483,484,485,486,487,488,489,490,491,492,493,494,495,496,497,498,499],\"type\":[\"Christopher\",\"Christopher\",\"rabbit\",\"Christopher\",\"pooh\",\"piglet\",\"rabbit\",\"piglet\",\"pooh\",\"piglet\",\"Christopher\",\"rabbit\",\"pooh\",\"pooh\",\"Christopher\",\"pooh\",\"Christopher\",\"Christopher\",\"rabbit\",\"rabbit\",\"rabbit\",\"rabbit\",\"Christopher\",\"rabbit\",\"pooh\",\"rabbit\",\"Christopher\",\"piglet\",\"pooh\",\"Christopher\",\"piglet\",\"piglet\",\"Christopher\",\"piglet\",\"pooh\",\"piglet\",\"Christopher\",\"rabbit\",\"Christopher\",\"Christopher\",\"piglet\",\"piglet\",\"pooh\",\"Christopher\",\"pooh\",\"Christopher\",\"Christopher\",\"rabbit\",\"pooh\",\"Christopher\",\"pooh\",\"rabbit\",\"Christopher\",\"Christopher\",\"piglet\",\"piglet\",\"pooh\",\"Christopher\",\"piglet\",\"Christopher\",\"piglet\",\"rabbit\",\"piglet\",\"rabbit\",\"pooh\",\"rabbit\",\"piglet\",\"rabbit\",\"pooh\",\"rabbit\",\"Christopher\",\"Christopher\",\"pooh\",\"pooh\",\"rabbit\",\"pooh\",\"Christopher\",\"rabbit\",\"rabbit\",\"pooh\",\"piglet\",\"rabbit\",\"Christopher\",\"piglet\",\"piglet\",\"Christopher\",\"pooh\",\"rabbit\",\"piglet\",\"rabbit\",\"pooh\",\"pooh\",\"rabbit\",\"pooh\",\"pooh\",\"Christopher\",\"rabbit\",\"piglet\",\"rabbit\",\"rabbit\",\"Christopher\",\"Christopher\",\"Christopher\",\"piglet\",\"Christopher\",\"pooh\",\"Christopher\",\"pooh\",\"Christopher\",\"pooh\",\"Christopher\",\"Christopher\",\"pooh\",\"pooh\",\"pooh\",\"rabbit\",\"pooh\",\"piglet\",\"rabbit\",\"pooh\",\"Christopher\",\"pooh\",\"piglet\",\"piglet\",\"Christopher\",\"rabbit\",\"Christopher\",\"Christopher\",\"rabbit\",\"Christopher\",\"pooh\",\"piglet\",\"rabbit\",\"pooh\",\"pooh\",\"piglet\",\"Christopher\",\"Christopher\",\"pooh\",\"rabbit\",\"Christopher\",\"rabbit\",\"pooh\",\"rabbit\",\"piglet\",\"rabbit\",\"piglet\",\"Christopher\",\"Christopher\",\"pooh\",\"piglet\",\"piglet\",\"piglet\",\"rabbit\",\"Christopher\",\"rabbit\",\"Christopher\",\"pooh\",\"piglet\",\"pooh\",\"Christopher\",\"pooh\",\"Christopher\",\"pooh\",\"rabbit\",\"Christopher\",\"rabbit\",\"piglet\",\"Christopher\",\"piglet\",\"pooh\",\"Christopher\",\"Christopher\",\"rabbit\",\"Christopher\",\"Christopher\",\"piglet\",\"rabbit\",\"rabbit\",\"piglet\",\"piglet\",\"rabbit\",\"pooh\",\"piglet\",\"piglet\",\"pooh\",\"pooh\",\"rabbit\",\"piglet\",\"piglet\",\"rabbit\",\"piglet\",\"Christopher\",\"Christopher\",\"Christopher\",\"Christopher\",\"piglet\",\"piglet\",\"Christopher\",\"pooh\",\"piglet\",\"rabbit\",\"pooh\",\"pooh\",\"rabbit\",\"rabbit\",\"pooh\",\"piglet\",\"pooh\",\"rabbit\",\"pooh\",\"pooh\",\"pooh\",\"piglet\",\"Christopher\",\"rabbit\",\"pooh\",\"piglet\",\"Christopher\",\"Christopher\",\"pooh\",\"piglet\",\"piglet\",\"piglet\",\"piglet\",\"rabbit\",\"pooh\",\"piglet\",\"Christopher\",\"Christopher\",\"pooh\",\"rabbit\",\"Christopher\",\"piglet\",\"rabbit\",\"rabbit\",\"rabbit\",\"rabbit\",\"piglet\",\"pooh\",\"piglet\",\"pooh\",\"Christopher\",\"rabbit\",\"piglet\",\"piglet\",\"rabbit\",\"piglet\",\"piglet\",\"piglet\",\"rabbit\",\"pooh\",\"pooh\",\"Christopher\",\"piglet\",\"Christopher\",\"pooh\",\"Christopher\",\"rabbit\",\"piglet\",\"piglet\",\"pooh\",\"pooh\",\"Christopher\",\"Christopher\",\"piglet\",\"Christopher\",\"pooh\",\"Christopher\",\"pooh\",\"pooh\",\"Christopher\",\"Christopher\",\"piglet\",\"pooh\",\"Christopher\",\"Christopher\",\"Christopher\",\"Christopher\",\"piglet\",\"pooh\",\"pooh\",\"Christopher\",\"piglet\",\"pooh\",\"rabbit\",\"piglet\",\"rabbit\",\"rabbit\",\"rabbit\",\"rabbit\",\"pooh\",\"Christopher\",\"rabbit\",\"pooh\",\"piglet\",\"rabbit\",\"pooh\",\"Christopher\",\"piglet\",\"piglet\",\"pooh\",\"rabbit\",\"Christopher\",\"Christopher\",\"piglet\",\"Christopher\",\"piglet\",\"pooh\",\"Christopher\",\"pooh\",\"piglet\",\"piglet\",\"Christopher\",\"Christopher\",\"pooh\",\"pooh\",\"pooh\",\"rabbit\",\"piglet\",\"piglet\",\"rabbit\",\"rabbit\",\"rabbit\",\"piglet\",\"rabbit\",\"piglet\",\"piglet\",\"piglet\",\"piglet\",\"rabbit\",\"rabbit\",\"rabbit\",\"Christopher\",\"Christopher\",\"piglet\",\"pooh\",\"pooh\",\"pooh\",\"pooh\",\"pooh\",\"piglet\",\"piglet\",\"piglet\",\"Christopher\",\"rabbit\",\"pooh\",\"Christopher\",\"pooh\",\"Christopher\",\"piglet\",\"rabbit\",\"rabbit\",\"rabbit\",\"pooh\",\"piglet\",\"Christopher\",\"Christopher\",\"piglet\",\"pooh\",\"rabbit\",\"Christopher\",\"rabbit\",\"Christopher\",\"piglet\",\"piglet\",\"rabbit\",\"pooh\",\"piglet\",\"piglet\",\"pooh\",\"pooh\",\"Christopher\",\"pooh\",\"pooh\",\"Christopher\",\"rabbit\",\"piglet\",\"rabbit\",\"piglet\",\"Christopher\",\"Christopher\",\"Christopher\",\"pooh\",\"pooh\",\"pooh\",\"piglet\",\"piglet\",\"Christopher\",\"piglet\",\"piglet\",\"Christopher\",\"Christopher\",\"piglet\",\"pooh\",\"pooh\",\"Christopher\",\"piglet\",\"piglet\",\"Christopher\",\"pooh\",\"piglet\",\"rabbit\",\"rabbit\",\"Christopher\",\"piglet\",\"Christopher\",\"pooh\",\"rabbit\",\"rabbit\",\"pooh\",\"piglet\",\"piglet\",\"rabbit\",\"Christopher\",\"piglet\",\"Christopher\",\"rabbit\",\"piglet\",\"piglet\",\"piglet\",\"Christopher\",\"rabbit\",\"piglet\",\"Christopher\",\"Christopher\",\"rabbit\",\"piglet\",\"rabbit\",\"rabbit\",\"rabbit\",\"pooh\",\"Christopher\",\"piglet\",\"piglet\",\"Christopher\",\"Christopher\",\"Christopher\",\"rabbit\",\"piglet\",\"piglet\",\"pooh\",\"rabbit\",\"rabbit\",\"Christopher\",\"pooh\",\"rabbit\",\"rabbit\",\"Christopher\",\"piglet\",\"pooh\",\"piglet\",\"rabbit\",\"pooh\",\"rabbit\",\"piglet\",\"piglet\",\"Christopher\",\"pooh\",\"Christopher\",\"piglet\",\"rabbit\",\"piglet\",\"rabbit\",\"rabbit\",\"Christopher\",\"Christopher\",\"rabbit\",\"Christopher\",\"rabbit\",\"piglet\",\"Christopher\",\"pooh\",\"piglet\",\"piglet\",\"piglet\",\"rabbit\",\"rabbit\",\"rabbit\",\"piglet\",\"Christopher\",\"Christopher\",\"Christopher\",\"pooh\",\"rabbit\",\"rabbit\",\"pooh\",\"rabbit\",\"piglet\",\"rabbit\",\"piglet\",\"piglet\",\"Christopher\",\"piglet\",\"pooh\",\"rabbit\",\"Christopher\",\"pooh\",\"rabbit\",\"pooh\"]}},\"id\":\"7da09be1-ba23-420d-b937-f658e3ebde4d\",\"type\":\"ColumnDataSource\"},{\"attributes\":{\"bottom_units\":\"screen\",\"fill_alpha\":{\"value\":0.5},\"fill_color\":{\"value\":\"lightgrey\"},\"left_units\":\"screen\",\"level\":\"overlay\",\"line_alpha\":{\"value\":1.0},\"line_color\":{\"value\":\"black\"},\"line_dash\":[4,4],\"line_width\":{\"value\":2},\"plot\":null,\"render_mode\":\"css\",\"right_units\":\"screen\",\"top_units\":\"screen\"},\"id\":\"2f8a4675-5728-4bbb-9922-126cad4d4529\",\"type\":\"BoxAnnotation\"},{\"attributes\":{\"fill_alpha\":{\"value\":0.1},\"fill_color\":{\"value\":\"#1f77b4\"},\"line_alpha\":{\"value\":0.1},\"line_color\":{\"value\":\"#1f77b4\"},\"top\":{\"field\":\"A\"},\"width\":{\"value\":1},\"x\":{\"field\":\"index\"}},\"id\":\"9564eb3e-4f8f-4a69-876c-5a5f9d5c039b\",\"type\":\"VBar\"},{\"attributes\":{\"active_drag\":\"auto\",\"active_inspect\":\"auto\",\"active_scroll\":\"auto\",\"active_tap\":\"auto\",\"tools\":[{\"id\":\"40259879-a857-44f6-834d-87e2c6587b9f\",\"type\":\"HoverTool\"},{\"id\":\"bd764ee4-c9bf-4b3d-85fd-d3cd42866a8d\",\"type\":\"BoxSelectTool\"},{\"id\":\"664f0ed6-fc80-4f38-af02-5ad70b5e6aeb\",\"type\":\"ResetTool\"},{\"id\":\"d1a03d85-44fe-409c-9d11-d61be1c9caf1\",\"type\":\"WheelZoomTool\"},{\"id\":\"7e3c9228-83b0-489d-abe5-651717269088\",\"type\":\"PanTool\"}]},\"id\":\"daa57031-6676-4c0d-9961-5c5fa51a35d8\",\"type\":\"Toolbar\"},{\"attributes\":{\"callback\":null,\"tooltips\":[[\"index\",\"$index\"],[\"(x,y)\",\"($x, $y)\"],[\"A\",\"@A\"],[\"B\",\"@B\"],[\"type\",\"@type\"],[\"color\",\"@color\"]]},\"id\":\"40259879-a857-44f6-834d-87e2c6587b9f\",\"type\":\"HoverTool\"},{\"attributes\":{\"callback\":null},\"id\":\"dfddb785-da8a-4acd-978c-7b7e65608cee\",\"type\":\"DataRange1d\"},{\"attributes\":{},\"id\":\"d1a03d85-44fe-409c-9d11-d61be1c9caf1\",\"type\":\"WheelZoomTool\"},{\"attributes\":{\"plot\":null,\"text\":\"\"},\"id\":\"077b55d3-ff4d-4a88-b059-d87d993131d5\",\"type\":\"Title\"},{\"attributes\":{},\"id\":\"afc2c7d6-e0e1-49e6-9150-ce74d46d25c3\",\"type\":\"BasicTickFormatter\"},{\"attributes\":{},\"id\":\"5d615b1c-f8e1-4ca3-86f7-fffbe90a4e55\",\"type\":\"BasicTickFormatter\"},{\"attributes\":{\"formatter\":{\"id\":\"5d615b1c-f8e1-4ca3-86f7-fffbe90a4e55\",\"type\":\"BasicTickFormatter\"},\"plot\":{\"id\":\"b4cf97b8-b2ef-4cd9-928c-4a36618b180c\",\"subtype\":\"Figure\",\"type\":\"Plot\"},\"ticker\":{\"id\":\"9803f650-266b-4873-8ddb-bf0270ff8104\",\"type\":\"BasicTicker\"}},\"id\":\"531e9e93-103f-4ba1-ac5b-7b63a9c74ed0\",\"type\":\"LinearAxis\"},{\"attributes\":{},\"id\":\"9fb8386a-258f-4a94-81b1-04f26268c402\",\"type\":\"LinearScale\"},{\"attributes\":{\"callback\":null},\"id\":\"1d5d7a58-319c-41d1-84e9-8fb040f20e0d\",\"type\":\"DataRange1d\"},{\"attributes\":{},\"id\":\"9803f650-266b-4873-8ddb-bf0270ff8104\",\"type\":\"BasicTicker\"},{\"attributes\":{\"source\":{\"id\":\"7da09be1-ba23-420d-b937-f658e3ebde4d\",\"type\":\"ColumnDataSource\"}},\"id\":\"e371edf8-fd1f-47a1-ac10-b329a690dd40\",\"type\":\"CDSView\"},{\"attributes\":{\"data_source\":{\"id\":\"7da09be1-ba23-420d-b937-f658e3ebde4d\",\"type\":\"ColumnDataSource\"},\"glyph\":{\"id\":\"63734409-c58e-45bd-aadd-0450a732d404\",\"type\":\"VBar\"},\"hover_glyph\":null,\"muted_glyph\":null,\"nonselection_glyph\":{\"id\":\"9564eb3e-4f8f-4a69-876c-5a5f9d5c039b\",\"type\":\"VBar\"},\"selection_glyph\":null,\"view\":{\"id\":\"e371edf8-fd1f-47a1-ac10-b329a690dd40\",\"type\":\"CDSView\"}},\"id\":\"95c1cbe7-fd08-4aab-9880-3d3d3fd6bf13\",\"type\":\"GlyphRenderer\"},{\"attributes\":{},\"id\":\"7e3c9228-83b0-489d-abe5-651717269088\",\"type\":\"PanTool\"},{\"attributes\":{},\"id\":\"6498f677-f796-4d57-a9c4-40a7c384048f\",\"type\":\"BasicTicker\"},{\"attributes\":{\"dimension\":1,\"plot\":{\"id\":\"b4cf97b8-b2ef-4cd9-928c-4a36618b180c\",\"subtype\":\"Figure\",\"type\":\"Plot\"},\"ticker\":{\"id\":\"6498f677-f796-4d57-a9c4-40a7c384048f\",\"type\":\"BasicTicker\"}},\"id\":\"50c9044a-5ee8-4bf6-9d72-ff1e12e52583\",\"type\":\"Grid\"},{\"attributes\":{},\"id\":\"559f1e0f-9cd5-491e-8a31-9e28cb80bdc6\",\"type\":\"LinearScale\"},{\"attributes\":{\"formatter\":{\"id\":\"afc2c7d6-e0e1-49e6-9150-ce74d46d25c3\",\"type\":\"BasicTickFormatter\"},\"plot\":{\"id\":\"b4cf97b8-b2ef-4cd9-928c-4a36618b180c\",\"subtype\":\"Figure\",\"type\":\"Plot\"},\"ticker\":{\"id\":\"6498f677-f796-4d57-a9c4-40a7c384048f\",\"type\":\"BasicTicker\"}},\"id\":\"3c543e90-1b01-4f96-8001-16e9881a679c\",\"type\":\"LinearAxis\"},{\"attributes\":{},\"id\":\"664f0ed6-fc80-4f38-af02-5ad70b5e6aeb\",\"type\":\"ResetTool\"},{\"attributes\":{\"plot\":{\"id\":\"b4cf97b8-b2ef-4cd9-928c-4a36618b180c\",\"subtype\":\"Figure\",\"type\":\"Plot\"},\"ticker\":{\"id\":\"9803f650-266b-4873-8ddb-bf0270ff8104\",\"type\":\"BasicTicker\"}},\"id\":\"ec9bd9de-f208-4224-90e2-f1f27401223c\",\"type\":\"Grid\"},{\"attributes\":{\"fill_color\":{\"value\":\"#1f77b4\"},\"line_color\":{\"value\":\"#1f77b4\"},\"top\":{\"field\":\"A\"},\"width\":{\"value\":1},\"x\":{\"field\":\"index\"}},\"id\":\"63734409-c58e-45bd-aadd-0450a732d404\",\"type\":\"VBar\"}],\"root_ids\":[\"b4cf97b8-b2ef-4cd9-928c-4a36618b180c\"]},\"title\":\"Bokeh Application\",\"version\":\"0.12.10\"}};\n",
       "    var render_items = [{\"docid\":\"253621a4-5b97-40aa-8f33-7cd26107e28c\",\"elementid\":\"2bbadc87-e622-471d-aa4b-4c9c07c8db2b\",\"modelid\":\"b4cf97b8-b2ef-4cd9-928c-4a36618b180c\"}];\n",
       "\n",
       "    root.Bokeh.embed.embed_items(docs_json, render_items);\n",
       "  }\n",
       "\n",
       "  if (root.Bokeh !== undefined) {\n",
       "    embed_document(root);\n",
       "  } else {\n",
       "    var attempts = 0;\n",
       "    var timer = setInterval(function(root) {\n",
       "      if (root.Bokeh !== undefined) {\n",
       "        embed_document(root);\n",
       "        clearInterval(timer);\n",
       "      }\n",
       "      attempts++;\n",
       "      if (attempts > 100) {\n",
       "        console.log(\"Bokeh: ERROR: Unable to embed document because BokehJS library is missing\")\n",
       "        clearInterval(timer);\n",
       "      }\n",
       "    }, 10, root)\n",
       "  }\n",
       "})(window);"
      ],
      "application/vnd.bokehjs_exec.v0+json": ""
     },
     "metadata": {
      "application/vnd.bokehjs_exec.v0+json": {
       "id": "b4cf97b8-b2ef-4cd9-928c-4a36618b180c"
      }
     },
     "output_type": "display_data"
    },
    {
     "name": "stdout",
     "output_type": "stream",
     "text": [
      "HoverTool(id='40259879-a857-44f6-834d-87e2c6587b9f', ...)\n"
     ]
    }
   ],
   "source": [
    "# 工具栏 tools\n",
    "# （4）提示框、十字线\n",
    "\n",
    "from bokeh.models import HoverTool\n",
    "# 用于设置显示标签内容\n",
    "\n",
    "df = pd.DataFrame({'A':np.random.randn(500)*100,\n",
    "                  'B':np.random.randn(500)*100,\n",
    "                  'type':np.random.choice(['pooh', 'rabbit', 'piglet', 'Christopher'],500),\n",
    "                  'color':np.random.choice(['red', 'yellow', 'blue', 'green'],500)})\n",
    "df.index.name = 'index'\n",
    "source = ColumnDataSource(df)\n",
    "print(df.head())\n",
    "# 创建数据 → 包含四个标签\n",
    "\n",
    "hover = HoverTool(tooltips=[\n",
    "                            (\"index\", \"$index\"),\n",
    "                            (\"(x,y)\", \"($x, $y)\"),\n",
    "                            (\"A\", \"@A\"),\n",
    "                            (\"B\", \"@B\"),\n",
    "                            (\"type\", \"@type\"),\n",
    "                            (\"color\", \"@color\"),\n",
    "                        ])\n",
    "# 设置标签显示内容\n",
    "# $index：自动计算 → 数据index\n",
    "# $x：自动计算 → 数据x值\n",
    "# $y：自动计算 → 数据y值\n",
    "# @A：显示ColumnDataSource中对应字段值\n",
    "\n",
    "p1 = figure(plot_width=800, plot_height=400,toolbar_location=\"above\",\n",
    "            tools=[hover,'box_select,reset,wheel_zoom,pan,crosshair'])   # 注意这里书写方式\n",
    "# 如果不设置标签，就只写hover，例如 tools='hover,box_select,reset,wheel_zoom,pan,crosshair'\n",
    "p1.circle(x = 'A',y = 'B',source = source,size = 10,alpha = 0.3, color = 'color')\n",
    "show(p1)\n",
    "\n",
    "p2 = figure(plot_width=800, plot_height=400,toolbar_location=\"above\",\n",
    "           tools=[hover,'box_select,reset,wheel_zoom,pan'])\n",
    "p2.vbar(x = 'index', width=1, top='A',source = source)\n",
    "show(p2)\n",
    "print(hover)"
   ]
  }
 ],
 "metadata": {
  "anaconda-cloud": {},
  "kernelspec": {
   "display_name": "Python 3",
   "language": "python",
   "name": "python3"
  },
  "language_info": {
   "codemirror_mode": {
    "name": "ipython",
    "version": 3
   },
   "file_extension": ".py",
   "mimetype": "text/x-python",
   "name": "python",
   "nbconvert_exporter": "python",
   "pygments_lexer": "ipython3",
   "version": "3.6.3"
  }
 },
 "nbformat": 4,
 "nbformat_minor": 1
}
