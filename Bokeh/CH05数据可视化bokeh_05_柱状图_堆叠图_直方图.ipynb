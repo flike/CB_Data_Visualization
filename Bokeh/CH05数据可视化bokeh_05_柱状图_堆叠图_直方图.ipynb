{
 "cells": [
  {
   "cell_type": "code",
   "execution_count": 3,
   "metadata": {},
   "outputs": [
    {
     "data": {
      "text/plain": [
       "'\\n【课程5.6】  柱状图/堆叠图/直方图\\n\\n① 单系列柱状图\\n② 多系列柱状图\\n③ 堆叠图\\n④ 直方图\\n\\n'"
      ]
     },
     "execution_count": 3,
     "metadata": {},
     "output_type": "execute_result"
    }
   ],
   "source": [
    "'''\n",
    "【课程5.6】  柱状图/堆叠图/直方图\n",
    "\n",
    "① 单系列柱状图\n",
    "② 多系列柱状图\n",
    "③ 堆叠图\n",
    "④ 直方图\n",
    "\n",
    "'''"
   ]
  },
  {
   "cell_type": "code",
   "execution_count": 4,
   "metadata": {},
   "outputs": [
    {
     "data": {
      "text/html": [
       "\n",
       "    <div class=\"bk-root\">\n",
       "        <a href=\"https://bokeh.pydata.org\" target=\"_blank\" class=\"bk-logo bk-logo-small bk-logo-notebook\"></a>\n",
       "        <span id=\"135db88f-9469-4a16-8c34-c7fa9119dd18\">Loading BokehJS ...</span>\n",
       "    </div>"
      ]
     },
     "metadata": {},
     "output_type": "display_data"
    },
    {
     "data": {
      "application/javascript": [
       "\n",
       "(function(root) {\n",
       "  function now() {\n",
       "    return new Date();\n",
       "  }\n",
       "\n",
       "  var force = true;\n",
       "\n",
       "  if (typeof (root._bokeh_onload_callbacks) === \"undefined\" || force === true) {\n",
       "    root._bokeh_onload_callbacks = [];\n",
       "    root._bokeh_is_loading = undefined;\n",
       "  }\n",
       "\n",
       "  var JS_MIME_TYPE = 'application/javascript';\n",
       "  var HTML_MIME_TYPE = 'text/html';\n",
       "  var EXEC_MIME_TYPE = 'application/vnd.bokehjs_exec.v0+json';\n",
       "  var CLASS_NAME = 'output_bokeh rendered_html';\n",
       "\n",
       "  /**\n",
       "   * Render data to the DOM node\n",
       "   */\n",
       "  function render(props, node) {\n",
       "    var script = document.createElement(\"script\");\n",
       "    node.appendChild(script);\n",
       "  }\n",
       "\n",
       "  /**\n",
       "   * Handle when an output is cleared or removed\n",
       "   */\n",
       "  function handleClearOutput(event, handle) {\n",
       "    var cell = handle.cell;\n",
       "\n",
       "    var id = cell.output_area._bokeh_element_id;\n",
       "    var server_id = cell.output_area._bokeh_server_id;\n",
       "    // Clean up Bokeh references\n",
       "    if (id !== undefined) {\n",
       "      Bokeh.index[id].model.document.clear();\n",
       "      delete Bokeh.index[id];\n",
       "    }\n",
       "\n",
       "    if (server_id !== undefined) {\n",
       "      // Clean up Bokeh references\n",
       "      var cmd = \"from bokeh.io.state import curstate; print(curstate().uuid_to_server['\" + server_id + \"'].get_sessions()[0].document.roots[0]._id)\";\n",
       "      cell.notebook.kernel.execute(cmd, {\n",
       "        iopub: {\n",
       "          output: function(msg) {\n",
       "            var element_id = msg.content.text.trim();\n",
       "            Bokeh.index[element_id].model.document.clear();\n",
       "            delete Bokeh.index[element_id];\n",
       "          }\n",
       "        }\n",
       "      });\n",
       "      // Destroy server and session\n",
       "      var cmd = \"import bokeh.io.notebook as ion; ion.destroy_server('\" + server_id + \"')\";\n",
       "      cell.notebook.kernel.execute(cmd);\n",
       "    }\n",
       "  }\n",
       "\n",
       "  /**\n",
       "   * Handle when a new output is added\n",
       "   */\n",
       "  function handleAddOutput(event, handle) {\n",
       "    var output_area = handle.output_area;\n",
       "    var output = handle.output;\n",
       "\n",
       "    // limit handleAddOutput to display_data with EXEC_MIME_TYPE content only\n",
       "    if ((output.output_type != \"display_data\") || (!output.data.hasOwnProperty(EXEC_MIME_TYPE))) {\n",
       "      return\n",
       "    }\n",
       "\n",
       "    var toinsert = output_area.element.find(`.${CLASS_NAME.split(' ')[0]}`);\n",
       "\n",
       "    if (output.metadata[EXEC_MIME_TYPE][\"id\"] !== undefined) {\n",
       "      toinsert[0].firstChild.textContent = output.data[JS_MIME_TYPE];\n",
       "      // store reference to embed id on output_area\n",
       "      output_area._bokeh_element_id = output.metadata[EXEC_MIME_TYPE][\"id\"];\n",
       "    }\n",
       "    if (output.metadata[EXEC_MIME_TYPE][\"server_id\"] !== undefined) {\n",
       "      var bk_div = document.createElement(\"div\");\n",
       "      bk_div.innerHTML = output.data[HTML_MIME_TYPE];\n",
       "      var script_attrs = bk_div.children[0].attributes;\n",
       "      for (var i = 0; i < script_attrs.length; i++) {\n",
       "        toinsert[0].firstChild.setAttribute(script_attrs[i].name, script_attrs[i].value);\n",
       "      }\n",
       "      // store reference to server id on output_area\n",
       "      output_area._bokeh_server_id = output.metadata[EXEC_MIME_TYPE][\"server_id\"];\n",
       "    }\n",
       "  }\n",
       "\n",
       "  function register_renderer(events, OutputArea) {\n",
       "\n",
       "    function append_mime(data, metadata, element) {\n",
       "      // create a DOM node to render to\n",
       "      var toinsert = this.create_output_subarea(\n",
       "        metadata,\n",
       "        CLASS_NAME,\n",
       "        EXEC_MIME_TYPE\n",
       "      );\n",
       "      this.keyboard_manager.register_events(toinsert);\n",
       "      // Render to node\n",
       "      var props = {data: data, metadata: metadata[EXEC_MIME_TYPE]};\n",
       "      render(props, toinsert[0]);\n",
       "      element.append(toinsert);\n",
       "      return toinsert\n",
       "    }\n",
       "\n",
       "    /* Handle when an output is cleared or removed */\n",
       "    events.on('clear_output.CodeCell', handleClearOutput);\n",
       "    events.on('delete.Cell', handleClearOutput);\n",
       "\n",
       "    /* Handle when a new output is added */\n",
       "    events.on('output_added.OutputArea', handleAddOutput);\n",
       "\n",
       "    /**\n",
       "     * Register the mime type and append_mime function with output_area\n",
       "     */\n",
       "    OutputArea.prototype.register_mime_type(EXEC_MIME_TYPE, append_mime, {\n",
       "      /* Is output safe? */\n",
       "      safe: true,\n",
       "      /* Index of renderer in `output_area.display_order` */\n",
       "      index: 0\n",
       "    });\n",
       "  }\n",
       "\n",
       "  // register the mime type if in Jupyter Notebook environment and previously unregistered\n",
       "  if (root.Jupyter !== undefined) {\n",
       "    var events = require('base/js/events');\n",
       "    var OutputArea = require('notebook/js/outputarea').OutputArea;\n",
       "\n",
       "    if (OutputArea.prototype.mime_types().indexOf(EXEC_MIME_TYPE) == -1) {\n",
       "      register_renderer(events, OutputArea);\n",
       "    }\n",
       "  }\n",
       "\n",
       "  \n",
       "  if (typeof (root._bokeh_timeout) === \"undefined\" || force === true) {\n",
       "    root._bokeh_timeout = Date.now() + 5000;\n",
       "    root._bokeh_failed_load = false;\n",
       "  }\n",
       "\n",
       "  var NB_LOAD_WARNING = {'data': {'text/html':\n",
       "     \"<div style='background-color: #fdd'>\\n\"+\n",
       "     \"<p>\\n\"+\n",
       "     \"BokehJS does not appear to have successfully loaded. If loading BokehJS from CDN, this \\n\"+\n",
       "     \"may be due to a slow or bad network connection. Possible fixes:\\n\"+\n",
       "     \"</p>\\n\"+\n",
       "     \"<ul>\\n\"+\n",
       "     \"<li>re-rerun `output_notebook()` to attempt to load from CDN again, or</li>\\n\"+\n",
       "     \"<li>use INLINE resources instead, as so:</li>\\n\"+\n",
       "     \"</ul>\\n\"+\n",
       "     \"<code>\\n\"+\n",
       "     \"from bokeh.resources import INLINE\\n\"+\n",
       "     \"output_notebook(resources=INLINE)\\n\"+\n",
       "     \"</code>\\n\"+\n",
       "     \"</div>\"}};\n",
       "\n",
       "  function display_loaded() {\n",
       "    var el = document.getElementById(\"135db88f-9469-4a16-8c34-c7fa9119dd18\");\n",
       "    if (el != null) {\n",
       "      el.textContent = \"BokehJS is loading...\";\n",
       "    }\n",
       "    if (root.Bokeh !== undefined) {\n",
       "      if (el != null) {\n",
       "        el.textContent = \"BokehJS \" + root.Bokeh.version + \" successfully loaded.\";\n",
       "      }\n",
       "    } else if (Date.now() < root._bokeh_timeout) {\n",
       "      setTimeout(display_loaded, 100)\n",
       "    }\n",
       "  }\n",
       "\n",
       "\n",
       "  function run_callbacks() {\n",
       "    try {\n",
       "      root._bokeh_onload_callbacks.forEach(function(callback) { callback() });\n",
       "    }\n",
       "    finally {\n",
       "      delete root._bokeh_onload_callbacks\n",
       "    }\n",
       "    console.info(\"Bokeh: all callbacks have finished\");\n",
       "  }\n",
       "\n",
       "  function load_libs(js_urls, callback) {\n",
       "    root._bokeh_onload_callbacks.push(callback);\n",
       "    if (root._bokeh_is_loading > 0) {\n",
       "      console.log(\"Bokeh: BokehJS is being loaded, scheduling callback at\", now());\n",
       "      return null;\n",
       "    }\n",
       "    if (js_urls == null || js_urls.length === 0) {\n",
       "      run_callbacks();\n",
       "      return null;\n",
       "    }\n",
       "    console.log(\"Bokeh: BokehJS not loaded, scheduling load and callback at\", now());\n",
       "    root._bokeh_is_loading = js_urls.length;\n",
       "    for (var i = 0; i < js_urls.length; i++) {\n",
       "      var url = js_urls[i];\n",
       "      var s = document.createElement('script');\n",
       "      s.src = url;\n",
       "      s.async = false;\n",
       "      s.onreadystatechange = s.onload = function() {\n",
       "        root._bokeh_is_loading--;\n",
       "        if (root._bokeh_is_loading === 0) {\n",
       "          console.log(\"Bokeh: all BokehJS libraries loaded\");\n",
       "          run_callbacks()\n",
       "        }\n",
       "      };\n",
       "      s.onerror = function() {\n",
       "        console.warn(\"failed to load library \" + url);\n",
       "      };\n",
       "      console.log(\"Bokeh: injecting script tag for BokehJS library: \", url);\n",
       "      document.getElementsByTagName(\"head\")[0].appendChild(s);\n",
       "    }\n",
       "  };var element = document.getElementById(\"135db88f-9469-4a16-8c34-c7fa9119dd18\");\n",
       "  if (element == null) {\n",
       "    console.log(\"Bokeh: ERROR: autoload.js configured with elementid '135db88f-9469-4a16-8c34-c7fa9119dd18' but no matching script tag was found. \")\n",
       "    return false;\n",
       "  }\n",
       "\n",
       "  var js_urls = [\"https://cdn.pydata.org/bokeh/release/bokeh-0.12.10.min.js\", \"https://cdn.pydata.org/bokeh/release/bokeh-widgets-0.12.10.min.js\", \"https://cdn.pydata.org/bokeh/release/bokeh-tables-0.12.10.min.js\", \"https://cdn.pydata.org/bokeh/release/bokeh-gl-0.12.10.min.js\"];\n",
       "\n",
       "  var inline_js = [\n",
       "    function(Bokeh) {\n",
       "      Bokeh.set_log_level(\"info\");\n",
       "    },\n",
       "    \n",
       "    function(Bokeh) {\n",
       "      \n",
       "    },\n",
       "    function(Bokeh) {\n",
       "      console.log(\"Bokeh: injecting CSS: https://cdn.pydata.org/bokeh/release/bokeh-0.12.10.min.css\");\n",
       "      Bokeh.embed.inject_css(\"https://cdn.pydata.org/bokeh/release/bokeh-0.12.10.min.css\");\n",
       "      console.log(\"Bokeh: injecting CSS: https://cdn.pydata.org/bokeh/release/bokeh-widgets-0.12.10.min.css\");\n",
       "      Bokeh.embed.inject_css(\"https://cdn.pydata.org/bokeh/release/bokeh-widgets-0.12.10.min.css\");\n",
       "      console.log(\"Bokeh: injecting CSS: https://cdn.pydata.org/bokeh/release/bokeh-tables-0.12.10.min.css\");\n",
       "      Bokeh.embed.inject_css(\"https://cdn.pydata.org/bokeh/release/bokeh-tables-0.12.10.min.css\");\n",
       "    }\n",
       "  ];\n",
       "\n",
       "  function run_inline_js() {\n",
       "    \n",
       "    if ((root.Bokeh !== undefined) || (force === true)) {\n",
       "      for (var i = 0; i < inline_js.length; i++) {\n",
       "        inline_js[i].call(root, root.Bokeh);\n",
       "      }if (force === true) {\n",
       "        display_loaded();\n",
       "      }} else if (Date.now() < root._bokeh_timeout) {\n",
       "      setTimeout(run_inline_js, 100);\n",
       "    } else if (!root._bokeh_failed_load) {\n",
       "      console.log(\"Bokeh: BokehJS failed to load within specified timeout.\");\n",
       "      root._bokeh_failed_load = true;\n",
       "    } else if (force !== true) {\n",
       "      var cell = $(document.getElementById(\"135db88f-9469-4a16-8c34-c7fa9119dd18\")).parents('.cell').data().cell;\n",
       "      cell.output_area.append_execute_result(NB_LOAD_WARNING)\n",
       "    }\n",
       "\n",
       "  }\n",
       "\n",
       "  if (root._bokeh_is_loading === 0) {\n",
       "    console.log(\"Bokeh: BokehJS loaded, going straight to plotting\");\n",
       "    run_inline_js();\n",
       "  } else {\n",
       "    load_libs(js_urls, function() {\n",
       "      console.log(\"Bokeh: BokehJS plotting callback run at\", now());\n",
       "      run_inline_js();\n",
       "    });\n",
       "  }\n",
       "}(window));"
      ],
      "application/vnd.bokehjs_load.v0+json": "\n(function(root) {\n  function now() {\n    return new Date();\n  }\n\n  var force = true;\n\n  if (typeof (root._bokeh_onload_callbacks) === \"undefined\" || force === true) {\n    root._bokeh_onload_callbacks = [];\n    root._bokeh_is_loading = undefined;\n  }\n\n  \n\n  \n  if (typeof (root._bokeh_timeout) === \"undefined\" || force === true) {\n    root._bokeh_timeout = Date.now() + 5000;\n    root._bokeh_failed_load = false;\n  }\n\n  var NB_LOAD_WARNING = {'data': {'text/html':\n     \"<div style='background-color: #fdd'>\\n\"+\n     \"<p>\\n\"+\n     \"BokehJS does not appear to have successfully loaded. If loading BokehJS from CDN, this \\n\"+\n     \"may be due to a slow or bad network connection. Possible fixes:\\n\"+\n     \"</p>\\n\"+\n     \"<ul>\\n\"+\n     \"<li>re-rerun `output_notebook()` to attempt to load from CDN again, or</li>\\n\"+\n     \"<li>use INLINE resources instead, as so:</li>\\n\"+\n     \"</ul>\\n\"+\n     \"<code>\\n\"+\n     \"from bokeh.resources import INLINE\\n\"+\n     \"output_notebook(resources=INLINE)\\n\"+\n     \"</code>\\n\"+\n     \"</div>\"}};\n\n  function display_loaded() {\n    var el = document.getElementById(\"135db88f-9469-4a16-8c34-c7fa9119dd18\");\n    if (el != null) {\n      el.textContent = \"BokehJS is loading...\";\n    }\n    if (root.Bokeh !== undefined) {\n      if (el != null) {\n        el.textContent = \"BokehJS \" + root.Bokeh.version + \" successfully loaded.\";\n      }\n    } else if (Date.now() < root._bokeh_timeout) {\n      setTimeout(display_loaded, 100)\n    }\n  }\n\n\n  function run_callbacks() {\n    try {\n      root._bokeh_onload_callbacks.forEach(function(callback) { callback() });\n    }\n    finally {\n      delete root._bokeh_onload_callbacks\n    }\n    console.info(\"Bokeh: all callbacks have finished\");\n  }\n\n  function load_libs(js_urls, callback) {\n    root._bokeh_onload_callbacks.push(callback);\n    if (root._bokeh_is_loading > 0) {\n      console.log(\"Bokeh: BokehJS is being loaded, scheduling callback at\", now());\n      return null;\n    }\n    if (js_urls == null || js_urls.length === 0) {\n      run_callbacks();\n      return null;\n    }\n    console.log(\"Bokeh: BokehJS not loaded, scheduling load and callback at\", now());\n    root._bokeh_is_loading = js_urls.length;\n    for (var i = 0; i < js_urls.length; i++) {\n      var url = js_urls[i];\n      var s = document.createElement('script');\n      s.src = url;\n      s.async = false;\n      s.onreadystatechange = s.onload = function() {\n        root._bokeh_is_loading--;\n        if (root._bokeh_is_loading === 0) {\n          console.log(\"Bokeh: all BokehJS libraries loaded\");\n          run_callbacks()\n        }\n      };\n      s.onerror = function() {\n        console.warn(\"failed to load library \" + url);\n      };\n      console.log(\"Bokeh: injecting script tag for BokehJS library: \", url);\n      document.getElementsByTagName(\"head\")[0].appendChild(s);\n    }\n  };var element = document.getElementById(\"135db88f-9469-4a16-8c34-c7fa9119dd18\");\n  if (element == null) {\n    console.log(\"Bokeh: ERROR: autoload.js configured with elementid '135db88f-9469-4a16-8c34-c7fa9119dd18' but no matching script tag was found. \")\n    return false;\n  }\n\n  var js_urls = [\"https://cdn.pydata.org/bokeh/release/bokeh-0.12.10.min.js\", \"https://cdn.pydata.org/bokeh/release/bokeh-widgets-0.12.10.min.js\", \"https://cdn.pydata.org/bokeh/release/bokeh-tables-0.12.10.min.js\", \"https://cdn.pydata.org/bokeh/release/bokeh-gl-0.12.10.min.js\"];\n\n  var inline_js = [\n    function(Bokeh) {\n      Bokeh.set_log_level(\"info\");\n    },\n    \n    function(Bokeh) {\n      \n    },\n    function(Bokeh) {\n      console.log(\"Bokeh: injecting CSS: https://cdn.pydata.org/bokeh/release/bokeh-0.12.10.min.css\");\n      Bokeh.embed.inject_css(\"https://cdn.pydata.org/bokeh/release/bokeh-0.12.10.min.css\");\n      console.log(\"Bokeh: injecting CSS: https://cdn.pydata.org/bokeh/release/bokeh-widgets-0.12.10.min.css\");\n      Bokeh.embed.inject_css(\"https://cdn.pydata.org/bokeh/release/bokeh-widgets-0.12.10.min.css\");\n      console.log(\"Bokeh: injecting CSS: https://cdn.pydata.org/bokeh/release/bokeh-tables-0.12.10.min.css\");\n      Bokeh.embed.inject_css(\"https://cdn.pydata.org/bokeh/release/bokeh-tables-0.12.10.min.css\");\n    }\n  ];\n\n  function run_inline_js() {\n    \n    if ((root.Bokeh !== undefined) || (force === true)) {\n      for (var i = 0; i < inline_js.length; i++) {\n        inline_js[i].call(root, root.Bokeh);\n      }if (force === true) {\n        display_loaded();\n      }} else if (Date.now() < root._bokeh_timeout) {\n      setTimeout(run_inline_js, 100);\n    } else if (!root._bokeh_failed_load) {\n      console.log(\"Bokeh: BokehJS failed to load within specified timeout.\");\n      root._bokeh_failed_load = true;\n    } else if (force !== true) {\n      var cell = $(document.getElementById(\"135db88f-9469-4a16-8c34-c7fa9119dd18\")).parents('.cell').data().cell;\n      cell.output_area.append_execute_result(NB_LOAD_WARNING)\n    }\n\n  }\n\n  if (root._bokeh_is_loading === 0) {\n    console.log(\"Bokeh: BokehJS loaded, going straight to plotting\");\n    run_inline_js();\n  } else {\n    load_libs(js_urls, function() {\n      console.log(\"Bokeh: BokehJS plotting callback run at\", now());\n      run_inline_js();\n    });\n  }\n}(window));"
     },
     "metadata": {},
     "output_type": "display_data"
    }
   ],
   "source": [
    "import numpy as np\n",
    "import pandas as pd\n",
    "import matplotlib.pyplot as plt\n",
    "% matplotlib inline\n",
    "\n",
    "import warnings\n",
    "warnings.filterwarnings('ignore') \n",
    "# 不发出警告\n",
    "\n",
    "from bokeh.io import output_notebook\n",
    "output_notebook()\n",
    "# 导入notebook绘图模块\n",
    "\n",
    "from bokeh.plotting import figure,show\n",
    "from bokeh.models import ColumnDataSource\n",
    "# 导入图表绘制、图标展示模块\n",
    "# 导入ColumnDataSource模块"
   ]
  },
  {
   "cell_type": "code",
   "execution_count": 5,
   "metadata": {},
   "outputs": [
    {
     "data": {
      "text/html": [
       "\n",
       "<div class=\"bk-root\">\n",
       "    <div class=\"bk-plotdiv\" id=\"754cf3c2-d763-4eaf-8e8b-1aff627388a6\"></div>\n",
       "</div>"
      ]
     },
     "metadata": {},
     "output_type": "display_data"
    },
    {
     "data": {
      "application/javascript": [
       "(function(root) {\n",
       "  function embed_document(root) {\n",
       "    var docs_json = {\"975a48ab-a146-4b46-9111-7fc09aaf2797\":{\"roots\":{\"references\":[{\"attributes\":{\"below\":[{\"id\":\"22611e3f-4610-491f-bf57-82a3df56eabd\",\"type\":\"LinearAxis\"}],\"left\":[{\"id\":\"feafe1fc-4aef-44e7-9de2-7b8fc8e5872e\",\"type\":\"LinearAxis\"}],\"plot_height\":400,\"plot_width\":400,\"renderers\":[{\"id\":\"22611e3f-4610-491f-bf57-82a3df56eabd\",\"type\":\"LinearAxis\"},{\"id\":\"1ab39932-1c89-42f5-a13d-57693e95c6df\",\"type\":\"Grid\"},{\"id\":\"feafe1fc-4aef-44e7-9de2-7b8fc8e5872e\",\"type\":\"LinearAxis\"},{\"id\":\"d2f520e1-4351-46e2-aa8c-8c84073257bc\",\"type\":\"Grid\"},{\"id\":\"9db0d7e1-6171-4d09-aee2-e21c9655af3b\",\"type\":\"BoxAnnotation\"},{\"id\":\"0eab4225-0f4c-46ce-b59c-44a30117afc2\",\"type\":\"GlyphRenderer\"}],\"title\":{\"id\":\"3ec73d9f-cf7a-4281-96ae-735855551d07\",\"type\":\"Title\"},\"toolbar\":{\"id\":\"619fccba-7700-49c3-ab21-fecc3c2fdb45\",\"type\":\"Toolbar\"},\"x_range\":{\"id\":\"6d49db22-29bc-4cca-91aa-64a0b707b4bf\",\"type\":\"DataRange1d\"},\"x_scale\":{\"id\":\"862380a8-2a2b-46e8-986d-ed26bca3cabf\",\"type\":\"LinearScale\"},\"y_range\":{\"id\":\"d50f514c-5e9a-477c-adac-2197e848c6ca\",\"type\":\"DataRange1d\"},\"y_scale\":{\"id\":\"10e6b387-a158-474f-8420-33d568b412b5\",\"type\":\"LinearScale\"}},\"id\":\"8105a179-ee27-43d4-990b-3b3016f95d5f\",\"subtype\":\"Figure\",\"type\":\"Plot\"},{\"attributes\":{},\"id\":\"7d2f1e32-e6de-4417-88ca-2c6a148c4bc2\",\"type\":\"ResetTool\"},{\"attributes\":{\"fill_alpha\":{\"value\":0.6},\"fill_color\":{\"value\":\"red\"},\"line_alpha\":{\"value\":0.8},\"line_dash\":[5,2],\"top\":{\"field\":\"top\"},\"width\":{\"value\":0.5},\"x\":{\"field\":\"x\"}},\"id\":\"dcf8fdc0-2063-436f-bd88-ab9dc77f3e05\",\"type\":\"VBar\"},{\"attributes\":{},\"id\":\"1f021eeb-9e57-495e-848f-caae4d71392f\",\"type\":\"SaveTool\"},{\"attributes\":{},\"id\":\"c8a790f3-5103-458f-837b-aeba6bb7f477\",\"type\":\"BasicTicker\"},{\"attributes\":{\"callback\":null},\"id\":\"d50f514c-5e9a-477c-adac-2197e848c6ca\",\"type\":\"DataRange1d\"},{\"attributes\":{},\"id\":\"4a9185f6-2953-4491-a06c-14651a890d40\",\"type\":\"WheelZoomTool\"},{\"attributes\":{\"formatter\":{\"id\":\"056528c7-1c68-431e-a8d1-08920387ae11\",\"type\":\"BasicTickFormatter\"},\"plot\":{\"id\":\"8105a179-ee27-43d4-990b-3b3016f95d5f\",\"subtype\":\"Figure\",\"type\":\"Plot\"},\"ticker\":{\"id\":\"c8a790f3-5103-458f-837b-aeba6bb7f477\",\"type\":\"BasicTicker\"}},\"id\":\"feafe1fc-4aef-44e7-9de2-7b8fc8e5872e\",\"type\":\"LinearAxis\"},{\"attributes\":{\"overlay\":{\"id\":\"9db0d7e1-6171-4d09-aee2-e21c9655af3b\",\"type\":\"BoxAnnotation\"}},\"id\":\"e1c8d7c0-4cdc-426d-93ad-9ff4ed220078\",\"type\":\"BoxZoomTool\"},{\"attributes\":{\"plot\":null,\"text\":\"\"},\"id\":\"3ec73d9f-cf7a-4281-96ae-735855551d07\",\"type\":\"Title\"},{\"attributes\":{\"callback\":null},\"id\":\"6d49db22-29bc-4cca-91aa-64a0b707b4bf\",\"type\":\"DataRange1d\"},{\"attributes\":{\"active_drag\":\"auto\",\"active_inspect\":\"auto\",\"active_scroll\":\"auto\",\"active_tap\":\"auto\",\"tools\":[{\"id\":\"23551d4b-d39f-4ab4-ab62-d708dda72c9a\",\"type\":\"PanTool\"},{\"id\":\"4a9185f6-2953-4491-a06c-14651a890d40\",\"type\":\"WheelZoomTool\"},{\"id\":\"e1c8d7c0-4cdc-426d-93ad-9ff4ed220078\",\"type\":\"BoxZoomTool\"},{\"id\":\"1f021eeb-9e57-495e-848f-caae4d71392f\",\"type\":\"SaveTool\"},{\"id\":\"7d2f1e32-e6de-4417-88ca-2c6a148c4bc2\",\"type\":\"ResetTool\"},{\"id\":\"ddf917e3-3265-44bb-9cca-a20496854e77\",\"type\":\"HelpTool\"}]},\"id\":\"619fccba-7700-49c3-ab21-fecc3c2fdb45\",\"type\":\"Toolbar\"},{\"attributes\":{\"fill_alpha\":{\"value\":0.1},\"fill_color\":{\"value\":\"#1f77b4\"},\"line_alpha\":{\"value\":0.1},\"line_color\":{\"value\":\"#1f77b4\"},\"line_dash\":[5,2],\"top\":{\"field\":\"top\"},\"width\":{\"value\":0.5},\"x\":{\"field\":\"x\"}},\"id\":\"6bbc8163-37aa-4782-a604-4147ff1e5aa3\",\"type\":\"VBar\"},{\"attributes\":{},\"id\":\"10e6b387-a158-474f-8420-33d568b412b5\",\"type\":\"LinearScale\"},{\"attributes\":{\"callback\":null,\"column_names\":[\"x\",\"top\"],\"data\":{\"top\":[1.2,2.5,3.7],\"x\":[1,2,3]}},\"id\":\"90b5080f-d74c-4492-a608-7d8a76a14840\",\"type\":\"ColumnDataSource\"},{\"attributes\":{},\"id\":\"056528c7-1c68-431e-a8d1-08920387ae11\",\"type\":\"BasicTickFormatter\"},{\"attributes\":{\"formatter\":{\"id\":\"15f3aa25-8e10-4426-9ea6-c943ad2da84c\",\"type\":\"BasicTickFormatter\"},\"plot\":{\"id\":\"8105a179-ee27-43d4-990b-3b3016f95d5f\",\"subtype\":\"Figure\",\"type\":\"Plot\"},\"ticker\":{\"id\":\"d509cfdd-6dc6-40ed-bac9-0434231d557a\",\"type\":\"BasicTicker\"}},\"id\":\"22611e3f-4610-491f-bf57-82a3df56eabd\",\"type\":\"LinearAxis\"},{\"attributes\":{},\"id\":\"862380a8-2a2b-46e8-986d-ed26bca3cabf\",\"type\":\"LinearScale\"},{\"attributes\":{},\"id\":\"d509cfdd-6dc6-40ed-bac9-0434231d557a\",\"type\":\"BasicTicker\"},{\"attributes\":{\"source\":{\"id\":\"90b5080f-d74c-4492-a608-7d8a76a14840\",\"type\":\"ColumnDataSource\"}},\"id\":\"c107b2f4-2316-4530-8440-f04e8c39bb7c\",\"type\":\"CDSView\"},{\"attributes\":{\"bottom_units\":\"screen\",\"fill_alpha\":{\"value\":0.5},\"fill_color\":{\"value\":\"lightgrey\"},\"left_units\":\"screen\",\"level\":\"overlay\",\"line_alpha\":{\"value\":1.0},\"line_color\":{\"value\":\"black\"},\"line_dash\":[4,4],\"line_width\":{\"value\":2},\"plot\":null,\"render_mode\":\"css\",\"right_units\":\"screen\",\"top_units\":\"screen\"},\"id\":\"9db0d7e1-6171-4d09-aee2-e21c9655af3b\",\"type\":\"BoxAnnotation\"},{\"attributes\":{},\"id\":\"ddf917e3-3265-44bb-9cca-a20496854e77\",\"type\":\"HelpTool\"},{\"attributes\":{\"plot\":{\"id\":\"8105a179-ee27-43d4-990b-3b3016f95d5f\",\"subtype\":\"Figure\",\"type\":\"Plot\"},\"ticker\":{\"id\":\"d509cfdd-6dc6-40ed-bac9-0434231d557a\",\"type\":\"BasicTicker\"}},\"id\":\"1ab39932-1c89-42f5-a13d-57693e95c6df\",\"type\":\"Grid\"},{\"attributes\":{},\"id\":\"15f3aa25-8e10-4426-9ea6-c943ad2da84c\",\"type\":\"BasicTickFormatter\"},{\"attributes\":{},\"id\":\"23551d4b-d39f-4ab4-ab62-d708dda72c9a\",\"type\":\"PanTool\"},{\"attributes\":{\"data_source\":{\"id\":\"90b5080f-d74c-4492-a608-7d8a76a14840\",\"type\":\"ColumnDataSource\"},\"glyph\":{\"id\":\"dcf8fdc0-2063-436f-bd88-ab9dc77f3e05\",\"type\":\"VBar\"},\"hover_glyph\":null,\"muted_glyph\":null,\"nonselection_glyph\":{\"id\":\"6bbc8163-37aa-4782-a604-4147ff1e5aa3\",\"type\":\"VBar\"},\"selection_glyph\":null,\"view\":{\"id\":\"c107b2f4-2316-4530-8440-f04e8c39bb7c\",\"type\":\"CDSView\"}},\"id\":\"0eab4225-0f4c-46ce-b59c-44a30117afc2\",\"type\":\"GlyphRenderer\"},{\"attributes\":{\"dimension\":1,\"plot\":{\"id\":\"8105a179-ee27-43d4-990b-3b3016f95d5f\",\"subtype\":\"Figure\",\"type\":\"Plot\"},\"ticker\":{\"id\":\"c8a790f3-5103-458f-837b-aeba6bb7f477\",\"type\":\"BasicTicker\"}},\"id\":\"d2f520e1-4351-46e2-aa8c-8c84073257bc\",\"type\":\"Grid\"}],\"root_ids\":[\"8105a179-ee27-43d4-990b-3b3016f95d5f\"]},\"title\":\"Bokeh Application\",\"version\":\"0.12.10\"}};\n",
       "    var render_items = [{\"docid\":\"975a48ab-a146-4b46-9111-7fc09aaf2797\",\"elementid\":\"754cf3c2-d763-4eaf-8e8b-1aff627388a6\",\"modelid\":\"8105a179-ee27-43d4-990b-3b3016f95d5f\"}];\n",
       "\n",
       "    root.Bokeh.embed.embed_items(docs_json, render_items);\n",
       "  }\n",
       "\n",
       "  if (root.Bokeh !== undefined) {\n",
       "    embed_document(root);\n",
       "  } else {\n",
       "    var attempts = 0;\n",
       "    var timer = setInterval(function(root) {\n",
       "      if (root.Bokeh !== undefined) {\n",
       "        embed_document(root);\n",
       "        clearInterval(timer);\n",
       "      }\n",
       "      attempts++;\n",
       "      if (attempts > 100) {\n",
       "        console.log(\"Bokeh: ERROR: Unable to embed document because BokehJS library is missing\")\n",
       "        clearInterval(timer);\n",
       "      }\n",
       "    }, 10, root)\n",
       "  }\n",
       "})(window);"
      ],
      "application/vnd.bokehjs_exec.v0+json": ""
     },
     "metadata": {
      "application/vnd.bokehjs_exec.v0+json": {
       "id": "8105a179-ee27-43d4-990b-3b3016f95d5f"
      }
     },
     "output_type": "display_data"
    }
   ],
   "source": [
    "# 1、单系列柱状图\n",
    "# vbar\n",
    "\n",
    "p = figure(plot_width=400, plot_height=400)\n",
    "p.vbar(x=[1, 2, 3], width=0.5, bottom=0,top=[1.2, 2.5, 3.7],  # x：横轴坐标，width：宽度，bottom：底高度，top：顶高度\n",
    "       #color = ['red','blue','green'], alpha = 0.8   # 整体颜色设置，也可单独设置 → color=\"firebrick\"\n",
    "       line_width = 1,line_alpha = 0.8,line_color = 'black', line_dash = [5,2],    # 单独设置线参数\n",
    "       fill_color = 'red',fill_alpha = 0.6    # 单独设置填充颜色参数\n",
    "      )\n",
    "# 绘制竖向柱状图\n",
    "\n",
    "show(p)"
   ]
  },
  {
   "cell_type": "code",
   "execution_count": 6,
   "metadata": {},
   "outputs": [
    {
     "data": {
      "text/html": [
       "\n",
       "<div class=\"bk-root\">\n",
       "    <div class=\"bk-plotdiv\" id=\"8d96f8ae-a14e-4878-bf9c-4e9151616b06\"></div>\n",
       "</div>"
      ]
     },
     "metadata": {},
     "output_type": "display_data"
    },
    {
     "data": {
      "application/javascript": [
       "(function(root) {\n",
       "  function embed_document(root) {\n",
       "    var docs_json = {\"88af7a7e-dba5-4674-a386-e9320a33fbd0\":{\"roots\":{\"references\":[{\"attributes\":{\"source\":{\"id\":\"0eced6e1-bf48-4407-a2be-f5f99fe3f52d\",\"type\":\"ColumnDataSource\"}},\"id\":\"5cc26576-5b7d-42ac-a152-db65f8c438b6\",\"type\":\"CDSView\"},{\"attributes\":{},\"id\":\"0d54a7bc-28ba-4af6-a06b-1d3bbf25f8cf\",\"type\":\"PanTool\"},{\"attributes\":{\"dimension\":1,\"plot\":{\"id\":\"354bd185-83c4-4728-af31-b2f0aeaa3c10\",\"subtype\":\"Figure\",\"type\":\"Plot\"},\"ticker\":{\"id\":\"767350d7-357c-4e83-87f5-e4c64908748f\",\"type\":\"BasicTicker\"}},\"id\":\"98c0deec-5ed3-4716-9434-cd6497732d8f\",\"type\":\"Grid\"},{\"attributes\":{},\"id\":\"b7c0db1b-8122-433a-a3a0-bd128820600b\",\"type\":\"ResetTool\"},{\"attributes\":{\"data_source\":{\"id\":\"0eced6e1-bf48-4407-a2be-f5f99fe3f52d\",\"type\":\"ColumnDataSource\"},\"glyph\":{\"id\":\"a46c428a-1073-4202-b699-020a5db1e2ed\",\"type\":\"HBar\"},\"hover_glyph\":null,\"muted_glyph\":null,\"nonselection_glyph\":{\"id\":\"ebc0a16b-e183-41b9-9a8a-dae20c63a281\",\"type\":\"HBar\"},\"selection_glyph\":null,\"view\":{\"id\":\"5cc26576-5b7d-42ac-a152-db65f8c438b6\",\"type\":\"CDSView\"}},\"id\":\"5259bd7a-5c4e-42d0-a494-d9e0c81a81d4\",\"type\":\"GlyphRenderer\"},{\"attributes\":{\"callback\":null,\"column_names\":[\"y\",\"right\",\"fill_color\",\"line_color\"],\"data\":{\"fill_color\":[\"red\",\"blue\",\"green\"],\"line_color\":[\"red\",\"blue\",\"green\"],\"right\":[1.2,2.5,3.7],\"y\":[1,2,3]}},\"id\":\"0eced6e1-bf48-4407-a2be-f5f99fe3f52d\",\"type\":\"ColumnDataSource\"},{\"attributes\":{\"callback\":null},\"id\":\"9933cab6-c937-44fe-a1ae-a30d945dc135\",\"type\":\"DataRange1d\"},{\"attributes\":{\"overlay\":{\"id\":\"cd5a5613-8e5e-4abe-afee-45634b5b5b98\",\"type\":\"BoxAnnotation\"}},\"id\":\"8cb9d428-6a14-4c48-b584-cabba30f11e5\",\"type\":\"BoxZoomTool\"},{\"attributes\":{},\"id\":\"d03b3b47-a1dd-4a83-9ffb-dc633ff1b8c1\",\"type\":\"WheelZoomTool\"},{\"attributes\":{\"fill_color\":{\"field\":\"fill_color\"},\"height\":{\"value\":0.5},\"line_color\":{\"field\":\"line_color\"},\"right\":{\"field\":\"right\"},\"y\":{\"field\":\"y\"}},\"id\":\"a46c428a-1073-4202-b699-020a5db1e2ed\",\"type\":\"HBar\"},{\"attributes\":{\"below\":[{\"id\":\"dddaeb48-1c8a-4b59-89e2-6c5d42bcdc07\",\"type\":\"LinearAxis\"}],\"left\":[{\"id\":\"46812a78-8c08-4428-a266-80e83009e705\",\"type\":\"LinearAxis\"}],\"plot_height\":400,\"plot_width\":400,\"renderers\":[{\"id\":\"dddaeb48-1c8a-4b59-89e2-6c5d42bcdc07\",\"type\":\"LinearAxis\"},{\"id\":\"7f6b3b4a-3744-47c6-b51c-993922febc58\",\"type\":\"Grid\"},{\"id\":\"46812a78-8c08-4428-a266-80e83009e705\",\"type\":\"LinearAxis\"},{\"id\":\"98c0deec-5ed3-4716-9434-cd6497732d8f\",\"type\":\"Grid\"},{\"id\":\"cd5a5613-8e5e-4abe-afee-45634b5b5b98\",\"type\":\"BoxAnnotation\"},{\"id\":\"5259bd7a-5c4e-42d0-a494-d9e0c81a81d4\",\"type\":\"GlyphRenderer\"}],\"title\":{\"id\":\"dd7614e1-6841-4605-bbf7-75d25034b400\",\"type\":\"Title\"},\"toolbar\":{\"id\":\"bf130915-c402-49f6-a867-b79497e347f4\",\"type\":\"Toolbar\"},\"x_range\":{\"id\":\"9933cab6-c937-44fe-a1ae-a30d945dc135\",\"type\":\"DataRange1d\"},\"x_scale\":{\"id\":\"d3b8ec90-e542-48c5-a6e6-d0940112e063\",\"type\":\"LinearScale\"},\"y_range\":{\"id\":\"50f36720-1ab7-4645-8bf9-62e2dbeff755\",\"type\":\"DataRange1d\"},\"y_scale\":{\"id\":\"a7b971da-c0e1-4c52-a7a5-c61ff71f578a\",\"type\":\"LinearScale\"}},\"id\":\"354bd185-83c4-4728-af31-b2f0aeaa3c10\",\"subtype\":\"Figure\",\"type\":\"Plot\"},{\"attributes\":{\"formatter\":{\"id\":\"22c33a5c-ab04-4004-8302-a20eeaa2598a\",\"type\":\"BasicTickFormatter\"},\"plot\":{\"id\":\"354bd185-83c4-4728-af31-b2f0aeaa3c10\",\"subtype\":\"Figure\",\"type\":\"Plot\"},\"ticker\":{\"id\":\"767350d7-357c-4e83-87f5-e4c64908748f\",\"type\":\"BasicTicker\"}},\"id\":\"46812a78-8c08-4428-a266-80e83009e705\",\"type\":\"LinearAxis\"},{\"attributes\":{},\"id\":\"a7b971da-c0e1-4c52-a7a5-c61ff71f578a\",\"type\":\"LinearScale\"},{\"attributes\":{\"formatter\":{\"id\":\"f2f9f7ed-9f9e-489b-a7d1-d36f23abec9e\",\"type\":\"BasicTickFormatter\"},\"plot\":{\"id\":\"354bd185-83c4-4728-af31-b2f0aeaa3c10\",\"subtype\":\"Figure\",\"type\":\"Plot\"},\"ticker\":{\"id\":\"32a17779-c23a-4ce0-b44d-5c83d247fb8f\",\"type\":\"BasicTicker\"}},\"id\":\"dddaeb48-1c8a-4b59-89e2-6c5d42bcdc07\",\"type\":\"LinearAxis\"},{\"attributes\":{},\"id\":\"f2f9f7ed-9f9e-489b-a7d1-d36f23abec9e\",\"type\":\"BasicTickFormatter\"},{\"attributes\":{},\"id\":\"32a17779-c23a-4ce0-b44d-5c83d247fb8f\",\"type\":\"BasicTicker\"},{\"attributes\":{\"callback\":null},\"id\":\"50f36720-1ab7-4645-8bf9-62e2dbeff755\",\"type\":\"DataRange1d\"},{\"attributes\":{},\"id\":\"22c33a5c-ab04-4004-8302-a20eeaa2598a\",\"type\":\"BasicTickFormatter\"},{\"attributes\":{\"fill_alpha\":{\"value\":0.1},\"fill_color\":{\"value\":\"#1f77b4\"},\"height\":{\"value\":0.5},\"line_alpha\":{\"value\":0.1},\"line_color\":{\"value\":\"#1f77b4\"},\"right\":{\"field\":\"right\"},\"y\":{\"field\":\"y\"}},\"id\":\"ebc0a16b-e183-41b9-9a8a-dae20c63a281\",\"type\":\"HBar\"},{\"attributes\":{\"active_drag\":\"auto\",\"active_inspect\":\"auto\",\"active_scroll\":\"auto\",\"active_tap\":\"auto\",\"tools\":[{\"id\":\"0d54a7bc-28ba-4af6-a06b-1d3bbf25f8cf\",\"type\":\"PanTool\"},{\"id\":\"d03b3b47-a1dd-4a83-9ffb-dc633ff1b8c1\",\"type\":\"WheelZoomTool\"},{\"id\":\"8cb9d428-6a14-4c48-b584-cabba30f11e5\",\"type\":\"BoxZoomTool\"},{\"id\":\"c116a1e8-5a11-4d64-939d-4d4e26ebf689\",\"type\":\"SaveTool\"},{\"id\":\"b7c0db1b-8122-433a-a3a0-bd128820600b\",\"type\":\"ResetTool\"},{\"id\":\"87dfc571-57c0-49a6-859a-24b6b097dc4b\",\"type\":\"HelpTool\"}]},\"id\":\"bf130915-c402-49f6-a867-b79497e347f4\",\"type\":\"Toolbar\"},{\"attributes\":{},\"id\":\"87dfc571-57c0-49a6-859a-24b6b097dc4b\",\"type\":\"HelpTool\"},{\"attributes\":{},\"id\":\"d3b8ec90-e542-48c5-a6e6-d0940112e063\",\"type\":\"LinearScale\"},{\"attributes\":{},\"id\":\"767350d7-357c-4e83-87f5-e4c64908748f\",\"type\":\"BasicTicker\"},{\"attributes\":{},\"id\":\"c116a1e8-5a11-4d64-939d-4d4e26ebf689\",\"type\":\"SaveTool\"},{\"attributes\":{\"plot\":{\"id\":\"354bd185-83c4-4728-af31-b2f0aeaa3c10\",\"subtype\":\"Figure\",\"type\":\"Plot\"},\"ticker\":{\"id\":\"32a17779-c23a-4ce0-b44d-5c83d247fb8f\",\"type\":\"BasicTicker\"}},\"id\":\"7f6b3b4a-3744-47c6-b51c-993922febc58\",\"type\":\"Grid\"},{\"attributes\":{\"bottom_units\":\"screen\",\"fill_alpha\":{\"value\":0.5},\"fill_color\":{\"value\":\"lightgrey\"},\"left_units\":\"screen\",\"level\":\"overlay\",\"line_alpha\":{\"value\":1.0},\"line_color\":{\"value\":\"black\"},\"line_dash\":[4,4],\"line_width\":{\"value\":2},\"plot\":null,\"render_mode\":\"css\",\"right_units\":\"screen\",\"top_units\":\"screen\"},\"id\":\"cd5a5613-8e5e-4abe-afee-45634b5b5b98\",\"type\":\"BoxAnnotation\"},{\"attributes\":{\"plot\":null,\"text\":\"\"},\"id\":\"dd7614e1-6841-4605-bbf7-75d25034b400\",\"type\":\"Title\"}],\"root_ids\":[\"354bd185-83c4-4728-af31-b2f0aeaa3c10\"]},\"title\":\"Bokeh Application\",\"version\":\"0.12.10\"}};\n",
       "    var render_items = [{\"docid\":\"88af7a7e-dba5-4674-a386-e9320a33fbd0\",\"elementid\":\"8d96f8ae-a14e-4878-bf9c-4e9151616b06\",\"modelid\":\"354bd185-83c4-4728-af31-b2f0aeaa3c10\"}];\n",
       "\n",
       "    root.Bokeh.embed.embed_items(docs_json, render_items);\n",
       "  }\n",
       "\n",
       "  if (root.Bokeh !== undefined) {\n",
       "    embed_document(root);\n",
       "  } else {\n",
       "    var attempts = 0;\n",
       "    var timer = setInterval(function(root) {\n",
       "      if (root.Bokeh !== undefined) {\n",
       "        embed_document(root);\n",
       "        clearInterval(timer);\n",
       "      }\n",
       "      attempts++;\n",
       "      if (attempts > 100) {\n",
       "        console.log(\"Bokeh: ERROR: Unable to embed document because BokehJS library is missing\")\n",
       "        clearInterval(timer);\n",
       "      }\n",
       "    }, 10, root)\n",
       "  }\n",
       "})(window);"
      ],
      "application/vnd.bokehjs_exec.v0+json": ""
     },
     "metadata": {
      "application/vnd.bokehjs_exec.v0+json": {
       "id": "354bd185-83c4-4728-af31-b2f0aeaa3c10"
      }
     },
     "output_type": "display_data"
    }
   ],
   "source": [
    "# 1、单系列柱状图\n",
    "# hbar\n",
    "\n",
    "p = figure(plot_width=400, plot_height=400)\n",
    "p.hbar(y=[1, 2, 3], height=0.5, left=0,right=[1.2, 2.5, 3.7],  # y：纵轴坐标，height：厚度，left：左边最小值，right：右边最大值\n",
    "       color = ['red','blue','green'])\n",
    "# 绘制竖向柱状图\n",
    "\n",
    "show(p)"
   ]
  },
  {
   "cell_type": "code",
   "execution_count": 7,
   "metadata": {},
   "outputs": [
    {
     "data": {
      "text/html": [
       "\n",
       "<div class=\"bk-root\">\n",
       "    <div class=\"bk-plotdiv\" id=\"3123b515-9d83-48a2-a098-9f9e737c57b0\"></div>\n",
       "</div>"
      ]
     },
     "metadata": {},
     "output_type": "display_data"
    },
    {
     "data": {
      "application/javascript": [
       "(function(root) {\n",
       "  function embed_document(root) {\n",
       "    var docs_json = {\"c0c26ceb-6918-4096-b7b0-6a279f64d168\":{\"roots\":{\"references\":[{\"attributes\":{},\"id\":\"09ade7bf-8fc1-4da0-92d6-f49f1c319a59\",\"type\":\"CategoricalTickFormatter\"},{\"attributes\":{\"formatter\":{\"id\":\"4bcbbbea-c3ce-4478-bfd0-25221a4d8721\",\"type\":\"BasicTickFormatter\"},\"plot\":{\"id\":\"8c5d95b5-e6cb-4d79-a4f1-db35aa7bd428\",\"subtype\":\"Figure\",\"type\":\"Plot\"},\"ticker\":{\"id\":\"b58f621c-da28-429a-9828-539a3d3b244f\",\"type\":\"BasicTicker\"}},\"id\":\"82c26cfa-9210-47a7-870f-810ffc8f5dd0\",\"type\":\"LinearAxis\"},{\"attributes\":{\"items\":[{\"id\":\"17acf63d-b01d-4beb-9d00-fa2c908380cc\",\"type\":\"LegendItem\"}],\"location\":\"top_center\",\"orientation\":\"horizontal\",\"plot\":{\"id\":\"8c5d95b5-e6cb-4d79-a4f1-db35aa7bd428\",\"subtype\":\"Figure\",\"type\":\"Plot\"}},\"id\":\"54e48c57-d7ec-4702-94ad-0a2094ca3fcf\",\"type\":\"Legend\"},{\"attributes\":{\"callback\":null,\"factors\":[\"Apples\",\"Pears\",\"Nectarines\",\"Plums\",\"Grapes\",\"Strawberries\"]},\"id\":\"c906f28a-c5d8-4fa5-9269-021c56eb3b4e\",\"type\":\"FactorRange\"},{\"attributes\":{},\"id\":\"b41f4f22-11be-4501-9db5-2abf292c379a\",\"type\":\"CategoricalScale\"},{\"attributes\":{\"callback\":null,\"end\":9},\"id\":\"91a3ef5a-6bbb-44ab-bc55-4c345d7582c5\",\"type\":\"Range1d\"},{\"attributes\":{},\"id\":\"95360ede-b517-41f6-a495-4c08fed85fa3\",\"type\":\"LinearScale\"},{\"attributes\":{\"grid_line_color\":{\"value\":null},\"plot\":{\"id\":\"8c5d95b5-e6cb-4d79-a4f1-db35aa7bd428\",\"subtype\":\"Figure\",\"type\":\"Plot\"},\"ticker\":{\"id\":\"cdd52036-1683-411e-815d-9a8b47d77017\",\"type\":\"CategoricalTicker\"}},\"id\":\"bc3401a4-d514-4213-9150-10eead0f308a\",\"type\":\"Grid\"},{\"attributes\":{\"label\":{\"field\":\"fruits\"},\"renderers\":[{\"id\":\"87c5dc29-8967-4ffd-a707-cd304d2a6bb4\",\"type\":\"GlyphRenderer\"}]},\"id\":\"17acf63d-b01d-4beb-9d00-fa2c908380cc\",\"type\":\"LegendItem\"},{\"attributes\":{\"formatter\":{\"id\":\"09ade7bf-8fc1-4da0-92d6-f49f1c319a59\",\"type\":\"CategoricalTickFormatter\"},\"plot\":{\"id\":\"8c5d95b5-e6cb-4d79-a4f1-db35aa7bd428\",\"subtype\":\"Figure\",\"type\":\"Plot\"},\"ticker\":{\"id\":\"cdd52036-1683-411e-815d-9a8b47d77017\",\"type\":\"CategoricalTicker\"}},\"id\":\"9aaaf574-68d7-48ab-ad74-58e430307b5e\",\"type\":\"CategoricalAxis\"},{\"attributes\":{},\"id\":\"cdd52036-1683-411e-815d-9a8b47d77017\",\"type\":\"CategoricalTicker\"},{\"attributes\":{\"plot\":null,\"text\":\"Fruit Counts\"},\"id\":\"ab2be467-3d2b-4787-9cb9-c31e0b4be571\",\"type\":\"Title\"},{\"attributes\":{\"fill_alpha\":{\"value\":0.8},\"fill_color\":{\"field\":\"fruits\",\"transform\":{\"id\":\"5f739acd-87f7-44a9-9385-10c5f506ac16\",\"type\":\"CategoricalColorMapper\"}},\"line_alpha\":{\"value\":0.8},\"line_color\":{\"field\":\"fruits\",\"transform\":{\"id\":\"5f739acd-87f7-44a9-9385-10c5f506ac16\",\"type\":\"CategoricalColorMapper\"}},\"top\":{\"field\":\"counts\"},\"width\":{\"value\":0.9},\"x\":{\"field\":\"fruits\"}},\"id\":\"5c882cb2-efa0-41a9-a083-8d6cfc472c73\",\"type\":\"VBar\"},{\"attributes\":{},\"id\":\"b58f621c-da28-429a-9828-539a3d3b244f\",\"type\":\"BasicTicker\"},{\"attributes\":{\"dimension\":1,\"plot\":{\"id\":\"8c5d95b5-e6cb-4d79-a4f1-db35aa7bd428\",\"subtype\":\"Figure\",\"type\":\"Plot\"},\"ticker\":{\"id\":\"b58f621c-da28-429a-9828-539a3d3b244f\",\"type\":\"BasicTicker\"}},\"id\":\"7ecd0ca5-5fac-427c-aa7c-f893158a7e8c\",\"type\":\"Grid\"},{\"attributes\":{\"callback\":null,\"column_names\":[\"fruits\",\"counts\"],\"data\":{\"counts\":[5,3,4,2,4,6],\"fruits\":[\"Apples\",\"Pears\",\"Nectarines\",\"Plums\",\"Grapes\",\"Strawberries\"]}},\"id\":\"c2f879e4-7294-4ad4-9265-6defd00cb1d0\",\"type\":\"ColumnDataSource\"},{\"attributes\":{\"fill_alpha\":{\"value\":0.1},\"fill_color\":{\"value\":\"#1f77b4\"},\"line_alpha\":{\"value\":0.1},\"line_color\":{\"value\":\"#1f77b4\"},\"top\":{\"field\":\"counts\"},\"width\":{\"value\":0.9},\"x\":{\"field\":\"fruits\"}},\"id\":\"eb146f5b-fa46-4d83-894f-7c66cc9cb2b8\",\"type\":\"VBar\"},{\"attributes\":{\"source\":{\"id\":\"c2f879e4-7294-4ad4-9265-6defd00cb1d0\",\"type\":\"ColumnDataSource\"}},\"id\":\"bede6bff-fda9-4133-9295-4d6135d860e3\",\"type\":\"CDSView\"},{\"attributes\":{\"below\":[{\"id\":\"9aaaf574-68d7-48ab-ad74-58e430307b5e\",\"type\":\"CategoricalAxis\"}],\"left\":[{\"id\":\"82c26cfa-9210-47a7-870f-810ffc8f5dd0\",\"type\":\"LinearAxis\"}],\"plot_height\":350,\"renderers\":[{\"id\":\"9aaaf574-68d7-48ab-ad74-58e430307b5e\",\"type\":\"CategoricalAxis\"},{\"id\":\"bc3401a4-d514-4213-9150-10eead0f308a\",\"type\":\"Grid\"},{\"id\":\"82c26cfa-9210-47a7-870f-810ffc8f5dd0\",\"type\":\"LinearAxis\"},{\"id\":\"7ecd0ca5-5fac-427c-aa7c-f893158a7e8c\",\"type\":\"Grid\"},{\"id\":\"54e48c57-d7ec-4702-94ad-0a2094ca3fcf\",\"type\":\"Legend\"},{\"id\":\"87c5dc29-8967-4ffd-a707-cd304d2a6bb4\",\"type\":\"GlyphRenderer\"}],\"title\":{\"id\":\"ab2be467-3d2b-4787-9cb9-c31e0b4be571\",\"type\":\"Title\"},\"toolbar\":{\"id\":\"b079876d-051b-4b02-ae80-8ef5193ae622\",\"type\":\"Toolbar\"},\"x_range\":{\"id\":\"c906f28a-c5d8-4fa5-9269-021c56eb3b4e\",\"type\":\"FactorRange\"},\"x_scale\":{\"id\":\"b41f4f22-11be-4501-9db5-2abf292c379a\",\"type\":\"CategoricalScale\"},\"y_range\":{\"id\":\"91a3ef5a-6bbb-44ab-bc55-4c345d7582c5\",\"type\":\"Range1d\"},\"y_scale\":{\"id\":\"95360ede-b517-41f6-a495-4c08fed85fa3\",\"type\":\"LinearScale\"}},\"id\":\"8c5d95b5-e6cb-4d79-a4f1-db35aa7bd428\",\"subtype\":\"Figure\",\"type\":\"Plot\"},{\"attributes\":{\"factors\":[\"Apples\",\"Pears\",\"Nectarines\",\"Plums\",\"Grapes\",\"Strawberries\"],\"palette\":[\"#3288bd\",\"#99d594\",\"#e6f598\",\"#fee08b\",\"#fc8d59\",\"#d53e4f\"]},\"id\":\"5f739acd-87f7-44a9-9385-10c5f506ac16\",\"type\":\"CategoricalColorMapper\"},{\"attributes\":{},\"id\":\"4bcbbbea-c3ce-4478-bfd0-25221a4d8721\",\"type\":\"BasicTickFormatter\"},{\"attributes\":{\"data_source\":{\"id\":\"c2f879e4-7294-4ad4-9265-6defd00cb1d0\",\"type\":\"ColumnDataSource\"},\"glyph\":{\"id\":\"5c882cb2-efa0-41a9-a083-8d6cfc472c73\",\"type\":\"VBar\"},\"hover_glyph\":null,\"muted_glyph\":null,\"nonselection_glyph\":{\"id\":\"eb146f5b-fa46-4d83-894f-7c66cc9cb2b8\",\"type\":\"VBar\"},\"selection_glyph\":null,\"view\":{\"id\":\"bede6bff-fda9-4133-9295-4d6135d860e3\",\"type\":\"CDSView\"}},\"id\":\"87c5dc29-8967-4ffd-a707-cd304d2a6bb4\",\"type\":\"GlyphRenderer\"},{\"attributes\":{\"active_drag\":\"auto\",\"active_inspect\":\"auto\",\"active_scroll\":\"auto\",\"active_tap\":\"auto\"},\"id\":\"b079876d-051b-4b02-ae80-8ef5193ae622\",\"type\":\"Toolbar\"}],\"root_ids\":[\"8c5d95b5-e6cb-4d79-a4f1-db35aa7bd428\"]},\"title\":\"Bokeh Application\",\"version\":\"0.12.10\"}};\n",
       "    var render_items = [{\"docid\":\"c0c26ceb-6918-4096-b7b0-6a279f64d168\",\"elementid\":\"3123b515-9d83-48a2-a098-9f9e737c57b0\",\"modelid\":\"8c5d95b5-e6cb-4d79-a4f1-db35aa7bd428\"}];\n",
       "\n",
       "    root.Bokeh.embed.embed_items(docs_json, render_items);\n",
       "  }\n",
       "\n",
       "  if (root.Bokeh !== undefined) {\n",
       "    embed_document(root);\n",
       "  } else {\n",
       "    var attempts = 0;\n",
       "    var timer = setInterval(function(root) {\n",
       "      if (root.Bokeh !== undefined) {\n",
       "        embed_document(root);\n",
       "        clearInterval(timer);\n",
       "      }\n",
       "      attempts++;\n",
       "      if (attempts > 100) {\n",
       "        console.log(\"Bokeh: ERROR: Unable to embed document because BokehJS library is missing\")\n",
       "        clearInterval(timer);\n",
       "      }\n",
       "    }, 10, root)\n",
       "  }\n",
       "})(window);"
      ],
      "application/vnd.bokehjs_exec.v0+json": ""
     },
     "metadata": {
      "application/vnd.bokehjs_exec.v0+json": {
       "id": "8c5d95b5-e6cb-4d79-a4f1-db35aa7bd428"
      }
     },
     "output_type": "display_data"
    }
   ],
   "source": [
    "# 1、单系列柱状图 - 分类设置标签\n",
    "# ColumnDataSource\n",
    "\n",
    "from bokeh.palettes import Spectral6\n",
    "from bokeh.transform import factor_cmap\n",
    "# 导入相关模块\n",
    "\n",
    "fruits = ['Apples', 'Pears', 'Nectarines', 'Plums', 'Grapes', 'Strawberries']\n",
    "counts = [5, 3, 4, 2, 4, 6]\n",
    "source = ColumnDataSource(data=dict(fruits=fruits, counts=counts))\n",
    "colors = [ \"salmon\", \"olive\", \"darkred\", \"goldenrod\", \"skyblue\", \"orange\"]\n",
    "# 创建一个包含标签的data，对象类型为ColumnDataSource\n",
    "\n",
    "p = figure(x_range=fruits, y_range=(0,9), plot_height=350, title=\"Fruit Counts\",tools=\"\")\n",
    "\n",
    "p.vbar(x='fruits', top='counts', source=source,    # 加载数据另一个方式\n",
    "       width=0.9, alpha = 0.8,\n",
    "       color = factor_cmap('fruits', palette=Spectral6, factors=fruits),    # 设置颜色\n",
    "       legend=\"fruits\")\n",
    "# 绘制柱状图，横轴直接显示标签\n",
    "# factor_cmap(field_name, palette, factors, start=0, end=None, nan_color='gray')：颜色转换模块，生成一个颜色转换对象\n",
    "# field_name：分类名称\n",
    "# palette：调色盘\n",
    "# factors：用于在调色盘中分颜色的参数\n",
    "# 参考文档：http://bokeh.pydata.org/en/latest/docs/reference/transform.html\n",
    "\n",
    "p.xgrid.grid_line_color = None\n",
    "p.legend.orientation = \"horizontal\"\n",
    "p.legend.location = \"top_center\"\n",
    "# 其他参数设置\n",
    "\n",
    "show(p)"
   ]
  },
  {
   "cell_type": "code",
   "execution_count": 8,
   "metadata": {},
   "outputs": [
    {
     "name": "stdout",
     "output_type": "stream",
     "text": [
      "{'index': ['Apples', 'Pears', 'Nectarines', 'Plums', 'Grapes', 'Strawberries'], '2015': [2, 1, 4, 3, 2, 4], '2016': [5, 3, 3, 2, 4, 6], '2017': [3, 2, 4, 4, 5, 3]}\n"
     ]
    },
    {
     "data": {
      "text/html": [
       "\n",
       "<div class=\"bk-root\">\n",
       "    <div class=\"bk-plotdiv\" id=\"5192a4d4-2057-47ac-a96d-c90f62f207b8\"></div>\n",
       "</div>"
      ]
     },
     "metadata": {},
     "output_type": "display_data"
    },
    {
     "data": {
      "application/javascript": [
       "(function(root) {\n",
       "  function embed_document(root) {\n",
       "    var docs_json = {\"2aa99617-63cf-47f5-90bd-1878141519f2\":{\"roots\":{\"references\":[{\"attributes\":{\"label\":{\"value\":\"2017\"},\"renderers\":[{\"id\":\"1c3b8904-2711-4cda-ad05-a7803ed2ee79\",\"type\":\"GlyphRenderer\"}]},\"id\":\"c6845ea9-ea20-4c6c-a047-8f3036b038d9\",\"type\":\"LegendItem\"},{\"attributes\":{\"range\":{\"id\":\"9cf2b835-609c-4b1c-8e84-66827cb155bb\",\"type\":\"FactorRange\"}},\"id\":\"9aee9bb3-8ad6-4b9b-b698-e91157b35c45\",\"type\":\"Dodge\"},{\"attributes\":{\"plot\":null,\"text\":\"Fruit Counts by Year\"},\"id\":\"929ea34f-53a7-4c4c-a8f9-cd9949c7c770\",\"type\":\"Title\"},{\"attributes\":{\"callback\":null,\"factors\":[\"Apples\",\"Pears\",\"Nectarines\",\"Plums\",\"Grapes\",\"Strawberries\"]},\"id\":\"9cf2b835-609c-4b1c-8e84-66827cb155bb\",\"type\":\"FactorRange\"},{\"attributes\":{\"active_drag\":\"auto\",\"active_inspect\":\"auto\",\"active_scroll\":\"auto\",\"active_tap\":\"auto\"},\"id\":\"9e4dd1b4-9a1c-43e1-b1dd-3a04ee11c089\",\"type\":\"Toolbar\"},{\"attributes\":{\"formatter\":{\"id\":\"4175b805-bd47-4400-bf65-68e239d74bbc\",\"type\":\"BasicTickFormatter\"},\"plot\":{\"id\":\"c670b252-3d4c-4187-9c1c-2428bdf0c526\",\"subtype\":\"Figure\",\"type\":\"Plot\"},\"ticker\":{\"id\":\"a0a4b08e-2b00-4719-86c6-9b4f0eda4026\",\"type\":\"BasicTicker\"}},\"id\":\"6e24fe2c-2e0b-4ee7-869f-96582075ee50\",\"type\":\"LinearAxis\"},{\"attributes\":{},\"id\":\"262a6852-39c1-4982-849c-e0e2fdcedca4\",\"type\":\"CategoricalScale\"},{\"attributes\":{\"callback\":null,\"end\":10},\"id\":\"9c48ac58-4f8a-4b0e-8040-a5521578faca\",\"type\":\"Range1d\"},{\"attributes\":{},\"id\":\"600e38de-57d9-4ad1-acc1-2360ab1b6059\",\"type\":\"LinearScale\"},{\"attributes\":{\"grid_line_color\":{\"value\":null},\"plot\":{\"id\":\"c670b252-3d4c-4187-9c1c-2428bdf0c526\",\"subtype\":\"Figure\",\"type\":\"Plot\"},\"ticker\":{\"id\":\"f8daf0ae-7dec-43da-9b1a-cadfaf77b328\",\"type\":\"CategoricalTicker\"}},\"id\":\"85a71c1d-5815-4d84-9e0d-30a1e200ed90\",\"type\":\"Grid\"},{\"attributes\":{\"formatter\":{\"id\":\"2351b4d2-46dd-431a-8703-c5b61a79d634\",\"type\":\"CategoricalTickFormatter\"},\"plot\":{\"id\":\"c670b252-3d4c-4187-9c1c-2428bdf0c526\",\"subtype\":\"Figure\",\"type\":\"Plot\"},\"ticker\":{\"id\":\"f8daf0ae-7dec-43da-9b1a-cadfaf77b328\",\"type\":\"CategoricalTicker\"}},\"id\":\"891fe6ef-56e5-4902-b053-d85651de94b5\",\"type\":\"CategoricalAxis\"},{\"attributes\":{},\"id\":\"f8daf0ae-7dec-43da-9b1a-cadfaf77b328\",\"type\":\"CategoricalTicker\"},{\"attributes\":{},\"id\":\"a0a4b08e-2b00-4719-86c6-9b4f0eda4026\",\"type\":\"BasicTicker\"},{\"attributes\":{\"dimension\":1,\"plot\":{\"id\":\"c670b252-3d4c-4187-9c1c-2428bdf0c526\",\"subtype\":\"Figure\",\"type\":\"Plot\"},\"ticker\":{\"id\":\"a0a4b08e-2b00-4719-86c6-9b4f0eda4026\",\"type\":\"BasicTicker\"}},\"id\":\"ed67819f-2ba9-4670-befd-559f066b7441\",\"type\":\"Grid\"},{\"attributes\":{\"fill_color\":{\"value\":\"#c9d9d3\"},\"line_color\":{\"value\":\"#c9d9d3\"},\"top\":{\"field\":\"2015\"},\"width\":{\"value\":0.2},\"x\":{\"field\":\"index\",\"transform\":{\"id\":\"7f90ff2e-f195-482b-928f-7363db364853\",\"type\":\"Dodge\"}}},\"id\":\"17e20a3d-d813-46b4-ba73-8f2b77ee3e42\",\"type\":\"VBar\"},{\"attributes\":{\"fill_alpha\":{\"value\":0.1},\"fill_color\":{\"value\":\"#1f77b4\"},\"line_alpha\":{\"value\":0.1},\"line_color\":{\"value\":\"#1f77b4\"},\"top\":{\"field\":\"2015\"},\"width\":{\"value\":0.2},\"x\":{\"field\":\"index\",\"transform\":{\"id\":\"7f90ff2e-f195-482b-928f-7363db364853\",\"type\":\"Dodge\"}}},\"id\":\"4f20a62a-357c-4570-b1da-f18a06f7b25f\",\"type\":\"VBar\"},{\"attributes\":{\"items\":[{\"id\":\"d7a5d177-0022-4ab9-89be-483541233350\",\"type\":\"LegendItem\"},{\"id\":\"430df1d8-db96-4d83-ac5a-720cf68fce23\",\"type\":\"LegendItem\"},{\"id\":\"c6845ea9-ea20-4c6c-a047-8f3036b038d9\",\"type\":\"LegendItem\"}],\"location\":\"top_left\",\"orientation\":\"horizontal\",\"plot\":{\"id\":\"c670b252-3d4c-4187-9c1c-2428bdf0c526\",\"subtype\":\"Figure\",\"type\":\"Plot\"}},\"id\":\"57dc6a49-27e7-4923-8762-e80c1eba9c22\",\"type\":\"Legend\"},{\"attributes\":{\"fill_color\":{\"value\":\"#718dbf\"},\"line_color\":{\"value\":\"#718dbf\"},\"top\":{\"field\":\"2016\"},\"width\":{\"value\":0.2},\"x\":{\"field\":\"index\",\"transform\":{\"id\":\"9aee9bb3-8ad6-4b9b-b698-e91157b35c45\",\"type\":\"Dodge\"}}},\"id\":\"6a0d8dd3-8337-4cb7-98b4-392b36a34c62\",\"type\":\"VBar\"},{\"attributes\":{\"data_source\":{\"id\":\"b362942e-371f-46a3-8646-8117f5afcc46\",\"type\":\"ColumnDataSource\"},\"glyph\":{\"id\":\"17e20a3d-d813-46b4-ba73-8f2b77ee3e42\",\"type\":\"VBar\"},\"hover_glyph\":null,\"muted_glyph\":null,\"nonselection_glyph\":{\"id\":\"4f20a62a-357c-4570-b1da-f18a06f7b25f\",\"type\":\"VBar\"},\"selection_glyph\":null,\"view\":{\"id\":\"c8b57a0c-5e7f-499a-8294-c735c8078519\",\"type\":\"CDSView\"}},\"id\":\"d5169639-1441-48e3-9f7a-d99f4078568e\",\"type\":\"GlyphRenderer\"},{\"attributes\":{\"fill_alpha\":{\"value\":0.1},\"fill_color\":{\"value\":\"#1f77b4\"},\"line_alpha\":{\"value\":0.1},\"line_color\":{\"value\":\"#1f77b4\"},\"top\":{\"field\":\"2017\"},\"width\":{\"value\":0.2},\"x\":{\"field\":\"index\",\"transform\":{\"id\":\"20ae4b61-d281-4436-be5e-dae038c603db\",\"type\":\"Dodge\"}}},\"id\":\"39931636-e0f1-427e-88a7-a7c0547962e7\",\"type\":\"VBar\"},{\"attributes\":{\"source\":{\"id\":\"b362942e-371f-46a3-8646-8117f5afcc46\",\"type\":\"ColumnDataSource\"}},\"id\":\"c8b57a0c-5e7f-499a-8294-c735c8078519\",\"type\":\"CDSView\"},{\"attributes\":{},\"id\":\"2351b4d2-46dd-431a-8703-c5b61a79d634\",\"type\":\"CategoricalTickFormatter\"},{\"attributes\":{\"range\":{\"id\":\"9cf2b835-609c-4b1c-8e84-66827cb155bb\",\"type\":\"FactorRange\"},\"value\":0.25},\"id\":\"20ae4b61-d281-4436-be5e-dae038c603db\",\"type\":\"Dodge\"},{\"attributes\":{},\"id\":\"4175b805-bd47-4400-bf65-68e239d74bbc\",\"type\":\"BasicTickFormatter\"},{\"attributes\":{\"label\":{\"value\":\"2015\"},\"renderers\":[{\"id\":\"d5169639-1441-48e3-9f7a-d99f4078568e\",\"type\":\"GlyphRenderer\"}]},\"id\":\"d7a5d177-0022-4ab9-89be-483541233350\",\"type\":\"LegendItem\"},{\"attributes\":{\"fill_alpha\":{\"value\":0.1},\"fill_color\":{\"value\":\"#1f77b4\"},\"line_alpha\":{\"value\":0.1},\"line_color\":{\"value\":\"#1f77b4\"},\"top\":{\"field\":\"2016\"},\"width\":{\"value\":0.2},\"x\":{\"field\":\"index\",\"transform\":{\"id\":\"9aee9bb3-8ad6-4b9b-b698-e91157b35c45\",\"type\":\"Dodge\"}}},\"id\":\"55a52ac2-d4d1-4d94-8362-cbf9bfd93e2b\",\"type\":\"VBar\"},{\"attributes\":{\"fill_color\":{\"value\":\"#e84d60\"},\"line_color\":{\"value\":\"#e84d60\"},\"top\":{\"field\":\"2017\"},\"width\":{\"value\":0.2},\"x\":{\"field\":\"index\",\"transform\":{\"id\":\"20ae4b61-d281-4436-be5e-dae038c603db\",\"type\":\"Dodge\"}}},\"id\":\"f3279c82-e222-46a0-9da6-37fe86443202\",\"type\":\"VBar\"},{\"attributes\":{\"callback\":null,\"column_names\":[\"index\",\"2015\",\"2016\",\"2017\"],\"data\":{\"2015\":[2,1,4,3,2,4],\"2016\":[5,3,3,2,4,6],\"2017\":[3,2,4,4,5,3],\"index\":[\"Apples\",\"Pears\",\"Nectarines\",\"Plums\",\"Grapes\",\"Strawberries\"]}},\"id\":\"b362942e-371f-46a3-8646-8117f5afcc46\",\"type\":\"ColumnDataSource\"},{\"attributes\":{\"data_source\":{\"id\":\"b362942e-371f-46a3-8646-8117f5afcc46\",\"type\":\"ColumnDataSource\"},\"glyph\":{\"id\":\"6a0d8dd3-8337-4cb7-98b4-392b36a34c62\",\"type\":\"VBar\"},\"hover_glyph\":null,\"muted_glyph\":null,\"nonselection_glyph\":{\"id\":\"55a52ac2-d4d1-4d94-8362-cbf9bfd93e2b\",\"type\":\"VBar\"},\"selection_glyph\":null,\"view\":{\"id\":\"28a449a6-ca9d-42a8-934a-54d265774465\",\"type\":\"CDSView\"}},\"id\":\"c06ebeae-f714-480f-878f-2c16c523ca2d\",\"type\":\"GlyphRenderer\"},{\"attributes\":{\"label\":{\"value\":\"2016\"},\"renderers\":[{\"id\":\"c06ebeae-f714-480f-878f-2c16c523ca2d\",\"type\":\"GlyphRenderer\"}]},\"id\":\"430df1d8-db96-4d83-ac5a-720cf68fce23\",\"type\":\"LegendItem\"},{\"attributes\":{\"source\":{\"id\":\"b362942e-371f-46a3-8646-8117f5afcc46\",\"type\":\"ColumnDataSource\"}},\"id\":\"28a449a6-ca9d-42a8-934a-54d265774465\",\"type\":\"CDSView\"},{\"attributes\":{\"range\":{\"id\":\"9cf2b835-609c-4b1c-8e84-66827cb155bb\",\"type\":\"FactorRange\"},\"value\":-0.25},\"id\":\"7f90ff2e-f195-482b-928f-7363db364853\",\"type\":\"Dodge\"},{\"attributes\":{\"data_source\":{\"id\":\"b362942e-371f-46a3-8646-8117f5afcc46\",\"type\":\"ColumnDataSource\"},\"glyph\":{\"id\":\"f3279c82-e222-46a0-9da6-37fe86443202\",\"type\":\"VBar\"},\"hover_glyph\":null,\"muted_glyph\":null,\"nonselection_glyph\":{\"id\":\"39931636-e0f1-427e-88a7-a7c0547962e7\",\"type\":\"VBar\"},\"selection_glyph\":null,\"view\":{\"id\":\"05130338-86af-438c-b923-12c604c72535\",\"type\":\"CDSView\"}},\"id\":\"1c3b8904-2711-4cda-ad05-a7803ed2ee79\",\"type\":\"GlyphRenderer\"},{\"attributes\":{\"below\":[{\"id\":\"891fe6ef-56e5-4902-b053-d85651de94b5\",\"type\":\"CategoricalAxis\"}],\"left\":[{\"id\":\"6e24fe2c-2e0b-4ee7-869f-96582075ee50\",\"type\":\"LinearAxis\"}],\"plot_height\":350,\"renderers\":[{\"id\":\"891fe6ef-56e5-4902-b053-d85651de94b5\",\"type\":\"CategoricalAxis\"},{\"id\":\"85a71c1d-5815-4d84-9e0d-30a1e200ed90\",\"type\":\"Grid\"},{\"id\":\"6e24fe2c-2e0b-4ee7-869f-96582075ee50\",\"type\":\"LinearAxis\"},{\"id\":\"ed67819f-2ba9-4670-befd-559f066b7441\",\"type\":\"Grid\"},{\"id\":\"57dc6a49-27e7-4923-8762-e80c1eba9c22\",\"type\":\"Legend\"},{\"id\":\"d5169639-1441-48e3-9f7a-d99f4078568e\",\"type\":\"GlyphRenderer\"},{\"id\":\"c06ebeae-f714-480f-878f-2c16c523ca2d\",\"type\":\"GlyphRenderer\"},{\"id\":\"1c3b8904-2711-4cda-ad05-a7803ed2ee79\",\"type\":\"GlyphRenderer\"}],\"title\":{\"id\":\"929ea34f-53a7-4c4c-a8f9-cd9949c7c770\",\"type\":\"Title\"},\"toolbar\":{\"id\":\"9e4dd1b4-9a1c-43e1-b1dd-3a04ee11c089\",\"type\":\"Toolbar\"},\"x_range\":{\"id\":\"9cf2b835-609c-4b1c-8e84-66827cb155bb\",\"type\":\"FactorRange\"},\"x_scale\":{\"id\":\"262a6852-39c1-4982-849c-e0e2fdcedca4\",\"type\":\"CategoricalScale\"},\"y_range\":{\"id\":\"9c48ac58-4f8a-4b0e-8040-a5521578faca\",\"type\":\"Range1d\"},\"y_scale\":{\"id\":\"600e38de-57d9-4ad1-acc1-2360ab1b6059\",\"type\":\"LinearScale\"}},\"id\":\"c670b252-3d4c-4187-9c1c-2428bdf0c526\",\"subtype\":\"Figure\",\"type\":\"Plot\"},{\"attributes\":{\"source\":{\"id\":\"b362942e-371f-46a3-8646-8117f5afcc46\",\"type\":\"ColumnDataSource\"}},\"id\":\"05130338-86af-438c-b923-12c604c72535\",\"type\":\"CDSView\"}],\"root_ids\":[\"c670b252-3d4c-4187-9c1c-2428bdf0c526\"]},\"title\":\"Bokeh Application\",\"version\":\"0.12.10\"}};\n",
       "    var render_items = [{\"docid\":\"2aa99617-63cf-47f5-90bd-1878141519f2\",\"elementid\":\"5192a4d4-2057-47ac-a96d-c90f62f207b8\",\"modelid\":\"c670b252-3d4c-4187-9c1c-2428bdf0c526\"}];\n",
       "\n",
       "    root.Bokeh.embed.embed_items(docs_json, render_items);\n",
       "  }\n",
       "\n",
       "  if (root.Bokeh !== undefined) {\n",
       "    embed_document(root);\n",
       "  } else {\n",
       "    var attempts = 0;\n",
       "    var timer = setInterval(function(root) {\n",
       "      if (root.Bokeh !== undefined) {\n",
       "        embed_document(root);\n",
       "        clearInterval(timer);\n",
       "      }\n",
       "      attempts++;\n",
       "      if (attempts > 100) {\n",
       "        console.log(\"Bokeh: ERROR: Unable to embed document because BokehJS library is missing\")\n",
       "        clearInterval(timer);\n",
       "      }\n",
       "    }, 10, root)\n",
       "  }\n",
       "})(window);"
      ],
      "application/vnd.bokehjs_exec.v0+json": ""
     },
     "metadata": {
      "application/vnd.bokehjs_exec.v0+json": {
       "id": "c670b252-3d4c-4187-9c1c-2428bdf0c526"
      }
     },
     "output_type": "display_data"
    }
   ],
   "source": [
    "# 2、多系列柱状图\n",
    "# vbar\n",
    "\n",
    "from bokeh.transform import dodge\n",
    "from bokeh.core.properties import value\n",
    "# 导入dodge、value模块\n",
    "\n",
    "df = pd.DataFrame({'2015':[2, 1, 4, 3, 2, 4],'2016':[5, 3, 3, 2, 4, 6], '2017':[3, 2, 4, 4, 5, 3]},\n",
    "                 index = ['Apples', 'Pears', 'Nectarines', 'Plums', 'Grapes', 'Strawberries'])\n",
    "# 创建数据\n",
    "\n",
    "fruits = df.index.tolist()   # 横坐标\n",
    "years = df.columns.tolist()    # 系列名\n",
    "data = {'index':fruits}\n",
    "for year in years:\n",
    "    data[year] = df[year].tolist()\n",
    "print(data)\n",
    "# 生成数据，数据格式为dict\n",
    "\n",
    "source = ColumnDataSource(data=data)\n",
    "# 将数据转化为ColumnDataSource对象\n",
    "\n",
    "p = figure(x_range=fruits, y_range=(0, 10), plot_height=350, title=\"Fruit Counts by Year\",tools=\"\")\n",
    "\n",
    "p.vbar(x=dodge('index', -0.25, range=p.x_range), top='2015', width=0.2, source=source,color=\"#c9d9d3\", legend=value(\"2015\"))\n",
    "p.vbar(x=dodge('index',  0.0,  range=p.x_range), top='2016', width=0.2, source=source,color=\"#718dbf\", legend=value(\"2016\"))\n",
    "p.vbar(x=dodge('index',  0.25, range=p.x_range), top='2017', width=0.2, source=source,color=\"#e84d60\", legend=value(\"2017\"))\n",
    "# 绘制多系列柱状图\n",
    "# dodge(field_name, value, range=None) → 转换成一个可分组的对象，value为元素的位置（配合width设置）\n",
    "# value(val, transform=None) → 按照年份分为dict\n",
    "\n",
    "p.xgrid.grid_line_color = None\n",
    "p.legend.location = \"top_left\"\n",
    "p.legend.orientation = \"horizontal\"\n",
    "# 其他参数设置\n",
    "\n",
    "show(p)"
   ]
  },
  {
   "cell_type": "code",
   "execution_count": 9,
   "metadata": {},
   "outputs": [
    {
     "data": {
      "text/html": [
       "\n",
       "<div class=\"bk-root\">\n",
       "    <div class=\"bk-plotdiv\" id=\"cd34a6b7-279b-46e8-8520-d14b59da646f\"></div>\n",
       "</div>"
      ]
     },
     "metadata": {},
     "output_type": "display_data"
    },
    {
     "data": {
      "application/javascript": [
       "(function(root) {\n",
       "  function embed_document(root) {\n",
       "    var docs_json = {\"1adeac0d-5dbd-4fbd-8317-abdfdfa62f8f\":{\"roots\":{\"references\":[{\"attributes\":{},\"id\":\"b26dcffd-f06a-410d-bab5-7d22b9a03a98\",\"type\":\"LinearScale\"},{\"attributes\":{\"plot\":null,\"text\":\"Fruit Counts by Year\"},\"id\":\"c92d719f-7812-47ce-b536-53ed5e27a8c4\",\"type\":\"Title\"},{\"attributes\":{\"bottom\":{\"expr\":{\"id\":\"60e39679-0293-4a4c-bb6c-f6aa5e2e0192\",\"type\":\"Stack\"}},\"fill_color\":{\"value\":\"#e84d60\"},\"line_color\":{\"value\":\"#e84d60\"},\"top\":{\"expr\":{\"id\":\"f4b48ff2-a6f1-4961-9ef0-6b7aba85f399\",\"type\":\"Stack\"}},\"width\":{\"value\":0.9},\"x\":{\"field\":\"fruits\"}},\"id\":\"0e62ead8-5429-4a32-a56e-9d047466d07b\",\"type\":\"VBar\"},{\"attributes\":{},\"id\":\"7997a656-be06-4fc9-80ed-20d8d732e7a3\",\"type\":\"CategoricalTicker\"},{\"attributes\":{\"data_source\":{\"id\":\"90247fda-8a5e-403e-830e-99499b87bd5c\",\"type\":\"ColumnDataSource\"},\"glyph\":{\"id\":\"0e62ead8-5429-4a32-a56e-9d047466d07b\",\"type\":\"VBar\"},\"hover_glyph\":null,\"muted_glyph\":null,\"name\":\"2017\",\"nonselection_glyph\":{\"id\":\"fcf75a14-63e7-424c-b922-d3eec91cffeb\",\"type\":\"VBar\"},\"selection_glyph\":null,\"view\":{\"id\":\"1c039a24-53cb-4371-b189-c49572428019\",\"type\":\"CDSView\"}},\"id\":\"75903da3-162c-403d-bbca-884c5e3a644b\",\"type\":\"GlyphRenderer\"},{\"attributes\":{\"active_drag\":\"auto\",\"active_inspect\":\"auto\",\"active_scroll\":\"auto\",\"active_tap\":\"auto\"},\"id\":\"bd90acc9-f4a3-4466-8a0d-ccba756b455e\",\"type\":\"Toolbar\"},{\"attributes\":{\"grid_line_color\":{\"value\":null},\"plot\":{\"id\":\"1e351d38-3987-40e5-bc25-f3093fc2794b\",\"subtype\":\"Figure\",\"type\":\"Plot\"},\"ticker\":{\"id\":\"7997a656-be06-4fc9-80ed-20d8d732e7a3\",\"type\":\"CategoricalTicker\"}},\"id\":\"e64fef97-107e-47b1-96ac-f74e0e88181d\",\"type\":\"Grid\"},{\"attributes\":{\"callback\":null},\"id\":\"665d2cba-6625-4386-b06b-77ddc6ad56bb\",\"type\":\"DataRange1d\"},{\"attributes\":{},\"id\":\"b6b1e80a-5096-40f7-b0b6-6b2ec2a73515\",\"type\":\"CategoricalScale\"},{\"attributes\":{\"formatter\":{\"id\":\"a10be563-1aab-451a-bd2c-d48a350337c2\",\"type\":\"BasicTickFormatter\"},\"minor_tick_line_color\":{\"value\":null},\"plot\":{\"id\":\"1e351d38-3987-40e5-bc25-f3093fc2794b\",\"subtype\":\"Figure\",\"type\":\"Plot\"},\"ticker\":{\"id\":\"cec1ad93-1727-4873-8439-3070e523e8f2\",\"type\":\"BasicTicker\"}},\"id\":\"29b54d5a-2567-40d6-9189-8868f767b529\",\"type\":\"LinearAxis\"},{\"attributes\":{\"bottom\":{\"expr\":{\"id\":\"ad369289-72f4-432d-a400-7a8363e7b68d\",\"type\":\"Stack\"}},\"fill_alpha\":{\"value\":0.1},\"fill_color\":{\"value\":\"#1f77b4\"},\"line_alpha\":{\"value\":0.1},\"line_color\":{\"value\":\"#1f77b4\"},\"top\":{\"expr\":{\"id\":\"c4a2fcad-57b9-41e4-b4d4-d69eafcb4c17\",\"type\":\"Stack\"}},\"width\":{\"value\":0.9},\"x\":{\"field\":\"fruits\"}},\"id\":\"599ed9e1-6789-4105-bcb8-17cfdf100050\",\"type\":\"VBar\"},{\"attributes\":{\"fields\":[\"2015\"]},\"id\":\"52568dce-f5c0-40bc-959a-77d903119357\",\"type\":\"Stack\"},{\"attributes\":{\"formatter\":{\"id\":\"995d3d8c-b33e-4782-a0a8-a6319228ab32\",\"type\":\"CategoricalTickFormatter\"},\"minor_tick_line_color\":{\"value\":null},\"plot\":{\"id\":\"1e351d38-3987-40e5-bc25-f3093fc2794b\",\"subtype\":\"Figure\",\"type\":\"Plot\"},\"ticker\":{\"id\":\"7997a656-be06-4fc9-80ed-20d8d732e7a3\",\"type\":\"CategoricalTicker\"}},\"id\":\"f8691c23-4ec5-4a48-ad39-e40bae178e74\",\"type\":\"CategoricalAxis\"},{\"attributes\":{},\"id\":\"cec1ad93-1727-4873-8439-3070e523e8f2\",\"type\":\"BasicTicker\"},{\"attributes\":{\"bottom\":{\"expr\":{\"id\":\"60e39679-0293-4a4c-bb6c-f6aa5e2e0192\",\"type\":\"Stack\"}},\"fill_alpha\":{\"value\":0.1},\"fill_color\":{\"value\":\"#1f77b4\"},\"line_alpha\":{\"value\":0.1},\"line_color\":{\"value\":\"#1f77b4\"},\"top\":{\"expr\":{\"id\":\"f4b48ff2-a6f1-4961-9ef0-6b7aba85f399\",\"type\":\"Stack\"}},\"width\":{\"value\":0.9},\"x\":{\"field\":\"fruits\"}},\"id\":\"fcf75a14-63e7-424c-b922-d3eec91cffeb\",\"type\":\"VBar\"},{\"attributes\":{\"dimension\":1,\"plot\":{\"id\":\"1e351d38-3987-40e5-bc25-f3093fc2794b\",\"subtype\":\"Figure\",\"type\":\"Plot\"},\"ticker\":{\"id\":\"cec1ad93-1727-4873-8439-3070e523e8f2\",\"type\":\"BasicTicker\"}},\"id\":\"9eefd27d-272f-46af-963e-f849dc9d9eb7\",\"type\":\"Grid\"},{\"attributes\":{\"fields\":[\"2015\",\"2016\",\"2017\"]},\"id\":\"f4b48ff2-a6f1-4961-9ef0-6b7aba85f399\",\"type\":\"Stack\"},{\"attributes\":{\"callback\":null,\"column_names\":[\"fruits\",\"2015\",\"2016\",\"2017\"],\"data\":{\"2015\":[2,1,4,3,2,4],\"2016\":[5,3,4,2,4,6],\"2017\":[3,2,4,4,5,3],\"fruits\":[\"Apples\",\"Pears\",\"Nectarines\",\"Plums\",\"Grapes\",\"Strawberries\"]}},\"id\":\"90247fda-8a5e-403e-830e-99499b87bd5c\",\"type\":\"ColumnDataSource\"},{\"attributes\":{\"fields\":[]},\"id\":\"380cd5c1-a8fc-4ff2-8c05-7fadb4fcc281\",\"type\":\"Stack\"},{\"attributes\":{\"fields\":[\"2015\",\"2016\"]},\"id\":\"60e39679-0293-4a4c-bb6c-f6aa5e2e0192\",\"type\":\"Stack\"},{\"attributes\":{\"fields\":[\"2015\",\"2016\"]},\"id\":\"c4a2fcad-57b9-41e4-b4d4-d69eafcb4c17\",\"type\":\"Stack\"},{\"attributes\":{},\"id\":\"a10be563-1aab-451a-bd2c-d48a350337c2\",\"type\":\"BasicTickFormatter\"},{\"attributes\":{\"fields\":[\"2015\"]},\"id\":\"ad369289-72f4-432d-a400-7a8363e7b68d\",\"type\":\"Stack\"},{\"attributes\":{\"data_source\":{\"id\":\"90247fda-8a5e-403e-830e-99499b87bd5c\",\"type\":\"ColumnDataSource\"},\"glyph\":{\"id\":\"ae5ad57f-c6f4-46c5-8138-212b1e5a7aa5\",\"type\":\"VBar\"},\"hover_glyph\":null,\"muted_glyph\":null,\"name\":\"2015\",\"nonselection_glyph\":{\"id\":\"0a1d6c26-2898-4b15-83fd-96b79acc9314\",\"type\":\"VBar\"},\"selection_glyph\":null,\"view\":{\"id\":\"48a37832-4ccf-4347-a9ad-a271a3cb6de6\",\"type\":\"CDSView\"}},\"id\":\"219dfd11-a6cb-43c8-8013-92fa16a9552a\",\"type\":\"GlyphRenderer\"},{\"attributes\":{\"bottom\":{\"expr\":{\"id\":\"380cd5c1-a8fc-4ff2-8c05-7fadb4fcc281\",\"type\":\"Stack\"}},\"fill_alpha\":{\"value\":0.1},\"fill_color\":{\"value\":\"#1f77b4\"},\"line_alpha\":{\"value\":0.1},\"line_color\":{\"value\":\"#1f77b4\"},\"top\":{\"expr\":{\"id\":\"52568dce-f5c0-40bc-959a-77d903119357\",\"type\":\"Stack\"}},\"width\":{\"value\":0.9},\"x\":{\"field\":\"fruits\"}},\"id\":\"0a1d6c26-2898-4b15-83fd-96b79acc9314\",\"type\":\"VBar\"},{\"attributes\":{\"source\":{\"id\":\"90247fda-8a5e-403e-830e-99499b87bd5c\",\"type\":\"ColumnDataSource\"}},\"id\":\"48a37832-4ccf-4347-a9ad-a271a3cb6de6\",\"type\":\"CDSView\"},{\"attributes\":{\"bottom\":{\"expr\":{\"id\":\"380cd5c1-a8fc-4ff2-8c05-7fadb4fcc281\",\"type\":\"Stack\"}},\"fill_color\":{\"value\":\"#c9d9d3\"},\"line_color\":{\"value\":\"#c9d9d3\"},\"top\":{\"expr\":{\"id\":\"52568dce-f5c0-40bc-959a-77d903119357\",\"type\":\"Stack\"}},\"width\":{\"value\":0.9},\"x\":{\"field\":\"fruits\"}},\"id\":\"ae5ad57f-c6f4-46c5-8138-212b1e5a7aa5\",\"type\":\"VBar\"},{\"attributes\":{\"items\":[{\"id\":\"10df8436-f46a-47a4-82e0-565972513212\",\"type\":\"LegendItem\"},{\"id\":\"4a00a8c1-3e98-4483-89d3-594893251a70\",\"type\":\"LegendItem\"},{\"id\":\"46be87d5-791e-4f16-8d0e-fecafa986f7e\",\"type\":\"LegendItem\"}],\"location\":\"top_left\",\"orientation\":\"horizontal\",\"plot\":{\"id\":\"1e351d38-3987-40e5-bc25-f3093fc2794b\",\"subtype\":\"Figure\",\"type\":\"Plot\"}},\"id\":\"be2494f0-52e9-46f1-b6fa-3e2cc11ab9b9\",\"type\":\"Legend\"},{\"attributes\":{\"callback\":null,\"factors\":[\"Apples\",\"Pears\",\"Nectarines\",\"Plums\",\"Grapes\",\"Strawberries\"]},\"id\":\"fd6c152a-01fc-46d8-a736-116ef16ae52e\",\"type\":\"FactorRange\"},{\"attributes\":{},\"id\":\"995d3d8c-b33e-4782-a0a8-a6319228ab32\",\"type\":\"CategoricalTickFormatter\"},{\"attributes\":{\"below\":[{\"id\":\"f8691c23-4ec5-4a48-ad39-e40bae178e74\",\"type\":\"CategoricalAxis\"}],\"left\":[{\"id\":\"29b54d5a-2567-40d6-9189-8868f767b529\",\"type\":\"LinearAxis\"}],\"outline_line_color\":{\"value\":null},\"plot_height\":350,\"renderers\":[{\"id\":\"f8691c23-4ec5-4a48-ad39-e40bae178e74\",\"type\":\"CategoricalAxis\"},{\"id\":\"e64fef97-107e-47b1-96ac-f74e0e88181d\",\"type\":\"Grid\"},{\"id\":\"29b54d5a-2567-40d6-9189-8868f767b529\",\"type\":\"LinearAxis\"},{\"id\":\"9eefd27d-272f-46af-963e-f849dc9d9eb7\",\"type\":\"Grid\"},{\"id\":\"be2494f0-52e9-46f1-b6fa-3e2cc11ab9b9\",\"type\":\"Legend\"},{\"id\":\"219dfd11-a6cb-43c8-8013-92fa16a9552a\",\"type\":\"GlyphRenderer\"},{\"id\":\"b9bc0180-0ac5-499f-8968-60860f672e91\",\"type\":\"GlyphRenderer\"},{\"id\":\"75903da3-162c-403d-bbca-884c5e3a644b\",\"type\":\"GlyphRenderer\"}],\"title\":{\"id\":\"c92d719f-7812-47ce-b536-53ed5e27a8c4\",\"type\":\"Title\"},\"toolbar\":{\"id\":\"bd90acc9-f4a3-4466-8a0d-ccba756b455e\",\"type\":\"Toolbar\"},\"x_range\":{\"id\":\"fd6c152a-01fc-46d8-a736-116ef16ae52e\",\"type\":\"FactorRange\"},\"x_scale\":{\"id\":\"b6b1e80a-5096-40f7-b0b6-6b2ec2a73515\",\"type\":\"CategoricalScale\"},\"y_range\":{\"id\":\"665d2cba-6625-4386-b06b-77ddc6ad56bb\",\"type\":\"DataRange1d\"},\"y_scale\":{\"id\":\"b26dcffd-f06a-410d-bab5-7d22b9a03a98\",\"type\":\"LinearScale\"}},\"id\":\"1e351d38-3987-40e5-bc25-f3093fc2794b\",\"subtype\":\"Figure\",\"type\":\"Plot\"},{\"attributes\":{\"source\":{\"id\":\"90247fda-8a5e-403e-830e-99499b87bd5c\",\"type\":\"ColumnDataSource\"}},\"id\":\"1c039a24-53cb-4371-b189-c49572428019\",\"type\":\"CDSView\"},{\"attributes\":{\"bottom\":{\"expr\":{\"id\":\"ad369289-72f4-432d-a400-7a8363e7b68d\",\"type\":\"Stack\"}},\"fill_color\":{\"value\":\"#718dbf\"},\"line_color\":{\"value\":\"#718dbf\"},\"top\":{\"expr\":{\"id\":\"c4a2fcad-57b9-41e4-b4d4-d69eafcb4c17\",\"type\":\"Stack\"}},\"width\":{\"value\":0.9},\"x\":{\"field\":\"fruits\"}},\"id\":\"0a7b411d-bc85-48d6-97fd-d93fcd71ec2c\",\"type\":\"VBar\"},{\"attributes\":{\"source\":{\"id\":\"90247fda-8a5e-403e-830e-99499b87bd5c\",\"type\":\"ColumnDataSource\"}},\"id\":\"28000fbd-df3c-4525-8196-6281aa1f3252\",\"type\":\"CDSView\"},{\"attributes\":{\"label\":{\"value\":\"2017\"},\"renderers\":[{\"id\":\"75903da3-162c-403d-bbca-884c5e3a644b\",\"type\":\"GlyphRenderer\"}]},\"id\":\"46be87d5-791e-4f16-8d0e-fecafa986f7e\",\"type\":\"LegendItem\"},{\"attributes\":{\"label\":{\"value\":\"2016\"},\"renderers\":[{\"id\":\"b9bc0180-0ac5-499f-8968-60860f672e91\",\"type\":\"GlyphRenderer\"}]},\"id\":\"4a00a8c1-3e98-4483-89d3-594893251a70\",\"type\":\"LegendItem\"},{\"attributes\":{\"label\":{\"value\":\"2015\"},\"renderers\":[{\"id\":\"219dfd11-a6cb-43c8-8013-92fa16a9552a\",\"type\":\"GlyphRenderer\"}]},\"id\":\"10df8436-f46a-47a4-82e0-565972513212\",\"type\":\"LegendItem\"},{\"attributes\":{\"data_source\":{\"id\":\"90247fda-8a5e-403e-830e-99499b87bd5c\",\"type\":\"ColumnDataSource\"},\"glyph\":{\"id\":\"0a7b411d-bc85-48d6-97fd-d93fcd71ec2c\",\"type\":\"VBar\"},\"hover_glyph\":null,\"muted_glyph\":null,\"name\":\"2016\",\"nonselection_glyph\":{\"id\":\"599ed9e1-6789-4105-bcb8-17cfdf100050\",\"type\":\"VBar\"},\"selection_glyph\":null,\"view\":{\"id\":\"28000fbd-df3c-4525-8196-6281aa1f3252\",\"type\":\"CDSView\"}},\"id\":\"b9bc0180-0ac5-499f-8968-60860f672e91\",\"type\":\"GlyphRenderer\"}],\"root_ids\":[\"1e351d38-3987-40e5-bc25-f3093fc2794b\"]},\"title\":\"Bokeh Application\",\"version\":\"0.12.10\"}};\n",
       "    var render_items = [{\"docid\":\"1adeac0d-5dbd-4fbd-8317-abdfdfa62f8f\",\"elementid\":\"cd34a6b7-279b-46e8-8520-d14b59da646f\",\"modelid\":\"1e351d38-3987-40e5-bc25-f3093fc2794b\"}];\n",
       "\n",
       "    root.Bokeh.embed.embed_items(docs_json, render_items);\n",
       "  }\n",
       "\n",
       "  if (root.Bokeh !== undefined) {\n",
       "    embed_document(root);\n",
       "  } else {\n",
       "    var attempts = 0;\n",
       "    var timer = setInterval(function(root) {\n",
       "      if (root.Bokeh !== undefined) {\n",
       "        embed_document(root);\n",
       "        clearInterval(timer);\n",
       "      }\n",
       "      attempts++;\n",
       "      if (attempts > 100) {\n",
       "        console.log(\"Bokeh: ERROR: Unable to embed document because BokehJS library is missing\")\n",
       "        clearInterval(timer);\n",
       "      }\n",
       "    }, 10, root)\n",
       "  }\n",
       "})(window);"
      ],
      "application/vnd.bokehjs_exec.v0+json": ""
     },
     "metadata": {
      "application/vnd.bokehjs_exec.v0+json": {
       "id": "1e351d38-3987-40e5-bc25-f3093fc2794b"
      }
     },
     "output_type": "display_data"
    }
   ],
   "source": [
    "# 3、堆叠图\n",
    "\n",
    "from bokeh.core.properties import value\n",
    "# 导入value模块\n",
    "\n",
    "fruits = ['Apples', 'Pears', 'Nectarines', 'Plums', 'Grapes', 'Strawberries']\n",
    "years = [\"2015\", \"2016\", \"2017\"]\n",
    "colors = [\"#c9d9d3\", \"#718dbf\", \"#e84d60\"]\n",
    "data = {'fruits' : fruits,\n",
    "        '2015'   : [2, 1, 4, 3, 2, 4],\n",
    "        '2016'   : [5, 3, 4, 2, 4, 6],\n",
    "        '2017'   : [3, 2, 4, 4, 5, 3]}\n",
    "source = ColumnDataSource(data=data)\n",
    "# 创建数据\n",
    "\n",
    "p = figure(x_range=fruits, plot_height=350, title=\"Fruit Counts by Year\",tools=\"\")\n",
    "renderers = p.vbar_stack(years,          # 设置堆叠值，这里source中包含了不同年份的值，years变量用于识别不同堆叠层\n",
    "                         x='fruits',     # 设置x坐标\n",
    "                         source=source,\n",
    "                         width=0.9, color=colors,\n",
    "                         legend=[value(x) for x in years], name=years)\n",
    "# 绘制堆叠图\n",
    "# 注意第一个参数需要放years\n",
    "\n",
    "p.xgrid.grid_line_color = None\n",
    "p.axis.minor_tick_line_color = None\n",
    "p.outline_line_color = None\n",
    "p.legend.location = \"top_left\"\n",
    "p.legend.orientation = \"horizontal\"\n",
    "# 设置其他参数\n",
    "\n",
    "show(p)"
   ]
  },
  {
   "cell_type": "code",
   "execution_count": 10,
   "metadata": {},
   "outputs": [
    {
     "data": {
      "text/html": [
       "\n",
       "<div class=\"bk-root\">\n",
       "    <div class=\"bk-plotdiv\" id=\"e0e5a778-7205-42c0-aba7-c2959255a365\"></div>\n",
       "</div>"
      ]
     },
     "metadata": {},
     "output_type": "display_data"
    },
    {
     "data": {
      "application/javascript": [
       "(function(root) {\n",
       "  function embed_document(root) {\n",
       "    var docs_json = {\"247be5b4-8007-4567-a907-77840fc2b7b9\":{\"roots\":{\"references\":[{\"attributes\":{\"plot\":null,\"text\":\"Fruit import/export, by year\"},\"id\":\"81a96f8b-b933-4cef-9c9e-f3a839204f1e\",\"type\":\"Title\"},{\"attributes\":{\"callback\":null,\"end\":16,\"start\":-16},\"id\":\"66c735e3-dd26-4b57-8f5e-ef9e7fb1a0a1\",\"type\":\"Range1d\"},{\"attributes\":{\"active_drag\":\"auto\",\"active_inspect\":\"auto\",\"active_scroll\":\"auto\",\"active_tap\":\"auto\",\"tools\":[{\"id\":\"ff1e7cff-0fce-4a22-8641-80bc2d78ee88\",\"type\":\"PanTool\"},{\"id\":\"004b320e-180e-43fa-a02c-580b015f9e10\",\"type\":\"WheelZoomTool\"},{\"id\":\"dec4a62e-694d-4742-ac15-0506d70f1d23\",\"type\":\"BoxZoomTool\"},{\"id\":\"8632cb63-dc4f-4888-87c8-dc3a5b44111a\",\"type\":\"SaveTool\"},{\"id\":\"5cef110d-d247-43a5-86ea-588ec144b00f\",\"type\":\"ResetTool\"},{\"id\":\"3677223e-0d3e-472d-9bc1-92df0d91efd8\",\"type\":\"HelpTool\"}]},\"id\":\"c11ceb54-214a-49af-aadd-1f8ef4567ffa\",\"type\":\"Toolbar\"},{\"attributes\":{\"fields\":[\"2015\",\"2016\",\"2017\"]},\"id\":\"ff77541b-7cfb-449c-93f2-d954dc88aef9\",\"type\":\"Stack\"},{\"attributes\":{},\"id\":\"05957a0a-4542-47af-81fe-0e5fe69ff4a3\",\"type\":\"LinearScale\"},{\"attributes\":{\"callback\":null,\"factors\":[\"Apples\",\"Pears\",\"Nectarines\",\"Plums\",\"Grapes\",\"Strawberries\"],\"range_padding\":0.2},\"id\":\"79334ba1-17b8-4e34-810f-a5739cc0b2ef\",\"type\":\"FactorRange\"},{\"attributes\":{},\"id\":\"335d3682-7f28-40fc-99db-4afe13057997\",\"type\":\"CategoricalScale\"},{\"attributes\":{\"plot\":{\"id\":\"fdd5bacb-cd96-4aba-9863-85383028e1e5\",\"subtype\":\"Figure\",\"type\":\"Plot\"},\"ticker\":{\"id\":\"fff0b385-908f-4c73-85e1-1714111aae3b\",\"type\":\"BasicTicker\"}},\"id\":\"ebacdf31-fd9b-4f80-9e13-326857119d3d\",\"type\":\"Grid\"},{\"attributes\":{\"formatter\":{\"id\":\"da198cb7-172a-4c84-ac53-444c3d51471b\",\"type\":\"BasicTickFormatter\"},\"minor_tick_line_color\":{\"value\":null},\"plot\":{\"id\":\"fdd5bacb-cd96-4aba-9863-85383028e1e5\",\"subtype\":\"Figure\",\"type\":\"Plot\"},\"ticker\":{\"id\":\"fff0b385-908f-4c73-85e1-1714111aae3b\",\"type\":\"BasicTicker\"}},\"id\":\"4ed0aed5-171b-46af-bc26-a00c1a6357a9\",\"type\":\"LinearAxis\"},{\"attributes\":{},\"id\":\"fff0b385-908f-4c73-85e1-1714111aae3b\",\"type\":\"BasicTicker\"},{\"attributes\":{\"formatter\":{\"id\":\"7e724e2b-3aeb-4968-8e1d-7b46bfcf10d6\",\"type\":\"CategoricalTickFormatter\"},\"minor_tick_line_color\":{\"value\":null},\"plot\":{\"id\":\"fdd5bacb-cd96-4aba-9863-85383028e1e5\",\"subtype\":\"Figure\",\"type\":\"Plot\"},\"ticker\":{\"id\":\"b113725a-a7d4-48c2-8729-95e61d91ba99\",\"type\":\"CategoricalTicker\"}},\"id\":\"e21a7e4c-7c3c-413b-be01-deacc024b417\",\"type\":\"CategoricalAxis\"},{\"attributes\":{},\"id\":\"b113725a-a7d4-48c2-8729-95e61d91ba99\",\"type\":\"CategoricalTicker\"},{\"attributes\":{\"dimension\":1,\"grid_line_color\":{\"value\":null},\"plot\":{\"id\":\"fdd5bacb-cd96-4aba-9863-85383028e1e5\",\"subtype\":\"Figure\",\"type\":\"Plot\"},\"ticker\":{\"id\":\"b113725a-a7d4-48c2-8729-95e61d91ba99\",\"type\":\"CategoricalTicker\"}},\"id\":\"d59dd4c0-caa7-4991-8741-9cf931f5207b\",\"type\":\"Grid\"},{\"attributes\":{\"fields\":[]},\"id\":\"73014f49-b2da-4e47-9d91-4ebdc96be696\",\"type\":\"Stack\"},{\"attributes\":{\"bottom_units\":\"screen\",\"fill_alpha\":{\"value\":0.5},\"fill_color\":{\"value\":\"lightgrey\"},\"left_units\":\"screen\",\"level\":\"overlay\",\"line_alpha\":{\"value\":1.0},\"line_color\":{\"value\":\"black\"},\"line_dash\":[4,4],\"line_width\":{\"value\":2},\"plot\":null,\"render_mode\":\"css\",\"right_units\":\"screen\",\"top_units\":\"screen\"},\"id\":\"df258bdc-06e6-49eb-82e6-c27d31c887c6\",\"type\":\"BoxAnnotation\"},{\"attributes\":{},\"id\":\"ff1e7cff-0fce-4a22-8641-80bc2d78ee88\",\"type\":\"PanTool\"},{\"attributes\":{\"fields\":[\"2015\"]},\"id\":\"077ca8be-dd5f-4b48-9d88-bdfc1c97e685\",\"type\":\"Stack\"},{\"attributes\":{},\"id\":\"004b320e-180e-43fa-a02c-580b015f9e10\",\"type\":\"WheelZoomTool\"},{\"attributes\":{\"overlay\":{\"id\":\"df258bdc-06e6-49eb-82e6-c27d31c887c6\",\"type\":\"BoxAnnotation\"}},\"id\":\"dec4a62e-694d-4742-ac15-0506d70f1d23\",\"type\":\"BoxZoomTool\"},{\"attributes\":{},\"id\":\"8632cb63-dc4f-4888-87c8-dc3a5b44111a\",\"type\":\"SaveTool\"},{\"attributes\":{},\"id\":\"5cef110d-d247-43a5-86ea-588ec144b00f\",\"type\":\"ResetTool\"},{\"attributes\":{},\"id\":\"3677223e-0d3e-472d-9bc1-92df0d91efd8\",\"type\":\"HelpTool\"},{\"attributes\":{\"fields\":[\"2015\"]},\"id\":\"15702c25-8528-4126-90ca-ba8a4461d464\",\"type\":\"Stack\"},{\"attributes\":{\"fill_alpha\":{\"value\":0.1},\"fill_color\":{\"value\":\"#1f77b4\"},\"height\":{\"value\":0.9},\"left\":{\"expr\":{\"id\":\"bd23cbca-b2ab-42bd-b4a4-5fecaf4ddd7e\",\"type\":\"Stack\"}},\"line_alpha\":{\"value\":0.1},\"line_color\":{\"value\":\"#1f77b4\"},\"right\":{\"expr\":{\"id\":\"798b9013-0211-4daf-9c7f-85fb21290701\",\"type\":\"Stack\"}},\"y\":{\"field\":\"fruits\"}},\"id\":\"b189229f-679c-40f5-b61f-7f287bbe016f\",\"type\":\"HBar\"},{\"attributes\":{\"items\":[{\"id\":\"aada32c5-48c0-411d-a845-55dde6bb4ee1\",\"type\":\"LegendItem\"},{\"id\":\"1976bc27-632b-4798-9633-ba34ecc3b7a7\",\"type\":\"LegendItem\"},{\"id\":\"a04050b6-6471-4841-ae36-cf336940cb13\",\"type\":\"LegendItem\"},{\"id\":\"80d71f7f-bb59-4eeb-88d0-7a267b57c200\",\"type\":\"LegendItem\"},{\"id\":\"76436ceb-44b1-4ff9-b719-399b1b54ffce\",\"type\":\"LegendItem\"},{\"id\":\"533f64cf-083b-4fce-84ee-3677c0194d7d\",\"type\":\"LegendItem\"}],\"location\":\"top_left\",\"plot\":{\"id\":\"fdd5bacb-cd96-4aba-9863-85383028e1e5\",\"subtype\":\"Figure\",\"type\":\"Plot\"}},\"id\":\"8ce129b8-005a-446f-bbc3-ec5b1adf1785\",\"type\":\"Legend\"},{\"attributes\":{\"fill_color\":{\"value\":\"#e0f3db\"},\"height\":{\"value\":0.9},\"left\":{\"expr\":{\"id\":\"c352b79d-bf9e-42a0-820f-1652fbaf8c7c\",\"type\":\"Stack\"}},\"line_color\":{\"value\":\"#e0f3db\"},\"right\":{\"expr\":{\"id\":\"ff77541b-7cfb-449c-93f2-d954dc88aef9\",\"type\":\"Stack\"}},\"y\":{\"field\":\"fruits\"}},\"id\":\"82ab3017-b27e-4232-8af6-7ab287658f17\",\"type\":\"HBar\"},{\"attributes\":{\"fill_color\":{\"value\":\"#43a2ca\"},\"height\":{\"value\":0.9},\"left\":{\"expr\":{\"id\":\"73014f49-b2da-4e47-9d91-4ebdc96be696\",\"type\":\"Stack\"}},\"line_color\":{\"value\":\"#43a2ca\"},\"right\":{\"expr\":{\"id\":\"077ca8be-dd5f-4b48-9d88-bdfc1c97e685\",\"type\":\"Stack\"}},\"y\":{\"field\":\"fruits\"}},\"id\":\"7a0934ff-c744-4752-b623-1fabc05b38db\",\"type\":\"HBar\"},{\"attributes\":{},\"id\":\"7e724e2b-3aeb-4968-8e1d-7b46bfcf10d6\",\"type\":\"CategoricalTickFormatter\"},{\"attributes\":{\"fill_alpha\":{\"value\":0.1},\"fill_color\":{\"value\":\"#1f77b4\"},\"height\":{\"value\":0.9},\"left\":{\"expr\":{\"id\":\"73014f49-b2da-4e47-9d91-4ebdc96be696\",\"type\":\"Stack\"}},\"line_alpha\":{\"value\":0.1},\"line_color\":{\"value\":\"#1f77b4\"},\"right\":{\"expr\":{\"id\":\"077ca8be-dd5f-4b48-9d88-bdfc1c97e685\",\"type\":\"Stack\"}},\"y\":{\"field\":\"fruits\"}},\"id\":\"6f84d65d-3546-4995-858e-9651061fa142\",\"type\":\"HBar\"},{\"attributes\":{\"fill_color\":{\"value\":\"#a8ddb5\"},\"height\":{\"value\":0.9},\"left\":{\"expr\":{\"id\":\"15702c25-8528-4126-90ca-ba8a4461d464\",\"type\":\"Stack\"}},\"line_color\":{\"value\":\"#a8ddb5\"},\"right\":{\"expr\":{\"id\":\"312446d5-5133-4f56-84a2-113f1a56fe92\",\"type\":\"Stack\"}},\"y\":{\"field\":\"fruits\"}},\"id\":\"bdda7b95-9799-40c4-b6f7-7ebcb8352106\",\"type\":\"HBar\"},{\"attributes\":{},\"id\":\"da198cb7-172a-4c84-ac53-444c3d51471b\",\"type\":\"BasicTickFormatter\"},{\"attributes\":{\"data_source\":{\"id\":\"56a6ea77-36d4-4d6e-a119-fb9e1f8f6ac6\",\"type\":\"ColumnDataSource\"},\"glyph\":{\"id\":\"bdda7b95-9799-40c4-b6f7-7ebcb8352106\",\"type\":\"HBar\"},\"hover_glyph\":null,\"muted_glyph\":null,\"nonselection_glyph\":{\"id\":\"bb031bfd-3bf7-486b-8447-baa5edaa9aae\",\"type\":\"HBar\"},\"selection_glyph\":null,\"view\":{\"id\":\"1227def2-30ed-44c0-ac9e-8bef1309eb01\",\"type\":\"CDSView\"}},\"id\":\"260710ce-4494-4602-a503-1cdb01f970d5\",\"type\":\"GlyphRenderer\"},{\"attributes\":{\"data_source\":{\"id\":\"56a6ea77-36d4-4d6e-a119-fb9e1f8f6ac6\",\"type\":\"ColumnDataSource\"},\"glyph\":{\"id\":\"7a0934ff-c744-4752-b623-1fabc05b38db\",\"type\":\"HBar\"},\"hover_glyph\":null,\"muted_glyph\":null,\"nonselection_glyph\":{\"id\":\"6f84d65d-3546-4995-858e-9651061fa142\",\"type\":\"HBar\"},\"selection_glyph\":null,\"view\":{\"id\":\"fb3e022e-fbed-4ff9-8348-f7c2cb1bcb0e\",\"type\":\"CDSView\"}},\"id\":\"76ed283b-3b26-4f1d-add2-1f07f188dd45\",\"type\":\"GlyphRenderer\"},{\"attributes\":{\"source\":{\"id\":\"56a6ea77-36d4-4d6e-a119-fb9e1f8f6ac6\",\"type\":\"ColumnDataSource\"}},\"id\":\"fb3e022e-fbed-4ff9-8348-f7c2cb1bcb0e\",\"type\":\"CDSView\"},{\"attributes\":{\"label\":{\"value\":\"2015 exports\"},\"renderers\":[{\"id\":\"76ed283b-3b26-4f1d-add2-1f07f188dd45\",\"type\":\"GlyphRenderer\"}]},\"id\":\"aada32c5-48c0-411d-a845-55dde6bb4ee1\",\"type\":\"LegendItem\"},{\"attributes\":{\"fill_alpha\":{\"value\":0.1},\"fill_color\":{\"value\":\"#1f77b4\"},\"height\":{\"value\":0.9},\"left\":{\"expr\":{\"id\":\"15702c25-8528-4126-90ca-ba8a4461d464\",\"type\":\"Stack\"}},\"line_alpha\":{\"value\":0.1},\"line_color\":{\"value\":\"#1f77b4\"},\"right\":{\"expr\":{\"id\":\"312446d5-5133-4f56-84a2-113f1a56fe92\",\"type\":\"Stack\"}},\"y\":{\"field\":\"fruits\"}},\"id\":\"bb031bfd-3bf7-486b-8447-baa5edaa9aae\",\"type\":\"HBar\"},{\"attributes\":{\"source\":{\"id\":\"56a6ea77-36d4-4d6e-a119-fb9e1f8f6ac6\",\"type\":\"ColumnDataSource\"}},\"id\":\"1227def2-30ed-44c0-ac9e-8bef1309eb01\",\"type\":\"CDSView\"},{\"attributes\":{\"callback\":null,\"column_names\":[\"fruits\",\"2015\",\"2016\",\"2017\"],\"data\":{\"2015\":[-1,0,-1,-3,-2,-1],\"2016\":[-2,-1,-3,-1,-2,-2],\"2017\":[-1,-2,-1,0,-2,-2],\"fruits\":[\"Apples\",\"Pears\",\"Nectarines\",\"Plums\",\"Grapes\",\"Strawberries\"]}},\"id\":\"054843e0-ab0b-47ac-99f8-6db8d9affddb\",\"type\":\"ColumnDataSource\"},{\"attributes\":{\"fill_alpha\":{\"value\":0.1},\"fill_color\":{\"value\":\"#1f77b4\"},\"height\":{\"value\":0.9},\"left\":{\"expr\":{\"id\":\"c352b79d-bf9e-42a0-820f-1652fbaf8c7c\",\"type\":\"Stack\"}},\"line_alpha\":{\"value\":0.1},\"line_color\":{\"value\":\"#1f77b4\"},\"right\":{\"expr\":{\"id\":\"ff77541b-7cfb-449c-93f2-d954dc88aef9\",\"type\":\"Stack\"}},\"y\":{\"field\":\"fruits\"}},\"id\":\"f0e4d4ea-d878-4863-b498-e345e1440b52\",\"type\":\"HBar\"},{\"attributes\":{\"label\":{\"value\":\"2016 exports\"},\"renderers\":[{\"id\":\"260710ce-4494-4602-a503-1cdb01f970d5\",\"type\":\"GlyphRenderer\"}]},\"id\":\"1976bc27-632b-4798-9633-ba34ecc3b7a7\",\"type\":\"LegendItem\"},{\"attributes\":{\"fields\":[\"2015\",\"2016\",\"2017\"]},\"id\":\"0e0595f2-cb10-4f5c-890b-2a05d7b5a610\",\"type\":\"Stack\"},{\"attributes\":{\"fields\":[]},\"id\":\"79217be6-e47c-4656-8621-d9fea6252352\",\"type\":\"Stack\"},{\"attributes\":{\"label\":{\"value\":\"2017 exports\"},\"renderers\":[{\"id\":\"7b4d32e0-b480-4a11-9665-b47f1a187324\",\"type\":\"GlyphRenderer\"}]},\"id\":\"a04050b6-6471-4841-ae36-cf336940cb13\",\"type\":\"LegendItem\"},{\"attributes\":{\"fill_alpha\":{\"value\":0.1},\"fill_color\":{\"value\":\"#1f77b4\"},\"height\":{\"value\":0.9},\"left\":{\"expr\":{\"id\":\"f24a2f16-9d34-4b4a-aeb5-ff45bb7975cc\",\"type\":\"Stack\"}},\"line_alpha\":{\"value\":0.1},\"line_color\":{\"value\":\"#1f77b4\"},\"right\":{\"expr\":{\"id\":\"0e0595f2-cb10-4f5c-890b-2a05d7b5a610\",\"type\":\"Stack\"}},\"y\":{\"field\":\"fruits\"}},\"id\":\"90cfb076-fb6e-4d24-a29a-ec29a9a5533a\",\"type\":\"HBar\"},{\"attributes\":{\"data_source\":{\"id\":\"56a6ea77-36d4-4d6e-a119-fb9e1f8f6ac6\",\"type\":\"ColumnDataSource\"},\"glyph\":{\"id\":\"82ab3017-b27e-4232-8af6-7ab287658f17\",\"type\":\"HBar\"},\"hover_glyph\":null,\"muted_glyph\":null,\"nonselection_glyph\":{\"id\":\"f0e4d4ea-d878-4863-b498-e345e1440b52\",\"type\":\"HBar\"},\"selection_glyph\":null,\"view\":{\"id\":\"bad5e13e-e316-44f9-884d-d44951d090ff\",\"type\":\"CDSView\"}},\"id\":\"7b4d32e0-b480-4a11-9665-b47f1a187324\",\"type\":\"GlyphRenderer\"},{\"attributes\":{\"source\":{\"id\":\"56a6ea77-36d4-4d6e-a119-fb9e1f8f6ac6\",\"type\":\"ColumnDataSource\"}},\"id\":\"bad5e13e-e316-44f9-884d-d44951d090ff\",\"type\":\"CDSView\"},{\"attributes\":{\"fields\":[\"2015\"]},\"id\":\"bd23cbca-b2ab-42bd-b4a4-5fecaf4ddd7e\",\"type\":\"Stack\"},{\"attributes\":{\"fields\":[\"2015\"]},\"id\":\"0a850eb4-35cc-4bb0-99af-a2817dc7bb69\",\"type\":\"Stack\"},{\"attributes\":{\"fields\":[\"2015\",\"2016\"]},\"id\":\"f24a2f16-9d34-4b4a-aeb5-ff45bb7975cc\",\"type\":\"Stack\"},{\"attributes\":{\"fields\":[\"2015\",\"2016\"]},\"id\":\"798b9013-0211-4daf-9c7f-85fb21290701\",\"type\":\"Stack\"},{\"attributes\":{\"callback\":null,\"column_names\":[\"fruits\",\"2015\",\"2016\",\"2017\"],\"data\":{\"2015\":[2,1,4,3,2,4],\"2016\":[5,3,4,2,4,6],\"2017\":[3,2,4,4,5,3],\"fruits\":[\"Apples\",\"Pears\",\"Nectarines\",\"Plums\",\"Grapes\",\"Strawberries\"]}},\"id\":\"56a6ea77-36d4-4d6e-a119-fb9e1f8f6ac6\",\"type\":\"ColumnDataSource\"},{\"attributes\":{\"fill_color\":{\"value\":\"#fdbb84\"},\"height\":{\"value\":0.9},\"left\":{\"expr\":{\"id\":\"bd23cbca-b2ab-42bd-b4a4-5fecaf4ddd7e\",\"type\":\"Stack\"}},\"line_color\":{\"value\":\"#fdbb84\"},\"right\":{\"expr\":{\"id\":\"798b9013-0211-4daf-9c7f-85fb21290701\",\"type\":\"Stack\"}},\"y\":{\"field\":\"fruits\"}},\"id\":\"27b6f6f4-afb8-49f4-9518-0fb4d86f22a5\",\"type\":\"HBar\"},{\"attributes\":{\"fill_color\":{\"value\":\"#e34a33\"},\"height\":{\"value\":0.9},\"left\":{\"expr\":{\"id\":\"79217be6-e47c-4656-8621-d9fea6252352\",\"type\":\"Stack\"}},\"line_color\":{\"value\":\"#e34a33\"},\"right\":{\"expr\":{\"id\":\"0a850eb4-35cc-4bb0-99af-a2817dc7bb69\",\"type\":\"Stack\"}},\"y\":{\"field\":\"fruits\"}},\"id\":\"205263a8-de0d-4267-8495-0104f26c051a\",\"type\":\"HBar\"},{\"attributes\":{\"fields\":[\"2015\",\"2016\"]},\"id\":\"312446d5-5133-4f56-84a2-113f1a56fe92\",\"type\":\"Stack\"},{\"attributes\":{\"fill_alpha\":{\"value\":0.1},\"fill_color\":{\"value\":\"#1f77b4\"},\"height\":{\"value\":0.9},\"left\":{\"expr\":{\"id\":\"79217be6-e47c-4656-8621-d9fea6252352\",\"type\":\"Stack\"}},\"line_alpha\":{\"value\":0.1},\"line_color\":{\"value\":\"#1f77b4\"},\"right\":{\"expr\":{\"id\":\"0a850eb4-35cc-4bb0-99af-a2817dc7bb69\",\"type\":\"Stack\"}},\"y\":{\"field\":\"fruits\"}},\"id\":\"75729581-8668-4059-843b-ed3364096d77\",\"type\":\"HBar\"},{\"attributes\":{\"fill_color\":{\"value\":\"#fee8c8\"},\"height\":{\"value\":0.9},\"left\":{\"expr\":{\"id\":\"f24a2f16-9d34-4b4a-aeb5-ff45bb7975cc\",\"type\":\"Stack\"}},\"line_color\":{\"value\":\"#fee8c8\"},\"right\":{\"expr\":{\"id\":\"0e0595f2-cb10-4f5c-890b-2a05d7b5a610\",\"type\":\"Stack\"}},\"y\":{\"field\":\"fruits\"}},\"id\":\"3443a162-77da-4382-9319-4c173d31c0a0\",\"type\":\"HBar\"},{\"attributes\":{\"label\":{\"value\":\"2016 imports\"},\"renderers\":[{\"id\":\"13eba651-a6fb-4b09-963d-d7cc63107b3c\",\"type\":\"GlyphRenderer\"}]},\"id\":\"76436ceb-44b1-4ff9-b719-399b1b54ffce\",\"type\":\"LegendItem\"},{\"attributes\":{\"label\":{\"value\":\"2015 imports\"},\"renderers\":[{\"id\":\"32876308-5d98-463e-8788-74e2aeb1ae39\",\"type\":\"GlyphRenderer\"}]},\"id\":\"80d71f7f-bb59-4eeb-88d0-7a267b57c200\",\"type\":\"LegendItem\"},{\"attributes\":{\"source\":{\"id\":\"054843e0-ab0b-47ac-99f8-6db8d9affddb\",\"type\":\"ColumnDataSource\"}},\"id\":\"d7510200-4a5b-44b5-9ee9-51560db67703\",\"type\":\"CDSView\"},{\"attributes\":{\"data_source\":{\"id\":\"054843e0-ab0b-47ac-99f8-6db8d9affddb\",\"type\":\"ColumnDataSource\"},\"glyph\":{\"id\":\"205263a8-de0d-4267-8495-0104f26c051a\",\"type\":\"HBar\"},\"hover_glyph\":null,\"muted_glyph\":null,\"nonselection_glyph\":{\"id\":\"75729581-8668-4059-843b-ed3364096d77\",\"type\":\"HBar\"},\"selection_glyph\":null,\"view\":{\"id\":\"9569e5b5-fc76-44b9-b13c-c1fe0951d14e\",\"type\":\"CDSView\"}},\"id\":\"32876308-5d98-463e-8788-74e2aeb1ae39\",\"type\":\"GlyphRenderer\"},{\"attributes\":{\"source\":{\"id\":\"054843e0-ab0b-47ac-99f8-6db8d9affddb\",\"type\":\"ColumnDataSource\"}},\"id\":\"9569e5b5-fc76-44b9-b13c-c1fe0951d14e\",\"type\":\"CDSView\"},{\"attributes\":{\"data_source\":{\"id\":\"054843e0-ab0b-47ac-99f8-6db8d9affddb\",\"type\":\"ColumnDataSource\"},\"glyph\":{\"id\":\"27b6f6f4-afb8-49f4-9518-0fb4d86f22a5\",\"type\":\"HBar\"},\"hover_glyph\":null,\"muted_glyph\":null,\"nonselection_glyph\":{\"id\":\"b189229f-679c-40f5-b61f-7f287bbe016f\",\"type\":\"HBar\"},\"selection_glyph\":null,\"view\":{\"id\":\"c5607538-0b4b-4410-89f1-cb6d8a3c4a69\",\"type\":\"CDSView\"}},\"id\":\"13eba651-a6fb-4b09-963d-d7cc63107b3c\",\"type\":\"GlyphRenderer\"},{\"attributes\":{\"below\":[{\"id\":\"4ed0aed5-171b-46af-bc26-a00c1a6357a9\",\"type\":\"LinearAxis\"}],\"left\":[{\"id\":\"e21a7e4c-7c3c-413b-be01-deacc024b417\",\"type\":\"CategoricalAxis\"}],\"outline_line_color\":{\"value\":null},\"plot_height\":350,\"renderers\":[{\"id\":\"4ed0aed5-171b-46af-bc26-a00c1a6357a9\",\"type\":\"LinearAxis\"},{\"id\":\"ebacdf31-fd9b-4f80-9e13-326857119d3d\",\"type\":\"Grid\"},{\"id\":\"e21a7e4c-7c3c-413b-be01-deacc024b417\",\"type\":\"CategoricalAxis\"},{\"id\":\"d59dd4c0-caa7-4991-8741-9cf931f5207b\",\"type\":\"Grid\"},{\"id\":\"df258bdc-06e6-49eb-82e6-c27d31c887c6\",\"type\":\"BoxAnnotation\"},{\"id\":\"8ce129b8-005a-446f-bbc3-ec5b1adf1785\",\"type\":\"Legend\"},{\"id\":\"76ed283b-3b26-4f1d-add2-1f07f188dd45\",\"type\":\"GlyphRenderer\"},{\"id\":\"260710ce-4494-4602-a503-1cdb01f970d5\",\"type\":\"GlyphRenderer\"},{\"id\":\"7b4d32e0-b480-4a11-9665-b47f1a187324\",\"type\":\"GlyphRenderer\"},{\"id\":\"32876308-5d98-463e-8788-74e2aeb1ae39\",\"type\":\"GlyphRenderer\"},{\"id\":\"13eba651-a6fb-4b09-963d-d7cc63107b3c\",\"type\":\"GlyphRenderer\"},{\"id\":\"70fba628-adb5-4f47-9299-1d04b8a7244e\",\"type\":\"GlyphRenderer\"}],\"title\":{\"id\":\"81a96f8b-b933-4cef-9c9e-f3a839204f1e\",\"type\":\"Title\"},\"toolbar\":{\"id\":\"c11ceb54-214a-49af-aadd-1f8ef4567ffa\",\"type\":\"Toolbar\"},\"x_range\":{\"id\":\"66c735e3-dd26-4b57-8f5e-ef9e7fb1a0a1\",\"type\":\"Range1d\"},\"x_scale\":{\"id\":\"05957a0a-4542-47af-81fe-0e5fe69ff4a3\",\"type\":\"LinearScale\"},\"y_range\":{\"id\":\"79334ba1-17b8-4e34-810f-a5739cc0b2ef\",\"type\":\"FactorRange\"},\"y_scale\":{\"id\":\"335d3682-7f28-40fc-99db-4afe13057997\",\"type\":\"CategoricalScale\"}},\"id\":\"fdd5bacb-cd96-4aba-9863-85383028e1e5\",\"subtype\":\"Figure\",\"type\":\"Plot\"},{\"attributes\":{\"source\":{\"id\":\"054843e0-ab0b-47ac-99f8-6db8d9affddb\",\"type\":\"ColumnDataSource\"}},\"id\":\"c5607538-0b4b-4410-89f1-cb6d8a3c4a69\",\"type\":\"CDSView\"},{\"attributes\":{\"fields\":[\"2015\",\"2016\"]},\"id\":\"c352b79d-bf9e-42a0-820f-1652fbaf8c7c\",\"type\":\"Stack\"},{\"attributes\":{\"label\":{\"value\":\"2017 imports\"},\"renderers\":[{\"id\":\"70fba628-adb5-4f47-9299-1d04b8a7244e\",\"type\":\"GlyphRenderer\"}]},\"id\":\"533f64cf-083b-4fce-84ee-3677c0194d7d\",\"type\":\"LegendItem\"},{\"attributes\":{\"data_source\":{\"id\":\"054843e0-ab0b-47ac-99f8-6db8d9affddb\",\"type\":\"ColumnDataSource\"},\"glyph\":{\"id\":\"3443a162-77da-4382-9319-4c173d31c0a0\",\"type\":\"HBar\"},\"hover_glyph\":null,\"muted_glyph\":null,\"nonselection_glyph\":{\"id\":\"90cfb076-fb6e-4d24-a29a-ec29a9a5533a\",\"type\":\"HBar\"},\"selection_glyph\":null,\"view\":{\"id\":\"d7510200-4a5b-44b5-9ee9-51560db67703\",\"type\":\"CDSView\"}},\"id\":\"70fba628-adb5-4f47-9299-1d04b8a7244e\",\"type\":\"GlyphRenderer\"}],\"root_ids\":[\"fdd5bacb-cd96-4aba-9863-85383028e1e5\"]},\"title\":\"Bokeh Application\",\"version\":\"0.12.10\"}};\n",
       "    var render_items = [{\"docid\":\"247be5b4-8007-4567-a907-77840fc2b7b9\",\"elementid\":\"e0e5a778-7205-42c0-aba7-c2959255a365\",\"modelid\":\"fdd5bacb-cd96-4aba-9863-85383028e1e5\"}];\n",
       "\n",
       "    root.Bokeh.embed.embed_items(docs_json, render_items);\n",
       "  }\n",
       "\n",
       "  if (root.Bokeh !== undefined) {\n",
       "    embed_document(root);\n",
       "  } else {\n",
       "    var attempts = 0;\n",
       "    var timer = setInterval(function(root) {\n",
       "      if (root.Bokeh !== undefined) {\n",
       "        embed_document(root);\n",
       "        clearInterval(timer);\n",
       "      }\n",
       "      attempts++;\n",
       "      if (attempts > 100) {\n",
       "        console.log(\"Bokeh: ERROR: Unable to embed document because BokehJS library is missing\")\n",
       "        clearInterval(timer);\n",
       "      }\n",
       "    }, 10, root)\n",
       "  }\n",
       "})(window);"
      ],
      "application/vnd.bokehjs_exec.v0+json": ""
     },
     "metadata": {
      "application/vnd.bokehjs_exec.v0+json": {
       "id": "fdd5bacb-cd96-4aba-9863-85383028e1e5"
      }
     },
     "output_type": "display_data"
    }
   ],
   "source": [
    "# 3、堆叠图\n",
    "\n",
    "from bokeh.palettes import GnBu3, OrRd3\n",
    "# 导入颜色模块\n",
    "\n",
    "fruits = ['Apples', 'Pears', 'Nectarines', 'Plums', 'Grapes', 'Strawberries']\n",
    "years = [\"2015\", \"2016\", \"2017\"]\n",
    "exports = {'fruits' : fruits,\n",
    "           '2015'   : [2, 1, 4, 3, 2, 4],\n",
    "           '2016'   : [5, 3, 4, 2, 4, 6],\n",
    "           '2017'   : [3, 2, 4, 4, 5, 3]}\n",
    "imports = {'fruits' : fruits,\n",
    "           '2015'   : [-1, 0, -1, -3, -2, -1],\n",
    "           '2016'   : [-2, -1, -3, -1, -2, -2],\n",
    "           '2017'   : [-1, -2, -1, 0, -2, -2]}\n",
    "\n",
    "p = figure(y_range=fruits, plot_height=350, x_range=(-16, 16), title=\"Fruit import/export, by year\")\n",
    "\n",
    "p.hbar_stack(years, y='fruits', height=0.9, color=GnBu3, source=ColumnDataSource(exports),\n",
    "             legend=[\"%s exports\" % x for x in years])      # 绘制出口数据堆叠图\n",
    "\n",
    "p.hbar_stack(years, y='fruits', height=0.9, color=OrRd3, source=ColumnDataSource(imports),\n",
    "             legend=[\"%s imports\" % x for x in years])      # 绘制进口数据堆叠图，这里值为负值\n",
    "\n",
    "p.y_range.range_padding = 0.2     # 调整边界间隔\n",
    "p.ygrid.grid_line_color = None   \n",
    "p.legend.location = \"top_left\"\n",
    "p.axis.minor_tick_line_color = None\n",
    "p.outline_line_color = None\n",
    "# 设置其他参数\n",
    "\n",
    "show(p)"
   ]
  },
  {
   "cell_type": "code",
   "execution_count": 11,
   "metadata": {},
   "outputs": [
    {
     "name": "stdout",
     "output_type": "stream",
     "text": [
      "            value\n",
      "index            \n",
      "0       15.619684\n",
      "1       65.522615\n",
      "2        5.122037\n",
      "3      -58.457381\n",
      "4     -195.535545\n",
      "[1 0 0 1 4]\n",
      "[-420.92465402 -385.36811038 -349.81156674 -314.2550231  -278.69847946\n",
      " -243.14193582 -207.58539218 -172.02884854 -136.47230491 -100.91576127\n",
      "  -65.35921763  -29.80267399    5.75386965   41.31041329   76.86695693\n",
      "  112.42350057  147.98004421  183.53658785  219.09313149  254.64967512\n",
      "  290.20621876]\n"
     ]
    },
    {
     "data": {
      "text/html": [
       "\n",
       "<div class=\"bk-root\">\n",
       "    <div class=\"bk-plotdiv\" id=\"b8bec1ad-88dc-45ab-ab58-273483f41153\"></div>\n",
       "</div>"
      ]
     },
     "metadata": {},
     "output_type": "display_data"
    },
    {
     "data": {
      "application/javascript": [
       "(function(root) {\n",
       "  function embed_document(root) {\n",
       "    var docs_json = {\"97c79d33-77ec-4c1a-a081-d59510c7fabd\":{\"roots\":{\"references\":[{\"attributes\":{},\"id\":\"5702e2c2-8971-4efe-bab7-c090763c5b6f\",\"type\":\"BasicTicker\"},{\"attributes\":{\"dimension\":1,\"plot\":{\"id\":\"eb01c42f-b971-4933-8e0e-e1f53c21c5dc\",\"subtype\":\"Figure\",\"type\":\"Plot\"},\"ticker\":{\"id\":\"5702e2c2-8971-4efe-bab7-c090763c5b6f\",\"type\":\"BasicTicker\"}},\"id\":\"6f5c55d3-3a46-4c94-adad-02515fc32fb4\",\"type\":\"Grid\"},{\"attributes\":{\"bottom\":{\"value\":0},\"fill_color\":{\"value\":\"#036564\"},\"left\":{\"field\":\"left\"},\"line_color\":{\"value\":\"#033649\"},\"right\":{\"field\":\"right\"},\"top\":{\"field\":\"top\"}},\"id\":\"ff8ce298-a58c-4051-a892-3b8f62372c5e\",\"type\":\"Quad\"},{\"attributes\":{\"callback\":null,\"column_names\":[\"left\",\"right\",\"top\"],\"data\":{\"left\":{\"__ndarray__\":\"k+sCYstOesCWYLXH4xV4wJrVZy383HXAnUoakxSkc8Cgv8z4LGtxwEZp/ryKZG7ATVNjiLvyacBUPchT7IBlwFonLR8dD2HAwCIk1Zs6WcDM9u1r/VZQwHAr3wp8zT3AgBHmZ/YDF0AYGmmfu6dEQPy46jh8N1NA9OQgohobXEByiKuFXH9iQGqeRror8WZAZrTh7vpia0BeynwjytRvQA==\",\"dtype\":\"float64\",\"shape\":[20]},\"right\":{\"__ndarray__\":\"lmC1x+MVeMCa1Wct/Nx1wJ1KGpMUpHPAoL/M+CxrccBGaf68imRuwE1TY4i78mnAVD3IU+yAZcBaJy0fHQ9hwMAiJNWbOlnAzPbta/1WUMBwK98KfM09wIAR5mf2AxdAGBppn7unRED8uOo4fDdTQPTkIKIaG1xAcoirhVx/YkBqnka6K/FmQGa04e76YmtAXsp8I8rUb0Au8AusTCNyQA==\",\"dtype\":\"float64\",\"shape\":[20]},\"top\":[1,0,0,1,4,13,32,39,77,120,133,123,140,109,87,53,44,10,11,3]}},\"id\":\"e5ffd5b6-6c3c-41f2-a25f-40d529d3fbe2\",\"type\":\"ColumnDataSource\"},{\"attributes\":{\"plot\":null,\"text\":\"HIST\"},\"id\":\"57ae78f1-1d2c-4c6e-978a-c7f7a212d15a\",\"type\":\"Title\"},{\"attributes\":{\"plot\":{\"id\":\"eb01c42f-b971-4933-8e0e-e1f53c21c5dc\",\"subtype\":\"Figure\",\"type\":\"Plot\"},\"ticker\":{\"id\":\"c50dfbe9-3823-430c-91cc-6a18fee50cbe\",\"type\":\"BasicTicker\"}},\"id\":\"1c27eac1-09a6-4cea-9188-999d7a0252c0\",\"type\":\"Grid\"},{\"attributes\":{\"background_fill_color\":{\"value\":\"#E8DDCB\"},\"below\":[{\"id\":\"0f0e0982-b662-4d7f-b201-991328861915\",\"type\":\"LinearAxis\"}],\"left\":[{\"id\":\"fafddcc8-d5ec-4289-9d7a-83584a76a599\",\"type\":\"LinearAxis\"}],\"renderers\":[{\"id\":\"0f0e0982-b662-4d7f-b201-991328861915\",\"type\":\"LinearAxis\"},{\"id\":\"1c27eac1-09a6-4cea-9188-999d7a0252c0\",\"type\":\"Grid\"},{\"id\":\"fafddcc8-d5ec-4289-9d7a-83584a76a599\",\"type\":\"LinearAxis\"},{\"id\":\"6f5c55d3-3a46-4c94-adad-02515fc32fb4\",\"type\":\"Grid\"},{\"id\":\"698e0860-e8c1-4281-8bc7-907aecca732b\",\"type\":\"GlyphRenderer\"}],\"title\":{\"id\":\"57ae78f1-1d2c-4c6e-978a-c7f7a212d15a\",\"type\":\"Title\"},\"toolbar\":{\"id\":\"ba85e08f-3a8b-4462-ac47-99f9d3eac229\",\"type\":\"Toolbar\"},\"x_range\":{\"id\":\"f9ecc9c9-3ca2-446a-8e57-9f0244505b47\",\"type\":\"DataRange1d\"},\"x_scale\":{\"id\":\"f41c5af4-1b6e-4674-8ed8-978d99007f46\",\"type\":\"LinearScale\"},\"y_range\":{\"id\":\"79c07a12-e6c5-41e6-b2bf-618cc4d7ffcb\",\"type\":\"DataRange1d\"},\"y_scale\":{\"id\":\"c178968b-c19f-4f55-9174-5e90dfbcd130\",\"type\":\"LinearScale\"}},\"id\":\"eb01c42f-b971-4933-8e0e-e1f53c21c5dc\",\"subtype\":\"Figure\",\"type\":\"Plot\"},{\"attributes\":{},\"id\":\"7206b67f-c446-4fa8-b102-0eb8359ba657\",\"type\":\"SaveTool\"},{\"attributes\":{\"formatter\":{\"id\":\"dbffe025-35c3-4b29-85f7-095551e84693\",\"type\":\"BasicTickFormatter\"},\"plot\":{\"id\":\"eb01c42f-b971-4933-8e0e-e1f53c21c5dc\",\"subtype\":\"Figure\",\"type\":\"Plot\"},\"ticker\":{\"id\":\"c50dfbe9-3823-430c-91cc-6a18fee50cbe\",\"type\":\"BasicTicker\"}},\"id\":\"0f0e0982-b662-4d7f-b201-991328861915\",\"type\":\"LinearAxis\"},{\"attributes\":{},\"id\":\"23617eb7-4948-49e3-bb9b-0bd96c604530\",\"type\":\"BasicTickFormatter\"},{\"attributes\":{},\"id\":\"c50dfbe9-3823-430c-91cc-6a18fee50cbe\",\"type\":\"BasicTicker\"},{\"attributes\":{\"data_source\":{\"id\":\"e5ffd5b6-6c3c-41f2-a25f-40d529d3fbe2\",\"type\":\"ColumnDataSource\"},\"glyph\":{\"id\":\"ff8ce298-a58c-4051-a892-3b8f62372c5e\",\"type\":\"Quad\"},\"hover_glyph\":null,\"muted_glyph\":null,\"nonselection_glyph\":{\"id\":\"371a1d39-c270-41dd-9c5e-e12c04f6dce5\",\"type\":\"Quad\"},\"selection_glyph\":null,\"view\":{\"id\":\"803a6b63-f426-4dd9-8ddb-c81ef4a3a8e5\",\"type\":\"CDSView\"}},\"id\":\"698e0860-e8c1-4281-8bc7-907aecca732b\",\"type\":\"GlyphRenderer\"},{\"attributes\":{},\"id\":\"c178968b-c19f-4f55-9174-5e90dfbcd130\",\"type\":\"LinearScale\"},{\"attributes\":{},\"id\":\"f41c5af4-1b6e-4674-8ed8-978d99007f46\",\"type\":\"LinearScale\"},{\"attributes\":{\"callback\":null},\"id\":\"f9ecc9c9-3ca2-446a-8e57-9f0244505b47\",\"type\":\"DataRange1d\"},{\"attributes\":{\"bottom\":{\"value\":0},\"fill_alpha\":{\"value\":0.1},\"fill_color\":{\"value\":\"#1f77b4\"},\"left\":{\"field\":\"left\"},\"line_alpha\":{\"value\":0.1},\"line_color\":{\"value\":\"#1f77b4\"},\"right\":{\"field\":\"right\"},\"top\":{\"field\":\"top\"}},\"id\":\"371a1d39-c270-41dd-9c5e-e12c04f6dce5\",\"type\":\"Quad\"},{\"attributes\":{},\"id\":\"dbffe025-35c3-4b29-85f7-095551e84693\",\"type\":\"BasicTickFormatter\"},{\"attributes\":{\"formatter\":{\"id\":\"23617eb7-4948-49e3-bb9b-0bd96c604530\",\"type\":\"BasicTickFormatter\"},\"plot\":{\"id\":\"eb01c42f-b971-4933-8e0e-e1f53c21c5dc\",\"subtype\":\"Figure\",\"type\":\"Plot\"},\"ticker\":{\"id\":\"5702e2c2-8971-4efe-bab7-c090763c5b6f\",\"type\":\"BasicTicker\"}},\"id\":\"fafddcc8-d5ec-4289-9d7a-83584a76a599\",\"type\":\"LinearAxis\"},{\"attributes\":{\"callback\":null},\"id\":\"79c07a12-e6c5-41e6-b2bf-618cc4d7ffcb\",\"type\":\"DataRange1d\"},{\"attributes\":{\"source\":{\"id\":\"e5ffd5b6-6c3c-41f2-a25f-40d529d3fbe2\",\"type\":\"ColumnDataSource\"}},\"id\":\"803a6b63-f426-4dd9-8ddb-c81ef4a3a8e5\",\"type\":\"CDSView\"},{\"attributes\":{\"active_drag\":\"auto\",\"active_inspect\":\"auto\",\"active_scroll\":\"auto\",\"active_tap\":\"auto\",\"tools\":[{\"id\":\"7206b67f-c446-4fa8-b102-0eb8359ba657\",\"type\":\"SaveTool\"}]},\"id\":\"ba85e08f-3a8b-4462-ac47-99f9d3eac229\",\"type\":\"Toolbar\"}],\"root_ids\":[\"eb01c42f-b971-4933-8e0e-e1f53c21c5dc\"]},\"title\":\"Bokeh Application\",\"version\":\"0.12.10\"}};\n",
       "    var render_items = [{\"docid\":\"97c79d33-77ec-4c1a-a081-d59510c7fabd\",\"elementid\":\"b8bec1ad-88dc-45ab-ab58-273483f41153\",\"modelid\":\"eb01c42f-b971-4933-8e0e-e1f53c21c5dc\"}];\n",
       "\n",
       "    root.Bokeh.embed.embed_items(docs_json, render_items);\n",
       "  }\n",
       "\n",
       "  if (root.Bokeh !== undefined) {\n",
       "    embed_document(root);\n",
       "  } else {\n",
       "    var attempts = 0;\n",
       "    var timer = setInterval(function(root) {\n",
       "      if (root.Bokeh !== undefined) {\n",
       "        embed_document(root);\n",
       "        clearInterval(timer);\n",
       "      }\n",
       "      attempts++;\n",
       "      if (attempts > 100) {\n",
       "        console.log(\"Bokeh: ERROR: Unable to embed document because BokehJS library is missing\")\n",
       "        clearInterval(timer);\n",
       "      }\n",
       "    }, 10, root)\n",
       "  }\n",
       "})(window);"
      ],
      "application/vnd.bokehjs_exec.v0+json": ""
     },
     "metadata": {
      "application/vnd.bokehjs_exec.v0+json": {
       "id": "eb01c42f-b971-4933-8e0e-e1f53c21c5dc"
      }
     },
     "output_type": "display_data"
    }
   ],
   "source": [
    "# 4、直方图\n",
    "# np.histogram + figure.quad()\n",
    "# 不需要构建ColumnDataSource对象\n",
    "\n",
    "df = pd.DataFrame({'value': np.random.randn(1000)*100})\n",
    "df.index.name = 'index'\n",
    "print(df.head())\n",
    "# 创建数据\n",
    "\n",
    "hist, edges = np.histogram(df['value'],bins=20)\n",
    "print(hist[:5])\n",
    "print(edges)\n",
    "# 将数据解析成直方图统计格式\n",
    "# 高阶函数np.histogram(a, bins=10, range=None, weights=None, density=None) \n",
    "# a：数据\n",
    "# bins：箱数\n",
    "# range：最大最小值的范围，如果不设定则为(a.min(), a.max())\n",
    "# weights：权重\n",
    "# density：为True则返回“频率”，为False则返回“计数”\n",
    "# 返回值1 - hist：每个箱子的统计值（top）\n",
    "# 返回值2 - edges：每个箱子的位置坐标，这里n个bins将会有n+1个edges\n",
    "\n",
    "p = figure(title=\"HIST\", tools=\"save\",background_fill_color=\"#E8DDCB\")\n",
    "p.quad(top=hist, bottom=0, left=edges[:-1], right=edges[1:],   # 分别代表每个柱子的四边值\n",
    "        fill_color=\"#036564\", line_color=\"#033649\")\n",
    "# figure.quad绘制直方图\n",
    "\n",
    "show(p)"
   ]
  }
 ],
 "metadata": {
  "anaconda-cloud": {},
  "kernelspec": {
   "display_name": "Python 3",
   "language": "python",
   "name": "python3"
  },
  "language_info": {
   "codemirror_mode": {
    "name": "ipython",
    "version": 3
   },
   "file_extension": ".py",
   "mimetype": "text/x-python",
   "name": "python",
   "nbconvert_exporter": "python",
   "pygments_lexer": "ipython3",
   "version": "3.6.3"
  }
 },
 "nbformat": 4,
 "nbformat_minor": 1
}
