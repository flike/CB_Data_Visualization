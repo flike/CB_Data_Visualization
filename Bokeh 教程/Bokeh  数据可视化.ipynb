{
 "cells": [
  {
   "cell_type": "markdown",
   "metadata": {},
   "source": [
    "##  1. 绘图空间基本设置\n"
   ]
  },
  {
   "cell_type": "code",
   "execution_count": 2,
   "metadata": {
    "collapsed": true
   },
   "outputs": [],
   "source": [
    "#　引入相关库\n",
    "import numpy as np\n",
    "import pandas as pd\n",
    "import matplotlib.pyplot as plt\n",
    "% matplotlib inline\n",
    "\n",
    "import warnings\n",
    "# 不发出警告\n",
    "warnings.filterwarnings('ignore')"
   ]
  },
  {
   "cell_type": "markdown",
   "metadata": {},
   "source": [
    "### 1.1 基本绘图"
   ]
  },
  {
   "cell_type": "code",
   "execution_count": 3,
   "metadata": {},
   "outputs": [
    {
     "data": {
      "text/html": [
       "\n",
       "    <div class=\"bk-root\">\n",
       "        <a href=\"https://bokeh.pydata.org\" target=\"_blank\" class=\"bk-logo bk-logo-small bk-logo-notebook\"></a>\n",
       "        <span id=\"b1828345-b198-4ec7-9d72-115ec3d5693b\">Loading BokehJS ...</span>\n",
       "    </div>"
      ]
     },
     "metadata": {},
     "output_type": "display_data"
    },
    {
     "data": {
      "application/javascript": [
       "\n",
       "(function(root) {\n",
       "  function now() {\n",
       "    return new Date();\n",
       "  }\n",
       "\n",
       "  var force = true;\n",
       "\n",
       "  if (typeof (root._bokeh_onload_callbacks) === \"undefined\" || force === true) {\n",
       "    root._bokeh_onload_callbacks = [];\n",
       "    root._bokeh_is_loading = undefined;\n",
       "  }\n",
       "\n",
       "  var JS_MIME_TYPE = 'application/javascript';\n",
       "  var HTML_MIME_TYPE = 'text/html';\n",
       "  var EXEC_MIME_TYPE = 'application/vnd.bokehjs_exec.v0+json';\n",
       "  var CLASS_NAME = 'output_bokeh rendered_html';\n",
       "\n",
       "  /**\n",
       "   * Render data to the DOM node\n",
       "   */\n",
       "  function render(props, node) {\n",
       "    var script = document.createElement(\"script\");\n",
       "    node.appendChild(script);\n",
       "  }\n",
       "\n",
       "  /**\n",
       "   * Handle when an output is cleared or removed\n",
       "   */\n",
       "  function handleClearOutput(event, handle) {\n",
       "    var cell = handle.cell;\n",
       "\n",
       "    var id = cell.output_area._bokeh_element_id;\n",
       "    var server_id = cell.output_area._bokeh_server_id;\n",
       "    // Clean up Bokeh references\n",
       "    if (id !== undefined) {\n",
       "      Bokeh.index[id].model.document.clear();\n",
       "      delete Bokeh.index[id];\n",
       "    }\n",
       "\n",
       "    if (server_id !== undefined) {\n",
       "      // Clean up Bokeh references\n",
       "      var cmd = \"from bokeh.io.state import curstate; print(curstate().uuid_to_server['\" + server_id + \"'].get_sessions()[0].document.roots[0]._id)\";\n",
       "      cell.notebook.kernel.execute(cmd, {\n",
       "        iopub: {\n",
       "          output: function(msg) {\n",
       "            var element_id = msg.content.text.trim();\n",
       "            Bokeh.index[element_id].model.document.clear();\n",
       "            delete Bokeh.index[element_id];\n",
       "          }\n",
       "        }\n",
       "      });\n",
       "      // Destroy server and session\n",
       "      var cmd = \"import bokeh.io.notebook as ion; ion.destroy_server('\" + server_id + \"')\";\n",
       "      cell.notebook.kernel.execute(cmd);\n",
       "    }\n",
       "  }\n",
       "\n",
       "  /**\n",
       "   * Handle when a new output is added\n",
       "   */\n",
       "  function handleAddOutput(event, handle) {\n",
       "    var output_area = handle.output_area;\n",
       "    var output = handle.output;\n",
       "\n",
       "    // limit handleAddOutput to display_data with EXEC_MIME_TYPE content only\n",
       "    if ((output.output_type != \"display_data\") || (!output.data.hasOwnProperty(EXEC_MIME_TYPE))) {\n",
       "      return\n",
       "    }\n",
       "\n",
       "    var toinsert = output_area.element.find(\".\" + CLASS_NAME.split(' ')[0]);\n",
       "\n",
       "    if (output.metadata[EXEC_MIME_TYPE][\"id\"] !== undefined) {\n",
       "      toinsert[toinsert.length - 1].firstChild.textContent = output.data[JS_MIME_TYPE];\n",
       "      // store reference to embed id on output_area\n",
       "      output_area._bokeh_element_id = output.metadata[EXEC_MIME_TYPE][\"id\"];\n",
       "    }\n",
       "    if (output.metadata[EXEC_MIME_TYPE][\"server_id\"] !== undefined) {\n",
       "      var bk_div = document.createElement(\"div\");\n",
       "      bk_div.innerHTML = output.data[HTML_MIME_TYPE];\n",
       "      var script_attrs = bk_div.children[0].attributes;\n",
       "      for (var i = 0; i < script_attrs.length; i++) {\n",
       "        toinsert[toinsert.length - 1].firstChild.setAttribute(script_attrs[i].name, script_attrs[i].value);\n",
       "      }\n",
       "      // store reference to server id on output_area\n",
       "      output_area._bokeh_server_id = output.metadata[EXEC_MIME_TYPE][\"server_id\"];\n",
       "    }\n",
       "  }\n",
       "\n",
       "  function register_renderer(events, OutputArea) {\n",
       "\n",
       "    function append_mime(data, metadata, element) {\n",
       "      // create a DOM node to render to\n",
       "      var toinsert = this.create_output_subarea(\n",
       "        metadata,\n",
       "        CLASS_NAME,\n",
       "        EXEC_MIME_TYPE\n",
       "      );\n",
       "      this.keyboard_manager.register_events(toinsert);\n",
       "      // Render to node\n",
       "      var props = {data: data, metadata: metadata[EXEC_MIME_TYPE]};\n",
       "      render(props, toinsert[toinsert.length - 1]);\n",
       "      element.append(toinsert);\n",
       "      return toinsert\n",
       "    }\n",
       "\n",
       "    /* Handle when an output is cleared or removed */\n",
       "    events.on('clear_output.CodeCell', handleClearOutput);\n",
       "    events.on('delete.Cell', handleClearOutput);\n",
       "\n",
       "    /* Handle when a new output is added */\n",
       "    events.on('output_added.OutputArea', handleAddOutput);\n",
       "\n",
       "    /**\n",
       "     * Register the mime type and append_mime function with output_area\n",
       "     */\n",
       "    OutputArea.prototype.register_mime_type(EXEC_MIME_TYPE, append_mime, {\n",
       "      /* Is output safe? */\n",
       "      safe: true,\n",
       "      /* Index of renderer in `output_area.display_order` */\n",
       "      index: 0\n",
       "    });\n",
       "  }\n",
       "\n",
       "  // register the mime type if in Jupyter Notebook environment and previously unregistered\n",
       "  if (root.Jupyter !== undefined) {\n",
       "    var events = require('base/js/events');\n",
       "    var OutputArea = require('notebook/js/outputarea').OutputArea;\n",
       "\n",
       "    if (OutputArea.prototype.mime_types().indexOf(EXEC_MIME_TYPE) == -1) {\n",
       "      register_renderer(events, OutputArea);\n",
       "    }\n",
       "  }\n",
       "\n",
       "  \n",
       "  if (typeof (root._bokeh_timeout) === \"undefined\" || force === true) {\n",
       "    root._bokeh_timeout = Date.now() + 5000;\n",
       "    root._bokeh_failed_load = false;\n",
       "  }\n",
       "\n",
       "  var NB_LOAD_WARNING = {'data': {'text/html':\n",
       "     \"<div style='background-color: #fdd'>\\n\"+\n",
       "     \"<p>\\n\"+\n",
       "     \"BokehJS does not appear to have successfully loaded. If loading BokehJS from CDN, this \\n\"+\n",
       "     \"may be due to a slow or bad network connection. Possible fixes:\\n\"+\n",
       "     \"</p>\\n\"+\n",
       "     \"<ul>\\n\"+\n",
       "     \"<li>re-rerun `output_notebook()` to attempt to load from CDN again, or</li>\\n\"+\n",
       "     \"<li>use INLINE resources instead, as so:</li>\\n\"+\n",
       "     \"</ul>\\n\"+\n",
       "     \"<code>\\n\"+\n",
       "     \"from bokeh.resources import INLINE\\n\"+\n",
       "     \"output_notebook(resources=INLINE)\\n\"+\n",
       "     \"</code>\\n\"+\n",
       "     \"</div>\"}};\n",
       "\n",
       "  function display_loaded() {\n",
       "    var el = document.getElementById(\"b1828345-b198-4ec7-9d72-115ec3d5693b\");\n",
       "    if (el != null) {\n",
       "      el.textContent = \"BokehJS is loading...\";\n",
       "    }\n",
       "    if (root.Bokeh !== undefined) {\n",
       "      if (el != null) {\n",
       "        el.textContent = \"BokehJS \" + root.Bokeh.version + \" successfully loaded.\";\n",
       "      }\n",
       "    } else if (Date.now() < root._bokeh_timeout) {\n",
       "      setTimeout(display_loaded, 100)\n",
       "    }\n",
       "  }\n",
       "\n",
       "\n",
       "  function run_callbacks() {\n",
       "    try {\n",
       "      root._bokeh_onload_callbacks.forEach(function(callback) { callback() });\n",
       "    }\n",
       "    finally {\n",
       "      delete root._bokeh_onload_callbacks\n",
       "    }\n",
       "    console.info(\"Bokeh: all callbacks have finished\");\n",
       "  }\n",
       "\n",
       "  function load_libs(js_urls, callback) {\n",
       "    root._bokeh_onload_callbacks.push(callback);\n",
       "    if (root._bokeh_is_loading > 0) {\n",
       "      console.log(\"Bokeh: BokehJS is being loaded, scheduling callback at\", now());\n",
       "      return null;\n",
       "    }\n",
       "    if (js_urls == null || js_urls.length === 0) {\n",
       "      run_callbacks();\n",
       "      return null;\n",
       "    }\n",
       "    console.log(\"Bokeh: BokehJS not loaded, scheduling load and callback at\", now());\n",
       "    root._bokeh_is_loading = js_urls.length;\n",
       "    for (var i = 0; i < js_urls.length; i++) {\n",
       "      var url = js_urls[i];\n",
       "      var s = document.createElement('script');\n",
       "      s.src = url;\n",
       "      s.async = false;\n",
       "      s.onreadystatechange = s.onload = function() {\n",
       "        root._bokeh_is_loading--;\n",
       "        if (root._bokeh_is_loading === 0) {\n",
       "          console.log(\"Bokeh: all BokehJS libraries loaded\");\n",
       "          run_callbacks()\n",
       "        }\n",
       "      };\n",
       "      s.onerror = function() {\n",
       "        console.warn(\"failed to load library \" + url);\n",
       "      };\n",
       "      console.log(\"Bokeh: injecting script tag for BokehJS library: \", url);\n",
       "      document.getElementsByTagName(\"head\")[0].appendChild(s);\n",
       "    }\n",
       "  };var element = document.getElementById(\"b1828345-b198-4ec7-9d72-115ec3d5693b\");\n",
       "  if (element == null) {\n",
       "    console.log(\"Bokeh: ERROR: autoload.js configured with elementid 'b1828345-b198-4ec7-9d72-115ec3d5693b' but no matching script tag was found. \")\n",
       "    return false;\n",
       "  }\n",
       "\n",
       "  var js_urls = [\"https://cdn.pydata.org/bokeh/release/bokeh-0.12.16.min.js\", \"https://cdn.pydata.org/bokeh/release/bokeh-widgets-0.12.16.min.js\", \"https://cdn.pydata.org/bokeh/release/bokeh-tables-0.12.16.min.js\", \"https://cdn.pydata.org/bokeh/release/bokeh-gl-0.12.16.min.js\"];\n",
       "\n",
       "  var inline_js = [\n",
       "    function(Bokeh) {\n",
       "      Bokeh.set_log_level(\"info\");\n",
       "    },\n",
       "    \n",
       "    function(Bokeh) {\n",
       "      \n",
       "    },\n",
       "    function(Bokeh) {\n",
       "      console.log(\"Bokeh: injecting CSS: https://cdn.pydata.org/bokeh/release/bokeh-0.12.16.min.css\");\n",
       "      Bokeh.embed.inject_css(\"https://cdn.pydata.org/bokeh/release/bokeh-0.12.16.min.css\");\n",
       "      console.log(\"Bokeh: injecting CSS: https://cdn.pydata.org/bokeh/release/bokeh-widgets-0.12.16.min.css\");\n",
       "      Bokeh.embed.inject_css(\"https://cdn.pydata.org/bokeh/release/bokeh-widgets-0.12.16.min.css\");\n",
       "      console.log(\"Bokeh: injecting CSS: https://cdn.pydata.org/bokeh/release/bokeh-tables-0.12.16.min.css\");\n",
       "      Bokeh.embed.inject_css(\"https://cdn.pydata.org/bokeh/release/bokeh-tables-0.12.16.min.css\");\n",
       "    }\n",
       "  ];\n",
       "\n",
       "  function run_inline_js() {\n",
       "    \n",
       "    if ((root.Bokeh !== undefined) || (force === true)) {\n",
       "      for (var i = 0; i < inline_js.length; i++) {\n",
       "        inline_js[i].call(root, root.Bokeh);\n",
       "      }if (force === true) {\n",
       "        display_loaded();\n",
       "      }} else if (Date.now() < root._bokeh_timeout) {\n",
       "      setTimeout(run_inline_js, 100);\n",
       "    } else if (!root._bokeh_failed_load) {\n",
       "      console.log(\"Bokeh: BokehJS failed to load within specified timeout.\");\n",
       "      root._bokeh_failed_load = true;\n",
       "    } else if (force !== true) {\n",
       "      var cell = $(document.getElementById(\"b1828345-b198-4ec7-9d72-115ec3d5693b\")).parents('.cell').data().cell;\n",
       "      cell.output_area.append_execute_result(NB_LOAD_WARNING)\n",
       "    }\n",
       "\n",
       "  }\n",
       "\n",
       "  if (root._bokeh_is_loading === 0) {\n",
       "    console.log(\"Bokeh: BokehJS loaded, going straight to plotting\");\n",
       "    run_inline_js();\n",
       "  } else {\n",
       "    load_libs(js_urls, function() {\n",
       "      console.log(\"Bokeh: BokehJS plotting callback run at\", now());\n",
       "      run_inline_js();\n",
       "    });\n",
       "  }\n",
       "}(window));"
      ],
      "application/vnd.bokehjs_load.v0+json": "\n(function(root) {\n  function now() {\n    return new Date();\n  }\n\n  var force = true;\n\n  if (typeof (root._bokeh_onload_callbacks) === \"undefined\" || force === true) {\n    root._bokeh_onload_callbacks = [];\n    root._bokeh_is_loading = undefined;\n  }\n\n  \n\n  \n  if (typeof (root._bokeh_timeout) === \"undefined\" || force === true) {\n    root._bokeh_timeout = Date.now() + 5000;\n    root._bokeh_failed_load = false;\n  }\n\n  var NB_LOAD_WARNING = {'data': {'text/html':\n     \"<div style='background-color: #fdd'>\\n\"+\n     \"<p>\\n\"+\n     \"BokehJS does not appear to have successfully loaded. If loading BokehJS from CDN, this \\n\"+\n     \"may be due to a slow or bad network connection. Possible fixes:\\n\"+\n     \"</p>\\n\"+\n     \"<ul>\\n\"+\n     \"<li>re-rerun `output_notebook()` to attempt to load from CDN again, or</li>\\n\"+\n     \"<li>use INLINE resources instead, as so:</li>\\n\"+\n     \"</ul>\\n\"+\n     \"<code>\\n\"+\n     \"from bokeh.resources import INLINE\\n\"+\n     \"output_notebook(resources=INLINE)\\n\"+\n     \"</code>\\n\"+\n     \"</div>\"}};\n\n  function display_loaded() {\n    var el = document.getElementById(\"b1828345-b198-4ec7-9d72-115ec3d5693b\");\n    if (el != null) {\n      el.textContent = \"BokehJS is loading...\";\n    }\n    if (root.Bokeh !== undefined) {\n      if (el != null) {\n        el.textContent = \"BokehJS \" + root.Bokeh.version + \" successfully loaded.\";\n      }\n    } else if (Date.now() < root._bokeh_timeout) {\n      setTimeout(display_loaded, 100)\n    }\n  }\n\n\n  function run_callbacks() {\n    try {\n      root._bokeh_onload_callbacks.forEach(function(callback) { callback() });\n    }\n    finally {\n      delete root._bokeh_onload_callbacks\n    }\n    console.info(\"Bokeh: all callbacks have finished\");\n  }\n\n  function load_libs(js_urls, callback) {\n    root._bokeh_onload_callbacks.push(callback);\n    if (root._bokeh_is_loading > 0) {\n      console.log(\"Bokeh: BokehJS is being loaded, scheduling callback at\", now());\n      return null;\n    }\n    if (js_urls == null || js_urls.length === 0) {\n      run_callbacks();\n      return null;\n    }\n    console.log(\"Bokeh: BokehJS not loaded, scheduling load and callback at\", now());\n    root._bokeh_is_loading = js_urls.length;\n    for (var i = 0; i < js_urls.length; i++) {\n      var url = js_urls[i];\n      var s = document.createElement('script');\n      s.src = url;\n      s.async = false;\n      s.onreadystatechange = s.onload = function() {\n        root._bokeh_is_loading--;\n        if (root._bokeh_is_loading === 0) {\n          console.log(\"Bokeh: all BokehJS libraries loaded\");\n          run_callbacks()\n        }\n      };\n      s.onerror = function() {\n        console.warn(\"failed to load library \" + url);\n      };\n      console.log(\"Bokeh: injecting script tag for BokehJS library: \", url);\n      document.getElementsByTagName(\"head\")[0].appendChild(s);\n    }\n  };var element = document.getElementById(\"b1828345-b198-4ec7-9d72-115ec3d5693b\");\n  if (element == null) {\n    console.log(\"Bokeh: ERROR: autoload.js configured with elementid 'b1828345-b198-4ec7-9d72-115ec3d5693b' but no matching script tag was found. \")\n    return false;\n  }\n\n  var js_urls = [\"https://cdn.pydata.org/bokeh/release/bokeh-0.12.16.min.js\", \"https://cdn.pydata.org/bokeh/release/bokeh-widgets-0.12.16.min.js\", \"https://cdn.pydata.org/bokeh/release/bokeh-tables-0.12.16.min.js\", \"https://cdn.pydata.org/bokeh/release/bokeh-gl-0.12.16.min.js\"];\n\n  var inline_js = [\n    function(Bokeh) {\n      Bokeh.set_log_level(\"info\");\n    },\n    \n    function(Bokeh) {\n      \n    },\n    function(Bokeh) {\n      console.log(\"Bokeh: injecting CSS: https://cdn.pydata.org/bokeh/release/bokeh-0.12.16.min.css\");\n      Bokeh.embed.inject_css(\"https://cdn.pydata.org/bokeh/release/bokeh-0.12.16.min.css\");\n      console.log(\"Bokeh: injecting CSS: https://cdn.pydata.org/bokeh/release/bokeh-widgets-0.12.16.min.css\");\n      Bokeh.embed.inject_css(\"https://cdn.pydata.org/bokeh/release/bokeh-widgets-0.12.16.min.css\");\n      console.log(\"Bokeh: injecting CSS: https://cdn.pydata.org/bokeh/release/bokeh-tables-0.12.16.min.css\");\n      Bokeh.embed.inject_css(\"https://cdn.pydata.org/bokeh/release/bokeh-tables-0.12.16.min.css\");\n    }\n  ];\n\n  function run_inline_js() {\n    \n    if ((root.Bokeh !== undefined) || (force === true)) {\n      for (var i = 0; i < inline_js.length; i++) {\n        inline_js[i].call(root, root.Bokeh);\n      }if (force === true) {\n        display_loaded();\n      }} else if (Date.now() < root._bokeh_timeout) {\n      setTimeout(run_inline_js, 100);\n    } else if (!root._bokeh_failed_load) {\n      console.log(\"Bokeh: BokehJS failed to load within specified timeout.\");\n      root._bokeh_failed_load = true;\n    } else if (force !== true) {\n      var cell = $(document.getElementById(\"b1828345-b198-4ec7-9d72-115ec3d5693b\")).parents('.cell').data().cell;\n      cell.output_area.append_execute_result(NB_LOAD_WARNING)\n    }\n\n  }\n\n  if (root._bokeh_is_loading === 0) {\n    console.log(\"Bokeh: BokehJS loaded, going straight to plotting\");\n    run_inline_js();\n  } else {\n    load_libs(js_urls, function() {\n      console.log(\"Bokeh: BokehJS plotting callback run at\", now());\n      run_inline_js();\n    });\n  }\n}(window));"
     },
     "metadata": {},
     "output_type": "display_data"
    },
    {
     "data": {
      "text/html": [
       "\n",
       "<div class=\"bk-root\">\n",
       "    <div class=\"bk-plotdiv\" id=\"ee0737a0-6807-470f-b50b-b466a1f1aacf\"></div>\n",
       "</div>"
      ]
     },
     "metadata": {},
     "output_type": "display_data"
    },
    {
     "data": {
      "application/javascript": [
       "(function(root) {\n",
       "  function embed_document(root) {\n",
       "    \n",
       "  var docs_json = {\"d6bbd399-002d-491a-a7f7-bd2815b5ebb4\":{\"roots\":{\"references\":[{\"attributes\":{},\"id\":\"18f7ab5e-c309-4f94-9096-9b1d2e7b1a9e\",\"type\":\"LinearScale\"},{\"attributes\":{\"plot\":null,\"text\":\"\"},\"id\":\"f8628455-854f-4d78-9c90-1ef3eb1f1ca9\",\"type\":\"Title\"},{\"attributes\":{\"formatter\":{\"id\":\"4cc201ef-9441-4290-8153-615f50c57444\",\"type\":\"BasicTickFormatter\"},\"plot\":{\"id\":\"2a06e683-c112-4468-b824-cfde708595bb\",\"subtype\":\"Figure\",\"type\":\"Plot\"},\"ticker\":{\"id\":\"d109effd-984c-4b8c-a75f-fdafbe86cd27\",\"type\":\"BasicTicker\"}},\"id\":\"ed0f2263-4636-462e-89a8-9aade4f04610\",\"type\":\"LinearAxis\"},{\"attributes\":{\"plot\":{\"id\":\"2a06e683-c112-4468-b824-cfde708595bb\",\"subtype\":\"Figure\",\"type\":\"Plot\"},\"ticker\":{\"id\":\"956e9bf0-d16b-4f8e-9323-ce133ea3319e\",\"type\":\"BasicTicker\"}},\"id\":\"9e16e285-ec42-44e2-8faf-7a65e1c1d633\",\"type\":\"Grid\"},{\"attributes\":{},\"id\":\"d109effd-984c-4b8c-a75f-fdafbe86cd27\",\"type\":\"BasicTicker\"},{\"attributes\":{\"dimension\":1,\"plot\":{\"id\":\"2a06e683-c112-4468-b824-cfde708595bb\",\"subtype\":\"Figure\",\"type\":\"Plot\"},\"ticker\":{\"id\":\"d109effd-984c-4b8c-a75f-fdafbe86cd27\",\"type\":\"BasicTicker\"}},\"id\":\"72d49071-d6f2-4395-9aba-cfbe0a55a241\",\"type\":\"Grid\"},{\"attributes\":{\"data_source\":{\"id\":\"3588b36a-6d41-4517-84bf-c25f4bd57f08\",\"type\":\"ColumnDataSource\"},\"glyph\":{\"id\":\"dcf90d00-959f-435d-b80a-facf9b730fb4\",\"type\":\"Circle\"},\"hover_glyph\":null,\"muted_glyph\":null,\"nonselection_glyph\":{\"id\":\"1c8b0e71-2dea-4c81-ba48-06e46f95e536\",\"type\":\"Circle\"},\"selection_glyph\":null,\"view\":{\"id\":\"248d9452-10a3-4447-8480-054b00857e22\",\"type\":\"CDSView\"}},\"id\":\"ca39a717-7f16-46e8-ab8a-37296750d21f\",\"type\":\"GlyphRenderer\"},{\"attributes\":{\"bottom_units\":\"screen\",\"fill_alpha\":{\"value\":0.5},\"fill_color\":{\"value\":\"lightgrey\"},\"left_units\":\"screen\",\"level\":\"overlay\",\"line_alpha\":{\"value\":1.0},\"line_color\":{\"value\":\"black\"},\"line_dash\":[4,4],\"line_width\":{\"value\":2},\"plot\":null,\"render_mode\":\"css\",\"right_units\":\"screen\",\"top_units\":\"screen\"},\"id\":\"0c726cbd-f197-4538-bcb4-591c8a5852ed\",\"type\":\"BoxAnnotation\"},{\"attributes\":{\"source\":{\"id\":\"3588b36a-6d41-4517-84bf-c25f4bd57f08\",\"type\":\"ColumnDataSource\"}},\"id\":\"248d9452-10a3-4447-8480-054b00857e22\",\"type\":\"CDSView\"},{\"attributes\":{\"formatter\":{\"id\":\"158a40e7-e605-490f-a622-469cf1d7fd3a\",\"type\":\"BasicTickFormatter\"},\"plot\":{\"id\":\"2a06e683-c112-4468-b824-cfde708595bb\",\"subtype\":\"Figure\",\"type\":\"Plot\"},\"ticker\":{\"id\":\"956e9bf0-d16b-4f8e-9323-ce133ea3319e\",\"type\":\"BasicTicker\"}},\"id\":\"49d208b0-1c8b-4f7f-aeef-161bb417ff7d\",\"type\":\"LinearAxis\"},{\"attributes\":{},\"id\":\"693ae6a9-c07a-49df-b25d-b45749cfe0a2\",\"type\":\"Selection\"},{\"attributes\":{},\"id\":\"4cc201ef-9441-4290-8153-615f50c57444\",\"type\":\"BasicTickFormatter\"},{\"attributes\":{},\"id\":\"81dc0c35-2668-4854-a98a-83f9aa16b296\",\"type\":\"UnionRenderers\"},{\"attributes\":{},\"id\":\"ee32e4af-688b-4fff-adb4-df89015ffcf5\",\"type\":\"PanTool\"},{\"attributes\":{\"callback\":null},\"id\":\"d4b4b21e-e13b-4710-99b4-bfa834f1ccb6\",\"type\":\"DataRange1d\"},{\"attributes\":{},\"id\":\"1fa405c0-ca71-49c9-bc70-b1e7593a5b18\",\"type\":\"LinearScale\"},{\"attributes\":{},\"id\":\"aaffa4b4-de98-4785-b042-a5464fae878c\",\"type\":\"WheelZoomTool\"},{\"attributes\":{\"fill_alpha\":{\"value\":0.5},\"fill_color\":{\"value\":\"navy\"},\"line_alpha\":{\"value\":0.5},\"line_color\":{\"value\":\"navy\"},\"size\":{\"units\":\"screen\",\"value\":20},\"x\":{\"field\":\"x\"},\"y\":{\"field\":\"y\"}},\"id\":\"dcf90d00-959f-435d-b80a-facf9b730fb4\",\"type\":\"Circle\"},{\"attributes\":{\"overlay\":{\"id\":\"0c726cbd-f197-4538-bcb4-591c8a5852ed\",\"type\":\"BoxAnnotation\"}},\"id\":\"56fe902c-a596-4ef3-9f84-23c65ec41af1\",\"type\":\"BoxZoomTool\"},{\"attributes\":{\"fill_alpha\":{\"value\":0.1},\"fill_color\":{\"value\":\"#1f77b4\"},\"line_alpha\":{\"value\":0.1},\"line_color\":{\"value\":\"#1f77b4\"},\"size\":{\"units\":\"screen\",\"value\":20},\"x\":{\"field\":\"x\"},\"y\":{\"field\":\"y\"}},\"id\":\"1c8b0e71-2dea-4c81-ba48-06e46f95e536\",\"type\":\"Circle\"},{\"attributes\":{},\"id\":\"a5a4a7e7-1bb5-4344-b7cd-dc6dad7c8050\",\"type\":\"SaveTool\"},{\"attributes\":{\"below\":[{\"id\":\"49d208b0-1c8b-4f7f-aeef-161bb417ff7d\",\"type\":\"LinearAxis\"}],\"left\":[{\"id\":\"ed0f2263-4636-462e-89a8-9aade4f04610\",\"type\":\"LinearAxis\"}],\"plot_height\":400,\"plot_width\":400,\"renderers\":[{\"id\":\"49d208b0-1c8b-4f7f-aeef-161bb417ff7d\",\"type\":\"LinearAxis\"},{\"id\":\"9e16e285-ec42-44e2-8faf-7a65e1c1d633\",\"type\":\"Grid\"},{\"id\":\"ed0f2263-4636-462e-89a8-9aade4f04610\",\"type\":\"LinearAxis\"},{\"id\":\"72d49071-d6f2-4395-9aba-cfbe0a55a241\",\"type\":\"Grid\"},{\"id\":\"0c726cbd-f197-4538-bcb4-591c8a5852ed\",\"type\":\"BoxAnnotation\"},{\"id\":\"ca39a717-7f16-46e8-ab8a-37296750d21f\",\"type\":\"GlyphRenderer\"}],\"title\":{\"id\":\"f8628455-854f-4d78-9c90-1ef3eb1f1ca9\",\"type\":\"Title\"},\"toolbar\":{\"id\":\"efd61ba1-02b4-4df2-b717-2fa55aa81aa7\",\"type\":\"Toolbar\"},\"x_range\":{\"id\":\"efa37d84-af09-48db-995d-0f2ec7433154\",\"type\":\"DataRange1d\"},\"x_scale\":{\"id\":\"1fa405c0-ca71-49c9-bc70-b1e7593a5b18\",\"type\":\"LinearScale\"},\"y_range\":{\"id\":\"d4b4b21e-e13b-4710-99b4-bfa834f1ccb6\",\"type\":\"DataRange1d\"},\"y_scale\":{\"id\":\"18f7ab5e-c309-4f94-9096-9b1d2e7b1a9e\",\"type\":\"LinearScale\"}},\"id\":\"2a06e683-c112-4468-b824-cfde708595bb\",\"subtype\":\"Figure\",\"type\":\"Plot\"},{\"attributes\":{},\"id\":\"ce24e5af-8a6e-440a-b7fc-a710d572ec47\",\"type\":\"ResetTool\"},{\"attributes\":{\"callback\":null},\"id\":\"efa37d84-af09-48db-995d-0f2ec7433154\",\"type\":\"DataRange1d\"},{\"attributes\":{\"callback\":null,\"data\":{\"x\":[1,2,3,4,5],\"y\":[6,7,2,4,5]},\"selected\":{\"id\":\"693ae6a9-c07a-49df-b25d-b45749cfe0a2\",\"type\":\"Selection\"},\"selection_policy\":{\"id\":\"81dc0c35-2668-4854-a98a-83f9aa16b296\",\"type\":\"UnionRenderers\"}},\"id\":\"3588b36a-6d41-4517-84bf-c25f4bd57f08\",\"type\":\"ColumnDataSource\"},{\"attributes\":{},\"id\":\"fa145fd3-27ad-44dc-9289-dcadc6dfabf0\",\"type\":\"HelpTool\"},{\"attributes\":{\"active_drag\":\"auto\",\"active_inspect\":\"auto\",\"active_scroll\":\"auto\",\"active_tap\":\"auto\",\"tools\":[{\"id\":\"ee32e4af-688b-4fff-adb4-df89015ffcf5\",\"type\":\"PanTool\"},{\"id\":\"aaffa4b4-de98-4785-b042-a5464fae878c\",\"type\":\"WheelZoomTool\"},{\"id\":\"56fe902c-a596-4ef3-9f84-23c65ec41af1\",\"type\":\"BoxZoomTool\"},{\"id\":\"a5a4a7e7-1bb5-4344-b7cd-dc6dad7c8050\",\"type\":\"SaveTool\"},{\"id\":\"ce24e5af-8a6e-440a-b7fc-a710d572ec47\",\"type\":\"ResetTool\"},{\"id\":\"fa145fd3-27ad-44dc-9289-dcadc6dfabf0\",\"type\":\"HelpTool\"}]},\"id\":\"efd61ba1-02b4-4df2-b717-2fa55aa81aa7\",\"type\":\"Toolbar\"},{\"attributes\":{},\"id\":\"158a40e7-e605-490f-a622-469cf1d7fd3a\",\"type\":\"BasicTickFormatter\"},{\"attributes\":{},\"id\":\"956e9bf0-d16b-4f8e-9323-ce133ea3319e\",\"type\":\"BasicTicker\"}],\"root_ids\":[\"2a06e683-c112-4468-b824-cfde708595bb\"]},\"title\":\"Bokeh Application\",\"version\":\"0.12.16\"}};\n",
       "  var render_items = [{\"docid\":\"d6bbd399-002d-491a-a7f7-bd2815b5ebb4\",\"elementid\":\"ee0737a0-6807-470f-b50b-b466a1f1aacf\",\"modelid\":\"2a06e683-c112-4468-b824-cfde708595bb\"}];\n",
       "  root.Bokeh.embed.embed_items_notebook(docs_json, render_items);\n",
       "\n",
       "  }\n",
       "  if (root.Bokeh !== undefined) {\n",
       "    embed_document(root);\n",
       "  } else {\n",
       "    var attempts = 0;\n",
       "    var timer = setInterval(function(root) {\n",
       "      if (root.Bokeh !== undefined) {\n",
       "        embed_document(root);\n",
       "        clearInterval(timer);\n",
       "      }\n",
       "      attempts++;\n",
       "      if (attempts > 100) {\n",
       "        console.log(\"Bokeh: ERROR: Unable to run BokehJS code because BokehJS library is missing\")\n",
       "        clearInterval(timer);\n",
       "      }\n",
       "    }, 10, root)\n",
       "  }\n",
       "})(window);"
      ],
      "application/vnd.bokehjs_exec.v0+json": ""
     },
     "metadata": {
      "application/vnd.bokehjs_exec.v0+json": {
       "id": "2a06e683-c112-4468-b824-cfde708595bb"
      }
     },
     "output_type": "display_data"
    }
   ],
   "source": [
    "# 导入图表绘制、图标展示模块\n",
    "from bokeh.plotting import figure,show\n",
    "# 导入notebook绘图模块\n",
    "from bokeh.io import output_notebook\n",
    "\n",
    "# notebook绘图命令\n",
    "output_notebook()\n",
    "\n",
    "p = figure(plot_width=400, plot_height=400)   # 创建图表，设置宽度、高度\n",
    "p.circle([1, 2, 3, 4, 5], [6, 7, 2, 4, 5], size=20, color=\"navy\", alpha=0.5)# 创建一个圆形散点图\n",
    "\n",
    "show(p)"
   ]
  },
  {
   "cell_type": "markdown",
   "metadata": {},
   "source": [
    "### 1.2 图表基本设置\n",
    ">figure()  \n",
    "* 创建图表，设置基本参数\n",
    "* tool参考文档：https://bokeh.pydata.org/en/latest/docs/user_guide/tools.html\n",
    "\n",
    "> title设置\n",
    "* title.text_color\n",
    "* title.text_font \n",
    "* title.text_font_style \n",
    "* title.background_fill_color "
   ]
  },
  {
   "cell_type": "code",
   "execution_count": 5,
   "metadata": {},
   "outputs": [
    {
     "data": {
      "text/html": [
       "\n",
       "<div class=\"bk-root\">\n",
       "    <div class=\"bk-plotdiv\" id=\"f6a62484-b0b3-4f9d-8211-58bf9260e7a2\"></div>\n",
       "</div>"
      ]
     },
     "metadata": {},
     "output_type": "display_data"
    },
    {
     "data": {
      "application/javascript": [
       "(function(root) {\n",
       "  function embed_document(root) {\n",
       "    \n",
       "  var docs_json = {\"6054e567-3231-480d-97a7-898773f11dc3\":{\"roots\":{\"references\":[{\"attributes\":{},\"id\":\"1205983d-ffea-4252-a473-94a7bdc4fe81\",\"type\":\"BasicTicker\"},{\"attributes\":{},\"id\":\"c8700a68-4a2a-4a1e-96b4-3fc56eb7bc56\",\"type\":\"BasicTickFormatter\"},{\"attributes\":{\"bottom_units\":\"screen\",\"fill_alpha\":{\"value\":0.5},\"fill_color\":{\"value\":\"lightgrey\"},\"left_units\":\"screen\",\"level\":\"overlay\",\"line_alpha\":{\"value\":1.0},\"line_color\":{\"value\":\"black\"},\"line_dash\":[4,4],\"line_width\":{\"value\":2},\"plot\":null,\"render_mode\":\"css\",\"right_units\":\"screen\",\"top_units\":\"screen\"},\"id\":\"29841966-0cde-497e-8fc2-3031fab32de1\",\"type\":\"BoxAnnotation\"},{\"attributes\":{\"fill_alpha\":{\"value\":0.5},\"fill_color\":{\"value\":\"#1f77b4\"},\"line_alpha\":{\"value\":0.5},\"line_color\":{\"value\":\"#1f77b4\"},\"size\":{\"units\":\"screen\",\"value\":20},\"x\":{\"field\":\"x\"},\"y\":{\"field\":\"y\"}},\"id\":\"03ad07ca-3626-469f-a848-8e3336445e15\",\"type\":\"Circle\"},{\"attributes\":{\"axis_label\":\"B\",\"formatter\":{\"id\":\"c8700a68-4a2a-4a1e-96b4-3fc56eb7bc56\",\"type\":\"BasicTickFormatter\"},\"plot\":{\"id\":\"38e8f18e-6808-46f6-8a16-d222854cd24b\",\"subtype\":\"Figure\",\"type\":\"Plot\"},\"ticker\":{\"id\":\"afa1a689-9ce9-4ae3-8245-a7e9f7686d75\",\"type\":\"BasicTicker\"}},\"id\":\"c9c01bdd-ef6a-4b52-aebd-3075eb0bcff6\",\"type\":\"LinearAxis\"},{\"attributes\":{},\"id\":\"9a7d1131-c991-4c6b-88b8-dd1ac6db964d\",\"type\":\"SaveTool\"},{\"attributes\":{},\"id\":\"c34f58ed-1ffe-41ff-b06a-4fa8af3e2063\",\"type\":\"BasicTickFormatter\"},{\"attributes\":{},\"id\":\"19a762bb-aa27-4ae8-b18b-c45cd1276108\",\"type\":\"LinearScale\"},{\"attributes\":{\"background_fill_color\":{\"value\":\"red\"},\"plot\":null,\"text\":\"\\u6d4b\\u8bd5\\u56fe\\u8868\",\"text_color\":{\"value\":\"white\"},\"text_font\":\"times\",\"text_font_style\":\"italic\"},\"id\":\"f4a31e43-604e-40bf-ad2f-137a4ab0fcae\",\"type\":\"Title\"},{\"attributes\":{},\"id\":\"42d9ddf3-ab4c-416d-8a92-df31e1c2d588\",\"type\":\"HelpTool\"},{\"attributes\":{\"source\":{\"id\":\"2f371016-b7d7-47eb-a91d-714a622a4606\",\"type\":\"ColumnDataSource\"}},\"id\":\"2d0f80e7-c9aa-47cf-a225-af4465738117\",\"type\":\"CDSView\"},{\"attributes\":{\"data_source\":{\"id\":\"2f371016-b7d7-47eb-a91d-714a622a4606\",\"type\":\"ColumnDataSource\"},\"glyph\":{\"id\":\"03ad07ca-3626-469f-a848-8e3336445e15\",\"type\":\"Circle\"},\"hover_glyph\":null,\"muted_glyph\":null,\"nonselection_glyph\":{\"id\":\"5ef6bcf0-15c6-4812-bb00-838d22d76b9c\",\"type\":\"Circle\"},\"selection_glyph\":null,\"view\":{\"id\":\"2d0f80e7-c9aa-47cf-a225-af4465738117\",\"type\":\"CDSView\"}},\"id\":\"12d52407-a695-41a9-b1cb-76c249baaf5e\",\"type\":\"GlyphRenderer\"},{\"attributes\":{},\"id\":\"08ac039a-c2e2-4962-abe7-4b212a1553d6\",\"type\":\"WheelZoomTool\"},{\"attributes\":{\"callback\":null,\"end\":3,\"start\":-3},\"id\":\"8000faef-2d61-44a4-9f7c-dc9b68dd94bb\",\"type\":\"Range1d\"},{\"attributes\":{\"callback\":null,\"end\":3,\"start\":-3},\"id\":\"85c36f48-69be-4289-8c47-ff2b27575f5e\",\"type\":\"Range1d\"},{\"attributes\":{},\"id\":\"e4bfc25a-1c61-40a3-9f95-4048f86c2f7b\",\"type\":\"LinearScale\"},{\"attributes\":{\"overlay\":{\"id\":\"29841966-0cde-497e-8fc2-3031fab32de1\",\"type\":\"BoxAnnotation\"}},\"id\":\"1d0ea656-995c-4ca5-ae1d-a42bd9b00da8\",\"type\":\"BoxZoomTool\"},{\"attributes\":{\"below\":[{\"id\":\"22cfe5b0-36b3-45df-989d-484b98b6369f\",\"type\":\"LinearAxis\"}],\"left\":[{\"id\":\"c9c01bdd-ef6a-4b52-aebd-3075eb0bcff6\",\"type\":\"LinearAxis\"}],\"plot_height\":400,\"renderers\":[{\"id\":\"22cfe5b0-36b3-45df-989d-484b98b6369f\",\"type\":\"LinearAxis\"},{\"id\":\"8db3636d-1d65-4cf3-813f-54df153deee6\",\"type\":\"Grid\"},{\"id\":\"c9c01bdd-ef6a-4b52-aebd-3075eb0bcff6\",\"type\":\"LinearAxis\"},{\"id\":\"efa0f87a-4245-4e79-992b-0d650eea75aa\",\"type\":\"Grid\"},{\"id\":\"29841966-0cde-497e-8fc2-3031fab32de1\",\"type\":\"BoxAnnotation\"},{\"id\":\"12d52407-a695-41a9-b1cb-76c249baaf5e\",\"type\":\"GlyphRenderer\"}],\"title\":{\"id\":\"f4a31e43-604e-40bf-ad2f-137a4ab0fcae\",\"type\":\"Title\"},\"toolbar\":{\"id\":\"43c3a815-8f3a-42ee-9af3-09b795b8603c\",\"type\":\"Toolbar\"},\"toolbar_location\":\"above\",\"x_range\":{\"id\":\"8000faef-2d61-44a4-9f7c-dc9b68dd94bb\",\"type\":\"Range1d\"},\"x_scale\":{\"id\":\"e4bfc25a-1c61-40a3-9f95-4048f86c2f7b\",\"type\":\"LinearScale\"},\"y_range\":{\"id\":\"85c36f48-69be-4289-8c47-ff2b27575f5e\",\"type\":\"Range1d\"},\"y_scale\":{\"id\":\"19a762bb-aa27-4ae8-b18b-c45cd1276108\",\"type\":\"LinearScale\"}},\"id\":\"38e8f18e-6808-46f6-8a16-d222854cd24b\",\"subtype\":\"Figure\",\"type\":\"Plot\"},{\"attributes\":{\"fill_alpha\":{\"value\":0.1},\"fill_color\":{\"value\":\"#1f77b4\"},\"line_alpha\":{\"value\":0.1},\"line_color\":{\"value\":\"#1f77b4\"},\"size\":{\"units\":\"screen\",\"value\":20},\"x\":{\"field\":\"x\"},\"y\":{\"field\":\"y\"}},\"id\":\"5ef6bcf0-15c6-4812-bb00-838d22d76b9c\",\"type\":\"Circle\"},{\"attributes\":{},\"id\":\"afa1a689-9ce9-4ae3-8245-a7e9f7686d75\",\"type\":\"BasicTicker\"},{\"attributes\":{\"callback\":null,\"data\":{\"x\":{\"__ndarray__\":\"r8TG7rrZ4z/I5bnvlEbRv6GxfHsONum/daTNFRbj678QbXIu1tPuvypMLBjUpN2/D0CDJeEs/T+wBBMa0SrJv/3DTqop+vI/MFYrX29c6b9olnpsHwMAQOrHheihwfW/JC162bnz+7/OgPpFzlTyP4Lx08B+o7W/llYyh3Wntr8jh7Uxo+7Evxmcr1hKhPa/kdgTav8s6z/YFpLtUSu4v7OvWrwnlb0/jkKIhfAL2z/ibjT5Orzxv69WqvYiGAFACLuxtG5b+z8syQVkJXLiv1NswMnwCOg/uAs61shT9D8QS6n34nLTv+iE7lwqY9o/97YaYhNd978U2Y3SQHDXv/8/u/7iStY/pV2eubJh8b9GQCAWWr/Rv/oHgkQIncm/nPi+zNvvtr9LI1YsNSHev1jxdAroXbA/HROQEpFo4L+aXjidJeayv0pdCYDsbuO/bI9Hp2dN9j8HorM/MZbyv7Mb+mr9yO6/rXmKvosr0z8y2fNbjiTiv4OrHV6rAN6/k6Ie7tt48L80P9/2uVv6v5TOdrBhB/K/9WK0zaTZ4L+/WsmfE8fEv4OMhOEkxey//moaM+3U+79sOf6MMTq7P7VqIPXUKuC/kJlaYdksiD8G4ENV9MzdPwR+wJ+DX/y/aA3Lj/TC4z8nEzkbk5/xv6mBi7lkb+U/5N82WscH378O7SPDLiSOvxTyBbOL9/I/+JPa9CjX8r9zTjTM7Hjuv10K0/lk5+2/YDw8A+dN8D8oXhzpTHD9v84U3WTi+PY/TvW2vOnI5D9IK3gWQCbvPzE0G4KTwfE/C2gnLt90079Q0nbTfOfzv86vrWNpd/W/rgIIS+yAt79PlwLKi03UvxTr9Tszg9E/yEimzn6A7T9ZLTcn9HPKv7XQseKU4gLACVARRWWDYT9WZcA+oDzNP3/YJKxNpdM/vRTYk0gH9T9BQXcDeB/gvxzHEdhpB/u/HTsOssjEyT8oNAvk6Z/kv9pB6GGWDvG/AX14aa6U+L8cHsiArVmiPwR1H0lBkqO/MWL0lQNI9D81fiaVuYjjPwsqTOVVBQLAFOlfKRVk5D8=\",\"dtype\":\"float64\",\"shape\":[100]},\"y\":{\"__ndarray__\":\"2jcG2wbt5r8vy6x045XjP+asZyjKYOG/IPpsnQhJ1D+XOXG9lcD1v6EiasO5zKC/M5Qqoscjyr+SVkkZGoD/v8y3xfjgTvA/XAHjWTVF+T/XQa6VFq/XPz0h9wMugsq/JcM4SnhH2T+6VZ5oxoXkv45I9cIpuvS/2sBqwFsOxT99t2XtL3/0v9FEnK78yfY/QQPnoPHH3r9wL0a6s4fpv7cLx7v2tfG//tCX1Qv49T8OyKA0rYD0v2zDIf90ogFAp6qd1KJb+j+1Bo2UO8DAP5uZorJKIOU/XQuQNcZ3yL8hEuyma8bwv6Ljo/rKF/q/VhEmmFGmu79gM9wGBT71v6Mhs0c4nfM/ueJ5TDZ9qD8dRNswxbL0v9b3Q/qoENc/VMXQSrHozT8ZCHY/Z+7Hv+vQAHjV6uI/o+tuTXw08D+IgH/fLSzYv+CTbGSY9uy/2OAZ8ca78b/Kv39V3jzxv9V9s8WpgOs/UbdzAuCX/b/4yQmimqq1v9MpSbOzIvW/2ww6nn/g37/q2XjthoDQv8A0NlPOp8Q/61pX0QaWu7+fX4abNN6uv3pTDULES+6/lcQiFvuL478IV3XS66Zhv+cJ4a2xJQBAEEBi7EJz0r/WlkJHtWfnv7kU3uqJwdy/deNwmgSCiT9hALjcS/L4v7tYMCW83/q/3CaSzPvP6T+/XmPruQLaP+h118V7sN2/feckerNk6b8bnNyYgIqoP0Tr7ww/09k/YploaS8k6z8V2EzHKpABQA2dJBA7CPq/UEDOgx7R8b/a9zrnoiflPxnOmiwqBMW/WbmyxTnM8T84aJgxLpzGv9DIa+WnLu0/0rZ/DTGy878JIY8KrojsP9Gn1QBsKfI/QiZdVMfU8r/S3gm1vrv9P0ZPvE/8Ico/kXSIB8WZ9L9OEeOacujzPydhWaysT+g/e0GIvJZb0b/YCz3v5feyP4nJj9Inp/a/Pzudfgyf/j/TEXadRhKtP7rZUyWGOea/i7gF/Jpskz//ituf3qvXPyM2B6XKmtE/79BVRW4+4T9W5HHccADYv+is+HJHLbY/v6R5whm77z8=\",\"dtype\":\"float64\",\"shape\":[100]}},\"selected\":{\"id\":\"06a1c207-839d-4f39-adfa-2d3546d1992c\",\"type\":\"Selection\"},\"selection_policy\":{\"id\":\"0ef8c268-7726-46bc-a649-c2e533a554cb\",\"type\":\"UnionRenderers\"}},\"id\":\"2f371016-b7d7-47eb-a91d-714a622a4606\",\"type\":\"ColumnDataSource\"},{\"attributes\":{\"dimension\":1,\"plot\":{\"id\":\"38e8f18e-6808-46f6-8a16-d222854cd24b\",\"subtype\":\"Figure\",\"type\":\"Plot\"},\"ticker\":{\"id\":\"afa1a689-9ce9-4ae3-8245-a7e9f7686d75\",\"type\":\"BasicTicker\"}},\"id\":\"efa0f87a-4245-4e79-992b-0d650eea75aa\",\"type\":\"Grid\"},{\"attributes\":{},\"id\":\"06a1c207-839d-4f39-adfa-2d3546d1992c\",\"type\":\"Selection\"},{\"attributes\":{\"active_drag\":\"auto\",\"active_inspect\":\"auto\",\"active_scroll\":\"auto\",\"active_tap\":\"auto\",\"tools\":[{\"id\":\"6dac982b-315a-4d21-8f0b-1327e6ee07e1\",\"type\":\"PanTool\"},{\"id\":\"08ac039a-c2e2-4962-abe7-4b212a1553d6\",\"type\":\"WheelZoomTool\"},{\"id\":\"1d0ea656-995c-4ca5-ae1d-a42bd9b00da8\",\"type\":\"BoxZoomTool\"},{\"id\":\"9a7d1131-c991-4c6b-88b8-dd1ac6db964d\",\"type\":\"SaveTool\"},{\"id\":\"7eee9020-de41-4427-a7b8-ef11cb2c31e0\",\"type\":\"ResetTool\"},{\"id\":\"42d9ddf3-ab4c-416d-8a92-df31e1c2d588\",\"type\":\"HelpTool\"}]},\"id\":\"43c3a815-8f3a-42ee-9af3-09b795b8603c\",\"type\":\"Toolbar\"},{\"attributes\":{},\"id\":\"6dac982b-315a-4d21-8f0b-1327e6ee07e1\",\"type\":\"PanTool\"},{\"attributes\":{\"axis_label\":\"A\",\"formatter\":{\"id\":\"c34f58ed-1ffe-41ff-b06a-4fa8af3e2063\",\"type\":\"BasicTickFormatter\"},\"plot\":{\"id\":\"38e8f18e-6808-46f6-8a16-d222854cd24b\",\"subtype\":\"Figure\",\"type\":\"Plot\"},\"ticker\":{\"id\":\"1205983d-ffea-4252-a473-94a7bdc4fe81\",\"type\":\"BasicTicker\"}},\"id\":\"22cfe5b0-36b3-45df-989d-484b98b6369f\",\"type\":\"LinearAxis\"},{\"attributes\":{},\"id\":\"0ef8c268-7726-46bc-a649-c2e533a554cb\",\"type\":\"UnionRenderers\"},{\"attributes\":{\"plot\":{\"id\":\"38e8f18e-6808-46f6-8a16-d222854cd24b\",\"subtype\":\"Figure\",\"type\":\"Plot\"},\"ticker\":{\"id\":\"1205983d-ffea-4252-a473-94a7bdc4fe81\",\"type\":\"BasicTicker\"}},\"id\":\"8db3636d-1d65-4cf3-813f-54df153deee6\",\"type\":\"Grid\"},{\"attributes\":{},\"id\":\"7eee9020-de41-4427-a7b8-ef11cb2c31e0\",\"type\":\"ResetTool\"}],\"root_ids\":[\"38e8f18e-6808-46f6-8a16-d222854cd24b\"]},\"title\":\"Bokeh Application\",\"version\":\"0.12.16\"}};\n",
       "  var render_items = [{\"docid\":\"6054e567-3231-480d-97a7-898773f11dc3\",\"elementid\":\"f6a62484-b0b3-4f9d-8211-58bf9260e7a2\",\"modelid\":\"38e8f18e-6808-46f6-8a16-d222854cd24b\"}];\n",
       "  root.Bokeh.embed.embed_items_notebook(docs_json, render_items);\n",
       "\n",
       "  }\n",
       "  if (root.Bokeh !== undefined) {\n",
       "    embed_document(root);\n",
       "  } else {\n",
       "    var attempts = 0;\n",
       "    var timer = setInterval(function(root) {\n",
       "      if (root.Bokeh !== undefined) {\n",
       "        embed_document(root);\n",
       "        clearInterval(timer);\n",
       "      }\n",
       "      attempts++;\n",
       "      if (attempts > 100) {\n",
       "        console.log(\"Bokeh: ERROR: Unable to run BokehJS code because BokehJS library is missing\")\n",
       "        clearInterval(timer);\n",
       "      }\n",
       "    }, 10, root)\n",
       "  }\n",
       "})(window);"
      ],
      "application/vnd.bokehjs_exec.v0+json": ""
     },
     "metadata": {
      "application/vnd.bokehjs_exec.v0+json": {
       "id": "38e8f18e-6808-46f6-8a16-d222854cd24b"
      }
     },
     "output_type": "display_data"
    }
   ],
   "source": [
    "# 创建图表工具 \n",
    "# figure()\n",
    "\n",
    "df = pd.DataFrame(np.random.randn(100,2),columns = ['A','B'])\n",
    "\n",
    "p = figure(plot_width=600, plot_height=400, # 图表宽度、高度\n",
    "           tools = 'pan,wheel_zoom,box_zoom,save,reset,help',  # 设置工具栏，默认全部显示\n",
    "           toolbar_location='above',     # 工具栏位置：\"above\"，\"below\"，\"left\"，\"right\"\n",
    "           x_axis_label = 'A', y_axis_label = 'B',    # X,Y轴label\n",
    "           x_range = [-3,3], y_range = [-3,3],        # X,Y轴范围\n",
    "           title=\"测试图表\"                       # 设置图表title\n",
    "          )\n",
    "\n",
    "# 设置标题：颜色、字体、风格、背景颜色\n",
    "p.title.text_color = \"white\"\n",
    "p.title.text_font = \"times\"\n",
    "p.title.text_font_style = \"italic\"\n",
    "p.title.background_fill_color = \"red\"\n",
    "\n",
    "# 创建散点图\n",
    "p.circle(df['A'], df['B'], size=20,  alpha=0.5)\n",
    "show(p)"
   ]
  },
  {
   "cell_type": "markdown",
   "metadata": {},
   "source": [
    "### 1.3 颜色设置\n",
    "> color\n",
    "* CSS颜色参考：http://www.colors.commutercreative.com/grid/\n",
    "* RGB参考：https://coolors.co/87f1ff-c0f5fa-bd8b9c-af125a-582b11"
   ]
  },
  {
   "cell_type": "code",
   "execution_count": 7,
   "metadata": {},
   "outputs": [
    {
     "data": {
      "text/html": [
       "\n",
       "<div class=\"bk-root\">\n",
       "    <div class=\"bk-plotdiv\" id=\"b5ee6b7b-cb76-4e5d-ab77-d534919bb06f\"></div>\n",
       "</div>"
      ]
     },
     "metadata": {},
     "output_type": "display_data"
    },
    {
     "data": {
      "application/javascript": [
       "(function(root) {\n",
       "  function embed_document(root) {\n",
       "    \n",
       "  var docs_json = {\"4f8fe1fd-014f-4de4-8ac2-3d21b1d5e3b2\":{\"roots\":{\"references\":[{\"attributes\":{},\"id\":\"4234a6b4-7975-40a7-b2fb-bb74ab9cfb31\",\"type\":\"BasicTickFormatter\"},{\"attributes\":{\"fill_alpha\":{\"value\":0.1},\"fill_color\":{\"value\":\"#1f77b4\"},\"line_alpha\":{\"value\":0.1},\"line_color\":{\"value\":\"#1f77b4\"},\"size\":{\"units\":\"screen\",\"value\":10},\"x\":{\"field\":\"x\"},\"y\":{\"field\":\"y\"}},\"id\":\"cefeece7-d21e-432f-8d52-6ae8095ab977\",\"type\":\"Circle\"},{\"attributes\":{\"source\":{\"id\":\"ed80b5db-d87d-4203-b431-c5a639181a5a\",\"type\":\"ColumnDataSource\"}},\"id\":\"4fe358e3-442c-4ea5-93ed-2b2649bb2bd7\",\"type\":\"CDSView\"},{\"attributes\":{\"callback\":null,\"data\":{\"x\":[0,1,2,3,4,5,6,7,8,9,10,11,12,13,14,15,16,17,18,19,20,21,22,23,24,25,26,27,28,29,30,31,32,33,34,35,36,37,38,39,40,41,42,43,44,45,46,47,48,49,50,51,52,53,54,55,56,57,58,59,60,61,62,63,64,65,66,67,68,69,70,71,72,73,74,75,76,77,78,79,80,81,82,83,84,85,86,87,88,89,90,91,92,93,94,95,96,97,98,99],\"y\":{\"__ndarray__\":\"2jcG2wbt5r8vy6x045XjP+asZyjKYOG/IPpsnQhJ1D+XOXG9lcD1v6EiasO5zKC/M5Qqoscjyr+SVkkZGoD/v8y3xfjgTvA/XAHjWTVF+T/XQa6VFq/XPz0h9wMugsq/JcM4SnhH2T+6VZ5oxoXkv45I9cIpuvS/2sBqwFsOxT99t2XtL3/0v9FEnK78yfY/QQPnoPHH3r9wL0a6s4fpv7cLx7v2tfG//tCX1Qv49T8OyKA0rYD0v2zDIf90ogFAp6qd1KJb+j+1Bo2UO8DAP5uZorJKIOU/XQuQNcZ3yL8hEuyma8bwv6Ljo/rKF/q/VhEmmFGmu79gM9wGBT71v6Mhs0c4nfM/ueJ5TDZ9qD8dRNswxbL0v9b3Q/qoENc/VMXQSrHozT8ZCHY/Z+7Hv+vQAHjV6uI/o+tuTXw08D+IgH/fLSzYv+CTbGSY9uy/2OAZ8ca78b/Kv39V3jzxv9V9s8WpgOs/UbdzAuCX/b/4yQmimqq1v9MpSbOzIvW/2ww6nn/g37/q2XjthoDQv8A0NlPOp8Q/61pX0QaWu7+fX4abNN6uv3pTDULES+6/lcQiFvuL478IV3XS66Zhv+cJ4a2xJQBAEEBi7EJz0r/WlkJHtWfnv7kU3uqJwdy/deNwmgSCiT9hALjcS/L4v7tYMCW83/q/3CaSzPvP6T+/XmPruQLaP+h118V7sN2/feckerNk6b8bnNyYgIqoP0Tr7ww/09k/YploaS8k6z8V2EzHKpABQA2dJBA7CPq/UEDOgx7R8b/a9zrnoiflPxnOmiwqBMW/WbmyxTnM8T84aJgxLpzGv9DIa+WnLu0/0rZ/DTGy878JIY8KrojsP9Gn1QBsKfI/QiZdVMfU8r/S3gm1vrv9P0ZPvE/8Ico/kXSIB8WZ9L9OEeOacujzPydhWaysT+g/e0GIvJZb0b/YCz3v5feyP4nJj9Inp/a/Pzudfgyf/j/TEXadRhKtP7rZUyWGOea/i7gF/Jpskz//ituf3qvXPyM2B6XKmtE/79BVRW4+4T9W5HHccADYv+is+HJHLbY/v6R5whm77z8=\",\"dtype\":\"float64\",\"shape\":[100]}},\"selected\":{\"id\":\"06fead2e-f850-417f-b8df-65f2fa065cf6\",\"type\":\"Selection\"},\"selection_policy\":{\"id\":\"4e4df074-6c78-4494-a615-993ce92a5774\",\"type\":\"UnionRenderers\"}},\"id\":\"aa0a411d-2df1-47af-976b-3ff127537f43\",\"type\":\"ColumnDataSource\"},{\"attributes\":{\"data_source\":{\"id\":\"aa0a411d-2df1-47af-976b-3ff127537f43\",\"type\":\"ColumnDataSource\"},\"glyph\":{\"id\":\"9804ce22-cac6-4f87-91ef-78528d1473ab\",\"type\":\"Circle\"},\"hover_glyph\":null,\"muted_glyph\":null,\"nonselection_glyph\":{\"id\":\"cefeece7-d21e-432f-8d52-6ae8095ab977\",\"type\":\"Circle\"},\"selection_glyph\":null,\"view\":{\"id\":\"22db9b0f-907d-4980-931b-d0323dfe8c48\",\"type\":\"CDSView\"}},\"id\":\"e6c14e1a-bbf0-421e-9143-853f8cecf3a3\",\"type\":\"GlyphRenderer\"},{\"attributes\":{},\"id\":\"6b97420a-7c58-4e80-8d52-f44b21901135\",\"type\":\"ResetTool\"},{\"attributes\":{},\"id\":\"cd2fdd50-e76a-4859-94a3-6f02e48c73d6\",\"type\":\"LinearScale\"},{\"attributes\":{\"formatter\":{\"id\":\"1f1df69f-2248-4aae-a6e3-03bc34ecef17\",\"type\":\"BasicTickFormatter\"},\"plot\":{\"id\":\"107df009-dbcf-4bd5-9ef1-1938ef381358\",\"subtype\":\"Figure\",\"type\":\"Plot\"},\"ticker\":{\"id\":\"6e8a7848-1966-42c5-92ef-7731ceac4b27\",\"type\":\"BasicTicker\"}},\"id\":\"e76a03e9-c64d-4733-b9f8-88d50451b991\",\"type\":\"LinearAxis\"},{\"attributes\":{\"overlay\":{\"id\":\"d062ad64-6b89-4767-996d-cd2c2bdee8f5\",\"type\":\"BoxAnnotation\"}},\"id\":\"3b3ac52b-8ce9-4953-8e38-3a6198f7dbb6\",\"type\":\"BoxZoomTool\"},{\"attributes\":{\"fill_alpha\":{\"value\":0.5},\"fill_color\":{\"value\":\"green\"},\"line_alpha\":{\"value\":0.5},\"line_color\":{\"value\":\"green\"},\"size\":{\"units\":\"screen\",\"value\":10},\"x\":{\"field\":\"x\"},\"y\":{\"field\":\"y\"}},\"id\":\"c62ead1b-a418-4b1e-b82f-80d7a9517f1a\",\"type\":\"Circle\"},{\"attributes\":{},\"id\":\"dd51552c-8b18-44c7-8d38-327cdae3c25c\",\"type\":\"SaveTool\"},{\"attributes\":{},\"id\":\"1f1df69f-2248-4aae-a6e3-03bc34ecef17\",\"type\":\"BasicTickFormatter\"},{\"attributes\":{\"below\":[{\"id\":\"aeda03d8-f35f-4b22-884a-de9296ebf5ab\",\"type\":\"LinearAxis\"}],\"left\":[{\"id\":\"e76a03e9-c64d-4733-b9f8-88d50451b991\",\"type\":\"LinearAxis\"}],\"plot_height\":400,\"renderers\":[{\"id\":\"aeda03d8-f35f-4b22-884a-de9296ebf5ab\",\"type\":\"LinearAxis\"},{\"id\":\"32ba5ca2-349c-4479-9521-b82bdd249572\",\"type\":\"Grid\"},{\"id\":\"e76a03e9-c64d-4733-b9f8-88d50451b991\",\"type\":\"LinearAxis\"},{\"id\":\"ccab209b-d4e5-4fe8-847e-69ae3c588c8e\",\"type\":\"Grid\"},{\"id\":\"d062ad64-6b89-4767-996d-cd2c2bdee8f5\",\"type\":\"BoxAnnotation\"},{\"id\":\"f69e85f6-eac1-489f-8f62-6bdc7dc74c34\",\"type\":\"GlyphRenderer\"},{\"id\":\"e6c14e1a-bbf0-421e-9143-853f8cecf3a3\",\"type\":\"GlyphRenderer\"}],\"title\":{\"id\":\"89501ab4-081d-4162-873a-fdf11753925a\",\"type\":\"Title\"},\"toolbar\":{\"id\":\"ce0ca1b7-ce15-4467-98d4-e112fd3376ac\",\"type\":\"Toolbar\"},\"x_range\":{\"id\":\"f1b552d7-b47c-4f37-9cbe-47bb9d32a482\",\"type\":\"DataRange1d\"},\"x_scale\":{\"id\":\"3ab22b39-c6a0-4116-9f8a-54939cc49079\",\"type\":\"LinearScale\"},\"y_range\":{\"id\":\"81bdeb81-3bce-42d4-96e6-31156c8d2a7a\",\"type\":\"DataRange1d\"},\"y_scale\":{\"id\":\"cd2fdd50-e76a-4859-94a3-6f02e48c73d6\",\"type\":\"LinearScale\"}},\"id\":\"107df009-dbcf-4bd5-9ef1-1938ef381358\",\"subtype\":\"Figure\",\"type\":\"Plot\"},{\"attributes\":{},\"id\":\"ca5530b5-ad9b-4b7c-a1a4-57ac15cd8d9a\",\"type\":\"UnionRenderers\"},{\"attributes\":{},\"id\":\"06fead2e-f850-417f-b8df-65f2fa065cf6\",\"type\":\"Selection\"},{\"attributes\":{},\"id\":\"47b86b50-102b-4ede-bcd0-dcff868a9844\",\"type\":\"HelpTool\"},{\"attributes\":{},\"id\":\"6e8a7848-1966-42c5-92ef-7731ceac4b27\",\"type\":\"BasicTicker\"},{\"attributes\":{},\"id\":\"570f5c65-622a-47c6-92e4-27ba1b68663d\",\"type\":\"BasicTicker\"},{\"attributes\":{},\"id\":\"3ab22b39-c6a0-4116-9f8a-54939cc49079\",\"type\":\"LinearScale\"},{\"attributes\":{\"source\":{\"id\":\"aa0a411d-2df1-47af-976b-3ff127537f43\",\"type\":\"ColumnDataSource\"}},\"id\":\"22db9b0f-907d-4980-931b-d0323dfe8c48\",\"type\":\"CDSView\"},{\"attributes\":{},\"id\":\"d9c6a669-6fa3-4aeb-a6ec-277fa961f62b\",\"type\":\"PanTool\"},{\"attributes\":{\"formatter\":{\"id\":\"4234a6b4-7975-40a7-b2fb-bb74ab9cfb31\",\"type\":\"BasicTickFormatter\"},\"plot\":{\"id\":\"107df009-dbcf-4bd5-9ef1-1938ef381358\",\"subtype\":\"Figure\",\"type\":\"Plot\"},\"ticker\":{\"id\":\"570f5c65-622a-47c6-92e4-27ba1b68663d\",\"type\":\"BasicTicker\"}},\"id\":\"aeda03d8-f35f-4b22-884a-de9296ebf5ab\",\"type\":\"LinearAxis\"},{\"attributes\":{\"plot\":{\"id\":\"107df009-dbcf-4bd5-9ef1-1938ef381358\",\"subtype\":\"Figure\",\"type\":\"Plot\"},\"ticker\":{\"id\":\"570f5c65-622a-47c6-92e4-27ba1b68663d\",\"type\":\"BasicTicker\"}},\"id\":\"32ba5ca2-349c-4479-9521-b82bdd249572\",\"type\":\"Grid\"},{\"attributes\":{},\"id\":\"ddc3543f-a3e8-4cd6-a3c6-098bc304c447\",\"type\":\"WheelZoomTool\"},{\"attributes\":{\"bottom_units\":\"screen\",\"fill_alpha\":{\"value\":0.5},\"fill_color\":{\"value\":\"lightgrey\"},\"left_units\":\"screen\",\"level\":\"overlay\",\"line_alpha\":{\"value\":1.0},\"line_color\":{\"value\":\"black\"},\"line_dash\":[4,4],\"line_width\":{\"value\":2},\"plot\":null,\"render_mode\":\"css\",\"right_units\":\"screen\",\"top_units\":\"screen\"},\"id\":\"d062ad64-6b89-4767-996d-cd2c2bdee8f5\",\"type\":\"BoxAnnotation\"},{\"attributes\":{\"active_drag\":\"auto\",\"active_inspect\":\"auto\",\"active_scroll\":\"auto\",\"active_tap\":\"auto\",\"tools\":[{\"id\":\"d9c6a669-6fa3-4aeb-a6ec-277fa961f62b\",\"type\":\"PanTool\"},{\"id\":\"ddc3543f-a3e8-4cd6-a3c6-098bc304c447\",\"type\":\"WheelZoomTool\"},{\"id\":\"3b3ac52b-8ce9-4953-8e38-3a6198f7dbb6\",\"type\":\"BoxZoomTool\"},{\"id\":\"dd51552c-8b18-44c7-8d38-327cdae3c25c\",\"type\":\"SaveTool\"},{\"id\":\"6b97420a-7c58-4e80-8d52-f44b21901135\",\"type\":\"ResetTool\"},{\"id\":\"47b86b50-102b-4ede-bcd0-dcff868a9844\",\"type\":\"HelpTool\"}]},\"id\":\"ce0ca1b7-ce15-4467-98d4-e112fd3376ac\",\"type\":\"Toolbar\"},{\"attributes\":{\"callback\":null},\"id\":\"f1b552d7-b47c-4f37-9cbe-47bb9d32a482\",\"type\":\"DataRange1d\"},{\"attributes\":{\"plot\":null,\"text\":\"\"},\"id\":\"89501ab4-081d-4162-873a-fdf11753925a\",\"type\":\"Title\"},{\"attributes\":{\"callback\":null,\"data\":{\"x\":[0,1,2,3,4,5,6,7,8,9,10,11,12,13,14,15,16,17,18,19,20,21,22,23,24,25,26,27,28,29,30,31,32,33,34,35,36,37,38,39,40,41,42,43,44,45,46,47,48,49,50,51,52,53,54,55,56,57,58,59,60,61,62,63,64,65,66,67,68,69,70,71,72,73,74,75,76,77,78,79,80,81,82,83,84,85,86,87,88,89,90,91,92,93,94,95,96,97,98,99],\"y\":{\"__ndarray__\":\"r8TG7rrZ4z/I5bnvlEbRv6GxfHsONum/daTNFRbj678QbXIu1tPuvypMLBjUpN2/D0CDJeEs/T+wBBMa0SrJv/3DTqop+vI/MFYrX29c6b9olnpsHwMAQOrHheihwfW/JC162bnz+7/OgPpFzlTyP4Lx08B+o7W/llYyh3Wntr8jh7Uxo+7Evxmcr1hKhPa/kdgTav8s6z/YFpLtUSu4v7OvWrwnlb0/jkKIhfAL2z/ibjT5Orzxv69WqvYiGAFACLuxtG5b+z8syQVkJXLiv1NswMnwCOg/uAs61shT9D8QS6n34nLTv+iE7lwqY9o/97YaYhNd978U2Y3SQHDXv/8/u/7iStY/pV2eubJh8b9GQCAWWr/Rv/oHgkQIncm/nPi+zNvvtr9LI1YsNSHev1jxdAroXbA/HROQEpFo4L+aXjidJeayv0pdCYDsbuO/bI9Hp2dN9j8HorM/MZbyv7Mb+mr9yO6/rXmKvosr0z8y2fNbjiTiv4OrHV6rAN6/k6Ie7tt48L80P9/2uVv6v5TOdrBhB/K/9WK0zaTZ4L+/WsmfE8fEv4OMhOEkxey//moaM+3U+79sOf6MMTq7P7VqIPXUKuC/kJlaYdksiD8G4ENV9MzdPwR+wJ+DX/y/aA3Lj/TC4z8nEzkbk5/xv6mBi7lkb+U/5N82WscH378O7SPDLiSOvxTyBbOL9/I/+JPa9CjX8r9zTjTM7Hjuv10K0/lk5+2/YDw8A+dN8D8oXhzpTHD9v84U3WTi+PY/TvW2vOnI5D9IK3gWQCbvPzE0G4KTwfE/C2gnLt90079Q0nbTfOfzv86vrWNpd/W/rgIIS+yAt79PlwLKi03UvxTr9Tszg9E/yEimzn6A7T9ZLTcn9HPKv7XQseKU4gLACVARRWWDYT9WZcA+oDzNP3/YJKxNpdM/vRTYk0gH9T9BQXcDeB/gvxzHEdhpB/u/HTsOssjEyT8oNAvk6Z/kv9pB6GGWDvG/AX14aa6U+L8cHsiArVmiPwR1H0lBkqO/MWL0lQNI9D81fiaVuYjjPwsqTOVVBQLAFOlfKRVk5D8=\",\"dtype\":\"float64\",\"shape\":[100]}},\"selected\":{\"id\":\"e6de1e57-aeec-43df-9e42-11da8fc2f4f8\",\"type\":\"Selection\"},\"selection_policy\":{\"id\":\"ca5530b5-ad9b-4b7c-a1a4-57ac15cd8d9a\",\"type\":\"UnionRenderers\"}},\"id\":\"ed80b5db-d87d-4203-b431-c5a639181a5a\",\"type\":\"ColumnDataSource\"},{\"attributes\":{\"callback\":null},\"id\":\"81bdeb81-3bce-42d4-96e6-31156c8d2a7a\",\"type\":\"DataRange1d\"},{\"attributes\":{},\"id\":\"e6de1e57-aeec-43df-9e42-11da8fc2f4f8\",\"type\":\"Selection\"},{\"attributes\":{},\"id\":\"4e4df074-6c78-4494-a615-993ce92a5774\",\"type\":\"UnionRenderers\"},{\"attributes\":{\"data_source\":{\"id\":\"ed80b5db-d87d-4203-b431-c5a639181a5a\",\"type\":\"ColumnDataSource\"},\"glyph\":{\"id\":\"c62ead1b-a418-4b1e-b82f-80d7a9517f1a\",\"type\":\"Circle\"},\"hover_glyph\":null,\"muted_glyph\":null,\"nonselection_glyph\":{\"id\":\"f99dc743-98d9-457c-85ef-7158c64dc915\",\"type\":\"Circle\"},\"selection_glyph\":null,\"view\":{\"id\":\"4fe358e3-442c-4ea5-93ed-2b2649bb2bd7\",\"type\":\"CDSView\"}},\"id\":\"f69e85f6-eac1-489f-8f62-6bdc7dc74c34\",\"type\":\"GlyphRenderer\"},{\"attributes\":{\"fill_alpha\":{\"value\":0.1},\"fill_color\":{\"value\":\"#1f77b4\"},\"line_alpha\":{\"value\":0.1},\"line_color\":{\"value\":\"#1f77b4\"},\"size\":{\"units\":\"screen\",\"value\":10},\"x\":{\"field\":\"x\"},\"y\":{\"field\":\"y\"}},\"id\":\"f99dc743-98d9-457c-85ef-7158c64dc915\",\"type\":\"Circle\"},{\"attributes\":{\"dimension\":1,\"plot\":{\"id\":\"107df009-dbcf-4bd5-9ef1-1938ef381358\",\"subtype\":\"Figure\",\"type\":\"Plot\"},\"ticker\":{\"id\":\"6e8a7848-1966-42c5-92ef-7731ceac4b27\",\"type\":\"BasicTicker\"}},\"id\":\"ccab209b-d4e5-4fe8-847e-69ae3c588c8e\",\"type\":\"Grid\"},{\"attributes\":{\"fill_alpha\":{\"value\":0.5},\"fill_color\":{\"value\":\"#FF0000\"},\"line_alpha\":{\"value\":0.5},\"line_color\":{\"value\":\"#FF0000\"},\"size\":{\"units\":\"screen\",\"value\":10},\"x\":{\"field\":\"x\"},\"y\":{\"field\":\"y\"}},\"id\":\"9804ce22-cac6-4f87-91ef-78528d1473ab\",\"type\":\"Circle\"}],\"root_ids\":[\"107df009-dbcf-4bd5-9ef1-1938ef381358\"]},\"title\":\"Bokeh Application\",\"version\":\"0.12.16\"}};\n",
       "  var render_items = [{\"docid\":\"4f8fe1fd-014f-4de4-8ac2-3d21b1d5e3b2\",\"elementid\":\"b5ee6b7b-cb76-4e5d-ab77-d534919bb06f\",\"modelid\":\"107df009-dbcf-4bd5-9ef1-1938ef381358\"}];\n",
       "  root.Bokeh.embed.embed_items_notebook(docs_json, render_items);\n",
       "\n",
       "  }\n",
       "  if (root.Bokeh !== undefined) {\n",
       "    embed_document(root);\n",
       "  } else {\n",
       "    var attempts = 0;\n",
       "    var timer = setInterval(function(root) {\n",
       "      if (root.Bokeh !== undefined) {\n",
       "        embed_document(root);\n",
       "        clearInterval(timer);\n",
       "      }\n",
       "      attempts++;\n",
       "      if (attempts > 100) {\n",
       "        console.log(\"Bokeh: ERROR: Unable to run BokehJS code because BokehJS library is missing\")\n",
       "        clearInterval(timer);\n",
       "      }\n",
       "    }, 10, root)\n",
       "  }\n",
       "})(window);"
      ],
      "application/vnd.bokehjs_exec.v0+json": ""
     },
     "metadata": {
      "application/vnd.bokehjs_exec.v0+json": {
       "id": "107df009-dbcf-4bd5-9ef1-1938ef381358"
      }
     },
     "output_type": "display_data"
    }
   ],
   "source": [
    "p = figure(plot_width=600, plot_height=400)\n",
    "\n",
    "p.circle(df.index, df['A'], color = 'green', size=10,  alpha=0.5)\n",
    "p.circle(df.index, df['B'], color = '#FF0000', size=10,  alpha=0.5)\n",
    "\n",
    "show(p)"
   ]
  },
  {
   "cell_type": "markdown",
   "metadata": {},
   "source": [
    "### 1.4 图表边框设置\n",
    "> outline 设置\n",
    "* outline_line_width \n",
    "* outline_line_alpha     \n",
    "* outline_line_color  "
   ]
  },
  {
   "cell_type": "code",
   "execution_count": 8,
   "metadata": {},
   "outputs": [
    {
     "data": {
      "text/html": [
       "\n",
       "<div class=\"bk-root\">\n",
       "    <div class=\"bk-plotdiv\" id=\"dfdf2c8e-fe30-4c97-8485-2f4f17221493\"></div>\n",
       "</div>"
      ]
     },
     "metadata": {},
     "output_type": "display_data"
    },
    {
     "data": {
      "application/javascript": [
       "(function(root) {\n",
       "  function embed_document(root) {\n",
       "    \n",
       "  var docs_json = {\"bef32bc0-5f62-47b8-abf3-a54bdf832f02\":{\"roots\":{\"references\":[{\"attributes\":{\"data_source\":{\"id\":\"4d8917bd-9445-48a9-850a-d709044421f4\",\"type\":\"ColumnDataSource\"},\"glyph\":{\"id\":\"035556ac-e3ec-4507-af6a-71d6498b0ed7\",\"type\":\"Circle\"},\"hover_glyph\":null,\"muted_glyph\":null,\"nonselection_glyph\":{\"id\":\"541eb3f9-294a-446b-bed6-4773808e5f42\",\"type\":\"Circle\"},\"selection_glyph\":null,\"view\":{\"id\":\"8f4723a6-1d81-4f4b-8ea1-ff3bfc262a86\",\"type\":\"CDSView\"}},\"id\":\"77322e92-8475-4e14-ab8f-992fbb81652a\",\"type\":\"GlyphRenderer\"},{\"attributes\":{},\"id\":\"b6a34280-8162-42d3-96ab-0d10ad0c3469\",\"type\":\"LinearScale\"},{\"attributes\":{},\"id\":\"791030f6-234b-44c6-b7b5-eacbeee404d8\",\"type\":\"LinearScale\"},{\"attributes\":{\"plot\":{\"id\":\"be0c8580-bb2a-4f01-92d0-7e62825efe81\",\"subtype\":\"Figure\",\"type\":\"Plot\"},\"ticker\":{\"id\":\"07841109-71c1-4142-9106-3dd017729ee1\",\"type\":\"BasicTicker\"}},\"id\":\"140fb415-665e-4db7-8c0a-edf7c714b6eb\",\"type\":\"Grid\"},{\"attributes\":{\"formatter\":{\"id\":\"2019b75a-2487-4264-ad9c-a1d659e57816\",\"type\":\"BasicTickFormatter\"},\"plot\":{\"id\":\"be0c8580-bb2a-4f01-92d0-7e62825efe81\",\"subtype\":\"Figure\",\"type\":\"Plot\"},\"ticker\":{\"id\":\"07841109-71c1-4142-9106-3dd017729ee1\",\"type\":\"BasicTicker\"}},\"id\":\"b278070e-3030-49a9-9aa2-fa8f8ab63466\",\"type\":\"LinearAxis\"},{\"attributes\":{\"callback\":null,\"data\":{\"x\":[0,1,2,3,4,5,6,7,8,9,10,11,12,13,14,15,16,17,18,19,20,21,22,23,24,25,26,27,28,29,30,31,32,33,34,35,36,37,38,39,40,41,42,43,44,45,46,47,48,49,50,51,52,53,54,55,56,57,58,59,60,61,62,63,64,65,66,67,68,69,70,71,72,73,74,75,76,77,78,79,80,81,82,83,84,85,86,87,88,89,90,91,92,93,94,95,96,97,98,99],\"y\":{\"__ndarray__\":\"2jcG2wbt5r8vy6x045XjP+asZyjKYOG/IPpsnQhJ1D+XOXG9lcD1v6EiasO5zKC/M5Qqoscjyr+SVkkZGoD/v8y3xfjgTvA/XAHjWTVF+T/XQa6VFq/XPz0h9wMugsq/JcM4SnhH2T+6VZ5oxoXkv45I9cIpuvS/2sBqwFsOxT99t2XtL3/0v9FEnK78yfY/QQPnoPHH3r9wL0a6s4fpv7cLx7v2tfG//tCX1Qv49T8OyKA0rYD0v2zDIf90ogFAp6qd1KJb+j+1Bo2UO8DAP5uZorJKIOU/XQuQNcZ3yL8hEuyma8bwv6Ljo/rKF/q/VhEmmFGmu79gM9wGBT71v6Mhs0c4nfM/ueJ5TDZ9qD8dRNswxbL0v9b3Q/qoENc/VMXQSrHozT8ZCHY/Z+7Hv+vQAHjV6uI/o+tuTXw08D+IgH/fLSzYv+CTbGSY9uy/2OAZ8ca78b/Kv39V3jzxv9V9s8WpgOs/UbdzAuCX/b/4yQmimqq1v9MpSbOzIvW/2ww6nn/g37/q2XjthoDQv8A0NlPOp8Q/61pX0QaWu7+fX4abNN6uv3pTDULES+6/lcQiFvuL478IV3XS66Zhv+cJ4a2xJQBAEEBi7EJz0r/WlkJHtWfnv7kU3uqJwdy/deNwmgSCiT9hALjcS/L4v7tYMCW83/q/3CaSzPvP6T+/XmPruQLaP+h118V7sN2/feckerNk6b8bnNyYgIqoP0Tr7ww/09k/YploaS8k6z8V2EzHKpABQA2dJBA7CPq/UEDOgx7R8b/a9zrnoiflPxnOmiwqBMW/WbmyxTnM8T84aJgxLpzGv9DIa+WnLu0/0rZ/DTGy878JIY8KrojsP9Gn1QBsKfI/QiZdVMfU8r/S3gm1vrv9P0ZPvE/8Ico/kXSIB8WZ9L9OEeOacujzPydhWaysT+g/e0GIvJZb0b/YCz3v5feyP4nJj9Inp/a/Pzudfgyf/j/TEXadRhKtP7rZUyWGOea/i7gF/Jpskz//ituf3qvXPyM2B6XKmtE/79BVRW4+4T9W5HHccADYv+is+HJHLbY/v6R5whm77z8=\",\"dtype\":\"float64\",\"shape\":[100]}},\"selected\":{\"id\":\"6d3f3d45-aad6-4e75-8e6d-b1391fc62ec6\",\"type\":\"Selection\"},\"selection_policy\":{\"id\":\"a4865be4-2d90-44fb-9d92-b90bd431bc55\",\"type\":\"UnionRenderers\"}},\"id\":\"08c48b8e-b5fc-45ef-b1c5-27a367fa43b0\",\"type\":\"ColumnDataSource\"},{\"attributes\":{},\"id\":\"07841109-71c1-4142-9106-3dd017729ee1\",\"type\":\"BasicTicker\"},{\"attributes\":{\"formatter\":{\"id\":\"facd720e-a949-4943-a1a5-5ef363826c16\",\"type\":\"BasicTickFormatter\"},\"plot\":{\"id\":\"be0c8580-bb2a-4f01-92d0-7e62825efe81\",\"subtype\":\"Figure\",\"type\":\"Plot\"},\"ticker\":{\"id\":\"0c99ec6a-c91d-44ca-bbc7-7cf7a7085498\",\"type\":\"BasicTicker\"}},\"id\":\"a491138c-b4f3-4fe9-995d-d17ae2e4f918\",\"type\":\"LinearAxis\"},{\"attributes\":{},\"id\":\"0c99ec6a-c91d-44ca-bbc7-7cf7a7085498\",\"type\":\"BasicTicker\"},{\"attributes\":{\"dimension\":1,\"plot\":{\"id\":\"be0c8580-bb2a-4f01-92d0-7e62825efe81\",\"subtype\":\"Figure\",\"type\":\"Plot\"},\"ticker\":{\"id\":\"0c99ec6a-c91d-44ca-bbc7-7cf7a7085498\",\"type\":\"BasicTicker\"}},\"id\":\"d420ba02-4588-463a-aaa3-2c031a2615e2\",\"type\":\"Grid\"},{\"attributes\":{\"source\":{\"id\":\"4d8917bd-9445-48a9-850a-d709044421f4\",\"type\":\"ColumnDataSource\"}},\"id\":\"8f4723a6-1d81-4f4b-8ea1-ff3bfc262a86\",\"type\":\"CDSView\"},{\"attributes\":{\"fill_alpha\":{\"value\":0.1},\"fill_color\":{\"value\":\"#1f77b4\"},\"line_alpha\":{\"value\":0.1},\"line_color\":{\"value\":\"#1f77b4\"},\"size\":{\"units\":\"screen\",\"value\":10},\"x\":{\"field\":\"x\"},\"y\":{\"field\":\"y\"}},\"id\":\"541eb3f9-294a-446b-bed6-4773808e5f42\",\"type\":\"Circle\"},{\"attributes\":{\"plot\":null,\"text\":\"\"},\"id\":\"45a7058f-6a47-4980-a5db-0fa02a496407\",\"type\":\"Title\"},{\"attributes\":{\"callback\":null,\"data\":{\"x\":[0,1,2,3,4,5,6,7,8,9,10,11,12,13,14,15,16,17,18,19,20,21,22,23,24,25,26,27,28,29,30,31,32,33,34,35,36,37,38,39,40,41,42,43,44,45,46,47,48,49,50,51,52,53,54,55,56,57,58,59,60,61,62,63,64,65,66,67,68,69,70,71,72,73,74,75,76,77,78,79,80,81,82,83,84,85,86,87,88,89,90,91,92,93,94,95,96,97,98,99],\"y\":{\"__ndarray__\":\"r8TG7rrZ4z/I5bnvlEbRv6GxfHsONum/daTNFRbj678QbXIu1tPuvypMLBjUpN2/D0CDJeEs/T+wBBMa0SrJv/3DTqop+vI/MFYrX29c6b9olnpsHwMAQOrHheihwfW/JC162bnz+7/OgPpFzlTyP4Lx08B+o7W/llYyh3Wntr8jh7Uxo+7Evxmcr1hKhPa/kdgTav8s6z/YFpLtUSu4v7OvWrwnlb0/jkKIhfAL2z/ibjT5Orzxv69WqvYiGAFACLuxtG5b+z8syQVkJXLiv1NswMnwCOg/uAs61shT9D8QS6n34nLTv+iE7lwqY9o/97YaYhNd978U2Y3SQHDXv/8/u/7iStY/pV2eubJh8b9GQCAWWr/Rv/oHgkQIncm/nPi+zNvvtr9LI1YsNSHev1jxdAroXbA/HROQEpFo4L+aXjidJeayv0pdCYDsbuO/bI9Hp2dN9j8HorM/MZbyv7Mb+mr9yO6/rXmKvosr0z8y2fNbjiTiv4OrHV6rAN6/k6Ie7tt48L80P9/2uVv6v5TOdrBhB/K/9WK0zaTZ4L+/WsmfE8fEv4OMhOEkxey//moaM+3U+79sOf6MMTq7P7VqIPXUKuC/kJlaYdksiD8G4ENV9MzdPwR+wJ+DX/y/aA3Lj/TC4z8nEzkbk5/xv6mBi7lkb+U/5N82WscH378O7SPDLiSOvxTyBbOL9/I/+JPa9CjX8r9zTjTM7Hjuv10K0/lk5+2/YDw8A+dN8D8oXhzpTHD9v84U3WTi+PY/TvW2vOnI5D9IK3gWQCbvPzE0G4KTwfE/C2gnLt90079Q0nbTfOfzv86vrWNpd/W/rgIIS+yAt79PlwLKi03UvxTr9Tszg9E/yEimzn6A7T9ZLTcn9HPKv7XQseKU4gLACVARRWWDYT9WZcA+oDzNP3/YJKxNpdM/vRTYk0gH9T9BQXcDeB/gvxzHEdhpB/u/HTsOssjEyT8oNAvk6Z/kv9pB6GGWDvG/AX14aa6U+L8cHsiArVmiPwR1H0lBkqO/MWL0lQNI9D81fiaVuYjjPwsqTOVVBQLAFOlfKRVk5D8=\",\"dtype\":\"float64\",\"shape\":[100]}},\"selected\":{\"id\":\"8a1472fe-e229-4f7b-b446-3f30c80841a6\",\"type\":\"Selection\"},\"selection_policy\":{\"id\":\"6f466bba-ea14-47f7-a0b3-8908a3ee5dea\",\"type\":\"UnionRenderers\"}},\"id\":\"4d8917bd-9445-48a9-850a-d709044421f4\",\"type\":\"ColumnDataSource\"},{\"attributes\":{\"bottom_units\":\"screen\",\"fill_alpha\":{\"value\":0.5},\"fill_color\":{\"value\":\"lightgrey\"},\"left_units\":\"screen\",\"level\":\"overlay\",\"line_alpha\":{\"value\":1.0},\"line_color\":{\"value\":\"black\"},\"line_dash\":[4,4],\"line_width\":{\"value\":2},\"plot\":null,\"render_mode\":\"css\",\"right_units\":\"screen\",\"top_units\":\"screen\"},\"id\":\"765595ff-e88f-4d30-952e-69296841ab23\",\"type\":\"BoxAnnotation\"},{\"attributes\":{},\"id\":\"b6a614a7-b024-4887-813e-f26c06cf44d1\",\"type\":\"PanTool\"},{\"attributes\":{\"fill_alpha\":{\"value\":0.5},\"fill_color\":{\"value\":\"#FF0000\"},\"line_alpha\":{\"value\":0.5},\"line_color\":{\"value\":\"#FF0000\"},\"size\":{\"units\":\"screen\",\"value\":10},\"x\":{\"field\":\"x\"},\"y\":{\"field\":\"y\"}},\"id\":\"93f6dd80-e359-44d7-bbd7-dec89f3f88d2\",\"type\":\"Circle\"},{\"attributes\":{\"below\":[{\"id\":\"b278070e-3030-49a9-9aa2-fa8f8ab63466\",\"type\":\"LinearAxis\"}],\"left\":[{\"id\":\"a491138c-b4f3-4fe9-995d-d17ae2e4f918\",\"type\":\"LinearAxis\"}],\"outline_line_alpha\":{\"value\":0.3},\"outline_line_color\":{\"value\":\"navy\"},\"outline_line_width\":{\"value\":7},\"plot_height\":400,\"renderers\":[{\"id\":\"b278070e-3030-49a9-9aa2-fa8f8ab63466\",\"type\":\"LinearAxis\"},{\"id\":\"140fb415-665e-4db7-8c0a-edf7c714b6eb\",\"type\":\"Grid\"},{\"id\":\"a491138c-b4f3-4fe9-995d-d17ae2e4f918\",\"type\":\"LinearAxis\"},{\"id\":\"d420ba02-4588-463a-aaa3-2c031a2615e2\",\"type\":\"Grid\"},{\"id\":\"765595ff-e88f-4d30-952e-69296841ab23\",\"type\":\"BoxAnnotation\"},{\"id\":\"77322e92-8475-4e14-ab8f-992fbb81652a\",\"type\":\"GlyphRenderer\"},{\"id\":\"ccbc618d-f95f-4fd1-8f95-a3025dc78278\",\"type\":\"GlyphRenderer\"}],\"title\":{\"id\":\"45a7058f-6a47-4980-a5db-0fa02a496407\",\"type\":\"Title\"},\"toolbar\":{\"id\":\"da8cd8e8-a5bc-43fb-b81a-038844999d7d\",\"type\":\"Toolbar\"},\"x_range\":{\"id\":\"e8f422e8-a588-4da5-80cb-c6b3f5daf1f4\",\"type\":\"DataRange1d\"},\"x_scale\":{\"id\":\"b6a34280-8162-42d3-96ab-0d10ad0c3469\",\"type\":\"LinearScale\"},\"y_range\":{\"id\":\"c133b625-2c79-43cb-a59d-30ff582a87c0\",\"type\":\"DataRange1d\"},\"y_scale\":{\"id\":\"791030f6-234b-44c6-b7b5-eacbeee404d8\",\"type\":\"LinearScale\"}},\"id\":\"be0c8580-bb2a-4f01-92d0-7e62825efe81\",\"subtype\":\"Figure\",\"type\":\"Plot\"},{\"attributes\":{},\"id\":\"0d5c9ccf-d18b-4bc2-966b-af4441eb5a06\",\"type\":\"WheelZoomTool\"},{\"attributes\":{\"fill_alpha\":{\"value\":0.5},\"fill_color\":{\"value\":\"green\"},\"line_alpha\":{\"value\":0.5},\"line_color\":{\"value\":\"green\"},\"size\":{\"units\":\"screen\",\"value\":10},\"x\":{\"field\":\"x\"},\"y\":{\"field\":\"y\"}},\"id\":\"035556ac-e3ec-4507-af6a-71d6498b0ed7\",\"type\":\"Circle\"},{\"attributes\":{\"overlay\":{\"id\":\"765595ff-e88f-4d30-952e-69296841ab23\",\"type\":\"BoxAnnotation\"}},\"id\":\"e0ec2bf7-3e44-4181-bce1-2221b2947a01\",\"type\":\"BoxZoomTool\"},{\"attributes\":{},\"id\":\"38f3b67d-31b5-47f6-8afd-2676276f45df\",\"type\":\"SaveTool\"},{\"attributes\":{},\"id\":\"02c19dab-8ff4-415a-870d-e619491c2a70\",\"type\":\"ResetTool\"},{\"attributes\":{},\"id\":\"f3273607-1c2b-4f84-9ac2-adf6915b5bf0\",\"type\":\"HelpTool\"},{\"attributes\":{\"data_source\":{\"id\":\"08c48b8e-b5fc-45ef-b1c5-27a367fa43b0\",\"type\":\"ColumnDataSource\"},\"glyph\":{\"id\":\"93f6dd80-e359-44d7-bbd7-dec89f3f88d2\",\"type\":\"Circle\"},\"hover_glyph\":null,\"muted_glyph\":null,\"nonselection_glyph\":{\"id\":\"64b9513b-fd8e-402b-8bcc-d24cba44f28c\",\"type\":\"Circle\"},\"selection_glyph\":null,\"view\":{\"id\":\"30e4af4e-0b91-400b-afd7-65fde07e2493\",\"type\":\"CDSView\"}},\"id\":\"ccbc618d-f95f-4fd1-8f95-a3025dc78278\",\"type\":\"GlyphRenderer\"},{\"attributes\":{\"fill_alpha\":{\"value\":0.1},\"fill_color\":{\"value\":\"#1f77b4\"},\"line_alpha\":{\"value\":0.1},\"line_color\":{\"value\":\"#1f77b4\"},\"size\":{\"units\":\"screen\",\"value\":10},\"x\":{\"field\":\"x\"},\"y\":{\"field\":\"y\"}},\"id\":\"64b9513b-fd8e-402b-8bcc-d24cba44f28c\",\"type\":\"Circle\"},{\"attributes\":{},\"id\":\"6f466bba-ea14-47f7-a0b3-8908a3ee5dea\",\"type\":\"UnionRenderers\"},{\"attributes\":{},\"id\":\"6d3f3d45-aad6-4e75-8e6d-b1391fc62ec6\",\"type\":\"Selection\"},{\"attributes\":{\"callback\":null},\"id\":\"e8f422e8-a588-4da5-80cb-c6b3f5daf1f4\",\"type\":\"DataRange1d\"},{\"attributes\":{},\"id\":\"facd720e-a949-4943-a1a5-5ef363826c16\",\"type\":\"BasicTickFormatter\"},{\"attributes\":{},\"id\":\"8a1472fe-e229-4f7b-b446-3f30c80841a6\",\"type\":\"Selection\"},{\"attributes\":{\"source\":{\"id\":\"08c48b8e-b5fc-45ef-b1c5-27a367fa43b0\",\"type\":\"ColumnDataSource\"}},\"id\":\"30e4af4e-0b91-400b-afd7-65fde07e2493\",\"type\":\"CDSView\"},{\"attributes\":{\"callback\":null},\"id\":\"c133b625-2c79-43cb-a59d-30ff582a87c0\",\"type\":\"DataRange1d\"},{\"attributes\":{},\"id\":\"2019b75a-2487-4264-ad9c-a1d659e57816\",\"type\":\"BasicTickFormatter\"},{\"attributes\":{\"active_drag\":\"auto\",\"active_inspect\":\"auto\",\"active_scroll\":\"auto\",\"active_tap\":\"auto\",\"tools\":[{\"id\":\"b6a614a7-b024-4887-813e-f26c06cf44d1\",\"type\":\"PanTool\"},{\"id\":\"0d5c9ccf-d18b-4bc2-966b-af4441eb5a06\",\"type\":\"WheelZoomTool\"},{\"id\":\"e0ec2bf7-3e44-4181-bce1-2221b2947a01\",\"type\":\"BoxZoomTool\"},{\"id\":\"38f3b67d-31b5-47f6-8afd-2676276f45df\",\"type\":\"SaveTool\"},{\"id\":\"02c19dab-8ff4-415a-870d-e619491c2a70\",\"type\":\"ResetTool\"},{\"id\":\"f3273607-1c2b-4f84-9ac2-adf6915b5bf0\",\"type\":\"HelpTool\"}]},\"id\":\"da8cd8e8-a5bc-43fb-b81a-038844999d7d\",\"type\":\"Toolbar\"},{\"attributes\":{},\"id\":\"a4865be4-2d90-44fb-9d92-b90bd431bc55\",\"type\":\"UnionRenderers\"}],\"root_ids\":[\"be0c8580-bb2a-4f01-92d0-7e62825efe81\"]},\"title\":\"Bokeh Application\",\"version\":\"0.12.16\"}};\n",
       "  var render_items = [{\"docid\":\"bef32bc0-5f62-47b8-abf3-a54bdf832f02\",\"elementid\":\"dfdf2c8e-fe30-4c97-8485-2f4f17221493\",\"modelid\":\"be0c8580-bb2a-4f01-92d0-7e62825efe81\"}];\n",
       "  root.Bokeh.embed.embed_items_notebook(docs_json, render_items);\n",
       "\n",
       "  }\n",
       "  if (root.Bokeh !== undefined) {\n",
       "    embed_document(root);\n",
       "  } else {\n",
       "    var attempts = 0;\n",
       "    var timer = setInterval(function(root) {\n",
       "      if (root.Bokeh !== undefined) {\n",
       "        embed_document(root);\n",
       "        clearInterval(timer);\n",
       "      }\n",
       "      attempts++;\n",
       "      if (attempts > 100) {\n",
       "        console.log(\"Bokeh: ERROR: Unable to run BokehJS code because BokehJS library is missing\")\n",
       "        clearInterval(timer);\n",
       "      }\n",
       "    }, 10, root)\n",
       "  }\n",
       "})(window);"
      ],
      "application/vnd.bokehjs_exec.v0+json": ""
     },
     "metadata": {
      "application/vnd.bokehjs_exec.v0+json": {
       "id": "be0c8580-bb2a-4f01-92d0-7e62825efe81"
      }
     },
     "output_type": "display_data"
    }
   ],
   "source": [
    "# 图表边框线参数设置\n",
    "\n",
    "p = figure(plot_width=600, plot_height=400)\n",
    "\n",
    "# 绘制散点图\n",
    "p.circle(df.index, df['A'], color = 'green', size=10,  alpha=0.5)\n",
    "p.circle(df.index, df['B'], color = '#FF0000', size=10,  alpha=0.5)\n",
    "\n",
    "# 设置图表边框 \n",
    "p.outline_line_width = 7         # 边框线宽\n",
    "p.outline_line_alpha = 0.3       # 边框线透明度\n",
    "p.outline_line_color = \"navy\"    # 边框线颜色\n",
    "\n",
    "show(p)"
   ]
  },
  {
   "cell_type": "markdown",
   "metadata": {},
   "source": [
    "### 1.5 绘图空间背景\n",
    "> background 设置\n",
    "* background_fill_color\n",
    "* background_fill_alpha "
   ]
  },
  {
   "cell_type": "code",
   "execution_count": 9,
   "metadata": {},
   "outputs": [
    {
     "data": {
      "text/html": [
       "\n",
       "<div class=\"bk-root\">\n",
       "    <div class=\"bk-plotdiv\" id=\"3cdaa4eb-f602-464e-be38-3505c23e5aa7\"></div>\n",
       "</div>"
      ]
     },
     "metadata": {},
     "output_type": "display_data"
    },
    {
     "data": {
      "application/javascript": [
       "(function(root) {\n",
       "  function embed_document(root) {\n",
       "    \n",
       "  var docs_json = {\"9b3a19d9-7733-4a47-81d0-26aab768e055\":{\"roots\":{\"references\":[{\"attributes\":{},\"id\":\"0e623b50-4de8-4a3c-bf9f-efeb817d5e05\",\"type\":\"WheelZoomTool\"},{\"attributes\":{},\"id\":\"2a9ea84d-8363-49a0-98b4-7f66a2aebe08\",\"type\":\"BasicTickFormatter\"},{\"attributes\":{},\"id\":\"6fc3ce0a-7ca2-4841-89b0-aba93e10b1ca\",\"type\":\"ResetTool\"},{\"attributes\":{\"fill_alpha\":{\"value\":0.1},\"fill_color\":{\"value\":\"#1f77b4\"},\"line_alpha\":{\"value\":0.1},\"line_color\":{\"value\":\"#1f77b4\"},\"size\":{\"units\":\"screen\",\"value\":10},\"x\":{\"field\":\"x\"},\"y\":{\"field\":\"y\"}},\"id\":\"efde87fb-bae7-4810-9766-d68d2514f2a8\",\"type\":\"Circle\"},{\"attributes\":{},\"id\":\"3bf41c05-bb5e-43a9-82b9-60c441e417fc\",\"type\":\"BasicTicker\"},{\"attributes\":{\"fill_alpha\":{\"value\":0.1},\"fill_color\":{\"value\":\"#1f77b4\"},\"line_alpha\":{\"value\":0.1},\"line_color\":{\"value\":\"#1f77b4\"},\"size\":{\"units\":\"screen\",\"value\":10},\"x\":{\"field\":\"x\"},\"y\":{\"field\":\"y\"}},\"id\":\"75ed86c2-6f3c-47c4-a851-3c6509ef0d3a\",\"type\":\"Circle\"},{\"attributes\":{\"data_source\":{\"id\":\"ebf114b3-af04-458e-b7b5-30cf83f333d5\",\"type\":\"ColumnDataSource\"},\"glyph\":{\"id\":\"e41792f0-8c89-4d50-a4fa-6e1478f9a7ba\",\"type\":\"Circle\"},\"hover_glyph\":null,\"muted_glyph\":null,\"nonselection_glyph\":{\"id\":\"efde87fb-bae7-4810-9766-d68d2514f2a8\",\"type\":\"Circle\"},\"selection_glyph\":null,\"view\":{\"id\":\"f9895432-6671-4736-b7eb-fced0a014d9c\",\"type\":\"CDSView\"}},\"id\":\"2e7ae01b-3bd8-4931-8d6f-83f748fa4856\",\"type\":\"GlyphRenderer\"},{\"attributes\":{\"fill_alpha\":{\"value\":0.5},\"fill_color\":{\"value\":\"#FF0000\"},\"line_alpha\":{\"value\":0.5},\"line_color\":{\"value\":\"#FF0000\"},\"size\":{\"units\":\"screen\",\"value\":10},\"x\":{\"field\":\"x\"},\"y\":{\"field\":\"y\"}},\"id\":\"f344e94b-c2db-42aa-902d-42b810898508\",\"type\":\"Circle\"},{\"attributes\":{},\"id\":\"4a5c440a-d821-41fe-a4e8-adb1a098420a\",\"type\":\"Selection\"},{\"attributes\":{},\"id\":\"6058af8d-19aa-465b-8629-5f13d3ce2716\",\"type\":\"BasicTickFormatter\"},{\"attributes\":{\"plot\":null,\"text\":\"\"},\"id\":\"76fe413f-72b4-4872-bea2-0dc3437b0845\",\"type\":\"Title\"},{\"attributes\":{},\"id\":\"33c4e182-8c6a-4da2-ba84-239211bc8dca\",\"type\":\"UnionRenderers\"},{\"attributes\":{\"dimension\":1,\"plot\":{\"id\":\"17e5a254-1d76-4995-a859-7927dcd2df1b\",\"subtype\":\"Figure\",\"type\":\"Plot\"},\"ticker\":{\"id\":\"3bf41c05-bb5e-43a9-82b9-60c441e417fc\",\"type\":\"BasicTicker\"}},\"id\":\"994fd408-7989-4d39-8026-c8b49af2f308\",\"type\":\"Grid\"},{\"attributes\":{},\"id\":\"b5b96a4b-ddc7-453b-a754-de99985dd417\",\"type\":\"Selection\"},{\"attributes\":{},\"id\":\"284c5094-bcd1-4d33-92a4-0059d435433f\",\"type\":\"LinearScale\"},{\"attributes\":{},\"id\":\"f1336db9-5c16-49e4-b60c-d1d34747dcb9\",\"type\":\"BasicTicker\"},{\"attributes\":{\"callback\":null},\"id\":\"a6793ac5-afc6-47eb-97ab-17e7fe1480cc\",\"type\":\"DataRange1d\"},{\"attributes\":{\"formatter\":{\"id\":\"2a9ea84d-8363-49a0-98b4-7f66a2aebe08\",\"type\":\"BasicTickFormatter\"},\"plot\":{\"id\":\"17e5a254-1d76-4995-a859-7927dcd2df1b\",\"subtype\":\"Figure\",\"type\":\"Plot\"},\"ticker\":{\"id\":\"3bf41c05-bb5e-43a9-82b9-60c441e417fc\",\"type\":\"BasicTicker\"}},\"id\":\"f86a019e-c373-4591-90ee-69f64916f3ca\",\"type\":\"LinearAxis\"},{\"attributes\":{},\"id\":\"7851351b-9c8b-4e3d-b9ed-330d4ab5e7ba\",\"type\":\"HelpTool\"},{\"attributes\":{\"callback\":null,\"data\":{\"x\":[0,1,2,3,4,5,6,7,8,9,10,11,12,13,14,15,16,17,18,19,20,21,22,23,24,25,26,27,28,29,30,31,32,33,34,35,36,37,38,39,40,41,42,43,44,45,46,47,48,49,50,51,52,53,54,55,56,57,58,59,60,61,62,63,64,65,66,67,68,69,70,71,72,73,74,75,76,77,78,79,80,81,82,83,84,85,86,87,88,89,90,91,92,93,94,95,96,97,98,99],\"y\":{\"__ndarray__\":\"r8TG7rrZ4z/I5bnvlEbRv6GxfHsONum/daTNFRbj678QbXIu1tPuvypMLBjUpN2/D0CDJeEs/T+wBBMa0SrJv/3DTqop+vI/MFYrX29c6b9olnpsHwMAQOrHheihwfW/JC162bnz+7/OgPpFzlTyP4Lx08B+o7W/llYyh3Wntr8jh7Uxo+7Evxmcr1hKhPa/kdgTav8s6z/YFpLtUSu4v7OvWrwnlb0/jkKIhfAL2z/ibjT5Orzxv69WqvYiGAFACLuxtG5b+z8syQVkJXLiv1NswMnwCOg/uAs61shT9D8QS6n34nLTv+iE7lwqY9o/97YaYhNd978U2Y3SQHDXv/8/u/7iStY/pV2eubJh8b9GQCAWWr/Rv/oHgkQIncm/nPi+zNvvtr9LI1YsNSHev1jxdAroXbA/HROQEpFo4L+aXjidJeayv0pdCYDsbuO/bI9Hp2dN9j8HorM/MZbyv7Mb+mr9yO6/rXmKvosr0z8y2fNbjiTiv4OrHV6rAN6/k6Ie7tt48L80P9/2uVv6v5TOdrBhB/K/9WK0zaTZ4L+/WsmfE8fEv4OMhOEkxey//moaM+3U+79sOf6MMTq7P7VqIPXUKuC/kJlaYdksiD8G4ENV9MzdPwR+wJ+DX/y/aA3Lj/TC4z8nEzkbk5/xv6mBi7lkb+U/5N82WscH378O7SPDLiSOvxTyBbOL9/I/+JPa9CjX8r9zTjTM7Hjuv10K0/lk5+2/YDw8A+dN8D8oXhzpTHD9v84U3WTi+PY/TvW2vOnI5D9IK3gWQCbvPzE0G4KTwfE/C2gnLt90079Q0nbTfOfzv86vrWNpd/W/rgIIS+yAt79PlwLKi03UvxTr9Tszg9E/yEimzn6A7T9ZLTcn9HPKv7XQseKU4gLACVARRWWDYT9WZcA+oDzNP3/YJKxNpdM/vRTYk0gH9T9BQXcDeB/gvxzHEdhpB/u/HTsOssjEyT8oNAvk6Z/kv9pB6GGWDvG/AX14aa6U+L8cHsiArVmiPwR1H0lBkqO/MWL0lQNI9D81fiaVuYjjPwsqTOVVBQLAFOlfKRVk5D8=\",\"dtype\":\"float64\",\"shape\":[100]}},\"selected\":{\"id\":\"4a5c440a-d821-41fe-a4e8-adb1a098420a\",\"type\":\"Selection\"},\"selection_policy\":{\"id\":\"f86f37a1-ee22-46de-90c5-855c832f35c2\",\"type\":\"UnionRenderers\"}},\"id\":\"ebf114b3-af04-458e-b7b5-30cf83f333d5\",\"type\":\"ColumnDataSource\"},{\"attributes\":{\"overlay\":{\"id\":\"ea2c5f82-80b5-49ef-bf4a-7466aae85d5d\",\"type\":\"BoxAnnotation\"}},\"id\":\"8630e141-b1fd-4813-aade-1aab19d9b7a4\",\"type\":\"BoxZoomTool\"},{\"attributes\":{\"plot\":{\"id\":\"17e5a254-1d76-4995-a859-7927dcd2df1b\",\"subtype\":\"Figure\",\"type\":\"Plot\"},\"ticker\":{\"id\":\"f1336db9-5c16-49e4-b60c-d1d34747dcb9\",\"type\":\"BasicTicker\"}},\"id\":\"97bbedd2-b7a4-4017-9df0-60366569a9f7\",\"type\":\"Grid\"},{\"attributes\":{},\"id\":\"10d20f6a-815d-4694-a0bc-818381c14161\",\"type\":\"PanTool\"},{\"attributes\":{\"fill_alpha\":{\"value\":0.5},\"fill_color\":{\"value\":\"green\"},\"line_alpha\":{\"value\":0.5},\"line_color\":{\"value\":\"green\"},\"size\":{\"units\":\"screen\",\"value\":10},\"x\":{\"field\":\"x\"},\"y\":{\"field\":\"y\"}},\"id\":\"e41792f0-8c89-4d50-a4fa-6e1478f9a7ba\",\"type\":\"Circle\"},{\"attributes\":{\"bottom_units\":\"screen\",\"fill_alpha\":{\"value\":0.5},\"fill_color\":{\"value\":\"lightgrey\"},\"left_units\":\"screen\",\"level\":\"overlay\",\"line_alpha\":{\"value\":1.0},\"line_color\":{\"value\":\"black\"},\"line_dash\":[4,4],\"line_width\":{\"value\":2},\"plot\":null,\"render_mode\":\"css\",\"right_units\":\"screen\",\"top_units\":\"screen\"},\"id\":\"ea2c5f82-80b5-49ef-bf4a-7466aae85d5d\",\"type\":\"BoxAnnotation\"},{\"attributes\":{\"data_source\":{\"id\":\"a382731c-34bb-4c86-abe6-20e0ba394502\",\"type\":\"ColumnDataSource\"},\"glyph\":{\"id\":\"f344e94b-c2db-42aa-902d-42b810898508\",\"type\":\"Circle\"},\"hover_glyph\":null,\"muted_glyph\":null,\"nonselection_glyph\":{\"id\":\"75ed86c2-6f3c-47c4-a851-3c6509ef0d3a\",\"type\":\"Circle\"},\"selection_glyph\":null,\"view\":{\"id\":\"67ab1947-c98f-4b93-b1a0-a4f3dc4e0f79\",\"type\":\"CDSView\"}},\"id\":\"84129302-ff0f-40c2-9519-15cfeff8a5c4\",\"type\":\"GlyphRenderer\"},{\"attributes\":{\"callback\":null,\"data\":{\"x\":[0,1,2,3,4,5,6,7,8,9,10,11,12,13,14,15,16,17,18,19,20,21,22,23,24,25,26,27,28,29,30,31,32,33,34,35,36,37,38,39,40,41,42,43,44,45,46,47,48,49,50,51,52,53,54,55,56,57,58,59,60,61,62,63,64,65,66,67,68,69,70,71,72,73,74,75,76,77,78,79,80,81,82,83,84,85,86,87,88,89,90,91,92,93,94,95,96,97,98,99],\"y\":{\"__ndarray__\":\"2jcG2wbt5r8vy6x045XjP+asZyjKYOG/IPpsnQhJ1D+XOXG9lcD1v6EiasO5zKC/M5Qqoscjyr+SVkkZGoD/v8y3xfjgTvA/XAHjWTVF+T/XQa6VFq/XPz0h9wMugsq/JcM4SnhH2T+6VZ5oxoXkv45I9cIpuvS/2sBqwFsOxT99t2XtL3/0v9FEnK78yfY/QQPnoPHH3r9wL0a6s4fpv7cLx7v2tfG//tCX1Qv49T8OyKA0rYD0v2zDIf90ogFAp6qd1KJb+j+1Bo2UO8DAP5uZorJKIOU/XQuQNcZ3yL8hEuyma8bwv6Ljo/rKF/q/VhEmmFGmu79gM9wGBT71v6Mhs0c4nfM/ueJ5TDZ9qD8dRNswxbL0v9b3Q/qoENc/VMXQSrHozT8ZCHY/Z+7Hv+vQAHjV6uI/o+tuTXw08D+IgH/fLSzYv+CTbGSY9uy/2OAZ8ca78b/Kv39V3jzxv9V9s8WpgOs/UbdzAuCX/b/4yQmimqq1v9MpSbOzIvW/2ww6nn/g37/q2XjthoDQv8A0NlPOp8Q/61pX0QaWu7+fX4abNN6uv3pTDULES+6/lcQiFvuL478IV3XS66Zhv+cJ4a2xJQBAEEBi7EJz0r/WlkJHtWfnv7kU3uqJwdy/deNwmgSCiT9hALjcS/L4v7tYMCW83/q/3CaSzPvP6T+/XmPruQLaP+h118V7sN2/feckerNk6b8bnNyYgIqoP0Tr7ww/09k/YploaS8k6z8V2EzHKpABQA2dJBA7CPq/UEDOgx7R8b/a9zrnoiflPxnOmiwqBMW/WbmyxTnM8T84aJgxLpzGv9DIa+WnLu0/0rZ/DTGy878JIY8KrojsP9Gn1QBsKfI/QiZdVMfU8r/S3gm1vrv9P0ZPvE/8Ico/kXSIB8WZ9L9OEeOacujzPydhWaysT+g/e0GIvJZb0b/YCz3v5feyP4nJj9Inp/a/Pzudfgyf/j/TEXadRhKtP7rZUyWGOea/i7gF/Jpskz//ituf3qvXPyM2B6XKmtE/79BVRW4+4T9W5HHccADYv+is+HJHLbY/v6R5whm77z8=\",\"dtype\":\"float64\",\"shape\":[100]}},\"selected\":{\"id\":\"b5b96a4b-ddc7-453b-a754-de99985dd417\",\"type\":\"Selection\"},\"selection_policy\":{\"id\":\"33c4e182-8c6a-4da2-ba84-239211bc8dca\",\"type\":\"UnionRenderers\"}},\"id\":\"a382731c-34bb-4c86-abe6-20e0ba394502\",\"type\":\"ColumnDataSource\"},{\"attributes\":{\"source\":{\"id\":\"ebf114b3-af04-458e-b7b5-30cf83f333d5\",\"type\":\"ColumnDataSource\"}},\"id\":\"f9895432-6671-4736-b7eb-fced0a014d9c\",\"type\":\"CDSView\"},{\"attributes\":{\"background_fill_alpha\":{\"value\":0.5},\"background_fill_color\":{\"value\":\"beige\"},\"below\":[{\"id\":\"fe540be3-cfc4-467c-b492-3d0fa2a548a2\",\"type\":\"LinearAxis\"}],\"left\":[{\"id\":\"f86a019e-c373-4591-90ee-69f64916f3ca\",\"type\":\"LinearAxis\"}],\"plot_height\":400,\"renderers\":[{\"id\":\"fe540be3-cfc4-467c-b492-3d0fa2a548a2\",\"type\":\"LinearAxis\"},{\"id\":\"97bbedd2-b7a4-4017-9df0-60366569a9f7\",\"type\":\"Grid\"},{\"id\":\"f86a019e-c373-4591-90ee-69f64916f3ca\",\"type\":\"LinearAxis\"},{\"id\":\"994fd408-7989-4d39-8026-c8b49af2f308\",\"type\":\"Grid\"},{\"id\":\"ea2c5f82-80b5-49ef-bf4a-7466aae85d5d\",\"type\":\"BoxAnnotation\"},{\"id\":\"2e7ae01b-3bd8-4931-8d6f-83f748fa4856\",\"type\":\"GlyphRenderer\"},{\"id\":\"84129302-ff0f-40c2-9519-15cfeff8a5c4\",\"type\":\"GlyphRenderer\"}],\"title\":{\"id\":\"76fe413f-72b4-4872-bea2-0dc3437b0845\",\"type\":\"Title\"},\"toolbar\":{\"id\":\"6a4af98a-e20e-4f95-877c-b95cc1d88c15\",\"type\":\"Toolbar\"},\"x_range\":{\"id\":\"a6793ac5-afc6-47eb-97ab-17e7fe1480cc\",\"type\":\"DataRange1d\"},\"x_scale\":{\"id\":\"284c5094-bcd1-4d33-92a4-0059d435433f\",\"type\":\"LinearScale\"},\"y_range\":{\"id\":\"71c1ed69-c2a5-4a79-980f-e8a46abffcca\",\"type\":\"DataRange1d\"},\"y_scale\":{\"id\":\"03a73fe2-59ac-46c6-8923-0a21c4844bce\",\"type\":\"LinearScale\"}},\"id\":\"17e5a254-1d76-4995-a859-7927dcd2df1b\",\"subtype\":\"Figure\",\"type\":\"Plot\"},{\"attributes\":{\"formatter\":{\"id\":\"6058af8d-19aa-465b-8629-5f13d3ce2716\",\"type\":\"BasicTickFormatter\"},\"plot\":{\"id\":\"17e5a254-1d76-4995-a859-7927dcd2df1b\",\"subtype\":\"Figure\",\"type\":\"Plot\"},\"ticker\":{\"id\":\"f1336db9-5c16-49e4-b60c-d1d34747dcb9\",\"type\":\"BasicTicker\"}},\"id\":\"fe540be3-cfc4-467c-b492-3d0fa2a548a2\",\"type\":\"LinearAxis\"},{\"attributes\":{\"source\":{\"id\":\"a382731c-34bb-4c86-abe6-20e0ba394502\",\"type\":\"ColumnDataSource\"}},\"id\":\"67ab1947-c98f-4b93-b1a0-a4f3dc4e0f79\",\"type\":\"CDSView\"},{\"attributes\":{},\"id\":\"03a73fe2-59ac-46c6-8923-0a21c4844bce\",\"type\":\"LinearScale\"},{\"attributes\":{},\"id\":\"f86f37a1-ee22-46de-90c5-855c832f35c2\",\"type\":\"UnionRenderers\"},{\"attributes\":{\"callback\":null},\"id\":\"71c1ed69-c2a5-4a79-980f-e8a46abffcca\",\"type\":\"DataRange1d\"},{\"attributes\":{},\"id\":\"031fa77d-dc29-4646-a426-0bf5bb5f4aab\",\"type\":\"SaveTool\"},{\"attributes\":{\"active_drag\":\"auto\",\"active_inspect\":\"auto\",\"active_scroll\":\"auto\",\"active_tap\":\"auto\",\"tools\":[{\"id\":\"10d20f6a-815d-4694-a0bc-818381c14161\",\"type\":\"PanTool\"},{\"id\":\"0e623b50-4de8-4a3c-bf9f-efeb817d5e05\",\"type\":\"WheelZoomTool\"},{\"id\":\"8630e141-b1fd-4813-aade-1aab19d9b7a4\",\"type\":\"BoxZoomTool\"},{\"id\":\"031fa77d-dc29-4646-a426-0bf5bb5f4aab\",\"type\":\"SaveTool\"},{\"id\":\"6fc3ce0a-7ca2-4841-89b0-aba93e10b1ca\",\"type\":\"ResetTool\"},{\"id\":\"7851351b-9c8b-4e3d-b9ed-330d4ab5e7ba\",\"type\":\"HelpTool\"}]},\"id\":\"6a4af98a-e20e-4f95-877c-b95cc1d88c15\",\"type\":\"Toolbar\"}],\"root_ids\":[\"17e5a254-1d76-4995-a859-7927dcd2df1b\"]},\"title\":\"Bokeh Application\",\"version\":\"0.12.16\"}};\n",
       "  var render_items = [{\"docid\":\"9b3a19d9-7733-4a47-81d0-26aab768e055\",\"elementid\":\"3cdaa4eb-f602-464e-be38-3505c23e5aa7\",\"modelid\":\"17e5a254-1d76-4995-a859-7927dcd2df1b\"}];\n",
       "  root.Bokeh.embed.embed_items_notebook(docs_json, render_items);\n",
       "\n",
       "  }\n",
       "  if (root.Bokeh !== undefined) {\n",
       "    embed_document(root);\n",
       "  } else {\n",
       "    var attempts = 0;\n",
       "    var timer = setInterval(function(root) {\n",
       "      if (root.Bokeh !== undefined) {\n",
       "        embed_document(root);\n",
       "        clearInterval(timer);\n",
       "      }\n",
       "      attempts++;\n",
       "      if (attempts > 100) {\n",
       "        console.log(\"Bokeh: ERROR: Unable to run BokehJS code because BokehJS library is missing\")\n",
       "        clearInterval(timer);\n",
       "      }\n",
       "    }, 10, root)\n",
       "  }\n",
       "})(window);"
      ],
      "application/vnd.bokehjs_exec.v0+json": ""
     },
     "metadata": {
      "application/vnd.bokehjs_exec.v0+json": {
       "id": "17e5a254-1d76-4995-a859-7927dcd2df1b"
      }
     },
     "output_type": "display_data"
    }
   ],
   "source": [
    "p = figure(plot_width=600, plot_height=400)\n",
    "p.circle(df.index, df['A'], color = 'green', size=10,  alpha=0.5)\n",
    "p.circle(df.index, df['B'], color = '#FF0000', size=10,  alpha=0.5)\n",
    "# 绘制散点图\n",
    "\n",
    "p.background_fill_color = \"beige\"    # 绘图空间背景颜色\n",
    "p.background_fill_alpha = 0.5        # 绘图空间背景透明度\n",
    "# 背景设置参数\n",
    "\n",
    "show(p)"
   ]
  },
  {
   "cell_type": "markdown",
   "metadata": {},
   "source": [
    "### 1.6 外边界背景\n",
    "> border 设置\n",
    "* border_fill_color \n",
    "* min_border_left\n",
    "* min_border_right\n",
    "* min_border_top\n",
    "* min_border_bottom"
   ]
  },
  {
   "cell_type": "code",
   "execution_count": 10,
   "metadata": {},
   "outputs": [
    {
     "data": {
      "text/html": [
       "\n",
       "<div class=\"bk-root\">\n",
       "    <div class=\"bk-plotdiv\" id=\"186e68b4-87f3-4279-8bae-6668fd9a1383\"></div>\n",
       "</div>"
      ]
     },
     "metadata": {},
     "output_type": "display_data"
    },
    {
     "data": {
      "application/javascript": [
       "(function(root) {\n",
       "  function embed_document(root) {\n",
       "    \n",
       "  var docs_json = {\"e96cd5c3-54ed-4858-a7d8-a34e9dffa0bc\":{\"roots\":{\"references\":[{\"attributes\":{\"callback\":null},\"id\":\"6410c072-e1cb-4e74-b5e9-d78b4dfa8112\",\"type\":\"DataRange1d\"},{\"attributes\":{\"source\":{\"id\":\"85bb9bd4-41b9-47db-b651-ce67eb8f6fa9\",\"type\":\"ColumnDataSource\"}},\"id\":\"aa354cda-f9c5-4e58-82bd-7e7d16694345\",\"type\":\"CDSView\"},{\"attributes\":{},\"id\":\"62c6f7e0-9158-45b0-b6ab-464fca741a7e\",\"type\":\"Selection\"},{\"attributes\":{},\"id\":\"1c3b4a06-d57a-48ac-b1a6-53946a84a5bb\",\"type\":\"BasicTickFormatter\"},{\"attributes\":{},\"id\":\"9fe78c09-d636-4f81-b8b1-9d5e52f3bca6\",\"type\":\"UnionRenderers\"},{\"attributes\":{\"below\":[{\"id\":\"0cd1d014-9ee7-40f7-9905-579cf4ad6942\",\"type\":\"LinearAxis\"}],\"border_fill_color\":{\"value\":\"whitesmoke\"},\"left\":[{\"id\":\"a8c4c386-9c00-4b3c-b2fa-4fd374e01a13\",\"type\":\"LinearAxis\"}],\"min_border_bottom\":10,\"min_border_left\":80,\"min_border_right\":80,\"min_border_top\":10,\"plot_height\":400,\"renderers\":[{\"id\":\"0cd1d014-9ee7-40f7-9905-579cf4ad6942\",\"type\":\"LinearAxis\"},{\"id\":\"b5c82091-e615-4e8c-acbe-21fdf192fcd5\",\"type\":\"Grid\"},{\"id\":\"a8c4c386-9c00-4b3c-b2fa-4fd374e01a13\",\"type\":\"LinearAxis\"},{\"id\":\"d7f6e319-c588-48c7-b984-6ad1251b5ea4\",\"type\":\"Grid\"},{\"id\":\"37e36d09-b012-43e2-9d75-0c2f0d52d9e3\",\"type\":\"BoxAnnotation\"},{\"id\":\"b1d253a4-b3fd-443d-abae-f577b8134a61\",\"type\":\"GlyphRenderer\"},{\"id\":\"2adacc77-cc2b-486a-b715-2ee23d513523\",\"type\":\"GlyphRenderer\"}],\"title\":{\"id\":\"bf6bb1fa-ba1e-49d9-80ae-763250c14b59\",\"type\":\"Title\"},\"toolbar\":{\"id\":\"20d19e0f-4428-48e8-b5c0-c08ecd5ab764\",\"type\":\"Toolbar\"},\"x_range\":{\"id\":\"6410c072-e1cb-4e74-b5e9-d78b4dfa8112\",\"type\":\"DataRange1d\"},\"x_scale\":{\"id\":\"13ab4616-0213-4883-a538-d0409d43ce94\",\"type\":\"LinearScale\"},\"y_range\":{\"id\":\"a7e7983d-eba3-4e8e-9fbd-9495967a0fbe\",\"type\":\"DataRange1d\"},\"y_scale\":{\"id\":\"99b6dcba-8cef-4799-a197-72c09f6391df\",\"type\":\"LinearScale\"}},\"id\":\"2c415490-a218-4bf1-bb5b-c5f502027576\",\"subtype\":\"Figure\",\"type\":\"Plot\"},{\"attributes\":{},\"id\":\"294eb962-d3d6-4907-b8bf-db0d25293972\",\"type\":\"Selection\"},{\"attributes\":{\"source\":{\"id\":\"cce65ea4-63b0-4b48-9dc0-e6a3e064fda7\",\"type\":\"ColumnDataSource\"}},\"id\":\"436a31b3-7a08-4acd-8ac9-b184e849780a\",\"type\":\"CDSView\"},{\"attributes\":{},\"id\":\"080f2820-e993-4218-b292-35e2a288f8d3\",\"type\":\"UnionRenderers\"},{\"attributes\":{\"callback\":null,\"data\":{\"x\":[0,1,2,3,4,5,6,7,8,9,10,11,12,13,14,15,16,17,18,19,20,21,22,23,24,25,26,27,28,29,30,31,32,33,34,35,36,37,38,39,40,41,42,43,44,45,46,47,48,49,50,51,52,53,54,55,56,57,58,59,60,61,62,63,64,65,66,67,68,69,70,71,72,73,74,75,76,77,78,79,80,81,82,83,84,85,86,87,88,89,90,91,92,93,94,95,96,97,98,99],\"y\":{\"__ndarray__\":\"r8TG7rrZ4z/I5bnvlEbRv6GxfHsONum/daTNFRbj678QbXIu1tPuvypMLBjUpN2/D0CDJeEs/T+wBBMa0SrJv/3DTqop+vI/MFYrX29c6b9olnpsHwMAQOrHheihwfW/JC162bnz+7/OgPpFzlTyP4Lx08B+o7W/llYyh3Wntr8jh7Uxo+7Evxmcr1hKhPa/kdgTav8s6z/YFpLtUSu4v7OvWrwnlb0/jkKIhfAL2z/ibjT5Orzxv69WqvYiGAFACLuxtG5b+z8syQVkJXLiv1NswMnwCOg/uAs61shT9D8QS6n34nLTv+iE7lwqY9o/97YaYhNd978U2Y3SQHDXv/8/u/7iStY/pV2eubJh8b9GQCAWWr/Rv/oHgkQIncm/nPi+zNvvtr9LI1YsNSHev1jxdAroXbA/HROQEpFo4L+aXjidJeayv0pdCYDsbuO/bI9Hp2dN9j8HorM/MZbyv7Mb+mr9yO6/rXmKvosr0z8y2fNbjiTiv4OrHV6rAN6/k6Ie7tt48L80P9/2uVv6v5TOdrBhB/K/9WK0zaTZ4L+/WsmfE8fEv4OMhOEkxey//moaM+3U+79sOf6MMTq7P7VqIPXUKuC/kJlaYdksiD8G4ENV9MzdPwR+wJ+DX/y/aA3Lj/TC4z8nEzkbk5/xv6mBi7lkb+U/5N82WscH378O7SPDLiSOvxTyBbOL9/I/+JPa9CjX8r9zTjTM7Hjuv10K0/lk5+2/YDw8A+dN8D8oXhzpTHD9v84U3WTi+PY/TvW2vOnI5D9IK3gWQCbvPzE0G4KTwfE/C2gnLt90079Q0nbTfOfzv86vrWNpd/W/rgIIS+yAt79PlwLKi03UvxTr9Tszg9E/yEimzn6A7T9ZLTcn9HPKv7XQseKU4gLACVARRWWDYT9WZcA+oDzNP3/YJKxNpdM/vRTYk0gH9T9BQXcDeB/gvxzHEdhpB/u/HTsOssjEyT8oNAvk6Z/kv9pB6GGWDvG/AX14aa6U+L8cHsiArVmiPwR1H0lBkqO/MWL0lQNI9D81fiaVuYjjPwsqTOVVBQLAFOlfKRVk5D8=\",\"dtype\":\"float64\",\"shape\":[100]}},\"selected\":{\"id\":\"294eb962-d3d6-4907-b8bf-db0d25293972\",\"type\":\"Selection\"},\"selection_policy\":{\"id\":\"9fe78c09-d636-4f81-b8b1-9d5e52f3bca6\",\"type\":\"UnionRenderers\"}},\"id\":\"cce65ea4-63b0-4b48-9dc0-e6a3e064fda7\",\"type\":\"ColumnDataSource\"},{\"attributes\":{\"active_drag\":\"auto\",\"active_inspect\":\"auto\",\"active_scroll\":\"auto\",\"active_tap\":\"auto\",\"tools\":[{\"id\":\"56eb3cb8-bfb3-4a25-b0c1-372c87bbcc86\",\"type\":\"PanTool\"},{\"id\":\"e057cf1f-f2c4-4e4b-ad27-f4f7475da709\",\"type\":\"WheelZoomTool\"},{\"id\":\"5e9c84bd-ca25-4e91-9613-387c455bf6d2\",\"type\":\"BoxZoomTool\"},{\"id\":\"af996354-32f2-455c-b9f9-cb61368bec21\",\"type\":\"SaveTool\"},{\"id\":\"ba957aff-0a1b-47dd-bd76-41b552069839\",\"type\":\"ResetTool\"},{\"id\":\"77f3bc32-ffe0-4e28-83eb-3873d516c49f\",\"type\":\"HelpTool\"}]},\"id\":\"20d19e0f-4428-48e8-b5c0-c08ecd5ab764\",\"type\":\"Toolbar\"},{\"attributes\":{\"callback\":null},\"id\":\"a7e7983d-eba3-4e8e-9fbd-9495967a0fbe\",\"type\":\"DataRange1d\"},{\"attributes\":{},\"id\":\"13ab4616-0213-4883-a538-d0409d43ce94\",\"type\":\"LinearScale\"},{\"attributes\":{},\"id\":\"99b6dcba-8cef-4799-a197-72c09f6391df\",\"type\":\"LinearScale\"},{\"attributes\":{\"plot\":{\"id\":\"2c415490-a218-4bf1-bb5b-c5f502027576\",\"subtype\":\"Figure\",\"type\":\"Plot\"},\"ticker\":{\"id\":\"bf3f0666-31d4-4c6c-b736-734ab408c98c\",\"type\":\"BasicTicker\"}},\"id\":\"b5c82091-e615-4e8c-acbe-21fdf192fcd5\",\"type\":\"Grid\"},{\"attributes\":{\"formatter\":{\"id\":\"1c3b4a06-d57a-48ac-b1a6-53946a84a5bb\",\"type\":\"BasicTickFormatter\"},\"plot\":{\"id\":\"2c415490-a218-4bf1-bb5b-c5f502027576\",\"subtype\":\"Figure\",\"type\":\"Plot\"},\"ticker\":{\"id\":\"bf3f0666-31d4-4c6c-b736-734ab408c98c\",\"type\":\"BasicTicker\"}},\"id\":\"0cd1d014-9ee7-40f7-9905-579cf4ad6942\",\"type\":\"LinearAxis\"},{\"attributes\":{},\"id\":\"bf3f0666-31d4-4c6c-b736-734ab408c98c\",\"type\":\"BasicTicker\"},{\"attributes\":{\"formatter\":{\"id\":\"3210a35f-eb52-4132-bed7-b9fcf0fe4e8b\",\"type\":\"BasicTickFormatter\"},\"plot\":{\"id\":\"2c415490-a218-4bf1-bb5b-c5f502027576\",\"subtype\":\"Figure\",\"type\":\"Plot\"},\"ticker\":{\"id\":\"a48a10f8-013f-4106-9318-c6407433f546\",\"type\":\"BasicTicker\"}},\"id\":\"a8c4c386-9c00-4b3c-b2fa-4fd374e01a13\",\"type\":\"LinearAxis\"},{\"attributes\":{},\"id\":\"a48a10f8-013f-4106-9318-c6407433f546\",\"type\":\"BasicTicker\"},{\"attributes\":{\"dimension\":1,\"plot\":{\"id\":\"2c415490-a218-4bf1-bb5b-c5f502027576\",\"subtype\":\"Figure\",\"type\":\"Plot\"},\"ticker\":{\"id\":\"a48a10f8-013f-4106-9318-c6407433f546\",\"type\":\"BasicTicker\"}},\"id\":\"d7f6e319-c588-48c7-b984-6ad1251b5ea4\",\"type\":\"Grid\"},{\"attributes\":{\"data_source\":{\"id\":\"cce65ea4-63b0-4b48-9dc0-e6a3e064fda7\",\"type\":\"ColumnDataSource\"},\"glyph\":{\"id\":\"4108ae97-0727-4939-91fa-a3d662c5b542\",\"type\":\"Circle\"},\"hover_glyph\":null,\"muted_glyph\":null,\"nonselection_glyph\":{\"id\":\"63df55aa-4b21-483d-a540-f6f254d37dbe\",\"type\":\"Circle\"},\"selection_glyph\":null,\"view\":{\"id\":\"436a31b3-7a08-4acd-8ac9-b184e849780a\",\"type\":\"CDSView\"}},\"id\":\"b1d253a4-b3fd-443d-abae-f577b8134a61\",\"type\":\"GlyphRenderer\"},{\"attributes\":{},\"id\":\"3210a35f-eb52-4132-bed7-b9fcf0fe4e8b\",\"type\":\"BasicTickFormatter\"},{\"attributes\":{\"fill_alpha\":{\"value\":0.1},\"fill_color\":{\"value\":\"#1f77b4\"},\"line_alpha\":{\"value\":0.1},\"line_color\":{\"value\":\"#1f77b4\"},\"size\":{\"units\":\"screen\",\"value\":10},\"x\":{\"field\":\"x\"},\"y\":{\"field\":\"y\"}},\"id\":\"63df55aa-4b21-483d-a540-f6f254d37dbe\",\"type\":\"Circle\"},{\"attributes\":{\"fill_alpha\":{\"value\":0.5},\"fill_color\":{\"value\":\"green\"},\"line_alpha\":{\"value\":0.5},\"line_color\":{\"value\":\"green\"},\"size\":{\"units\":\"screen\",\"value\":10},\"x\":{\"field\":\"x\"},\"y\":{\"field\":\"y\"}},\"id\":\"4108ae97-0727-4939-91fa-a3d662c5b542\",\"type\":\"Circle\"},{\"attributes\":{\"callback\":null,\"data\":{\"x\":[0,1,2,3,4,5,6,7,8,9,10,11,12,13,14,15,16,17,18,19,20,21,22,23,24,25,26,27,28,29,30,31,32,33,34,35,36,37,38,39,40,41,42,43,44,45,46,47,48,49,50,51,52,53,54,55,56,57,58,59,60,61,62,63,64,65,66,67,68,69,70,71,72,73,74,75,76,77,78,79,80,81,82,83,84,85,86,87,88,89,90,91,92,93,94,95,96,97,98,99],\"y\":{\"__ndarray__\":\"2jcG2wbt5r8vy6x045XjP+asZyjKYOG/IPpsnQhJ1D+XOXG9lcD1v6EiasO5zKC/M5Qqoscjyr+SVkkZGoD/v8y3xfjgTvA/XAHjWTVF+T/XQa6VFq/XPz0h9wMugsq/JcM4SnhH2T+6VZ5oxoXkv45I9cIpuvS/2sBqwFsOxT99t2XtL3/0v9FEnK78yfY/QQPnoPHH3r9wL0a6s4fpv7cLx7v2tfG//tCX1Qv49T8OyKA0rYD0v2zDIf90ogFAp6qd1KJb+j+1Bo2UO8DAP5uZorJKIOU/XQuQNcZ3yL8hEuyma8bwv6Ljo/rKF/q/VhEmmFGmu79gM9wGBT71v6Mhs0c4nfM/ueJ5TDZ9qD8dRNswxbL0v9b3Q/qoENc/VMXQSrHozT8ZCHY/Z+7Hv+vQAHjV6uI/o+tuTXw08D+IgH/fLSzYv+CTbGSY9uy/2OAZ8ca78b/Kv39V3jzxv9V9s8WpgOs/UbdzAuCX/b/4yQmimqq1v9MpSbOzIvW/2ww6nn/g37/q2XjthoDQv8A0NlPOp8Q/61pX0QaWu7+fX4abNN6uv3pTDULES+6/lcQiFvuL478IV3XS66Zhv+cJ4a2xJQBAEEBi7EJz0r/WlkJHtWfnv7kU3uqJwdy/deNwmgSCiT9hALjcS/L4v7tYMCW83/q/3CaSzPvP6T+/XmPruQLaP+h118V7sN2/feckerNk6b8bnNyYgIqoP0Tr7ww/09k/YploaS8k6z8V2EzHKpABQA2dJBA7CPq/UEDOgx7R8b/a9zrnoiflPxnOmiwqBMW/WbmyxTnM8T84aJgxLpzGv9DIa+WnLu0/0rZ/DTGy878JIY8KrojsP9Gn1QBsKfI/QiZdVMfU8r/S3gm1vrv9P0ZPvE/8Ico/kXSIB8WZ9L9OEeOacujzPydhWaysT+g/e0GIvJZb0b/YCz3v5feyP4nJj9Inp/a/Pzudfgyf/j/TEXadRhKtP7rZUyWGOea/i7gF/Jpskz//ituf3qvXPyM2B6XKmtE/79BVRW4+4T9W5HHccADYv+is+HJHLbY/v6R5whm77z8=\",\"dtype\":\"float64\",\"shape\":[100]}},\"selected\":{\"id\":\"62c6f7e0-9158-45b0-b6ab-464fca741a7e\",\"type\":\"Selection\"},\"selection_policy\":{\"id\":\"080f2820-e993-4218-b292-35e2a288f8d3\",\"type\":\"UnionRenderers\"}},\"id\":\"85bb9bd4-41b9-47db-b651-ce67eb8f6fa9\",\"type\":\"ColumnDataSource\"},{\"attributes\":{\"bottom_units\":\"screen\",\"fill_alpha\":{\"value\":0.5},\"fill_color\":{\"value\":\"lightgrey\"},\"left_units\":\"screen\",\"level\":\"overlay\",\"line_alpha\":{\"value\":1.0},\"line_color\":{\"value\":\"black\"},\"line_dash\":[4,4],\"line_width\":{\"value\":2},\"plot\":null,\"render_mode\":\"css\",\"right_units\":\"screen\",\"top_units\":\"screen\"},\"id\":\"37e36d09-b012-43e2-9d75-0c2f0d52d9e3\",\"type\":\"BoxAnnotation\"},{\"attributes\":{},\"id\":\"56eb3cb8-bfb3-4a25-b0c1-372c87bbcc86\",\"type\":\"PanTool\"},{\"attributes\":{\"plot\":null,\"text\":\"\"},\"id\":\"bf6bb1fa-ba1e-49d9-80ae-763250c14b59\",\"type\":\"Title\"},{\"attributes\":{\"fill_alpha\":{\"value\":0.5},\"fill_color\":{\"value\":\"#FF0000\"},\"line_alpha\":{\"value\":0.5},\"line_color\":{\"value\":\"#FF0000\"},\"size\":{\"units\":\"screen\",\"value\":10},\"x\":{\"field\":\"x\"},\"y\":{\"field\":\"y\"}},\"id\":\"0b6711bf-b7d9-4c90-81a7-f17c433888fa\",\"type\":\"Circle\"},{\"attributes\":{},\"id\":\"e057cf1f-f2c4-4e4b-ad27-f4f7475da709\",\"type\":\"WheelZoomTool\"},{\"attributes\":{\"overlay\":{\"id\":\"37e36d09-b012-43e2-9d75-0c2f0d52d9e3\",\"type\":\"BoxAnnotation\"}},\"id\":\"5e9c84bd-ca25-4e91-9613-387c455bf6d2\",\"type\":\"BoxZoomTool\"},{\"attributes\":{},\"id\":\"af996354-32f2-455c-b9f9-cb61368bec21\",\"type\":\"SaveTool\"},{\"attributes\":{},\"id\":\"ba957aff-0a1b-47dd-bd76-41b552069839\",\"type\":\"ResetTool\"},{\"attributes\":{},\"id\":\"77f3bc32-ffe0-4e28-83eb-3873d516c49f\",\"type\":\"HelpTool\"},{\"attributes\":{\"data_source\":{\"id\":\"85bb9bd4-41b9-47db-b651-ce67eb8f6fa9\",\"type\":\"ColumnDataSource\"},\"glyph\":{\"id\":\"0b6711bf-b7d9-4c90-81a7-f17c433888fa\",\"type\":\"Circle\"},\"hover_glyph\":null,\"muted_glyph\":null,\"nonselection_glyph\":{\"id\":\"7f75b93f-dd64-4ea0-b1cd-997f1dd86544\",\"type\":\"Circle\"},\"selection_glyph\":null,\"view\":{\"id\":\"aa354cda-f9c5-4e58-82bd-7e7d16694345\",\"type\":\"CDSView\"}},\"id\":\"2adacc77-cc2b-486a-b715-2ee23d513523\",\"type\":\"GlyphRenderer\"},{\"attributes\":{\"fill_alpha\":{\"value\":0.1},\"fill_color\":{\"value\":\"#1f77b4\"},\"line_alpha\":{\"value\":0.1},\"line_color\":{\"value\":\"#1f77b4\"},\"size\":{\"units\":\"screen\",\"value\":10},\"x\":{\"field\":\"x\"},\"y\":{\"field\":\"y\"}},\"id\":\"7f75b93f-dd64-4ea0-b1cd-997f1dd86544\",\"type\":\"Circle\"}],\"root_ids\":[\"2c415490-a218-4bf1-bb5b-c5f502027576\"]},\"title\":\"Bokeh Application\",\"version\":\"0.12.16\"}};\n",
       "  var render_items = [{\"docid\":\"e96cd5c3-54ed-4858-a7d8-a34e9dffa0bc\",\"elementid\":\"186e68b4-87f3-4279-8bae-6668fd9a1383\",\"modelid\":\"2c415490-a218-4bf1-bb5b-c5f502027576\"}];\n",
       "  root.Bokeh.embed.embed_items_notebook(docs_json, render_items);\n",
       "\n",
       "  }\n",
       "  if (root.Bokeh !== undefined) {\n",
       "    embed_document(root);\n",
       "  } else {\n",
       "    var attempts = 0;\n",
       "    var timer = setInterval(function(root) {\n",
       "      if (root.Bokeh !== undefined) {\n",
       "        embed_document(root);\n",
       "        clearInterval(timer);\n",
       "      }\n",
       "      attempts++;\n",
       "      if (attempts > 100) {\n",
       "        console.log(\"Bokeh: ERROR: Unable to run BokehJS code because BokehJS library is missing\")\n",
       "        clearInterval(timer);\n",
       "      }\n",
       "    }, 10, root)\n",
       "  }\n",
       "})(window);"
      ],
      "application/vnd.bokehjs_exec.v0+json": ""
     },
     "metadata": {
      "application/vnd.bokehjs_exec.v0+json": {
       "id": "2c415490-a218-4bf1-bb5b-c5f502027576"
      }
     },
     "output_type": "display_data"
    }
   ],
   "source": [
    "p = figure(plot_width=600, plot_height=400)\n",
    "\n",
    "p.circle(df.index, df['A'], color = 'green', size=10,  alpha=0.5)\n",
    "p.circle(df.index, df['B'], color = '#FF0000', size=10,  alpha=0.5)\n",
    "\n",
    "\n",
    "p.border_fill_color = \"whitesmoke\"    # 外边界背景颜色\n",
    "p.min_border_left = 80                # 外边界背景 - 左边宽度\n",
    "p.min_border_right = 80               # 外边界背景 - 右边宽度\n",
    "p.min_border_top = 10                 # 外边界背景 - 上宽度\n",
    "p.min_border_bottom = 10              # 外边界背景 - 下宽度\n",
    "\n",
    "show(p)"
   ]
  },
  {
   "cell_type": "markdown",
   "metadata": {},
   "source": [
    "### 1.7 轴线设置\n",
    "> axis 设置\n",
    "* xaxis.axis_label \n",
    "* xaxis.axis_line_width\n",
    "* xaxis.axis_line_color \n",
    "* axis.minor_tick_in \n",
    "* axis.minor_tick_out\n",
    "* xaxis.bounds"
   ]
  },
  {
   "cell_type": "code",
   "execution_count": 12,
   "metadata": {},
   "outputs": [
    {
     "data": {
      "text/html": [
       "\n",
       "<div class=\"bk-root\">\n",
       "    <div class=\"bk-plotdiv\" id=\"851b3f19-be13-4611-b825-92f6b47aa1a9\"></div>\n",
       "</div>"
      ]
     },
     "metadata": {},
     "output_type": "display_data"
    },
    {
     "data": {
      "application/javascript": [
       "(function(root) {\n",
       "  function embed_document(root) {\n",
       "    \n",
       "  var docs_json = {\"34732b09-65a4-4b45-8726-bf06528a7560\":{\"roots\":{\"references\":[{\"attributes\":{},\"id\":\"e50da83a-8c9d-4599-b5e6-b8ae8119c410\",\"type\":\"Selection\"},{\"attributes\":{},\"id\":\"6ea8d6a2-6150-4ea2-932d-8d386c3c0905\",\"type\":\"UnionRenderers\"},{\"attributes\":{\"dimension\":1,\"plot\":{\"id\":\"f315d99d-a61c-4ecf-88da-6b9c32d2a75d\",\"subtype\":\"Figure\",\"type\":\"Plot\"},\"ticker\":{\"id\":\"f5dd91bf-956a-4080-8138-99f8eedb16fa\",\"type\":\"BasicTicker\"}},\"id\":\"de7678b0-6558-46a6-8092-74208ed21348\",\"type\":\"Grid\"},{\"attributes\":{},\"id\":\"b9a08ba7-c535-4801-84e2-484c8289d36a\",\"type\":\"BasicTickFormatter\"},{\"attributes\":{},\"id\":\"2d5b9edf-8762-4756-9d7c-8f9470ce06eb\",\"type\":\"BasicTickFormatter\"},{\"attributes\":{},\"id\":\"bf571fa5-4fc2-4387-9dc3-b1a69ef1c819\",\"type\":\"HelpTool\"},{\"attributes\":{\"callback\":null},\"id\":\"05c54cbf-e43f-420f-924c-74115b9c6f17\",\"type\":\"DataRange1d\"},{\"attributes\":{\"source\":{\"id\":\"7734c063-da88-4c00-b8dc-0a6a8f0c92e7\",\"type\":\"ColumnDataSource\"}},\"id\":\"5e7b2fb4-c1a0-40e7-902a-7481a0d06ae6\",\"type\":\"CDSView\"},{\"attributes\":{},\"id\":\"ad1bf217-f23c-49e1-aefe-cbffac4cf07c\",\"type\":\"LinearScale\"},{\"attributes\":{\"fill_alpha\":{\"value\":0.1},\"fill_color\":{\"value\":\"#1f77b4\"},\"line_alpha\":{\"value\":0.1},\"line_color\":{\"value\":\"#1f77b4\"},\"size\":{\"units\":\"screen\",\"value\":10},\"x\":{\"field\":\"x\"},\"y\":{\"field\":\"y\"}},\"id\":\"a80172d4-d63e-47a7-8d8f-c673ca6ca945\",\"type\":\"Circle\"},{\"attributes\":{\"bottom_units\":\"screen\",\"fill_alpha\":{\"value\":0.5},\"fill_color\":{\"value\":\"lightgrey\"},\"left_units\":\"screen\",\"level\":\"overlay\",\"line_alpha\":{\"value\":1.0},\"line_color\":{\"value\":\"black\"},\"line_dash\":[4,4],\"line_width\":{\"value\":2},\"plot\":null,\"render_mode\":\"css\",\"right_units\":\"screen\",\"top_units\":\"screen\"},\"id\":\"3ef9921c-2107-493f-991d-8b9e0d4c7260\",\"type\":\"BoxAnnotation\"},{\"attributes\":{},\"id\":\"6331a9dc-22fd-498f-a22d-bd764f68feec\",\"type\":\"ResetTool\"},{\"attributes\":{},\"id\":\"d06765f5-c9bf-4368-9bef-881422687ba2\",\"type\":\"LinearScale\"},{\"attributes\":{\"overlay\":{\"id\":\"3ef9921c-2107-493f-991d-8b9e0d4c7260\",\"type\":\"BoxAnnotation\"}},\"id\":\"d6988b8a-7a81-480e-86b1-b0234ef5d478\",\"type\":\"BoxZoomTool\"},{\"attributes\":{\"fill_color\":{\"value\":\"#1f77b4\"},\"line_color\":{\"value\":\"#1f77b4\"},\"size\":{\"units\":\"screen\",\"value\":10},\"x\":{\"field\":\"x\"},\"y\":{\"field\":\"y\"}},\"id\":\"c08cdcde-0747-4f75-9621-255f3c364d06\",\"type\":\"Circle\"},{\"attributes\":{\"plot\":null,\"text\":\"\"},\"id\":\"fa45707e-42a1-4d23-82c9-271842dd590d\",\"type\":\"Title\"},{\"attributes\":{\"axis_label\":\"Pressure\",\"formatter\":{\"id\":\"b9a08ba7-c535-4801-84e2-484c8289d36a\",\"type\":\"BasicTickFormatter\"},\"major_label_orientation\":\"vertical\",\"major_label_text_color\":{\"value\":\"orange\"},\"minor_tick_in\":5,\"minor_tick_out\":3,\"plot\":{\"id\":\"f315d99d-a61c-4ecf-88da-6b9c32d2a75d\",\"subtype\":\"Figure\",\"type\":\"Plot\"},\"ticker\":{\"id\":\"f5dd91bf-956a-4080-8138-99f8eedb16fa\",\"type\":\"BasicTicker\"}},\"id\":\"92a949d1-1fb6-4ce7-9341-1c8e44ddb6fb\",\"type\":\"LinearAxis\"},{\"attributes\":{},\"id\":\"a194af33-2d12-47d3-8e28-27d50a28c97b\",\"type\":\"SaveTool\"},{\"attributes\":{\"callback\":null,\"data\":{\"x\":[1,2,3,4,5],\"y\":[2,5,8,2,7]},\"selected\":{\"id\":\"e50da83a-8c9d-4599-b5e6-b8ae8119c410\",\"type\":\"Selection\"},\"selection_policy\":{\"id\":\"6ea8d6a2-6150-4ea2-932d-8d386c3c0905\",\"type\":\"UnionRenderers\"}},\"id\":\"7734c063-da88-4c00-b8dc-0a6a8f0c92e7\",\"type\":\"ColumnDataSource\"},{\"attributes\":{\"callback\":null},\"id\":\"5cbf6c13-adce-4f4f-8e3a-49913aa3d53f\",\"type\":\"DataRange1d\"},{\"attributes\":{\"below\":[{\"id\":\"408bb053-94db-4222-ac47-e0f9e741d246\",\"type\":\"LinearAxis\"}],\"left\":[{\"id\":\"92a949d1-1fb6-4ce7-9341-1c8e44ddb6fb\",\"type\":\"LinearAxis\"}],\"plot_height\":400,\"plot_width\":400,\"renderers\":[{\"id\":\"408bb053-94db-4222-ac47-e0f9e741d246\",\"type\":\"LinearAxis\"},{\"id\":\"2f67a18a-9588-4774-a56e-0a5c04befea1\",\"type\":\"Grid\"},{\"id\":\"92a949d1-1fb6-4ce7-9341-1c8e44ddb6fb\",\"type\":\"LinearAxis\"},{\"id\":\"de7678b0-6558-46a6-8092-74208ed21348\",\"type\":\"Grid\"},{\"id\":\"3ef9921c-2107-493f-991d-8b9e0d4c7260\",\"type\":\"BoxAnnotation\"},{\"id\":\"ff8acc32-9cd5-4d95-8cd5-cd7ffe0ddc57\",\"type\":\"GlyphRenderer\"}],\"title\":{\"id\":\"fa45707e-42a1-4d23-82c9-271842dd590d\",\"type\":\"Title\"},\"toolbar\":{\"id\":\"8d3aa2d1-e6a9-40c6-b0c5-72bda5deef93\",\"type\":\"Toolbar\"},\"x_range\":{\"id\":\"5cbf6c13-adce-4f4f-8e3a-49913aa3d53f\",\"type\":\"DataRange1d\"},\"x_scale\":{\"id\":\"ad1bf217-f23c-49e1-aefe-cbffac4cf07c\",\"type\":\"LinearScale\"},\"y_range\":{\"id\":\"05c54cbf-e43f-420f-924c-74115b9c6f17\",\"type\":\"DataRange1d\"},\"y_scale\":{\"id\":\"d06765f5-c9bf-4368-9bef-881422687ba2\",\"type\":\"LinearScale\"}},\"id\":\"f315d99d-a61c-4ecf-88da-6b9c32d2a75d\",\"subtype\":\"Figure\",\"type\":\"Plot\"},{\"attributes\":{\"active_drag\":\"auto\",\"active_inspect\":\"auto\",\"active_scroll\":\"auto\",\"active_tap\":\"auto\",\"tools\":[{\"id\":\"b2cea90b-cff3-48c8-a522-1ad1fc6db167\",\"type\":\"PanTool\"},{\"id\":\"63b3006b-4d0d-4e81-9a6d-778b2036bf5f\",\"type\":\"WheelZoomTool\"},{\"id\":\"d6988b8a-7a81-480e-86b1-b0234ef5d478\",\"type\":\"BoxZoomTool\"},{\"id\":\"a194af33-2d12-47d3-8e28-27d50a28c97b\",\"type\":\"SaveTool\"},{\"id\":\"6331a9dc-22fd-498f-a22d-bd764f68feec\",\"type\":\"ResetTool\"},{\"id\":\"bf571fa5-4fc2-4387-9dc3-b1a69ef1c819\",\"type\":\"HelpTool\"}]},\"id\":\"8d3aa2d1-e6a9-40c6-b0c5-72bda5deef93\",\"type\":\"Toolbar\"},{\"attributes\":{\"data_source\":{\"id\":\"7734c063-da88-4c00-b8dc-0a6a8f0c92e7\",\"type\":\"ColumnDataSource\"},\"glyph\":{\"id\":\"c08cdcde-0747-4f75-9621-255f3c364d06\",\"type\":\"Circle\"},\"hover_glyph\":null,\"muted_glyph\":null,\"nonselection_glyph\":{\"id\":\"a80172d4-d63e-47a7-8d8f-c673ca6ca945\",\"type\":\"Circle\"},\"selection_glyph\":null,\"view\":{\"id\":\"5e7b2fb4-c1a0-40e7-902a-7481a0d06ae6\",\"type\":\"CDSView\"}},\"id\":\"ff8acc32-9cd5-4d95-8cd5-cd7ffe0ddc57\",\"type\":\"GlyphRenderer\"},{\"attributes\":{},\"id\":\"f5dd91bf-956a-4080-8138-99f8eedb16fa\",\"type\":\"BasicTicker\"},{\"attributes\":{\"axis_label\":\"Temp\",\"axis_label_standoff\":30,\"axis_label_text_color\":{\"value\":\"#aa6666\"},\"axis_line_color\":{\"value\":\"red\"},\"axis_line_width\":{\"value\":3},\"bounds\":[2,4],\"formatter\":{\"id\":\"2d5b9edf-8762-4756-9d7c-8f9470ce06eb\",\"type\":\"BasicTickFormatter\"},\"minor_tick_in\":5,\"minor_tick_out\":3,\"plot\":{\"id\":\"f315d99d-a61c-4ecf-88da-6b9c32d2a75d\",\"subtype\":\"Figure\",\"type\":\"Plot\"},\"ticker\":{\"id\":\"d34c3052-9aae-4968-9173-54e535f13f5f\",\"type\":\"BasicTicker\"}},\"id\":\"408bb053-94db-4222-ac47-e0f9e741d246\",\"type\":\"LinearAxis\"},{\"attributes\":{\"plot\":{\"id\":\"f315d99d-a61c-4ecf-88da-6b9c32d2a75d\",\"subtype\":\"Figure\",\"type\":\"Plot\"},\"ticker\":{\"id\":\"d34c3052-9aae-4968-9173-54e535f13f5f\",\"type\":\"BasicTicker\"}},\"id\":\"2f67a18a-9588-4774-a56e-0a5c04befea1\",\"type\":\"Grid\"},{\"attributes\":{},\"id\":\"d34c3052-9aae-4968-9173-54e535f13f5f\",\"type\":\"BasicTicker\"},{\"attributes\":{},\"id\":\"63b3006b-4d0d-4e81-9a6d-778b2036bf5f\",\"type\":\"WheelZoomTool\"},{\"attributes\":{},\"id\":\"b2cea90b-cff3-48c8-a522-1ad1fc6db167\",\"type\":\"PanTool\"}],\"root_ids\":[\"f315d99d-a61c-4ecf-88da-6b9c32d2a75d\"]},\"title\":\"Bokeh Application\",\"version\":\"0.12.16\"}};\n",
       "  var render_items = [{\"docid\":\"34732b09-65a4-4b45-8726-bf06528a7560\",\"elementid\":\"851b3f19-be13-4611-b825-92f6b47aa1a9\",\"modelid\":\"f315d99d-a61c-4ecf-88da-6b9c32d2a75d\"}];\n",
       "  root.Bokeh.embed.embed_items_notebook(docs_json, render_items);\n",
       "\n",
       "  }\n",
       "  if (root.Bokeh !== undefined) {\n",
       "    embed_document(root);\n",
       "  } else {\n",
       "    var attempts = 0;\n",
       "    var timer = setInterval(function(root) {\n",
       "      if (root.Bokeh !== undefined) {\n",
       "        embed_document(root);\n",
       "        clearInterval(timer);\n",
       "      }\n",
       "      attempts++;\n",
       "      if (attempts > 100) {\n",
       "        console.log(\"Bokeh: ERROR: Unable to run BokehJS code because BokehJS library is missing\")\n",
       "        clearInterval(timer);\n",
       "      }\n",
       "    }, 10, root)\n",
       "  }\n",
       "})(window);"
      ],
      "application/vnd.bokehjs_exec.v0+json": ""
     },
     "metadata": {
      "application/vnd.bokehjs_exec.v0+json": {
       "id": "f315d99d-a61c-4ecf-88da-6b9c32d2a75d"
      }
     },
     "output_type": "display_data"
    }
   ],
   "source": [
    "# Axes - 轴线设置\n",
    "# 轴线标签、轴线线宽、轴线颜色\n",
    "# 字体颜色、字体角度\n",
    "\n",
    "p = figure(plot_width=400, plot_height=400)\n",
    "p.circle([1,2,3,4,5], [2,5,8,2,7], size=10)\n",
    "# 绘制图表\n",
    "\n",
    "p.xaxis.axis_label = \"Temp\"\n",
    "p.xaxis.axis_line_width = 3\n",
    "p.xaxis.axis_line_color = \"red\"\n",
    "# 设置x轴线：标签、线宽、轴线颜色\n",
    "\n",
    "p.yaxis.axis_label = \"Pressure\"\n",
    "p.yaxis.major_label_text_color = \"orange\"\n",
    "p.yaxis.major_label_orientation = \"vertical\"\n",
    "# 设置y轴线：标签、字体颜色、字体角度\n",
    "\n",
    "p.axis.minor_tick_in = 5      # 刻度往绘图区域内延伸长度\n",
    "p.axis.minor_tick_out = 3   # 刻度往绘图区域外延伸长度\n",
    "# 设置刻度\n",
    "\n",
    "# p.xaxis.axis_label = \"Lot Number\"\n",
    "p.xaxis.axis_label_text_color = \"#aa6666\"\n",
    "p.xaxis.axis_label_standoff = 30\n",
    "# 设置标签名称、字体颜色、偏移距离\n",
    "\n",
    "# p.yaxis.axis_label = \"Bin Count\"\n",
    "p.yaxis.axis_label_text_font_style = \"italic\"\n",
    "# 设置标签名称、字体\n",
    "\n",
    "p.xaxis.bounds = (2, 4)\n",
    "# 设置轴线范围\n",
    "\n",
    "show(p)"
   ]
  },
  {
   "cell_type": "markdown",
   "metadata": {},
   "source": [
    "### 1.8 格网\n",
    "> Grid 设置\n",
    "* xgrid.grid_line_color\n",
    "* ygrid.grid_line_alpha\n",
    "* ygrid.grid_line_dash\n",
    "* xgrid.minor_grid_line_color\n",
    "* xgrid.minor_grid_line_alpha\n",
    "* ygrid.band_fill_alpha\n",
    "* ygrid.band_fill_color\n",
    "* grid.bounds"
   ]
  },
  {
   "cell_type": "code",
   "execution_count": 19,
   "metadata": {},
   "outputs": [
    {
     "data": {
      "text/html": [
       "\n",
       "<div class=\"bk-root\">\n",
       "    <div class=\"bk-plotdiv\" id=\"f086cbc0-1c7d-410e-8b72-a3a9a8da514c\"></div>\n",
       "</div>"
      ]
     },
     "metadata": {},
     "output_type": "display_data"
    },
    {
     "data": {
      "application/javascript": [
       "(function(root) {\n",
       "  function embed_document(root) {\n",
       "    \n",
       "  var docs_json = {\"b0ff5907-e230-40cb-98af-6db5ee72f3f7\":{\"roots\":{\"references\":[{\"attributes\":{\"bottom_units\":\"screen\",\"fill_alpha\":{\"value\":0.5},\"fill_color\":{\"value\":\"lightgrey\"},\"left_units\":\"screen\",\"level\":\"overlay\",\"line_alpha\":{\"value\":1.0},\"line_color\":{\"value\":\"black\"},\"line_dash\":[4,4],\"line_width\":{\"value\":2},\"plot\":null,\"render_mode\":\"css\",\"right_units\":\"screen\",\"top_units\":\"screen\"},\"id\":\"39c5a7a1-e7b0-4273-be67-356e8c54c5d0\",\"type\":\"BoxAnnotation\"},{\"attributes\":{},\"id\":\"4a0e4603-522e-4363-ac4f-b5b44e5d3386\",\"type\":\"WheelZoomTool\"},{\"attributes\":{},\"id\":\"c32ddd93-cef0-4e13-82de-6c07b1187ef5\",\"type\":\"LinearScale\"},{\"attributes\":{\"overlay\":{\"id\":\"39c5a7a1-e7b0-4273-be67-356e8c54c5d0\",\"type\":\"BoxAnnotation\"}},\"id\":\"ec8f1d3d-0565-4812-9259-ffce0f388cf3\",\"type\":\"BoxZoomTool\"},{\"attributes\":{\"callback\":null},\"id\":\"9ac168c7-016e-426f-a920-1724847b3191\",\"type\":\"DataRange1d\"},{\"attributes\":{},\"id\":\"afef90dc-b58d-4cc0-aa49-d659851ef58f\",\"type\":\"SaveTool\"},{\"attributes\":{},\"id\":\"2187de32-9a77-4605-a5ec-341e9726611d\",\"type\":\"UnionRenderers\"},{\"attributes\":{\"grid_line_color\":{\"value\":\"red\"},\"minor_grid_line_alpha\":{\"value\":0.9},\"minor_grid_line_color\":{\"value\":\"blue\"},\"plot\":{\"id\":\"f5cf8b15-bffb-4be9-b5a9-485923e7a422\",\"subtype\":\"Figure\",\"type\":\"Plot\"},\"ticker\":{\"id\":\"32496a5c-71f1-4be2-acf7-de82957d6627\",\"type\":\"BasicTicker\"}},\"id\":\"aec77451-091d-4ab3-9a4e-f58729a7c0cf\",\"type\":\"Grid\"},{\"attributes\":{},\"id\":\"d2c7e5f1-6b54-4846-8a59-b715804fcf03\",\"type\":\"ResetTool\"},{\"attributes\":{\"fill_alpha\":{\"value\":0.5},\"fill_color\":{\"value\":\"green\"},\"line_alpha\":{\"value\":0.5},\"line_color\":{\"value\":\"green\"},\"size\":{\"units\":\"screen\",\"value\":10},\"x\":{\"field\":\"x\"},\"y\":{\"field\":\"y\"}},\"id\":\"0ed73f03-2272-44c9-b62b-3b1b7059a97d\",\"type\":\"Circle\"},{\"attributes\":{},\"id\":\"05636d17-9ef3-49dc-be93-17f443d093f0\",\"type\":\"HelpTool\"},{\"attributes\":{\"fill_alpha\":{\"value\":0.1},\"fill_color\":{\"value\":\"#1f77b4\"},\"line_alpha\":{\"value\":0.1},\"line_color\":{\"value\":\"#1f77b4\"},\"size\":{\"units\":\"screen\",\"value\":10},\"x\":{\"field\":\"x\"},\"y\":{\"field\":\"y\"}},\"id\":\"18135fcb-4f54-47c5-b4bd-f0a22d680787\",\"type\":\"Circle\"},{\"attributes\":{\"callback\":null,\"data\":{\"x\":[0,1,2,3,4,5,6,7,8,9,10,11,12,13,14,15,16,17,18,19,20,21,22,23,24,25,26,27,28,29,30,31,32,33,34,35,36,37,38,39,40,41,42,43,44,45,46,47,48,49,50,51,52,53,54,55,56,57,58,59,60,61,62,63,64,65,66,67,68,69,70,71,72,73,74,75,76,77,78,79,80,81,82,83,84,85,86,87,88,89,90,91,92,93,94,95,96,97,98,99],\"y\":{\"__ndarray__\":\"2jcG2wbt5r8vy6x045XjP+asZyjKYOG/IPpsnQhJ1D+XOXG9lcD1v6EiasO5zKC/M5Qqoscjyr+SVkkZGoD/v8y3xfjgTvA/XAHjWTVF+T/XQa6VFq/XPz0h9wMugsq/JcM4SnhH2T+6VZ5oxoXkv45I9cIpuvS/2sBqwFsOxT99t2XtL3/0v9FEnK78yfY/QQPnoPHH3r9wL0a6s4fpv7cLx7v2tfG//tCX1Qv49T8OyKA0rYD0v2zDIf90ogFAp6qd1KJb+j+1Bo2UO8DAP5uZorJKIOU/XQuQNcZ3yL8hEuyma8bwv6Ljo/rKF/q/VhEmmFGmu79gM9wGBT71v6Mhs0c4nfM/ueJ5TDZ9qD8dRNswxbL0v9b3Q/qoENc/VMXQSrHozT8ZCHY/Z+7Hv+vQAHjV6uI/o+tuTXw08D+IgH/fLSzYv+CTbGSY9uy/2OAZ8ca78b/Kv39V3jzxv9V9s8WpgOs/UbdzAuCX/b/4yQmimqq1v9MpSbOzIvW/2ww6nn/g37/q2XjthoDQv8A0NlPOp8Q/61pX0QaWu7+fX4abNN6uv3pTDULES+6/lcQiFvuL478IV3XS66Zhv+cJ4a2xJQBAEEBi7EJz0r/WlkJHtWfnv7kU3uqJwdy/deNwmgSCiT9hALjcS/L4v7tYMCW83/q/3CaSzPvP6T+/XmPruQLaP+h118V7sN2/feckerNk6b8bnNyYgIqoP0Tr7ww/09k/YploaS8k6z8V2EzHKpABQA2dJBA7CPq/UEDOgx7R8b/a9zrnoiflPxnOmiwqBMW/WbmyxTnM8T84aJgxLpzGv9DIa+WnLu0/0rZ/DTGy878JIY8KrojsP9Gn1QBsKfI/QiZdVMfU8r/S3gm1vrv9P0ZPvE/8Ico/kXSIB8WZ9L9OEeOacujzPydhWaysT+g/e0GIvJZb0b/YCz3v5feyP4nJj9Inp/a/Pzudfgyf/j/TEXadRhKtP7rZUyWGOea/i7gF/Jpskz//ituf3qvXPyM2B6XKmtE/79BVRW4+4T9W5HHccADYv+is+HJHLbY/v6R5whm77z8=\",\"dtype\":\"float64\",\"shape\":[100]}},\"selected\":{\"id\":\"2897b000-9034-4c3c-8d34-f1801aaca23b\",\"type\":\"Selection\"},\"selection_policy\":{\"id\":\"2187de32-9a77-4605-a5ec-341e9726611d\",\"type\":\"UnionRenderers\"}},\"id\":\"62103fbb-b281-4e63-aafb-d5b25f199ce3\",\"type\":\"ColumnDataSource\"},{\"attributes\":{\"active_drag\":\"auto\",\"active_inspect\":\"auto\",\"active_scroll\":\"auto\",\"active_tap\":\"auto\",\"tools\":[{\"id\":\"17ec60ec-960f-4809-bcce-626e09c822fd\",\"type\":\"PanTool\"},{\"id\":\"4a0e4603-522e-4363-ac4f-b5b44e5d3386\",\"type\":\"WheelZoomTool\"},{\"id\":\"ec8f1d3d-0565-4812-9259-ffce0f388cf3\",\"type\":\"BoxZoomTool\"},{\"id\":\"afef90dc-b58d-4cc0-aa49-d659851ef58f\",\"type\":\"SaveTool\"},{\"id\":\"d2c7e5f1-6b54-4846-8a59-b715804fcf03\",\"type\":\"ResetTool\"},{\"id\":\"05636d17-9ef3-49dc-be93-17f443d093f0\",\"type\":\"HelpTool\"}]},\"id\":\"facf8391-e138-4c9b-9aa5-c2c157f87bbc\",\"type\":\"Toolbar\"},{\"attributes\":{\"plot\":null,\"text\":\"\"},\"id\":\"4e2d54ea-2940-4adf-9d52-eeca83e40899\",\"type\":\"Title\"},{\"attributes\":{},\"id\":\"1461e96a-b3da-400c-aac2-3d89d6e31a4f\",\"type\":\"BasicTickFormatter\"},{\"attributes\":{\"data_source\":{\"id\":\"62103fbb-b281-4e63-aafb-d5b25f199ce3\",\"type\":\"ColumnDataSource\"},\"glyph\":{\"id\":\"c6f0f211-b632-4f9c-8c04-f04b7443c2c8\",\"type\":\"Circle\"},\"hover_glyph\":null,\"muted_glyph\":null,\"nonselection_glyph\":{\"id\":\"18135fcb-4f54-47c5-b4bd-f0a22d680787\",\"type\":\"Circle\"},\"selection_glyph\":null,\"view\":{\"id\":\"76f96c37-b90b-4eb2-8faf-28aaa4696692\",\"type\":\"CDSView\"}},\"id\":\"d002295c-8337-48e1-80c8-249461919111\",\"type\":\"GlyphRenderer\"},{\"attributes\":{},\"id\":\"4f8456ff-1480-41f0-a886-c8a6ee24d5a2\",\"type\":\"LinearScale\"},{\"attributes\":{\"source\":{\"id\":\"62103fbb-b281-4e63-aafb-d5b25f199ce3\",\"type\":\"ColumnDataSource\"}},\"id\":\"76f96c37-b90b-4eb2-8faf-28aaa4696692\",\"type\":\"CDSView\"},{\"attributes\":{},\"id\":\"c0981350-fd14-441b-b895-a95784168af4\",\"type\":\"BasicTicker\"},{\"attributes\":{},\"id\":\"813773f7-b097-4e36-a89e-0b26bca6399d\",\"type\":\"BasicTickFormatter\"},{\"attributes\":{},\"id\":\"17ec60ec-960f-4809-bcce-626e09c822fd\",\"type\":\"PanTool\"},{\"attributes\":{\"callback\":null,\"data\":{\"x\":[0,1,2,3,4,5,6,7,8,9,10,11,12,13,14,15,16,17,18,19,20,21,22,23,24,25,26,27,28,29,30,31,32,33,34,35,36,37,38,39,40,41,42,43,44,45,46,47,48,49,50,51,52,53,54,55,56,57,58,59,60,61,62,63,64,65,66,67,68,69,70,71,72,73,74,75,76,77,78,79,80,81,82,83,84,85,86,87,88,89,90,91,92,93,94,95,96,97,98,99],\"y\":{\"__ndarray__\":\"r8TG7rrZ4z/I5bnvlEbRv6GxfHsONum/daTNFRbj678QbXIu1tPuvypMLBjUpN2/D0CDJeEs/T+wBBMa0SrJv/3DTqop+vI/MFYrX29c6b9olnpsHwMAQOrHheihwfW/JC162bnz+7/OgPpFzlTyP4Lx08B+o7W/llYyh3Wntr8jh7Uxo+7Evxmcr1hKhPa/kdgTav8s6z/YFpLtUSu4v7OvWrwnlb0/jkKIhfAL2z/ibjT5Orzxv69WqvYiGAFACLuxtG5b+z8syQVkJXLiv1NswMnwCOg/uAs61shT9D8QS6n34nLTv+iE7lwqY9o/97YaYhNd978U2Y3SQHDXv/8/u/7iStY/pV2eubJh8b9GQCAWWr/Rv/oHgkQIncm/nPi+zNvvtr9LI1YsNSHev1jxdAroXbA/HROQEpFo4L+aXjidJeayv0pdCYDsbuO/bI9Hp2dN9j8HorM/MZbyv7Mb+mr9yO6/rXmKvosr0z8y2fNbjiTiv4OrHV6rAN6/k6Ie7tt48L80P9/2uVv6v5TOdrBhB/K/9WK0zaTZ4L+/WsmfE8fEv4OMhOEkxey//moaM+3U+79sOf6MMTq7P7VqIPXUKuC/kJlaYdksiD8G4ENV9MzdPwR+wJ+DX/y/aA3Lj/TC4z8nEzkbk5/xv6mBi7lkb+U/5N82WscH378O7SPDLiSOvxTyBbOL9/I/+JPa9CjX8r9zTjTM7Hjuv10K0/lk5+2/YDw8A+dN8D8oXhzpTHD9v84U3WTi+PY/TvW2vOnI5D9IK3gWQCbvPzE0G4KTwfE/C2gnLt90079Q0nbTfOfzv86vrWNpd/W/rgIIS+yAt79PlwLKi03UvxTr9Tszg9E/yEimzn6A7T9ZLTcn9HPKv7XQseKU4gLACVARRWWDYT9WZcA+oDzNP3/YJKxNpdM/vRTYk0gH9T9BQXcDeB/gvxzHEdhpB/u/HTsOssjEyT8oNAvk6Z/kv9pB6GGWDvG/AX14aa6U+L8cHsiArVmiPwR1H0lBkqO/MWL0lQNI9D81fiaVuYjjPwsqTOVVBQLAFOlfKRVk5D8=\",\"dtype\":\"float64\",\"shape\":[100]}},\"selected\":{\"id\":\"e68abd9e-0bab-4f09-a841-3928a2b2815e\",\"type\":\"Selection\"},\"selection_policy\":{\"id\":\"b4b0edde-5a56-4ead-9f27-d97d692b3aee\",\"type\":\"UnionRenderers\"}},\"id\":\"53593302-ea94-47f6-80c8-5ac881be9bc4\",\"type\":\"ColumnDataSource\"},{\"attributes\":{\"dimension\":1,\"grid_line_alpha\":{\"value\":0.8},\"grid_line_dash\":[6,4],\"plot\":{\"id\":\"f5cf8b15-bffb-4be9-b5a9-485923e7a422\",\"subtype\":\"Figure\",\"type\":\"Plot\"},\"ticker\":{\"id\":\"c0981350-fd14-441b-b895-a95784168af4\",\"type\":\"BasicTicker\"}},\"id\":\"ea398134-9dc8-4e80-9d35-15c6446dd1d0\",\"type\":\"Grid\"},{\"attributes\":{},\"id\":\"e68abd9e-0bab-4f09-a841-3928a2b2815e\",\"type\":\"Selection\"},{\"attributes\":{},\"id\":\"32496a5c-71f1-4be2-acf7-de82957d6627\",\"type\":\"BasicTicker\"},{\"attributes\":{},\"id\":\"b4b0edde-5a56-4ead-9f27-d97d692b3aee\",\"type\":\"UnionRenderers\"},{\"attributes\":{\"fill_alpha\":{\"value\":0.5},\"fill_color\":{\"value\":\"#FF0000\"},\"line_alpha\":{\"value\":0.5},\"line_color\":{\"value\":\"#FF0000\"},\"size\":{\"units\":\"screen\",\"value\":10},\"x\":{\"field\":\"x\"},\"y\":{\"field\":\"y\"}},\"id\":\"c6f0f211-b632-4f9c-8c04-f04b7443c2c8\",\"type\":\"Circle\"},{\"attributes\":{\"below\":[{\"id\":\"46b1f1dd-d1a2-4a64-b2b5-0e3d01469d2e\",\"type\":\"LinearAxis\"}],\"left\":[{\"id\":\"da2c1707-0356-4545-b38e-2b06ab6349eb\",\"type\":\"LinearAxis\"}],\"plot_height\":400,\"renderers\":[{\"id\":\"46b1f1dd-d1a2-4a64-b2b5-0e3d01469d2e\",\"type\":\"LinearAxis\"},{\"id\":\"aec77451-091d-4ab3-9a4e-f58729a7c0cf\",\"type\":\"Grid\"},{\"id\":\"da2c1707-0356-4545-b38e-2b06ab6349eb\",\"type\":\"LinearAxis\"},{\"id\":\"ea398134-9dc8-4e80-9d35-15c6446dd1d0\",\"type\":\"Grid\"},{\"id\":\"39c5a7a1-e7b0-4273-be67-356e8c54c5d0\",\"type\":\"BoxAnnotation\"},{\"id\":\"d38cd90e-666f-4c81-b358-d2836e1914b2\",\"type\":\"GlyphRenderer\"},{\"id\":\"d002295c-8337-48e1-80c8-249461919111\",\"type\":\"GlyphRenderer\"}],\"title\":{\"id\":\"4e2d54ea-2940-4adf-9d52-eeca83e40899\",\"type\":\"Title\"},\"toolbar\":{\"id\":\"facf8391-e138-4c9b-9aa5-c2c157f87bbc\",\"type\":\"Toolbar\"},\"x_range\":{\"id\":\"9ac168c7-016e-426f-a920-1724847b3191\",\"type\":\"DataRange1d\"},\"x_scale\":{\"id\":\"4f8456ff-1480-41f0-a886-c8a6ee24d5a2\",\"type\":\"LinearScale\"},\"y_range\":{\"id\":\"eec8b9bd-d61d-4c97-88ab-fc94362baf92\",\"type\":\"DataRange1d\"},\"y_scale\":{\"id\":\"c32ddd93-cef0-4e13-82de-6c07b1187ef5\",\"type\":\"LinearScale\"}},\"id\":\"f5cf8b15-bffb-4be9-b5a9-485923e7a422\",\"subtype\":\"Figure\",\"type\":\"Plot\"},{\"attributes\":{\"source\":{\"id\":\"53593302-ea94-47f6-80c8-5ac881be9bc4\",\"type\":\"ColumnDataSource\"}},\"id\":\"6cccd316-137e-4907-8fab-5b8db0cf03af\",\"type\":\"CDSView\"},{\"attributes\":{\"formatter\":{\"id\":\"1461e96a-b3da-400c-aac2-3d89d6e31a4f\",\"type\":\"BasicTickFormatter\"},\"plot\":{\"id\":\"f5cf8b15-bffb-4be9-b5a9-485923e7a422\",\"subtype\":\"Figure\",\"type\":\"Plot\"},\"ticker\":{\"id\":\"c0981350-fd14-441b-b895-a95784168af4\",\"type\":\"BasicTicker\"}},\"id\":\"da2c1707-0356-4545-b38e-2b06ab6349eb\",\"type\":\"LinearAxis\"},{\"attributes\":{\"callback\":null},\"id\":\"eec8b9bd-d61d-4c97-88ab-fc94362baf92\",\"type\":\"DataRange1d\"},{\"attributes\":{\"fill_alpha\":{\"value\":0.1},\"fill_color\":{\"value\":\"#1f77b4\"},\"line_alpha\":{\"value\":0.1},\"line_color\":{\"value\":\"#1f77b4\"},\"size\":{\"units\":\"screen\",\"value\":10},\"x\":{\"field\":\"x\"},\"y\":{\"field\":\"y\"}},\"id\":\"e2b12b28-d635-4a93-ba80-d2a0edc27e1e\",\"type\":\"Circle\"},{\"attributes\":{},\"id\":\"2897b000-9034-4c3c-8d34-f1801aaca23b\",\"type\":\"Selection\"},{\"attributes\":{\"formatter\":{\"id\":\"813773f7-b097-4e36-a89e-0b26bca6399d\",\"type\":\"BasicTickFormatter\"},\"plot\":{\"id\":\"f5cf8b15-bffb-4be9-b5a9-485923e7a422\",\"subtype\":\"Figure\",\"type\":\"Plot\"},\"ticker\":{\"id\":\"32496a5c-71f1-4be2-acf7-de82957d6627\",\"type\":\"BasicTicker\"}},\"id\":\"46b1f1dd-d1a2-4a64-b2b5-0e3d01469d2e\",\"type\":\"LinearAxis\"},{\"attributes\":{\"data_source\":{\"id\":\"53593302-ea94-47f6-80c8-5ac881be9bc4\",\"type\":\"ColumnDataSource\"},\"glyph\":{\"id\":\"0ed73f03-2272-44c9-b62b-3b1b7059a97d\",\"type\":\"Circle\"},\"hover_glyph\":null,\"muted_glyph\":null,\"nonselection_glyph\":{\"id\":\"e2b12b28-d635-4a93-ba80-d2a0edc27e1e\",\"type\":\"Circle\"},\"selection_glyph\":null,\"view\":{\"id\":\"6cccd316-137e-4907-8fab-5b8db0cf03af\",\"type\":\"CDSView\"}},\"id\":\"d38cd90e-666f-4c81-b358-d2836e1914b2\",\"type\":\"GlyphRenderer\"}],\"root_ids\":[\"f5cf8b15-bffb-4be9-b5a9-485923e7a422\"]},\"title\":\"Bokeh Application\",\"version\":\"0.12.16\"}};\n",
       "  var render_items = [{\"docid\":\"b0ff5907-e230-40cb-98af-6db5ee72f3f7\",\"elementid\":\"f086cbc0-1c7d-410e-8b72-a3a9a8da514c\",\"modelid\":\"f5cf8b15-bffb-4be9-b5a9-485923e7a422\"}];\n",
       "  root.Bokeh.embed.embed_items_notebook(docs_json, render_items);\n",
       "\n",
       "  }\n",
       "  if (root.Bokeh !== undefined) {\n",
       "    embed_document(root);\n",
       "  } else {\n",
       "    var attempts = 0;\n",
       "    var timer = setInterval(function(root) {\n",
       "      if (root.Bokeh !== undefined) {\n",
       "        embed_document(root);\n",
       "        clearInterval(timer);\n",
       "      }\n",
       "      attempts++;\n",
       "      if (attempts > 100) {\n",
       "        console.log(\"Bokeh: ERROR: Unable to run BokehJS code because BokehJS library is missing\")\n",
       "        clearInterval(timer);\n",
       "      }\n",
       "    }, 10, root)\n",
       "  }\n",
       "})(window);"
      ],
      "application/vnd.bokehjs_exec.v0+json": ""
     },
     "metadata": {
      "application/vnd.bokehjs_exec.v0+json": {
       "id": "f5cf8b15-bffb-4be9-b5a9-485923e7a422"
      }
     },
     "output_type": "display_data"
    }
   ],
   "source": [
    "# 线型设置\n",
    "\n",
    "p = figure(plot_width=600, plot_height=400)\n",
    "p.circle(df.index, df['A'], color = 'green', size=10,  alpha=0.5)\n",
    "p.circle(df.index, df['B'], color = '#FF0000', size=10,  alpha=0.5)\n",
    "# 绘制散点图\n",
    "\n",
    "p.xgrid.grid_line_color = \"red\"\n",
    "# 颜色设置，None时则不显示\n",
    "\n",
    "p.ygrid.grid_line_alpha = 0.8\n",
    "p.ygrid.grid_line_dash = [6, 4]\n",
    "# 设置透明度，虚线设置\n",
    "# dash → 通过设置间隔来做虚线\n",
    "\n",
    "p.xgrid.minor_grid_line_color = 'blue'\n",
    "p.xgrid.minor_grid_line_alpha = 0.9\n",
    "# minor_line → 设置次轴线\n",
    "\n",
    "show(p)"
   ]
  },
  {
   "cell_type": "code",
   "execution_count": 24,
   "metadata": {},
   "outputs": [
    {
     "data": {
      "text/html": [
       "\n",
       "<div class=\"bk-root\">\n",
       "    <div class=\"bk-plotdiv\" id=\"6fc35ff0-b791-40dd-b799-ddb631f4468c\"></div>\n",
       "</div>"
      ]
     },
     "metadata": {},
     "output_type": "display_data"
    },
    {
     "data": {
      "application/javascript": [
       "(function(root) {\n",
       "  function embed_document(root) {\n",
       "    \n",
       "  var docs_json = {\"396158a6-be36-4b8e-bf45-22c3ee5d359b\":{\"roots\":{\"references\":[{\"attributes\":{\"below\":[{\"id\":\"2653d34b-1f13-48a6-a766-af260bd36878\",\"type\":\"LinearAxis\"}],\"left\":[{\"id\":\"f7c569aa-9133-4679-ba9e-0ca4d827372e\",\"type\":\"LinearAxis\"}],\"plot_height\":400,\"renderers\":[{\"id\":\"2653d34b-1f13-48a6-a766-af260bd36878\",\"type\":\"LinearAxis\"},{\"id\":\"b8a69b6a-7d06-40ba-87fd-4d055a99093e\",\"type\":\"Grid\"},{\"id\":\"f7c569aa-9133-4679-ba9e-0ca4d827372e\",\"type\":\"LinearAxis\"},{\"id\":\"12e4a9fc-1ef4-4a9d-bd8e-be2a9b4eab69\",\"type\":\"Grid\"},{\"id\":\"2ba8748b-2470-4435-9087-b320f114f0d1\",\"type\":\"BoxAnnotation\"},{\"id\":\"d048ae7a-d428-4320-8528-7741fdefcb96\",\"type\":\"GlyphRenderer\"},{\"id\":\"9ec32fc5-23fd-4832-9754-c9c7c7f9d27e\",\"type\":\"GlyphRenderer\"}],\"title\":{\"id\":\"8be8d624-0c80-455a-a942-a8aeb44fd79b\",\"type\":\"Title\"},\"toolbar\":{\"id\":\"733313bd-ef8b-4c1f-8b45-2b9583188600\",\"type\":\"Toolbar\"},\"x_range\":{\"id\":\"b490f99c-a14d-4754-85d4-336a6cf80097\",\"type\":\"DataRange1d\"},\"x_scale\":{\"id\":\"a9f4e79c-ad6b-44c3-8f1a-211b7480f440\",\"type\":\"LinearScale\"},\"y_range\":{\"id\":\"dee8887d-ad47-4ee5-a26c-be090f668117\",\"type\":\"DataRange1d\"},\"y_scale\":{\"id\":\"7a7e20d2-bf8f-4bf2-a813-63d573df31ee\",\"type\":\"LinearScale\"}},\"id\":\"3712e585-ef2e-46dc-8b28-b09535498610\",\"subtype\":\"Figure\",\"type\":\"Plot\"},{\"attributes\":{\"callback\":null},\"id\":\"b490f99c-a14d-4754-85d4-336a6cf80097\",\"type\":\"DataRange1d\"},{\"attributes\":{\"plot\":null,\"text\":\"\"},\"id\":\"8be8d624-0c80-455a-a942-a8aeb44fd79b\",\"type\":\"Title\"},{\"attributes\":{\"data_source\":{\"id\":\"1fc462c5-09e6-4e1a-a800-5a9f0abd793c\",\"type\":\"ColumnDataSource\"},\"glyph\":{\"id\":\"d1c0b103-dc17-4261-b6b0-2b4c9264e318\",\"type\":\"Circle\"},\"hover_glyph\":null,\"muted_glyph\":null,\"nonselection_glyph\":{\"id\":\"73fdf000-c189-460e-9297-4990849a2a6b\",\"type\":\"Circle\"},\"selection_glyph\":null,\"view\":{\"id\":\"86110061-ffd2-41a0-b6d5-f2ab6a280e5f\",\"type\":\"CDSView\"}},\"id\":\"9ec32fc5-23fd-4832-9754-c9c7c7f9d27e\",\"type\":\"GlyphRenderer\"},{\"attributes\":{},\"id\":\"7a7e20d2-bf8f-4bf2-a813-63d573df31ee\",\"type\":\"LinearScale\"},{\"attributes\":{\"source\":{\"id\":\"0029e32c-3620-4054-a01e-f5ce8bd3aec3\",\"type\":\"ColumnDataSource\"}},\"id\":\"143dd6a0-108a-462c-b1ee-3bacdef202f8\",\"type\":\"CDSView\"},{\"attributes\":{\"callback\":null,\"data\":{\"x\":[0,1,2,3,4,5,6,7,8,9,10,11,12,13,14,15,16,17,18,19,20,21,22,23,24,25,26,27,28,29,30,31,32,33,34,35,36,37,38,39,40,41,42,43,44,45,46,47,48,49,50,51,52,53,54,55,56,57,58,59,60,61,62,63,64,65,66,67,68,69,70,71,72,73,74,75,76,77,78,79,80,81,82,83,84,85,86,87,88,89,90,91,92,93,94,95,96,97,98,99],\"y\":{\"__ndarray__\":\"r8TG7rrZ4z/I5bnvlEbRv6GxfHsONum/daTNFRbj678QbXIu1tPuvypMLBjUpN2/D0CDJeEs/T+wBBMa0SrJv/3DTqop+vI/MFYrX29c6b9olnpsHwMAQOrHheihwfW/JC162bnz+7/OgPpFzlTyP4Lx08B+o7W/llYyh3Wntr8jh7Uxo+7Evxmcr1hKhPa/kdgTav8s6z/YFpLtUSu4v7OvWrwnlb0/jkKIhfAL2z/ibjT5Orzxv69WqvYiGAFACLuxtG5b+z8syQVkJXLiv1NswMnwCOg/uAs61shT9D8QS6n34nLTv+iE7lwqY9o/97YaYhNd978U2Y3SQHDXv/8/u/7iStY/pV2eubJh8b9GQCAWWr/Rv/oHgkQIncm/nPi+zNvvtr9LI1YsNSHev1jxdAroXbA/HROQEpFo4L+aXjidJeayv0pdCYDsbuO/bI9Hp2dN9j8HorM/MZbyv7Mb+mr9yO6/rXmKvosr0z8y2fNbjiTiv4OrHV6rAN6/k6Ie7tt48L80P9/2uVv6v5TOdrBhB/K/9WK0zaTZ4L+/WsmfE8fEv4OMhOEkxey//moaM+3U+79sOf6MMTq7P7VqIPXUKuC/kJlaYdksiD8G4ENV9MzdPwR+wJ+DX/y/aA3Lj/TC4z8nEzkbk5/xv6mBi7lkb+U/5N82WscH378O7SPDLiSOvxTyBbOL9/I/+JPa9CjX8r9zTjTM7Hjuv10K0/lk5+2/YDw8A+dN8D8oXhzpTHD9v84U3WTi+PY/TvW2vOnI5D9IK3gWQCbvPzE0G4KTwfE/C2gnLt90079Q0nbTfOfzv86vrWNpd/W/rgIIS+yAt79PlwLKi03UvxTr9Tszg9E/yEimzn6A7T9ZLTcn9HPKv7XQseKU4gLACVARRWWDYT9WZcA+oDzNP3/YJKxNpdM/vRTYk0gH9T9BQXcDeB/gvxzHEdhpB/u/HTsOssjEyT8oNAvk6Z/kv9pB6GGWDvG/AX14aa6U+L8cHsiArVmiPwR1H0lBkqO/MWL0lQNI9D81fiaVuYjjPwsqTOVVBQLAFOlfKRVk5D8=\",\"dtype\":\"float64\",\"shape\":[100]}},\"selected\":{\"id\":\"45d6e10f-caec-462a-8fad-ed8a0edd4802\",\"type\":\"Selection\"},\"selection_policy\":{\"id\":\"e755622c-2ed2-4025-8072-ad9c6d1932a6\",\"type\":\"UnionRenderers\"}},\"id\":\"0029e32c-3620-4054-a01e-f5ce8bd3aec3\",\"type\":\"ColumnDataSource\"},{\"attributes\":{},\"id\":\"a9f4e79c-ad6b-44c3-8f1a-211b7480f440\",\"type\":\"LinearScale\"},{\"attributes\":{\"fill_alpha\":{\"value\":0.5},\"fill_color\":{\"value\":\"#FF0000\"},\"line_alpha\":{\"value\":0.5},\"line_color\":{\"value\":\"#FF0000\"},\"size\":{\"units\":\"screen\",\"value\":10},\"x\":{\"field\":\"x\"},\"y\":{\"field\":\"y\"}},\"id\":\"d1c0b103-dc17-4261-b6b0-2b4c9264e318\",\"type\":\"Circle\"},{\"attributes\":{\"callback\":null},\"id\":\"dee8887d-ad47-4ee5-a26c-be090f668117\",\"type\":\"DataRange1d\"},{\"attributes\":{},\"id\":\"5f491197-f53b-457c-9186-279fc1f228dc\",\"type\":\"Selection\"},{\"attributes\":{\"active_drag\":\"auto\",\"active_inspect\":\"auto\",\"active_scroll\":\"auto\",\"active_tap\":\"auto\",\"tools\":[{\"id\":\"141084f7-62da-4f3d-bf8d-0241dfc8839d\",\"type\":\"PanTool\"},{\"id\":\"310b0d51-eb8a-4609-860e-cca7f72e5c41\",\"type\":\"WheelZoomTool\"},{\"id\":\"cbbf6969-9761-4b8a-bdb6-dcfa76aec7cb\",\"type\":\"BoxZoomTool\"},{\"id\":\"db1c9e32-80f6-4e0b-b3cd-4ee045369b50\",\"type\":\"SaveTool\"},{\"id\":\"47f18a0f-afa5-4a31-8db8-031c6c64a0bf\",\"type\":\"ResetTool\"},{\"id\":\"adee5697-38ec-4a3b-a373-d39de699bc66\",\"type\":\"HelpTool\"}]},\"id\":\"733313bd-ef8b-4c1f-8b45-2b9583188600\",\"type\":\"Toolbar\"},{\"attributes\":{\"data_source\":{\"id\":\"0029e32c-3620-4054-a01e-f5ce8bd3aec3\",\"type\":\"ColumnDataSource\"},\"glyph\":{\"id\":\"eef612dd-7edc-4edc-9c97-265c4d93f8ba\",\"type\":\"Circle\"},\"hover_glyph\":null,\"muted_glyph\":null,\"nonselection_glyph\":{\"id\":\"76694b3c-e791-4026-b996-25207294c693\",\"type\":\"Circle\"},\"selection_glyph\":null,\"view\":{\"id\":\"143dd6a0-108a-462c-b1ee-3bacdef202f8\",\"type\":\"CDSView\"}},\"id\":\"d048ae7a-d428-4320-8528-7741fdefcb96\",\"type\":\"GlyphRenderer\"},{\"attributes\":{\"band_fill_alpha\":{\"value\":0.1},\"band_fill_color\":{\"value\":\"navy\"},\"bounds\":[-1,1],\"dimension\":1,\"plot\":{\"id\":\"3712e585-ef2e-46dc-8b28-b09535498610\",\"subtype\":\"Figure\",\"type\":\"Plot\"},\"ticker\":{\"id\":\"1469e43d-c311-4c91-be4a-638fc07bafde\",\"type\":\"BasicTicker\"}},\"id\":\"12e4a9fc-1ef4-4a9d-bd8e-be2a9b4eab69\",\"type\":\"Grid\"},{\"attributes\":{},\"id\":\"1469e43d-c311-4c91-be4a-638fc07bafde\",\"type\":\"BasicTicker\"},{\"attributes\":{\"formatter\":{\"id\":\"4d4f67ec-2ded-4d64-b915-071ee3325d86\",\"type\":\"BasicTickFormatter\"},\"plot\":{\"id\":\"3712e585-ef2e-46dc-8b28-b09535498610\",\"subtype\":\"Figure\",\"type\":\"Plot\"},\"ticker\":{\"id\":\"1469e43d-c311-4c91-be4a-638fc07bafde\",\"type\":\"BasicTicker\"}},\"id\":\"f7c569aa-9133-4679-ba9e-0ca4d827372e\",\"type\":\"LinearAxis\"},{\"attributes\":{},\"id\":\"48c2d2f4-bb3b-43a5-b5b6-b25b4af52407\",\"type\":\"BasicTicker\"},{\"attributes\":{},\"id\":\"bfe48817-68d4-4307-8545-b717388bef84\",\"type\":\"BasicTickFormatter\"},{\"attributes\":{\"formatter\":{\"id\":\"bfe48817-68d4-4307-8545-b717388bef84\",\"type\":\"BasicTickFormatter\"},\"plot\":{\"id\":\"3712e585-ef2e-46dc-8b28-b09535498610\",\"subtype\":\"Figure\",\"type\":\"Plot\"},\"ticker\":{\"id\":\"48c2d2f4-bb3b-43a5-b5b6-b25b4af52407\",\"type\":\"BasicTicker\"}},\"id\":\"2653d34b-1f13-48a6-a766-af260bd36878\",\"type\":\"LinearAxis\"},{\"attributes\":{\"bounds\":[-1,1],\"grid_line_color\":{\"value\":null},\"plot\":{\"id\":\"3712e585-ef2e-46dc-8b28-b09535498610\",\"subtype\":\"Figure\",\"type\":\"Plot\"},\"ticker\":{\"id\":\"48c2d2f4-bb3b-43a5-b5b6-b25b4af52407\",\"type\":\"BasicTicker\"}},\"id\":\"b8a69b6a-7d06-40ba-87fd-4d055a99093e\",\"type\":\"Grid\"},{\"attributes\":{\"fill_alpha\":{\"value\":0.1},\"fill_color\":{\"value\":\"#1f77b4\"},\"line_alpha\":{\"value\":0.1},\"line_color\":{\"value\":\"#1f77b4\"},\"size\":{\"units\":\"screen\",\"value\":10},\"x\":{\"field\":\"x\"},\"y\":{\"field\":\"y\"}},\"id\":\"73fdf000-c189-460e-9297-4990849a2a6b\",\"type\":\"Circle\"},{\"attributes\":{},\"id\":\"45d6e10f-caec-462a-8fad-ed8a0edd4802\",\"type\":\"Selection\"},{\"attributes\":{},\"id\":\"310b0d51-eb8a-4609-860e-cca7f72e5c41\",\"type\":\"WheelZoomTool\"},{\"attributes\":{},\"id\":\"b43b8800-e334-498e-b851-f1d526fcbe6a\",\"type\":\"UnionRenderers\"},{\"attributes\":{\"overlay\":{\"id\":\"2ba8748b-2470-4435-9087-b320f114f0d1\",\"type\":\"BoxAnnotation\"}},\"id\":\"cbbf6969-9761-4b8a-bdb6-dcfa76aec7cb\",\"type\":\"BoxZoomTool\"},{\"attributes\":{},\"id\":\"adee5697-38ec-4a3b-a373-d39de699bc66\",\"type\":\"HelpTool\"},{\"attributes\":{},\"id\":\"4d4f67ec-2ded-4d64-b915-071ee3325d86\",\"type\":\"BasicTickFormatter\"},{\"attributes\":{},\"id\":\"141084f7-62da-4f3d-bf8d-0241dfc8839d\",\"type\":\"PanTool\"},{\"attributes\":{\"bottom_units\":\"screen\",\"fill_alpha\":{\"value\":0.5},\"fill_color\":{\"value\":\"lightgrey\"},\"left_units\":\"screen\",\"level\":\"overlay\",\"line_alpha\":{\"value\":1.0},\"line_color\":{\"value\":\"black\"},\"line_dash\":[4,4],\"line_width\":{\"value\":2},\"plot\":null,\"render_mode\":\"css\",\"right_units\":\"screen\",\"top_units\":\"screen\"},\"id\":\"2ba8748b-2470-4435-9087-b320f114f0d1\",\"type\":\"BoxAnnotation\"},{\"attributes\":{\"callback\":null,\"data\":{\"x\":[0,1,2,3,4,5,6,7,8,9,10,11,12,13,14,15,16,17,18,19,20,21,22,23,24,25,26,27,28,29,30,31,32,33,34,35,36,37,38,39,40,41,42,43,44,45,46,47,48,49,50,51,52,53,54,55,56,57,58,59,60,61,62,63,64,65,66,67,68,69,70,71,72,73,74,75,76,77,78,79,80,81,82,83,84,85,86,87,88,89,90,91,92,93,94,95,96,97,98,99],\"y\":{\"__ndarray__\":\"2jcG2wbt5r8vy6x045XjP+asZyjKYOG/IPpsnQhJ1D+XOXG9lcD1v6EiasO5zKC/M5Qqoscjyr+SVkkZGoD/v8y3xfjgTvA/XAHjWTVF+T/XQa6VFq/XPz0h9wMugsq/JcM4SnhH2T+6VZ5oxoXkv45I9cIpuvS/2sBqwFsOxT99t2XtL3/0v9FEnK78yfY/QQPnoPHH3r9wL0a6s4fpv7cLx7v2tfG//tCX1Qv49T8OyKA0rYD0v2zDIf90ogFAp6qd1KJb+j+1Bo2UO8DAP5uZorJKIOU/XQuQNcZ3yL8hEuyma8bwv6Ljo/rKF/q/VhEmmFGmu79gM9wGBT71v6Mhs0c4nfM/ueJ5TDZ9qD8dRNswxbL0v9b3Q/qoENc/VMXQSrHozT8ZCHY/Z+7Hv+vQAHjV6uI/o+tuTXw08D+IgH/fLSzYv+CTbGSY9uy/2OAZ8ca78b/Kv39V3jzxv9V9s8WpgOs/UbdzAuCX/b/4yQmimqq1v9MpSbOzIvW/2ww6nn/g37/q2XjthoDQv8A0NlPOp8Q/61pX0QaWu7+fX4abNN6uv3pTDULES+6/lcQiFvuL478IV3XS66Zhv+cJ4a2xJQBAEEBi7EJz0r/WlkJHtWfnv7kU3uqJwdy/deNwmgSCiT9hALjcS/L4v7tYMCW83/q/3CaSzPvP6T+/XmPruQLaP+h118V7sN2/feckerNk6b8bnNyYgIqoP0Tr7ww/09k/YploaS8k6z8V2EzHKpABQA2dJBA7CPq/UEDOgx7R8b/a9zrnoiflPxnOmiwqBMW/WbmyxTnM8T84aJgxLpzGv9DIa+WnLu0/0rZ/DTGy878JIY8KrojsP9Gn1QBsKfI/QiZdVMfU8r/S3gm1vrv9P0ZPvE/8Ico/kXSIB8WZ9L9OEeOacujzPydhWaysT+g/e0GIvJZb0b/YCz3v5feyP4nJj9Inp/a/Pzudfgyf/j/TEXadRhKtP7rZUyWGOea/i7gF/Jpskz//ituf3qvXPyM2B6XKmtE/79BVRW4+4T9W5HHccADYv+is+HJHLbY/v6R5whm77z8=\",\"dtype\":\"float64\",\"shape\":[100]}},\"selected\":{\"id\":\"5f491197-f53b-457c-9186-279fc1f228dc\",\"type\":\"Selection\"},\"selection_policy\":{\"id\":\"b43b8800-e334-498e-b851-f1d526fcbe6a\",\"type\":\"UnionRenderers\"}},\"id\":\"1fc462c5-09e6-4e1a-a800-5a9f0abd793c\",\"type\":\"ColumnDataSource\"},{\"attributes\":{\"fill_alpha\":{\"value\":0.5},\"fill_color\":{\"value\":\"green\"},\"line_alpha\":{\"value\":0.5},\"line_color\":{\"value\":\"green\"},\"size\":{\"units\":\"screen\",\"value\":10},\"x\":{\"field\":\"x\"},\"y\":{\"field\":\"y\"}},\"id\":\"eef612dd-7edc-4edc-9c97-265c4d93f8ba\",\"type\":\"Circle\"},{\"attributes\":{},\"id\":\"47f18a0f-afa5-4a31-8db8-031c6c64a0bf\",\"type\":\"ResetTool\"},{\"attributes\":{},\"id\":\"db1c9e32-80f6-4e0b-b3cd-4ee045369b50\",\"type\":\"SaveTool\"},{\"attributes\":{},\"id\":\"e755622c-2ed2-4025-8072-ad9c6d1932a6\",\"type\":\"UnionRenderers\"},{\"attributes\":{\"fill_alpha\":{\"value\":0.1},\"fill_color\":{\"value\":\"#1f77b4\"},\"line_alpha\":{\"value\":0.1},\"line_color\":{\"value\":\"#1f77b4\"},\"size\":{\"units\":\"screen\",\"value\":10},\"x\":{\"field\":\"x\"},\"y\":{\"field\":\"y\"}},\"id\":\"76694b3c-e791-4026-b996-25207294c693\",\"type\":\"Circle\"},{\"attributes\":{\"source\":{\"id\":\"1fc462c5-09e6-4e1a-a800-5a9f0abd793c\",\"type\":\"ColumnDataSource\"}},\"id\":\"86110061-ffd2-41a0-b6d5-f2ab6a280e5f\",\"type\":\"CDSView\"}],\"root_ids\":[\"3712e585-ef2e-46dc-8b28-b09535498610\"]},\"title\":\"Bokeh Application\",\"version\":\"0.12.16\"}};\n",
       "  var render_items = [{\"docid\":\"396158a6-be36-4b8e-bf45-22c3ee5d359b\",\"elementid\":\"6fc35ff0-b791-40dd-b799-ddb631f4468c\",\"modelid\":\"3712e585-ef2e-46dc-8b28-b09535498610\"}];\n",
       "  root.Bokeh.embed.embed_items_notebook(docs_json, render_items);\n",
       "\n",
       "  }\n",
       "  if (root.Bokeh !== undefined) {\n",
       "    embed_document(root);\n",
       "  } else {\n",
       "    var attempts = 0;\n",
       "    var timer = setInterval(function(root) {\n",
       "      if (root.Bokeh !== undefined) {\n",
       "        embed_document(root);\n",
       "        clearInterval(timer);\n",
       "      }\n",
       "      attempts++;\n",
       "      if (attempts > 100) {\n",
       "        console.log(\"Bokeh: ERROR: Unable to run BokehJS code because BokehJS library is missing\")\n",
       "        clearInterval(timer);\n",
       "      }\n",
       "    }, 10, root)\n",
       "  }\n",
       "})(window);"
      ],
      "application/vnd.bokehjs_exec.v0+json": ""
     },
     "metadata": {
      "application/vnd.bokehjs_exec.v0+json": {
       "id": "3712e585-ef2e-46dc-8b28-b09535498610"
      }
     },
     "output_type": "display_data"
    }
   ],
   "source": [
    "# 颜色填充\n",
    "\n",
    "p = figure(plot_width=600, plot_height=400)\n",
    "p.circle(df.index, df['A'], color = 'green', size=10,  alpha=0.5)\n",
    "p.circle(df.index, df['B'], color = '#FF0000', size=10,  alpha=0.5)\n",
    "# 绘制散点图\n",
    "\n",
    "p.xgrid.grid_line_color = None\n",
    "# 设置颜色为空\n",
    "\n",
    "p.ygrid.band_fill_alpha = 0.1\n",
    "p.ygrid.band_fill_color = \"navy\"\n",
    "# 设置颜色填充，及透明度\n",
    "\n",
    "p.grid.bounds = (-1, 1)\n",
    "# 设置填充边界\n",
    "\n",
    "show(p)"
   ]
  },
  {
   "cell_type": "markdown",
   "metadata": {},
   "source": [
    "### 1.9  图例\n",
    "> Legend 设置\n",
    "* legend.location \n",
    "* legend.orientation \n",
    "* legend.label_text_font\n",
    "* legend.label_text_font_style \n",
    "* legend.label_text_color\n",
    "* legend.label_text_font_size\n",
    "* legend.border_line_width \n",
    "* legend.border_line_color \n",
    "* legend.border_line_alpha\n",
    "* legend.background_fill_color\n",
    "* legend.background_fill_alpha"
   ]
  },
  {
   "cell_type": "code",
   "execution_count": 30,
   "metadata": {},
   "outputs": [
    {
     "data": {
      "text/html": [
       "\n",
       "<div class=\"bk-root\">\n",
       "    <div class=\"bk-plotdiv\" id=\"7c4798e4-4fcc-455f-b67c-6a5fdd6f9b49\"></div>\n",
       "</div>"
      ]
     },
     "metadata": {},
     "output_type": "display_data"
    },
    {
     "data": {
      "application/javascript": [
       "(function(root) {\n",
       "  function embed_document(root) {\n",
       "    \n",
       "  var docs_json = {\"304d7902-bcf4-4fd1-b5e8-bb77f15f62b6\":{\"roots\":{\"references\":[{\"attributes\":{\"callback\":null,\"data\":{\"x\":{\"__ndarray__\":\"AAAAAAAAAACRGkt8Vz/AP5EaS3xXP9A/2qdwOgNf2D+RGkt8Vz/gPzXhXVstT+Q/2qdwOgNf6D9+boMZ2W7sP5EaS3xXP/A/433Ua0JH8j814V1bLU/0P4dE50oYV/Y/2qdwOgNf+D8sC/op7mb6P35ugxnZbvw/0NEMCcR2/j+RGkt8Vz8AQDrMD/RMQwFA433Ua0JHAkCML5njN0sDQDXhXVstTwRA3pIi0yJTBUCHROdKGFcGQDD2q8INWwdA2qdwOgNfCECDWTWy+GIJQCwL+inuZgpA1by+oeNqC0B+boMZ2W4MQCcgSJHOcg1A0NEMCcR2DkB5g9GAuXoPQJEaS3xXPxBAZnMtOFLBEEA6zA/0TEMRQA8l8q9HxRFA433Ua0JHEkC41rYnPckSQIwvmeM3SxNAYYh7nzLNE0A14V1bLU8UQAo6QBco0RRA3pIi0yJTFUCz6wSPHdUVQIdE50oYVxZAXJ3JBhPZFkAw9qvCDVsXQAVPjn4I3RdA2qdwOgNfGECuAFP2/eAYQINZNbL4YhlAV7IXbvPkGUAsC/op7mYaQABk3OXo6BpA1by+oeNqG0CpFaFd3uwbQH5ugxnZbhxAUsdl1dPwHEAnIEiRznIdQPt4Kk3J9B1A0NEMCcR2HkCkKu/EvvgeQHmD0YC5eh9ATdyzPLT8H0CRGkt8Vz8gQPtGPNpUgCBAZnMtOFLBIEDQnx6WTwIhQDrMD/RMQyFApPgAUkqEIUAPJfKvR8UhQHlR4w1FBiJA433Ua0JHIkBNqsXJP4giQLjWtic9ySJAIgOohToKI0CML5njN0sjQPZbikE1jCNAYYh7nzLNI0DLtGz9Lw4kQDXhXVstTyRAoA1PuSqQJEAKOkAXKNEkQHRmMXUlEiVA3pIi0yJTJUBJvxMxIJQlQLPrBI8d1SVAHRj27BoWJkCHROdKGFcmQPJw2KgVmCZAXJ3JBhPZJkDGybpkEBonQDD2q8INWydAmyKdIAucJ0AFT45+CN0nQG97f9wFHihA2qdwOgNfKEBE1GGYAKAoQK4AU/b94ChAGC1EVPshKUA=\",\"dtype\":\"float64\",\"shape\":[100]},\"y\":{\"__ndarray__\":\"AAAAAAAAAADwgwJ4LjTQP5qI2QHPEuA/+5MNU1HJ5z8ZTT7q2B3vP0aFmgwa+fI/ABg/lCAV9j+IQCEcMdb4P3fOhmLzMPs/EyzujrQb/T/9Izwlj47+PxccgYyLg/8/g6xao7j2/z9mZrL8O+b/P7+X94FZUv8/xVNiW3I9/j9RB8Ai+6v8P5FWKYlppPo/oSg6uxkv+D/Sh2bxK1b1PyZGRbpaJfI/8qg+VZVT7T/4C4p0qOPlP+UppLIiM9w/3FNHxZdVyD/J23zJpD6wv+3ENsZjOdS/wo12/ecH4r/dgWKM2Kjpv2MTsJELcPC/83ixWvXH87+358MBZM72v5eCD4nhdvm/rExY6Hq2+7+TIxAn7YP9vwSssILL1/6/70I4BJ6s/7/vOc8G+P7/vzTGy1KGzf+/3176khQZ/7/C8a4NiuT9vzGcHq/dNPy/l0FFlgER+r+EGZN4xoH3vx8WPFK3kfS/Cli7+O1M8b+HQNqEwoHrv9kfIiFb+OO/gKyggGI52L8EhrXMjDzAvyGGtcyMPMA/jqyggGI52D/gHyIhW/jjP4BA2oTCges/DVi7+O1M8T8cFjxSt5H0P4cZk3jGgfc/lUFFlgER+j8ynB6v3TT8P8Hxrg2K5P0/4F76khQZ/z80xstShs3/P+85zwb4/v8/8EI4BJ6s/z8DrLCCy9f+P5UjECftg/0/p0xY6Hq2+z+Vgg+J4Xb5P7fnwwFkzvY/9nixWvXH8z9dE7CRC3DwP9eBYozYqOk/w412/ecH4j/+xDbGYznUP0/bfMmkPrA/+FNHxZdVyL/UKaSyIjPcv+gLinSo4+W/+Kg+VZVT7b8lRkW6WiXyv8+HZvErVvW/pig6uxkv+L+TVimJaaT6v1EHwCL7q/y/xFNiW3I9/r/Al/eBWVL/v2Zmsvw75v+/g6xao7j2/78YHIGMi4P/v/sjPCWPjv6/EyzujrQb/b94zoZi8zD7v4xAIRwx1vi//Bc/lCAV9r9GhZoMGvnyvx5NPurYHe+/65MNU1HJ57+SiNkBzxLgv/GDAnguNNC/B1wUMyam0bw=\",\"dtype\":\"float64\",\"shape\":[100]}},\"selected\":{\"id\":\"4c7d3b61-84c7-47bf-b709-f6ab913ede20\",\"type\":\"Selection\"},\"selection_policy\":{\"id\":\"f9b6b8f0-ea37-4e8f-8630-73eed2d33d28\",\"type\":\"UnionRenderers\"}},\"id\":\"e849915f-a813-468f-bd61-23659e3cb538\",\"type\":\"ColumnDataSource\"},{\"attributes\":{\"label\":{\"value\":\"sin(x)\"},\"renderers\":[{\"id\":\"c92b7821-7f93-434a-877e-aaa9ba39c80f\",\"type\":\"GlyphRenderer\"},{\"id\":\"4837ed46-5536-4283-911d-fe49fb5c0a9d\",\"type\":\"GlyphRenderer\"}]},\"id\":\"badb642a-781d-4b25-83c1-9141108ee894\",\"type\":\"LegendItem\"},{\"attributes\":{},\"id\":\"ec569ba9-f1ba-4846-9699-b1d70185a6d3\",\"type\":\"Selection\"},{\"attributes\":{\"line_alpha\":0.1,\"line_color\":\"#1f77b4\",\"x\":{\"field\":\"x\"},\"y\":{\"field\":\"y\"}},\"id\":\"80a22862-4e31-4f7b-8799-7e0157676e2c\",\"type\":\"Line\"},{\"attributes\":{},\"id\":\"f0356590-d885-44b7-aafd-9765322b04d2\",\"type\":\"UnionRenderers\"},{\"attributes\":{\"source\":{\"id\":\"edf7a13d-21b4-4897-bbae-4ab24d780ffc\",\"type\":\"ColumnDataSource\"}},\"id\":\"14959298-adba-4e01-8c6b-cefbd5f6a1fb\",\"type\":\"CDSView\"},{\"attributes\":{\"data_source\":{\"id\":\"edf7a13d-21b4-4897-bbae-4ab24d780ffc\",\"type\":\"ColumnDataSource\"},\"glyph\":{\"id\":\"f4b19b9c-ed4d-472b-aa69-4f1ae0d02d17\",\"type\":\"Line\"},\"hover_glyph\":null,\"muted_glyph\":null,\"nonselection_glyph\":{\"id\":\"80a22862-4e31-4f7b-8799-7e0157676e2c\",\"type\":\"Line\"},\"selection_glyph\":null,\"view\":{\"id\":\"14959298-adba-4e01-8c6b-cefbd5f6a1fb\",\"type\":\"CDSView\"}},\"id\":\"4837ed46-5536-4283-911d-fe49fb5c0a9d\",\"type\":\"GlyphRenderer\"},{\"attributes\":{\"callback\":null,\"data\":{\"x\":{\"__ndarray__\":\"AAAAAAAAAACRGkt8Vz/AP5EaS3xXP9A/2qdwOgNf2D+RGkt8Vz/gPzXhXVstT+Q/2qdwOgNf6D9+boMZ2W7sP5EaS3xXP/A/433Ua0JH8j814V1bLU/0P4dE50oYV/Y/2qdwOgNf+D8sC/op7mb6P35ugxnZbvw/0NEMCcR2/j+RGkt8Vz8AQDrMD/RMQwFA433Ua0JHAkCML5njN0sDQDXhXVstTwRA3pIi0yJTBUCHROdKGFcGQDD2q8INWwdA2qdwOgNfCECDWTWy+GIJQCwL+inuZgpA1by+oeNqC0B+boMZ2W4MQCcgSJHOcg1A0NEMCcR2DkB5g9GAuXoPQJEaS3xXPxBAZnMtOFLBEEA6zA/0TEMRQA8l8q9HxRFA433Ua0JHEkC41rYnPckSQIwvmeM3SxNAYYh7nzLNE0A14V1bLU8UQAo6QBco0RRA3pIi0yJTFUCz6wSPHdUVQIdE50oYVxZAXJ3JBhPZFkAw9qvCDVsXQAVPjn4I3RdA2qdwOgNfGECuAFP2/eAYQINZNbL4YhlAV7IXbvPkGUAsC/op7mYaQABk3OXo6BpA1by+oeNqG0CpFaFd3uwbQH5ugxnZbhxAUsdl1dPwHEAnIEiRznIdQPt4Kk3J9B1A0NEMCcR2HkCkKu/EvvgeQHmD0YC5eh9ATdyzPLT8H0CRGkt8Vz8gQPtGPNpUgCBAZnMtOFLBIEDQnx6WTwIhQDrMD/RMQyFApPgAUkqEIUAPJfKvR8UhQHlR4w1FBiJA433Ua0JHIkBNqsXJP4giQLjWtic9ySJAIgOohToKI0CML5njN0sjQPZbikE1jCNAYYh7nzLNI0DLtGz9Lw4kQDXhXVstTyRAoA1PuSqQJEAKOkAXKNEkQHRmMXUlEiVA3pIi0yJTJUBJvxMxIJQlQLPrBI8d1SVAHRj27BoWJkCHROdKGFcmQPJw2KgVmCZAXJ3JBhPZJkDGybpkEBonQDD2q8INWydAmyKdIAucJ0AFT45+CN0nQG97f9wFHihA2qdwOgNfKEBE1GGYAKAoQK4AU/b94ChAGC1EVPshKUA=\",\"dtype\":\"float64\",\"shape\":[100]},\"y\":{\"__ndarray__\":\"AAAAAAAAAADwgwJ4LjTAP5qI2QHPEtA/+5MNU1HJ1z8ZTT7q2B3fP0aFmgwa+eI/ABg/lCAV5j+IQCEcMdboP3fOhmLzMOs/EyzujrQb7T/9Izwlj47uPxccgYyLg+8/g6xao7j27z9mZrL8O+bvP7+X94FZUu8/xVNiW3I97j9RB8Ai+6vsP5FWKYlppOo/oSg6uxkv6D/Sh2bxK1blPyZGRbpaJeI/8qg+VZVT3T/4C4p0qOPVP+UppLIiM8w/3FNHxZdVuD/J23zJpD6gv+3ENsZjOcS/wo12/ecH0r/dgWKM2KjZv2MTsJELcOC/83ixWvXH47+358MBZM7mv5eCD4nhdum/rExY6Hq267+TIxAn7YPtvwSssILL1+6/70I4BJ6s77/vOc8G+P7vvzTGy1KGze+/3176khQZ77/C8a4NiuTtvzGcHq/dNOy/l0FFlgER6r+EGZN4xoHnvx8WPFK3keS/Cli7+O1M4b+HQNqEwoHbv9kfIiFb+NO/gKyggGI5yL8EhrXMjDywvyGGtcyMPLA/jqyggGI5yD/gHyIhW/jTP4BA2oTCgds/DVi7+O1M4T8cFjxSt5HkP4cZk3jGgec/lUFFlgER6j8ynB6v3TTsP8Hxrg2K5O0/4F76khQZ7z80xstShs3vP+85zwb4/u8/8EI4BJ6s7z8DrLCCy9fuP5UjECftg+0/p0xY6Hq26z+Vgg+J4XbpP7fnwwFkzuY/9nixWvXH4z9dE7CRC3DgP9eBYozYqNk/w412/ecH0j/+xDbGYznEP0/bfMmkPqA/+FNHxZdVuL/UKaSyIjPMv+gLinSo49W/+Kg+VZVT3b8lRkW6WiXiv8+HZvErVuW/pig6uxkv6L+TVimJaaTqv1EHwCL7q+y/xFNiW3I97r/Al/eBWVLvv2Zmsvw75u+/g6xao7j2778YHIGMi4Pvv/sjPCWPju6/EyzujrQb7b94zoZi8zDrv4xAIRwx1ui//Bc/lCAV5r9GhZoMGvnivx5NPurYHd+/65MNU1HJ17+SiNkBzxLQv/GDAnguNMC/B1wUMyamwbw=\",\"dtype\":\"float64\",\"shape\":[100]}},\"selected\":{\"id\":\"ec569ba9-f1ba-4846-9699-b1d70185a6d3\",\"type\":\"Selection\"},\"selection_policy\":{\"id\":\"126898e3-5522-4dac-94f6-6a6fe1c57eac\",\"type\":\"UnionRenderers\"}},\"id\":\"edf7a13d-21b4-4897-bbae-4ab24d780ffc\",\"type\":\"ColumnDataSource\"},{\"attributes\":{\"source\":{\"id\":\"7e8ee96e-0ce7-4bea-a3bd-ce1419a5dfca\",\"type\":\"ColumnDataSource\"}},\"id\":\"1d549a26-45f4-4c1d-976d-c5b048d3bf44\",\"type\":\"CDSView\"},{\"attributes\":{\"plot\":null,\"text\":\"\"},\"id\":\"0d13e030-0fa7-48bf-b69a-df83da90c1f5\",\"type\":\"Title\"},{\"attributes\":{},\"id\":\"4c7d3b61-84c7-47bf-b709-f6ab913ede20\",\"type\":\"Selection\"},{\"attributes\":{},\"id\":\"948024c4-5d61-4d44-9f0e-0a1fb25f7516\",\"type\":\"Selection\"},{\"attributes\":{\"line_alpha\":0.1,\"line_color\":\"#1f77b4\",\"line_dash\":[4,4],\"line_width\":2,\"x\":{\"field\":\"x\"},\"y\":{\"field\":\"y\"}},\"id\":\"d9a03802-ad82-428f-b34d-04861ec0b6a6\",\"type\":\"Line\"},{\"attributes\":{\"data_source\":{\"id\":\"7e8ee96e-0ce7-4bea-a3bd-ce1419a5dfca\",\"type\":\"ColumnDataSource\"},\"glyph\":{\"id\":\"af0797b3-ec3c-4336-ae4d-65f66bc5ea41\",\"type\":\"Square\"},\"hover_glyph\":null,\"muted_glyph\":null,\"nonselection_glyph\":{\"id\":\"35f1cc68-59e0-4e0f-94da-7637ade650bc\",\"type\":\"Square\"},\"selection_glyph\":null,\"view\":{\"id\":\"1d549a26-45f4-4c1d-976d-c5b048d3bf44\",\"type\":\"CDSView\"}},\"id\":\"f428316b-a2cf-4027-a1b5-13968346757d\",\"type\":\"GlyphRenderer\"},{\"attributes\":{\"source\":{\"id\":\"e849915f-a813-468f-bd61-23659e3cb538\",\"type\":\"ColumnDataSource\"}},\"id\":\"ed1c608a-8d86-47cf-a942-af0d28f50c11\",\"type\":\"CDSView\"},{\"attributes\":{\"callback\":null},\"id\":\"97347569-e610-46ee-b114-75cb91652ee2\",\"type\":\"DataRange1d\"},{\"attributes\":{\"line_color\":\"orange\",\"line_dash\":[4,4],\"line_width\":2,\"x\":{\"field\":\"x\"},\"y\":{\"field\":\"y\"}},\"id\":\"7f57f240-2eee-4e27-82cb-0ac9c0a4a6eb\",\"type\":\"Line\"},{\"attributes\":{},\"id\":\"88cfb0ce-5716-4c9b-bf87-e32347092116\",\"type\":\"HelpTool\"},{\"attributes\":{},\"id\":\"126898e3-5522-4dac-94f6-6a6fe1c57eac\",\"type\":\"UnionRenderers\"},{\"attributes\":{\"data_source\":{\"id\":\"e849915f-a813-468f-bd61-23659e3cb538\",\"type\":\"ColumnDataSource\"},\"glyph\":{\"id\":\"7f57f240-2eee-4e27-82cb-0ac9c0a4a6eb\",\"type\":\"Line\"},\"hover_glyph\":null,\"muted_glyph\":null,\"nonselection_glyph\":{\"id\":\"d9a03802-ad82-428f-b34d-04861ec0b6a6\",\"type\":\"Line\"},\"selection_glyph\":null,\"view\":{\"id\":\"ed1c608a-8d86-47cf-a942-af0d28f50c11\",\"type\":\"CDSView\"}},\"id\":\"833512a8-f3d4-4bbb-84c6-e871a918af40\",\"type\":\"GlyphRenderer\"},{\"attributes\":{\"callback\":null,\"data\":{\"x\":{\"__ndarray__\":\"AAAAAAAAAACRGkt8Vz/AP5EaS3xXP9A/2qdwOgNf2D+RGkt8Vz/gPzXhXVstT+Q/2qdwOgNf6D9+boMZ2W7sP5EaS3xXP/A/433Ua0JH8j814V1bLU/0P4dE50oYV/Y/2qdwOgNf+D8sC/op7mb6P35ugxnZbvw/0NEMCcR2/j+RGkt8Vz8AQDrMD/RMQwFA433Ua0JHAkCML5njN0sDQDXhXVstTwRA3pIi0yJTBUCHROdKGFcGQDD2q8INWwdA2qdwOgNfCECDWTWy+GIJQCwL+inuZgpA1by+oeNqC0B+boMZ2W4MQCcgSJHOcg1A0NEMCcR2DkB5g9GAuXoPQJEaS3xXPxBAZnMtOFLBEEA6zA/0TEMRQA8l8q9HxRFA433Ua0JHEkC41rYnPckSQIwvmeM3SxNAYYh7nzLNE0A14V1bLU8UQAo6QBco0RRA3pIi0yJTFUCz6wSPHdUVQIdE50oYVxZAXJ3JBhPZFkAw9qvCDVsXQAVPjn4I3RdA2qdwOgNfGECuAFP2/eAYQINZNbL4YhlAV7IXbvPkGUAsC/op7mYaQABk3OXo6BpA1by+oeNqG0CpFaFd3uwbQH5ugxnZbhxAUsdl1dPwHEAnIEiRznIdQPt4Kk3J9B1A0NEMCcR2HkCkKu/EvvgeQHmD0YC5eh9ATdyzPLT8H0CRGkt8Vz8gQPtGPNpUgCBAZnMtOFLBIEDQnx6WTwIhQDrMD/RMQyFApPgAUkqEIUAPJfKvR8UhQHlR4w1FBiJA433Ua0JHIkBNqsXJP4giQLjWtic9ySJAIgOohToKI0CML5njN0sjQPZbikE1jCNAYYh7nzLNI0DLtGz9Lw4kQDXhXVstTyRAoA1PuSqQJEAKOkAXKNEkQHRmMXUlEiVA3pIi0yJTJUBJvxMxIJQlQLPrBI8d1SVAHRj27BoWJkCHROdKGFcmQPJw2KgVmCZAXJ3JBhPZJkDGybpkEBonQDD2q8INWydAmyKdIAucJ0AFT45+CN0nQG97f9wFHihA2qdwOgNfKEBE1GGYAKAoQK4AU/b94ChAGC1EVPshKUA=\",\"dtype\":\"float64\",\"shape\":[100]},\"y\":{\"__ndarray__\":\"AAAAAAAAAADwgwJ4LjTAP5qI2QHPEtA/+5MNU1HJ1z8ZTT7q2B3fP0aFmgwa+eI/ABg/lCAV5j+IQCEcMdboP3fOhmLzMOs/EyzujrQb7T/9Izwlj47uPxccgYyLg+8/g6xao7j27z9mZrL8O+bvP7+X94FZUu8/xVNiW3I97j9RB8Ai+6vsP5FWKYlppOo/oSg6uxkv6D/Sh2bxK1blPyZGRbpaJeI/8qg+VZVT3T/4C4p0qOPVP+UppLIiM8w/3FNHxZdVuD/J23zJpD6gv+3ENsZjOcS/wo12/ecH0r/dgWKM2KjZv2MTsJELcOC/83ixWvXH47+358MBZM7mv5eCD4nhdum/rExY6Hq267+TIxAn7YPtvwSssILL1+6/70I4BJ6s77/vOc8G+P7vvzTGy1KGze+/3176khQZ77/C8a4NiuTtvzGcHq/dNOy/l0FFlgER6r+EGZN4xoHnvx8WPFK3keS/Cli7+O1M4b+HQNqEwoHbv9kfIiFb+NO/gKyggGI5yL8EhrXMjDywvyGGtcyMPLA/jqyggGI5yD/gHyIhW/jTP4BA2oTCgds/DVi7+O1M4T8cFjxSt5HkP4cZk3jGgec/lUFFlgER6j8ynB6v3TTsP8Hxrg2K5O0/4F76khQZ7z80xstShs3vP+85zwb4/u8/8EI4BJ6s7z8DrLCCy9fuP5UjECftg+0/p0xY6Hq26z+Vgg+J4XbpP7fnwwFkzuY/9nixWvXH4z9dE7CRC3DgP9eBYozYqNk/w412/ecH0j/+xDbGYznEP0/bfMmkPqA/+FNHxZdVuL/UKaSyIjPMv+gLinSo49W/+Kg+VZVT3b8lRkW6WiXiv8+HZvErVuW/pig6uxkv6L+TVimJaaTqv1EHwCL7q+y/xFNiW3I97r/Al/eBWVLvv2Zmsvw75u+/g6xao7j2778YHIGMi4Pvv/sjPCWPju6/EyzujrQb7b94zoZi8zDrv4xAIRwx1ui//Bc/lCAV5r9GhZoMGvnivx5NPurYHd+/65MNU1HJ17+SiNkBzxLQv/GDAnguNMC/B1wUMyamwbw=\",\"dtype\":\"float64\",\"shape\":[100]}},\"selected\":{\"id\":\"948024c4-5d61-4d44-9f0e-0a1fb25f7516\",\"type\":\"Selection\"},\"selection_policy\":{\"id\":\"f0356590-d885-44b7-aafd-9765322b04d2\",\"type\":\"UnionRenderers\"}},\"id\":\"282959e8-f8a4-4930-a09f-d1d865c88d56\",\"type\":\"ColumnDataSource\"},{\"attributes\":{},\"id\":\"fdbfc2de-e8e9-448f-b4dd-56c2adb32425\",\"type\":\"LinearScale\"},{\"attributes\":{\"callback\":null,\"data\":{\"x\":{\"__ndarray__\":\"AAAAAAAAAACRGkt8Vz/AP5EaS3xXP9A/2qdwOgNf2D+RGkt8Vz/gPzXhXVstT+Q/2qdwOgNf6D9+boMZ2W7sP5EaS3xXP/A/433Ua0JH8j814V1bLU/0P4dE50oYV/Y/2qdwOgNf+D8sC/op7mb6P35ugxnZbvw/0NEMCcR2/j+RGkt8Vz8AQDrMD/RMQwFA433Ua0JHAkCML5njN0sDQDXhXVstTwRA3pIi0yJTBUCHROdKGFcGQDD2q8INWwdA2qdwOgNfCECDWTWy+GIJQCwL+inuZgpA1by+oeNqC0B+boMZ2W4MQCcgSJHOcg1A0NEMCcR2DkB5g9GAuXoPQJEaS3xXPxBAZnMtOFLBEEA6zA/0TEMRQA8l8q9HxRFA433Ua0JHEkC41rYnPckSQIwvmeM3SxNAYYh7nzLNE0A14V1bLU8UQAo6QBco0RRA3pIi0yJTFUCz6wSPHdUVQIdE50oYVxZAXJ3JBhPZFkAw9qvCDVsXQAVPjn4I3RdA2qdwOgNfGECuAFP2/eAYQINZNbL4YhlAV7IXbvPkGUAsC/op7mYaQABk3OXo6BpA1by+oeNqG0CpFaFd3uwbQH5ugxnZbhxAUsdl1dPwHEAnIEiRznIdQPt4Kk3J9B1A0NEMCcR2HkCkKu/EvvgeQHmD0YC5eh9ATdyzPLT8H0CRGkt8Vz8gQPtGPNpUgCBAZnMtOFLBIEDQnx6WTwIhQDrMD/RMQyFApPgAUkqEIUAPJfKvR8UhQHlR4w1FBiJA433Ua0JHIkBNqsXJP4giQLjWtic9ySJAIgOohToKI0CML5njN0sjQPZbikE1jCNAYYh7nzLNI0DLtGz9Lw4kQDXhXVstTyRAoA1PuSqQJEAKOkAXKNEkQHRmMXUlEiVA3pIi0yJTJUBJvxMxIJQlQLPrBI8d1SVAHRj27BoWJkCHROdKGFcmQPJw2KgVmCZAXJ3JBhPZJkDGybpkEBonQDD2q8INWydAmyKdIAucJ0AFT45+CN0nQG97f9wFHihA2qdwOgNfKEBE1GGYAKAoQK4AU/b94ChAGC1EVPshKUA=\",\"dtype\":\"float64\",\"shape\":[100]},\"y\":{\"__ndarray__\":\"AAAAAAAAAADoxQO0RU7YP+dMxoI2HOg//C5K/vzW8T/Tua6vYlb3P+nH5xKndfw/AFIvb9iPAEBm8BjVpKACQNka5Ym2ZARADqEya8fUBUD+Gu1b6+oGQBHVYKmoogdAYgGEegr5B0DMzIX9rOwHQM+xeSHDfQdA1L6JxBWuBkB9BRBa/IAFQO0A3yZP+wNAeZ5rTFMjAkDe5Qz1oAAAQDnpZxcIOPs/tv7u/6/+9T/6iGdXvmrwP2wf+wVaJuU/5X710zFA0j+uSTsu9124v2QnUqkVVt6/o9Qx/NsL679m4Ulpoj7zvxQdiFoRqPi/bDUKCPCr/b/J7VIByxoBwPGhyyYpGQPAgTlCLtzIBMCuGkzd8SIGwAOBBKLYIQfAMzIqg3bBB8BzaxsFOv8HwKfUGL4k2gfAJ8c7bs9SB8BSNUOKZ2sGwCX1VkOmJwXAMfGzMMGMA8AjU27aVKEBwC4hWvuS2v6/DwQZ9WTz+b9lsKPjUaH0v8Yvs7GI9O2/YIF44Akr4r8GSRAz01rIvzJJEDPTWsg/aoF44Akr4j/QL7OxiPTtP2Cwo+NRofQ/FAQZ9WTz+T8qIVr7ktr+PyVTbtpUoQFAMPGzMMGMA0Am9VZDpicFQFE1Q4pnawZAKMc7bs9SB0Cn1Bi+JNoHQHNrGwU6/wdANDIqg3bBB0ACgQSi2CEHQLAaTN3xIgZAfTlCLtzIBEDwocsmKRkDQMntUgHLGgFAcTUKCPCr/T8MHYhaEaj4P2HhSWmiPvM/pNQx/NsL6z99J1KpFVbeP/ZIOy73Xbg/+n710zFA0r9fH/sFWiblv+6IZ1e+avC/uv7u/6/+9b846WcXCDj7v9vlDPWgAADAfJ5rTFMjAsDuAN8mT/sDwH0FEFr8gAXA076JxBWuBsDQsXkhw30HwMzMhf2s7AfAYgGEegr5B8AS1WCpqKIHwPwa7Vvr6gbADqEya8fUBcDaGuWJtmQEwGnwGNWkoALA/VEvb9iPAMDpx+cSp3X8v9a5rq9iVve/8C5K/vzW8b/bTMaCNhzov+rFA7RFTti/CoqeTDl52rw=\",\"dtype\":\"float64\",\"shape\":[100]}},\"selected\":{\"id\":\"272ae157-ef45-4653-8363-2d379d92143d\",\"type\":\"Selection\"},\"selection_policy\":{\"id\":\"4ccfc829-421d-42a3-8cd9-4cef81f65701\",\"type\":\"UnionRenderers\"}},\"id\":\"7e8ee96e-0ce7-4bea-a3bd-ce1419a5dfca\",\"type\":\"ColumnDataSource\"},{\"attributes\":{\"active_drag\":\"auto\",\"active_inspect\":\"auto\",\"active_scroll\":\"auto\",\"active_tap\":\"auto\",\"tools\":[{\"id\":\"b9bf997b-e5b6-43ee-9cc3-fb3f23e76539\",\"type\":\"PanTool\"},{\"id\":\"36200444-3d04-484a-9ec6-ef7e3876a447\",\"type\":\"WheelZoomTool\"},{\"id\":\"11c9d7e7-c770-4a99-a1bc-4793129ac3ae\",\"type\":\"BoxZoomTool\"},{\"id\":\"c1e00775-6ec2-4603-a6a2-df52f2aaa826\",\"type\":\"SaveTool\"},{\"id\":\"381275bd-5a43-4a91-bb65-f807e3884546\",\"type\":\"ResetTool\"},{\"id\":\"88cfb0ce-5716-4c9b-bf87-e32347092116\",\"type\":\"HelpTool\"}]},\"id\":\"f8f86ff5-7a33-44b5-aa44-d9dabdc45904\",\"type\":\"Toolbar\"},{\"attributes\":{\"data_source\":{\"id\":\"3e8b3d90-5940-447c-ba40-ecdaa275b669\",\"type\":\"ColumnDataSource\"},\"glyph\":{\"id\":\"ffe60d56-973b-495e-b5e5-1b49519b55ec\",\"type\":\"Line\"},\"hover_glyph\":null,\"muted_glyph\":null,\"nonselection_glyph\":{\"id\":\"903d76db-460e-45f2-99d4-e5db761a15ee\",\"type\":\"Line\"},\"selection_glyph\":null,\"view\":{\"id\":\"034e4ccb-4976-49ad-92a0-4ff7b7b90246\",\"type\":\"CDSView\"}},\"id\":\"f5640c9f-09b8-4ee4-af45-fce6766410ba\",\"type\":\"GlyphRenderer\"},{\"attributes\":{},\"id\":\"f9b6b8f0-ea37-4e8f-8630-73eed2d33d28\",\"type\":\"UnionRenderers\"},{\"attributes\":{\"below\":[{\"id\":\"40d8810d-136b-4a26-926e-b8967ff86cea\",\"type\":\"LinearAxis\"}],\"left\":[{\"id\":\"ffca0844-91fd-4d66-a9f1-e9a8d5c7d172\",\"type\":\"LinearAxis\"}],\"plot_height\":400,\"renderers\":[{\"id\":\"40d8810d-136b-4a26-926e-b8967ff86cea\",\"type\":\"LinearAxis\"},{\"id\":\"508c1adf-4206-44c5-b2de-fb30c6659b74\",\"type\":\"Grid\"},{\"id\":\"ffca0844-91fd-4d66-a9f1-e9a8d5c7d172\",\"type\":\"LinearAxis\"},{\"id\":\"595a632a-2d3d-42e6-8f28-2bb0afc4d3a4\",\"type\":\"Grid\"},{\"id\":\"3d735c08-fd90-4032-bb23-aa4172c70d09\",\"type\":\"BoxAnnotation\"},{\"id\":\"c97df69e-cc8f-44ce-b32d-4afbdc1273aa\",\"type\":\"Legend\"},{\"id\":\"c92b7821-7f93-434a-877e-aaa9ba39c80f\",\"type\":\"GlyphRenderer\"},{\"id\":\"4837ed46-5536-4283-911d-fe49fb5c0a9d\",\"type\":\"GlyphRenderer\"},{\"id\":\"833512a8-f3d4-4bbb-84c6-e871a918af40\",\"type\":\"GlyphRenderer\"},{\"id\":\"f428316b-a2cf-4027-a1b5-13968346757d\",\"type\":\"GlyphRenderer\"},{\"id\":\"f5640c9f-09b8-4ee4-af45-fce6766410ba\",\"type\":\"GlyphRenderer\"},{\"id\":\"24362c8d-e4bb-4845-8a64-fd91197a9625\",\"type\":\"GlyphRenderer\"},{\"id\":\"c197526d-7f63-474a-abe9-c1e158e8bbd7\",\"type\":\"GlyphRenderer\"}],\"title\":{\"id\":\"0d13e030-0fa7-48bf-b69a-df83da90c1f5\",\"type\":\"Title\"},\"toolbar\":{\"id\":\"f8f86ff5-7a33-44b5-aa44-d9dabdc45904\",\"type\":\"Toolbar\"},\"x_range\":{\"id\":\"f2b5ce94-6e01-43bd-bb74-10b7e48b6215\",\"type\":\"DataRange1d\"},\"x_scale\":{\"id\":\"ab99485c-82c9-4f83-b9d1-83c846dde5b7\",\"type\":\"LinearScale\"},\"y_range\":{\"id\":\"97347569-e610-46ee-b114-75cb91652ee2\",\"type\":\"DataRange1d\"},\"y_scale\":{\"id\":\"fdbfc2de-e8e9-448f-b4dd-56c2adb32425\",\"type\":\"LinearScale\"}},\"id\":\"e39fb6db-06c1-434b-a386-56818f3c7e59\",\"subtype\":\"Figure\",\"type\":\"Plot\"},{\"attributes\":{\"label\":{\"value\":\"2*sin(x)\"},\"renderers\":[{\"id\":\"833512a8-f3d4-4bbb-84c6-e871a918af40\",\"type\":\"GlyphRenderer\"}]},\"id\":\"d480577f-365f-4365-813d-147f7bdad92d\",\"type\":\"LegendItem\"},{\"attributes\":{\"fill_color\":{\"value\":\"#1f77b4\"},\"line_color\":{\"value\":\"#1f77b4\"},\"x\":{\"field\":\"x\"},\"y\":{\"field\":\"y\"}},\"id\":\"fc08c20e-9709-462e-9aff-59d386c81ce8\",\"type\":\"Circle\"},{\"attributes\":{\"callback\":null,\"data\":{\"x\":{\"__ndarray__\":\"AAAAAAAAAACRGkt8Vz/AP5EaS3xXP9A/2qdwOgNf2D+RGkt8Vz/gPzXhXVstT+Q/2qdwOgNf6D9+boMZ2W7sP5EaS3xXP/A/433Ua0JH8j814V1bLU/0P4dE50oYV/Y/2qdwOgNf+D8sC/op7mb6P35ugxnZbvw/0NEMCcR2/j+RGkt8Vz8AQDrMD/RMQwFA433Ua0JHAkCML5njN0sDQDXhXVstTwRA3pIi0yJTBUCHROdKGFcGQDD2q8INWwdA2qdwOgNfCECDWTWy+GIJQCwL+inuZgpA1by+oeNqC0B+boMZ2W4MQCcgSJHOcg1A0NEMCcR2DkB5g9GAuXoPQJEaS3xXPxBAZnMtOFLBEEA6zA/0TEMRQA8l8q9HxRFA433Ua0JHEkC41rYnPckSQIwvmeM3SxNAYYh7nzLNE0A14V1bLU8UQAo6QBco0RRA3pIi0yJTFUCz6wSPHdUVQIdE50oYVxZAXJ3JBhPZFkAw9qvCDVsXQAVPjn4I3RdA2qdwOgNfGECuAFP2/eAYQINZNbL4YhlAV7IXbvPkGUAsC/op7mYaQABk3OXo6BpA1by+oeNqG0CpFaFd3uwbQH5ugxnZbhxAUsdl1dPwHEAnIEiRznIdQPt4Kk3J9B1A0NEMCcR2HkCkKu/EvvgeQHmD0YC5eh9ATdyzPLT8H0CRGkt8Vz8gQPtGPNpUgCBAZnMtOFLBIEDQnx6WTwIhQDrMD/RMQyFApPgAUkqEIUAPJfKvR8UhQHlR4w1FBiJA433Ua0JHIkBNqsXJP4giQLjWtic9ySJAIgOohToKI0CML5njN0sjQPZbikE1jCNAYYh7nzLNI0DLtGz9Lw4kQDXhXVstTyRAoA1PuSqQJEAKOkAXKNEkQHRmMXUlEiVA3pIi0yJTJUBJvxMxIJQlQLPrBI8d1SVAHRj27BoWJkCHROdKGFcmQPJw2KgVmCZAXJ3JBhPZJkDGybpkEBonQDD2q8INWydAmyKdIAucJ0AFT45+CN0nQG97f9wFHihA2qdwOgNfKEBE1GGYAKAoQK4AU/b94ChAGC1EVPshKUA=\",\"dtype\":\"float64\",\"shape\":[100]},\"y\":{\"__ndarray__\":\"AAAAAAAAAADoxQO0RU7YP+dMxoI2HOg//C5K/vzW8T/Tua6vYlb3P+nH5xKndfw/AFIvb9iPAEBm8BjVpKACQNka5Ym2ZARADqEya8fUBUD+Gu1b6+oGQBHVYKmoogdAYgGEegr5B0DMzIX9rOwHQM+xeSHDfQdA1L6JxBWuBkB9BRBa/IAFQO0A3yZP+wNAeZ5rTFMjAkDe5Qz1oAAAQDnpZxcIOPs/tv7u/6/+9T/6iGdXvmrwP2wf+wVaJuU/5X710zFA0j+uSTsu9124v2QnUqkVVt6/o9Qx/NsL679m4Ulpoj7zvxQdiFoRqPi/bDUKCPCr/b/J7VIByxoBwPGhyyYpGQPAgTlCLtzIBMCuGkzd8SIGwAOBBKLYIQfAMzIqg3bBB8BzaxsFOv8HwKfUGL4k2gfAJ8c7bs9SB8BSNUOKZ2sGwCX1VkOmJwXAMfGzMMGMA8AjU27aVKEBwC4hWvuS2v6/DwQZ9WTz+b9lsKPjUaH0v8Yvs7GI9O2/YIF44Akr4r8GSRAz01rIvzJJEDPTWsg/aoF44Akr4j/QL7OxiPTtP2Cwo+NRofQ/FAQZ9WTz+T8qIVr7ktr+PyVTbtpUoQFAMPGzMMGMA0Am9VZDpicFQFE1Q4pnawZAKMc7bs9SB0Cn1Bi+JNoHQHNrGwU6/wdANDIqg3bBB0ACgQSi2CEHQLAaTN3xIgZAfTlCLtzIBEDwocsmKRkDQMntUgHLGgFAcTUKCPCr/T8MHYhaEaj4P2HhSWmiPvM/pNQx/NsL6z99J1KpFVbeP/ZIOy73Xbg/+n710zFA0r9fH/sFWiblv+6IZ1e+avC/uv7u/6/+9b846WcXCDj7v9vlDPWgAADAfJ5rTFMjAsDuAN8mT/sDwH0FEFr8gAXA076JxBWuBsDQsXkhw30HwMzMhf2s7AfAYgGEegr5B8AS1WCpqKIHwPwa7Vvr6gbADqEya8fUBcDaGuWJtmQEwGnwGNWkoALA/VEvb9iPAMDpx+cSp3X8v9a5rq9iVve/8C5K/vzW8b/bTMaCNhzov+rFA7RFTti/CoqeTDl52rw=\",\"dtype\":\"float64\",\"shape\":[100]}},\"selected\":{\"id\":\"6e1916ef-0f9b-49db-841f-aeb8fdcf6967\",\"type\":\"Selection\"},\"selection_policy\":{\"id\":\"959384f5-c7f8-426c-b19e-15c3822d8b57\",\"type\":\"UnionRenderers\"}},\"id\":\"3e8b3d90-5940-447c-ba40-ecdaa275b669\",\"type\":\"ColumnDataSource\"},{\"attributes\":{\"fill_alpha\":{\"value\":0.1},\"fill_color\":{\"value\":\"#1f77b4\"},\"line_alpha\":{\"value\":0.1},\"line_color\":{\"value\":\"#1f77b4\"},\"x\":{\"field\":\"x\"},\"y\":{\"field\":\"y\"}},\"id\":\"35f1cc68-59e0-4e0f-94da-7637ade650bc\",\"type\":\"Square\"},{\"attributes\":{\"fill_color\":{\"value\":null},\"line_color\":{\"value\":\"green\"},\"x\":{\"field\":\"x\"},\"y\":{\"field\":\"y\"}},\"id\":\"af0797b3-ec3c-4336-ae4d-65f66bc5ea41\",\"type\":\"Square\"},{\"attributes\":{\"data_source\":{\"id\":\"282959e8-f8a4-4930-a09f-d1d865c88d56\",\"type\":\"ColumnDataSource\"},\"glyph\":{\"id\":\"fc08c20e-9709-462e-9aff-59d386c81ce8\",\"type\":\"Circle\"},\"hover_glyph\":null,\"muted_glyph\":null,\"nonselection_glyph\":{\"id\":\"b0160a6e-5553-4590-9f35-9b3f64b8bdc1\",\"type\":\"Circle\"},\"selection_glyph\":null,\"view\":{\"id\":\"5b0575c0-b354-42cb-8af1-3c7c288420c8\",\"type\":\"CDSView\"}},\"id\":\"c92b7821-7f93-434a-877e-aaa9ba39c80f\",\"type\":\"GlyphRenderer\"},{\"attributes\":{\"callback\":null,\"data\":{\"x\":{\"__ndarray__\":\"AAAAAAAAAACRGkt8Vz/AP5EaS3xXP9A/2qdwOgNf2D+RGkt8Vz/gPzXhXVstT+Q/2qdwOgNf6D9+boMZ2W7sP5EaS3xXP/A/433Ua0JH8j814V1bLU/0P4dE50oYV/Y/2qdwOgNf+D8sC/op7mb6P35ugxnZbvw/0NEMCcR2/j+RGkt8Vz8AQDrMD/RMQwFA433Ua0JHAkCML5njN0sDQDXhXVstTwRA3pIi0yJTBUCHROdKGFcGQDD2q8INWwdA2qdwOgNfCECDWTWy+GIJQCwL+inuZgpA1by+oeNqC0B+boMZ2W4MQCcgSJHOcg1A0NEMCcR2DkB5g9GAuXoPQJEaS3xXPxBAZnMtOFLBEEA6zA/0TEMRQA8l8q9HxRFA433Ua0JHEkC41rYnPckSQIwvmeM3SxNAYYh7nzLNE0A14V1bLU8UQAo6QBco0RRA3pIi0yJTFUCz6wSPHdUVQIdE50oYVxZAXJ3JBhPZFkAw9qvCDVsXQAVPjn4I3RdA2qdwOgNfGECuAFP2/eAYQINZNbL4YhlAV7IXbvPkGUAsC/op7mYaQABk3OXo6BpA1by+oeNqG0CpFaFd3uwbQH5ugxnZbhxAUsdl1dPwHEAnIEiRznIdQPt4Kk3J9B1A0NEMCcR2HkCkKu/EvvgeQHmD0YC5eh9ATdyzPLT8H0CRGkt8Vz8gQPtGPNpUgCBAZnMtOFLBIEDQnx6WTwIhQDrMD/RMQyFApPgAUkqEIUAPJfKvR8UhQHlR4w1FBiJA433Ua0JHIkBNqsXJP4giQLjWtic9ySJAIgOohToKI0CML5njN0sjQPZbikE1jCNAYYh7nzLNI0DLtGz9Lw4kQDXhXVstTyRAoA1PuSqQJEAKOkAXKNEkQHRmMXUlEiVA3pIi0yJTJUBJvxMxIJQlQLPrBI8d1SVAHRj27BoWJkCHROdKGFcmQPJw2KgVmCZAXJ3JBhPZJkDGybpkEBonQDD2q8INWydAmyKdIAucJ0AFT45+CN0nQG97f9wFHihA2qdwOgNfKEBE1GGYAKAoQK4AU/b94ChAGC1EVPshKUA=\",\"dtype\":\"float64\",\"shape\":[100]},\"y\":{\"__ndarray__\":\"AAAAAAAAAADwgwJ4LjTgP5qI2QHPEvA/+5MNU1HJ9z8ZTT7q2B3/P0aFmgwa+QJAABg/lCAVBkCIQCEcMdYIQHfOhmLzMAtAEyzujrQbDUD9Izwlj44OQBccgYyLgw9Ag6xao7j2D0BmZrL8O+YPQL+X94FZUg9AxVNiW3I9DkBRB8Ai+6sMQJFWKYlppApAoSg6uxkvCEDSh2bxK1YFQCZGRbpaJQJA8qg+VZVT/T/4C4p0qOP1P+UppLIiM+w/3FNHxZdV2D/J23zJpD7Av+3ENsZjOeS/wo12/ecH8r/dgWKM2Kj5v2MTsJELcADA83ixWvXHA8C358MBZM4GwJeCD4nhdgnArExY6Hq2C8CTIxAn7YMNwASssILL1w7A70I4BJ6sD8DvOc8G+P4PwDTGy1KGzQ/A3176khQZD8DC8a4NiuQNwDGcHq/dNAzAl0FFlgERCsCEGZN4xoEHwB8WPFK3kQTACli7+O1MAcCHQNqEwoH7v9kfIiFb+PO/gKyggGI56L8EhrXMjDzQvyGGtcyMPNA/jqyggGI56D/gHyIhW/jzP4BA2oTCgfs/DVi7+O1MAUAcFjxSt5EEQIcZk3jGgQdAlUFFlgERCkAynB6v3TQMQMHxrg2K5A1A4F76khQZD0A0xstShs0PQO85zwb4/g9A8EI4BJ6sD0ADrLCCy9cOQJUjECftgw1Ap0xY6Hq2C0CVgg+J4XYJQLfnwwFkzgZA9nixWvXHA0BdE7CRC3AAQNeBYozYqPk/w412/ecH8j/+xDbGYznkP0/bfMmkPsA/+FNHxZdV2L/UKaSyIjPsv+gLinSo4/W/+Kg+VZVT/b8lRkW6WiUCwM+HZvErVgXApig6uxkvCMCTVimJaaQKwFEHwCL7qwzAxFNiW3I9DsDAl/eBWVIPwGZmsvw75g/Ag6xao7j2D8AYHIGMi4MPwPsjPCWPjg7AEyzujrQbDcB4zoZi8zALwIxAIRwx1gjA/Bc/lCAVBsBGhZoMGvkCwB5NPurYHf+/65MNU1HJ97+SiNkBzxLwv/GDAnguNOC/B1wUMyam4bw=\",\"dtype\":\"float64\",\"shape\":[100]}},\"selected\":{\"id\":\"1885601d-fde5-4925-82bd-eb327cb1c3d0\",\"type\":\"Selection\"},\"selection_policy\":{\"id\":\"2c931064-4d4d-45fc-a957-d19bfeeba099\",\"type\":\"UnionRenderers\"}},\"id\":\"8cee408e-5b4f-4641-963e-3fbd7f176d70\",\"type\":\"ColumnDataSource\"},{\"attributes\":{},\"id\":\"32449e29-018c-4c24-92a2-6cba07722b23\",\"type\":\"BasicTicker\"},{\"attributes\":{\"source\":{\"id\":\"3e8b3d90-5940-447c-ba40-ecdaa275b669\",\"type\":\"ColumnDataSource\"}},\"id\":\"034e4ccb-4976-49ad-92a0-4ff7b7b90246\",\"type\":\"CDSView\"},{\"attributes\":{},\"id\":\"ab99485c-82c9-4f83-b9d1-83c846dde5b7\",\"type\":\"LinearScale\"},{\"attributes\":{\"fill_color\":{\"value\":null},\"line_color\":{\"value\":\"red\"},\"x\":{\"field\":\"x\"},\"y\":{\"field\":\"y\"}},\"id\":\"106b6d49-acc7-412a-80ef-334335be622d\",\"type\":\"Square\"},{\"attributes\":{\"formatter\":{\"id\":\"cb4c10eb-6d6d-448c-b2c4-4286cbd82687\",\"type\":\"BasicTickFormatter\"},\"plot\":{\"id\":\"e39fb6db-06c1-434b-a386-56818f3c7e59\",\"subtype\":\"Figure\",\"type\":\"Plot\"},\"ticker\":{\"id\":\"32449e29-018c-4c24-92a2-6cba07722b23\",\"type\":\"BasicTicker\"}},\"id\":\"40d8810d-136b-4a26-926e-b8967ff86cea\",\"type\":\"LinearAxis\"},{\"attributes\":{\"label\":{\"value\":\"3*sin(x)\"},\"renderers\":[{\"id\":\"f428316b-a2cf-4027-a1b5-13968346757d\",\"type\":\"GlyphRenderer\"},{\"id\":\"f5640c9f-09b8-4ee4-af45-fce6766410ba\",\"type\":\"GlyphRenderer\"}]},\"id\":\"2ceee373-22f0-452a-b508-4d1cc41ca832\",\"type\":\"LegendItem\"},{\"attributes\":{},\"id\":\"cb4c10eb-6d6d-448c-b2c4-4286cbd82687\",\"type\":\"BasicTickFormatter\"},{\"attributes\":{\"line_alpha\":0.1,\"line_color\":\"#1f77b4\",\"x\":{\"field\":\"x\"},\"y\":{\"field\":\"y\"}},\"id\":\"903d76db-460e-45f2-99d4-e5db761a15ee\",\"type\":\"Line\"},{\"attributes\":{\"line_color\":\"green\",\"x\":{\"field\":\"x\"},\"y\":{\"field\":\"y\"}},\"id\":\"ffe60d56-973b-495e-b5e5-1b49519b55ec\",\"type\":\"Line\"},{\"attributes\":{\"callback\":null},\"id\":\"f2b5ce94-6e01-43bd-bb74-10b7e48b6215\",\"type\":\"DataRange1d\"},{\"attributes\":{},\"id\":\"2e5d4c67-e304-4c89-a470-72fe22f0c40f\",\"type\":\"BasicTicker\"},{\"attributes\":{},\"id\":\"272ae157-ef45-4653-8363-2d379d92143d\",\"type\":\"Selection\"},{\"attributes\":{\"plot\":{\"id\":\"e39fb6db-06c1-434b-a386-56818f3c7e59\",\"subtype\":\"Figure\",\"type\":\"Plot\"},\"ticker\":{\"id\":\"32449e29-018c-4c24-92a2-6cba07722b23\",\"type\":\"BasicTicker\"}},\"id\":\"508c1adf-4206-44c5-b2de-fb30c6659b74\",\"type\":\"Grid\"},{\"attributes\":{},\"id\":\"4ccfc829-421d-42a3-8cd9-4cef81f65701\",\"type\":\"UnionRenderers\"},{\"attributes\":{\"dimension\":1,\"plot\":{\"id\":\"e39fb6db-06c1-434b-a386-56818f3c7e59\",\"subtype\":\"Figure\",\"type\":\"Plot\"},\"ticker\":{\"id\":\"2e5d4c67-e304-4c89-a470-72fe22f0c40f\",\"type\":\"BasicTicker\"}},\"id\":\"595a632a-2d3d-42e6-8f28-2bb0afc4d3a4\",\"type\":\"Grid\"},{\"attributes\":{\"source\":{\"id\":\"8cee408e-5b4f-4641-963e-3fbd7f176d70\",\"type\":\"ColumnDataSource\"}},\"id\":\"3384717b-c408-465a-9f03-12f3392b9b50\",\"type\":\"CDSView\"},{\"attributes\":{\"data_source\":{\"id\":\"8cee408e-5b4f-4641-963e-3fbd7f176d70\",\"type\":\"ColumnDataSource\"},\"glyph\":{\"id\":\"106b6d49-acc7-412a-80ef-334335be622d\",\"type\":\"Square\"},\"hover_glyph\":null,\"muted_glyph\":null,\"nonselection_glyph\":{\"id\":\"acb84048-a0fe-493b-a119-739b211d3e00\",\"type\":\"Square\"},\"selection_glyph\":null,\"view\":{\"id\":\"3384717b-c408-465a-9f03-12f3392b9b50\",\"type\":\"CDSView\"}},\"id\":\"24362c8d-e4bb-4845-8a64-fd91197a9625\",\"type\":\"GlyphRenderer\"},{\"attributes\":{},\"id\":\"6e1916ef-0f9b-49db-841f-aeb8fdcf6967\",\"type\":\"Selection\"},{\"attributes\":{\"fill_alpha\":{\"value\":0.1},\"fill_color\":{\"value\":\"#1f77b4\"},\"line_alpha\":{\"value\":0.1},\"line_color\":{\"value\":\"#1f77b4\"},\"x\":{\"field\":\"x\"},\"y\":{\"field\":\"y\"}},\"id\":\"b0160a6e-5553-4590-9f35-9b3f64b8bdc1\",\"type\":\"Circle\"},{\"attributes\":{},\"id\":\"333abd91-9aa6-4bcc-835b-cff9ab47c7f4\",\"type\":\"Selection\"},{\"attributes\":{\"formatter\":{\"id\":\"e9c81cbc-66b5-4e77-9100-8e69f33f2cd7\",\"type\":\"BasicTickFormatter\"},\"plot\":{\"id\":\"e39fb6db-06c1-434b-a386-56818f3c7e59\",\"subtype\":\"Figure\",\"type\":\"Plot\"},\"ticker\":{\"id\":\"2e5d4c67-e304-4c89-a470-72fe22f0c40f\",\"type\":\"BasicTicker\"}},\"id\":\"ffca0844-91fd-4d66-a9f1-e9a8d5c7d172\",\"type\":\"LinearAxis\"},{\"attributes\":{\"fill_alpha\":{\"value\":0.1},\"fill_color\":{\"value\":\"#1f77b4\"},\"line_alpha\":{\"value\":0.1},\"line_color\":{\"value\":\"#1f77b4\"},\"x\":{\"field\":\"x\"},\"y\":{\"field\":\"y\"}},\"id\":\"acb84048-a0fe-493b-a119-739b211d3e00\",\"type\":\"Square\"},{\"attributes\":{\"bottom_units\":\"screen\",\"fill_alpha\":{\"value\":0.5},\"fill_color\":{\"value\":\"lightgrey\"},\"left_units\":\"screen\",\"level\":\"overlay\",\"line_alpha\":{\"value\":1.0},\"line_color\":{\"value\":\"black\"},\"line_dash\":[4,4],\"line_width\":{\"value\":2},\"plot\":null,\"render_mode\":\"css\",\"right_units\":\"screen\",\"top_units\":\"screen\"},\"id\":\"3d735c08-fd90-4032-bb23-aa4172c70d09\",\"type\":\"BoxAnnotation\"},{\"attributes\":{},\"id\":\"e9c81cbc-66b5-4e77-9100-8e69f33f2cd7\",\"type\":\"BasicTickFormatter\"},{\"attributes\":{\"callback\":null,\"data\":{\"x\":{\"__ndarray__\":\"AAAAAAAAAACRGkt8Vz/AP5EaS3xXP9A/2qdwOgNf2D+RGkt8Vz/gPzXhXVstT+Q/2qdwOgNf6D9+boMZ2W7sP5EaS3xXP/A/433Ua0JH8j814V1bLU/0P4dE50oYV/Y/2qdwOgNf+D8sC/op7mb6P35ugxnZbvw/0NEMCcR2/j+RGkt8Vz8AQDrMD/RMQwFA433Ua0JHAkCML5njN0sDQDXhXVstTwRA3pIi0yJTBUCHROdKGFcGQDD2q8INWwdA2qdwOgNfCECDWTWy+GIJQCwL+inuZgpA1by+oeNqC0B+boMZ2W4MQCcgSJHOcg1A0NEMCcR2DkB5g9GAuXoPQJEaS3xXPxBAZnMtOFLBEEA6zA/0TEMRQA8l8q9HxRFA433Ua0JHEkC41rYnPckSQIwvmeM3SxNAYYh7nzLNE0A14V1bLU8UQAo6QBco0RRA3pIi0yJTFUCz6wSPHdUVQIdE50oYVxZAXJ3JBhPZFkAw9qvCDVsXQAVPjn4I3RdA2qdwOgNfGECuAFP2/eAYQINZNbL4YhlAV7IXbvPkGUAsC/op7mYaQABk3OXo6BpA1by+oeNqG0CpFaFd3uwbQH5ugxnZbhxAUsdl1dPwHEAnIEiRznIdQPt4Kk3J9B1A0NEMCcR2HkCkKu/EvvgeQHmD0YC5eh9ATdyzPLT8H0CRGkt8Vz8gQPtGPNpUgCBAZnMtOFLBIEDQnx6WTwIhQDrMD/RMQyFApPgAUkqEIUAPJfKvR8UhQHlR4w1FBiJA433Ua0JHIkBNqsXJP4giQLjWtic9ySJAIgOohToKI0CML5njN0sjQPZbikE1jCNAYYh7nzLNI0DLtGz9Lw4kQDXhXVstTyRAoA1PuSqQJEAKOkAXKNEkQHRmMXUlEiVA3pIi0yJTJUBJvxMxIJQlQLPrBI8d1SVAHRj27BoWJkCHROdKGFcmQPJw2KgVmCZAXJ3JBhPZJkDGybpkEBonQDD2q8INWydAmyKdIAucJ0AFT45+CN0nQG97f9wFHihA2qdwOgNfKEBE1GGYAKAoQK4AU/b94ChAGC1EVPshKUA=\",\"dtype\":\"float64\",\"shape\":[100]},\"y\":{\"__ndarray__\":\"AAAAAAAAAADwgwJ4LjTgP5qI2QHPEvA/+5MNU1HJ9z8ZTT7q2B3/P0aFmgwa+QJAABg/lCAVBkCIQCEcMdYIQHfOhmLzMAtAEyzujrQbDUD9Izwlj44OQBccgYyLgw9Ag6xao7j2D0BmZrL8O+YPQL+X94FZUg9AxVNiW3I9DkBRB8Ai+6sMQJFWKYlppApAoSg6uxkvCEDSh2bxK1YFQCZGRbpaJQJA8qg+VZVT/T/4C4p0qOP1P+UppLIiM+w/3FNHxZdV2D/J23zJpD7Av+3ENsZjOeS/wo12/ecH8r/dgWKM2Kj5v2MTsJELcADA83ixWvXHA8C358MBZM4GwJeCD4nhdgnArExY6Hq2C8CTIxAn7YMNwASssILL1w7A70I4BJ6sD8DvOc8G+P4PwDTGy1KGzQ/A3176khQZD8DC8a4NiuQNwDGcHq/dNAzAl0FFlgERCsCEGZN4xoEHwB8WPFK3kQTACli7+O1MAcCHQNqEwoH7v9kfIiFb+PO/gKyggGI56L8EhrXMjDzQvyGGtcyMPNA/jqyggGI56D/gHyIhW/jzP4BA2oTCgfs/DVi7+O1MAUAcFjxSt5EEQIcZk3jGgQdAlUFFlgERCkAynB6v3TQMQMHxrg2K5A1A4F76khQZD0A0xstShs0PQO85zwb4/g9A8EI4BJ6sD0ADrLCCy9cOQJUjECftgw1Ap0xY6Hq2C0CVgg+J4XYJQLfnwwFkzgZA9nixWvXHA0BdE7CRC3AAQNeBYozYqPk/w412/ecH8j/+xDbGYznkP0/bfMmkPsA/+FNHxZdV2L/UKaSyIjPsv+gLinSo4/W/+Kg+VZVT/b8lRkW6WiUCwM+HZvErVgXApig6uxkvCMCTVimJaaQKwFEHwCL7qwzAxFNiW3I9DsDAl/eBWVIPwGZmsvw75g/Ag6xao7j2D8AYHIGMi4MPwPsjPCWPjg7AEyzujrQbDcB4zoZi8zALwIxAIRwx1gjA/Bc/lCAVBsBGhZoMGvkCwB5NPurYHf+/65MNU1HJ97+SiNkBzxLwv/GDAnguNOC/B1wUMyam4bw=\",\"dtype\":\"float64\",\"shape\":[100]}},\"selected\":{\"id\":\"333abd91-9aa6-4bcc-835b-cff9ab47c7f4\",\"type\":\"Selection\"},\"selection_policy\":{\"id\":\"65a55d4a-e665-479d-a31a-d7ff2e3521e3\",\"type\":\"UnionRenderers\"}},\"id\":\"4eeac646-23fd-4ad5-b435-5c205a6b07ea\",\"type\":\"ColumnDataSource\"},{\"attributes\":{},\"id\":\"959384f5-c7f8-426c-b19e-15c3822d8b57\",\"type\":\"UnionRenderers\"},{\"attributes\":{\"data_source\":{\"id\":\"4eeac646-23fd-4ad5-b435-5c205a6b07ea\",\"type\":\"ColumnDataSource\"},\"glyph\":{\"id\":\"aeddf99a-30c5-423c-9f68-2db372f60304\",\"type\":\"Line\"},\"hover_glyph\":null,\"muted_glyph\":null,\"nonselection_glyph\":{\"id\":\"9af05643-4e4e-4bb3-bd8e-2ce8886c5fd2\",\"type\":\"Line\"},\"selection_glyph\":null,\"view\":{\"id\":\"8ac21bda-edf5-4049-8de9-ee14e7717091\",\"type\":\"CDSView\"}},\"id\":\"c197526d-7f63-474a-abe9-c1e158e8bbd7\",\"type\":\"GlyphRenderer\"},{\"attributes\":{\"source\":{\"id\":\"4eeac646-23fd-4ad5-b435-5c205a6b07ea\",\"type\":\"ColumnDataSource\"}},\"id\":\"8ac21bda-edf5-4049-8de9-ee14e7717091\",\"type\":\"CDSView\"},{\"attributes\":{\"label\":{\"value\":\"4*sin(x)\"},\"renderers\":[{\"id\":\"24362c8d-e4bb-4845-8a64-fd91197a9625\",\"type\":\"GlyphRenderer\"},{\"id\":\"c197526d-7f63-474a-abe9-c1e158e8bbd7\",\"type\":\"GlyphRenderer\"}]},\"id\":\"81d32405-483d-4ce8-abb8-34ae4e93a5dc\",\"type\":\"LegendItem\"},{\"attributes\":{\"overlay\":{\"id\":\"3d735c08-fd90-4032-bb23-aa4172c70d09\",\"type\":\"BoxAnnotation\"}},\"id\":\"11c9d7e7-c770-4a99-a1bc-4793129ac3ae\",\"type\":\"BoxZoomTool\"},{\"attributes\":{},\"id\":\"c1e00775-6ec2-4603-a6a2-df52f2aaa826\",\"type\":\"SaveTool\"},{\"attributes\":{\"line_alpha\":0.1,\"line_color\":\"#1f77b4\",\"x\":{\"field\":\"x\"},\"y\":{\"field\":\"y\"}},\"id\":\"9af05643-4e4e-4bb3-bd8e-2ce8886c5fd2\",\"type\":\"Line\"},{\"attributes\":{\"source\":{\"id\":\"282959e8-f8a4-4930-a09f-d1d865c88d56\",\"type\":\"ColumnDataSource\"}},\"id\":\"5b0575c0-b354-42cb-8af1-3c7c288420c8\",\"type\":\"CDSView\"},{\"attributes\":{\"line_color\":\"red\",\"x\":{\"field\":\"x\"},\"y\":{\"field\":\"y\"}},\"id\":\"aeddf99a-30c5-423c-9f68-2db372f60304\",\"type\":\"Line\"},{\"attributes\":{},\"id\":\"1885601d-fde5-4925-82bd-eb327cb1c3d0\",\"type\":\"Selection\"},{\"attributes\":{},\"id\":\"36200444-3d04-484a-9ec6-ef7e3876a447\",\"type\":\"WheelZoomTool\"},{\"attributes\":{},\"id\":\"2c931064-4d4d-45fc-a957-d19bfeeba099\",\"type\":\"UnionRenderers\"},{\"attributes\":{\"line_color\":\"#1f77b4\",\"x\":{\"field\":\"x\"},\"y\":{\"field\":\"y\"}},\"id\":\"f4b19b9c-ed4d-472b-aa69-4f1ae0d02d17\",\"type\":\"Line\"},{\"attributes\":{\"background_fill_alpha\":{\"value\":0.2},\"background_fill_color\":{\"value\":\"gray\"},\"border_line_color\":{\"value\":\"navy\"},\"border_line_width\":{\"value\":3},\"items\":[{\"id\":\"badb642a-781d-4b25-83c1-9141108ee894\",\"type\":\"LegendItem\"},{\"id\":\"d480577f-365f-4365-813d-147f7bdad92d\",\"type\":\"LegendItem\"},{\"id\":\"2ceee373-22f0-452a-b508-4d1cc41ca832\",\"type\":\"LegendItem\"},{\"id\":\"81d32405-483d-4ce8-abb8-34ae4e93a5dc\",\"type\":\"LegendItem\"}],\"label_text_color\":{\"value\":\"navy\"},\"label_text_font\":\"times\",\"label_text_font_size\":{\"value\":\"12pt\"},\"label_text_font_style\":\"italic\",\"location\":\"bottom_left\",\"plot\":{\"id\":\"e39fb6db-06c1-434b-a386-56818f3c7e59\",\"subtype\":\"Figure\",\"type\":\"Plot\"}},\"id\":\"c97df69e-cc8f-44ce-b32d-4afbdc1273aa\",\"type\":\"Legend\"},{\"attributes\":{},\"id\":\"b9bf997b-e5b6-43ee-9cc3-fb3f23e76539\",\"type\":\"PanTool\"},{\"attributes\":{},\"id\":\"65a55d4a-e665-479d-a31a-d7ff2e3521e3\",\"type\":\"UnionRenderers\"},{\"attributes\":{},\"id\":\"381275bd-5a43-4a91-bb65-f807e3884546\",\"type\":\"ResetTool\"}],\"root_ids\":[\"e39fb6db-06c1-434b-a386-56818f3c7e59\"]},\"title\":\"Bokeh Application\",\"version\":\"0.12.16\"}};\n",
       "  var render_items = [{\"docid\":\"304d7902-bcf4-4fd1-b5e8-bb77f15f62b6\",\"elementid\":\"7c4798e4-4fcc-455f-b67c-6a5fdd6f9b49\",\"modelid\":\"e39fb6db-06c1-434b-a386-56818f3c7e59\"}];\n",
       "  root.Bokeh.embed.embed_items_notebook(docs_json, render_items);\n",
       "\n",
       "  }\n",
       "  if (root.Bokeh !== undefined) {\n",
       "    embed_document(root);\n",
       "  } else {\n",
       "    var attempts = 0;\n",
       "    var timer = setInterval(function(root) {\n",
       "      if (root.Bokeh !== undefined) {\n",
       "        embed_document(root);\n",
       "        clearInterval(timer);\n",
       "      }\n",
       "      attempts++;\n",
       "      if (attempts > 100) {\n",
       "        console.log(\"Bokeh: ERROR: Unable to run BokehJS code because BokehJS library is missing\")\n",
       "        clearInterval(timer);\n",
       "      }\n",
       "    }, 10, root)\n",
       "  }\n",
       "})(window);"
      ],
      "application/vnd.bokehjs_exec.v0+json": ""
     },
     "metadata": {
      "application/vnd.bokehjs_exec.v0+json": {
       "id": "e39fb6db-06c1-434b-a386-56818f3c7e59"
      }
     },
     "output_type": "display_data"
    }
   ],
   "source": [
    "# Legend - 图例设置\n",
    "# 设置方法 → 在绘图时设置图例名称 + 设置图例位置\n",
    "\n",
    "p = figure(plot_width=600, plot_height=400)\n",
    "# 创建图表\n",
    "\n",
    "x = np.linspace(0, 4*np.pi, 100)\n",
    "y = np.sin(x)\n",
    "# 设置x，y\n",
    "\n",
    "p.circle(x, y, legend=\"sin(x)\")\n",
    "p.line(x, y, legend=\"sin(x)\")\n",
    "# 绘制line1，设置图例名称\n",
    "\n",
    "p.line(x, 2*y, legend=\"2*sin(x)\",line_dash=[4, 4], line_color=\"orange\", line_width=2)\n",
    "# 绘制line2，设置图例名称\n",
    "\n",
    "p.square(x, 3*y, legend=\"3*sin(x)\", fill_color=None, line_color=\"green\")\n",
    "p.line(x, 3*y, legend=\"3*sin(x)\", line_color=\"green\")\n",
    "# 绘制line3，设置图例名称\n",
    "\n",
    "p.square(x, 4*y, legend=\"4*sin(x)\", fill_color=None, line_color=\"red\")\n",
    "p.line(x, 4*y, legend=\"4*sin(x)\", line_color=\"red\")\n",
    "# 绘制line3，设置图例名称\n",
    "\n",
    "p.legend.location = \"bottom_left\"\n",
    "# 设置图例位置：\"top_left\"、\"top_center\"、\"top_right\" (the default)、\"center_right\"、\"bottom_right\"、\"bottom_center\"\n",
    "# \"bottom_left\"、\"center_left\"、\"center\"\n",
    "\n",
    "p.legend.orientation = \"vertical\"\n",
    "# 设置图例排列方向：\"vertical\" （默认）or \"horizontal\"\n",
    "\n",
    "p.legend.label_text_font = \"times\"\n",
    "p.legend.label_text_font_style = \"italic\"  # 斜体\n",
    "p.legend.label_text_color = \"navy\"\n",
    "p.legend.label_text_font_size = '12pt'\n",
    "# 设置图例：字体、风格、颜色、字体大小\n",
    "\n",
    "p.legend.border_line_width = 3\n",
    "p.legend.border_line_color = \"navy\"\n",
    "p.legend.border_line_alpha = 0.5\n",
    "# 设置图例外边线：宽度、颜色、透明度\n",
    "\n",
    "p.legend.background_fill_color = \"gray\"\n",
    "p.legend.background_fill_alpha = 0.2\n",
    "# 设置图例背景：颜色、透明度\n",
    "\n",
    "show(p)"
   ]
  },
  {
   "cell_type": "markdown",
   "metadata": {},
   "source": [
    "### 1.10 小结\n",
    "\n",
    "Line Properties|线设置|参数列举\n",
    ":-:|:-:|:-:\n",
    "line_color|设置颜色|  \n",
    "line_width|设置宽度|  \n",
    "line_alpha|设置透明度|  \n",
    "line_join|设置连接点样式|'miter' miter_join，'round' round_join，'bevel' bevel_join\n",
    "line_cap|设置线端口样式|'butt' butt_cap，'round' round_cap，'square' square_cap\n",
    "line_dash|设置线条样式|'solid'，'dashed'，'dotted'，'dotdash'，'dashdot'，或者整型数组方式（例如[6,4]）\n",
    "\n",
    "Fill Properties |填充设置\n",
    ":-:|:-:\n",
    "fill_color|设置填充颜色\n",
    "fill_alpha|设置填充透明度\n",
    "Text Properties|字体设置|参数\n",
    ":-:|:-:|:-:\n",
    "text_font|字体\n",
    "text_font_size|字体大小|单位为pt或者em（ '12pt', '1.5em'）\n",
    "text_font_style|字体风格|'normal' normal text，'italic' italic text，'bold' bold text\n",
    "text_color|字体颜色|\n",
    "text_alpha|字体透明度|\n",
    "text_align|字体水平方向位置|'left', 'right', 'center'\n",
    "text_baseline|字体垂直方向位置|'top'，'middle'，'bottom'，'alphabetic'，'hanging'\n",
    "\n",
    "```\n",
    "可见性\n",
    "p.xaxis.visible = False\n",
    "p.xgrid.visible = False\n",
    "基本参数中都含有.visible参数，设置是否可见\n",
    "\n",
    "```"
   ]
  },
  {
   "cell_type": "markdown",
   "metadata": {},
   "source": [
    "**Some basic Git commands are:**\n",
    "***\n",
    "```\n",
    "git status\n",
    "git add\n",
    "git commit\n",
    "```"
   ]
  },
  {
   "cell_type": "code",
   "execution_count": 31,
   "metadata": {
    "collapsed": true
   },
   "outputs": [],
   "source": [
    "##  2. 辅助参数\n",
    "### 2.1  线"
   ]
  },
  {
   "cell_type": "code",
   "execution_count": 35,
   "metadata": {},
   "outputs": [
    {
     "data": {
      "text/html": [
       "\n",
       "<div class=\"bk-root\">\n",
       "    <div class=\"bk-plotdiv\" id=\"fb4a2ac8-75a8-460f-ad98-c3894746eaa0\"></div>\n",
       "</div>"
      ]
     },
     "metadata": {},
     "output_type": "display_data"
    },
    {
     "data": {
      "application/javascript": [
       "(function(root) {\n",
       "  function embed_document(root) {\n",
       "    \n",
       "  var docs_json = {\"c850b4f5-b836-4300-8d47-90f969ddd9f6\":{\"roots\":{\"references\":[{\"attributes\":{\"active_drag\":\"auto\",\"active_inspect\":\"auto\",\"active_scroll\":\"auto\",\"active_tap\":\"auto\",\"tools\":[{\"id\":\"574aa4b8-a903-4fda-9dc7-692601790cf9\",\"type\":\"PanTool\"},{\"id\":\"cc2a61b4-0fa1-4fd6-b395-aa4992e2bb3d\",\"type\":\"WheelZoomTool\"},{\"id\":\"5efae7af-b926-4721-8ffe-cec1adfc2759\",\"type\":\"BoxZoomTool\"},{\"id\":\"2b93b011-3286-45e8-aa3d-e7ef78fadb54\",\"type\":\"SaveTool\"},{\"id\":\"227f3f92-86c6-44c1-9f84-cfdfae6b3484\",\"type\":\"ResetTool\"},{\"id\":\"0dce58e7-1ebe-4f63-bd54-37682aba438b\",\"type\":\"HelpTool\"}]},\"id\":\"1d802a42-2f1e-4e67-961e-6239a2e3f491\",\"type\":\"Toolbar\"},{\"attributes\":{},\"id\":\"0dce58e7-1ebe-4f63-bd54-37682aba438b\",\"type\":\"HelpTool\"},{\"attributes\":{},\"id\":\"901356ed-4c0d-4f63-8157-0107fc94bf1e\",\"type\":\"Selection\"},{\"attributes\":{},\"id\":\"cc2a61b4-0fa1-4fd6-b395-aa4992e2bb3d\",\"type\":\"WheelZoomTool\"},{\"attributes\":{\"data_source\":{\"id\":\"0cce041e-a30d-4547-a2ec-daf5804dfad1\",\"type\":\"ColumnDataSource\"},\"glyph\":{\"id\":\"891265d1-6bab-48c8-9837-0a6a2b2f7e09\",\"type\":\"Line\"},\"hover_glyph\":null,\"muted_glyph\":null,\"nonselection_glyph\":{\"id\":\"3d512688-09a7-428b-8424-c216ff4d7a19\",\"type\":\"Line\"},\"selection_glyph\":null,\"view\":{\"id\":\"75fa7f06-ea7b-4ada-a296-e6768dff344b\",\"type\":\"CDSView\"}},\"id\":\"afcea8f1-76a1-4f48-8636-83090ee03434\",\"type\":\"GlyphRenderer\"},{\"attributes\":{\"callback\":null},\"id\":\"89a62059-1989-462f-91d7-b14a97beee6d\",\"type\":\"DataRange1d\"},{\"attributes\":{},\"id\":\"f415ac2f-47d1-4dc7-92b0-1711fd801340\",\"type\":\"LinearScale\"},{\"attributes\":{\"line_color\":{\"value\":\"firebrick\"},\"line_width\":{\"value\":4},\"location\":-1,\"plot\":{\"id\":\"5cd16514-fdf1-49a1-8a9d-a9b2e65bf1a9\",\"subtype\":\"Figure\",\"type\":\"Plot\"}},\"id\":\"faa1956e-5f51-4b0d-948a-4fa4973e3661\",\"type\":\"Span\"},{\"attributes\":{},\"id\":\"227f3f92-86c6-44c1-9f84-cfdfae6b3484\",\"type\":\"ResetTool\"},{\"attributes\":{\"plot\":null,\"text\":\"\"},\"id\":\"dd1301c1-7c59-4b48-9eb2-0cfe75a2de51\",\"type\":\"Title\"},{\"attributes\":{\"line_color\":{\"value\":\"blue\"},\"line_width\":{\"value\":4},\"location\":1,\"plot\":{\"id\":\"5cd16514-fdf1-49a1-8a9d-a9b2e65bf1a9\",\"subtype\":\"Figure\",\"type\":\"Plot\"}},\"id\":\"6def9aec-0cf0-4fb2-9853-6c86e4427b4b\",\"type\":\"Span\"},{\"attributes\":{},\"id\":\"acb564b5-8387-46b4-bdd6-2c6969de7fb7\",\"type\":\"UnionRenderers\"},{\"attributes\":{\"bottom_units\":\"screen\",\"fill_alpha\":{\"value\":0.5},\"fill_color\":{\"value\":\"lightgrey\"},\"left_units\":\"screen\",\"level\":\"overlay\",\"line_alpha\":{\"value\":1.0},\"line_color\":{\"value\":\"black\"},\"line_dash\":[4,4],\"line_width\":{\"value\":2},\"plot\":null,\"render_mode\":\"css\",\"right_units\":\"screen\",\"top_units\":\"screen\"},\"id\":\"acfeb587-a8d5-487c-b7ea-fd5273ebed87\",\"type\":\"BoxAnnotation\"},{\"attributes\":{},\"id\":\"3ff8167a-4526-4eda-aaa4-0f159347937e\",\"type\":\"BasicTicker\"},{\"attributes\":{\"overlay\":{\"id\":\"acfeb587-a8d5-487c-b7ea-fd5273ebed87\",\"type\":\"BoxAnnotation\"}},\"id\":\"5efae7af-b926-4721-8ffe-cec1adfc2759\",\"type\":\"BoxZoomTool\"},{\"attributes\":{\"formatter\":{\"id\":\"6dafa3f2-157e-4364-bed8-69b8506e050d\",\"type\":\"BasicTickFormatter\"},\"plot\":{\"id\":\"5cd16514-fdf1-49a1-8a9d-a9b2e65bf1a9\",\"subtype\":\"Figure\",\"type\":\"Plot\"},\"ticker\":{\"id\":\"3ff8167a-4526-4eda-aaa4-0f159347937e\",\"type\":\"BasicTicker\"}},\"id\":\"84d10604-4455-41dc-9f47-065c13c8eaee\",\"type\":\"LinearAxis\"},{\"attributes\":{\"below\":[{\"id\":\"84d10604-4455-41dc-9f47-065c13c8eaee\",\"type\":\"LinearAxis\"}],\"left\":[{\"id\":\"844489bb-d7b3-46eb-99a7-4348d9559d6c\",\"type\":\"LinearAxis\"}],\"renderers\":[{\"id\":\"84d10604-4455-41dc-9f47-065c13c8eaee\",\"type\":\"LinearAxis\"},{\"id\":\"49ed13f6-21cb-4a86-ab43-a365614e0f7d\",\"type\":\"Grid\"},{\"id\":\"844489bb-d7b3-46eb-99a7-4348d9559d6c\",\"type\":\"LinearAxis\"},{\"id\":\"3c49980c-ed85-4e17-8007-9264f7610fce\",\"type\":\"Grid\"},{\"id\":\"acfeb587-a8d5-487c-b7ea-fd5273ebed87\",\"type\":\"BoxAnnotation\"},{\"id\":\"afcea8f1-76a1-4f48-8636-83090ee03434\",\"type\":\"GlyphRenderer\"},{\"id\":\"6def9aec-0cf0-4fb2-9853-6c86e4427b4b\",\"type\":\"Span\"},{\"id\":\"faa1956e-5f51-4b0d-948a-4fa4973e3661\",\"type\":\"Span\"}],\"title\":{\"id\":\"dd1301c1-7c59-4b48-9eb2-0cfe75a2de51\",\"type\":\"Title\"},\"toolbar\":{\"id\":\"1d802a42-2f1e-4e67-961e-6239a2e3f491\",\"type\":\"Toolbar\"},\"x_range\":{\"id\":\"89a62059-1989-462f-91d7-b14a97beee6d\",\"type\":\"DataRange1d\"},\"x_scale\":{\"id\":\"f415ac2f-47d1-4dc7-92b0-1711fd801340\",\"type\":\"LinearScale\"},\"y_range\":{\"id\":\"a377307f-3433-43c0-92b5-28ed606a770a\",\"type\":\"Range1d\"},\"y_scale\":{\"id\":\"8332ae21-a686-4165-9593-e43d48ff5daf\",\"type\":\"LinearScale\"}},\"id\":\"5cd16514-fdf1-49a1-8a9d-a9b2e65bf1a9\",\"subtype\":\"Figure\",\"type\":\"Plot\"},{\"attributes\":{\"plot\":{\"id\":\"5cd16514-fdf1-49a1-8a9d-a9b2e65bf1a9\",\"subtype\":\"Figure\",\"type\":\"Plot\"},\"ticker\":{\"id\":\"3ff8167a-4526-4eda-aaa4-0f159347937e\",\"type\":\"BasicTicker\"}},\"id\":\"49ed13f6-21cb-4a86-ab43-a365614e0f7d\",\"type\":\"Grid\"},{\"attributes\":{},\"id\":\"3dafebcc-28af-4993-b7b2-e77cf13a9edc\",\"type\":\"BasicTicker\"},{\"attributes\":{\"formatter\":{\"id\":\"b849143a-adc5-44c2-853a-1dfae0b88c04\",\"type\":\"BasicTickFormatter\"},\"plot\":{\"id\":\"5cd16514-fdf1-49a1-8a9d-a9b2e65bf1a9\",\"subtype\":\"Figure\",\"type\":\"Plot\"},\"ticker\":{\"id\":\"3dafebcc-28af-4993-b7b2-e77cf13a9edc\",\"type\":\"BasicTicker\"}},\"id\":\"844489bb-d7b3-46eb-99a7-4348d9559d6c\",\"type\":\"LinearAxis\"},{\"attributes\":{},\"id\":\"2b93b011-3286-45e8-aa3d-e7ef78fadb54\",\"type\":\"SaveTool\"},{\"attributes\":{},\"id\":\"8332ae21-a686-4165-9593-e43d48ff5daf\",\"type\":\"LinearScale\"},{\"attributes\":{\"callback\":null,\"data\":{\"x\":{\"__ndarray__\":\"AAAAAAAAAACBhJ9ciLq5P4GEn1yIusk/YaN3ReZL0z+BhJ9ciLrZP9Gy4zmVFOA/YaN3ReZL4z/xkwtRN4PmP4GEn1yIuuk/EXUzaNnx7D/RsuM5lRTwPxmrrb89sPE/YaN3ReZL8z+pm0HLjuf0P/GTC1E3g/Y/OYzV1t8e+D+BhJ9ciLr5P8l8aeIwVvs/EXUzaNnx/D9Zbf3tgY3+P9Gy4zmVFABA9a7IfGniAEAZq62/PbABQD2nkgISfgJAYaN3ReZLA0CFn1yIuhkEQKmbQcuO5wRAzZcmDmO1BUDxkwtRN4MGQBWQ8JMLUQdAOYzV1t8eCEBdiLoZtOwIQIGEn1yIuglApYCEn1yICkDJfGniMFYLQO14TiUFJAxAEXUzaNnxDEA1cRirrb8NQFlt/e2BjQ5AfWniMFZbD0DRsuM5lRQQQOMwVlt/exBA9a7IfGniEEAHLTueU0kRQBmrrb89sBFAKykg4ScXEkA9p5ICEn4SQE8lBST85BJAYaN3ReZLE0BzIepm0LITQIWfXIi6GRRAlx3PqaSAFECpm0HLjucUQLsZtOx4ThVAzZcmDmO1FUDfFZkvTRwWQPGTC1E3gxZAAxJ+ciHqFkAVkPCTC1EXQCcOY7X1txdAOYzV1t8eGEBLCkj4yYUYQF2Iuhm07BhAbwYtO55TGUCBhJ9ciLoZQJMCEn5yIRpApYCEn1yIGkC3/vbARu8aQMl8aeIwVhtA2/rbAxu9G0DteE4lBSQcQP/2wEbvihxAEXUzaNnxHEAj86WJw1gdQDVxGKutvx1AR++KzJcmHkBZbf3tgY0eQGvrbw9s9B5AfWniMFZbH0CP51RSQMIfQNGy4zmVFCBA2vGcSgpIIEDjMFZbf3sgQOxvD2z0riBA9a7IfGniIED+7YGN3hUhQActO55TSSFAEGz0rsh8IUAZq62/PbAhQCLqZtCy4yFAKykg4ScXIkA0aNnxnEoiQD2nkgISfiJARuZLE4exIkBPJQUk/OQiQFhkvjRxGCNAYaN3ReZLI0Bq4jBWW38jQHMh6mbQsiNAfGCjd0XmI0CFn1yIuhkkQI7eFZkvTSRAlx3PqaSAJECgXIi6GbQkQKmbQcuO5yRAstr62wMbJUC7GbTseE4lQMRYbf3tgSVAzZcmDmO1JUDW1t8e2OglQN8VmS9NHCZA6FRSQMJPJkDxkwtRN4MmQPrSxGGstiZAAxJ+ciHqJkAMUTeDlh0nQBWQ8JMLUSdAHs+ppICEJ0AnDmO19bcnQDBNHMZq6ydAOYzV1t8eKEBCy47nVFIoQEsKSPjJhShAVEkBCT+5KEBdiLoZtOwoQGbHcyopIClAbwYtO55TKUB4ReZLE4cpQIGEn1yIuilAisNYbf3tKUCTAhJ+ciEqQJxBy47nVCpApYCEn1yIKkCuvz2w0bsqQLf+9sBG7ypAwD2w0bsiK0DJfGniMFYrQNK7IvOliStA2/rbAxu9K0DkOZUUkPArQO14TiUFJCxA9rcHNnpXLED/9sBG74osQAg2eldkvixAEXUzaNnxLEAatOx4TiUtQCPzpYnDWC1ALDJfmjiMLUA1cRirrb8tQD6w0bsi8y1AR++KzJcmLkBQLkTdDFouQFlt/e2BjS5AYqy2/vbALkBr628PbPQuQHQqKSDhJy9AfWniMFZbL0CGqJtBy44vQI/nVFJAwi9AmCYOY7X1L0DRsuM5lRQwQFVSQMJPLjBA2vGcSgpIMEBekfnSxGEwQOMwVlt/ezBAZ9Cy4zmVMEDsbw9s9K4wQHAPbPSuyDBA9a7IfGniMEB5TiUFJPwwQP7tgY3eFTFAgo3eFZkvMUAHLTueU0kxQIvMlyYOYzFAEGz0rsh8MUCUC1E3g5YxQBmrrb89sDFAnUoKSPjJMUAi6mbQsuMxQKaJw1ht/TFAKykg4ScXMkCvyHxp4jAyQDRo2fGcSjJAuAc2eldkMkA9p5ICEn4yQMFG74rMlzJARuZLE4exMkDKhaibQcsyQE8lBST85DJA08RhrLb+MkBYZL40cRgzQNwDG70rMjNAYaN3ReZLM0DlQtTNoGUzQGriMFZbfzNA7oGN3hWZM0BzIepm0LIzQPfARu+KzDNAfGCjd0XmM0AAAAAAAAA0QA==\",\"dtype\":\"float64\",\"shape\":[200]},\"y\":{\"__ndarray__\":\"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\",\"dtype\":\"float64\",\"shape\":[200]}},\"selected\":{\"id\":\"901356ed-4c0d-4f63-8157-0107fc94bf1e\",\"type\":\"Selection\"},\"selection_policy\":{\"id\":\"acb564b5-8387-46b4-bdd6-2c6969de7fb7\",\"type\":\"UnionRenderers\"}},\"id\":\"0cce041e-a30d-4547-a2ec-daf5804dfad1\",\"type\":\"ColumnDataSource\"},{\"attributes\":{},\"id\":\"574aa4b8-a903-4fda-9dc7-692601790cf9\",\"type\":\"PanTool\"},{\"attributes\":{},\"id\":\"b849143a-adc5-44c2-853a-1dfae0b88c04\",\"type\":\"BasicTickFormatter\"},{\"attributes\":{\"line_alpha\":0.1,\"line_color\":\"#1f77b4\",\"x\":{\"field\":\"x\"},\"y\":{\"field\":\"y\"}},\"id\":\"3d512688-09a7-428b-8424-c216ff4d7a19\",\"type\":\"Line\"},{\"attributes\":{\"callback\":null,\"end\":2,\"start\":-2},\"id\":\"a377307f-3433-43c0-92b5-28ed606a770a\",\"type\":\"Range1d\"},{\"attributes\":{\"dimension\":1,\"plot\":{\"id\":\"5cd16514-fdf1-49a1-8a9d-a9b2e65bf1a9\",\"subtype\":\"Figure\",\"type\":\"Plot\"},\"ticker\":{\"id\":\"3dafebcc-28af-4993-b7b2-e77cf13a9edc\",\"type\":\"BasicTicker\"}},\"id\":\"3c49980c-ed85-4e17-8007-9264f7610fce\",\"type\":\"Grid\"},{\"attributes\":{},\"id\":\"6dafa3f2-157e-4364-bed8-69b8506e050d\",\"type\":\"BasicTickFormatter\"},{\"attributes\":{\"source\":{\"id\":\"0cce041e-a30d-4547-a2ec-daf5804dfad1\",\"type\":\"ColumnDataSource\"}},\"id\":\"75fa7f06-ea7b-4ada-a296-e6768dff344b\",\"type\":\"CDSView\"},{\"attributes\":{\"line_color\":\"#1f77b4\",\"x\":{\"field\":\"x\"},\"y\":{\"field\":\"y\"}},\"id\":\"891265d1-6bab-48c8-9837-0a6a2b2f7e09\",\"type\":\"Line\"}],\"root_ids\":[\"5cd16514-fdf1-49a1-8a9d-a9b2e65bf1a9\"]},\"title\":\"Bokeh Application\",\"version\":\"0.12.16\"}};\n",
       "  var render_items = [{\"docid\":\"c850b4f5-b836-4300-8d47-90f969ddd9f6\",\"elementid\":\"fb4a2ac8-75a8-460f-ad98-c3894746eaa0\",\"modelid\":\"5cd16514-fdf1-49a1-8a9d-a9b2e65bf1a9\"}];\n",
       "  root.Bokeh.embed.embed_items_notebook(docs_json, render_items);\n",
       "\n",
       "  }\n",
       "  if (root.Bokeh !== undefined) {\n",
       "    embed_document(root);\n",
       "  } else {\n",
       "    var attempts = 0;\n",
       "    var timer = setInterval(function(root) {\n",
       "      if (root.Bokeh !== undefined) {\n",
       "        embed_document(root);\n",
       "        clearInterval(timer);\n",
       "      }\n",
       "      attempts++;\n",
       "      if (attempts > 100) {\n",
       "        console.log(\"Bokeh: ERROR: Unable to run BokehJS code because BokehJS library is missing\")\n",
       "        clearInterval(timer);\n",
       "      }\n",
       "    }, 10, root)\n",
       "  }\n",
       "})(window);"
      ],
      "application/vnd.bokehjs_exec.v0+json": ""
     },
     "metadata": {
      "application/vnd.bokehjs_exec.v0+json": {
       "id": "5cd16514-fdf1-49a1-8a9d-a9b2e65bf1a9"
      }
     },
     "output_type": "display_data"
    }
   ],
   "source": [
    "# 辅助标注 - 线\n",
    "\n",
    "from bokeh.models.annotations import Span\n",
    "# 导入Span模块\n",
    "\n",
    "x = np.linspace(0, 20, 200)\n",
    "y = np.sin(x)\n",
    "# 创建x，y数据\n",
    "\n",
    "p = figure(y_range=(-2, 2))\n",
    "p.line(x, y)\n",
    "# 绘制曲线\n",
    "\n",
    "upper = Span(location=1,           # 设置位置，对应坐标值\n",
    "             dimension='width',    # 设置方向，width为横向，height为纵向  \n",
    "             line_color='blue', line_width=4   # 设置线颜色、线宽\n",
    "            )\n",
    "p.add_layout(upper)\n",
    "# 绘制辅助线1\n",
    "\n",
    "lower = Span(location=-1, dimension='width', line_color='firebrick', line_width=4)\n",
    "p.add_layout(lower)\n",
    "# 绘制辅助线2\n",
    "\n",
    "show(p)"
   ]
  },
  {
   "cell_type": "code",
   "execution_count": 37,
   "metadata": {},
   "outputs": [
    {
     "data": {
      "text/html": [
       "\n",
       "<div class=\"bk-root\">\n",
       "    <div class=\"bk-plotdiv\" id=\"dd58a47e-1020-4ffa-bb8b-490a067c41be\"></div>\n",
       "</div>"
      ]
     },
     "metadata": {},
     "output_type": "display_data"
    },
    {
     "data": {
      "application/javascript": [
       "(function(root) {\n",
       "  function embed_document(root) {\n",
       "    \n",
       "  var docs_json = {\"ef311ad9-59ac-4ad5-8fc1-677296a5f034\":{\"roots\":{\"references\":[{\"attributes\":{},\"id\":\"a22fe6f2-f50f-4b0c-96a9-133529edb764\",\"type\":\"BasicTicker\"},{\"attributes\":{\"bottom_units\":\"screen\",\"fill_alpha\":{\"value\":0.5},\"fill_color\":{\"value\":\"lightgrey\"},\"left_units\":\"screen\",\"level\":\"overlay\",\"line_alpha\":{\"value\":1.0},\"line_color\":{\"value\":\"black\"},\"line_dash\":[4,4],\"line_width\":{\"value\":2},\"plot\":null,\"render_mode\":\"css\",\"right_units\":\"screen\",\"top_units\":\"screen\"},\"id\":\"dd8433c1-7f8e-4626-b1d3-46528efb80f2\",\"type\":\"BoxAnnotation\"},{\"attributes\":{},\"id\":\"ecc049ed-afab-4fd4-88d5-d8ed9cae0932\",\"type\":\"WheelZoomTool\"},{\"attributes\":{\"overlay\":{\"id\":\"dd8433c1-7f8e-4626-b1d3-46528efb80f2\",\"type\":\"BoxAnnotation\"}},\"id\":\"1a8ffc1e-0b0a-4ed1-ad10-ef823d569610\",\"type\":\"BoxZoomTool\"},{\"attributes\":{},\"id\":\"7698b57a-996f-4ad5-b338-1df0089b3c51\",\"type\":\"SaveTool\"},{\"attributes\":{},\"id\":\"f2ef9b30-ada7-4a16-9b7f-55efcc7b7927\",\"type\":\"PanTool\"},{\"attributes\":{\"dimension\":1,\"plot\":{\"id\":\"c57d7143-92e5-4647-9d94-b391cc0f31b3\",\"subtype\":\"Figure\",\"type\":\"Plot\"},\"ticker\":{\"id\":\"c2bd394c-5545-41d9-b464-f54a236e169e\",\"type\":\"BasicTicker\"}},\"id\":\"d7d6b18c-3138-4546-b882-96ee0b2eef8c\",\"type\":\"Grid\"},{\"attributes\":{},\"id\":\"74674029-1983-43d0-acf2-5f1cb3c7a7dc\",\"type\":\"ResetTool\"},{\"attributes\":{},\"id\":\"40c88c62-1153-4241-8ec5-71e57439168c\",\"type\":\"HelpTool\"},{\"attributes\":{\"fill_alpha\":{\"value\":0.1},\"fill_color\":{\"value\":\"firebrick\"},\"plot\":{\"id\":\"c57d7143-92e5-4647-9d94-b391cc0f31b3\",\"subtype\":\"Figure\",\"type\":\"Plot\"},\"top\":-1},\"id\":\"7120d771-da2d-413a-acc5-0be825f46621\",\"type\":\"BoxAnnotation\"},{\"attributes\":{\"plot\":null,\"text\":\"\"},\"id\":\"9909fc03-a838-44ae-bf0b-b23a14b79774\",\"type\":\"Title\"},{\"attributes\":{\"formatter\":{\"id\":\"ee3c5118-923d-4d77-97d5-431c863c4515\",\"type\":\"BasicTickFormatter\"},\"plot\":{\"id\":\"c57d7143-92e5-4647-9d94-b391cc0f31b3\",\"subtype\":\"Figure\",\"type\":\"Plot\"},\"ticker\":{\"id\":\"c2bd394c-5545-41d9-b464-f54a236e169e\",\"type\":\"BasicTicker\"}},\"id\":\"dcc34b96-2cbf-4d7f-b08b-ac179d646642\",\"type\":\"LinearAxis\"},{\"attributes\":{},\"id\":\"bcbf520e-e348-4a5d-841f-bf5c963080e8\",\"type\":\"BasicTickFormatter\"},{\"attributes\":{\"line_alpha\":0.1,\"line_color\":\"#1f77b4\",\"x\":{\"field\":\"x\"},\"y\":{\"field\":\"y\"}},\"id\":\"0b1a8ba5-a0a3-4c8a-adf5-f18a6628e7b9\",\"type\":\"Line\"},{\"attributes\":{\"callback\":null},\"id\":\"09905275-5c38-4e3e-a507-c991d220f2cc\",\"type\":\"DataRange1d\"},{\"attributes\":{},\"id\":\"15d24e5d-ca5d-4140-b0ab-fda6d38b99de\",\"type\":\"UnionRenderers\"},{\"attributes\":{\"below\":[{\"id\":\"8bebb192-1183-4d62-94c4-641a8cac501c\",\"type\":\"LinearAxis\"}],\"left\":[{\"id\":\"dcc34b96-2cbf-4d7f-b08b-ac179d646642\",\"type\":\"LinearAxis\"}],\"renderers\":[{\"id\":\"8bebb192-1183-4d62-94c4-641a8cac501c\",\"type\":\"LinearAxis\"},{\"id\":\"b45e9cf7-d179-477c-b914-49bc24584ead\",\"type\":\"Grid\"},{\"id\":\"dcc34b96-2cbf-4d7f-b08b-ac179d646642\",\"type\":\"LinearAxis\"},{\"id\":\"d7d6b18c-3138-4546-b882-96ee0b2eef8c\",\"type\":\"Grid\"},{\"id\":\"dd8433c1-7f8e-4626-b1d3-46528efb80f2\",\"type\":\"BoxAnnotation\"},{\"id\":\"246abe07-4999-4cae-ab0c-8036fa6e4056\",\"type\":\"GlyphRenderer\"},{\"id\":\"bb25d078-f86a-4c56-a979-bdcbacbea194\",\"type\":\"BoxAnnotation\"},{\"id\":\"7120d771-da2d-413a-acc5-0be825f46621\",\"type\":\"BoxAnnotation\"},{\"id\":\"57a9a3dc-ae4b-4f2f-83bd-752359b487d7\",\"type\":\"BoxAnnotation\"}],\"title\":{\"id\":\"9909fc03-a838-44ae-bf0b-b23a14b79774\",\"type\":\"Title\"},\"toolbar\":{\"id\":\"05fced96-625f-4c68-b453-c16a4e74dc79\",\"type\":\"Toolbar\"},\"x_range\":{\"id\":\"09905275-5c38-4e3e-a507-c991d220f2cc\",\"type\":\"DataRange1d\"},\"x_scale\":{\"id\":\"43ff0b52-f6a5-42da-b08a-bacf31c2acba\",\"type\":\"LinearScale\"},\"y_range\":{\"id\":\"52972d1c-d693-4733-9fad-868112c89c3b\",\"type\":\"Range1d\"},\"y_scale\":{\"id\":\"322d4540-8465-41d1-8752-436a355c93d6\",\"type\":\"LinearScale\"}},\"id\":\"c57d7143-92e5-4647-9d94-b391cc0f31b3\",\"subtype\":\"Figure\",\"type\":\"Plot\"},{\"attributes\":{\"formatter\":{\"id\":\"bcbf520e-e348-4a5d-841f-bf5c963080e8\",\"type\":\"BasicTickFormatter\"},\"plot\":{\"id\":\"c57d7143-92e5-4647-9d94-b391cc0f31b3\",\"subtype\":\"Figure\",\"type\":\"Plot\"},\"ticker\":{\"id\":\"a22fe6f2-f50f-4b0c-96a9-133529edb764\",\"type\":\"BasicTicker\"}},\"id\":\"8bebb192-1183-4d62-94c4-641a8cac501c\",\"type\":\"LinearAxis\"},{\"attributes\":{},\"id\":\"9c2acf22-a5b3-4db8-82fe-d1eca1398aa0\",\"type\":\"Selection\"},{\"attributes\":{\"callback\":null,\"data\":{\"x\":{\"__ndarray__\":\"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\",\"dtype\":\"float64\",\"shape\":[200]},\"y\":{\"__ndarray__\":\"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\",\"dtype\":\"float64\",\"shape\":[200]}},\"selected\":{\"id\":\"9c2acf22-a5b3-4db8-82fe-d1eca1398aa0\",\"type\":\"Selection\"},\"selection_policy\":{\"id\":\"15d24e5d-ca5d-4140-b0ab-fda6d38b99de\",\"type\":\"UnionRenderers\"}},\"id\":\"1d588a38-1b17-4bf6-82a0-b1c196f33dfc\",\"type\":\"ColumnDataSource\"},{\"attributes\":{\"bottom\":-0.3,\"fill_alpha\":{\"value\":0.1},\"fill_color\":{\"value\":\"navy\"},\"left\":7,\"plot\":{\"id\":\"c57d7143-92e5-4647-9d94-b391cc0f31b3\",\"subtype\":\"Figure\",\"type\":\"Plot\"},\"right\":12,\"top\":0.6},\"id\":\"57a9a3dc-ae4b-4f2f-83bd-752359b487d7\",\"type\":\"BoxAnnotation\"},{\"attributes\":{},\"id\":\"ee3c5118-923d-4d77-97d5-431c863c4515\",\"type\":\"BasicTickFormatter\"},{\"attributes\":{\"active_drag\":\"auto\",\"active_inspect\":\"auto\",\"active_scroll\":\"auto\",\"active_tap\":\"auto\",\"tools\":[{\"id\":\"f2ef9b30-ada7-4a16-9b7f-55efcc7b7927\",\"type\":\"PanTool\"},{\"id\":\"ecc049ed-afab-4fd4-88d5-d8ed9cae0932\",\"type\":\"WheelZoomTool\"},{\"id\":\"1a8ffc1e-0b0a-4ed1-ad10-ef823d569610\",\"type\":\"BoxZoomTool\"},{\"id\":\"7698b57a-996f-4ad5-b338-1df0089b3c51\",\"type\":\"SaveTool\"},{\"id\":\"74674029-1983-43d0-acf2-5f1cb3c7a7dc\",\"type\":\"ResetTool\"},{\"id\":\"40c88c62-1153-4241-8ec5-71e57439168c\",\"type\":\"HelpTool\"}]},\"id\":\"05fced96-625f-4c68-b453-c16a4e74dc79\",\"type\":\"Toolbar\"},{\"attributes\":{\"callback\":null,\"end\":2,\"start\":-2},\"id\":\"52972d1c-d693-4733-9fad-868112c89c3b\",\"type\":\"Range1d\"},{\"attributes\":{},\"id\":\"43ff0b52-f6a5-42da-b08a-bacf31c2acba\",\"type\":\"LinearScale\"},{\"attributes\":{\"bottom\":1,\"fill_alpha\":{\"value\":0.1},\"fill_color\":{\"value\":\"olive\"},\"plot\":{\"id\":\"c57d7143-92e5-4647-9d94-b391cc0f31b3\",\"subtype\":\"Figure\",\"type\":\"Plot\"}},\"id\":\"bb25d078-f86a-4c56-a979-bdcbacbea194\",\"type\":\"BoxAnnotation\"},{\"attributes\":{\"plot\":{\"id\":\"c57d7143-92e5-4647-9d94-b391cc0f31b3\",\"subtype\":\"Figure\",\"type\":\"Plot\"},\"ticker\":{\"id\":\"a22fe6f2-f50f-4b0c-96a9-133529edb764\",\"type\":\"BasicTicker\"}},\"id\":\"b45e9cf7-d179-477c-b914-49bc24584ead\",\"type\":\"Grid\"},{\"attributes\":{\"data_source\":{\"id\":\"1d588a38-1b17-4bf6-82a0-b1c196f33dfc\",\"type\":\"ColumnDataSource\"},\"glyph\":{\"id\":\"a072c0bf-af9f-43cf-a5f9-e69c3a11308d\",\"type\":\"Line\"},\"hover_glyph\":null,\"muted_glyph\":null,\"nonselection_glyph\":{\"id\":\"0b1a8ba5-a0a3-4c8a-adf5-f18a6628e7b9\",\"type\":\"Line\"},\"selection_glyph\":null,\"view\":{\"id\":\"e73ef5b2-a6a7-4e03-881a-27a3c65cf0dc\",\"type\":\"CDSView\"}},\"id\":\"246abe07-4999-4cae-ab0c-8036fa6e4056\",\"type\":\"GlyphRenderer\"},{\"attributes\":{},\"id\":\"c2bd394c-5545-41d9-b464-f54a236e169e\",\"type\":\"BasicTicker\"},{\"attributes\":{},\"id\":\"322d4540-8465-41d1-8752-436a355c93d6\",\"type\":\"LinearScale\"},{\"attributes\":{\"line_color\":\"#1f77b4\",\"x\":{\"field\":\"x\"},\"y\":{\"field\":\"y\"}},\"id\":\"a072c0bf-af9f-43cf-a5f9-e69c3a11308d\",\"type\":\"Line\"},{\"attributes\":{\"source\":{\"id\":\"1d588a38-1b17-4bf6-82a0-b1c196f33dfc\",\"type\":\"ColumnDataSource\"}},\"id\":\"e73ef5b2-a6a7-4e03-881a-27a3c65cf0dc\",\"type\":\"CDSView\"}],\"root_ids\":[\"c57d7143-92e5-4647-9d94-b391cc0f31b3\"]},\"title\":\"Bokeh Application\",\"version\":\"0.12.16\"}};\n",
       "  var render_items = [{\"docid\":\"ef311ad9-59ac-4ad5-8fc1-677296a5f034\",\"elementid\":\"dd58a47e-1020-4ffa-bb8b-490a067c41be\",\"modelid\":\"c57d7143-92e5-4647-9d94-b391cc0f31b3\"}];\n",
       "  root.Bokeh.embed.embed_items_notebook(docs_json, render_items);\n",
       "\n",
       "  }\n",
       "  if (root.Bokeh !== undefined) {\n",
       "    embed_document(root);\n",
       "  } else {\n",
       "    var attempts = 0;\n",
       "    var timer = setInterval(function(root) {\n",
       "      if (root.Bokeh !== undefined) {\n",
       "        embed_document(root);\n",
       "        clearInterval(timer);\n",
       "      }\n",
       "      attempts++;\n",
       "      if (attempts > 100) {\n",
       "        console.log(\"Bokeh: ERROR: Unable to run BokehJS code because BokehJS library is missing\")\n",
       "        clearInterval(timer);\n",
       "      }\n",
       "    }, 10, root)\n",
       "  }\n",
       "})(window);"
      ],
      "application/vnd.bokehjs_exec.v0+json": ""
     },
     "metadata": {
      "application/vnd.bokehjs_exec.v0+json": {
       "id": "c57d7143-92e5-4647-9d94-b391cc0f31b3"
      }
     },
     "output_type": "display_data"
    }
   ],
   "source": [
    "from bokeh.models.annotations import BoxAnnotation\n",
    "# 导入BoxAnnotation模块\n",
    "\n",
    "x = np.linspace(0, 20, 200)\n",
    "y = np.sin(x)\n",
    "# 创建x，y数据\n",
    "\n",
    "p = figure(y_range=(-2, 2))\n",
    "p.line(x, y)\n",
    "# 绘制曲线\n",
    "\n",
    "upper = BoxAnnotation(bottom=1, fill_alpha=0.1, fill_color='olive')\n",
    "p.add_layout(upper)\n",
    "# 绘制辅助矩形1\n",
    "\n",
    "lower = BoxAnnotation(top=-1, fill_alpha=0.1, fill_color='firebrick')\n",
    "p.add_layout(lower)\n",
    "# 绘制辅助矩形2\n",
    "\n",
    "center = BoxAnnotation(top=0.6, bottom=-0.3, left=7, right=12,  # 设置矩形四边位置\n",
    "                       fill_alpha=0.1, fill_color='navy'        # 设置透明度、颜色\n",
    "                      )\n",
    "p.add_layout(center)\n",
    "# 绘制辅助矩形3\n",
    "\n",
    "show(p)"
   ]
  },
  {
   "cell_type": "code",
   "execution_count": 43,
   "metadata": {},
   "outputs": [
    {
     "data": {
      "text/html": [
       "\n",
       "<div class=\"bk-root\">\n",
       "    <div class=\"bk-plotdiv\" id=\"6cc083ee-0b05-447b-9f3d-0826dab9d09f\"></div>\n",
       "</div>"
      ]
     },
     "metadata": {},
     "output_type": "display_data"
    },
    {
     "data": {
      "application/javascript": [
       "(function(root) {\n",
       "  function embed_document(root) {\n",
       "    \n",
       "  var docs_json = {\"145934e0-a877-49db-b796-65fe2951669a\":{\"roots\":{\"references\":[{\"attributes\":{\"source\":{\"id\":\"73581c6a-b446-4a72-bd84-2014b6753e9c\",\"type\":\"ColumnDataSource\"}},\"id\":\"32868f81-2d5d-4f0f-a3f9-252df8938be4\",\"type\":\"CDSView\"},{\"attributes\":{},\"id\":\"013b0432-c1c7-4bf5-8bca-7fd8f03738fe\",\"type\":\"BasicTicker\"},{\"attributes\":{\"formatter\":{\"id\":\"6b99e7ea-0833-420a-b429-bb776ab56141\",\"type\":\"BasicTickFormatter\"},\"plot\":{\"id\":\"0730345b-cf7d-4a87-90ec-22a94e3d13c0\",\"subtype\":\"Figure\",\"type\":\"Plot\"},\"ticker\":{\"id\":\"013b0432-c1c7-4bf5-8bca-7fd8f03738fe\",\"type\":\"BasicTicker\"}},\"id\":\"d91f1cbb-bc5d-4e94-a384-22fcec764d35\",\"type\":\"LinearAxis\"},{\"attributes\":{\"plot\":{\"id\":\"0730345b-cf7d-4a87-90ec-22a94e3d13c0\",\"subtype\":\"Figure\",\"type\":\"Plot\"},\"ticker\":{\"id\":\"013b0432-c1c7-4bf5-8bca-7fd8f03738fe\",\"type\":\"BasicTicker\"}},\"id\":\"8b274ade-4975-40f7-9451-b0af7f0405a2\",\"type\":\"Grid\"},{\"attributes\":{\"background_fill_alpha\":{\"value\":0.5},\"background_fill_color\":{\"value\":\"gray\"},\"border_line_color\":{\"value\":\"red\"},\"plot\":{\"id\":\"0730345b-cf7d-4a87-90ec-22a94e3d13c0\",\"subtype\":\"Figure\",\"type\":\"Plot\"},\"text\":\"\\u4e2d\\u6587\",\"text_font_size\":{\"value\":\"12pt\"},\"x\":5,\"x_offset\":12,\"y\":7},\"id\":\"4a4c3d31-dd55-4f1f-8b1b-4ff0b55447c8\",\"type\":\"Label\"},{\"attributes\":{},\"id\":\"62f5c559-994d-4f79-948e-594d247a7f96\",\"type\":\"LinearScale\"},{\"attributes\":{\"callback\":null,\"end\":10},\"id\":\"179aa8fe-a9fb-4101-aac0-f0cdcd00b885\",\"type\":\"Range1d\"},{\"attributes\":{\"plot\":null,\"text\":\"\"},\"id\":\"c43356be-08c9-4bb8-b282-937cb97f8d39\",\"type\":\"Title\"},{\"attributes\":{\"formatter\":{\"id\":\"6b89f02d-a936-44bc-b6bd-53c69c63daca\",\"type\":\"BasicTickFormatter\"},\"plot\":{\"id\":\"0730345b-cf7d-4a87-90ec-22a94e3d13c0\",\"subtype\":\"Figure\",\"type\":\"Plot\"},\"ticker\":{\"id\":\"c25d8d6c-5efa-4b5d-b849-0f56476da254\",\"type\":\"BasicTicker\"}},\"id\":\"12aba140-3120-4e76-b53b-a96ccd069f17\",\"type\":\"LinearAxis\"},{\"attributes\":{},\"id\":\"0dfc0b19-b0c5-4aad-9950-1b82429e4b98\",\"type\":\"ResetTool\"},{\"attributes\":{\"callback\":null,\"end\":10},\"id\":\"b26734d6-7029-4e79-9696-01943f2ab409\",\"type\":\"Range1d\"},{\"attributes\":{},\"id\":\"6b99e7ea-0833-420a-b429-bb776ab56141\",\"type\":\"BasicTickFormatter\"},{\"attributes\":{},\"id\":\"6b89f02d-a936-44bc-b6bd-53c69c63daca\",\"type\":\"BasicTickFormatter\"},{\"attributes\":{},\"id\":\"c9be689f-7e86-46d5-a819-f51728ffc937\",\"type\":\"PanTool\"},{\"attributes\":{},\"id\":\"80ab3b6f-002c-4354-8f04-629ec6d6da6d\",\"type\":\"Selection\"},{\"attributes\":{\"bottom_units\":\"screen\",\"fill_alpha\":{\"value\":0.5},\"fill_color\":{\"value\":\"lightgrey\"},\"left_units\":\"screen\",\"level\":\"overlay\",\"line_alpha\":{\"value\":1.0},\"line_color\":{\"value\":\"black\"},\"line_dash\":[4,4],\"line_width\":{\"value\":2},\"plot\":null,\"render_mode\":\"css\",\"right_units\":\"screen\",\"top_units\":\"screen\"},\"id\":\"40f7d592-d16a-4a1b-95fc-2e68309f999f\",\"type\":\"BoxAnnotation\"},{\"attributes\":{\"active_drag\":\"auto\",\"active_inspect\":\"auto\",\"active_scroll\":\"auto\",\"active_tap\":\"auto\",\"tools\":[{\"id\":\"c9be689f-7e86-46d5-a819-f51728ffc937\",\"type\":\"PanTool\"},{\"id\":\"3bc61673-5206-480a-80d0-6385fdb69b5b\",\"type\":\"WheelZoomTool\"},{\"id\":\"411072f9-36db-453e-a6b0-72dbcbe5e297\",\"type\":\"BoxZoomTool\"},{\"id\":\"57e01a6a-dfcd-44b0-a2a1-23706252fe95\",\"type\":\"SaveTool\"},{\"id\":\"0dfc0b19-b0c5-4aad-9950-1b82429e4b98\",\"type\":\"ResetTool\"},{\"id\":\"3b932873-cbac-4cea-8f95-68697020f6b8\",\"type\":\"HelpTool\"}]},\"id\":\"a12c28c1-9cfa-46c2-8e90-564bb26b66d0\",\"type\":\"Toolbar\"},{\"attributes\":{},\"id\":\"3bc61673-5206-480a-80d0-6385fdb69b5b\",\"type\":\"WheelZoomTool\"},{\"attributes\":{},\"id\":\"61c8d5ad-2467-4b27-a229-15fb476c2d8e\",\"type\":\"UnionRenderers\"},{\"attributes\":{\"data_source\":{\"id\":\"73581c6a-b446-4a72-bd84-2014b6753e9c\",\"type\":\"ColumnDataSource\"},\"glyph\":{\"id\":\"49b1fc62-9135-4c16-a2fd-78acef8faa13\",\"type\":\"Circle\"},\"hover_glyph\":null,\"muted_glyph\":null,\"nonselection_glyph\":{\"id\":\"46d53b99-6886-49bc-9e63-388d3c9c5b00\",\"type\":\"Circle\"},\"selection_glyph\":null,\"view\":{\"id\":\"32868f81-2d5d-4f0f-a3f9-252df8938be4\",\"type\":\"CDSView\"}},\"id\":\"1289e8bf-1ef3-4218-ab3a-c8a3b2b9f8aa\",\"type\":\"GlyphRenderer\"},{\"attributes\":{\"dimension\":1,\"plot\":{\"id\":\"0730345b-cf7d-4a87-90ec-22a94e3d13c0\",\"subtype\":\"Figure\",\"type\":\"Plot\"},\"ticker\":{\"id\":\"c25d8d6c-5efa-4b5d-b849-0f56476da254\",\"type\":\"BasicTicker\"}},\"id\":\"84beaf01-edcd-4439-9a9e-c5e4bf15423d\",\"type\":\"Grid\"},{\"attributes\":{},\"id\":\"52ddb8b4-c108-4d58-b9f8-05bc25951dc6\",\"type\":\"LinearScale\"},{\"attributes\":{\"callback\":null,\"data\":{\"x\":[2,5,8],\"y\":[4,7,6]},\"selected\":{\"id\":\"80ab3b6f-002c-4354-8f04-629ec6d6da6d\",\"type\":\"Selection\"},\"selection_policy\":{\"id\":\"61c8d5ad-2467-4b27-a229-15fb476c2d8e\",\"type\":\"UnionRenderers\"}},\"id\":\"73581c6a-b446-4a72-bd84-2014b6753e9c\",\"type\":\"ColumnDataSource\"},{\"attributes\":{},\"id\":\"c25d8d6c-5efa-4b5d-b849-0f56476da254\",\"type\":\"BasicTicker\"},{\"attributes\":{},\"id\":\"3b932873-cbac-4cea-8f95-68697020f6b8\",\"type\":\"HelpTool\"},{\"attributes\":{\"overlay\":{\"id\":\"40f7d592-d16a-4a1b-95fc-2e68309f999f\",\"type\":\"BoxAnnotation\"}},\"id\":\"411072f9-36db-453e-a6b0-72dbcbe5e297\",\"type\":\"BoxZoomTool\"},{\"attributes\":{\"fill_alpha\":{\"value\":0.1},\"fill_color\":{\"value\":\"#1f77b4\"},\"line_alpha\":{\"value\":0.1},\"line_color\":{\"value\":\"#1f77b4\"},\"size\":{\"units\":\"screen\",\"value\":10},\"x\":{\"field\":\"x\"},\"y\":{\"field\":\"y\"}},\"id\":\"46d53b99-6886-49bc-9e63-388d3c9c5b00\",\"type\":\"Circle\"},{\"attributes\":{\"fill_color\":{\"value\":\"#2171b5\"},\"line_color\":{\"value\":\"#2171b5\"},\"size\":{\"units\":\"screen\",\"value\":10},\"x\":{\"field\":\"x\"},\"y\":{\"field\":\"y\"}},\"id\":\"49b1fc62-9135-4c16-a2fd-78acef8faa13\",\"type\":\"Circle\"},{\"attributes\":{},\"id\":\"57e01a6a-dfcd-44b0-a2a1-23706252fe95\",\"type\":\"SaveTool\"},{\"attributes\":{\"below\":[{\"id\":\"d91f1cbb-bc5d-4e94-a384-22fcec764d35\",\"type\":\"LinearAxis\"}],\"left\":[{\"id\":\"12aba140-3120-4e76-b53b-a96ccd069f17\",\"type\":\"LinearAxis\"}],\"renderers\":[{\"id\":\"d91f1cbb-bc5d-4e94-a384-22fcec764d35\",\"type\":\"LinearAxis\"},{\"id\":\"8b274ade-4975-40f7-9451-b0af7f0405a2\",\"type\":\"Grid\"},{\"id\":\"12aba140-3120-4e76-b53b-a96ccd069f17\",\"type\":\"LinearAxis\"},{\"id\":\"84beaf01-edcd-4439-9a9e-c5e4bf15423d\",\"type\":\"Grid\"},{\"id\":\"40f7d592-d16a-4a1b-95fc-2e68309f999f\",\"type\":\"BoxAnnotation\"},{\"id\":\"1289e8bf-1ef3-4218-ab3a-c8a3b2b9f8aa\",\"type\":\"GlyphRenderer\"},{\"id\":\"4a4c3d31-dd55-4f1f-8b1b-4ff0b55447c8\",\"type\":\"Label\"}],\"title\":{\"id\":\"c43356be-08c9-4bb8-b282-937cb97f8d39\",\"type\":\"Title\"},\"toolbar\":{\"id\":\"a12c28c1-9cfa-46c2-8e90-564bb26b66d0\",\"type\":\"Toolbar\"},\"x_range\":{\"id\":\"179aa8fe-a9fb-4101-aac0-f0cdcd00b885\",\"type\":\"Range1d\"},\"x_scale\":{\"id\":\"52ddb8b4-c108-4d58-b9f8-05bc25951dc6\",\"type\":\"LinearScale\"},\"y_range\":{\"id\":\"b26734d6-7029-4e79-9696-01943f2ab409\",\"type\":\"Range1d\"},\"y_scale\":{\"id\":\"62f5c559-994d-4f79-948e-594d247a7f96\",\"type\":\"LinearScale\"}},\"id\":\"0730345b-cf7d-4a87-90ec-22a94e3d13c0\",\"subtype\":\"Figure\",\"type\":\"Plot\"}],\"root_ids\":[\"0730345b-cf7d-4a87-90ec-22a94e3d13c0\"]},\"title\":\"Bokeh Application\",\"version\":\"0.12.16\"}};\n",
       "  var render_items = [{\"docid\":\"145934e0-a877-49db-b796-65fe2951669a\",\"elementid\":\"6cc083ee-0b05-447b-9f3d-0826dab9d09f\",\"modelid\":\"0730345b-cf7d-4a87-90ec-22a94e3d13c0\"}];\n",
       "  root.Bokeh.embed.embed_items_notebook(docs_json, render_items);\n",
       "\n",
       "  }\n",
       "  if (root.Bokeh !== undefined) {\n",
       "    embed_document(root);\n",
       "  } else {\n",
       "    var attempts = 0;\n",
       "    var timer = setInterval(function(root) {\n",
       "      if (root.Bokeh !== undefined) {\n",
       "        embed_document(root);\n",
       "        clearInterval(timer);\n",
       "      }\n",
       "      attempts++;\n",
       "      if (attempts > 100) {\n",
       "        console.log(\"Bokeh: ERROR: Unable to run BokehJS code because BokehJS library is missing\")\n",
       "        clearInterval(timer);\n",
       "      }\n",
       "    }, 10, root)\n",
       "  }\n",
       "})(window);"
      ],
      "application/vnd.bokehjs_exec.v0+json": ""
     },
     "metadata": {
      "application/vnd.bokehjs_exec.v0+json": {
       "id": "0730345b-cf7d-4a87-90ec-22a94e3d13c0"
      }
     },
     "output_type": "display_data"
    }
   ],
   "source": [
    "# 绘图注释\n",
    "\n",
    "from bokeh.models.annotations import Label\n",
    "# 导入Label模块，注意是annotations中的Label\n",
    "\n",
    "p = figure(x_range=(0,10), y_range=(0,10))\n",
    "p.circle([2, 5, 8], [4, 7, 6], color=\"#2171b5\", size=10)\n",
    "# 绘制散点图\n",
    "\n",
    "label = Label(x=5, y=7,       # 标注注释位置\n",
    "              x_offset=12,    # x偏移，同理y_offset\n",
    "              text=\"中文\",      # 注释内容\n",
    "              text_font_size=\"12pt\",    # 字体大小\n",
    "              border_line_color=\"red\", background_fill_color=\"gray\", background_fill_alpha = 0.5   # 背景线条颜色、背景颜色、透明度\n",
    "             )\n",
    "p.add_layout(label)\n",
    "# 绘制注释\n",
    "\n",
    "show(p)"
   ]
  },
  {
   "cell_type": "code",
   "execution_count": 41,
   "metadata": {},
   "outputs": [
    {
     "data": {
      "text/html": [
       "\n",
       "<div class=\"bk-root\">\n",
       "    <div class=\"bk-plotdiv\" id=\"cb7a841d-2b9d-4829-a182-c951b08ff132\"></div>\n",
       "</div>"
      ]
     },
     "metadata": {},
     "output_type": "display_data"
    },
    {
     "data": {
      "application/javascript": [
       "(function(root) {\n",
       "  function embed_document(root) {\n",
       "    \n",
       "  var docs_json = {\"2fa9297d-9483-44ab-aa39-69a6095c3240\":{\"roots\":{\"references\":[{\"attributes\":{\"end\":{\"id\":\"99e45eec-4584-46e5-923a-68389aed644e\",\"type\":\"OpenHead\"},\"plot\":{\"id\":\"dcd55253-8ddf-4201-b0fb-2f9d850389ff\",\"subtype\":\"Figure\",\"type\":\"Plot\"},\"source\":null,\"start\":null,\"x_end\":{\"value\":1},\"x_start\":{\"value\":0},\"y_end\":{\"value\":0},\"y_start\":{\"value\":0}},\"id\":\"4ef77c7e-e1bb-4025-a816-ecf390db55af\",\"type\":\"Arrow\"},{\"attributes\":{\"dimension\":1,\"plot\":{\"id\":\"dcd55253-8ddf-4201-b0fb-2f9d850389ff\",\"subtype\":\"Figure\",\"type\":\"Plot\"},\"ticker\":{\"id\":\"e119aeec-5eb7-41da-b784-e69649d75f24\",\"type\":\"BasicTicker\"}},\"id\":\"e25533ee-fdee-4dab-a5d9-6c97c5cda10c\",\"type\":\"Grid\"},{\"attributes\":{\"data_source\":{\"id\":\"9d238dfc-aed4-467d-8e18-5f078025fa32\",\"type\":\"ColumnDataSource\"},\"glyph\":{\"id\":\"6b61bff7-55e8-46a0-8331-bd70bd424f03\",\"type\":\"Circle\"},\"hover_glyph\":null,\"muted_glyph\":null,\"nonselection_glyph\":{\"id\":\"32736c53-1dd4-4b28-b62b-74de0ca9cb5a\",\"type\":\"Circle\"},\"selection_glyph\":null,\"view\":{\"id\":\"36523f87-9862-4937-8961-b699f570ac89\",\"type\":\"CDSView\"}},\"id\":\"566438cd-f6f3-4ec8-a510-7defeccc0124\",\"type\":\"GlyphRenderer\"},{\"attributes\":{\"fill_alpha\":{\"value\":0.1},\"fill_color\":{\"value\":\"#1f77b4\"},\"line_alpha\":{\"value\":0.1},\"line_color\":{\"value\":\"#1f77b4\"},\"radius\":{\"units\":\"data\",\"value\":0.1},\"x\":{\"field\":\"x\"},\"y\":{\"field\":\"y\"}},\"id\":\"32736c53-1dd4-4b28-b62b-74de0ca9cb5a\",\"type\":\"Circle\"},{\"attributes\":{},\"id\":\"bd73afcd-ad12-44e5-8a5c-1acb3dbb29d3\",\"type\":\"LinearScale\"},{\"attributes\":{\"bottom_units\":\"screen\",\"fill_alpha\":{\"value\":0.5},\"fill_color\":{\"value\":\"lightgrey\"},\"left_units\":\"screen\",\"level\":\"overlay\",\"line_alpha\":{\"value\":1.0},\"line_color\":{\"value\":\"black\"},\"line_dash\":[4,4],\"line_width\":{\"value\":2},\"plot\":null,\"render_mode\":\"css\",\"right_units\":\"screen\",\"top_units\":\"screen\"},\"id\":\"ddc4fe68-0166-4052-a79c-3861fae1f757\",\"type\":\"BoxAnnotation\"},{\"attributes\":{},\"id\":\"d81cc04c-7864-4baa-b399-71eb5daf7761\",\"type\":\"PanTool\"},{\"attributes\":{\"source\":{\"id\":\"9d238dfc-aed4-467d-8e18-5f078025fa32\",\"type\":\"ColumnDataSource\"}},\"id\":\"36523f87-9862-4937-8961-b699f570ac89\",\"type\":\"CDSView\"},{\"attributes\":{},\"id\":\"8bb59c7c-9dab-4974-b280-413d2473e03d\",\"type\":\"WheelZoomTool\"},{\"attributes\":{\"overlay\":{\"id\":\"ddc4fe68-0166-4052-a79c-3861fae1f757\",\"type\":\"BoxAnnotation\"}},\"id\":\"b1071af4-2d6a-42dd-8e4a-c9dc71a0b8ed\",\"type\":\"BoxZoomTool\"},{\"attributes\":{},\"id\":\"ee826a2f-4d64-47a4-b660-077e9251ef0a\",\"type\":\"LinearScale\"},{\"attributes\":{},\"id\":\"5d1a37f6-77ad-4630-97a3-7f8c470297e7\",\"type\":\"SaveTool\"},{\"attributes\":{},\"id\":\"8428b670-7e49-485d-abf1-0f06c829618f\",\"type\":\"ResetTool\"},{\"attributes\":{},\"id\":\"bd1bc6af-6cc7-4750-aab5-cb4b8dd7d02c\",\"type\":\"HelpTool\"},{\"attributes\":{\"fill_color\":{\"value\":\"orange\"},\"plot\":null},\"id\":\"f145c2ef-9657-4e66-81df-f11e49a034bc\",\"type\":\"NormalHead\"},{\"attributes\":{\"plot\":null,\"size\":35},\"id\":\"6395c069-f8e1-4fd4-8735-f7e2faa731eb\",\"type\":\"VeeHead\"},{\"attributes\":{\"end\":{\"id\":\"6395c069-f8e1-4fd4-8735-f7e2faa731eb\",\"type\":\"VeeHead\"},\"line_color\":{\"value\":\"red\"},\"plot\":{\"id\":\"dcd55253-8ddf-4201-b0fb-2f9d850389ff\",\"subtype\":\"Figure\",\"type\":\"Plot\"},\"source\":null,\"start\":null,\"x_end\":{\"value\":0},\"x_start\":{\"value\":0.5},\"y_end\":{\"value\":0},\"y_start\":{\"value\":0.7}},\"id\":\"698490f9-bc67-49d7-ab50-7fec08340023\",\"type\":\"Arrow\"},{\"attributes\":{\"formatter\":{\"id\":\"ffa5d70c-1168-45fd-bcac-72aad733fc25\",\"type\":\"BasicTickFormatter\"},\"plot\":{\"id\":\"dcd55253-8ddf-4201-b0fb-2f9d850389ff\",\"subtype\":\"Figure\",\"type\":\"Plot\"},\"ticker\":{\"id\":\"98df3ef4-eb03-4cf8-a67b-8ff2e0264523\",\"type\":\"BasicTicker\"}},\"id\":\"9a859d83-14c8-4b94-81f8-987431830078\",\"type\":\"LinearAxis\"},{\"attributes\":{},\"id\":\"bafa54ec-849c-4ed8-bfdf-b6b67d23e348\",\"type\":\"BasicTickFormatter\"},{\"attributes\":{},\"id\":\"3809bdd7-e045-4ba4-8417-68048c436203\",\"type\":\"UnionRenderers\"},{\"attributes\":{\"formatter\":{\"id\":\"bafa54ec-849c-4ed8-bfdf-b6b67d23e348\",\"type\":\"BasicTickFormatter\"},\"plot\":{\"id\":\"dcd55253-8ddf-4201-b0fb-2f9d850389ff\",\"subtype\":\"Figure\",\"type\":\"Plot\"},\"ticker\":{\"id\":\"e119aeec-5eb7-41da-b784-e69649d75f24\",\"type\":\"BasicTicker\"}},\"id\":\"b38e8854-2395-4bd8-b9f8-1b696caaab5d\",\"type\":\"LinearAxis\"},{\"attributes\":{},\"id\":\"ffa5d70c-1168-45fd-bcac-72aad733fc25\",\"type\":\"BasicTickFormatter\"},{\"attributes\":{\"callback\":null},\"id\":\"0a8ea39b-654b-4719-8345-ccce3ad04b6b\",\"type\":\"DataRange1d\"},{\"attributes\":{\"end\":{\"id\":\"f145c2ef-9657-4e66-81df-f11e49a034bc\",\"type\":\"NormalHead\"},\"plot\":{\"id\":\"dcd55253-8ddf-4201-b0fb-2f9d850389ff\",\"subtype\":\"Figure\",\"type\":\"Plot\"},\"source\":null,\"start\":null,\"x_end\":{\"value\":0.5},\"x_start\":{\"value\":1},\"y_end\":{\"value\":0.7},\"y_start\":{\"value\":0}},\"id\":\"3f0194ff-d40d-4c15-9b09-ca964afe7b6a\",\"type\":\"Arrow\"},{\"attributes\":{},\"id\":\"98df3ef4-eb03-4cf8-a67b-8ff2e0264523\",\"type\":\"BasicTicker\"},{\"attributes\":{\"active_drag\":\"auto\",\"active_inspect\":\"auto\",\"active_scroll\":\"auto\",\"active_tap\":\"auto\",\"tools\":[{\"id\":\"d81cc04c-7864-4baa-b399-71eb5daf7761\",\"type\":\"PanTool\"},{\"id\":\"8bb59c7c-9dab-4974-b280-413d2473e03d\",\"type\":\"WheelZoomTool\"},{\"id\":\"b1071af4-2d6a-42dd-8e4a-c9dc71a0b8ed\",\"type\":\"BoxZoomTool\"},{\"id\":\"5d1a37f6-77ad-4630-97a3-7f8c470297e7\",\"type\":\"SaveTool\"},{\"id\":\"8428b670-7e49-485d-abf1-0f06c829618f\",\"type\":\"ResetTool\"},{\"id\":\"bd1bc6af-6cc7-4750-aab5-cb4b8dd7d02c\",\"type\":\"HelpTool\"}]},\"id\":\"468d000b-31ff-4fc7-afe2-fc5630acb348\",\"type\":\"Toolbar\"},{\"attributes\":{\"callback\":null},\"id\":\"77d7f407-b704-43b3-be64-9be96f5cacbb\",\"type\":\"DataRange1d\"},{\"attributes\":{\"plot\":{\"id\":\"dcd55253-8ddf-4201-b0fb-2f9d850389ff\",\"subtype\":\"Figure\",\"type\":\"Plot\"},\"ticker\":{\"id\":\"98df3ef4-eb03-4cf8-a67b-8ff2e0264523\",\"type\":\"BasicTicker\"}},\"id\":\"0884c5ff-055c-47ae-92d7-d72ca2110808\",\"type\":\"Grid\"},{\"attributes\":{},\"id\":\"abb99c9e-c500-4243-b828-7fdb2656730d\",\"type\":\"Selection\"},{\"attributes\":{\"below\":[{\"id\":\"9a859d83-14c8-4b94-81f8-987431830078\",\"type\":\"LinearAxis\"}],\"left\":[{\"id\":\"b38e8854-2395-4bd8-b9f8-1b696caaab5d\",\"type\":\"LinearAxis\"}],\"renderers\":[{\"id\":\"9a859d83-14c8-4b94-81f8-987431830078\",\"type\":\"LinearAxis\"},{\"id\":\"0884c5ff-055c-47ae-92d7-d72ca2110808\",\"type\":\"Grid\"},{\"id\":\"b38e8854-2395-4bd8-b9f8-1b696caaab5d\",\"type\":\"LinearAxis\"},{\"id\":\"e25533ee-fdee-4dab-a5d9-6c97c5cda10c\",\"type\":\"Grid\"},{\"id\":\"ddc4fe68-0166-4052-a79c-3861fae1f757\",\"type\":\"BoxAnnotation\"},{\"id\":\"566438cd-f6f3-4ec8-a510-7defeccc0124\",\"type\":\"GlyphRenderer\"},{\"id\":\"4ef77c7e-e1bb-4025-a816-ecf390db55af\",\"type\":\"Arrow\"},{\"id\":\"3f0194ff-d40d-4c15-9b09-ca964afe7b6a\",\"type\":\"Arrow\"},{\"id\":\"698490f9-bc67-49d7-ab50-7fec08340023\",\"type\":\"Arrow\"}],\"title\":{\"id\":\"d8f9c15a-e38f-4112-b341-40e3d961bb0c\",\"type\":\"Title\"},\"toolbar\":{\"id\":\"468d000b-31ff-4fc7-afe2-fc5630acb348\",\"type\":\"Toolbar\"},\"x_range\":{\"id\":\"0a8ea39b-654b-4719-8345-ccce3ad04b6b\",\"type\":\"DataRange1d\"},\"x_scale\":{\"id\":\"ee826a2f-4d64-47a4-b660-077e9251ef0a\",\"type\":\"LinearScale\"},\"y_range\":{\"id\":\"77d7f407-b704-43b3-be64-9be96f5cacbb\",\"type\":\"DataRange1d\"},\"y_scale\":{\"id\":\"bd73afcd-ad12-44e5-8a5c-1acb3dbb29d3\",\"type\":\"LinearScale\"}},\"id\":\"dcd55253-8ddf-4201-b0fb-2f9d850389ff\",\"subtype\":\"Figure\",\"type\":\"Plot\"},{\"attributes\":{\"line_color\":{\"value\":\"firebrick\"},\"line_width\":{\"value\":4},\"plot\":null},\"id\":\"99e45eec-4584-46e5-923a-68389aed644e\",\"type\":\"OpenHead\"},{\"attributes\":{\"fill_alpha\":{\"value\":0.1},\"fill_color\":{\"field\":\"fill_color\"},\"line_color\":{\"field\":\"line_color\"},\"radius\":{\"units\":\"data\",\"value\":0.1},\"x\":{\"field\":\"x\"},\"y\":{\"field\":\"y\"}},\"id\":\"6b61bff7-55e8-46a0-8331-bd70bd424f03\",\"type\":\"Circle\"},{\"attributes\":{\"plot\":null,\"text\":\"\"},\"id\":\"d8f9c15a-e38f-4112-b341-40e3d961bb0c\",\"type\":\"Title\"},{\"attributes\":{\"callback\":null,\"data\":{\"fill_color\":[\"navy\",\"yellow\",\"red\"],\"line_color\":[\"navy\",\"yellow\",\"red\"],\"x\":[0,1,0.5],\"y\":[0,0,0.7]},\"selected\":{\"id\":\"abb99c9e-c500-4243-b828-7fdb2656730d\",\"type\":\"Selection\"},\"selection_policy\":{\"id\":\"3809bdd7-e045-4ba4-8417-68048c436203\",\"type\":\"UnionRenderers\"}},\"id\":\"9d238dfc-aed4-467d-8e18-5f078025fa32\",\"type\":\"ColumnDataSource\"},{\"attributes\":{},\"id\":\"e119aeec-5eb7-41da-b784-e69649d75f24\",\"type\":\"BasicTicker\"}],\"root_ids\":[\"dcd55253-8ddf-4201-b0fb-2f9d850389ff\"]},\"title\":\"Bokeh Application\",\"version\":\"0.12.16\"}};\n",
       "  var render_items = [{\"docid\":\"2fa9297d-9483-44ab-aa39-69a6095c3240\",\"elementid\":\"cb7a841d-2b9d-4829-a182-c951b08ff132\",\"modelid\":\"dcd55253-8ddf-4201-b0fb-2f9d850389ff\"}];\n",
       "  root.Bokeh.embed.embed_items_notebook(docs_json, render_items);\n",
       "\n",
       "  }\n",
       "  if (root.Bokeh !== undefined) {\n",
       "    embed_document(root);\n",
       "  } else {\n",
       "    var attempts = 0;\n",
       "    var timer = setInterval(function(root) {\n",
       "      if (root.Bokeh !== undefined) {\n",
       "        embed_document(root);\n",
       "        clearInterval(timer);\n",
       "      }\n",
       "      attempts++;\n",
       "      if (attempts > 100) {\n",
       "        console.log(\"Bokeh: ERROR: Unable to run BokehJS code because BokehJS library is missing\")\n",
       "        clearInterval(timer);\n",
       "      }\n",
       "    }, 10, root)\n",
       "  }\n",
       "})(window);"
      ],
      "application/vnd.bokehjs_exec.v0+json": ""
     },
     "metadata": {
      "application/vnd.bokehjs_exec.v0+json": {
       "id": "dcd55253-8ddf-4201-b0fb-2f9d850389ff"
      }
     },
     "output_type": "display_data"
    }
   ],
   "source": [
    "# 注释箭头\n",
    "\n",
    "from bokeh.models.annotations import Arrow\n",
    "from bokeh.models.arrow_heads import OpenHead, NormalHead, VeeHead   # 三种箭头类型\n",
    "# 导入相关模块\n",
    "\n",
    "p = figure(plot_width=600, plot_height=600)\n",
    "p.circle(x=[0, 1, 0.5], y=[0, 0, 0.7], radius=0.1, color=[\"navy\", \"yellow\", \"red\"], fill_alpha=0.1)\n",
    "# 创建散点图\n",
    "\n",
    "p.add_layout(Arrow(end=OpenHead(line_color=\"firebrick\", line_width=4),  # 设置箭头类型，及相关参数：OpenHead, NormalHead, VeeHead\n",
    "                   x_start=0, y_start=0, x_end=1, y_end=0))   # 设置箭头矢量方向\n",
    "# 绘制箭头1\n",
    "\n",
    "p.add_layout(Arrow(end=NormalHead(fill_color=\"orange\"),\n",
    "                   x_start=1, y_start=0, x_end=0.5, y_end=0.7))\n",
    "# 绘制箭头2\n",
    "\n",
    "p.add_layout(Arrow(end=VeeHead(size=35), line_color=\"red\",\n",
    "                   x_start=0.5, y_start=0.7, x_end=0, y_end=0))\n",
    "# 绘制箭头3\n",
    "\n",
    "show(p)"
   ]
  },
  {
   "cell_type": "code",
   "execution_count": 42,
   "metadata": {},
   "outputs": [
    {
     "name": "stdout",
     "output_type": "stream",
     "text": [
      "所有调色板名称：\n",
      " ['Accent3', 'Accent4', 'Accent5', 'Accent6', 'Accent7', 'Accent8', 'Blues3', 'Blues4', 'Blues5', 'Blues6', 'Blues7', 'Blues8', 'Blues9', 'BrBG3', 'BrBG4', 'BrBG5', 'BrBG6', 'BrBG7', 'BrBG8', 'BrBG9', 'BrBG10', 'BrBG11', 'BuGn3', 'BuGn4', 'BuGn5', 'BuGn6', 'BuGn7', 'BuGn8', 'BuGn9', 'BuPu3', 'BuPu4', 'BuPu5', 'BuPu6', 'BuPu7', 'BuPu8', 'BuPu9', 'Category10_3', 'Category10_4', 'Category10_5', 'Category10_6', 'Category10_7', 'Category10_8', 'Category10_9', 'Category10_10', 'Category20_3', 'Category20_4', 'Category20_5', 'Category20_6', 'Category20_7', 'Category20_8', 'Category20_9', 'Category20_10', 'Category20_11', 'Category20_12', 'Category20_13', 'Category20_14', 'Category20_15', 'Category20_16', 'Category20_17', 'Category20_18', 'Category20_19', 'Category20_20', 'Category20b3', 'Category20b4', 'Category20b5', 'Category20b6', 'Category20b7', 'Category20b8', 'Category20b9', 'Category20b10', 'Category20b11', 'Category20b12', 'Category20b13', 'Category20b14', 'Category20b15', 'Category20b16', 'Category20b17', 'Category20b18', 'Category20b19', 'Category20b20', 'Category20c3', 'Category20c4', 'Category20c5', 'Category20c6', 'Category20c7', 'Category20c8', 'Category20c9', 'Category20c10', 'Category20c11', 'Category20c12', 'Category20c13', 'Category20c14', 'Category20c15', 'Category20c16', 'Category20c17', 'Category20c18', 'Category20c19', 'Category20c20', 'Colorblind3', 'Colorblind4', 'Colorblind5', 'Colorblind6', 'Colorblind7', 'Colorblind8', 'Dark2_3', 'Dark2_4', 'Dark2_5', 'Dark2_6', 'Dark2_7', 'Dark2_8', 'GnBu3', 'GnBu4', 'GnBu5', 'GnBu6', 'GnBu7', 'GnBu8', 'GnBu9', 'Greens3', 'Greens4', 'Greens5', 'Greens6', 'Greens7', 'Greens8', 'Greens9', 'Greys3', 'Greys4', 'Greys5', 'Greys6', 'Greys7', 'Greys8', 'Greys9', 'Greys256', 'Inferno3', 'Inferno4', 'Inferno5', 'Inferno6', 'Inferno7', 'Inferno8', 'Inferno9', 'Inferno10', 'Inferno11', 'Inferno256', 'Magma3', 'Magma4', 'Magma5', 'Magma6', 'Magma7', 'Magma8', 'Magma9', 'Magma10', 'Magma11', 'Magma256', 'OrRd3', 'OrRd4', 'OrRd5', 'OrRd6', 'OrRd7', 'OrRd8', 'OrRd9', 'Oranges3', 'Oranges4', 'Oranges5', 'Oranges6', 'Oranges7', 'Oranges8', 'Oranges9', 'PRGn3', 'PRGn4', 'PRGn5', 'PRGn6', 'PRGn7', 'PRGn8', 'PRGn9', 'PRGn10', 'PRGn11', 'Paired3', 'Paired4', 'Paired5', 'Paired6', 'Paired7', 'Paired8', 'Paired9', 'Paired10', 'Paired11', 'Paired12', 'Pastel1_3', 'Pastel1_4', 'Pastel1_5', 'Pastel1_6', 'Pastel1_7', 'Pastel1_8', 'Pastel1_9', 'Pastel2_3', 'Pastel2_4', 'Pastel2_5', 'Pastel2_6', 'Pastel2_7', 'Pastel2_8', 'PiYG3', 'PiYG4', 'PiYG5', 'PiYG6', 'PiYG7', 'PiYG8', 'PiYG9', 'PiYG10', 'PiYG11', 'Plasma3', 'Plasma4', 'Plasma5', 'Plasma6', 'Plasma7', 'Plasma8', 'Plasma9', 'Plasma10', 'Plasma11', 'Plasma256', 'PuBu3', 'PuBu4', 'PuBu5', 'PuBu6', 'PuBu7', 'PuBu8', 'PuBu9', 'PuBuGn3', 'PuBuGn4', 'PuBuGn5', 'PuBuGn6', 'PuBuGn7', 'PuBuGn8', 'PuBuGn9', 'PuOr3', 'PuOr4', 'PuOr5', 'PuOr6', 'PuOr7', 'PuOr8', 'PuOr9', 'PuOr10', 'PuOr11', 'PuRd3', 'PuRd4', 'PuRd5', 'PuRd6', 'PuRd7', 'PuRd8', 'PuRd9', 'Purples3', 'Purples4', 'Purples5', 'Purples6', 'Purples7', 'Purples8', 'Purples9', 'RdBu3', 'RdBu4', 'RdBu5', 'RdBu6', 'RdBu7', 'RdBu8', 'RdBu9', 'RdBu10', 'RdBu11', 'RdGy3', 'RdGy4', 'RdGy5', 'RdGy6', 'RdGy7', 'RdGy8', 'RdGy9', 'RdGy10', 'RdGy11', 'RdPu3', 'RdPu4', 'RdPu5', 'RdPu6', 'RdPu7', 'RdPu8', 'RdPu9', 'RdYlBu3', 'RdYlBu4', 'RdYlBu5', 'RdYlBu6', 'RdYlBu7', 'RdYlBu8', 'RdYlBu9', 'RdYlBu10', 'RdYlBu11', 'RdYlGn3', 'RdYlGn4', 'RdYlGn5', 'RdYlGn6', 'RdYlGn7', 'RdYlGn8', 'RdYlGn9', 'RdYlGn10', 'RdYlGn11', 'Reds3', 'Reds4', 'Reds5', 'Reds6', 'Reds7', 'Reds8', 'Reds9', 'Set1_3', 'Set1_4', 'Set1_5', 'Set1_6', 'Set1_7', 'Set1_8', 'Set1_9', 'Set2_3', 'Set2_4', 'Set2_5', 'Set2_6', 'Set2_7', 'Set2_8', 'Set3_3', 'Set3_4', 'Set3_5', 'Set3_6', 'Set3_7', 'Set3_8', 'Set3_9', 'Set3_10', 'Set3_11', 'Set3_12', 'Spectral3', 'Spectral4', 'Spectral5', 'Spectral6', 'Spectral7', 'Spectral8', 'Spectral9', 'Spectral10', 'Spectral11', 'Viridis3', 'Viridis4', 'Viridis5', 'Viridis6', 'Viridis7', 'Viridis8', 'Viridis9', 'Viridis10', 'Viridis11', 'Viridis256', 'YlGn3', 'YlGn4', 'YlGn5', 'YlGn6', 'YlGn7', 'YlGn8', 'YlGn9', 'YlGnBu3', 'YlGnBu4', 'YlGnBu5', 'YlGnBu6', 'YlGnBu7', 'YlGnBu8', 'YlGnBu9', 'YlOrBr3', 'YlOrBr4', 'YlOrBr5', 'YlOrBr6', 'YlOrBr7', 'YlOrBr8', 'YlOrBr9', 'YlOrRd3', 'YlOrRd4', 'YlOrRd5', 'YlOrRd6', 'YlOrRd7', 'YlOrRd8', 'YlOrRd9']\n",
      "-------\n",
      "蓝色调色盘颜色：\n",
      " {3: ['#3182bd', '#9ecae1', '#deebf7'], 4: ['#2171b5', '#6baed6', '#bdd7e7', '#eff3ff'], 5: ['#08519c', '#3182bd', '#6baed6', '#bdd7e7', '#eff3ff'], 6: ['#08519c', '#3182bd', '#6baed6', '#9ecae1', '#c6dbef', '#eff3ff'], 7: ['#084594', '#2171b5', '#4292c6', '#6baed6', '#9ecae1', '#c6dbef', '#eff3ff'], 8: ['#084594', '#2171b5', '#4292c6', '#6baed6', '#9ecae1', '#c6dbef', '#deebf7', '#f7fbff'], 9: ['#08306b', '#08519c', '#2171b5', '#4292c6', '#6baed6', '#9ecae1', '#c6dbef', '#deebf7', '#f7fbff']}\n",
      "-------\n",
      "YlGn调色盘解析为8个颜色，分别为：\n",
      " ['#005a32', '#238443', '#41ab5d', '#78c679', '#addd8e', '#d9f0a3', '#f7fcb9', '#ffffe5']\n"
     ]
    }
   ],
   "source": [
    "# 调色盘\n",
    "# 颜色参考文档：http://bokeh.pydata.org/en/latest/docs/reference/palettes.html\n",
    "# ColorBrewer：http://colorbrewer2.org/#type=sequential&scheme=BuGn&n=3\n",
    "\n",
    "import bokeh.palettes as bp\n",
    "from bokeh.palettes import brewer\n",
    "\n",
    "print('所有调色板名称：\\n',bp.__palettes__)\n",
    "print('-------')\n",
    "# 查看所有调色板名称\n",
    "\n",
    "print('蓝色调色盘颜色：\\n',bp.Blues)\n",
    "print('-------')\n",
    "# 查看蓝色调色盘颜色\n",
    "\n",
    "n = 8\n",
    "colori = brewer['YlGn'][n]   \n",
    "print('YlGn调色盘解析为%i个颜色，分别为：\\n' % n, colori)\n",
    "# 调色盘解析 → 不同颜色解析最多颜色有限"
   ]
  },
  {
   "cell_type": "markdown",
   "metadata": {},
   "source": [
    "## 3. 散点图"
   ]
  },
  {
   "cell_type": "code",
   "execution_count": 44,
   "metadata": {},
   "outputs": [
    {
     "data": {
      "text/html": [
       "\n",
       "<div class=\"bk-root\">\n",
       "    <div class=\"bk-plotdiv\" id=\"07031bc4-5d3b-4b0a-acb6-9af195de4bc2\"></div>\n",
       "</div>"
      ]
     },
     "metadata": {},
     "output_type": "display_data"
    },
    {
     "data": {
      "application/javascript": [
       "(function(root) {\n",
       "  function embed_document(root) {\n",
       "    \n",
       "  var docs_json = {\"6b264d38-13c4-4a7b-a410-7262f2832d1a\":{\"roots\":{\"references\":[{\"attributes\":{},\"id\":\"39b9464a-e70e-404f-a142-14adfc069474\",\"type\":\"ResetTool\"},{\"attributes\":{},\"id\":\"c61638b0-3a96-4cd8-acc1-86c20967e8f8\",\"type\":\"LinearScale\"},{\"attributes\":{\"callback\":null},\"id\":\"bf975dbf-00d3-46c4-b180-9f909629c68e\",\"type\":\"DataRange1d\"},{\"attributes\":{\"fill_alpha\":{\"value\":0.1},\"fill_color\":{\"value\":\"#1f77b4\"},\"line_alpha\":{\"value\":0.1},\"line_color\":{\"value\":\"#1f77b4\"},\"line_dash\":[6],\"line_width\":{\"value\":2},\"size\":{\"units\":\"screen\",\"value\":25},\"x\":{\"field\":\"x\"},\"y\":{\"field\":\"y\"}},\"id\":\"db4800b6-c706-4bf6-8c26-77ef55a41dbd\",\"type\":\"Circle\"},{\"attributes\":{\"callback\":null,\"data\":{\"x\":[0,1,2,3,4,5,6,7,8,9,10,11,12,13,14,15,16,17,18,19,20,21,22,23,24,25,26,27,28,29,30,31,32,33,34,35,36,37,38,39,40,41,42,43,44,45,46,47,48,49,50,51,52,53,54,55,56,57,58,59,60,61,62,63,64,65,66,67,68,69,70,71,72,73,74,75,76,77,78,79],\"y\":{\"__ndarray__\":\"EUzv/arR9b/uhGHcjV60P1IzL8NHpOE/lFwth9Fe2D/gqNJVVFPAP7cTyBBo7Nc/ZA2aeNfw8D8P5PV3RLTYPzRB9AHU2uk/GDUnnEeU9b/OGPoyVJL5v3L6kXJdPqI/Xu1/FF2Q1L+a0ubKMNTqv/b8gIiqKvG/keqL43a09z/KoktjRXTqvzh1yQKmPuM/erG1sCSD5D8vbu/E+3L2P9IQUgmYO9K/vrEw32kJv7+brstFQzTtvyJ6QmyL4v6/4kVixw8K17/4sY2nWc+3v+jSwC5phuS/EEEdUhY2yT/eDlkZJk3xP+K1e0Ceh/W/gBs8iJy74j8b1b/Mtk/0Pypn3NYctNS/kwOIFJUN7D9zfVEagzvWPyMaJ4sBz+k/WBcTGLs7nD+geq67mEDnPxeh6lcjAeG/BO4CbDl34b9d3ZpLMx3ov6X2NpAGTMC/lHcqjZJU4b9FcBryN6/2vzKkjylH2uG/zcawgH7N4D/VbJl3IFDxP33/Qie2uuU/EtJCPJUktj82l+wONJC7PyzdnVPzuPY/MliCLe4rB0ApyB8Odevyv+e8tAN4qo0/0+YaTJsnlL8dFazzJ//vv0xVOqZY1+E/0kWlKuXhvz8YYZLWQ2bmv+Xj0+0u39O/ZleMPokJ8r/msGx0ghjCP/Al4vFm3MW/QEOznZWA8T9iIcBjhXfmv7iHobBapd0/P1qSB2ylwD/jRrs/lBviPxKUGfECbuE/zs2vgrJB8T9Bkau6eZXdvx2GJURuO/m/ySN9F8Hi6b8kLVX2nazQP3GlLYPRVt4/G88jRlrG6D8cGYlIUMwBQLTilkz7U+e/Wf30GHxIoT9nG8ugYrT0vw==\",\"dtype\":\"float64\",\"shape\":[80]}},\"selected\":{\"id\":\"d1f22107-3fa6-4cf5-a306-845f1ab5f27c\",\"type\":\"Selection\"},\"selection_policy\":{\"id\":\"82d44c38-6e41-486b-8132-0459ad29fba7\",\"type\":\"UnionRenderers\"}},\"id\":\"5907911d-ff99-47cb-b7a2-710a2af17d97\",\"type\":\"ColumnDataSource\"},{\"attributes\":{\"formatter\":{\"id\":\"c72ad502-a239-4df2-a278-d14fcd1ebd5a\",\"type\":\"BasicTickFormatter\"},\"plot\":{\"id\":\"69710377-fa8c-4280-b50e-e424c693b998\",\"subtype\":\"Figure\",\"type\":\"Plot\"},\"ticker\":{\"id\":\"03d27dec-7d2a-4113-bbe0-80fa2f56bd08\",\"type\":\"BasicTicker\"}},\"id\":\"bceb91b0-d2b0-41fa-906e-a46980db66f5\",\"type\":\"LinearAxis\"},{\"attributes\":{},\"id\":\"01974157-337e-41fc-a58b-3abf952aa2f9\",\"type\":\"BasicTickFormatter\"},{\"attributes\":{\"plot\":null,\"text\":\"\"},\"id\":\"d4d80d78-dec4-4d39-93aa-ee0d9568057d\",\"type\":\"Title\"},{\"attributes\":{},\"id\":\"18786579-1b58-43de-b108-003d63d961fb\",\"type\":\"LinearScale\"},{\"attributes\":{\"source\":{\"id\":\"5907911d-ff99-47cb-b7a2-710a2af17d97\",\"type\":\"ColumnDataSource\"}},\"id\":\"93584bad-64bb-47e0-9afe-3675b4f0344c\",\"type\":\"CDSView\"},{\"attributes\":{\"data_source\":{\"id\":\"5907911d-ff99-47cb-b7a2-710a2af17d97\",\"type\":\"ColumnDataSource\"},\"glyph\":{\"id\":\"1c26939d-9413-4e35-a75d-295e6968870c\",\"type\":\"Circle\"},\"hover_glyph\":null,\"muted_glyph\":null,\"nonselection_glyph\":{\"id\":\"db4800b6-c706-4bf6-8c26-77ef55a41dbd\",\"type\":\"Circle\"},\"selection_glyph\":null,\"view\":{\"id\":\"93584bad-64bb-47e0-9afe-3675b4f0344c\",\"type\":\"CDSView\"}},\"id\":\"5f4f8f58-1d13-47d0-b4e0-bd93fddd9f20\",\"type\":\"GlyphRenderer\"},{\"attributes\":{},\"id\":\"0cc5dcb8-2cd8-4d22-b8da-dd5741c57a83\",\"type\":\"WheelZoomTool\"},{\"attributes\":{},\"id\":\"82d44c38-6e41-486b-8132-0459ad29fba7\",\"type\":\"UnionRenderers\"},{\"attributes\":{},\"id\":\"ca117b96-5cbc-4356-ab43-5fb7849db6d7\",\"type\":\"BasicTicker\"},{\"attributes\":{\"bottom_units\":\"screen\",\"fill_alpha\":{\"value\":0.5},\"fill_color\":{\"value\":\"lightgrey\"},\"left_units\":\"screen\",\"level\":\"overlay\",\"line_alpha\":{\"value\":1.0},\"line_color\":{\"value\":\"black\"},\"line_dash\":[4,4],\"line_width\":{\"value\":2},\"plot\":null,\"render_mode\":\"css\",\"right_units\":\"screen\",\"top_units\":\"screen\"},\"id\":\"f0291d2c-6181-49b7-888e-0dc90aa95e74\",\"type\":\"BoxAnnotation\"},{\"attributes\":{},\"id\":\"c72ad502-a239-4df2-a278-d14fcd1ebd5a\",\"type\":\"BasicTickFormatter\"},{\"attributes\":{\"label\":{\"value\":\"scatter-circle\"},\"renderers\":[{\"id\":\"5f4f8f58-1d13-47d0-b4e0-bd93fddd9f20\",\"type\":\"GlyphRenderer\"}]},\"id\":\"9c13bd2a-4cff-437c-8624-65bbeef2a468\",\"type\":\"LegendItem\"},{\"attributes\":{},\"id\":\"ec65d22e-60e6-454a-8fa0-ffb1c57cc6ef\",\"type\":\"SaveTool\"},{\"attributes\":{\"fill_alpha\":{\"value\":0.6},\"fill_color\":{\"value\":\"red\"},\"line_alpha\":{\"value\":0.8},\"line_dash\":[6],\"line_width\":{\"value\":2},\"size\":{\"units\":\"screen\",\"value\":25},\"x\":{\"field\":\"x\"},\"y\":{\"field\":\"y\"}},\"id\":\"1c26939d-9413-4e35-a75d-295e6968870c\",\"type\":\"Circle\"},{\"attributes\":{},\"id\":\"24e4c6cf-958c-4574-9758-7d18866f8599\",\"type\":\"HelpTool\"},{\"attributes\":{\"active_drag\":\"auto\",\"active_inspect\":\"auto\",\"active_scroll\":\"auto\",\"active_tap\":\"auto\",\"tools\":[{\"id\":\"91f204a9-5b7f-4e0d-947d-4407500af1ac\",\"type\":\"PanTool\"},{\"id\":\"0cc5dcb8-2cd8-4d22-b8da-dd5741c57a83\",\"type\":\"WheelZoomTool\"},{\"id\":\"b52f50d2-88f1-4c48-9b14-653c341fc1a8\",\"type\":\"BoxZoomTool\"},{\"id\":\"ec65d22e-60e6-454a-8fa0-ffb1c57cc6ef\",\"type\":\"SaveTool\"},{\"id\":\"39b9464a-e70e-404f-a142-14adfc069474\",\"type\":\"ResetTool\"},{\"id\":\"24e4c6cf-958c-4574-9758-7d18866f8599\",\"type\":\"HelpTool\"}]},\"id\":\"14a8b1e0-98ba-4bd4-b866-48aca91180ca\",\"type\":\"Toolbar\"},{\"attributes\":{\"dimension\":1,\"plot\":{\"id\":\"69710377-fa8c-4280-b50e-e424c693b998\",\"subtype\":\"Figure\",\"type\":\"Plot\"},\"ticker\":{\"id\":\"ca117b96-5cbc-4356-ab43-5fb7849db6d7\",\"type\":\"BasicTicker\"}},\"id\":\"e3f43bf9-7b96-4f39-a390-7ab7d334998d\",\"type\":\"Grid\"},{\"attributes\":{},\"id\":\"91f204a9-5b7f-4e0d-947d-4407500af1ac\",\"type\":\"PanTool\"},{\"attributes\":{\"callback\":null},\"id\":\"8d730c9d-1501-4e72-adc8-3b127d32eae3\",\"type\":\"DataRange1d\"},{\"attributes\":{\"plot\":{\"id\":\"69710377-fa8c-4280-b50e-e424c693b998\",\"subtype\":\"Figure\",\"type\":\"Plot\"},\"ticker\":{\"id\":\"03d27dec-7d2a-4113-bbe0-80fa2f56bd08\",\"type\":\"BasicTicker\"}},\"id\":\"e4511251-4ffd-4d9b-a92e-53a9b0711b3d\",\"type\":\"Grid\"},{\"attributes\":{},\"id\":\"d1f22107-3fa6-4cf5-a306-845f1ab5f27c\",\"type\":\"Selection\"},{\"attributes\":{\"below\":[{\"id\":\"bceb91b0-d2b0-41fa-906e-a46980db66f5\",\"type\":\"LinearAxis\"}],\"left\":[{\"id\":\"0bd02c87-6773-49f9-969f-b2de5ca985ef\",\"type\":\"LinearAxis\"}],\"plot_height\":400,\"renderers\":[{\"id\":\"bceb91b0-d2b0-41fa-906e-a46980db66f5\",\"type\":\"LinearAxis\"},{\"id\":\"e4511251-4ffd-4d9b-a92e-53a9b0711b3d\",\"type\":\"Grid\"},{\"id\":\"0bd02c87-6773-49f9-969f-b2de5ca985ef\",\"type\":\"LinearAxis\"},{\"id\":\"e3f43bf9-7b96-4f39-a390-7ab7d334998d\",\"type\":\"Grid\"},{\"id\":\"f0291d2c-6181-49b7-888e-0dc90aa95e74\",\"type\":\"BoxAnnotation\"},{\"id\":\"b355426e-bb0c-411e-8d2f-4841c5597bc9\",\"type\":\"Legend\"},{\"id\":\"5f4f8f58-1d13-47d0-b4e0-bd93fddd9f20\",\"type\":\"GlyphRenderer\"}],\"title\":{\"id\":\"d4d80d78-dec4-4d39-93aa-ee0d9568057d\",\"type\":\"Title\"},\"toolbar\":{\"id\":\"14a8b1e0-98ba-4bd4-b866-48aca91180ca\",\"type\":\"Toolbar\"},\"x_range\":{\"id\":\"8d730c9d-1501-4e72-adc8-3b127d32eae3\",\"type\":\"DataRange1d\"},\"x_scale\":{\"id\":\"18786579-1b58-43de-b108-003d63d961fb\",\"type\":\"LinearScale\"},\"y_range\":{\"id\":\"bf975dbf-00d3-46c4-b180-9f909629c68e\",\"type\":\"DataRange1d\"},\"y_scale\":{\"id\":\"c61638b0-3a96-4cd8-acc1-86c20967e8f8\",\"type\":\"LinearScale\"}},\"id\":\"69710377-fa8c-4280-b50e-e424c693b998\",\"subtype\":\"Figure\",\"type\":\"Plot\"},{\"attributes\":{\"overlay\":{\"id\":\"f0291d2c-6181-49b7-888e-0dc90aa95e74\",\"type\":\"BoxAnnotation\"}},\"id\":\"b52f50d2-88f1-4c48-9b14-653c341fc1a8\",\"type\":\"BoxZoomTool\"},{\"attributes\":{\"formatter\":{\"id\":\"01974157-337e-41fc-a58b-3abf952aa2f9\",\"type\":\"BasicTickFormatter\"},\"plot\":{\"id\":\"69710377-fa8c-4280-b50e-e424c693b998\",\"subtype\":\"Figure\",\"type\":\"Plot\"},\"ticker\":{\"id\":\"ca117b96-5cbc-4356-ab43-5fb7849db6d7\",\"type\":\"BasicTicker\"}},\"id\":\"0bd02c87-6773-49f9-969f-b2de5ca985ef\",\"type\":\"LinearAxis\"},{\"attributes\":{\"items\":[{\"id\":\"9c13bd2a-4cff-437c-8624-65bbeef2a468\",\"type\":\"LegendItem\"}],\"location\":\"bottom_right\",\"plot\":{\"id\":\"69710377-fa8c-4280-b50e-e424c693b998\",\"subtype\":\"Figure\",\"type\":\"Plot\"}},\"id\":\"b355426e-bb0c-411e-8d2f-4841c5597bc9\",\"type\":\"Legend\"},{\"attributes\":{},\"id\":\"03d27dec-7d2a-4113-bbe0-80fa2f56bd08\",\"type\":\"BasicTicker\"}],\"root_ids\":[\"69710377-fa8c-4280-b50e-e424c693b998\"]},\"title\":\"Bokeh Application\",\"version\":\"0.12.16\"}};\n",
       "  var render_items = [{\"docid\":\"6b264d38-13c4-4a7b-a410-7262f2832d1a\",\"elementid\":\"07031bc4-5d3b-4b0a-acb6-9af195de4bc2\",\"modelid\":\"69710377-fa8c-4280-b50e-e424c693b998\"}];\n",
       "  root.Bokeh.embed.embed_items_notebook(docs_json, render_items);\n",
       "\n",
       "  }\n",
       "  if (root.Bokeh !== undefined) {\n",
       "    embed_document(root);\n",
       "  } else {\n",
       "    var attempts = 0;\n",
       "    var timer = setInterval(function(root) {\n",
       "      if (root.Bokeh !== undefined) {\n",
       "        embed_document(root);\n",
       "        clearInterval(timer);\n",
       "      }\n",
       "      attempts++;\n",
       "      if (attempts > 100) {\n",
       "        console.log(\"Bokeh: ERROR: Unable to run BokehJS code because BokehJS library is missing\")\n",
       "        clearInterval(timer);\n",
       "      }\n",
       "    }, 10, root)\n",
       "  }\n",
       "})(window);"
      ],
      "application/vnd.bokehjs_exec.v0+json": ""
     },
     "metadata": {
      "application/vnd.bokehjs_exec.v0+json": {
       "id": "69710377-fa8c-4280-b50e-e424c693b998"
      }
     },
     "output_type": "display_data"
    }
   ],
   "source": [
    "# 1、基本散点图绘制\n",
    "\n",
    "s = pd.Series(np.random.randn(80))\n",
    "# 创建数据\n",
    "\n",
    "p = figure(plot_width=600, plot_height=400)\n",
    "\n",
    "p.circle(s.index, s.values,                  # x，y值，也可以写成：x=s.index, y = s.values\n",
    "         size=25, color=\"navy\", alpha=0.5,   # 点的大小、颜色、透明度（注意，这里的color是线+填充的颜色，同时线和填充可以分别上色，参数如下）\n",
    "         fill_color = 'red',fill_alpha = 0.6, # 填充的颜色、透明度\n",
    "         line_color = 'black',line_alpha = 0.8,line_dash = 'dashed',line_width = 2,   # 点边线的颜色、透明度、虚线、宽度\n",
    "         # 同时还有line_cap、line_dash_offset、line_join参数    \n",
    "         legend = 'scatter-circle',    # 设置图例\n",
    "         #radius = 2   # 设置点的半径，和size只能同时选一个\n",
    "        )\n",
    "# 创建散点图，基本参数\n",
    "# bokeh对line和fill是同样的设置方法\n",
    "\n",
    "p.legend.location = \"bottom_right\"\n",
    "# 设置图例位置\n",
    "\n",
    "show(p)"
   ]
  },
  {
   "cell_type": "code",
   "execution_count": 45,
   "metadata": {},
   "outputs": [
    {
     "data": {
      "text/html": [
       "\n",
       "<div class=\"bk-root\">\n",
       "    <div class=\"bk-plotdiv\" id=\"c589939a-03df-4715-8681-629d3e3ec619\"></div>\n",
       "</div>"
      ]
     },
     "metadata": {},
     "output_type": "display_data"
    },
    {
     "data": {
      "application/javascript": [
       "(function(root) {\n",
       "  function embed_document(root) {\n",
       "    \n",
       "  var docs_json = {\"a711f1a1-4ec9-4836-b48a-ca681b5a6619\":{\"roots\":{\"references\":[{\"attributes\":{\"formatter\":{\"id\":\"5487206a-7d2f-458e-af96-0f68d1ff0d33\",\"type\":\"BasicTickFormatter\"},\"plot\":{\"id\":\"e4d8821b-91f4-4d8d-9bd3-a8d560be4b9b\",\"subtype\":\"Figure\",\"type\":\"Plot\"},\"ticker\":{\"id\":\"bd83d8ea-ad2a-4fe8-a141-f5656c82001c\",\"type\":\"BasicTicker\"}},\"id\":\"ae3ddc30-e82c-4108-bb53-3ead00d03c07\",\"type\":\"LinearAxis\"},{\"attributes\":{\"callback\":null},\"id\":\"28eb475b-aae0-462b-a0bf-bc70c7838541\",\"type\":\"DataRange1d\"},{\"attributes\":{\"plot\":{\"id\":\"e4d8821b-91f4-4d8d-9bd3-a8d560be4b9b\",\"subtype\":\"Figure\",\"type\":\"Plot\"},\"ticker\":{\"id\":\"bd83d8ea-ad2a-4fe8-a141-f5656c82001c\",\"type\":\"BasicTicker\"}},\"id\":\"8617f72e-f5cb-4dd0-819c-443088cc4751\",\"type\":\"Grid\"},{\"attributes\":{\"below\":[{\"id\":\"ae3ddc30-e82c-4108-bb53-3ead00d03c07\",\"type\":\"LinearAxis\"}],\"left\":[{\"id\":\"61f2b491-1770-41a7-badc-c6d1dbd604f2\",\"type\":\"LinearAxis\"}],\"plot_height\":400,\"renderers\":[{\"id\":\"ae3ddc30-e82c-4108-bb53-3ead00d03c07\",\"type\":\"LinearAxis\"},{\"id\":\"8617f72e-f5cb-4dd0-819c-443088cc4751\",\"type\":\"Grid\"},{\"id\":\"61f2b491-1770-41a7-badc-c6d1dbd604f2\",\"type\":\"LinearAxis\"},{\"id\":\"998e627d-adce-40c0-8e09-5f41b60a72b1\",\"type\":\"Grid\"},{\"id\":\"84e66aa7-91c2-4b71-9dbf-3c88aae3b1e9\",\"type\":\"BoxAnnotation\"},{\"id\":\"2219b4c3-855f-4cd9-92d5-e2e0276288b2\",\"type\":\"GlyphRenderer\"}],\"title\":{\"id\":\"ac708623-a2c9-4596-9ee7-8b15a54efe78\",\"type\":\"Title\"},\"toolbar\":{\"id\":\"0691515c-5494-4a94-8092-ca7505b57f5e\",\"type\":\"Toolbar\"},\"x_range\":{\"id\":\"28eb475b-aae0-462b-a0bf-bc70c7838541\",\"type\":\"DataRange1d\"},\"x_scale\":{\"id\":\"cde49198-7306-4a72-8a38-72dacde47435\",\"type\":\"LinearScale\"},\"y_range\":{\"id\":\"08838b8f-1cfd-49e5-b6d6-65be885b6382\",\"type\":\"DataRange1d\"},\"y_scale\":{\"id\":\"94cc51bb-98eb-4bad-b353-1de0f5dce530\",\"type\":\"LinearScale\"}},\"id\":\"e4d8821b-91f4-4d8d-9bd3-a8d560be4b9b\",\"subtype\":\"Figure\",\"type\":\"Plot\"},{\"attributes\":{\"fill_alpha\":{\"value\":0.5},\"fill_color\":{\"field\":\"fill_color\"},\"line_color\":{\"value\":\"white\"},\"size\":{\"field\":\"size\",\"units\":\"screen\"},\"x\":{\"field\":\"x\"},\"y\":{\"field\":\"y\"}},\"id\":\"c31cf4a2-c3f2-4c6d-941f-6e4800ee6f01\",\"type\":\"Circle\"},{\"attributes\":{\"bottom_units\":\"screen\",\"fill_alpha\":{\"value\":0.5},\"fill_color\":{\"value\":\"lightgrey\"},\"left_units\":\"screen\",\"level\":\"overlay\",\"line_alpha\":{\"value\":1.0},\"line_color\":{\"value\":\"black\"},\"line_dash\":[4,4],\"line_width\":{\"value\":2},\"plot\":null,\"render_mode\":\"css\",\"right_units\":\"screen\",\"top_units\":\"screen\"},\"id\":\"84e66aa7-91c2-4b71-9dbf-3c88aae3b1e9\",\"type\":\"BoxAnnotation\"},{\"attributes\":{\"source\":{\"id\":\"c61df162-ac0e-4d4a-8192-011aa7b3b7be\",\"type\":\"ColumnDataSource\"}},\"id\":\"f1f16bf9-4672-4dd3-b24b-fb7a00ac7881\",\"type\":\"CDSView\"},{\"attributes\":{\"formatter\":{\"id\":\"97f7c7ad-ca02-4af2-a01d-dd429406459c\",\"type\":\"BasicTickFormatter\"},\"plot\":{\"id\":\"e4d8821b-91f4-4d8d-9bd3-a8d560be4b9b\",\"subtype\":\"Figure\",\"type\":\"Plot\"},\"ticker\":{\"id\":\"e25bc7c0-98f2-45db-b72d-f6b1103635f9\",\"type\":\"BasicTicker\"}},\"id\":\"61f2b491-1770-41a7-badc-c6d1dbd604f2\",\"type\":\"LinearAxis\"},{\"attributes\":{},\"id\":\"e25bc7c0-98f2-45db-b72d-f6b1103635f9\",\"type\":\"BasicTicker\"},{\"attributes\":{},\"id\":\"e6a01b6b-7c68-4762-89e2-a055faeedaa0\",\"type\":\"WheelZoomTool\"},{\"attributes\":{},\"id\":\"bd83d8ea-ad2a-4fe8-a141-f5656c82001c\",\"type\":\"BasicTicker\"},{\"attributes\":{\"plot\":null,\"text\":\"\"},\"id\":\"ac708623-a2c9-4596-9ee7-8b15a54efe78\",\"type\":\"Title\"},{\"attributes\":{\"dimension\":1,\"plot\":{\"id\":\"e4d8821b-91f4-4d8d-9bd3-a8d560be4b9b\",\"subtype\":\"Figure\",\"type\":\"Plot\"},\"ticker\":{\"id\":\"e25bc7c0-98f2-45db-b72d-f6b1103635f9\",\"type\":\"BasicTicker\"}},\"id\":\"998e627d-adce-40c0-8e09-5f41b60a72b1\",\"type\":\"Grid\"},{\"attributes\":{},\"id\":\"97f7c7ad-ca02-4af2-a01d-dd429406459c\",\"type\":\"BasicTickFormatter\"},{\"attributes\":{\"callback\":null,\"data\":{\"fill_color\":[\"#c6dbef\",\"#f7fbff\",\"#4292c6\",\"#084594\",\"#9ecae1\",\"#084594\",\"#2171b5\",\"#6baed6\",\"#084594\",\"#deebf7\",\"#084594\",\"#084594\",\"#2171b5\",\"#4292c6\",\"#f7fbff\",\"#f7fbff\",\"#9ecae1\",\"#deebf7\",\"#9ecae1\",\"#4292c6\",\"#084594\",\"#2171b5\",\"#084594\",\"#084594\",\"#c6dbef\",\"#deebf7\",\"#4292c6\",\"#deebf7\",\"#c6dbef\",\"#9ecae1\",\"#6baed6\",\"#084594\",\"#deebf7\",\"#4292c6\",\"#2171b5\",\"#6baed6\",\"#6baed6\",\"#2171b5\",\"#9ecae1\",\"#9ecae1\",\"#9ecae1\",\"#c6dbef\",\"#084594\",\"#2171b5\",\"#084594\",\"#f7fbff\",\"#f7fbff\",\"#deebf7\",\"#2171b5\",\"#4292c6\",\"#f7fbff\",\"#4292c6\",\"#9ecae1\",\"#c6dbef\",\"#c6dbef\",\"#deebf7\",\"#f7fbff\",\"#4292c6\",\"#9ecae1\",\"#c6dbef\",\"#deebf7\",\"#084594\",\"#c6dbef\",\"#4292c6\",\"#c6dbef\",\"#9ecae1\",\"#f7fbff\",\"#9ecae1\",\"#f7fbff\",\"#2171b5\",\"#2171b5\",\"#f7fbff\",\"#2171b5\",\"#2171b5\",\"#c6dbef\",\"#9ecae1\",\"#deebf7\",\"#c6dbef\",\"#6baed6\",\"#deebf7\",\"#9ecae1\",\"#2171b5\",\"#2171b5\",\"#deebf7\",\"#f7fbff\",\"#c6dbef\",\"#2171b5\",\"#4292c6\",\"#deebf7\",\"#9ecae1\",\"#6baed6\",\"#4292c6\",\"#6baed6\",\"#f7fbff\",\"#6baed6\",\"#4292c6\",\"#6baed6\",\"#084594\",\"#4292c6\",\"#084594\"],\"size\":{\"__ndarray__\":\"GAAAABIAAAARAAAAGgAAAA8AAAAMAAAADAAAABgAAAAVAAAAFAAAABIAAAAaAAAADwAAABMAAAAXAAAAEgAAABQAAAAVAAAAEAAAAAoAAAAYAAAADgAAABUAAAANAAAACgAAABgAAAAbAAAAEAAAAAoAAAALAAAAEAAAAA4AAAAcAAAADwAAABAAAAAcAAAAHAAAABgAAAARAAAAGgAAABEAAAAVAAAAGAAAABIAAAASAAAAEgAAABoAAAAMAAAACgAAABEAAAAWAAAAGwAAAAsAAAAUAAAAEwAAABUAAAAPAAAAGwAAAA8AAAAUAAAAGAAAABsAAAAUAAAAEgAAABoAAAAdAAAAFgAAABcAAAAaAAAADgAAABwAAAAOAAAADQAAABYAAAAMAAAAFgAAAAoAAAAKAAAAGQAAAA4AAAAUAAAAFgAAABwAAAAPAAAAGgAAAAoAAAAVAAAAFgAAABUAAAANAAAAFgAAABkAAAAdAAAAFwAAAAsAAAAOAAAAEQAAAA0AAAAMAAAADAAAAA==\",\"dtype\":\"int32\",\"shape\":[100]},\"x\":{\"__ndarray__\":\"HknPuOdNZEC4IKQymWhKwKp1IdybolVAtFIYzGXPZUBoELOeZuc/QJxgcNK+RmJA6kmxsfAeQMAd37TaH1hcQMKzQYApPjHAGQq6CrDiEECF/7519oNbwAkUkzwuilZALXEkY3qFVkC4IZDD+pMowL8yklHvyTrAqazC+aBKUcA/8XrA5y1RwFLEJ6n5x1DAnMVzRsnuW8DIdIjxXb9kQLtS2Hn9LjPADuACJtCtUsAuforOtlIUQPSsZrhvFzNABQsGbCMIKEB2A3g1XAQ+QKS/zdAdkFzAMcRyP7HjNMCP799sfvlUQGfqQxgJjzxAUMImliXcUsDQ7H9vgKVJQOUNOEMIbUhA6Gihlm1KXEDeBX9f11FrQAVHhwcqDWLAfJw28PIAMEDtvLMwQZA/QGZI/p3Snj7AHi6R22wCN0AUMSW3mTs2wFMYY7v4pzJA/Aq7C3nUM0ClzAAXPcRQwDUTXcM/XShAbCrvDRP5XUDS5nW5pcNCwOxMpUy6LEVAsltfuVMxQcASe/TDAgBPwPspj+E+W0bAqQptabEsREDwhGyRb19bwBKCgbCPg1JAvI3XmTGfOsAeY3C1+SlhwFx/4ZptJ1VAL1UZEP2GQUC5zb8d1/QOwKmv7sUSCVxAn9XKdI2xA8A980m3CdhfQLJ/TL6KOWfA1Q06f3tYZECHcoK+UPtdwEnPrEqPFzLAU7XdP1/AXsBGMuXE9tFTQHsUlIpgB0pAIptXHekLVECcbDyoL6gywOAuYxTfuFVAwguP+Sd5SkBwKfEs4iAfQMQP0VfcPzdAVBx0Sf0CP8D9qEk6evhZQAI3OQJ3EUZAWOkUjPhJK8AZ+JHF5Nr7P+iCpR7P2knAIUUfL0LhOEDFtWZ3tMJIQAOoXJKLqFhAbAPNNz1ia0BTSVJNRCxQwJueRGukmm9A3CtsdLR3EUDzYKiqqaRgQHbP92xyAFFAF4C8Q2DQX8DpbSX/wyhJQHeQwEPjFibAn/23j1cjTEDyGkGmBhE8QCVEjLYqAl1Ak5PzaejOZ0CTJZkv63lQQMr/UtGvHU5AsTGBOBdGVEA=\",\"dtype\":\"float64\",\"shape\":[100]},\"y\":{\"__ndarray__\":\"HkSPanuWTsCT32DK/9JawKu9H4DsxGzAeNnsYrkHU8Dzq1ax4e84wB2i60RzwGnAjFwzT+UzQ8BxvjTaTX9bwMpDXztL8lXADQlu5AgkTUBk7IFTO55cQOhuIHPtH0lARPJ2udsXUcBieh6k7GRXwCjEHMuMhEpAO/Tw9HHWQ8DjykvsUCFVwD/SlXJrQ/S/y1ebtwpxN0CLrxYnFY1SQBMrdUvTMFbAezwlz9onZUDEfK1Vi9lPwHZo/wHRQGpAriRfJjPcTkC+iAdMzJxBwB3ymDuWd0HAfSJ038ZUTUBl6GamDUdXQE0nlkjnIFZAqit/L1tSX0D3zkE0Lc89wLBAIx2LOh7AYI2e72n/YkBE0UvMyXRhwNsrXb0pOUnADiUNKXvnVUCzsWo8C0dpwKHiiacJs1RAoqkpHt8MU0DKPp4UaBM0wACF0TypgERATNtQHz7NJ0AzHdgD0eBCQND/SW+yPFxAX879GAGEMkD91JTMv+9PwKr82nyf7x5ACJiccVFwEUBxg0OvZ3NRQLL9bWzZnF5AFo/dGs6tTUCNY5q2MPAwQNOD5RCv11fA0nixi3UXCkB643iXFIQ/QO+Z3urmfFXA4lkLkk5nYMAAZYW2eDJkwC7GX0jtcURAECb+ywhhU8Ah68PAuZZoQAgpwiVz515Ad6QyuozmQEBeKOD3aJVVQGiX9xwvMk7AlfpNROGGS0A8Sbl+MS1PwMlDye7Im1zANemtyX2gEkD5IRuAY1kkwNHyRW6iwlJAKK63TE2KK0Bax0hxROtOQDkLmjlUEFFA9dKqGHtvbsCZpg+6VVZrQCwtd6zyByTAKO7MDJPPJ8A8rzR86wxcwA3QIcH47FjAkw/IdAOqPcDHMLCgZngxwCNNmsZ3WjVAyV433lq0Z8AFGY8fhIlWQPGcFeEM3TjApX4NBaWhNsA7UGfQFLs8wIvUL8Lr+j/AQJRAV9JaP0DEtZmkUipgQG7IpwI83k7AAYWRm94SOECJrT6pvT4dwGUyp7uBeUJAOfp/S8PGW0CrChd9zVdkwCO/k7mcA0VA1VWP7W0cWkA=\",\"dtype\":\"float64\",\"shape\":[100]}},\"selected\":{\"id\":\"faa9f49e-bba1-4ac9-9d75-df9dde423843\",\"type\":\"Selection\"},\"selection_policy\":{\"id\":\"de0761d4-eb33-4ddf-8ec0-a19fba616208\",\"type\":\"UnionRenderers\"}},\"id\":\"c61df162-ac0e-4d4a-8192-011aa7b3b7be\",\"type\":\"ColumnDataSource\"},{\"attributes\":{\"data_source\":{\"id\":\"c61df162-ac0e-4d4a-8192-011aa7b3b7be\",\"type\":\"ColumnDataSource\"},\"glyph\":{\"id\":\"c31cf4a2-c3f2-4c6d-941f-6e4800ee6f01\",\"type\":\"Circle\"},\"hover_glyph\":null,\"muted_glyph\":null,\"nonselection_glyph\":{\"id\":\"2359088f-a761-43e4-8115-71f1fe327d39\",\"type\":\"Circle\"},\"selection_glyph\":null,\"view\":{\"id\":\"f1f16bf9-4672-4dd3-b24b-fb7a00ac7881\",\"type\":\"CDSView\"}},\"id\":\"2219b4c3-855f-4cd9-92d5-e2e0276288b2\",\"type\":\"GlyphRenderer\"},{\"attributes\":{\"active_drag\":\"auto\",\"active_inspect\":\"auto\",\"active_scroll\":\"auto\",\"active_tap\":\"auto\",\"tools\":[{\"id\":\"df0952f3-5ac1-4c51-8963-e45597436098\",\"type\":\"PanTool\"},{\"id\":\"e6a01b6b-7c68-4762-89e2-a055faeedaa0\",\"type\":\"WheelZoomTool\"},{\"id\":\"02d4849e-4ecd-406d-ae30-465bbb083764\",\"type\":\"BoxZoomTool\"},{\"id\":\"ca77dba2-f3b2-4902-ad77-4f5e06962e69\",\"type\":\"SaveTool\"},{\"id\":\"913db367-adb0-4352-96ad-6a481de1172f\",\"type\":\"ResetTool\"},{\"id\":\"6ab264d3-8e83-4149-9b71-71aaca50a592\",\"type\":\"HelpTool\"}]},\"id\":\"0691515c-5494-4a94-8092-ca7505b57f5e\",\"type\":\"Toolbar\"},{\"attributes\":{},\"id\":\"5487206a-7d2f-458e-af96-0f68d1ff0d33\",\"type\":\"BasicTickFormatter\"},{\"attributes\":{},\"id\":\"df0952f3-5ac1-4c51-8963-e45597436098\",\"type\":\"PanTool\"},{\"attributes\":{},\"id\":\"ca77dba2-f3b2-4902-ad77-4f5e06962e69\",\"type\":\"SaveTool\"},{\"attributes\":{},\"id\":\"94cc51bb-98eb-4bad-b353-1de0f5dce530\",\"type\":\"LinearScale\"},{\"attributes\":{\"callback\":null},\"id\":\"08838b8f-1cfd-49e5-b6d6-65be885b6382\",\"type\":\"DataRange1d\"},{\"attributes\":{\"fill_alpha\":{\"value\":0.1},\"fill_color\":{\"value\":\"#1f77b4\"},\"line_alpha\":{\"value\":0.1},\"line_color\":{\"value\":\"#1f77b4\"},\"size\":{\"field\":\"size\",\"units\":\"screen\"},\"x\":{\"field\":\"x\"},\"y\":{\"field\":\"y\"}},\"id\":\"2359088f-a761-43e4-8115-71f1fe327d39\",\"type\":\"Circle\"},{\"attributes\":{},\"id\":\"faa9f49e-bba1-4ac9-9d75-df9dde423843\",\"type\":\"Selection\"},{\"attributes\":{},\"id\":\"cde49198-7306-4a72-8a38-72dacde47435\",\"type\":\"LinearScale\"},{\"attributes\":{\"overlay\":{\"id\":\"84e66aa7-91c2-4b71-9dbf-3c88aae3b1e9\",\"type\":\"BoxAnnotation\"}},\"id\":\"02d4849e-4ecd-406d-ae30-465bbb083764\",\"type\":\"BoxZoomTool\"},{\"attributes\":{},\"id\":\"de0761d4-eb33-4ddf-8ec0-a19fba616208\",\"type\":\"UnionRenderers\"},{\"attributes\":{},\"id\":\"6ab264d3-8e83-4149-9b71-71aaca50a592\",\"type\":\"HelpTool\"},{\"attributes\":{},\"id\":\"913db367-adb0-4352-96ad-6a481de1172f\",\"type\":\"ResetTool\"}],\"root_ids\":[\"e4d8821b-91f4-4d8d-9bd3-a8d560be4b9b\"]},\"title\":\"Bokeh Application\",\"version\":\"0.12.16\"}};\n",
       "  var render_items = [{\"docid\":\"a711f1a1-4ec9-4836-b48a-ca681b5a6619\",\"elementid\":\"c589939a-03df-4715-8681-629d3e3ec619\",\"modelid\":\"e4d8821b-91f4-4d8d-9bd3-a8d560be4b9b\"}];\n",
       "  root.Bokeh.embed.embed_items_notebook(docs_json, render_items);\n",
       "\n",
       "  }\n",
       "  if (root.Bokeh !== undefined) {\n",
       "    embed_document(root);\n",
       "  } else {\n",
       "    var attempts = 0;\n",
       "    var timer = setInterval(function(root) {\n",
       "      if (root.Bokeh !== undefined) {\n",
       "        embed_document(root);\n",
       "        clearInterval(timer);\n",
       "      }\n",
       "      attempts++;\n",
       "      if (attempts > 100) {\n",
       "        console.log(\"Bokeh: ERROR: Unable to run BokehJS code because BokehJS library is missing\")\n",
       "        clearInterval(timer);\n",
       "      }\n",
       "    }, 10, root)\n",
       "  }\n",
       "})(window);"
      ],
      "application/vnd.bokehjs_exec.v0+json": ""
     },
     "metadata": {
      "application/vnd.bokehjs_exec.v0+json": {
       "id": "e4d8821b-91f4-4d8d-9bd3-a8d560be4b9b"
      }
     },
     "output_type": "display_data"
    }
   ],
   "source": [
    "# 2、散点图不同 颜色上色/散点大小 的方法\n",
    "# ① 数据中有一列专门用于设置颜色 / 点大小\n",
    "\n",
    "from bokeh.palettes import brewer\n",
    "\n",
    "rng = np.random.RandomState(1)\n",
    "df = pd.DataFrame(rng.randn(100,2)*100,columns = ['A','B'])\n",
    "# 创建数据，有2列随机值\n",
    "\n",
    "df['size'] = rng.randint(10,30,100)   \n",
    "# 设置点大小字段\n",
    "\n",
    "colormap1 = {1: 'red', 2: 'green', 3: 'blue'}    \n",
    "df['color1'] = [colormap1[x] for x in rng.randint(1,4,100)]           # 调色盘1\n",
    "\n",
    "n = 8\n",
    "colormap2 = brewer['Blues'][n]\n",
    "df['color2'] = [colormap2[x] for x in rng.randint(0,n,100)]           # 调色盘2\n",
    "# 设置颜色字段\n",
    "# 通过字典/列表，识别颜色str\n",
    "# 这里设置了两个调色盘，第二个为蓝色渐变\n",
    "\n",
    "p = figure(plot_width=600, plot_height=400)\n",
    "p.circle(df['A'], df['B'],       # 设置散点图x，y值\n",
    "         line_color = 'white',   # 设置点边线为白色\n",
    "         fill_color = df['color2'],fill_alpha = 0.5,   # 设置内部填充颜色，这里用到了颜色字段\n",
    "         size = df['size']       # 设置点大小，这里用到了点大小字段\n",
    "        )\n",
    "\n",
    "show(p)"
   ]
  },
  {
   "cell_type": "code",
   "execution_count": 46,
   "metadata": {},
   "outputs": [
    {
     "name": "stdout",
     "output_type": "stream",
     "text": [
      "            A           B  type\n",
      "0  162.434536  -61.175641     6\n",
      "1  -52.817175 -107.296862     0\n",
      "2   86.540763 -230.153870     1\n",
      "3  174.481176  -76.120690     0\n",
      "4   31.903910  -24.937038     5\n"
     ]
    },
    {
     "data": {
      "text/html": [
       "\n",
       "<div class=\"bk-root\">\n",
       "    <div class=\"bk-plotdiv\" id=\"1c223840-d1e7-42ea-8c7e-a1230cce1403\"></div>\n",
       "</div>"
      ]
     },
     "metadata": {},
     "output_type": "display_data"
    },
    {
     "data": {
      "application/javascript": [
       "(function(root) {\n",
       "  function embed_document(root) {\n",
       "    \n",
       "  var docs_json = {\"11ab7fb7-b638-49ff-89d1-4afaebf4706a\":{\"roots\":{\"references\":[{\"attributes\":{\"dimension\":1,\"plot\":{\"id\":\"57349fa7-eb93-4d78-9119-c845b4471f7d\",\"subtype\":\"Figure\",\"type\":\"Plot\"},\"ticker\":{\"id\":\"5eb8efac-7500-4936-9923-09861dc7ef38\",\"type\":\"BasicTicker\"}},\"id\":\"7323d43f-4ac4-4d1b-86e1-58b70b02737a\",\"type\":\"Grid\"},{\"attributes\":{\"fill_alpha\":{\"value\":0.5},\"fill_color\":{\"value\":\"red\"},\"line_alpha\":{\"value\":0.5},\"line_color\":{\"value\":\"red\"},\"size\":{\"units\":\"screen\",\"value\":20},\"x\":{\"field\":\"x\"},\"y\":{\"field\":\"y\"}},\"id\":\"2dfd9edf-cce3-4637-a80d-7e35d5673fd0\",\"type\":\"Circle\"},{\"attributes\":{\"callback\":null},\"id\":\"3f2e321d-6662-428a-9343-dd2b8957f2b2\",\"type\":\"DataRange1d\"},{\"attributes\":{\"fill_alpha\":{\"value\":0.1},\"fill_color\":{\"value\":\"#1f77b4\"},\"line_alpha\":{\"value\":0.1},\"line_color\":{\"value\":\"#1f77b4\"},\"size\":{\"units\":\"screen\",\"value\":20},\"x\":{\"field\":\"x\"},\"y\":{\"field\":\"y\"}},\"id\":\"994ef408-b7b7-410d-a7a9-16ae6544021e\",\"type\":\"Circle\"},{\"attributes\":{\"data_source\":{\"id\":\"5c0d5241-04e9-4b35-96e2-1b4a02a1c166\",\"type\":\"ColumnDataSource\"},\"glyph\":{\"id\":\"2dfd9edf-cce3-4637-a80d-7e35d5673fd0\",\"type\":\"Circle\"},\"hover_glyph\":null,\"muted_glyph\":null,\"nonselection_glyph\":{\"id\":\"994ef408-b7b7-410d-a7a9-16ae6544021e\",\"type\":\"Circle\"},\"selection_glyph\":null,\"view\":{\"id\":\"c293f24b-4416-4898-9413-6d8450c84098\",\"type\":\"CDSView\"}},\"id\":\"604d85ac-5f11-4ba6-a785-40be208f363b\",\"type\":\"GlyphRenderer\"},{\"attributes\":{\"below\":[{\"id\":\"83312c9d-16fd-467c-92c2-4cadbd2a976e\",\"type\":\"LinearAxis\"}],\"left\":[{\"id\":\"0c0ec13c-b945-48a8-be37-1e3860ba1595\",\"type\":\"LinearAxis\"}],\"plot_height\":400,\"renderers\":[{\"id\":\"83312c9d-16fd-467c-92c2-4cadbd2a976e\",\"type\":\"LinearAxis\"},{\"id\":\"3f9f513f-a18f-4eb1-b53a-9004599d5d2b\",\"type\":\"Grid\"},{\"id\":\"0c0ec13c-b945-48a8-be37-1e3860ba1595\",\"type\":\"LinearAxis\"},{\"id\":\"7323d43f-4ac4-4d1b-86e1-58b70b02737a\",\"type\":\"Grid\"},{\"id\":\"a83eab31-cf06-4fe1-bfa6-fc72fb41a258\",\"type\":\"BoxAnnotation\"},{\"id\":\"12fe088a-6bae-4f5e-8210-e95bde934c4b\",\"type\":\"PolyAnnotation\"},{\"id\":\"972e2722-662c-442f-9951-2832899761ba\",\"type\":\"GlyphRenderer\"},{\"id\":\"604d85ac-5f11-4ba6-a785-40be208f363b\",\"type\":\"GlyphRenderer\"},{\"id\":\"3c3ab5ee-b03c-42ea-8e1b-58acbe071b5f\",\"type\":\"GlyphRenderer\"},{\"id\":\"36fc024f-2e60-45db-a305-1eaa9ec8a04a\",\"type\":\"GlyphRenderer\"},{\"id\":\"df37128f-279b-49c3-bfc6-c222ede233ee\",\"type\":\"GlyphRenderer\"},{\"id\":\"3089870f-b30e-4bd5-a1c3-cbfa5bb235c8\",\"type\":\"GlyphRenderer\"},{\"id\":\"ff5f1593-4bf7-40bd-9f6d-cf55b7cacf10\",\"type\":\"GlyphRenderer\"}],\"title\":{\"id\":\"b77c57eb-f51c-4bb2-b0cb-94ca6936bf9c\",\"type\":\"Title\"},\"toolbar\":{\"id\":\"600902ee-a592-412a-9b4b-103fc04f3cfb\",\"type\":\"Toolbar\"},\"x_range\":{\"id\":\"2bbdddb2-9d6f-4630-b97b-9a047df2efc0\",\"type\":\"DataRange1d\"},\"x_scale\":{\"id\":\"6498d576-f4f6-4fb1-84e1-e9cb6e06cec4\",\"type\":\"LinearScale\"},\"y_range\":{\"id\":\"3f2e321d-6662-428a-9343-dd2b8957f2b2\",\"type\":\"DataRange1d\"},\"y_scale\":{\"id\":\"ea064c02-a206-49da-a0a5-037bbe1408a4\",\"type\":\"LinearScale\"}},\"id\":\"57349fa7-eb93-4d78-9119-c845b4471f7d\",\"subtype\":\"Figure\",\"type\":\"Plot\"},{\"attributes\":{\"data_source\":{\"id\":\"b71ea8d7-61ce-4326-bd99-7abd96b48598\",\"type\":\"ColumnDataSource\"},\"glyph\":{\"id\":\"c9c70982-01af-462b-a44f-821f74a8ec4a\",\"type\":\"Circle\"},\"hover_glyph\":null,\"muted_glyph\":null,\"nonselection_glyph\":{\"id\":\"55350d61-8045-4dc0-b4eb-b70dd27a7c6a\",\"type\":\"Circle\"},\"selection_glyph\":null,\"view\":{\"id\":\"dbb8a7c6-65f8-4e8c-9f10-ca5fb88e1009\",\"type\":\"CDSView\"}},\"id\":\"972e2722-662c-442f-9951-2832899761ba\",\"type\":\"GlyphRenderer\"},{\"attributes\":{\"source\":{\"id\":\"5c0d5241-04e9-4b35-96e2-1b4a02a1c166\",\"type\":\"ColumnDataSource\"}},\"id\":\"c293f24b-4416-4898-9413-6d8450c84098\",\"type\":\"CDSView\"},{\"attributes\":{\"callback\":null,\"overlay\":{\"id\":\"12fe088a-6bae-4f5e-8210-e95bde934c4b\",\"type\":\"PolyAnnotation\"}},\"id\":\"1a616e83-ccdc-4c1d-b421-aa6da1cc28c2\",\"type\":\"LassoSelectTool\"},{\"attributes\":{},\"id\":\"513385f2-cfef-44ef-b849-c981badff98a\",\"type\":\"BasicTicker\"},{\"attributes\":{\"callback\":null,\"data\":{\"x\":{\"__ndarray__\":\"qnUh3JuiVUDIdIjxXb9kQAVHhwcqDWLAFDElt5k7NsCpCm1psSxEQMILj/kneUpAxA/RV9w/N0ACNzkCdxFGQOiCpR7P2knAxbVmd7TCSECbnkRrpJpvQOltJf/DKElAyv9S0a8dTkA=\",\"dtype\":\"float64\",\"shape\":[13]},\"y\":{\"__ndarray__\":\"q70fgOzEbMCLrxYnFY1SQNsrXb0pOUnAyj6eFGgTNMAWj90azq1NQCiut0xNiitAOQuaOVQQUUAsLXes8gckwA3QIcH47FjAxzCwoGZ4McDxnBXhDN04wMS1maRSKmBAI7+TuZwDRUA=\",\"dtype\":\"float64\",\"shape\":[13]}},\"selected\":{\"id\":\"2b745fc4-8ff9-4418-a445-9ff512581b39\",\"type\":\"Selection\"},\"selection_policy\":{\"id\":\"2212c4aa-5dea-4f48-b526-c32a1f031c3e\",\"type\":\"UnionRenderers\"}},\"id\":\"9ec48c36-df02-43e4-a0e8-4300d5b45474\",\"type\":\"ColumnDataSource\"},{\"attributes\":{\"callback\":null,\"data\":{\"x\":{\"__ndarray__\":\"HknPuOdNZEDCs0GAKT4xwAULBmwjCChAdgN4NVwEPkAxxHI/seM0wOhooZZtSlxAfJw28PIAMEAeLpHbbAI3QFMYY7v4pzJAsltfuVMxQcD7KY/hPltGwBKCgbCPg1JAPfNJtwnYX0DVDTp/e1hkQEYy5cT20VNAbAPNNz1ia0DzYKiqqaRgQA==\",\"dtype\":\"float64\",\"shape\":[17]},\"y\":{\"__ndarray__\":\"HkSPanuWTsDKQ187S/JVwK4kXyYz3E5AvogHTMycQcB9InTfxlRNQGCNnu9p/2JADiUNKXvnVUCiqSke3wxTQACF0TypgERACJiccVFwEUCy/W1s2ZxeQNOD5RCv11fAIevDwLmWaEB3pDK6jOZAQDxJuX4xLU/AyV433lq0Z8A7UGfQFLs8wA==\",\"dtype\":\"float64\",\"shape\":[17]}},\"selected\":{\"id\":\"007ccab2-e0f6-4e16-a45a-11cc223db19d\",\"type\":\"Selection\"},\"selection_policy\":{\"id\":\"7c2cd26d-292b-4f96-9b90-d562e4e195a8\",\"type\":\"UnionRenderers\"}},\"id\":\"b71ea8d7-61ce-4326-bd99-7abd96b48598\",\"type\":\"ColumnDataSource\"},{\"attributes\":{\"fill_alpha\":{\"value\":0.5},\"fill_color\":{\"value\":\"olive\"},\"line_alpha\":{\"value\":0.5},\"line_color\":{\"value\":\"olive\"},\"size\":{\"units\":\"screen\",\"value\":20},\"x\":{\"field\":\"x\"},\"y\":{\"field\":\"y\"}},\"id\":\"2af93540-ed58-479c-a75e-a416137c66c0\",\"type\":\"Circle\"},{\"attributes\":{\"formatter\":{\"id\":\"0c4222f8-00fe-4d09-9835-0d7f0a1033fc\",\"type\":\"BasicTickFormatter\"},\"plot\":{\"id\":\"57349fa7-eb93-4d78-9119-c845b4471f7d\",\"subtype\":\"Figure\",\"type\":\"Plot\"},\"ticker\":{\"id\":\"5eb8efac-7500-4936-9923-09861dc7ef38\",\"type\":\"BasicTicker\"}},\"id\":\"0c0ec13c-b945-48a8-be37-1e3860ba1595\",\"type\":\"LinearAxis\"},{\"attributes\":{\"fill_alpha\":{\"value\":0.1},\"fill_color\":{\"value\":\"#1f77b4\"},\"line_alpha\":{\"value\":0.1},\"line_color\":{\"value\":\"#1f77b4\"},\"size\":{\"units\":\"screen\",\"value\":20},\"x\":{\"field\":\"x\"},\"y\":{\"field\":\"y\"}},\"id\":\"b0e9851b-f009-4318-9441-2f53ec008f54\",\"type\":\"Circle\"},{\"attributes\":{\"data_source\":{\"id\":\"9ec48c36-df02-43e4-a0e8-4300d5b45474\",\"type\":\"ColumnDataSource\"},\"glyph\":{\"id\":\"2af93540-ed58-479c-a75e-a416137c66c0\",\"type\":\"Circle\"},\"hover_glyph\":null,\"muted_glyph\":null,\"nonselection_glyph\":{\"id\":\"b0e9851b-f009-4318-9441-2f53ec008f54\",\"type\":\"Circle\"},\"selection_glyph\":null,\"view\":{\"id\":\"70e5a48a-1aa0-4602-942f-9521aa517faa\",\"type\":\"CDSView\"}},\"id\":\"3c3ab5ee-b03c-42ea-8e1b-58acbe071b5f\",\"type\":\"GlyphRenderer\"},{\"attributes\":{\"source\":{\"id\":\"9ec48c36-df02-43e4-a0e8-4300d5b45474\",\"type\":\"ColumnDataSource\"}},\"id\":\"70e5a48a-1aa0-4602-942f-9521aa517faa\",\"type\":\"CDSView\"},{\"attributes\":{\"callback\":null,\"data\":{\"x\":{\"__ndarray__\":\"aBCznmbnP0C/MpJR78k6wJzFc0bJ7lvAu1LYef0uM8DS5nW5pcNCwLyN15kxnzrAXH/hmm0nVUC5zb8d1/QOwBn4kcXk2vs/IUUfL0LhOEAXgLxDYNBfwCVEjLYqAl1AsTGBOBdGVEA=\",\"dtype\":\"float64\",\"shape\":[13]},\"y\":{\"__ndarray__\":\"86tWseHvOMAoxBzLjIRKQMtXm7cKcTdAEyt1S9MwVsD91JTMv+9PwNJ4sYt1FwpA75ne6uZ8VcAAZYW2eDJkwDyvNHzrDFzAkw/IdAOqPcBAlEBX0lo/QGUyp7uBeUJA1VWP7W0cWkA=\",\"dtype\":\"float64\",\"shape\":[13]}},\"selected\":{\"id\":\"355dd306-054c-4941-ac65-3bbf0583d075\",\"type\":\"Selection\"},\"selection_policy\":{\"id\":\"52847b7d-3fb6-4d37-adec-a01b4e90be89\",\"type\":\"UnionRenderers\"}},\"id\":\"6e02bdde-f111-4cf6-87ca-abebe5710c73\",\"type\":\"ColumnDataSource\"},{\"attributes\":{\"fill_alpha\":{\"value\":0.5},\"fill_color\":{\"value\":\"orange\"},\"line_alpha\":{\"value\":0.5},\"line_color\":{\"value\":\"orange\"},\"size\":{\"units\":\"screen\",\"value\":20},\"x\":{\"field\":\"x\"},\"y\":{\"field\":\"y\"}},\"id\":\"04c7a6d8-38ac-4721-b859-169fa951e4a8\",\"type\":\"Circle\"},{\"attributes\":{\"fill_alpha\":{\"value\":0.1},\"fill_color\":{\"value\":\"#1f77b4\"},\"line_alpha\":{\"value\":0.1},\"line_color\":{\"value\":\"#1f77b4\"},\"size\":{\"units\":\"screen\",\"value\":20},\"x\":{\"field\":\"x\"},\"y\":{\"field\":\"y\"}},\"id\":\"f85d93f7-fbba-41ec-9ade-ff767f99cbca\",\"type\":\"Circle\"},{\"attributes\":{\"data_source\":{\"id\":\"6e02bdde-f111-4cf6-87ca-abebe5710c73\",\"type\":\"ColumnDataSource\"},\"glyph\":{\"id\":\"04c7a6d8-38ac-4721-b859-169fa951e4a8\",\"type\":\"Circle\"},\"hover_glyph\":null,\"muted_glyph\":null,\"nonselection_glyph\":{\"id\":\"f85d93f7-fbba-41ec-9ade-ff767f99cbca\",\"type\":\"Circle\"},\"selection_glyph\":null,\"view\":{\"id\":\"f7c11dae-c17c-4f2c-a556-887d27a89bcf\",\"type\":\"CDSView\"}},\"id\":\"36fc024f-2e60-45db-a305-1eaa9ec8a04a\",\"type\":\"GlyphRenderer\"},{\"attributes\":{\"source\":{\"id\":\"6e02bdde-f111-4cf6-87ca-abebe5710c73\",\"type\":\"ColumnDataSource\"}},\"id\":\"f7c11dae-c17c-4f2c-a556-887d27a89bcf\",\"type\":\"CDSView\"},{\"attributes\":{\"callback\":null,\"data\":{\"x\":{\"__ndarray__\":\"nGBw0r5GYkDqSbGx8B5AwIX/vnX2g1vACRSTPC6KVkAtcSRjeoVWQKmswvmgSlHALn6KzrZSFEDtvLMwQZA/QKXMABc9xFDAEnv0wwIAT8DwhGyRb19bwJ/VynSNsQPAexSUimAHSkBwKfEs4iAfQFQcdEn9Aj/AA6hckouoWEB2z/dscgBRQHeQwEPjFibA\",\"dtype\":\"float64\",\"shape\":[18]},\"y\":{\"__ndarray__\":\"HaLrRHPAacCMXDNP5TNDwGTsgVM7nlxA6G4gc+0fSUBE8na52xdRwDv08PRx1kPAxHytVYvZT8CzsWo8C0dpwDMd2APR4EJAcYNDr2dzUUCNY5q2MPAwQBAm/ssIYVPAyUPJ7sibXMBax0hxROtOQPXSqhh7b27AI02axndaNUCL1C/C6/o/wG7IpwI83k7A\",\"dtype\":\"float64\",\"shape\":[18]}},\"selected\":{\"id\":\"b1ab5122-bc51-4662-9a60-857875366065\",\"type\":\"Selection\"},\"selection_policy\":{\"id\":\"9bf3582e-3be2-4d68-9df7-db8f43cd57db\",\"type\":\"UnionRenderers\"}},\"id\":\"d7fdd657-b4ab-400a-93d2-b04869cadf9c\",\"type\":\"ColumnDataSource\"},{\"attributes\":{\"fill_alpha\":{\"value\":0.5},\"fill_color\":{\"value\":\"darkred\"},\"line_alpha\":{\"value\":0.5},\"line_color\":{\"value\":\"darkred\"},\"size\":{\"units\":\"screen\",\"value\":20},\"x\":{\"field\":\"x\"},\"y\":{\"field\":\"y\"}},\"id\":\"bbc88471-7d00-4ec3-9e69-d89ee75fd14e\",\"type\":\"Circle\"},{\"attributes\":{\"fill_alpha\":{\"value\":0.1},\"fill_color\":{\"value\":\"#1f77b4\"},\"line_alpha\":{\"value\":0.1},\"line_color\":{\"value\":\"#1f77b4\"},\"size\":{\"units\":\"screen\",\"value\":20},\"x\":{\"field\":\"x\"},\"y\":{\"field\":\"y\"}},\"id\":\"606cbd89-54d6-4db9-9f47-f1f1548200fa\",\"type\":\"Circle\"},{\"attributes\":{\"data_source\":{\"id\":\"d7fdd657-b4ab-400a-93d2-b04869cadf9c\",\"type\":\"ColumnDataSource\"},\"glyph\":{\"id\":\"bbc88471-7d00-4ec3-9e69-d89ee75fd14e\",\"type\":\"Circle\"},\"hover_glyph\":null,\"muted_glyph\":null,\"nonselection_glyph\":{\"id\":\"606cbd89-54d6-4db9-9f47-f1f1548200fa\",\"type\":\"Circle\"},\"selection_glyph\":null,\"view\":{\"id\":\"1d21ef35-030f-4c5c-86b9-16ac5dd43a48\",\"type\":\"CDSView\"}},\"id\":\"df37128f-279b-49c3-bfc6-c222ede233ee\",\"type\":\"GlyphRenderer\"},{\"attributes\":{\"source\":{\"id\":\"d7fdd657-b4ab-400a-93d2-b04869cadf9c\",\"type\":\"ColumnDataSource\"}},\"id\":\"1d21ef35-030f-4c5c-86b9-16ac5dd43a48\",\"type\":\"CDSView\"},{\"attributes\":{\"callback\":null,\"data\":{\"x\":{\"__ndarray__\":\"Hd+02h9YXEBSxCep+cdQwI/v32x++VRA/Aq7C3nUM0BsKu8NE/ldQOxMpUy6LEVAIptXHekLVEDgLmMU37hVQP2oSTp6+FlAU0lSTUQsUMCTJZkv63lQQA==\",\"dtype\":\"float64\",\"shape\":[11]},\"y\":{\"__ndarray__\":\"cb402k1/W8A/0pVya0P0v2XoZqYNR1dATNtQHz7NJ0Bfzv0YAYQyQKr82nyf7x5ANemtyX2gEkDR8kVuosJSQJmmD7pVVmtABRmPH4SJVkCrChd9zVdkwA==\",\"dtype\":\"float64\",\"shape\":[11]}},\"selected\":{\"id\":\"92ba58f9-ff0c-493f-91d4-b67a5ea3ffe0\",\"type\":\"Selection\"},\"selection_policy\":{\"id\":\"e93b62f3-6026-4a48-b13c-e8b96c810461\",\"type\":\"UnionRenderers\"}},\"id\":\"440ce05b-8072-401f-8f9f-5f9331637e29\",\"type\":\"ColumnDataSource\"},{\"attributes\":{\"source\":{\"id\":\"b71ea8d7-61ce-4326-bd99-7abd96b48598\",\"type\":\"ColumnDataSource\"}},\"id\":\"dbb8a7c6-65f8-4e8c-9f10-ca5fb88e1009\",\"type\":\"CDSView\"},{\"attributes\":{\"fill_alpha\":{\"value\":0.5},\"fill_color\":{\"value\":\"skyblue\"},\"line_alpha\":{\"value\":0.5},\"line_color\":{\"value\":\"skyblue\"},\"size\":{\"units\":\"screen\",\"value\":20},\"x\":{\"field\":\"x\"},\"y\":{\"field\":\"y\"}},\"id\":\"aaa4d3a1-5d5d-4d3f-9b77-dfde5556b252\",\"type\":\"Circle\"},{\"attributes\":{\"fill_alpha\":{\"value\":0.1},\"fill_color\":{\"value\":\"#1f77b4\"},\"line_alpha\":{\"value\":0.1},\"line_color\":{\"value\":\"#1f77b4\"},\"size\":{\"units\":\"screen\",\"value\":20},\"x\":{\"field\":\"x\"},\"y\":{\"field\":\"y\"}},\"id\":\"993f8cf3-cd82-49cf-8752-e93b8e8e3d77\",\"type\":\"Circle\"},{\"attributes\":{\"data_source\":{\"id\":\"440ce05b-8072-401f-8f9f-5f9331637e29\",\"type\":\"ColumnDataSource\"},\"glyph\":{\"id\":\"aaa4d3a1-5d5d-4d3f-9b77-dfde5556b252\",\"type\":\"Circle\"},\"hover_glyph\":null,\"muted_glyph\":null,\"nonselection_glyph\":{\"id\":\"993f8cf3-cd82-49cf-8752-e93b8e8e3d77\",\"type\":\"Circle\"},\"selection_glyph\":null,\"view\":{\"id\":\"3bccee07-8af2-435d-8d26-5fda5a54d830\",\"type\":\"CDSView\"}},\"id\":\"3089870f-b30e-4bd5-a1c3-cbfa5bb235c8\",\"type\":\"GlyphRenderer\"},{\"attributes\":{\"source\":{\"id\":\"440ce05b-8072-401f-8f9f-5f9331637e29\",\"type\":\"ColumnDataSource\"}},\"id\":\"3bccee07-8af2-435d-8d26-5fda5a54d830\",\"type\":\"CDSView\"},{\"attributes\":{\"callback\":null,\"data\":{\"x\":{\"__ndarray__\":\"GQq6CrDiEED0rGa4bxczQGfqQxgJjzxAUMImliXcUsDQ7H9vgKVJQN4Ff1/XUWtANRNdwz9dKEAvVRkQ/YZBQKmv7sUSCVxAWOkUjPhJK8CTk/Np6M5nQA==\",\"dtype\":\"float64\",\"shape\":[11]},\"y\":{\"__ndarray__\":\"DQlu5AgkTUB2aP8B0UBqQE0nlkjnIFZAqit/L1tSX0D3zkE0Lc89wETRS8zJdGHA0P9Jb7I8XEDiWQuSTmdgwC7GX0jtcURAKO7MDJPPJ8A5+n9Lw8ZbQA==\",\"dtype\":\"float64\",\"shape\":[11]}},\"selected\":{\"id\":\"de162f76-8d92-4108-bfc8-73b44f6249a6\",\"type\":\"Selection\"},\"selection_policy\":{\"id\":\"47d0ef64-f982-4452-b5fd-97de83956fef\",\"type\":\"UnionRenderers\"}},\"id\":\"02274fef-5930-4943-9f6c-8e5f789cd83b\",\"type\":\"ColumnDataSource\"},{\"attributes\":{\"callback\":null,\"data\":{\"x\":{\"__ndarray__\":\"uCCkMploSsC0UhjMZc9lQLghkMP6kyjAP/F6wOctUcAO4AIm0K1SwKS/zdAdkFzA5Q04QwhtSEBmSP6d0p4+wB5jcLX5KWHAsn9Mvoo5Z8CHcoK+UPtdwEnPrEqPFzLAU7XdP1/AXsCcbDyoL6gywNwrbHS0dxFAn/23j1cjTEDyGkGmBhE8QA==\",\"dtype\":\"float64\",\"shape\":[17]},\"y\":{\"__ndarray__\":\"k99gyv/SWsB42exiuQdTwGJ6HqTsZFfA48pL7FAhVcB7PCXP2idlQB3ymDuWd0HAsEAjHYs6HsCh4omnCbNUQHrjeJcUhD9ACCnCJXPnXkBeKOD3aJVVQGiX9xwvMk7AlfpNROGGS0D5IRuAY1kkwKV+DQWloTbAAYWRm94SOECJrT6pvT4dwA==\",\"dtype\":\"float64\",\"shape\":[17]}},\"selected\":{\"id\":\"a69f713d-61cd-4571-97d9-86691131ca9f\",\"type\":\"Selection\"},\"selection_policy\":{\"id\":\"b89b8da1-a98b-4aa8-845e-78d34c04bbf7\",\"type\":\"UnionRenderers\"}},\"id\":\"5c0d5241-04e9-4b35-96e2-1b4a02a1c166\",\"type\":\"ColumnDataSource\"},{\"attributes\":{},\"id\":\"04a28cd8-78e4-4e2f-b69c-6d9818540ea0\",\"type\":\"BasicTickFormatter\"},{\"attributes\":{\"fill_alpha\":{\"value\":0.5},\"fill_color\":{\"value\":\"goldenrod\"},\"line_alpha\":{\"value\":0.5},\"line_color\":{\"value\":\"goldenrod\"},\"size\":{\"units\":\"screen\",\"value\":20},\"x\":{\"field\":\"x\"},\"y\":{\"field\":\"y\"}},\"id\":\"a2435a15-2280-497d-bf63-c0b3efe94638\",\"type\":\"Circle\"},{\"attributes\":{\"formatter\":{\"id\":\"04a28cd8-78e4-4e2f-b69c-6d9818540ea0\",\"type\":\"BasicTickFormatter\"},\"plot\":{\"id\":\"57349fa7-eb93-4d78-9119-c845b4471f7d\",\"subtype\":\"Figure\",\"type\":\"Plot\"},\"ticker\":{\"id\":\"513385f2-cfef-44ef-b849-c981badff98a\",\"type\":\"BasicTicker\"}},\"id\":\"83312c9d-16fd-467c-92c2-4cadbd2a976e\",\"type\":\"LinearAxis\"},{\"attributes\":{\"fill_alpha\":{\"value\":0.1},\"fill_color\":{\"value\":\"#1f77b4\"},\"line_alpha\":{\"value\":0.1},\"line_color\":{\"value\":\"#1f77b4\"},\"size\":{\"units\":\"screen\",\"value\":20},\"x\":{\"field\":\"x\"},\"y\":{\"field\":\"y\"}},\"id\":\"09716cc5-602f-4b3b-bae4-f6d1fa06a3c5\",\"type\":\"Circle\"},{\"attributes\":{\"data_source\":{\"id\":\"02274fef-5930-4943-9f6c-8e5f789cd83b\",\"type\":\"ColumnDataSource\"},\"glyph\":{\"id\":\"a2435a15-2280-497d-bf63-c0b3efe94638\",\"type\":\"Circle\"},\"hover_glyph\":null,\"muted_glyph\":null,\"nonselection_glyph\":{\"id\":\"09716cc5-602f-4b3b-bae4-f6d1fa06a3c5\",\"type\":\"Circle\"},\"selection_glyph\":null,\"view\":{\"id\":\"c8f78526-7d09-4ed9-8102-71bafcf0f769\",\"type\":\"CDSView\"}},\"id\":\"ff5f1593-4bf7-40bd-9f6d-cf55b7cacf10\",\"type\":\"GlyphRenderer\"},{\"attributes\":{\"source\":{\"id\":\"02274fef-5930-4943-9f6c-8e5f789cd83b\",\"type\":\"ColumnDataSource\"}},\"id\":\"c8f78526-7d09-4ed9-8102-71bafcf0f769\",\"type\":\"CDSView\"},{\"attributes\":{},\"id\":\"0c4222f8-00fe-4d09-9835-0d7f0a1033fc\",\"type\":\"BasicTickFormatter\"},{\"attributes\":{\"plot\":null,\"text\":\"\"},\"id\":\"b77c57eb-f51c-4bb2-b0cb-94ca6936bf9c\",\"type\":\"Title\"},{\"attributes\":{},\"id\":\"5eb8efac-7500-4936-9923-09861dc7ef38\",\"type\":\"BasicTicker\"},{\"attributes\":{},\"id\":\"a69f713d-61cd-4571-97d9-86691131ca9f\",\"type\":\"Selection\"},{\"attributes\":{\"fill_alpha\":{\"value\":0.1},\"fill_color\":{\"value\":\"#1f77b4\"},\"line_alpha\":{\"value\":0.1},\"line_color\":{\"value\":\"#1f77b4\"},\"size\":{\"units\":\"screen\",\"value\":20},\"x\":{\"field\":\"x\"},\"y\":{\"field\":\"y\"}},\"id\":\"55350d61-8045-4dc0-b4eb-b70dd27a7c6a\",\"type\":\"Circle\"},{\"attributes\":{},\"id\":\"7c2cd26d-292b-4f96-9b90-d562e4e195a8\",\"type\":\"UnionRenderers\"},{\"attributes\":{},\"id\":\"c810d0f5-7405-44aa-8077-f7c8be480dce\",\"type\":\"WheelZoomTool\"},{\"attributes\":{},\"id\":\"007ccab2-e0f6-4e16-a45a-11cc223db19d\",\"type\":\"Selection\"},{\"attributes\":{},\"id\":\"ea064c02-a206-49da-a0a5-037bbe1408a4\",\"type\":\"LinearScale\"},{\"attributes\":{},\"id\":\"b89b8da1-a98b-4aa8-845e-78d34c04bbf7\",\"type\":\"UnionRenderers\"},{\"attributes\":{\"plot\":{\"id\":\"57349fa7-eb93-4d78-9119-c845b4471f7d\",\"subtype\":\"Figure\",\"type\":\"Plot\"},\"ticker\":{\"id\":\"513385f2-cfef-44ef-b849-c981badff98a\",\"type\":\"BasicTicker\"}},\"id\":\"3f9f513f-a18f-4eb1-b53a-9004599d5d2b\",\"type\":\"Grid\"},{\"attributes\":{},\"id\":\"2212c4aa-5dea-4f48-b526-c32a1f031c3e\",\"type\":\"UnionRenderers\"},{\"attributes\":{},\"id\":\"2b745fc4-8ff9-4418-a445-9ff512581b39\",\"type\":\"Selection\"},{\"attributes\":{\"callback\":null},\"id\":\"2bbdddb2-9d6f-4630-b97b-9a047df2efc0\",\"type\":\"DataRange1d\"},{\"attributes\":{},\"id\":\"52847b7d-3fb6-4d37-adec-a01b4e90be89\",\"type\":\"UnionRenderers\"},{\"attributes\":{\"fill_alpha\":{\"value\":0.5},\"fill_color\":{\"value\":\"salmon\"},\"line_alpha\":{\"value\":0.5},\"line_color\":{\"value\":\"salmon\"},\"size\":{\"units\":\"screen\",\"value\":20},\"x\":{\"field\":\"x\"},\"y\":{\"field\":\"y\"}},\"id\":\"c9c70982-01af-462b-a44f-821f74a8ec4a\",\"type\":\"Circle\"},{\"attributes\":{},\"id\":\"355dd306-054c-4941-ac65-3bbf0583d075\",\"type\":\"Selection\"},{\"attributes\":{},\"id\":\"6498d576-f4f6-4fb1-84e1-e9cb6e06cec4\",\"type\":\"LinearScale\"},{\"attributes\":{},\"id\":\"9bf3582e-3be2-4d68-9df7-db8f43cd57db\",\"type\":\"UnionRenderers\"},{\"attributes\":{\"callback\":null,\"overlay\":{\"id\":\"a83eab31-cf06-4fe1-bfa6-fc72fb41a258\",\"type\":\"BoxAnnotation\"}},\"id\":\"ab46fa5f-ed96-438c-9aaf-f8d32689c2b6\",\"type\":\"BoxSelectTool\"},{\"attributes\":{},\"id\":\"b1ab5122-bc51-4662-9a60-857875366065\",\"type\":\"Selection\"},{\"attributes\":{\"active_drag\":\"auto\",\"active_inspect\":\"auto\",\"active_scroll\":\"auto\",\"active_tap\":\"auto\",\"tools\":[{\"id\":\"7a7964ad-6d28-4694-9b43-de1dd3f75952\",\"type\":\"PanTool\"},{\"id\":\"c810d0f5-7405-44aa-8077-f7c8be480dce\",\"type\":\"WheelZoomTool\"},{\"id\":\"ab46fa5f-ed96-438c-9aaf-f8d32689c2b6\",\"type\":\"BoxSelectTool\"},{\"id\":\"1a616e83-ccdc-4c1d-b421-aa6da1cc28c2\",\"type\":\"LassoSelectTool\"},{\"id\":\"72b624ff-6064-478c-8798-61ac2be32cac\",\"type\":\"ResetTool\"}]},\"id\":\"600902ee-a592-412a-9b4b-103fc04f3cfb\",\"type\":\"Toolbar\"},{\"attributes\":{},\"id\":\"e93b62f3-6026-4a48-b13c-e8b96c810461\",\"type\":\"UnionRenderers\"},{\"attributes\":{},\"id\":\"92ba58f9-ff0c-493f-91d4-b67a5ea3ffe0\",\"type\":\"Selection\"},{\"attributes\":{\"fill_alpha\":{\"value\":0.5},\"fill_color\":{\"value\":\"lightgrey\"},\"level\":\"overlay\",\"line_alpha\":{\"value\":1.0},\"line_color\":{\"value\":\"black\"},\"line_dash\":[4,4],\"line_width\":{\"value\":2},\"plot\":null,\"xs_units\":\"screen\",\"ys_units\":\"screen\"},\"id\":\"12fe088a-6bae-4f5e-8210-e95bde934c4b\",\"type\":\"PolyAnnotation\"},{\"attributes\":{},\"id\":\"47d0ef64-f982-4452-b5fd-97de83956fef\",\"type\":\"UnionRenderers\"},{\"attributes\":{},\"id\":\"de162f76-8d92-4108-bfc8-73b44f6249a6\",\"type\":\"Selection\"},{\"attributes\":{},\"id\":\"72b624ff-6064-478c-8798-61ac2be32cac\",\"type\":\"ResetTool\"},{\"attributes\":{\"bottom_units\":\"screen\",\"fill_alpha\":{\"value\":0.5},\"fill_color\":{\"value\":\"lightgrey\"},\"left_units\":\"screen\",\"level\":\"overlay\",\"line_alpha\":{\"value\":1.0},\"line_color\":{\"value\":\"black\"},\"line_dash\":[4,4],\"line_width\":{\"value\":2},\"plot\":null,\"render_mode\":\"css\",\"right_units\":\"screen\",\"top_units\":\"screen\"},\"id\":\"a83eab31-cf06-4fe1-bfa6-fc72fb41a258\",\"type\":\"BoxAnnotation\"},{\"attributes\":{},\"id\":\"7a7964ad-6d28-4694-9b43-de1dd3f75952\",\"type\":\"PanTool\"}],\"root_ids\":[\"57349fa7-eb93-4d78-9119-c845b4471f7d\"]},\"title\":\"Bokeh Application\",\"version\":\"0.12.16\"}};\n",
       "  var render_items = [{\"docid\":\"11ab7fb7-b638-49ff-89d1-4afaebf4706a\",\"elementid\":\"1c223840-d1e7-42ea-8c7e-a1230cce1403\",\"modelid\":\"57349fa7-eb93-4d78-9119-c845b4471f7d\"}];\n",
       "  root.Bokeh.embed.embed_items_notebook(docs_json, render_items);\n",
       "\n",
       "  }\n",
       "  if (root.Bokeh !== undefined) {\n",
       "    embed_document(root);\n",
       "  } else {\n",
       "    var attempts = 0;\n",
       "    var timer = setInterval(function(root) {\n",
       "      if (root.Bokeh !== undefined) {\n",
       "        embed_document(root);\n",
       "        clearInterval(timer);\n",
       "      }\n",
       "      attempts++;\n",
       "      if (attempts > 100) {\n",
       "        console.log(\"Bokeh: ERROR: Unable to run BokehJS code because BokehJS library is missing\")\n",
       "        clearInterval(timer);\n",
       "      }\n",
       "    }, 10, root)\n",
       "  }\n",
       "})(window);"
      ],
      "application/vnd.bokehjs_exec.v0+json": ""
     },
     "metadata": {
      "application/vnd.bokehjs_exec.v0+json": {
       "id": "57349fa7-eb93-4d78-9119-c845b4471f7d"
      }
     },
     "output_type": "display_data"
    }
   ],
   "source": [
    "# 2、散点图不同 颜色上色/散点大小 的方法\n",
    "# ② 遍历数据分开做图\n",
    "\n",
    "rng = np.random.RandomState(1)\n",
    "df = pd.DataFrame(rng.randn(100,2)*100,columns = ['A','B'])\n",
    "df['type'] = rng.randint(0,7,100)\n",
    "print(df.head())\n",
    "# 创建数据\n",
    "\n",
    "colors = [\"red\", \"olive\", \"darkred\", \"goldenrod\", \"skyblue\", \"orange\", \"salmon\"]\n",
    "# 创建颜色列表\n",
    "\n",
    "p = figure(plot_width=600, plot_height=400,tools = \"pan,wheel_zoom,box_select,lasso_select,reset\")\n",
    "for t in df['type'].unique():\n",
    "    p.circle(df['A'][df['type'] == t], df['B'][df['type'] == t],       # 设置散点图x，y值\n",
    "             size = 20,alpha = 0.5,\n",
    "             color = colors[t])        \n",
    "# 通过分类设置颜色\n",
    "\n",
    "show(p)"
   ]
  },
  {
   "cell_type": "code",
   "execution_count": 47,
   "metadata": {},
   "outputs": [
    {
     "data": {
      "text/html": [
       "\n",
       "<div class=\"bk-root\">\n",
       "    <div class=\"bk-plotdiv\" id=\"89682a49-890b-425f-958e-44724fe2a866\"></div>\n",
       "</div>"
      ]
     },
     "metadata": {},
     "output_type": "display_data"
    },
    {
     "data": {
      "application/javascript": [
       "(function(root) {\n",
       "  function embed_document(root) {\n",
       "    \n",
       "  var docs_json = {\"a5df293c-5073-4fdf-91b8-02b1455fbb2a\":{\"roots\":{\"references\":[{\"attributes\":{},\"id\":\"2735c6cb-187c-41c7-9439-5180a56b0de8\",\"type\":\"Selection\"},{\"attributes\":{\"bottom_units\":\"screen\",\"fill_alpha\":{\"value\":0.5},\"fill_color\":{\"value\":\"lightgrey\"},\"left_units\":\"screen\",\"level\":\"overlay\",\"line_alpha\":{\"value\":1.0},\"line_color\":{\"value\":\"black\"},\"line_dash\":[4,4],\"line_width\":{\"value\":2},\"plot\":null,\"render_mode\":\"css\",\"right_units\":\"screen\",\"top_units\":\"screen\"},\"id\":\"70a0a540-4858-4f49-a213-aa9546ad32cb\",\"type\":\"BoxAnnotation\"},{\"attributes\":{\"source\":{\"id\":\"da53b2b6-30d7-4c7c-9ce8-9e6eff3208a4\",\"type\":\"ColumnDataSource\"}},\"id\":\"3eb5206a-8b42-4af2-8582-f0ea84d3d13e\",\"type\":\"CDSView\"},{\"attributes\":{},\"id\":\"d90d77cc-7cad-4b15-b8a3-f73813cc2058\",\"type\":\"BasicTickFormatter\"},{\"attributes\":{\"callback\":null,\"data\":{},\"selected\":{\"id\":\"97af2740-ef4c-4ef5-bb5e-a5acafe7a831\",\"type\":\"Selection\"},\"selection_policy\":{\"id\":\"72565b3e-9051-472f-b475-88bf55d75106\",\"type\":\"UnionRenderers\"}},\"id\":\"5ca39fc7-a99b-4af1-8654-67e0a76eb355\",\"type\":\"ColumnDataSource\"},{\"attributes\":{},\"id\":\"8dd87256-5d65-4f8c-9a6a-89c68001f9b3\",\"type\":\"BasicTickFormatter\"},{\"attributes\":{},\"id\":\"2984a007-c77e-41d6-946a-4b8c36ea10e5\",\"type\":\"UnionRenderers\"},{\"attributes\":{\"source\":{\"id\":\"da1e4e08-f9db-42f7-b647-a18b5689a0b0\",\"type\":\"ColumnDataSource\"}},\"id\":\"103d8698-760c-4f31-896c-37a2c3cd8b35\",\"type\":\"CDSView\"},{\"attributes\":{},\"id\":\"fdf7a98c-5083-4877-a226-4721186cd1b4\",\"type\":\"Selection\"},{\"attributes\":{\"plot\":null,\"text\":\"\"},\"id\":\"a2763fc8-43e9-4887-988d-0bb6a4ca416a\",\"type\":\"Title\"},{\"attributes\":{\"data_source\":{\"id\":\"5cd1e930-4e66-42e8-9642-090c418df3c6\",\"type\":\"ColumnDataSource\"},\"glyph\":{\"id\":\"6d8cf691-ada1-4dbe-a67a-87aa5dd222e2\",\"type\":\"Triangle\"},\"hover_glyph\":null,\"muted_glyph\":null,\"nonselection_glyph\":{\"id\":\"a9c497f2-a296-4ab4-bcf4-f33f91363bc8\",\"type\":\"Triangle\"},\"selection_glyph\":null,\"view\":{\"id\":\"1b4380be-acd1-4660-90ae-073589e83d49\",\"type\":\"CDSView\"}},\"id\":\"bf74069e-51de-41b2-bd94-a268ef496b48\",\"type\":\"GlyphRenderer\"},{\"attributes\":{\"label\":{\"value\":\"circle_cross\"},\"renderers\":[{\"id\":\"f0a36a6e-7627-49f2-8cca-48c09925ee1d\",\"type\":\"GlyphRenderer\"}]},\"id\":\"8ff2a7cc-af14-4ff4-aa8c-5026637e0102\",\"type\":\"LegendItem\"},{\"attributes\":{\"fill_alpha\":{\"value\":0.1},\"fill_color\":{\"value\":\"#1f77b4\"},\"line_alpha\":{\"value\":0.1},\"line_color\":{\"value\":\"#1f77b4\"},\"size\":{\"units\":\"screen\",\"value\":30},\"x\":{\"value\":2},\"y\":{\"value\":5}},\"id\":\"a9c497f2-a296-4ab4-bcf4-f33f91363bc8\",\"type\":\"Triangle\"},{\"attributes\":{},\"id\":\"5ccdab37-4e96-45fa-9e58-f00c7aacc9ae\",\"type\":\"Selection\"},{\"attributes\":{\"fill_alpha\":{\"value\":0.5},\"fill_color\":{\"value\":\"#1f77b4\"},\"line_alpha\":{\"value\":0.5},\"line_color\":{\"value\":\"#1f77b4\"},\"size\":{\"units\":\"screen\",\"value\":30},\"x\":{\"value\":2},\"y\":{\"value\":5}},\"id\":\"6d8cf691-ada1-4dbe-a67a-87aa5dd222e2\",\"type\":\"Triangle\"},{\"attributes\":{\"callback\":null,\"data\":{},\"selected\":{\"id\":\"ed65a7ae-fdbb-4d43-9a73-9d57765b9f90\",\"type\":\"Selection\"},\"selection_policy\":{\"id\":\"56da021a-9d38-4a07-8474-c47375065e30\",\"type\":\"UnionRenderers\"}},\"id\":\"fc00239b-67fa-44a7-b3fa-934a2cf32922\",\"type\":\"ColumnDataSource\"},{\"attributes\":{\"source\":{\"id\":\"5cd1e930-4e66-42e8-9642-090c418df3c6\",\"type\":\"ColumnDataSource\"}},\"id\":\"1b4380be-acd1-4660-90ae-073589e83d49\",\"type\":\"CDSView\"},{\"attributes\":{\"items\":[{\"id\":\"8ff2a7cc-af14-4ff4-aa8c-5026637e0102\",\"type\":\"LegendItem\"},{\"id\":\"3df5d0e6-8026-4c5e-ad26-033b6258af9d\",\"type\":\"LegendItem\"},{\"id\":\"2757d724-2272-4791-af8f-c67a90d33543\",\"type\":\"LegendItem\"},{\"id\":\"ac8f3ba8-1a4b-4321-a6c1-e4fc2e018bce\",\"type\":\"LegendItem\"},{\"id\":\"77eb3ec4-5cac-4f66-900a-4ba460ae5f26\",\"type\":\"LegendItem\"},{\"id\":\"1797da7e-492a-4665-878b-29199effd90f\",\"type\":\"LegendItem\"},{\"id\":\"ada579d7-b606-4e29-89d1-e79f76e19114\",\"type\":\"LegendItem\"},{\"id\":\"e35d6fe2-dd9e-4fd7-9ef2-6b3431e2db6a\",\"type\":\"LegendItem\"},{\"id\":\"ef18c7ee-467a-47a5-b306-259e71595198\",\"type\":\"LegendItem\"},{\"id\":\"43b4b33b-91db-42fe-a766-c7e68037963a\",\"type\":\"LegendItem\"},{\"id\":\"d8ec45f3-9f76-4c4d-a15b-e4543fe4eb64\",\"type\":\"LegendItem\"},{\"id\":\"0959bd39-1e0d-4bc1-ae0b-fa841f8dc72e\",\"type\":\"LegendItem\"}],\"location\":\"bottom_right\",\"plot\":{\"id\":\"eb0cf571-50f9-444f-875f-2510f51f754d\",\"subtype\":\"Figure\",\"type\":\"Plot\"}},\"id\":\"a412e840-3fa8-4232-b7f6-75256d67a8ef\",\"type\":\"Legend\"},{\"attributes\":{\"label\":{\"value\":\"square_x\"},\"renderers\":[{\"id\":\"218f39e0-56af-42b5-872c-278e049688a4\",\"type\":\"GlyphRenderer\"}]},\"id\":\"43b4b33b-91db-42fe-a766-c7e68037963a\",\"type\":\"LegendItem\"},{\"attributes\":{\"fill_alpha\":{\"value\":0.1},\"fill_color\":{\"value\":\"#1f77b4\"},\"line_alpha\":{\"value\":0.1},\"line_color\":{\"value\":\"#1f77b4\"},\"size\":{\"units\":\"screen\",\"value\":30},\"x\":{\"value\":1},\"y\":{\"value\":2}},\"id\":\"7115b07f-f7b1-458c-8d17-54cbe7914fb3\",\"type\":\"Asterisk\"},{\"attributes\":{\"source\":{\"id\":\"5ca39fc7-a99b-4af1-8654-67e0a76eb355\",\"type\":\"ColumnDataSource\"}},\"id\":\"2a79b0aa-ad33-4343-9b43-85a31c86c45b\",\"type\":\"CDSView\"},{\"attributes\":{\"data_source\":{\"id\":\"81a2c1e8-19f6-46d0-a80a-d5aecaeef0be\",\"type\":\"ColumnDataSource\"},\"glyph\":{\"id\":\"87c714cf-d647-4ce8-96de-2106acb1ab36\",\"type\":\"Asterisk\"},\"hover_glyph\":null,\"muted_glyph\":null,\"nonselection_glyph\":{\"id\":\"7115b07f-f7b1-458c-8d17-54cbe7914fb3\",\"type\":\"Asterisk\"},\"selection_glyph\":null,\"view\":{\"id\":\"8dce91e4-04b2-4c95-8c64-03e99774927d\",\"type\":\"CDSView\"}},\"id\":\"ba27ca3d-70c0-4a99-860c-ed2d2bd7694e\",\"type\":\"GlyphRenderer\"},{\"attributes\":{},\"id\":\"5959b655-ee6e-443f-88b3-5772fd3492f0\",\"type\":\"UnionRenderers\"},{\"attributes\":{\"callback\":null,\"data\":{},\"selected\":{\"id\":\"efbf54ec-3c55-46eb-b802-ecfbe5855307\",\"type\":\"Selection\"},\"selection_policy\":{\"id\":\"a29bc0e9-021d-4054-82e0-7c23203ba262\",\"type\":\"UnionRenderers\"}},\"id\":\"b16791ed-45e9-4edd-80c9-2009ff80a188\",\"type\":\"ColumnDataSource\"},{\"attributes\":{},\"id\":\"0a0041e1-bc3e-4c37-ac36-6b6abc195052\",\"type\":\"Selection\"},{\"attributes\":{\"fill_alpha\":{\"value\":0.5},\"fill_color\":{\"value\":\"#1f77b4\"},\"line_alpha\":{\"value\":0.5},\"line_color\":{\"value\":\"#1f77b4\"},\"size\":{\"units\":\"screen\",\"value\":30},\"x\":{\"value\":1},\"y\":{\"value\":2}},\"id\":\"87c714cf-d647-4ce8-96de-2106acb1ab36\",\"type\":\"Asterisk\"},{\"attributes\":{\"data_source\":{\"id\":\"5ca39fc7-a99b-4af1-8654-67e0a76eb355\",\"type\":\"ColumnDataSource\"},\"glyph\":{\"id\":\"c414a717-a8cd-4fd4-b306-9942406aa48c\",\"type\":\"X\"},\"hover_glyph\":null,\"muted_glyph\":null,\"nonselection_glyph\":{\"id\":\"2c300bfe-8960-489f-bfa8-89efbefa3088\",\"type\":\"X\"},\"selection_glyph\":null,\"view\":{\"id\":\"2a79b0aa-ad33-4343-9b43-85a31c86c45b\",\"type\":\"CDSView\"}},\"id\":\"619cebb0-5496-4e14-8439-9e5edf005004\",\"type\":\"GlyphRenderer\"},{\"attributes\":{\"source\":{\"id\":\"81a2c1e8-19f6-46d0-a80a-d5aecaeef0be\",\"type\":\"ColumnDataSource\"}},\"id\":\"8dce91e4-04b2-4c95-8c64-03e99774927d\",\"type\":\"CDSView\"},{\"attributes\":{\"fill_alpha\":{\"value\":0.1},\"fill_color\":{\"value\":\"#1f77b4\"},\"line_alpha\":{\"value\":0.1},\"line_color\":{\"value\":\"#1f77b4\"},\"size\":{\"units\":\"screen\",\"value\":30},\"x\":{\"value\":2},\"y\":{\"value\":6}},\"id\":\"2c300bfe-8960-489f-bfa8-89efbefa3088\",\"type\":\"X\"},{\"attributes\":{},\"id\":\"407fedb9-3242-44aa-b0a6-582da647f6d8\",\"type\":\"UnionRenderers\"},{\"attributes\":{\"label\":{\"value\":\"triangle\"},\"renderers\":[{\"id\":\"bf74069e-51de-41b2-bd94-a268ef496b48\",\"type\":\"GlyphRenderer\"}]},\"id\":\"d8ec45f3-9f76-4c4d-a15b-e4543fe4eb64\",\"type\":\"LegendItem\"},{\"attributes\":{},\"id\":\"cf8993d0-cd03-4755-89e3-27f8a1c188de\",\"type\":\"Selection\"},{\"attributes\":{\"data_source\":{\"id\":\"fc00239b-67fa-44a7-b3fa-934a2cf32922\",\"type\":\"ColumnDataSource\"},\"glyph\":{\"id\":\"6b290ea6-3137-4e16-a79f-2a6846681527\",\"type\":\"CircleX\"},\"hover_glyph\":null,\"muted_glyph\":null,\"nonselection_glyph\":{\"id\":\"866b5ef4-2aa3-4540-8063-8f18b742ae96\",\"type\":\"CircleX\"},\"selection_glyph\":null,\"view\":{\"id\":\"587145eb-5dcf-4d3a-9679-99a147340a90\",\"type\":\"CDSView\"}},\"id\":\"5f86e141-a22a-4814-80af-7b5cc17b9689\",\"type\":\"GlyphRenderer\"},{\"attributes\":{\"fill_alpha\":{\"value\":0.5},\"fill_color\":{\"value\":\"#1f77b4\"},\"line_alpha\":{\"value\":0.5},\"line_color\":{\"value\":\"#1f77b4\"},\"size\":{\"units\":\"screen\",\"value\":30},\"x\":{\"value\":2},\"y\":{\"value\":6}},\"id\":\"c414a717-a8cd-4fd4-b306-9942406aa48c\",\"type\":\"X\"},{\"attributes\":{\"fill_alpha\":{\"value\":0.1},\"fill_color\":{\"value\":\"#1f77b4\"},\"line_alpha\":{\"value\":0.1},\"line_color\":{\"value\":\"#1f77b4\"},\"size\":{\"units\":\"screen\",\"value\":30},\"x\":{\"value\":1},\"y\":{\"value\":3}},\"id\":\"866b5ef4-2aa3-4540-8063-8f18b742ae96\",\"type\":\"CircleX\"},{\"attributes\":{\"fill_alpha\":{\"value\":0.5},\"fill_color\":{\"value\":\"#1f77b4\"},\"line_alpha\":{\"value\":0.5},\"line_color\":{\"value\":\"#1f77b4\"},\"size\":{\"units\":\"screen\",\"value\":30},\"x\":{\"value\":1},\"y\":{\"value\":3}},\"id\":\"6b290ea6-3137-4e16-a79f-2a6846681527\",\"type\":\"CircleX\"},{\"attributes\":{},\"id\":\"b13620c9-d0d1-4d33-a44b-f74582bd7110\",\"type\":\"UnionRenderers\"},{\"attributes\":{\"source\":{\"id\":\"fc00239b-67fa-44a7-b3fa-934a2cf32922\",\"type\":\"ColumnDataSource\"}},\"id\":\"587145eb-5dcf-4d3a-9679-99a147340a90\",\"type\":\"CDSView\"},{\"attributes\":{},\"id\":\"72565b3e-9051-472f-b475-88bf55d75106\",\"type\":\"UnionRenderers\"},{\"attributes\":{\"label\":{\"value\":\"asterisk\"},\"renderers\":[{\"id\":\"ba27ca3d-70c0-4a99-860c-ed2d2bd7694e\",\"type\":\"GlyphRenderer\"}]},\"id\":\"3df5d0e6-8026-4c5e-ad26-033b6258af9d\",\"type\":\"LegendItem\"},{\"attributes\":{\"source\":{\"id\":\"b16791ed-45e9-4edd-80c9-2009ff80a188\",\"type\":\"ColumnDataSource\"}},\"id\":\"431d0f1f-cc49-483d-a5aa-0e45389a85f3\",\"type\":\"CDSView\"},{\"attributes\":{},\"id\":\"56da021a-9d38-4a07-8474-c47375065e30\",\"type\":\"UnionRenderers\"},{\"attributes\":{},\"id\":\"97af2740-ef4c-4ef5-bb5e-a5acafe7a831\",\"type\":\"Selection\"},{\"attributes\":{},\"id\":\"c6635d4d-e555-4cec-a8ce-d1245fcbce26\",\"type\":\"UnionRenderers\"},{\"attributes\":{\"callback\":null,\"data\":{},\"selected\":{\"id\":\"babccd14-dc9e-4611-89ca-a65dbc1a4d14\",\"type\":\"Selection\"},\"selection_policy\":{\"id\":\"d7a0315d-9da6-4da4-80da-3e8ee4689a83\",\"type\":\"UnionRenderers\"}},\"id\":\"c1685eab-16a6-47bd-af51-59048aeeaaaf\",\"type\":\"ColumnDataSource\"},{\"attributes\":{\"data_source\":{\"id\":\"b16791ed-45e9-4edd-80c9-2009ff80a188\",\"type\":\"ColumnDataSource\"},\"glyph\":{\"id\":\"743bda73-8490-40aa-b7b0-649ab0637eb6\",\"type\":\"Cross\"},\"hover_glyph\":null,\"muted_glyph\":null,\"nonselection_glyph\":{\"id\":\"ffedaa1b-096c-4209-a30e-d699e1294253\",\"type\":\"Cross\"},\"selection_glyph\":null,\"view\":{\"id\":\"431d0f1f-cc49-483d-a5aa-0e45389a85f3\",\"type\":\"CDSView\"}},\"id\":\"ee722355-3ae9-4a51-ac36-9742091717ef\",\"type\":\"GlyphRenderer\"},{\"attributes\":{\"label\":{\"value\":\"x\"},\"renderers\":[{\"id\":\"619cebb0-5496-4e14-8439-9e5edf005004\",\"type\":\"GlyphRenderer\"}]},\"id\":\"0959bd39-1e0d-4bc1-ae0b-fa841f8dc72e\",\"type\":\"LegendItem\"},{\"attributes\":{\"fill_alpha\":{\"value\":0.1},\"fill_color\":{\"value\":\"#1f77b4\"},\"line_alpha\":{\"value\":0.1},\"line_color\":{\"value\":\"#1f77b4\"},\"size\":{\"units\":\"screen\",\"value\":30},\"x\":{\"value\":1},\"y\":{\"value\":4}},\"id\":\"ffedaa1b-096c-4209-a30e-d699e1294253\",\"type\":\"Cross\"},{\"attributes\":{\"fill_alpha\":{\"value\":0.1},\"fill_color\":{\"value\":\"#1f77b4\"},\"line_alpha\":{\"value\":0.1},\"line_color\":{\"value\":\"#1f77b4\"},\"size\":{\"units\":\"screen\",\"value\":30},\"x\":{\"value\":2},\"y\":{\"value\":4}},\"id\":\"0086c15b-1f0d-4d9c-a058-7a127076cf85\",\"type\":\"SquareX\"},{\"attributes\":{\"label\":{\"value\":\"circle_x\"},\"renderers\":[{\"id\":\"5f86e141-a22a-4814-80af-7b5cc17b9689\",\"type\":\"GlyphRenderer\"}]},\"id\":\"2757d724-2272-4791-af8f-c67a90d33543\",\"type\":\"LegendItem\"},{\"attributes\":{\"callback\":null,\"data\":{},\"selected\":{\"id\":\"cfbd2b76-6b20-451c-9456-069c62f49a94\",\"type\":\"Selection\"},\"selection_policy\":{\"id\":\"cda6f477-42b5-4c79-be35-7a1996eb7066\",\"type\":\"UnionRenderers\"}},\"id\":\"c507d376-eb61-404a-a650-5785ff7e209c\",\"type\":\"ColumnDataSource\"},{\"attributes\":{\"callback\":null,\"end\":3},\"id\":\"01090998-2b48-4460-aee9-ade164f12a3d\",\"type\":\"Range1d\"},{\"attributes\":{\"fill_alpha\":{\"value\":0.5},\"fill_color\":{\"value\":\"#1f77b4\"},\"line_alpha\":{\"value\":0.5},\"line_color\":{\"value\":\"#1f77b4\"},\"size\":{\"units\":\"screen\",\"value\":30},\"x\":{\"value\":1},\"y\":{\"value\":4}},\"id\":\"743bda73-8490-40aa-b7b0-649ab0637eb6\",\"type\":\"Cross\"},{\"attributes\":{\"source\":{\"id\":\"c507d376-eb61-404a-a650-5785ff7e209c\",\"type\":\"ColumnDataSource\"}},\"id\":\"81ed06fc-e119-4379-826b-754889c882d8\",\"type\":\"CDSView\"},{\"attributes\":{\"data_source\":{\"id\":\"c507d376-eb61-404a-a650-5785ff7e209c\",\"type\":\"ColumnDataSource\"},\"glyph\":{\"id\":\"f78f2589-64bf-4bf7-b283-4fe47f067e7e\",\"type\":\"Diamond\"},\"hover_glyph\":null,\"muted_glyph\":null,\"nonselection_glyph\":{\"id\":\"bd35fbb7-4197-4057-acd0-8278fa219faa\",\"type\":\"Diamond\"},\"selection_glyph\":null,\"view\":{\"id\":\"81ed06fc-e119-4379-826b-754889c882d8\",\"type\":\"CDSView\"}},\"id\":\"cae7170f-56a3-4223-9c56-4f1afddd68a3\",\"type\":\"GlyphRenderer\"},{\"attributes\":{\"fill_alpha\":{\"value\":0.5},\"fill_color\":{\"value\":\"#1f77b4\"},\"line_alpha\":{\"value\":0.5},\"line_color\":{\"value\":\"#1f77b4\"},\"size\":{\"units\":\"screen\",\"value\":30},\"x\":{\"value\":1},\"y\":{\"value\":5}},\"id\":\"f78f2589-64bf-4bf7-b283-4fe47f067e7e\",\"type\":\"Diamond\"},{\"attributes\":{\"label\":{\"value\":\"square_cross\"},\"renderers\":[{\"id\":\"adab0fb3-6e0b-434f-8c7b-1584044010c6\",\"type\":\"GlyphRenderer\"}]},\"id\":\"ef18c7ee-467a-47a5-b306-259e71595198\",\"type\":\"LegendItem\"},{\"attributes\":{\"fill_alpha\":{\"value\":0.1},\"fill_color\":{\"value\":\"#1f77b4\"},\"line_alpha\":{\"value\":0.1},\"line_color\":{\"value\":\"#1f77b4\"},\"size\":{\"units\":\"screen\",\"value\":30},\"x\":{\"value\":1},\"y\":{\"value\":5}},\"id\":\"bd35fbb7-4197-4057-acd0-8278fa219faa\",\"type\":\"Diamond\"},{\"attributes\":{\"source\":{\"id\":\"c1685eab-16a6-47bd-af51-59048aeeaaaf\",\"type\":\"ColumnDataSource\"}},\"id\":\"ce812d4e-78df-457c-a3d7-5c90916ddf78\",\"type\":\"CDSView\"},{\"attributes\":{},\"id\":\"efbf54ec-3c55-46eb-b802-ecfbe5855307\",\"type\":\"Selection\"},{\"attributes\":{},\"id\":\"a29bc0e9-021d-4054-82e0-7c23203ba262\",\"type\":\"UnionRenderers\"},{\"attributes\":{\"callback\":null,\"data\":{},\"selected\":{\"id\":\"37232f8c-771c-4369-921e-88e4a7af19bf\",\"type\":\"Selection\"},\"selection_policy\":{\"id\":\"21fe16ed-5a9f-46b3-944c-2da4b5441992\",\"type\":\"UnionRenderers\"}},\"id\":\"0fd4c132-8529-4dae-9dba-bd2f70132fa0\",\"type\":\"ColumnDataSource\"},{\"attributes\":{\"data_source\":{\"id\":\"c1685eab-16a6-47bd-af51-59048aeeaaaf\",\"type\":\"ColumnDataSource\"},\"glyph\":{\"id\":\"efd28a3f-e59d-4d3f-95f0-992c36f4e4f7\",\"type\":\"DiamondCross\"},\"hover_glyph\":null,\"muted_glyph\":null,\"nonselection_glyph\":{\"id\":\"f3a0fa63-7307-44ec-b17b-d7a744303fca\",\"type\":\"DiamondCross\"},\"selection_glyph\":null,\"view\":{\"id\":\"ce812d4e-78df-457c-a3d7-5c90916ddf78\",\"type\":\"CDSView\"}},\"id\":\"6d69eda6-2c60-4689-9f11-cab56ada10f5\",\"type\":\"GlyphRenderer\"},{\"attributes\":{\"fill_alpha\":{\"value\":0.1},\"fill_color\":{\"value\":\"#1f77b4\"},\"line_alpha\":{\"value\":0.1},\"line_color\":{\"value\":\"#1f77b4\"},\"size\":{\"units\":\"screen\",\"value\":30},\"x\":{\"value\":1},\"y\":{\"value\":6}},\"id\":\"f3a0fa63-7307-44ec-b17b-d7a744303fca\",\"type\":\"DiamondCross\"},{\"attributes\":{\"label\":{\"value\":\"diamond\"},\"renderers\":[{\"id\":\"cae7170f-56a3-4223-9c56-4f1afddd68a3\",\"type\":\"GlyphRenderer\"}]},\"id\":\"77eb3ec4-5cac-4f66-900a-4ba460ae5f26\",\"type\":\"LegendItem\"},{\"attributes\":{},\"id\":\"cfbd2b76-6b20-451c-9456-069c62f49a94\",\"type\":\"Selection\"},{\"attributes\":{\"fill_alpha\":{\"value\":0.5},\"fill_color\":{\"value\":\"#1f77b4\"},\"line_alpha\":{\"value\":0.5},\"line_color\":{\"value\":\"#1f77b4\"},\"size\":{\"units\":\"screen\",\"value\":30},\"x\":{\"value\":1},\"y\":{\"value\":6}},\"id\":\"efd28a3f-e59d-4d3f-95f0-992c36f4e4f7\",\"type\":\"DiamondCross\"},{\"attributes\":{\"callback\":null,\"data\":{},\"selected\":{\"id\":\"7a97ef07-eb2f-40c5-8283-7635f29b7429\",\"type\":\"Selection\"},\"selection_policy\":{\"id\":\"449c2e71-0091-4a79-9c5b-a47d0a33087b\",\"type\":\"UnionRenderers\"}},\"id\":\"e76e501c-c267-48bf-acf8-8c90f3e7d8dd\",\"type\":\"ColumnDataSource\"},{\"attributes\":{},\"id\":\"cda6f477-42b5-4c79-be35-7a1996eb7066\",\"type\":\"UnionRenderers\"},{\"attributes\":{},\"id\":\"babccd14-dc9e-4611-89ca-a65dbc1a4d14\",\"type\":\"Selection\"},{\"attributes\":{\"data_source\":{\"id\":\"0fd4c132-8529-4dae-9dba-bd2f70132fa0\",\"type\":\"ColumnDataSource\"},\"glyph\":{\"id\":\"297a5976-e792-4d31-a17e-4f22a588562a\",\"type\":\"InvertedTriangle\"},\"hover_glyph\":null,\"muted_glyph\":null,\"nonselection_glyph\":{\"id\":\"407470d7-06e4-4bf1-9600-e72c5c6df514\",\"type\":\"InvertedTriangle\"},\"selection_glyph\":null,\"view\":{\"id\":\"bbdad139-4aeb-4c8b-bf2c-3337c9601859\",\"type\":\"CDSView\"}},\"id\":\"035b03b9-0781-4588-9375-77160acf0323\",\"type\":\"GlyphRenderer\"},{\"attributes\":{\"fill_alpha\":{\"value\":0.1},\"fill_color\":{\"value\":\"#1f77b4\"},\"line_alpha\":{\"value\":0.1},\"line_color\":{\"value\":\"#1f77b4\"},\"size\":{\"units\":\"screen\",\"value\":30},\"x\":{\"value\":2},\"y\":{\"value\":1}},\"id\":\"407470d7-06e4-4bf1-9600-e72c5c6df514\",\"type\":\"InvertedTriangle\"},{\"attributes\":{\"fill_alpha\":{\"value\":0.5},\"fill_color\":{\"value\":\"#1f77b4\"},\"line_alpha\":{\"value\":0.5},\"line_color\":{\"value\":\"#1f77b4\"},\"size\":{\"units\":\"screen\",\"value\":30},\"x\":{\"value\":2},\"y\":{\"value\":1}},\"id\":\"297a5976-e792-4d31-a17e-4f22a588562a\",\"type\":\"InvertedTriangle\"},{\"attributes\":{\"callback\":null,\"data\":{},\"selected\":{\"id\":\"5ccdab37-4e96-45fa-9e58-f00c7aacc9ae\",\"type\":\"Selection\"},\"selection_policy\":{\"id\":\"407fedb9-3242-44aa-b0a6-582da647f6d8\",\"type\":\"UnionRenderers\"}},\"id\":\"da1e4e08-f9db-42f7-b647-a18b5689a0b0\",\"type\":\"ColumnDataSource\"},{\"attributes\":{\"source\":{\"id\":\"0fd4c132-8529-4dae-9dba-bd2f70132fa0\",\"type\":\"ColumnDataSource\"}},\"id\":\"bbdad139-4aeb-4c8b-bf2c-3337c9601859\",\"type\":\"CDSView\"},{\"attributes\":{\"below\":[{\"id\":\"2cfa531a-1a9f-40b9-b8d5-a15a198c2111\",\"type\":\"LinearAxis\"}],\"left\":[{\"id\":\"90805f9b-e7b0-47d3-a7cd-041b4d4ea1ca\",\"type\":\"LinearAxis\"}],\"plot_height\":400,\"renderers\":[{\"id\":\"2cfa531a-1a9f-40b9-b8d5-a15a198c2111\",\"type\":\"LinearAxis\"},{\"id\":\"f37aec9b-082e-4ba0-83aa-4ff5e42f6c22\",\"type\":\"Grid\"},{\"id\":\"90805f9b-e7b0-47d3-a7cd-041b4d4ea1ca\",\"type\":\"LinearAxis\"},{\"id\":\"8f4df478-91dc-40f9-9f73-69760250cfc7\",\"type\":\"Grid\"},{\"id\":\"70a0a540-4858-4f49-a213-aa9546ad32cb\",\"type\":\"BoxAnnotation\"},{\"id\":\"a412e840-3fa8-4232-b7f6-75256d67a8ef\",\"type\":\"Legend\"},{\"id\":\"f0a36a6e-7627-49f2-8cca-48c09925ee1d\",\"type\":\"GlyphRenderer\"},{\"id\":\"ba27ca3d-70c0-4a99-860c-ed2d2bd7694e\",\"type\":\"GlyphRenderer\"},{\"id\":\"5f86e141-a22a-4814-80af-7b5cc17b9689\",\"type\":\"GlyphRenderer\"},{\"id\":\"ee722355-3ae9-4a51-ac36-9742091717ef\",\"type\":\"GlyphRenderer\"},{\"id\":\"cae7170f-56a3-4223-9c56-4f1afddd68a3\",\"type\":\"GlyphRenderer\"},{\"id\":\"6d69eda6-2c60-4689-9f11-cab56ada10f5\",\"type\":\"GlyphRenderer\"},{\"id\":\"035b03b9-0781-4588-9375-77160acf0323\",\"type\":\"GlyphRenderer\"},{\"id\":\"0a6e8ab7-d72d-4f80-82ad-8833064ee7ce\",\"type\":\"GlyphRenderer\"},{\"id\":\"adab0fb3-6e0b-434f-8c7b-1584044010c6\",\"type\":\"GlyphRenderer\"},{\"id\":\"218f39e0-56af-42b5-872c-278e049688a4\",\"type\":\"GlyphRenderer\"},{\"id\":\"bf74069e-51de-41b2-bd94-a268ef496b48\",\"type\":\"GlyphRenderer\"},{\"id\":\"619cebb0-5496-4e14-8439-9e5edf005004\",\"type\":\"GlyphRenderer\"}],\"title\":{\"id\":\"a2763fc8-43e9-4887-988d-0bb6a4ca416a\",\"type\":\"Title\"},\"toolbar\":{\"id\":\"954d813b-9dc1-4c8a-bc12-40cdc718e825\",\"type\":\"Toolbar\"},\"x_range\":{\"id\":\"01090998-2b48-4460-aee9-ade164f12a3d\",\"type\":\"Range1d\"},\"x_scale\":{\"id\":\"1250a4bf-1acd-4331-afc6-01c6dd57ba0a\",\"type\":\"LinearScale\"},\"y_range\":{\"id\":\"ff568726-9e14-45a5-9c67-f0bb57ce83a8\",\"type\":\"Range1d\"},\"y_scale\":{\"id\":\"9c987f40-36c4-471d-9856-4d577ab5c994\",\"type\":\"LinearScale\"}},\"id\":\"eb0cf571-50f9-444f-875f-2510f51f754d\",\"subtype\":\"Figure\",\"type\":\"Plot\"},{\"attributes\":{\"label\":{\"value\":\"diamond_cross\"},\"renderers\":[{\"id\":\"6d69eda6-2c60-4689-9f11-cab56ada10f5\",\"type\":\"GlyphRenderer\"}]},\"id\":\"1797da7e-492a-4665-878b-29199effd90f\",\"type\":\"LegendItem\"},{\"attributes\":{\"data_source\":{\"id\":\"da1e4e08-f9db-42f7-b647-a18b5689a0b0\",\"type\":\"ColumnDataSource\"},\"glyph\":{\"id\":\"b90a9aca-a0ac-4225-ae53-9e4156ce92d6\",\"type\":\"CircleCross\"},\"hover_glyph\":null,\"muted_glyph\":null,\"nonselection_glyph\":{\"id\":\"f05a95fa-8afd-45d3-9832-3fa7997eba2d\",\"type\":\"CircleCross\"},\"selection_glyph\":null,\"view\":{\"id\":\"103d8698-760c-4f31-896c-37a2c3cd8b35\",\"type\":\"CDSView\"}},\"id\":\"f0a36a6e-7627-49f2-8cca-48c09925ee1d\",\"type\":\"GlyphRenderer\"},{\"attributes\":{\"source\":{\"id\":\"e76e501c-c267-48bf-acf8-8c90f3e7d8dd\",\"type\":\"ColumnDataSource\"}},\"id\":\"ac486dae-338c-4c80-9751-1e7c9ef363ad\",\"type\":\"CDSView\"},{\"attributes\":{\"active_drag\":\"auto\",\"active_inspect\":\"auto\",\"active_scroll\":\"auto\",\"active_tap\":\"auto\",\"tools\":[{\"id\":\"017516cf-f83e-4565-9e58-c1bd4d33bd57\",\"type\":\"PanTool\"},{\"id\":\"0f56f44e-731a-4b06-83a3-6c37e7ca4038\",\"type\":\"WheelZoomTool\"},{\"id\":\"5a33b6a0-f64b-4710-a446-5999f51e373d\",\"type\":\"BoxZoomTool\"},{\"id\":\"efbe8901-21b3-4977-ad7f-34b042486063\",\"type\":\"SaveTool\"},{\"id\":\"f964b4bb-c16a-429b-8634-d7043ab59bad\",\"type\":\"ResetTool\"},{\"id\":\"7eb8685c-078c-4286-ab3c-15d4e14afe47\",\"type\":\"HelpTool\"}]},\"id\":\"954d813b-9dc1-4c8a-bc12-40cdc718e825\",\"type\":\"Toolbar\"},{\"attributes\":{},\"id\":\"d7a0315d-9da6-4da4-80da-3e8ee4689a83\",\"type\":\"UnionRenderers\"},{\"attributes\":{\"callback\":null,\"end\":7},\"id\":\"ff568726-9e14-45a5-9c67-f0bb57ce83a8\",\"type\":\"Range1d\"},{\"attributes\":{},\"id\":\"37232f8c-771c-4369-921e-88e4a7af19bf\",\"type\":\"Selection\"},{\"attributes\":{\"fill_alpha\":{\"value\":0.5},\"fill_color\":{\"value\":\"#1f77b4\"},\"line_alpha\":{\"value\":0.5},\"line_color\":{\"value\":\"#1f77b4\"},\"size\":{\"units\":\"screen\",\"value\":30},\"x\":{\"value\":1},\"y\":{\"value\":1}},\"id\":\"b90a9aca-a0ac-4225-ae53-9e4156ce92d6\",\"type\":\"CircleCross\"},{\"attributes\":{\"data_source\":{\"id\":\"e76e501c-c267-48bf-acf8-8c90f3e7d8dd\",\"type\":\"ColumnDataSource\"},\"glyph\":{\"id\":\"5901f692-a9f1-415f-9e16-6a6f9ec40c35\",\"type\":\"Square\"},\"hover_glyph\":null,\"muted_glyph\":null,\"nonselection_glyph\":{\"id\":\"0ec309ab-9544-4261-8ca7-d5446160806a\",\"type\":\"Square\"},\"selection_glyph\":null,\"view\":{\"id\":\"ac486dae-338c-4c80-9751-1e7c9ef363ad\",\"type\":\"CDSView\"}},\"id\":\"0a6e8ab7-d72d-4f80-82ad-8833064ee7ce\",\"type\":\"GlyphRenderer\"},{\"attributes\":{},\"id\":\"1250a4bf-1acd-4331-afc6-01c6dd57ba0a\",\"type\":\"LinearScale\"},{\"attributes\":{\"fill_alpha\":{\"value\":0.1},\"fill_color\":{\"value\":\"#1f77b4\"},\"line_alpha\":{\"value\":0.1},\"line_color\":{\"value\":\"#1f77b4\"},\"size\":{\"units\":\"screen\",\"value\":30},\"x\":{\"value\":2},\"y\":{\"value\":2}},\"id\":\"0ec309ab-9544-4261-8ca7-d5446160806a\",\"type\":\"Square\"},{\"attributes\":{},\"id\":\"9c987f40-36c4-471d-9856-4d577ab5c994\",\"type\":\"LinearScale\"},{\"attributes\":{\"label\":{\"value\":\"inverted_triangle\"},\"renderers\":[{\"id\":\"035b03b9-0781-4588-9375-77160acf0323\",\"type\":\"GlyphRenderer\"}]},\"id\":\"ada579d7-b606-4e29-89d1-e79f76e19114\",\"type\":\"LegendItem\"},{\"attributes\":{\"plot\":{\"id\":\"eb0cf571-50f9-444f-875f-2510f51f754d\",\"subtype\":\"Figure\",\"type\":\"Plot\"},\"ticker\":{\"id\":\"95447b25-3dfe-437b-905c-dcbf4e4287e5\",\"type\":\"BasicTicker\"}},\"id\":\"f37aec9b-082e-4ba0-83aa-4ff5e42f6c22\",\"type\":\"Grid\"},{\"attributes\":{\"callback\":null,\"data\":{},\"selected\":{\"id\":\"2735c6cb-187c-41c7-9439-5180a56b0de8\",\"type\":\"Selection\"},\"selection_policy\":{\"id\":\"2984a007-c77e-41d6-946a-4b8c36ea10e5\",\"type\":\"UnionRenderers\"}},\"id\":\"f3b6d002-2dcc-4c29-ac10-d270b4cc2740\",\"type\":\"ColumnDataSource\"},{\"attributes\":{\"formatter\":{\"id\":\"8dd87256-5d65-4f8c-9a6a-89c68001f9b3\",\"type\":\"BasicTickFormatter\"},\"plot\":{\"id\":\"eb0cf571-50f9-444f-875f-2510f51f754d\",\"subtype\":\"Figure\",\"type\":\"Plot\"},\"ticker\":{\"id\":\"95447b25-3dfe-437b-905c-dcbf4e4287e5\",\"type\":\"BasicTicker\"}},\"id\":\"2cfa531a-1a9f-40b9-b8d5-a15a198c2111\",\"type\":\"LinearAxis\"},{\"attributes\":{\"fill_alpha\":{\"value\":0.5},\"fill_color\":{\"value\":\"#1f77b4\"},\"line_alpha\":{\"value\":0.5},\"line_color\":{\"value\":\"#1f77b4\"},\"size\":{\"units\":\"screen\",\"value\":30},\"x\":{\"value\":2},\"y\":{\"value\":2}},\"id\":\"5901f692-a9f1-415f-9e16-6a6f9ec40c35\",\"type\":\"Square\"},{\"attributes\":{},\"id\":\"95447b25-3dfe-437b-905c-dcbf4e4287e5\",\"type\":\"BasicTicker\"},{\"attributes\":{\"callback\":null,\"data\":{},\"selected\":{\"id\":\"fdf7a98c-5083-4877-a226-4721186cd1b4\",\"type\":\"Selection\"},\"selection_policy\":{\"id\":\"5959b655-ee6e-443f-88b3-5772fd3492f0\",\"type\":\"UnionRenderers\"}},\"id\":\"da53b2b6-30d7-4c7c-9ce8-9e6eff3208a4\",\"type\":\"ColumnDataSource\"},{\"attributes\":{\"formatter\":{\"id\":\"d90d77cc-7cad-4b15-b8a3-f73813cc2058\",\"type\":\"BasicTickFormatter\"},\"plot\":{\"id\":\"eb0cf571-50f9-444f-875f-2510f51f754d\",\"subtype\":\"Figure\",\"type\":\"Plot\"},\"ticker\":{\"id\":\"11dfe312-e3e2-4061-87e1-52384ab53754\",\"type\":\"BasicTicker\"}},\"id\":\"90805f9b-e7b0-47d3-a7cd-041b4d4ea1ca\",\"type\":\"LinearAxis\"},{\"attributes\":{},\"id\":\"21fe16ed-5a9f-46b3-944c-2da4b5441992\",\"type\":\"UnionRenderers\"},{\"attributes\":{},\"id\":\"11dfe312-e3e2-4061-87e1-52384ab53754\",\"type\":\"BasicTicker\"},{\"attributes\":{},\"id\":\"7a97ef07-eb2f-40c5-8283-7635f29b7429\",\"type\":\"Selection\"},{\"attributes\":{\"dimension\":1,\"plot\":{\"id\":\"eb0cf571-50f9-444f-875f-2510f51f754d\",\"subtype\":\"Figure\",\"type\":\"Plot\"},\"ticker\":{\"id\":\"11dfe312-e3e2-4061-87e1-52384ab53754\",\"type\":\"BasicTicker\"}},\"id\":\"8f4df478-91dc-40f9-9f73-69760250cfc7\",\"type\":\"Grid\"},{\"attributes\":{\"data_source\":{\"id\":\"f3b6d002-2dcc-4c29-ac10-d270b4cc2740\",\"type\":\"ColumnDataSource\"},\"glyph\":{\"id\":\"a3ef7218-8fcd-4c77-ac50-e2dad16c0dba\",\"type\":\"SquareCross\"},\"hover_glyph\":null,\"muted_glyph\":null,\"nonselection_glyph\":{\"id\":\"3bfa1ed2-1da0-4566-a1bd-c728330d3477\",\"type\":\"SquareCross\"},\"selection_glyph\":null,\"view\":{\"id\":\"fc765402-5422-4959-9be7-4d5ac39d8eaa\",\"type\":\"CDSView\"}},\"id\":\"adab0fb3-6e0b-434f-8c7b-1584044010c6\",\"type\":\"GlyphRenderer\"},{\"attributes\":{\"fill_alpha\":{\"value\":0.1},\"fill_color\":{\"value\":\"#1f77b4\"},\"line_alpha\":{\"value\":0.1},\"line_color\":{\"value\":\"#1f77b4\"},\"size\":{\"units\":\"screen\",\"value\":30},\"x\":{\"value\":1},\"y\":{\"value\":1}},\"id\":\"f05a95fa-8afd-45d3-9832-3fa7997eba2d\",\"type\":\"CircleCross\"},{\"attributes\":{\"fill_alpha\":{\"value\":0.1},\"fill_color\":{\"value\":\"#1f77b4\"},\"line_alpha\":{\"value\":0.1},\"line_color\":{\"value\":\"#1f77b4\"},\"size\":{\"units\":\"screen\",\"value\":30},\"x\":{\"value\":2},\"y\":{\"value\":3}},\"id\":\"3bfa1ed2-1da0-4566-a1bd-c728330d3477\",\"type\":\"SquareCross\"},{\"attributes\":{},\"id\":\"ed65a7ae-fdbb-4d43-9a73-9d57765b9f90\",\"type\":\"Selection\"},{\"attributes\":{\"fill_alpha\":{\"value\":0.5},\"fill_color\":{\"value\":\"#1f77b4\"},\"line_alpha\":{\"value\":0.5},\"line_color\":{\"value\":\"#1f77b4\"},\"size\":{\"units\":\"screen\",\"value\":30},\"x\":{\"value\":2},\"y\":{\"value\":3}},\"id\":\"a3ef7218-8fcd-4c77-ac50-e2dad16c0dba\",\"type\":\"SquareCross\"},{\"attributes\":{\"callback\":null,\"data\":{},\"selected\":{\"id\":\"cf8993d0-cd03-4755-89e3-27f8a1c188de\",\"type\":\"Selection\"},\"selection_policy\":{\"id\":\"c6635d4d-e555-4cec-a8ce-d1245fcbce26\",\"type\":\"UnionRenderers\"}},\"id\":\"81a2c1e8-19f6-46d0-a80a-d5aecaeef0be\",\"type\":\"ColumnDataSource\"},{\"attributes\":{\"source\":{\"id\":\"f3b6d002-2dcc-4c29-ac10-d270b4cc2740\",\"type\":\"ColumnDataSource\"}},\"id\":\"fc765402-5422-4959-9be7-4d5ac39d8eaa\",\"type\":\"CDSView\"},{\"attributes\":{\"label\":{\"value\":\"cross\"},\"renderers\":[{\"id\":\"ee722355-3ae9-4a51-ac36-9742091717ef\",\"type\":\"GlyphRenderer\"}]},\"id\":\"ac8f3ba8-1a4b-4321-a6c1-e4fc2e018bce\",\"type\":\"LegendItem\"},{\"attributes\":{\"label\":{\"value\":\"square\"},\"renderers\":[{\"id\":\"0a6e8ab7-d72d-4f80-82ad-8833064ee7ce\",\"type\":\"GlyphRenderer\"}]},\"id\":\"e35d6fe2-dd9e-4fd7-9ef2-6b3431e2db6a\",\"type\":\"LegendItem\"},{\"attributes\":{},\"id\":\"017516cf-f83e-4565-9e58-c1bd4d33bd57\",\"type\":\"PanTool\"},{\"attributes\":{\"fill_alpha\":{\"value\":0.5},\"fill_color\":{\"value\":\"#1f77b4\"},\"line_alpha\":{\"value\":0.5},\"line_color\":{\"value\":\"#1f77b4\"},\"size\":{\"units\":\"screen\",\"value\":30},\"x\":{\"value\":2},\"y\":{\"value\":4}},\"id\":\"138fc9f4-c7a1-46d9-93af-7eb4452af061\",\"type\":\"SquareX\"},{\"attributes\":{},\"id\":\"7eb8685c-078c-4286-ab3c-15d4e14afe47\",\"type\":\"HelpTool\"},{\"attributes\":{},\"id\":\"449c2e71-0091-4a79-9c5b-a47d0a33087b\",\"type\":\"UnionRenderers\"},{\"attributes\":{},\"id\":\"0f56f44e-731a-4b06-83a3-6c37e7ca4038\",\"type\":\"WheelZoomTool\"},{\"attributes\":{\"data_source\":{\"id\":\"da53b2b6-30d7-4c7c-9ce8-9e6eff3208a4\",\"type\":\"ColumnDataSource\"},\"glyph\":{\"id\":\"138fc9f4-c7a1-46d9-93af-7eb4452af061\",\"type\":\"SquareX\"},\"hover_glyph\":null,\"muted_glyph\":null,\"nonselection_glyph\":{\"id\":\"0086c15b-1f0d-4d9c-a058-7a127076cf85\",\"type\":\"SquareX\"},\"selection_glyph\":null,\"view\":{\"id\":\"3eb5206a-8b42-4af2-8582-f0ea84d3d13e\",\"type\":\"CDSView\"}},\"id\":\"218f39e0-56af-42b5-872c-278e049688a4\",\"type\":\"GlyphRenderer\"},{\"attributes\":{\"overlay\":{\"id\":\"70a0a540-4858-4f49-a213-aa9546ad32cb\",\"type\":\"BoxAnnotation\"}},\"id\":\"5a33b6a0-f64b-4710-a446-5999f51e373d\",\"type\":\"BoxZoomTool\"},{\"attributes\":{\"callback\":null,\"data\":{},\"selected\":{\"id\":\"0a0041e1-bc3e-4c37-ac36-6b6abc195052\",\"type\":\"Selection\"},\"selection_policy\":{\"id\":\"b13620c9-d0d1-4d33-a44b-f74582bd7110\",\"type\":\"UnionRenderers\"}},\"id\":\"5cd1e930-4e66-42e8-9642-090c418df3c6\",\"type\":\"ColumnDataSource\"},{\"attributes\":{},\"id\":\"efbe8901-21b3-4977-ad7f-34b042486063\",\"type\":\"SaveTool\"},{\"attributes\":{},\"id\":\"f964b4bb-c16a-429b-8634-d7043ab59bad\",\"type\":\"ResetTool\"}],\"root_ids\":[\"eb0cf571-50f9-444f-875f-2510f51f754d\"]},\"title\":\"Bokeh Application\",\"version\":\"0.12.16\"}};\n",
       "  var render_items = [{\"docid\":\"a5df293c-5073-4fdf-91b8-02b1455fbb2a\",\"elementid\":\"89682a49-890b-425f-958e-44724fe2a866\",\"modelid\":\"eb0cf571-50f9-444f-875f-2510f51f754d\"}];\n",
       "  root.Bokeh.embed.embed_items_notebook(docs_json, render_items);\n",
       "\n",
       "  }\n",
       "  if (root.Bokeh !== undefined) {\n",
       "    embed_document(root);\n",
       "  } else {\n",
       "    var attempts = 0;\n",
       "    var timer = setInterval(function(root) {\n",
       "      if (root.Bokeh !== undefined) {\n",
       "        embed_document(root);\n",
       "        clearInterval(timer);\n",
       "      }\n",
       "      attempts++;\n",
       "      if (attempts > 100) {\n",
       "        console.log(\"Bokeh: ERROR: Unable to run BokehJS code because BokehJS library is missing\")\n",
       "        clearInterval(timer);\n",
       "      }\n",
       "    }, 10, root)\n",
       "  }\n",
       "})(window);"
      ],
      "application/vnd.bokehjs_exec.v0+json": ""
     },
     "metadata": {
      "application/vnd.bokehjs_exec.v0+json": {
       "id": "eb0cf571-50f9-444f-875f-2510f51f754d"
      }
     },
     "output_type": "display_data"
    }
   ],
   "source": [
    "# 3、不同符号的散点图\n",
    "# asterisk(), circle(), circle_cross(), circle_x(), cross(), diamond(), diamond_cross(), inverted_triangle()\n",
    "# square(), square_cross(), square_x(), triangle(), x()\n",
    "\n",
    "p = figure(plot_width=600, plot_height=400,x_range = [0,3], y_range = [0,7])\n",
    "\n",
    "p.circle_cross(1, 1, size = 30, alpha = 0.5, legend = 'circle_cross')\n",
    "p.asterisk(1, 2, size = 30, alpha = 0.5, legend = 'asterisk')\n",
    "p.circle_x(1, 3, size = 30, alpha = 0.5, legend = 'circle_x')\n",
    "p.cross(1, 4, size = 30, alpha = 0.5, legend = 'cross')\n",
    "p.diamond(1, 5, size = 30, alpha = 0.5, legend = 'diamond')\n",
    "p.diamond_cross(1, 6, size = 30, alpha = 0.5, legend = 'diamond_cross')\n",
    "p.inverted_triangle(2, 1, size = 30, alpha = 0.5, legend = 'inverted_triangle')\n",
    "p.square(2, 2, size = 30, alpha = 0.5, legend = 'square')\n",
    "p.square_cross(2, 3, size = 30, alpha = 0.5, legend = 'square_cross')\n",
    "p.square_x(2, 4, size = 30, alpha = 0.5, legend = 'square_x')\n",
    "p.triangle(2, 5, size = 30, alpha = 0.5, legend = 'triangle')\n",
    "p.x(2, 6, size = 30, alpha = 0.5, legend = 'x')\n",
    "\n",
    "p.legend.location = \"bottom_right\"\n",
    "# 设置图例位置\n",
    "\n",
    "show(p)\n",
    "# 详细参数可参考文档：http://bokeh.pydata.org/en/latest/docs/reference/plotting.html#bokeh.plotting.figure.Figure.circle"
   ]
  },
  {
   "cell_type": "code",
   "execution_count": 49,
   "metadata": {
    "collapsed": true
   },
   "outputs": [],
   "source": [
    "### 折线图"
   ]
  },
  {
   "cell_type": "code",
   "execution_count": 50,
   "metadata": {},
   "outputs": [
    {
     "data": {
      "text/html": [
       "\n",
       "<div class=\"bk-root\">\n",
       "    <div class=\"bk-plotdiv\" id=\"68beb8f3-5f66-4746-8f5c-ec1c1461d226\"></div>\n",
       "</div>"
      ]
     },
     "metadata": {},
     "output_type": "display_data"
    },
    {
     "data": {
      "application/javascript": [
       "(function(root) {\n",
       "  function embed_document(root) {\n",
       "    \n",
       "  var docs_json = {\"fc0576cb-a899-43a0-a7c4-28ffeb5f5025\":{\"roots\":{\"references\":[{\"attributes\":{\"callback\":null,\"data\":{\"index\":[0,1,2,3,4,5,6,7,8,9,10,11,12,13,14,15,16,17,18,19,20,21,22,23,24,25,26,27,28,29,30,31,32,33,34,35,36,37,38,39,40,41,42,43,44,45,46,47,48,49,50,51,52,53,54,55,56,57,58,59,60,61,62,63,64,65,66,67,68,69,70,71,72,73,74,75,76,77,78,79,80,81,82,83,84,85,86,87,88,89,90,91,92,93,94,95,96,97,98,99],\"value\":{\"__ndarray__\":\"qRFn/M5l9r/eUsWcmHQKwJ4VRboqOQvAhAfmhk737b/84gtg92fjP7yZzIwLCN4/skNRplsv1T8yoAgCr/zpP0zn/fouQPM/Cg7V2EQM/z9q2uvzEAz9P1Qq+Zx/GhFA/vZL1SZ9E0CkwxOjPp8QQIbu4ECL8BJAkHXG2a/sF0CH9RT4VvcSQAECErL9xQdAA8oR3ejZAEDFljPYbR0HQEla8H4ZLwFA8G9q5V87/j+4exjW4UgLQDYXgq+XthBA6cQ0+W46FEALA3N4CHIUQKpBhAXSPxJAT1sbg6+1FUD37C1myKkaQFLrnq9hfxhAmD1llOGxFkB1RSp9tFoUQB+jWNCw9hFAiQnjdbTiFEBTH3iw6NoSQE2ySpNr/RBAPYqwmmdaEEDMSAX7IW8TQG05FmcCVRFALJF2meI1EUBWMZIrChYQQHpqFstRPANAUBcikGbH3T/u2wpAMPvUPxA9sHRVA/k/yJIGjv3t5b8mMHRmGl7nv+RWNoJ239+/i05IBhrD8T+UkeRv5d39PwwE+vvgGgpAVRI4sIzvBEBqjLFLuI38P4jORGQnc+A/ZF4vnfCt0r/8zy3yBHzrP4e1WyaUuOk/d4aoBXgy3D/6GhPJcksHQCnVmkD6JgxAvJLYAyWdBUAWpbbU4koMQFuxOzBJMhRAc0WAiParIECr4zGSA88hQI7j7Tw2ax9A8A8JRhlCGkDhVhc7NTYaQPlTACaNxhRAf7+WKXscF0AqzH+bXEQWQNKGqE6UsBFAK2TseGPREECU9Ac+xgIXQIfuUs0W5xBAqR/OuqUSCUCs/+C/tIT7P6CoJ73QyPc/hmaerJec6z9w7cYxU1brv7eIQ3oTMfy/T171DnyY6r/5IFj3YOnnP7HGd+o39+W/88WI4Zmo1r9ri6bta0vSP3lwJFh6n96/1uhSZXg1zL/ANkVcl1jQvyZHuG73gtM/ZaZmW18WAEBqv4V1kSYAQC7iTIwDxghA6cL+uEjKA0D69G91qe8PQHhoMtmkuhBALZZvYM7uEkB4DKNDpD0MQMi/CePNifc/Zm000Q9lBEA=\",\"dtype\":\"float64\",\"shape\":[100]}},\"selected\":{\"id\":\"1da3aaa0-0992-4bcf-8001-1ffbbf0b0bde\",\"type\":\"Selection\"},\"selection_policy\":{\"id\":\"615186fd-b294-48a0-967e-c1baca892a9e\",\"type\":\"UnionRenderers\"}},\"id\":\"d724dbee-56f1-44c0-b909-d1842efac26a\",\"type\":\"ColumnDataSource\"},{\"attributes\":{\"data_source\":{\"id\":\"d724dbee-56f1-44c0-b909-d1842efac26a\",\"type\":\"ColumnDataSource\"},\"glyph\":{\"id\":\"4d8d18ba-4b65-474c-b59d-cad855674195\",\"type\":\"Circle\"},\"hover_glyph\":null,\"muted_glyph\":null,\"nonselection_glyph\":{\"id\":\"d71b49e9-dee6-419c-ae59-02d182796f01\",\"type\":\"Circle\"},\"selection_glyph\":null,\"view\":{\"id\":\"0acdc7fc-cd2c-4385-b57a-4f7c215eeb8b\",\"type\":\"CDSView\"}},\"id\":\"71b23f1d-47c9-41cc-b68e-390ac562485e\",\"type\":\"GlyphRenderer\"},{\"attributes\":{\"callback\":null},\"id\":\"f5a99895-8374-4d72-abb7-38a8c2b6c5c8\",\"type\":\"DataRange1d\"},{\"attributes\":{},\"id\":\"0051a724-6e89-4ead-a7af-709a0ff0f2cc\",\"type\":\"LinearScale\"},{\"attributes\":{},\"id\":\"e572417a-0a8d-49ac-a337-d13126a40260\",\"type\":\"BasicTickFormatter\"},{\"attributes\":{\"source\":{\"id\":\"d724dbee-56f1-44c0-b909-d1842efac26a\",\"type\":\"ColumnDataSource\"}},\"id\":\"0acdc7fc-cd2c-4385-b57a-4f7c215eeb8b\",\"type\":\"CDSView\"},{\"attributes\":{\"source\":{\"id\":\"d724dbee-56f1-44c0-b909-d1842efac26a\",\"type\":\"ColumnDataSource\"}},\"id\":\"38b4db76-bada-47a0-8d8d-061aeb9f4d82\",\"type\":\"CDSView\"},{\"attributes\":{},\"id\":\"615186fd-b294-48a0-967e-c1baca892a9e\",\"type\":\"UnionRenderers\"},{\"attributes\":{\"fill_alpha\":{\"value\":0.8},\"fill_color\":{\"value\":\"red\"},\"line_alpha\":{\"value\":0.8},\"line_color\":{\"value\":\"red\"},\"size\":{\"units\":\"screen\",\"value\":2},\"x\":{\"field\":\"index\"},\"y\":{\"field\":\"value\"}},\"id\":\"4d8d18ba-4b65-474c-b59d-cad855674195\",\"type\":\"Circle\"},{\"attributes\":{\"data_source\":{\"id\":\"d724dbee-56f1-44c0-b909-d1842efac26a\",\"type\":\"ColumnDataSource\"},\"glyph\":{\"id\":\"7fcbb2dc-1ded-4a08-b215-e30ef0665978\",\"type\":\"Line\"},\"hover_glyph\":null,\"muted_glyph\":null,\"nonselection_glyph\":{\"id\":\"3a84a73b-d053-466b-aa66-5a5998f6dbda\",\"type\":\"Line\"},\"selection_glyph\":null,\"view\":{\"id\":\"38b4db76-bada-47a0-8d8d-061aeb9f4d82\",\"type\":\"CDSView\"}},\"id\":\"5ded2075-0a20-4ee8-9366-d8ca48df1183\",\"type\":\"GlyphRenderer\"},{\"attributes\":{\"dimension\":1,\"plot\":{\"id\":\"fd5acd2f-495d-4d68-a4a9-f7c252e737f9\",\"subtype\":\"Figure\",\"type\":\"Plot\"},\"ticker\":{\"id\":\"49c00c0b-6dc7-4ccf-9fde-cf3d2aa24c8f\",\"type\":\"BasicTicker\"}},\"id\":\"53c7e6c9-193a-49a9-958f-64b66becef20\",\"type\":\"Grid\"},{\"attributes\":{\"plot\":null,\"text\":\"\"},\"id\":\"b15968b5-5b82-40d5-aa93-2d67b0219ee9\",\"type\":\"Title\"},{\"attributes\":{},\"id\":\"49c00c0b-6dc7-4ccf-9fde-cf3d2aa24c8f\",\"type\":\"BasicTicker\"},{\"attributes\":{\"fill_alpha\":{\"value\":0.1},\"fill_color\":{\"value\":\"#1f77b4\"},\"line_alpha\":{\"value\":0.1},\"line_color\":{\"value\":\"#1f77b4\"},\"size\":{\"units\":\"screen\",\"value\":2},\"x\":{\"field\":\"index\"},\"y\":{\"field\":\"value\"}},\"id\":\"d71b49e9-dee6-419c-ae59-02d182796f01\",\"type\":\"Circle\"},{\"attributes\":{},\"id\":\"adbd25e6-9ccc-43ad-b394-592385d43112\",\"type\":\"ResetTool\"},{\"attributes\":{},\"id\":\"b65ae2c7-5a6b-4798-a5ff-a8ee8f34da06\",\"type\":\"BasicTickFormatter\"},{\"attributes\":{\"below\":[{\"id\":\"aee6f10f-7b7c-439d-8315-4df7418f04ff\",\"type\":\"LinearAxis\"}],\"left\":[{\"id\":\"dc48229c-2ca7-444f-b47b-a2a8dbaf7ebe\",\"type\":\"LinearAxis\"}],\"plot_height\":400,\"renderers\":[{\"id\":\"aee6f10f-7b7c-439d-8315-4df7418f04ff\",\"type\":\"LinearAxis\"},{\"id\":\"6592e371-9537-4600-acb2-51fd4df3b12a\",\"type\":\"Grid\"},{\"id\":\"dc48229c-2ca7-444f-b47b-a2a8dbaf7ebe\",\"type\":\"LinearAxis\"},{\"id\":\"53c7e6c9-193a-49a9-958f-64b66becef20\",\"type\":\"Grid\"},{\"id\":\"a66f0364-d85e-40f9-b145-d088fd810f06\",\"type\":\"BoxAnnotation\"},{\"id\":\"5ded2075-0a20-4ee8-9366-d8ca48df1183\",\"type\":\"GlyphRenderer\"},{\"id\":\"71b23f1d-47c9-41cc-b68e-390ac562485e\",\"type\":\"GlyphRenderer\"}],\"title\":{\"id\":\"b15968b5-5b82-40d5-aa93-2d67b0219ee9\",\"type\":\"Title\"},\"toolbar\":{\"id\":\"e086ad10-bb8e-49fb-ae7d-8fa72120c0de\",\"type\":\"Toolbar\"},\"x_range\":{\"id\":\"58e7bff0-3c36-46f6-8e75-b5f320df10b8\",\"type\":\"DataRange1d\"},\"x_scale\":{\"id\":\"0051a724-6e89-4ead-a7af-709a0ff0f2cc\",\"type\":\"LinearScale\"},\"y_range\":{\"id\":\"f5a99895-8374-4d72-abb7-38a8c2b6c5c8\",\"type\":\"DataRange1d\"},\"y_scale\":{\"id\":\"dcb4d8cf-82ff-4586-a1c4-c44832df1317\",\"type\":\"LinearScale\"}},\"id\":\"fd5acd2f-495d-4d68-a4a9-f7c252e737f9\",\"subtype\":\"Figure\",\"type\":\"Plot\"},{\"attributes\":{\"formatter\":{\"id\":\"b65ae2c7-5a6b-4798-a5ff-a8ee8f34da06\",\"type\":\"BasicTickFormatter\"},\"plot\":{\"id\":\"fd5acd2f-495d-4d68-a4a9-f7c252e737f9\",\"subtype\":\"Figure\",\"type\":\"Plot\"},\"ticker\":{\"id\":\"49c00c0b-6dc7-4ccf-9fde-cf3d2aa24c8f\",\"type\":\"BasicTicker\"}},\"id\":\"dc48229c-2ca7-444f-b47b-a2a8dbaf7ebe\",\"type\":\"LinearAxis\"},{\"attributes\":{},\"id\":\"1da3aaa0-0992-4bcf-8001-1ffbbf0b0bde\",\"type\":\"Selection\"},{\"attributes\":{\"line_alpha\":0.1,\"line_color\":\"#1f77b4\",\"line_dash\":[10,4],\"x\":{\"field\":\"index\"},\"y\":{\"field\":\"value\"}},\"id\":\"3a84a73b-d053-466b-aa66-5a5998f6dbda\",\"type\":\"Line\"},{\"attributes\":{\"line_alpha\":0.8,\"line_dash\":[10,4],\"x\":{\"field\":\"index\"},\"y\":{\"field\":\"value\"}},\"id\":\"7fcbb2dc-1ded-4a08-b215-e30ef0665978\",\"type\":\"Line\"},{\"attributes\":{\"plot\":{\"id\":\"fd5acd2f-495d-4d68-a4a9-f7c252e737f9\",\"subtype\":\"Figure\",\"type\":\"Plot\"},\"ticker\":{\"id\":\"4ff18324-4862-4d27-b101-2f93ced04a0b\",\"type\":\"BasicTicker\"}},\"id\":\"6592e371-9537-4600-acb2-51fd4df3b12a\",\"type\":\"Grid\"},{\"attributes\":{},\"id\":\"442f6318-e4c5-4048-98aa-d7f30a6aa34c\",\"type\":\"PanTool\"},{\"attributes\":{},\"id\":\"4ff18324-4862-4d27-b101-2f93ced04a0b\",\"type\":\"BasicTicker\"},{\"attributes\":{},\"id\":\"bb84540c-b010-49a4-8f28-303707f946ff\",\"type\":\"SaveTool\"},{\"attributes\":{\"formatter\":{\"id\":\"e572417a-0a8d-49ac-a337-d13126a40260\",\"type\":\"BasicTickFormatter\"},\"plot\":{\"id\":\"fd5acd2f-495d-4d68-a4a9-f7c252e737f9\",\"subtype\":\"Figure\",\"type\":\"Plot\"},\"ticker\":{\"id\":\"4ff18324-4862-4d27-b101-2f93ced04a0b\",\"type\":\"BasicTicker\"}},\"id\":\"aee6f10f-7b7c-439d-8315-4df7418f04ff\",\"type\":\"LinearAxis\"},{\"attributes\":{\"overlay\":{\"id\":\"a66f0364-d85e-40f9-b145-d088fd810f06\",\"type\":\"BoxAnnotation\"}},\"id\":\"b4dbbb2a-2ade-4a0a-9857-8d01ff940317\",\"type\":\"BoxZoomTool\"},{\"attributes\":{},\"id\":\"dcb4d8cf-82ff-4586-a1c4-c44832df1317\",\"type\":\"LinearScale\"},{\"attributes\":{\"active_drag\":\"auto\",\"active_inspect\":\"auto\",\"active_scroll\":\"auto\",\"active_tap\":\"auto\",\"tools\":[{\"id\":\"442f6318-e4c5-4048-98aa-d7f30a6aa34c\",\"type\":\"PanTool\"},{\"id\":\"431746b9-b329-4cb7-9f63-39f4b13faf5b\",\"type\":\"WheelZoomTool\"},{\"id\":\"b4dbbb2a-2ade-4a0a-9857-8d01ff940317\",\"type\":\"BoxZoomTool\"},{\"id\":\"bb84540c-b010-49a4-8f28-303707f946ff\",\"type\":\"SaveTool\"},{\"id\":\"adbd25e6-9ccc-43ad-b394-592385d43112\",\"type\":\"ResetTool\"},{\"id\":\"6a08894e-985c-4c48-bf40-5d13eb1d9e6c\",\"type\":\"HelpTool\"}]},\"id\":\"e086ad10-bb8e-49fb-ae7d-8fa72120c0de\",\"type\":\"Toolbar\"},{\"attributes\":{},\"id\":\"6a08894e-985c-4c48-bf40-5d13eb1d9e6c\",\"type\":\"HelpTool\"},{\"attributes\":{},\"id\":\"431746b9-b329-4cb7-9f63-39f4b13faf5b\",\"type\":\"WheelZoomTool\"},{\"attributes\":{\"callback\":null},\"id\":\"58e7bff0-3c36-46f6-8e75-b5f320df10b8\",\"type\":\"DataRange1d\"},{\"attributes\":{\"bottom_units\":\"screen\",\"fill_alpha\":{\"value\":0.5},\"fill_color\":{\"value\":\"lightgrey\"},\"left_units\":\"screen\",\"level\":\"overlay\",\"line_alpha\":{\"value\":1.0},\"line_color\":{\"value\":\"black\"},\"line_dash\":[4,4],\"line_width\":{\"value\":2},\"plot\":null,\"render_mode\":\"css\",\"right_units\":\"screen\",\"top_units\":\"screen\"},\"id\":\"a66f0364-d85e-40f9-b145-d088fd810f06\",\"type\":\"BoxAnnotation\"}],\"root_ids\":[\"fd5acd2f-495d-4d68-a4a9-f7c252e737f9\"]},\"title\":\"Bokeh Application\",\"version\":\"0.12.16\"}};\n",
       "  var render_items = [{\"docid\":\"fc0576cb-a899-43a0-a7c4-28ffeb5f5025\",\"elementid\":\"68beb8f3-5f66-4746-8f5c-ec1c1461d226\",\"modelid\":\"fd5acd2f-495d-4d68-a4a9-f7c252e737f9\"}];\n",
       "  root.Bokeh.embed.embed_items_notebook(docs_json, render_items);\n",
       "\n",
       "  }\n",
       "  if (root.Bokeh !== undefined) {\n",
       "    embed_document(root);\n",
       "  } else {\n",
       "    var attempts = 0;\n",
       "    var timer = setInterval(function(root) {\n",
       "      if (root.Bokeh !== undefined) {\n",
       "        embed_document(root);\n",
       "        clearInterval(timer);\n",
       "      }\n",
       "      attempts++;\n",
       "      if (attempts > 100) {\n",
       "        console.log(\"Bokeh: ERROR: Unable to run BokehJS code because BokehJS library is missing\")\n",
       "        clearInterval(timer);\n",
       "      }\n",
       "    }, 10, root)\n",
       "  }\n",
       "})(window);"
      ],
      "application/vnd.bokehjs_exec.v0+json": ""
     },
     "metadata": {
      "application/vnd.bokehjs_exec.v0+json": {
       "id": "fd5acd2f-495d-4d68-a4a9-f7c252e737f9"
      }
     },
     "output_type": "display_data"
    }
   ],
   "source": [
    "# 1、折线图 - 单线图\n",
    "\n",
    "from bokeh.models import ColumnDataSource\n",
    "# 导入ColumnDataSource模块\n",
    "# 将数据存储为ColumnDataSource对象\n",
    "# 参考文档：http://bokeh.pydata.org/en/latest/docs/user_guide/data.html\n",
    "# 可以将dict、Dataframe、group对象转化为ColumnDataSource对象\n",
    "\n",
    "df = pd.DataFrame({'value':np.random.randn(100).cumsum()})\n",
    "# 创建数据\n",
    "\n",
    "df.index.name = 'index'\n",
    "source = ColumnDataSource(data = df)\n",
    "# 转化为ColumnDataSource对象\n",
    "# 这里注意了，index和columns都必须有名称字段\n",
    "\n",
    "p = figure(plot_width=600, plot_height=400)\n",
    "\n",
    "p.line(x='index',y='value',source = source,     # 设置x，y值, source → 数据源\n",
    "       line_width=1, line_alpha = 0.8, line_color = 'black',line_dash = [10,4])   # 线型基本设置\n",
    "# 绘制折线图\n",
    "p.circle(x='index',y='value',source = source, \n",
    "         size = 2,color = 'red',alpha = 0.8)\n",
    "# 绘制折点\n",
    "\n",
    "show(p)"
   ]
  },
  {
   "cell_type": "markdown",
   "metadata": {},
   "source": [
    "[alt text](https://www.baidu.com)\n",
    "\n",
    "![](http://aliyuntianchipublic.cn-hangzhou.oss-pub.aliyun-inc.com/public/files/image/null/1536648695686_6Z8WZCYHI9.jpg)\n",
    "\n",
    "[天池](https://tianchi.aliyun.com/learn/index.htm?spm=5176.8366600.5610778.9.4a09311fhaxtdc)"
   ]
  },
  {
   "cell_type": "markdown",
   "metadata": {},
   "source": [
    "<https://tianchi.aliyun.com/learn/index.htm?spm=5176.8366600.5610778.9.4a09311fhaxtdc>\n",
    "\n",
    "```markdown\n",
    "###  第三级标题\n",
    "```"
   ]
  },
  {
   "cell_type": "markdown",
   "metadata": {},
   "source": []
  }
 ],
 "metadata": {
  "kernelspec": {
   "display_name": "ML",
   "language": "python",
   "name": "ml"
  },
  "language_info": {
   "codemirror_mode": {
    "name": "ipython",
    "version": 3
   },
   "file_extension": ".py",
   "mimetype": "text/x-python",
   "name": "python",
   "nbconvert_exporter": "python",
   "pygments_lexer": "ipython3",
   "version": "3.6.5"
  }
 },
 "nbformat": 4,
 "nbformat_minor": 2
}
